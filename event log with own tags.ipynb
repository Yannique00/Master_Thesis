{
 "cells": [
  {
   "cell_type": "code",
   "execution_count": 123,
   "metadata": {},
   "outputs": [],
   "source": [
    "import pandas as pd\n",
    "from collections import Counter\n",
    "from itertools import chain\n",
    "import pm4py"
   ]
  },
  {
   "cell_type": "code",
   "execution_count": 124,
   "metadata": {},
   "outputs": [
    {
     "data": {
      "text/html": [
       "<div>\n",
       "<style scoped>\n",
       "    .dataframe tbody tr th:only-of-type {\n",
       "        vertical-align: middle;\n",
       "    }\n",
       "\n",
       "    .dataframe tbody tr th {\n",
       "        vertical-align: top;\n",
       "    }\n",
       "\n",
       "    .dataframe thead th {\n",
       "        text-align: right;\n",
       "    }\n",
       "</style>\n",
       "<table border=\"1\" class=\"dataframe\">\n",
       "  <thead>\n",
       "    <tr style=\"text-align: right;\">\n",
       "      <th></th>\n",
       "      <th>pseudo_id</th>\n",
       "      <th>date</th>\n",
       "      <th>event_tag</th>\n",
       "      <th>verslagen_report_tags</th>\n",
       "      <th>verslagen_report_start_date</th>\n",
       "      <th>topic_tags</th>\n",
       "    </tr>\n",
       "  </thead>\n",
       "  <tbody>\n",
       "    <tr>\n",
       "      <th>0</th>\n",
       "      <td>046D1FFEBDD40E1665D0ABA6DD8FC9F8BC4351C6</td>\n",
       "      <td>2020-11-26 15:06:00</td>\n",
       "      <td>Oraal_Stuk__Tablet_Oraal__Tablet_Oraal_Stuk__K...</td>\n",
       "      <td>Klinische Brief</td>\n",
       "      <td>2020-11-26 15:06:00</td>\n",
       "      <td>['Topic 10']</td>\n",
       "    </tr>\n",
       "    <tr>\n",
       "      <th>1</th>\n",
       "      <td>046D1FFEBDD40E1665D0ABA6DD8FC9F8BC4351C6</td>\n",
       "      <td>2020-11-26 09:53:00</td>\n",
       "      <td>Rectaal_Bloedverlie__Aanvullen_Onderzoek__Over...</td>\n",
       "      <td>Consult, Kliniek: vervolgconsult</td>\n",
       "      <td>2020-11-26 09:53:00</td>\n",
       "      <td>['Topic 15']</td>\n",
       "    </tr>\n",
       "    <tr>\n",
       "      <th>2</th>\n",
       "      <td>046D1FFEBDD40E1665D0ABA6DD8FC9F8BC4351C6</td>\n",
       "      <td>2020-11-25 14:13:00</td>\n",
       "      <td>Outlier</td>\n",
       "      <td>Poliklinische Brief</td>\n",
       "      <td>2020-11-25 14:13:00</td>\n",
       "      <td>['Topic -1']</td>\n",
       "    </tr>\n",
       "    <tr>\n",
       "      <th>3</th>\n",
       "      <td>046D1FFEBDD40E1665D0ABA6DD8FC9F8BC4351C6</td>\n",
       "      <td>2020-11-25 13:48:00</td>\n",
       "      <td>Outlier</td>\n",
       "      <td>Poliklinische Brief</td>\n",
       "      <td>2020-11-25 13:48:00</td>\n",
       "      <td>['Topic -1']</td>\n",
       "    </tr>\n",
       "    <tr>\n",
       "      <th>4</th>\n",
       "      <td>046D1FFEBDD40E1665D0ABA6DD8FC9F8BC4351C6</td>\n",
       "      <td>2020-11-25 08:47:00</td>\n",
       "      <td>Rectaal_Bloedverlie__Aanvullen_Onderzoek__Over...</td>\n",
       "      <td>Consult, Kliniek: vervolgconsult</td>\n",
       "      <td>2020-11-25 08:47:00</td>\n",
       "      <td>['Topic 15']</td>\n",
       "    </tr>\n",
       "  </tbody>\n",
       "</table>\n",
       "</div>"
      ],
      "text/plain": [
       "                                  pseudo_id                 date  \\\n",
       "0  046D1FFEBDD40E1665D0ABA6DD8FC9F8BC4351C6  2020-11-26 15:06:00   \n",
       "1  046D1FFEBDD40E1665D0ABA6DD8FC9F8BC4351C6  2020-11-26 09:53:00   \n",
       "2  046D1FFEBDD40E1665D0ABA6DD8FC9F8BC4351C6  2020-11-25 14:13:00   \n",
       "3  046D1FFEBDD40E1665D0ABA6DD8FC9F8BC4351C6  2020-11-25 13:48:00   \n",
       "4  046D1FFEBDD40E1665D0ABA6DD8FC9F8BC4351C6  2020-11-25 08:47:00   \n",
       "\n",
       "                                           event_tag  \\\n",
       "0  Oraal_Stuk__Tablet_Oraal__Tablet_Oraal_Stuk__K...   \n",
       "1  Rectaal_Bloedverlie__Aanvullen_Onderzoek__Over...   \n",
       "2                                            Outlier   \n",
       "3                                            Outlier   \n",
       "4  Rectaal_Bloedverlie__Aanvullen_Onderzoek__Over...   \n",
       "\n",
       "              verslagen_report_tags verslagen_report_start_date    topic_tags  \n",
       "0                   Klinische Brief         2020-11-26 15:06:00  ['Topic 10']  \n",
       "1  Consult, Kliniek: vervolgconsult         2020-11-26 09:53:00  ['Topic 15']  \n",
       "2               Poliklinische Brief         2020-11-25 14:13:00  ['Topic -1']  \n",
       "3               Poliklinische Brief         2020-11-25 13:48:00  ['Topic -1']  \n",
       "4  Consult, Kliniek: vervolgconsult         2020-11-25 08:47:00  ['Topic 15']  "
      ]
     },
     "execution_count": 124,
     "metadata": {},
     "output_type": "execute_result"
    }
   ],
   "source": [
    "df_verslagen = pd.read_csv('event_log_test.csv')\n",
    "df_verslagen.head()"
   ]
  },
  {
   "cell_type": "code",
   "execution_count": 125,
   "metadata": {},
   "outputs": [
    {
     "name": "stdout",
     "output_type": "stream",
     "text": [
      "Unique tags in df_verslagen:\n",
      "['Klinische Brief' 'Consult, Kliniek: vervolgconsult'\n",
      " 'Poliklinische Brief' 'Spoedeisende Hulp' 'Consult, SEH' 'Consult'\n",
      " 'Consult, Kliniek: eerste consult' 'Consult, Polikliniek: vervolgconsult'\n",
      " 'Consult, Polikliniek: eerste consult' 'Consult, Overige aantekeningen'\n",
      " 'Consult, Telefonisch consult' 'Radiologieverslag, ECG'\n",
      " 'Consult, Thuisbehandeling' 'Consult, Multidisciplinair overleg'\n",
      " 'Algemeen' 'Consult, Dagbehandeling' 'Consult, Intercollegiaal consult'\n",
      " 'Consult, Research' 'Consult, Samenvatting'\n",
      " 'Radiologieverslag, ECG kliniek' 'Radiologieverslag, Heup links'\n",
      " 'Radiologieverslag, CT colonografie']\n"
     ]
    }
   ],
   "source": [
    "unique_tags_df_verslagen = df_verslagen['verslagen_report_tags'].unique()\n",
    "\n",
    "print(\"Unique tags in df_verslagen:\")\n",
    "print(unique_tags_df_verslagen)"
   ]
  },
  {
   "cell_type": "code",
   "execution_count": 126,
   "metadata": {},
   "outputs": [
    {
     "name": "stdout",
     "output_type": "stream",
     "text": [
      "Unique tags in df_verslagen:\n",
      "['Oraal_Stuk__Tablet_Oraal__Tablet_Oraal_Stuk__Kenmerk_Patientid__Kenmerk_Patientid_Betreffen__Patientid_Betreffen__Geb_Birthdate__Geacht_Collega__Initials_Geb_Birthdate__Initials_Geb'\n",
      " 'Rectaal_Bloedverlie__Aanvullen_Onderzoek__Overig_Actie__Hb_Controle__Ferriprief_Anemie__Lichamelijk_Onderzoek__Bloedverlie_Anum__Hd_Stabiel__Beloop_Vpk__Hemoglobine_Mmoll'\n",
      " 'Outlier'\n",
      " 'Indicatie_Aanvraag__Asa_Klasse__Antibiotisch_Profylaxe__Profylaxe_Nvt__Antibiotisch_Profylaxe_Nvt__Cumarinederivaat_Nvt__Aanvrager_Mdlarts__Poliklinisch_Mdlverpleegkundig__Let_Poliklinisch__Let_Poliklinisch_Mdlverpleegkundig'\n",
      " 'Medisch_Dossier__Naam_Functie__Dossier_Vk_Sputovamo__Dossier_Vk__Medisch_Dossier_Vk__Vk_Sputovamo_Leeftijd__Vk_Sputovamo__Registratie_Seh__Dienstdoend_Specialist__Dienstdoend_Specialist_Objectgegeven'\n",
      " 'Triage_Nee__Toediening_Medicatie__Nee_Triage_Nee__Nee_Triage__Triage_Nee_Triage__Verslaglegging_Verantwoordelijk__Verantwoordelijk_Verpleegkundig__Verslaglegging_Verantwoordelijk_Verpleegkundig__Verantwoordelijk_Verpleegkundig_Objectgegeven__Verpleegkundig_Objectgegeven'\n",
      " 'Knoppen_Consult__Knoppen_Consult_Knoppen__Consult_Knoppen__Vervolgconsult_Type_Registratie__Vervolgconsult_Type__Type_Registratie__Consult_Knoppen_Consult__Type_Registratie_Uitbreiden__Registratie_Uitbreiden__Uitbreiden_Verwijzer'\n",
      " 'Beloop_Verpleegkundig__Aantal_Controle__Int_Inge__Internist_Controle__Mdlarts_Aantal__Controle_Int__Controle_Int_Inge__Krijgen_Remicade__Tp_Controle__Mdlarts_Aantal_Controle'\n",
      " 'Gist_Ulcus__Ulcus_Par_Descenden__Ulcus_Par__Gist_Ulcus_Par__Bloedverlie_Gebruik_Clopidogrel__Gebruik_Clopidogrel_Cva__Descenden_Duodeni_Waaruit__Duodeni_Waaruit__Duodeni_Waaruit_Bloedverlie__Par_Descenden_Duodeni'\n",
      " 'Algeheel_Malaise__Int_Knoppen__Lichamelijk_Onderzoek__Atriumfibrilleren_Diabete_Mellitus__Atriumfibrilleren_Diabete__Strumectomie_Paroxismaal__Strumectomie_Paroxismaal_Atriumfibrilleren__Chemotherapie_Volgen_Lobectomie__Volgen_Lobectomie__Chemotherapie_Volgen'\n",
      " 'Progressie_Cll__Opname_Exacerbatie_Copd__Opname_Exacerbatie__Exacerbatie_Copd__Volgen_Venetoclax__Copd_Gold__Cll_Waarvoor__Chronisch_Lymfatisch__Chronisch_Lymfatisch_Leukemie__Lymfatisch_Leukemie'\n",
      " 'Acute_Pancreatitis__Chronisch_Pancreatitis__Knoppen_Consult__Pancreatitis_Alcoholabusus__Visite_Bmd__Vg_Dec_Cordis__Vg_Dec__Dec_Cordis__Whipple_Operatie__Chronisch_Pancreatitis_Alcoholabusus'\n",
      " 'Diabete_Vpk__Diabete_Mellitus__Oraal_Stuk__Diabete_Mellitus_Type__Mellitus_Type__Vervolgconsult_Diabete__Vervolgconsult_Diabete_Vpk__Insulin_Schema__Int_Knoppen__Type_Ii'\n",
      " 'Alcoholisch_Levercirrose__Vg_Dmii_Alcoholabusus__Dmii_Alcoholabusus__Vg_Dmii__Alcoholisch_Levercirrose_Vg__Levercirrose_Vg__Levercirrose_Vg_Dmii__Bloeden_Cardiavarix_Waarvoor__Cardiavarix_Waarvoor__Bloeden_Cardiavarix'\n",
      " 'Diabetisch_Nefropathie__Zegelringcarcinoom_Sigmoid__Oogheelkunen_Diabetisch_Retinopathie__Start_Dialyse_Overvulling__Hypertensie_Nierfunctieverlie__Oogheelkunen_Diabetisch__Acute_Start__Acute_Start_Dialyse__Overvulling_Klacht__Verslechtering_Nierfunctie_Predialyse'\n",
      " 'Basisdosering_Diabete_Lunch__Basisdosering_Diabete__Diabete_Lunch__Lunch_Slapen_Basisdosering__Slapen_Basisdosering_Diabete__Slapen_Basisdosering__Diabete_Lunch_Slapen__Lunch_Slapen__Lunch_Basisdosering_Diabete__Lunch_Basisdosering'\n",
      " 'Graad_Ii__Ductaal_Lobulair_Carcinoom__Invasief_Ductaal_Lobulair__Lobulair_Carcinoom__Invasief_Ductaal__Ductaal_Lobulair__Hormonaal_Therapie__Hemolytisch_Anemie__Ii_Graad__Ii_Pr']\n"
     ]
    }
   ],
   "source": [
    "unique_tags_df_verslagen = df_verslagen['event_tag'].unique()\n",
    "\n",
    "print(\"Unique tags in df_verslagen:\")\n",
    "print(unique_tags_df_verslagen)"
   ]
  },
  {
   "cell_type": "code",
   "execution_count": 127,
   "metadata": {},
   "outputs": [
    {
     "data": {
      "text/html": [
       "<div>\n",
       "<style scoped>\n",
       "    .dataframe tbody tr th:only-of-type {\n",
       "        vertical-align: middle;\n",
       "    }\n",
       "\n",
       "    .dataframe tbody tr th {\n",
       "        vertical-align: top;\n",
       "    }\n",
       "\n",
       "    .dataframe thead th {\n",
       "        text-align: right;\n",
       "    }\n",
       "</style>\n",
       "<table border=\"1\" class=\"dataframe\">\n",
       "  <thead>\n",
       "    <tr style=\"text-align: right;\">\n",
       "      <th></th>\n",
       "      <th>pseudo_id</th>\n",
       "      <th>date</th>\n",
       "      <th>event_tag</th>\n",
       "      <th>verslagen_report_tags</th>\n",
       "      <th>verslagen_report_start_date</th>\n",
       "      <th>topic_tags</th>\n",
       "      <th>new_topic_label</th>\n",
       "    </tr>\n",
       "  </thead>\n",
       "  <tbody>\n",
       "    <tr>\n",
       "      <th>0</th>\n",
       "      <td>046D1FFEBDD40E1665D0ABA6DD8FC9F8BC4351C6</td>\n",
       "      <td>2020-11-26 15:06:00</td>\n",
       "      <td>Oraal_Stuk__Tablet_Oraal__Tablet_Oraal_Stuk__K...</td>\n",
       "      <td>Klinische Brief</td>\n",
       "      <td>2020-11-26 15:06:00</td>\n",
       "      <td>['Topic 10']</td>\n",
       "      <td>Patient_ID_&amp;_Medication</td>\n",
       "    </tr>\n",
       "    <tr>\n",
       "      <th>1</th>\n",
       "      <td>046D1FFEBDD40E1665D0ABA6DD8FC9F8BC4351C6</td>\n",
       "      <td>2020-11-26 09:53:00</td>\n",
       "      <td>Rectaal_Bloedverlie__Aanvullen_Onderzoek__Over...</td>\n",
       "      <td>Consult, Kliniek: vervolgconsult</td>\n",
       "      <td>2020-11-26 09:53:00</td>\n",
       "      <td>['Topic 15']</td>\n",
       "      <td>Rectal_Bleeding_&amp;_Anemia</td>\n",
       "    </tr>\n",
       "    <tr>\n",
       "      <th>2</th>\n",
       "      <td>046D1FFEBDD40E1665D0ABA6DD8FC9F8BC4351C6</td>\n",
       "      <td>2020-11-25 14:13:00</td>\n",
       "      <td>Outlier</td>\n",
       "      <td>Poliklinische Brief</td>\n",
       "      <td>2020-11-25 14:13:00</td>\n",
       "      <td>['Topic -1']</td>\n",
       "      <td>Outlier</td>\n",
       "    </tr>\n",
       "    <tr>\n",
       "      <th>3</th>\n",
       "      <td>046D1FFEBDD40E1665D0ABA6DD8FC9F8BC4351C6</td>\n",
       "      <td>2020-11-25 13:48:00</td>\n",
       "      <td>Outlier</td>\n",
       "      <td>Poliklinische Brief</td>\n",
       "      <td>2020-11-25 13:48:00</td>\n",
       "      <td>['Topic -1']</td>\n",
       "      <td>Outlier</td>\n",
       "    </tr>\n",
       "    <tr>\n",
       "      <th>4</th>\n",
       "      <td>046D1FFEBDD40E1665D0ABA6DD8FC9F8BC4351C6</td>\n",
       "      <td>2020-11-25 08:47:00</td>\n",
       "      <td>Rectaal_Bloedverlie__Aanvullen_Onderzoek__Over...</td>\n",
       "      <td>Consult, Kliniek: vervolgconsult</td>\n",
       "      <td>2020-11-25 08:47:00</td>\n",
       "      <td>['Topic 15']</td>\n",
       "      <td>Rectal_Bleeding_&amp;_Anemia</td>\n",
       "    </tr>\n",
       "  </tbody>\n",
       "</table>\n",
       "</div>"
      ],
      "text/plain": [
       "                                  pseudo_id                 date  \\\n",
       "0  046D1FFEBDD40E1665D0ABA6DD8FC9F8BC4351C6  2020-11-26 15:06:00   \n",
       "1  046D1FFEBDD40E1665D0ABA6DD8FC9F8BC4351C6  2020-11-26 09:53:00   \n",
       "2  046D1FFEBDD40E1665D0ABA6DD8FC9F8BC4351C6  2020-11-25 14:13:00   \n",
       "3  046D1FFEBDD40E1665D0ABA6DD8FC9F8BC4351C6  2020-11-25 13:48:00   \n",
       "4  046D1FFEBDD40E1665D0ABA6DD8FC9F8BC4351C6  2020-11-25 08:47:00   \n",
       "\n",
       "                                           event_tag  \\\n",
       "0  Oraal_Stuk__Tablet_Oraal__Tablet_Oraal_Stuk__K...   \n",
       "1  Rectaal_Bloedverlie__Aanvullen_Onderzoek__Over...   \n",
       "2                                            Outlier   \n",
       "3                                            Outlier   \n",
       "4  Rectaal_Bloedverlie__Aanvullen_Onderzoek__Over...   \n",
       "\n",
       "              verslagen_report_tags verslagen_report_start_date    topic_tags  \\\n",
       "0                   Klinische Brief         2020-11-26 15:06:00  ['Topic 10']   \n",
       "1  Consult, Kliniek: vervolgconsult         2020-11-26 09:53:00  ['Topic 15']   \n",
       "2               Poliklinische Brief         2020-11-25 14:13:00  ['Topic -1']   \n",
       "3               Poliklinische Brief         2020-11-25 13:48:00  ['Topic -1']   \n",
       "4  Consult, Kliniek: vervolgconsult         2020-11-25 08:47:00  ['Topic 15']   \n",
       "\n",
       "            new_topic_label  \n",
       "0   Patient_ID_&_Medication  \n",
       "1  Rectal_Bleeding_&_Anemia  \n",
       "2                   Outlier  \n",
       "3                   Outlier  \n",
       "4  Rectal_Bleeding_&_Anemia  "
      ]
     },
     "execution_count": 127,
     "metadata": {},
     "output_type": "execute_result"
    }
   ],
   "source": [
    "topic_labels = {\n",
    "    \"['Topic 0']\": \"Diabetes_&_Lunch\",\n",
    "    \"['Topic 1']\": \"Breast_Cancer\",\n",
    "    \"['Topic 2']\": \"CLL_&_COPD\",\n",
    "    \"['Topic 3']\": \"Dialysis_&_Kidney_Function\",\n",
    "    \"['Topic 4']\": \"Prophylaxis_&_ASA_Class\",\n",
    "    \"['Topic 5']\": \"Diabetes_Type_II\",\n",
    "    \"['Topic 6']\": \"Atrial_Fibrillation_&_Malaise\",\n",
    "    \"['Topic 7']\": \"Remicade_&_Follow-up\",\n",
    "    \"['Topic 8']\": \"Pancreatitis_&_Whipple\",\n",
    "    \"['Topic 9']\": \"GI_Ulcer_&_Bleeding\",\n",
    "    \"['Topic 10']\": \"Patient_ID_&_Medication\",\n",
    "    \"['Topic 11']\": \"Medical_Records\",\n",
    "    \"['Topic 12']\": \"Triage_&_Medication\",\n",
    "    \"['Topic 13']\": \"Liver_Cirrhosis_&_Varices\",\n",
    "    \"['Topic 14']\": \"Consultation_Registration\",\n",
    "    \"['Topic 15']\": \"Rectal_Bleeding_&_Anemia\",\n",
    "\n",
    "    \"['Topic -1']\": \"Outlier\",\n",
    "}\n",
    "\n",
    "df_verslagen[\"new_topic_label\"] = df_verslagen[\"topic_tags\"].map(topic_labels)\n",
    "df_verslagen.head()\n"
   ]
  },
  {
   "cell_type": "code",
   "execution_count": null,
   "metadata": {},
   "outputs": [],
   "source": []
  },
  {
   "cell_type": "code",
   "execution_count": 128,
   "metadata": {},
   "outputs": [
    {
     "name": "stdout",
     "output_type": "stream",
     "text": [
      "                                  pseudo_id                 date  \\\n",
      "0  046D1FFEBDD40E1665D0ABA6DD8FC9F8BC4351C6  2013-10-21 10:24:00   \n",
      "1  046D1FFEBDD40E1665D0ABA6DD8FC9F8BC4351C6  2013-10-21 10:40:00   \n",
      "2  046D1FFEBDD40E1665D0ABA6DD8FC9F8BC4351C6  2013-10-21 10:41:00   \n",
      "3  046D1FFEBDD40E1665D0ABA6DD8FC9F8BC4351C6  2013-10-21 10:50:00   \n",
      "4  046D1FFEBDD40E1665D0ABA6DD8FC9F8BC4351C6  2013-10-22 19:59:00   \n",
      "\n",
      "                                           event_tag verslagen_report_tags  \\\n",
      "0  Triage_Nee__Toediening_Medicatie__Nee_Triage_N...          Consult, SEH   \n",
      "1                                            Outlier          Consult, SEH   \n",
      "2                                            Outlier          Consult, SEH   \n",
      "3  Medisch_Dossier__Naam_Functie__Dossier_Vk_Sput...          Consult, SEH   \n",
      "4  Triage_Nee__Toediening_Medicatie__Nee_Triage_N...          Consult, SEH   \n",
      "\n",
      "  verslagen_report_start_date    topic_tags      new_topic_label  \\\n",
      "0         2013-10-21 10:24:00  ['Topic 12']  Triage_&_Medication   \n",
      "1         2013-10-21 10:40:00  ['Topic -1']              Outlier   \n",
      "2         2013-10-21 10:41:00  ['Topic -1']              Outlier   \n",
      "3         2013-10-21 10:50:00  ['Topic 11']      Medical_Records   \n",
      "4         2013-10-22 19:59:00  ['Topic 12']  Triage_&_Medication   \n",
      "\n",
      "                          case:concept:name         concept:name  \\\n",
      "0  046D1FFEBDD40E1665D0ABA6DD8FC9F8BC4351C6  Triage_&_Medication   \n",
      "1  046D1FFEBDD40E1665D0ABA6DD8FC9F8BC4351C6              Outlier   \n",
      "2  046D1FFEBDD40E1665D0ABA6DD8FC9F8BC4351C6              Outlier   \n",
      "3  046D1FFEBDD40E1665D0ABA6DD8FC9F8BC4351C6      Medical_Records   \n",
      "4  046D1FFEBDD40E1665D0ABA6DD8FC9F8BC4351C6  Triage_&_Medication   \n",
      "\n",
      "        time:timestamp  @@index  @@case_index  \n",
      "0  2013-10-21 10:24:00        0             0  \n",
      "1  2013-10-21 10:40:00        1             0  \n",
      "2  2013-10-21 10:41:00        2             0  \n",
      "3  2013-10-21 10:50:00        3             0  \n",
      "4  2013-10-22 19:59:00        4             0  \n"
     ]
    },
    {
     "data": {
      "text/html": [
       "<div>\n",
       "<style scoped>\n",
       "    .dataframe tbody tr th:only-of-type {\n",
       "        vertical-align: middle;\n",
       "    }\n",
       "\n",
       "    .dataframe tbody tr th {\n",
       "        vertical-align: top;\n",
       "    }\n",
       "\n",
       "    .dataframe thead th {\n",
       "        text-align: right;\n",
       "    }\n",
       "</style>\n",
       "<table border=\"1\" class=\"dataframe\">\n",
       "  <thead>\n",
       "    <tr style=\"text-align: right;\">\n",
       "      <th></th>\n",
       "      <th>pseudo_id</th>\n",
       "      <th>date</th>\n",
       "      <th>event_tag</th>\n",
       "      <th>verslagen_report_tags</th>\n",
       "      <th>verslagen_report_start_date</th>\n",
       "      <th>topic_tags</th>\n",
       "      <th>new_topic_label</th>\n",
       "      <th>case:concept:name</th>\n",
       "      <th>concept:name</th>\n",
       "      <th>time:timestamp</th>\n",
       "      <th>@@index</th>\n",
       "      <th>@@case_index</th>\n",
       "    </tr>\n",
       "  </thead>\n",
       "  <tbody>\n",
       "    <tr>\n",
       "      <th>0</th>\n",
       "      <td>046D1FFEBDD40E1665D0ABA6DD8FC9F8BC4351C6</td>\n",
       "      <td>2013-10-21 10:24:00</td>\n",
       "      <td>Triage_Nee__Toediening_Medicatie__Nee_Triage_N...</td>\n",
       "      <td>Consult, SEH</td>\n",
       "      <td>2013-10-21 10:24:00</td>\n",
       "      <td>['Topic 12']</td>\n",
       "      <td>Triage_&amp;_Medication</td>\n",
       "      <td>046D1FFEBDD40E1665D0ABA6DD8FC9F8BC4351C6</td>\n",
       "      <td>Triage_&amp;_Medication</td>\n",
       "      <td>2013-10-21 10:24:00</td>\n",
       "      <td>0</td>\n",
       "      <td>0</td>\n",
       "    </tr>\n",
       "    <tr>\n",
       "      <th>1</th>\n",
       "      <td>046D1FFEBDD40E1665D0ABA6DD8FC9F8BC4351C6</td>\n",
       "      <td>2013-10-21 10:40:00</td>\n",
       "      <td>Outlier</td>\n",
       "      <td>Consult, SEH</td>\n",
       "      <td>2013-10-21 10:40:00</td>\n",
       "      <td>['Topic -1']</td>\n",
       "      <td>Outlier</td>\n",
       "      <td>046D1FFEBDD40E1665D0ABA6DD8FC9F8BC4351C6</td>\n",
       "      <td>Outlier</td>\n",
       "      <td>2013-10-21 10:40:00</td>\n",
       "      <td>1</td>\n",
       "      <td>0</td>\n",
       "    </tr>\n",
       "    <tr>\n",
       "      <th>2</th>\n",
       "      <td>046D1FFEBDD40E1665D0ABA6DD8FC9F8BC4351C6</td>\n",
       "      <td>2013-10-21 10:41:00</td>\n",
       "      <td>Outlier</td>\n",
       "      <td>Consult, SEH</td>\n",
       "      <td>2013-10-21 10:41:00</td>\n",
       "      <td>['Topic -1']</td>\n",
       "      <td>Outlier</td>\n",
       "      <td>046D1FFEBDD40E1665D0ABA6DD8FC9F8BC4351C6</td>\n",
       "      <td>Outlier</td>\n",
       "      <td>2013-10-21 10:41:00</td>\n",
       "      <td>2</td>\n",
       "      <td>0</td>\n",
       "    </tr>\n",
       "    <tr>\n",
       "      <th>3</th>\n",
       "      <td>046D1FFEBDD40E1665D0ABA6DD8FC9F8BC4351C6</td>\n",
       "      <td>2013-10-21 10:50:00</td>\n",
       "      <td>Medisch_Dossier__Naam_Functie__Dossier_Vk_Sput...</td>\n",
       "      <td>Consult, SEH</td>\n",
       "      <td>2013-10-21 10:50:00</td>\n",
       "      <td>['Topic 11']</td>\n",
       "      <td>Medical_Records</td>\n",
       "      <td>046D1FFEBDD40E1665D0ABA6DD8FC9F8BC4351C6</td>\n",
       "      <td>Medical_Records</td>\n",
       "      <td>2013-10-21 10:50:00</td>\n",
       "      <td>3</td>\n",
       "      <td>0</td>\n",
       "    </tr>\n",
       "    <tr>\n",
       "      <th>4</th>\n",
       "      <td>046D1FFEBDD40E1665D0ABA6DD8FC9F8BC4351C6</td>\n",
       "      <td>2013-10-22 19:59:00</td>\n",
       "      <td>Triage_Nee__Toediening_Medicatie__Nee_Triage_N...</td>\n",
       "      <td>Consult, SEH</td>\n",
       "      <td>2013-10-22 19:59:00</td>\n",
       "      <td>['Topic 12']</td>\n",
       "      <td>Triage_&amp;_Medication</td>\n",
       "      <td>046D1FFEBDD40E1665D0ABA6DD8FC9F8BC4351C6</td>\n",
       "      <td>Triage_&amp;_Medication</td>\n",
       "      <td>2013-10-22 19:59:00</td>\n",
       "      <td>4</td>\n",
       "      <td>0</td>\n",
       "    </tr>\n",
       "  </tbody>\n",
       "</table>\n",
       "</div>"
      ],
      "text/plain": [
       "                                  pseudo_id                 date  \\\n",
       "0  046D1FFEBDD40E1665D0ABA6DD8FC9F8BC4351C6  2013-10-21 10:24:00   \n",
       "1  046D1FFEBDD40E1665D0ABA6DD8FC9F8BC4351C6  2013-10-21 10:40:00   \n",
       "2  046D1FFEBDD40E1665D0ABA6DD8FC9F8BC4351C6  2013-10-21 10:41:00   \n",
       "3  046D1FFEBDD40E1665D0ABA6DD8FC9F8BC4351C6  2013-10-21 10:50:00   \n",
       "4  046D1FFEBDD40E1665D0ABA6DD8FC9F8BC4351C6  2013-10-22 19:59:00   \n",
       "\n",
       "                                           event_tag verslagen_report_tags  \\\n",
       "0  Triage_Nee__Toediening_Medicatie__Nee_Triage_N...          Consult, SEH   \n",
       "1                                            Outlier          Consult, SEH   \n",
       "2                                            Outlier          Consult, SEH   \n",
       "3  Medisch_Dossier__Naam_Functie__Dossier_Vk_Sput...          Consult, SEH   \n",
       "4  Triage_Nee__Toediening_Medicatie__Nee_Triage_N...          Consult, SEH   \n",
       "\n",
       "  verslagen_report_start_date    topic_tags      new_topic_label  \\\n",
       "0         2013-10-21 10:24:00  ['Topic 12']  Triage_&_Medication   \n",
       "1         2013-10-21 10:40:00  ['Topic -1']              Outlier   \n",
       "2         2013-10-21 10:41:00  ['Topic -1']              Outlier   \n",
       "3         2013-10-21 10:50:00  ['Topic 11']      Medical_Records   \n",
       "4         2013-10-22 19:59:00  ['Topic 12']  Triage_&_Medication   \n",
       "\n",
       "                          case:concept:name         concept:name  \\\n",
       "0  046D1FFEBDD40E1665D0ABA6DD8FC9F8BC4351C6  Triage_&_Medication   \n",
       "1  046D1FFEBDD40E1665D0ABA6DD8FC9F8BC4351C6              Outlier   \n",
       "2  046D1FFEBDD40E1665D0ABA6DD8FC9F8BC4351C6              Outlier   \n",
       "3  046D1FFEBDD40E1665D0ABA6DD8FC9F8BC4351C6      Medical_Records   \n",
       "4  046D1FFEBDD40E1665D0ABA6DD8FC9F8BC4351C6  Triage_&_Medication   \n",
       "\n",
       "        time:timestamp  @@index  @@case_index  \n",
       "0  2013-10-21 10:24:00        0             0  \n",
       "1  2013-10-21 10:40:00        1             0  \n",
       "2  2013-10-21 10:41:00        2             0  \n",
       "3  2013-10-21 10:50:00        3             0  \n",
       "4  2013-10-22 19:59:00        4             0  "
      ]
     },
     "execution_count": 128,
     "metadata": {},
     "output_type": "execute_result"
    }
   ],
   "source": [
    "# Convert DataFrame to PM4Py event log\n",
    "\n",
    "activity_key = 'new_topic_label'\n",
    "\n",
    "# event_log = pm4py.format_dataframe(df_verslagen, case_id='pseudo_id', activity_key='event_tag', timestamp_key='verslagen_report_start_date')\n",
    "event_log = pm4py.format_dataframe(df_verslagen, case_id='pseudo_id', activity_key=activity_key, timestamp_key='verslagen_report_start_date')\n",
    "\n",
    "print(event_log.head())  # Verify format\n",
    "event_log.head()"
   ]
  },
  {
   "cell_type": "code",
   "execution_count": 129,
   "metadata": {},
   "outputs": [
    {
     "name": "stdout",
     "output_type": "stream",
     "text": [
      "                                              Sequence  Count\n",
      "0    Triage_&_Medication->Outlier->Outlier->Medical...      1\n",
      "53   Remicade_&_Follow-up->Patient_ID_&_Medication-...      1\n",
      "77   Triage_&_Medication->Patient_ID_&_Medication->...      1\n",
      "76   Outlier->Remicade_&_Follow-up->Prophylaxis_&_A...      1\n",
      "75   Triage_&_Medication->Triage_&_Medication->Medi...      1\n",
      "..                                                 ...    ...\n",
      "32   Outlier->Triage_&_Medication->Medical_Records-...      1\n",
      "31   Remicade_&_Follow-up->Triage_&_Medication->Med...      1\n",
      "30   Rectal_Bleeding_&_Anemia->Rectal_Bleeding_&_An...      1\n",
      "29   Rectal_Bleeding_&_Anemia->Outlier->Rectal_Blee...      1\n",
      "104  Medical_Records->Medical_Records->Outlier->Rec...      1\n",
      "\n",
      "[105 rows x 2 columns]\n"
     ]
    }
   ],
   "source": [
    "# Step 1: Sort by Patient_ID and Timestamp\n",
    "df_verslagen = df_verslagen.sort_values(by=['pseudo_id', 'verslagen_report_start_date'])\n",
    "\n",
    "# Step 2: Create a list of sequences for each patient\n",
    "patient_sequences = df_verslagen.groupby('pseudo_id')[activity_key].apply(lambda x: '->'.join(x))\n",
    "\n",
    "# Step 3: Count the occurrences of each unique sequence\n",
    "sequence_counts = Counter(patient_sequences)\n",
    "\n",
    "# Step 4: Convert to DataFrame for better visualization\n",
    "sequence_df = pd.DataFrame(sequence_counts.items(), columns=['Sequence', 'Count'])\n",
    "\n",
    "# Step 5: Sort by most frequent sequences\n",
    "sequence_df = sequence_df.sort_values(by='Count', ascending=False)\n",
    "\n",
    "print(sequence_df)"
   ]
  },
  {
   "cell_type": "code",
   "execution_count": 130,
   "metadata": {},
   "outputs": [
    {
     "name": "stdout",
     "output_type": "stream",
     "text": [
      "Counter({'Outlier': 4444, 'Rectal_Bleeding_&_Anemia': 948, 'Patient_ID_&_Medication': 803, 'Remicade_&_Follow-up': 785, 'Diabetes_Type_II': 441, 'Atrial_Fibrillation_&_Malaise': 313, 'Triage_&_Medication': 259, 'Prophylaxis_&_ASA_Class': 237, 'Medical_Records': 235, 'GI_Ulcer_&_Bleeding': 178, 'Consultation_Registration': 173, 'Diabetes_&_Lunch': 135, 'Liver_Cirrhosis_&_Varices': 116, 'CLL_&_COPD': 109, 'Dialysis_&_Kidney_Function': 108, 'Pancreatitis_&_Whipple': 106, 'Breast_Cancer': 103})\n"
     ]
    }
   ],
   "source": [
    "# Flatten all steps into a single list\n",
    "all_steps = list(chain(*df_verslagen.groupby('pseudo_id')['new_topic_label'].apply(list)))\n",
    "\n",
    "# Count step frequency\n",
    "step_counts = Counter(all_steps)\n",
    "print(step_counts)"
   ]
  },
  {
   "cell_type": "code",
   "execution_count": 131,
   "metadata": {},
   "outputs": [
    {
     "name": "stdout",
     "output_type": "stream",
     "text": [
      "                                  pseudo_id                 date  \\\n",
      "0  046D1FFEBDD40E1665D0ABA6DD8FC9F8BC4351C6  2013-10-21 10:24:00   \n",
      "1  046D1FFEBDD40E1665D0ABA6DD8FC9F8BC4351C6  2013-10-21 10:40:00   \n",
      "2  046D1FFEBDD40E1665D0ABA6DD8FC9F8BC4351C6  2013-10-21 10:41:00   \n",
      "3  046D1FFEBDD40E1665D0ABA6DD8FC9F8BC4351C6  2013-10-21 10:50:00   \n",
      "4  046D1FFEBDD40E1665D0ABA6DD8FC9F8BC4351C6  2013-10-22 19:59:00   \n",
      "\n",
      "                                           event_tag verslagen_report_tags  \\\n",
      "0  Triage_Nee__Toediening_Medicatie__Nee_Triage_N...          Consult, SEH   \n",
      "1                                            Outlier          Consult, SEH   \n",
      "2                                            Outlier          Consult, SEH   \n",
      "3  Medisch_Dossier__Naam_Functie__Dossier_Vk_Sput...          Consult, SEH   \n",
      "4  Triage_Nee__Toediening_Medicatie__Nee_Triage_N...          Consult, SEH   \n",
      "\n",
      "  verslagen_report_start_date    topic_tags      new_topic_label  \\\n",
      "0         2013-10-21 10:24:00  ['Topic 12']  Triage_&_Medication   \n",
      "1         2013-10-21 10:40:00  ['Topic -1']              Outlier   \n",
      "2         2013-10-21 10:41:00  ['Topic -1']              Outlier   \n",
      "3         2013-10-21 10:50:00  ['Topic 11']      Medical_Records   \n",
      "4         2013-10-22 19:59:00  ['Topic 12']  Triage_&_Medication   \n",
      "\n",
      "                          case:concept:name         concept:name  \\\n",
      "0  046D1FFEBDD40E1665D0ABA6DD8FC9F8BC4351C6  Triage_&_Medication   \n",
      "1  046D1FFEBDD40E1665D0ABA6DD8FC9F8BC4351C6              Outlier   \n",
      "2  046D1FFEBDD40E1665D0ABA6DD8FC9F8BC4351C6              Outlier   \n",
      "3  046D1FFEBDD40E1665D0ABA6DD8FC9F8BC4351C6      Medical_Records   \n",
      "4  046D1FFEBDD40E1665D0ABA6DD8FC9F8BC4351C6  Triage_&_Medication   \n",
      "\n",
      "        time:timestamp  @@index  @@case_index  \n",
      "0  2013-10-21 10:24:00        0             0  \n",
      "1  2013-10-21 10:40:00        1             0  \n",
      "2  2013-10-21 10:41:00        2             0  \n",
      "3  2013-10-21 10:50:00        3             0  \n",
      "4  2013-10-22 19:59:00        4             0  \n"
     ]
    },
    {
     "data": {
      "text/html": [
       "<div>\n",
       "<style scoped>\n",
       "    .dataframe tbody tr th:only-of-type {\n",
       "        vertical-align: middle;\n",
       "    }\n",
       "\n",
       "    .dataframe tbody tr th {\n",
       "        vertical-align: top;\n",
       "    }\n",
       "\n",
       "    .dataframe thead th {\n",
       "        text-align: right;\n",
       "    }\n",
       "</style>\n",
       "<table border=\"1\" class=\"dataframe\">\n",
       "  <thead>\n",
       "    <tr style=\"text-align: right;\">\n",
       "      <th></th>\n",
       "      <th>pseudo_id</th>\n",
       "      <th>date</th>\n",
       "      <th>event_tag</th>\n",
       "      <th>verslagen_report_tags</th>\n",
       "      <th>verslagen_report_start_date</th>\n",
       "      <th>topic_tags</th>\n",
       "      <th>new_topic_label</th>\n",
       "      <th>case:concept:name</th>\n",
       "      <th>concept:name</th>\n",
       "      <th>time:timestamp</th>\n",
       "      <th>@@index</th>\n",
       "      <th>@@case_index</th>\n",
       "    </tr>\n",
       "  </thead>\n",
       "  <tbody>\n",
       "    <tr>\n",
       "      <th>0</th>\n",
       "      <td>046D1FFEBDD40E1665D0ABA6DD8FC9F8BC4351C6</td>\n",
       "      <td>2013-10-21 10:24:00</td>\n",
       "      <td>Triage_Nee__Toediening_Medicatie__Nee_Triage_N...</td>\n",
       "      <td>Consult, SEH</td>\n",
       "      <td>2013-10-21 10:24:00</td>\n",
       "      <td>['Topic 12']</td>\n",
       "      <td>Triage_&amp;_Medication</td>\n",
       "      <td>046D1FFEBDD40E1665D0ABA6DD8FC9F8BC4351C6</td>\n",
       "      <td>Triage_&amp;_Medication</td>\n",
       "      <td>2013-10-21 10:24:00</td>\n",
       "      <td>0</td>\n",
       "      <td>0</td>\n",
       "    </tr>\n",
       "    <tr>\n",
       "      <th>1</th>\n",
       "      <td>046D1FFEBDD40E1665D0ABA6DD8FC9F8BC4351C6</td>\n",
       "      <td>2013-10-21 10:40:00</td>\n",
       "      <td>Outlier</td>\n",
       "      <td>Consult, SEH</td>\n",
       "      <td>2013-10-21 10:40:00</td>\n",
       "      <td>['Topic -1']</td>\n",
       "      <td>Outlier</td>\n",
       "      <td>046D1FFEBDD40E1665D0ABA6DD8FC9F8BC4351C6</td>\n",
       "      <td>Outlier</td>\n",
       "      <td>2013-10-21 10:40:00</td>\n",
       "      <td>1</td>\n",
       "      <td>0</td>\n",
       "    </tr>\n",
       "    <tr>\n",
       "      <th>2</th>\n",
       "      <td>046D1FFEBDD40E1665D0ABA6DD8FC9F8BC4351C6</td>\n",
       "      <td>2013-10-21 10:41:00</td>\n",
       "      <td>Outlier</td>\n",
       "      <td>Consult, SEH</td>\n",
       "      <td>2013-10-21 10:41:00</td>\n",
       "      <td>['Topic -1']</td>\n",
       "      <td>Outlier</td>\n",
       "      <td>046D1FFEBDD40E1665D0ABA6DD8FC9F8BC4351C6</td>\n",
       "      <td>Outlier</td>\n",
       "      <td>2013-10-21 10:41:00</td>\n",
       "      <td>2</td>\n",
       "      <td>0</td>\n",
       "    </tr>\n",
       "    <tr>\n",
       "      <th>3</th>\n",
       "      <td>046D1FFEBDD40E1665D0ABA6DD8FC9F8BC4351C6</td>\n",
       "      <td>2013-10-21 10:50:00</td>\n",
       "      <td>Medisch_Dossier__Naam_Functie__Dossier_Vk_Sput...</td>\n",
       "      <td>Consult, SEH</td>\n",
       "      <td>2013-10-21 10:50:00</td>\n",
       "      <td>['Topic 11']</td>\n",
       "      <td>Medical_Records</td>\n",
       "      <td>046D1FFEBDD40E1665D0ABA6DD8FC9F8BC4351C6</td>\n",
       "      <td>Medical_Records</td>\n",
       "      <td>2013-10-21 10:50:00</td>\n",
       "      <td>3</td>\n",
       "      <td>0</td>\n",
       "    </tr>\n",
       "    <tr>\n",
       "      <th>4</th>\n",
       "      <td>046D1FFEBDD40E1665D0ABA6DD8FC9F8BC4351C6</td>\n",
       "      <td>2013-10-22 19:59:00</td>\n",
       "      <td>Triage_Nee__Toediening_Medicatie__Nee_Triage_N...</td>\n",
       "      <td>Consult, SEH</td>\n",
       "      <td>2013-10-22 19:59:00</td>\n",
       "      <td>['Topic 12']</td>\n",
       "      <td>Triage_&amp;_Medication</td>\n",
       "      <td>046D1FFEBDD40E1665D0ABA6DD8FC9F8BC4351C6</td>\n",
       "      <td>Triage_&amp;_Medication</td>\n",
       "      <td>2013-10-22 19:59:00</td>\n",
       "      <td>4</td>\n",
       "      <td>0</td>\n",
       "    </tr>\n",
       "  </tbody>\n",
       "</table>\n",
       "</div>"
      ],
      "text/plain": [
       "                                  pseudo_id                 date  \\\n",
       "0  046D1FFEBDD40E1665D0ABA6DD8FC9F8BC4351C6  2013-10-21 10:24:00   \n",
       "1  046D1FFEBDD40E1665D0ABA6DD8FC9F8BC4351C6  2013-10-21 10:40:00   \n",
       "2  046D1FFEBDD40E1665D0ABA6DD8FC9F8BC4351C6  2013-10-21 10:41:00   \n",
       "3  046D1FFEBDD40E1665D0ABA6DD8FC9F8BC4351C6  2013-10-21 10:50:00   \n",
       "4  046D1FFEBDD40E1665D0ABA6DD8FC9F8BC4351C6  2013-10-22 19:59:00   \n",
       "\n",
       "                                           event_tag verslagen_report_tags  \\\n",
       "0  Triage_Nee__Toediening_Medicatie__Nee_Triage_N...          Consult, SEH   \n",
       "1                                            Outlier          Consult, SEH   \n",
       "2                                            Outlier          Consult, SEH   \n",
       "3  Medisch_Dossier__Naam_Functie__Dossier_Vk_Sput...          Consult, SEH   \n",
       "4  Triage_Nee__Toediening_Medicatie__Nee_Triage_N...          Consult, SEH   \n",
       "\n",
       "  verslagen_report_start_date    topic_tags      new_topic_label  \\\n",
       "0         2013-10-21 10:24:00  ['Topic 12']  Triage_&_Medication   \n",
       "1         2013-10-21 10:40:00  ['Topic -1']              Outlier   \n",
       "2         2013-10-21 10:41:00  ['Topic -1']              Outlier   \n",
       "3         2013-10-21 10:50:00  ['Topic 11']      Medical_Records   \n",
       "4         2013-10-22 19:59:00  ['Topic 12']  Triage_&_Medication   \n",
       "\n",
       "                          case:concept:name         concept:name  \\\n",
       "0  046D1FFEBDD40E1665D0ABA6DD8FC9F8BC4351C6  Triage_&_Medication   \n",
       "1  046D1FFEBDD40E1665D0ABA6DD8FC9F8BC4351C6              Outlier   \n",
       "2  046D1FFEBDD40E1665D0ABA6DD8FC9F8BC4351C6              Outlier   \n",
       "3  046D1FFEBDD40E1665D0ABA6DD8FC9F8BC4351C6      Medical_Records   \n",
       "4  046D1FFEBDD40E1665D0ABA6DD8FC9F8BC4351C6  Triage_&_Medication   \n",
       "\n",
       "        time:timestamp  @@index  @@case_index  \n",
       "0  2013-10-21 10:24:00        0             0  \n",
       "1  2013-10-21 10:40:00        1             0  \n",
       "2  2013-10-21 10:41:00        2             0  \n",
       "3  2013-10-21 10:50:00        3             0  \n",
       "4  2013-10-22 19:59:00        4             0  "
      ]
     },
     "execution_count": 131,
     "metadata": {},
     "output_type": "execute_result"
    }
   ],
   "source": [
    "# Convert DataFrame to PM4Py event log\n",
    "\n",
    "\n",
    "event_log = pm4py.format_dataframe(df_verslagen, case_id='pseudo_id', activity_key=activity_key, timestamp_key='verslagen_report_start_date')\n",
    "# event_log = pm4py.format_dataframe(df_verslagen, case_id='pseudo_id', activity_key='topic_tags', timestamp_key='verslagen_report_start_date')\n",
    "\n",
    "\n",
    "\n",
    "print(event_log.head())  # Verify format\n",
    "event_log.head()"
   ]
  },
  {
   "cell_type": "code",
   "execution_count": 132,
   "metadata": {},
   "outputs": [],
   "source": [
    "# start_activities = pm4py.get_start_activities(event_log)\n",
    "# start_activities"
   ]
  },
  {
   "cell_type": "code",
   "execution_count": 133,
   "metadata": {},
   "outputs": [
    {
     "name": "stdout",
     "output_type": "stream",
     "text": [
      "                                                 Trace  Count\n",
      "0    Triage_&_Medication->Outlier->Outlier->Medical...      1\n",
      "53   Remicade_&_Follow-up->Patient_ID_&_Medication-...      1\n",
      "77   Triage_&_Medication->Patient_ID_&_Medication->...      1\n",
      "76   Outlier->Remicade_&_Follow-up->Prophylaxis_&_A...      1\n",
      "75   Triage_&_Medication->Triage_&_Medication->Medi...      1\n",
      "..                                                 ...    ...\n",
      "32   Outlier->Triage_&_Medication->Medical_Records-...      1\n",
      "31   Remicade_&_Follow-up->Triage_&_Medication->Med...      1\n",
      "30   Rectal_Bleeding_&_Anemia->Rectal_Bleeding_&_An...      1\n",
      "29   Rectal_Bleeding_&_Anemia->Outlier->Rectal_Blee...      1\n",
      "104  Medical_Records->Medical_Records->Outlier->Rec...      1\n",
      "\n",
      "[105 rows x 2 columns]\n"
     ]
    }
   ],
   "source": [
    "from pm4py.algo.filtering.log.variants import variants_filter\n",
    "\n",
    "# Extract unique variants (patient journey patterns)\n",
    "variants = variants_filter.get_variants(event_log)\n",
    "\n",
    "# Map original tuple traces to string traces\n",
    "trace_mapping = {tuple(trace): '->'.join(trace) for trace in variants.keys()}\n",
    "\n",
    "# Create a DataFrame mapping traces to frequency\n",
    "trace_counts = {trace_mapping[trace]: len(variants[trace]) for trace in variants.keys()}\n",
    "\n",
    "# Convert to DataFrame\n",
    "trace_df = pd.DataFrame(list(trace_counts.items()), columns=['Trace', 'Count'])\n",
    "\n",
    "# Sort by most common traces\n",
    "trace_df = trace_df.sort_values(by='Count', ascending=False)\n",
    "\n",
    "print(trace_df)  # Show most common patient journeys\n"
   ]
  },
  {
   "cell_type": "code",
   "execution_count": 134,
   "metadata": {},
   "outputs": [
    {
     "data": {
      "text/html": [
       "<div>\n",
       "<style scoped>\n",
       "    .dataframe tbody tr th:only-of-type {\n",
       "        vertical-align: middle;\n",
       "    }\n",
       "\n",
       "    .dataframe tbody tr th {\n",
       "        vertical-align: top;\n",
       "    }\n",
       "\n",
       "    .dataframe thead th {\n",
       "        text-align: right;\n",
       "    }\n",
       "</style>\n",
       "<table border=\"1\" class=\"dataframe\">\n",
       "  <thead>\n",
       "    <tr style=\"text-align: right;\">\n",
       "      <th></th>\n",
       "      <th>topic_tags_['Topic12']</th>\n",
       "      <th>topic_tags_['Topic-1']</th>\n",
       "      <th>topic_tags_['Topic11']</th>\n",
       "      <th>topic_tags_['Topic15']</th>\n",
       "      <th>topic_tags_['Topic7']</th>\n",
       "      <th>topic_tags_['Topic14']</th>\n",
       "      <th>topic_tags_['Topic4']</th>\n",
       "      <th>topic_tags_['Topic10']</th>\n",
       "      <th>topic_tags_['Topic9']</th>\n",
       "      <th>topic_tags_['Topic6']</th>\n",
       "      <th>...</th>\n",
       "      <th>concept:name_GI_Ulcer_&amp;_Bleeding</th>\n",
       "      <th>concept:name_Atrial_Fibrillation_&amp;_Malaise</th>\n",
       "      <th>concept:name_Pancreatitis_&amp;_Whipple</th>\n",
       "      <th>concept:name_CLL_&amp;_COPD</th>\n",
       "      <th>concept:name_Diabetes_Type_II</th>\n",
       "      <th>concept:name_Liver_Cirrhosis_&amp;_Varices</th>\n",
       "      <th>concept:name_Dialysis_&amp;_Kidney_Function</th>\n",
       "      <th>concept:name_Diabetes_&amp;_Lunch</th>\n",
       "      <th>concept:name_Breast_Cancer</th>\n",
       "      <th>Cluster</th>\n",
       "    </tr>\n",
       "  </thead>\n",
       "  <tbody>\n",
       "    <tr>\n",
       "      <th>0</th>\n",
       "      <td>1.0</td>\n",
       "      <td>1.0</td>\n",
       "      <td>1.0</td>\n",
       "      <td>1.0</td>\n",
       "      <td>1.0</td>\n",
       "      <td>1.0</td>\n",
       "      <td>1.0</td>\n",
       "      <td>1.0</td>\n",
       "      <td>0.0</td>\n",
       "      <td>0.0</td>\n",
       "      <td>...</td>\n",
       "      <td>0.0</td>\n",
       "      <td>0.0</td>\n",
       "      <td>0.0</td>\n",
       "      <td>0.0</td>\n",
       "      <td>0.0</td>\n",
       "      <td>0.0</td>\n",
       "      <td>0.0</td>\n",
       "      <td>0.0</td>\n",
       "      <td>0.0</td>\n",
       "      <td>2</td>\n",
       "    </tr>\n",
       "    <tr>\n",
       "      <th>1</th>\n",
       "      <td>1.0</td>\n",
       "      <td>1.0</td>\n",
       "      <td>1.0</td>\n",
       "      <td>1.0</td>\n",
       "      <td>1.0</td>\n",
       "      <td>0.0</td>\n",
       "      <td>1.0</td>\n",
       "      <td>1.0</td>\n",
       "      <td>1.0</td>\n",
       "      <td>0.0</td>\n",
       "      <td>...</td>\n",
       "      <td>1.0</td>\n",
       "      <td>0.0</td>\n",
       "      <td>0.0</td>\n",
       "      <td>0.0</td>\n",
       "      <td>0.0</td>\n",
       "      <td>0.0</td>\n",
       "      <td>0.0</td>\n",
       "      <td>0.0</td>\n",
       "      <td>0.0</td>\n",
       "      <td>2</td>\n",
       "    </tr>\n",
       "    <tr>\n",
       "      <th>2</th>\n",
       "      <td>0.0</td>\n",
       "      <td>1.0</td>\n",
       "      <td>0.0</td>\n",
       "      <td>1.0</td>\n",
       "      <td>0.0</td>\n",
       "      <td>0.0</td>\n",
       "      <td>0.0</td>\n",
       "      <td>1.0</td>\n",
       "      <td>0.0</td>\n",
       "      <td>0.0</td>\n",
       "      <td>...</td>\n",
       "      <td>0.0</td>\n",
       "      <td>0.0</td>\n",
       "      <td>0.0</td>\n",
       "      <td>0.0</td>\n",
       "      <td>0.0</td>\n",
       "      <td>0.0</td>\n",
       "      <td>0.0</td>\n",
       "      <td>0.0</td>\n",
       "      <td>0.0</td>\n",
       "      <td>2</td>\n",
       "    </tr>\n",
       "    <tr>\n",
       "      <th>3</th>\n",
       "      <td>1.0</td>\n",
       "      <td>1.0</td>\n",
       "      <td>1.0</td>\n",
       "      <td>1.0</td>\n",
       "      <td>1.0</td>\n",
       "      <td>1.0</td>\n",
       "      <td>1.0</td>\n",
       "      <td>1.0</td>\n",
       "      <td>0.0</td>\n",
       "      <td>1.0</td>\n",
       "      <td>...</td>\n",
       "      <td>0.0</td>\n",
       "      <td>1.0</td>\n",
       "      <td>0.0</td>\n",
       "      <td>0.0</td>\n",
       "      <td>0.0</td>\n",
       "      <td>0.0</td>\n",
       "      <td>0.0</td>\n",
       "      <td>0.0</td>\n",
       "      <td>0.0</td>\n",
       "      <td>2</td>\n",
       "    </tr>\n",
       "    <tr>\n",
       "      <th>4</th>\n",
       "      <td>0.0</td>\n",
       "      <td>1.0</td>\n",
       "      <td>1.0</td>\n",
       "      <td>1.0</td>\n",
       "      <td>1.0</td>\n",
       "      <td>1.0</td>\n",
       "      <td>1.0</td>\n",
       "      <td>1.0</td>\n",
       "      <td>0.0</td>\n",
       "      <td>1.0</td>\n",
       "      <td>...</td>\n",
       "      <td>0.0</td>\n",
       "      <td>1.0</td>\n",
       "      <td>0.0</td>\n",
       "      <td>0.0</td>\n",
       "      <td>0.0</td>\n",
       "      <td>0.0</td>\n",
       "      <td>0.0</td>\n",
       "      <td>0.0</td>\n",
       "      <td>0.0</td>\n",
       "      <td>2</td>\n",
       "    </tr>\n",
       "  </tbody>\n",
       "</table>\n",
       "<p>5 rows × 93 columns</p>\n",
       "</div>"
      ],
      "text/plain": [
       "   topic_tags_['Topic12']  topic_tags_['Topic-1']  topic_tags_['Topic11']  \\\n",
       "0                     1.0                     1.0                     1.0   \n",
       "1                     1.0                     1.0                     1.0   \n",
       "2                     0.0                     1.0                     0.0   \n",
       "3                     1.0                     1.0                     1.0   \n",
       "4                     0.0                     1.0                     1.0   \n",
       "\n",
       "   topic_tags_['Topic15']  topic_tags_['Topic7']  topic_tags_['Topic14']  \\\n",
       "0                     1.0                    1.0                     1.0   \n",
       "1                     1.0                    1.0                     0.0   \n",
       "2                     1.0                    0.0                     0.0   \n",
       "3                     1.0                    1.0                     1.0   \n",
       "4                     1.0                    1.0                     1.0   \n",
       "\n",
       "   topic_tags_['Topic4']  topic_tags_['Topic10']  topic_tags_['Topic9']  \\\n",
       "0                    1.0                     1.0                    0.0   \n",
       "1                    1.0                     1.0                    1.0   \n",
       "2                    0.0                     1.0                    0.0   \n",
       "3                    1.0                     1.0                    0.0   \n",
       "4                    1.0                     1.0                    0.0   \n",
       "\n",
       "   topic_tags_['Topic6']  ...  concept:name_GI_Ulcer_&_Bleeding  \\\n",
       "0                    0.0  ...                               0.0   \n",
       "1                    0.0  ...                               1.0   \n",
       "2                    0.0  ...                               0.0   \n",
       "3                    1.0  ...                               0.0   \n",
       "4                    1.0  ...                               0.0   \n",
       "\n",
       "   concept:name_Atrial_Fibrillation_&_Malaise  \\\n",
       "0                                         0.0   \n",
       "1                                         0.0   \n",
       "2                                         0.0   \n",
       "3                                         1.0   \n",
       "4                                         1.0   \n",
       "\n",
       "   concept:name_Pancreatitis_&_Whipple  concept:name_CLL_&_COPD  \\\n",
       "0                                  0.0                      0.0   \n",
       "1                                  0.0                      0.0   \n",
       "2                                  0.0                      0.0   \n",
       "3                                  0.0                      0.0   \n",
       "4                                  0.0                      0.0   \n",
       "\n",
       "   concept:name_Diabetes_Type_II  concept:name_Liver_Cirrhosis_&_Varices  \\\n",
       "0                            0.0                                     0.0   \n",
       "1                            0.0                                     0.0   \n",
       "2                            0.0                                     0.0   \n",
       "3                            0.0                                     0.0   \n",
       "4                            0.0                                     0.0   \n",
       "\n",
       "   concept:name_Dialysis_&_Kidney_Function  concept:name_Diabetes_&_Lunch  \\\n",
       "0                                      0.0                            0.0   \n",
       "1                                      0.0                            0.0   \n",
       "2                                      0.0                            0.0   \n",
       "3                                      0.0                            0.0   \n",
       "4                                      0.0                            0.0   \n",
       "\n",
       "   concept:name_Breast_Cancer  Cluster  \n",
       "0                         0.0        2  \n",
       "1                         0.0        2  \n",
       "2                         0.0        2  \n",
       "3                         0.0        2  \n",
       "4                         0.0        2  \n",
       "\n",
       "[5 rows x 93 columns]"
      ]
     },
     "execution_count": 134,
     "metadata": {},
     "output_type": "execute_result"
    }
   ],
   "source": [
    "from pm4py.algo.transformation.log_to_features import algorithm as log_to_features\n",
    "from sklearn.cluster import KMeans\n",
    "import numpy as np\n",
    "\n",
    "# Convert event log to feature vectors\n",
    "feature_table, feature_names = log_to_features.apply(event_log, parameters={\"feature_type\": \"frequency\"})\n",
    "\n",
    "# Convert to DataFrame\n",
    "feature_df = pd.DataFrame(feature_table, columns=feature_names)\n",
    "\n",
    "# Apply K-Means clustering (set k=3 for 3 clusters)\n",
    "num_clusters = 10\n",
    "kmeans = KMeans(n_clusters=num_clusters, random_state=42)\n",
    "feature_df['Cluster'] = kmeans.fit_predict(feature_df)\n",
    "\n",
    "feature_df.head()  # Show clustered patient traces\n"
   ]
  },
  {
   "cell_type": "code",
   "execution_count": 135,
   "metadata": {},
   "outputs": [
    {
     "data": {
      "application/vnd.plotly.v1+json": {
       "config": {
        "plotlyServerURL": "https://plot.ly"
       },
       "data": [
        {
         "link": {
          "source": [
           11,
           9,
           8,
           11,
           9,
           3,
           2,
           8,
           11,
           0,
           9,
           3,
           2,
           1,
           8,
           11,
           0,
           9,
           3,
           1,
           8,
           4,
           11,
           0,
           9,
           3,
           11,
           9,
           3,
           11,
           9,
           8,
           11,
           0,
           9,
           3,
           4,
           11,
           0,
           9,
           3,
           2,
           1,
           11,
           0,
           9,
           3,
           8
          ],
          "target": [
           9,
           8,
           10,
           9,
           3,
           2,
           8,
           7,
           0,
           9,
           3,
           2,
           1,
           8,
           5,
           0,
           9,
           3,
           1,
           8,
           6,
           11,
           0,
           9,
           3,
           8,
           9,
           3,
           8,
           9,
           8,
           5,
           0,
           9,
           3,
           8,
           11,
           0,
           9,
           3,
           2,
           1,
           8,
           0,
           9,
           3,
           8,
           7
          ],
          "value": [
           4,
           2,
           1,
           4,
           8,
           3,
           1,
           2,
           6,
           6,
           8,
           3,
           2,
           3,
           2,
           6,
           6,
           8,
           1,
           3,
           1,
           2,
           6,
           6,
           8,
           4,
           4,
           8,
           4,
           4,
           2,
           2,
           6,
           6,
           8,
           4,
           2,
           6,
           6,
           8,
           3,
           2,
           3,
           6,
           6,
           8,
           4,
           2
          ]
         },
         "node": {
          "label": [
           "Medical_Records",
           "Prophylaxis_&_ASA_Class",
           "Consultation_Registration",
           "Remicade_&_Follow-up",
           "Triage_&_Medication",
           "Atrial_Fibrillation_&_Malaise",
           "Breast_Cancer",
           "Diabetes_Type_II",
           "Patient_ID_&_Medication",
           "Rectal_Bleeding_&_Anemia",
           "Liver_Cirrhosis_&_Varices",
           "Outlier"
          ]
         },
         "type": "sankey"
        }
       ],
       "layout": {
        "template": {
         "data": {
          "bar": [
           {
            "error_x": {
             "color": "#2a3f5f"
            },
            "error_y": {
             "color": "#2a3f5f"
            },
            "marker": {
             "line": {
              "color": "#E5ECF6",
              "width": 0.5
             },
             "pattern": {
              "fillmode": "overlay",
              "size": 10,
              "solidity": 0.2
             }
            },
            "type": "bar"
           }
          ],
          "barpolar": [
           {
            "marker": {
             "line": {
              "color": "#E5ECF6",
              "width": 0.5
             },
             "pattern": {
              "fillmode": "overlay",
              "size": 10,
              "solidity": 0.2
             }
            },
            "type": "barpolar"
           }
          ],
          "carpet": [
           {
            "aaxis": {
             "endlinecolor": "#2a3f5f",
             "gridcolor": "white",
             "linecolor": "white",
             "minorgridcolor": "white",
             "startlinecolor": "#2a3f5f"
            },
            "baxis": {
             "endlinecolor": "#2a3f5f",
             "gridcolor": "white",
             "linecolor": "white",
             "minorgridcolor": "white",
             "startlinecolor": "#2a3f5f"
            },
            "type": "carpet"
           }
          ],
          "choropleth": [
           {
            "colorbar": {
             "outlinewidth": 0,
             "ticks": ""
            },
            "type": "choropleth"
           }
          ],
          "contour": [
           {
            "colorbar": {
             "outlinewidth": 0,
             "ticks": ""
            },
            "colorscale": [
             [
              0,
              "#0d0887"
             ],
             [
              0.1111111111111111,
              "#46039f"
             ],
             [
              0.2222222222222222,
              "#7201a8"
             ],
             [
              0.3333333333333333,
              "#9c179e"
             ],
             [
              0.4444444444444444,
              "#bd3786"
             ],
             [
              0.5555555555555556,
              "#d8576b"
             ],
             [
              0.6666666666666666,
              "#ed7953"
             ],
             [
              0.7777777777777778,
              "#fb9f3a"
             ],
             [
              0.8888888888888888,
              "#fdca26"
             ],
             [
              1,
              "#f0f921"
             ]
            ],
            "type": "contour"
           }
          ],
          "contourcarpet": [
           {
            "colorbar": {
             "outlinewidth": 0,
             "ticks": ""
            },
            "type": "contourcarpet"
           }
          ],
          "heatmap": [
           {
            "colorbar": {
             "outlinewidth": 0,
             "ticks": ""
            },
            "colorscale": [
             [
              0,
              "#0d0887"
             ],
             [
              0.1111111111111111,
              "#46039f"
             ],
             [
              0.2222222222222222,
              "#7201a8"
             ],
             [
              0.3333333333333333,
              "#9c179e"
             ],
             [
              0.4444444444444444,
              "#bd3786"
             ],
             [
              0.5555555555555556,
              "#d8576b"
             ],
             [
              0.6666666666666666,
              "#ed7953"
             ],
             [
              0.7777777777777778,
              "#fb9f3a"
             ],
             [
              0.8888888888888888,
              "#fdca26"
             ],
             [
              1,
              "#f0f921"
             ]
            ],
            "type": "heatmap"
           }
          ],
          "histogram": [
           {
            "marker": {
             "pattern": {
              "fillmode": "overlay",
              "size": 10,
              "solidity": 0.2
             }
            },
            "type": "histogram"
           }
          ],
          "histogram2d": [
           {
            "colorbar": {
             "outlinewidth": 0,
             "ticks": ""
            },
            "colorscale": [
             [
              0,
              "#0d0887"
             ],
             [
              0.1111111111111111,
              "#46039f"
             ],
             [
              0.2222222222222222,
              "#7201a8"
             ],
             [
              0.3333333333333333,
              "#9c179e"
             ],
             [
              0.4444444444444444,
              "#bd3786"
             ],
             [
              0.5555555555555556,
              "#d8576b"
             ],
             [
              0.6666666666666666,
              "#ed7953"
             ],
             [
              0.7777777777777778,
              "#fb9f3a"
             ],
             [
              0.8888888888888888,
              "#fdca26"
             ],
             [
              1,
              "#f0f921"
             ]
            ],
            "type": "histogram2d"
           }
          ],
          "histogram2dcontour": [
           {
            "colorbar": {
             "outlinewidth": 0,
             "ticks": ""
            },
            "colorscale": [
             [
              0,
              "#0d0887"
             ],
             [
              0.1111111111111111,
              "#46039f"
             ],
             [
              0.2222222222222222,
              "#7201a8"
             ],
             [
              0.3333333333333333,
              "#9c179e"
             ],
             [
              0.4444444444444444,
              "#bd3786"
             ],
             [
              0.5555555555555556,
              "#d8576b"
             ],
             [
              0.6666666666666666,
              "#ed7953"
             ],
             [
              0.7777777777777778,
              "#fb9f3a"
             ],
             [
              0.8888888888888888,
              "#fdca26"
             ],
             [
              1,
              "#f0f921"
             ]
            ],
            "type": "histogram2dcontour"
           }
          ],
          "mesh3d": [
           {
            "colorbar": {
             "outlinewidth": 0,
             "ticks": ""
            },
            "type": "mesh3d"
           }
          ],
          "parcoords": [
           {
            "line": {
             "colorbar": {
              "outlinewidth": 0,
              "ticks": ""
             }
            },
            "type": "parcoords"
           }
          ],
          "pie": [
           {
            "automargin": true,
            "type": "pie"
           }
          ],
          "scatter": [
           {
            "fillpattern": {
             "fillmode": "overlay",
             "size": 10,
             "solidity": 0.2
            },
            "type": "scatter"
           }
          ],
          "scatter3d": [
           {
            "line": {
             "colorbar": {
              "outlinewidth": 0,
              "ticks": ""
             }
            },
            "marker": {
             "colorbar": {
              "outlinewidth": 0,
              "ticks": ""
             }
            },
            "type": "scatter3d"
           }
          ],
          "scattercarpet": [
           {
            "marker": {
             "colorbar": {
              "outlinewidth": 0,
              "ticks": ""
             }
            },
            "type": "scattercarpet"
           }
          ],
          "scattergeo": [
           {
            "marker": {
             "colorbar": {
              "outlinewidth": 0,
              "ticks": ""
             }
            },
            "type": "scattergeo"
           }
          ],
          "scattergl": [
           {
            "marker": {
             "colorbar": {
              "outlinewidth": 0,
              "ticks": ""
             }
            },
            "type": "scattergl"
           }
          ],
          "scattermap": [
           {
            "marker": {
             "colorbar": {
              "outlinewidth": 0,
              "ticks": ""
             }
            },
            "type": "scattermap"
           }
          ],
          "scattermapbox": [
           {
            "marker": {
             "colorbar": {
              "outlinewidth": 0,
              "ticks": ""
             }
            },
            "type": "scattermapbox"
           }
          ],
          "scatterpolar": [
           {
            "marker": {
             "colorbar": {
              "outlinewidth": 0,
              "ticks": ""
             }
            },
            "type": "scatterpolar"
           }
          ],
          "scatterpolargl": [
           {
            "marker": {
             "colorbar": {
              "outlinewidth": 0,
              "ticks": ""
             }
            },
            "type": "scatterpolargl"
           }
          ],
          "scatterternary": [
           {
            "marker": {
             "colorbar": {
              "outlinewidth": 0,
              "ticks": ""
             }
            },
            "type": "scatterternary"
           }
          ],
          "surface": [
           {
            "colorbar": {
             "outlinewidth": 0,
             "ticks": ""
            },
            "colorscale": [
             [
              0,
              "#0d0887"
             ],
             [
              0.1111111111111111,
              "#46039f"
             ],
             [
              0.2222222222222222,
              "#7201a8"
             ],
             [
              0.3333333333333333,
              "#9c179e"
             ],
             [
              0.4444444444444444,
              "#bd3786"
             ],
             [
              0.5555555555555556,
              "#d8576b"
             ],
             [
              0.6666666666666666,
              "#ed7953"
             ],
             [
              0.7777777777777778,
              "#fb9f3a"
             ],
             [
              0.8888888888888888,
              "#fdca26"
             ],
             [
              1,
              "#f0f921"
             ]
            ],
            "type": "surface"
           }
          ],
          "table": [
           {
            "cells": {
             "fill": {
              "color": "#EBF0F8"
             },
             "line": {
              "color": "white"
             }
            },
            "header": {
             "fill": {
              "color": "#C8D4E3"
             },
             "line": {
              "color": "white"
             }
            },
            "type": "table"
           }
          ]
         },
         "layout": {
          "annotationdefaults": {
           "arrowcolor": "#2a3f5f",
           "arrowhead": 0,
           "arrowwidth": 1
          },
          "autotypenumbers": "strict",
          "coloraxis": {
           "colorbar": {
            "outlinewidth": 0,
            "ticks": ""
           }
          },
          "colorscale": {
           "diverging": [
            [
             0,
             "#8e0152"
            ],
            [
             0.1,
             "#c51b7d"
            ],
            [
             0.2,
             "#de77ae"
            ],
            [
             0.3,
             "#f1b6da"
            ],
            [
             0.4,
             "#fde0ef"
            ],
            [
             0.5,
             "#f7f7f7"
            ],
            [
             0.6,
             "#e6f5d0"
            ],
            [
             0.7,
             "#b8e186"
            ],
            [
             0.8,
             "#7fbc41"
            ],
            [
             0.9,
             "#4d9221"
            ],
            [
             1,
             "#276419"
            ]
           ],
           "sequential": [
            [
             0,
             "#0d0887"
            ],
            [
             0.1111111111111111,
             "#46039f"
            ],
            [
             0.2222222222222222,
             "#7201a8"
            ],
            [
             0.3333333333333333,
             "#9c179e"
            ],
            [
             0.4444444444444444,
             "#bd3786"
            ],
            [
             0.5555555555555556,
             "#d8576b"
            ],
            [
             0.6666666666666666,
             "#ed7953"
            ],
            [
             0.7777777777777778,
             "#fb9f3a"
            ],
            [
             0.8888888888888888,
             "#fdca26"
            ],
            [
             1,
             "#f0f921"
            ]
           ],
           "sequentialminus": [
            [
             0,
             "#0d0887"
            ],
            [
             0.1111111111111111,
             "#46039f"
            ],
            [
             0.2222222222222222,
             "#7201a8"
            ],
            [
             0.3333333333333333,
             "#9c179e"
            ],
            [
             0.4444444444444444,
             "#bd3786"
            ],
            [
             0.5555555555555556,
             "#d8576b"
            ],
            [
             0.6666666666666666,
             "#ed7953"
            ],
            [
             0.7777777777777778,
             "#fb9f3a"
            ],
            [
             0.8888888888888888,
             "#fdca26"
            ],
            [
             1,
             "#f0f921"
            ]
           ]
          },
          "colorway": [
           "#636efa",
           "#EF553B",
           "#00cc96",
           "#ab63fa",
           "#FFA15A",
           "#19d3f3",
           "#FF6692",
           "#B6E880",
           "#FF97FF",
           "#FECB52"
          ],
          "font": {
           "color": "#2a3f5f"
          },
          "geo": {
           "bgcolor": "white",
           "lakecolor": "white",
           "landcolor": "#E5ECF6",
           "showlakes": true,
           "showland": true,
           "subunitcolor": "white"
          },
          "hoverlabel": {
           "align": "left"
          },
          "hovermode": "closest",
          "mapbox": {
           "style": "light"
          },
          "paper_bgcolor": "white",
          "plot_bgcolor": "#E5ECF6",
          "polar": {
           "angularaxis": {
            "gridcolor": "white",
            "linecolor": "white",
            "ticks": ""
           },
           "bgcolor": "#E5ECF6",
           "radialaxis": {
            "gridcolor": "white",
            "linecolor": "white",
            "ticks": ""
           }
          },
          "scene": {
           "xaxis": {
            "backgroundcolor": "#E5ECF6",
            "gridcolor": "white",
            "gridwidth": 2,
            "linecolor": "white",
            "showbackground": true,
            "ticks": "",
            "zerolinecolor": "white"
           },
           "yaxis": {
            "backgroundcolor": "#E5ECF6",
            "gridcolor": "white",
            "gridwidth": 2,
            "linecolor": "white",
            "showbackground": true,
            "ticks": "",
            "zerolinecolor": "white"
           },
           "zaxis": {
            "backgroundcolor": "#E5ECF6",
            "gridcolor": "white",
            "gridwidth": 2,
            "linecolor": "white",
            "showbackground": true,
            "ticks": "",
            "zerolinecolor": "white"
           }
          },
          "shapedefaults": {
           "line": {
            "color": "#2a3f5f"
           }
          },
          "ternary": {
           "aaxis": {
            "gridcolor": "white",
            "linecolor": "white",
            "ticks": ""
           },
           "baxis": {
            "gridcolor": "white",
            "linecolor": "white",
            "ticks": ""
           },
           "bgcolor": "#E5ECF6",
           "caxis": {
            "gridcolor": "white",
            "linecolor": "white",
            "ticks": ""
           }
          },
          "title": {
           "x": 0.05
          },
          "xaxis": {
           "automargin": true,
           "gridcolor": "white",
           "linecolor": "white",
           "ticks": "",
           "title": {
            "standoff": 15
           },
           "zerolinecolor": "white",
           "zerolinewidth": 2
          },
          "yaxis": {
           "automargin": true,
           "gridcolor": "white",
           "linecolor": "white",
           "ticks": "",
           "title": {
            "standoff": 15
           },
           "zerolinecolor": "white",
           "zerolinewidth": 2
          }
         }
        }
       }
      }
     },
     "metadata": {},
     "output_type": "display_data"
    }
   ],
   "source": [
    "import plotly.graph_objects as go\n",
    "from collections import Counter\n",
    "\n",
    "# Step 1: Extract Sequences from event columns\n",
    "event_columns = [col for col in feature_df.columns if 'concept:name' in col]  # Filter for event-related columns\n",
    "sequences = []\n",
    "\n",
    "# For each row in feature_df, extract the sequence of events\n",
    "for _, row in feature_df.iterrows():\n",
    "    events = [col.split('concept:name_')[1] for col in event_columns if row[col] == 1.0]  # Get events with 1.0 value\n",
    "    sequences.append('->'.join(events))  # Join events into a sequence\n",
    "\n",
    "# Step 2: Add sequences to the dataframe (this will be useful for visualization)\n",
    "feature_df['Sequence'] = sequences\n",
    "\n",
    "# Step 3: Get the most common sequence per cluster \n",
    "cluster_sequences = feature_df.groupby(\"Cluster\")[\"Sequence\"].agg(lambda x: x.mode()[0])\n",
    "\n",
    "# Step 4: Count the occurrences of each sequence (for Sankey diagram links)\n",
    "cluster_counts = Counter(cluster_sequences)\n",
    "\n",
    "# Step 5: Prepare data for Sankey diagram (convert sequences into sources and targets)\n",
    "sources, targets = [], []\n",
    "\n",
    "for trace in cluster_sequences.values:\n",
    "    steps = trace.split(\"->\")  # Split sequence into individual steps\n",
    "    for i in range(len(steps) - 1):\n",
    "        sources.append(steps[i])\n",
    "        targets.append(steps[i + 1])\n",
    "\n",
    "# Convert sources and targets to indices (for Sankey diagram nodes)\n",
    "all_nodes = list(set(sources + targets))  # All unique nodes (steps)\n",
    "source_indices = [all_nodes.index(s) for s in sources]\n",
    "target_indices = [all_nodes.index(t) for t in targets]\n",
    "\n",
    "# Step 6: Count the frequency of each link (source -> target pair)\n",
    "link_counts = Counter(zip(sources, targets))\n",
    "values = [link_counts[(source, target)] for source, target in zip(sources, targets)]\n",
    "\n",
    "# Step 7: Create the Sankey diagram\n",
    "fig = go.Figure(go.Sankey(\n",
    "    node=dict(label=all_nodes),\n",
    "    link=dict(source=source_indices, target=target_indices, value=values)\n",
    "))\n",
    "\n",
    "fig.show()\n"
   ]
  },
  {
   "cell_type": "code",
   "execution_count": 136,
   "metadata": {},
   "outputs": [
    {
     "name": "stdout",
     "output_type": "stream",
     "text": [
      "                                             Sub-Trace  Count\n",
      "29   Outlier->Outlier->Outlier->Outlier->Outlier->O...    400\n",
      "80   Outlier->Outlier->Outlier->Outlier->Outlier->O...     45\n",
      "81   Outlier->Outlier->Outlier->Outlier->Outlier->O...     44\n",
      "82   Outlier->Outlier->Outlier->Outlier->Outlier->O...     42\n",
      "159  Outlier->Outlier->Outlier->Outlier->Patient_ID...     40\n",
      "78   Patient_ID_&_Medication->Outlier->Outlier->Out...     38\n",
      "83   Outlier->Outlier->Outlier->Outlier->Outlier->P...     38\n",
      "79   Outlier->Outlier->Outlier->Outlier->Outlier->O...     37\n",
      "165  Outlier->Patient_ID_&_Medication->Outlier->Out...     35\n",
      "94   Outlier->Outlier->Outlier->Patient_ID_&_Medica...     34\n"
     ]
    }
   ],
   "source": [
    "from collections import Counter\n",
    "\n",
    "def get_sub_traces(trace, window_size):\n",
    "    \"\"\"Extracts sub-traces of a given window size from a full trace.\"\"\"\n",
    "    return ['->'.join(trace[i:i+window_size]) for i in range(len(trace) - window_size + 1)]\n",
    "\n",
    "# Extract unique variants (trace paths)\n",
    "from pm4py.algo.filtering.log.variants import variants_filter\n",
    "variants = variants_filter.get_variants(event_log)\n",
    "# print('variants', variants)\n",
    "\n",
    "# Convert traces from tuples to lists\n",
    "trace_list = [list(trace) for trace in variants.keys()]\n",
    "# print('trace_list', trace_list)\n",
    "\n",
    "# Extract all sub-traces\n",
    "window_size = 10 # Adjust window size as needed\n",
    "all_sub_traces = [sub_trace for trace in trace_list for sub_trace in get_sub_traces(trace, window_size)]\n",
    "# print('all_sub_traces', all_sub_traces)\n",
    "\n",
    "# Count frequency of sub-traces\n",
    "sub_trace_counts = Counter(all_sub_traces)\n",
    "\n",
    "# Convert to DataFrame for sorting\n",
    "import pandas as pd\n",
    "sub_trace_df = pd.DataFrame(sub_trace_counts.items(), columns=['Sub-Trace', 'Count'])\n",
    "sub_trace_df = sub_trace_df.sort_values(by='Count', ascending=False)\n",
    "\n",
    "print(sub_trace_df.head(10))  # Show most common sub-traces\n"
   ]
  },
  {
   "cell_type": "code",
   "execution_count": 137,
   "metadata": {},
   "outputs": [
    {
     "data": {
      "text/html": [
       "<div>\n",
       "<style scoped>\n",
       "    .dataframe tbody tr th:only-of-type {\n",
       "        vertical-align: middle;\n",
       "    }\n",
       "\n",
       "    .dataframe tbody tr th {\n",
       "        vertical-align: top;\n",
       "    }\n",
       "\n",
       "    .dataframe thead th {\n",
       "        text-align: right;\n",
       "    }\n",
       "</style>\n",
       "<table border=\"1\" class=\"dataframe\">\n",
       "  <thead>\n",
       "    <tr style=\"text-align: right;\">\n",
       "      <th></th>\n",
       "      <th>Sub-Trace</th>\n",
       "      <th>Count</th>\n",
       "    </tr>\n",
       "  </thead>\n",
       "  <tbody>\n",
       "    <tr>\n",
       "      <th>29</th>\n",
       "      <td>Outlier-&gt;Outlier-&gt;Outlier-&gt;Outlier-&gt;Outlier-&gt;O...</td>\n",
       "      <td>400</td>\n",
       "    </tr>\n",
       "    <tr>\n",
       "      <th>80</th>\n",
       "      <td>Outlier-&gt;Outlier-&gt;Outlier-&gt;Outlier-&gt;Outlier-&gt;O...</td>\n",
       "      <td>45</td>\n",
       "    </tr>\n",
       "    <tr>\n",
       "      <th>81</th>\n",
       "      <td>Outlier-&gt;Outlier-&gt;Outlier-&gt;Outlier-&gt;Outlier-&gt;O...</td>\n",
       "      <td>44</td>\n",
       "    </tr>\n",
       "    <tr>\n",
       "      <th>82</th>\n",
       "      <td>Outlier-&gt;Outlier-&gt;Outlier-&gt;Outlier-&gt;Outlier-&gt;O...</td>\n",
       "      <td>42</td>\n",
       "    </tr>\n",
       "    <tr>\n",
       "      <th>159</th>\n",
       "      <td>Outlier-&gt;Outlier-&gt;Outlier-&gt;Outlier-&gt;Patient_ID...</td>\n",
       "      <td>40</td>\n",
       "    </tr>\n",
       "    <tr>\n",
       "      <th>...</th>\n",
       "      <td>...</td>\n",
       "      <td>...</td>\n",
       "    </tr>\n",
       "    <tr>\n",
       "      <th>2363</th>\n",
       "      <td>Outlier-&gt;Patient_ID_&amp;_Medication-&gt;Outlier-&gt;Pat...</td>\n",
       "      <td>1</td>\n",
       "    </tr>\n",
       "    <tr>\n",
       "      <th>2362</th>\n",
       "      <td>Patient_ID_&amp;_Medication-&gt;Outlier-&gt;Patient_ID_&amp;...</td>\n",
       "      <td>1</td>\n",
       "    </tr>\n",
       "    <tr>\n",
       "      <th>2361</th>\n",
       "      <td>Outlier-&gt;Patient_ID_&amp;_Medication-&gt;Outlier-&gt;Pat...</td>\n",
       "      <td>1</td>\n",
       "    </tr>\n",
       "    <tr>\n",
       "      <th>2360</th>\n",
       "      <td>Outlier-&gt;Outlier-&gt;Patient_ID_&amp;_Medication-&gt;Out...</td>\n",
       "      <td>1</td>\n",
       "    </tr>\n",
       "    <tr>\n",
       "      <th>6680</th>\n",
       "      <td>Outlier-&gt;Medical_Records-&gt;Triage_&amp;_Medication-...</td>\n",
       "      <td>1</td>\n",
       "    </tr>\n",
       "  </tbody>\n",
       "</table>\n",
       "<p>6681 rows × 2 columns</p>\n",
       "</div>"
      ],
      "text/plain": [
       "                                              Sub-Trace  Count\n",
       "29    Outlier->Outlier->Outlier->Outlier->Outlier->O...    400\n",
       "80    Outlier->Outlier->Outlier->Outlier->Outlier->O...     45\n",
       "81    Outlier->Outlier->Outlier->Outlier->Outlier->O...     44\n",
       "82    Outlier->Outlier->Outlier->Outlier->Outlier->O...     42\n",
       "159   Outlier->Outlier->Outlier->Outlier->Patient_ID...     40\n",
       "...                                                 ...    ...\n",
       "2363  Outlier->Patient_ID_&_Medication->Outlier->Pat...      1\n",
       "2362  Patient_ID_&_Medication->Outlier->Patient_ID_&...      1\n",
       "2361  Outlier->Patient_ID_&_Medication->Outlier->Pat...      1\n",
       "2360  Outlier->Outlier->Patient_ID_&_Medication->Out...      1\n",
       "6680  Outlier->Medical_Records->Triage_&_Medication-...      1\n",
       "\n",
       "[6681 rows x 2 columns]"
      ]
     },
     "execution_count": 137,
     "metadata": {},
     "output_type": "execute_result"
    }
   ],
   "source": [
    "sub_trace_df"
   ]
  },
  {
   "cell_type": "code",
   "execution_count": 138,
   "metadata": {},
   "outputs": [
    {
     "name": "stdout",
     "output_type": "stream",
     "text": [
      "Outlier->Outlier->Outlier->Outlier->Outlier->Outlier->Outlier->Outlier->Outlier->Outlier count: 400\n",
      "Outlier->Outlier->Outlier->Outlier->Outlier->Outlier->Outlier->Outlier->Patient_ID_&_Medication->Outlier count: 45\n",
      "Outlier->Outlier->Outlier->Outlier->Outlier->Outlier->Outlier->Patient_ID_&_Medication->Outlier->Outlier count: 44\n",
      "Outlier->Outlier->Outlier->Outlier->Outlier->Outlier->Patient_ID_&_Medication->Outlier->Outlier->Outlier count: 42\n",
      "Outlier->Outlier->Outlier->Outlier->Patient_ID_&_Medication->Outlier->Outlier->Outlier->Outlier->Outlier count: 40\n"
     ]
    }
   ],
   "source": [
    "for i in range(5):\n",
    "    print(sub_trace_df.iloc[i][0], 'count:', sub_trace_df.iloc[i][1])"
   ]
  },
  {
   "cell_type": "code",
   "execution_count": 139,
   "metadata": {},
   "outputs": [
    {
     "data": {
      "text/html": [
       "<div>\n",
       "<style scoped>\n",
       "    .dataframe tbody tr th:only-of-type {\n",
       "        vertical-align: middle;\n",
       "    }\n",
       "\n",
       "    .dataframe tbody tr th {\n",
       "        vertical-align: top;\n",
       "    }\n",
       "\n",
       "    .dataframe thead th {\n",
       "        text-align: right;\n",
       "    }\n",
       "</style>\n",
       "<table border=\"1\" class=\"dataframe\">\n",
       "  <thead>\n",
       "    <tr style=\"text-align: right;\">\n",
       "      <th></th>\n",
       "      <th>Sub-Trace</th>\n",
       "      <th>Count</th>\n",
       "    </tr>\n",
       "  </thead>\n",
       "  <tbody>\n",
       "    <tr>\n",
       "      <th>29</th>\n",
       "      <td>Outlier-&gt;Outlier-&gt;Outlier-&gt;Outlier-&gt;Outlier-&gt;O...</td>\n",
       "      <td>400</td>\n",
       "    </tr>\n",
       "    <tr>\n",
       "      <th>80</th>\n",
       "      <td>Outlier-&gt;Outlier-&gt;Outlier-&gt;Outlier-&gt;Outlier-&gt;O...</td>\n",
       "      <td>45</td>\n",
       "    </tr>\n",
       "    <tr>\n",
       "      <th>81</th>\n",
       "      <td>Outlier-&gt;Outlier-&gt;Outlier-&gt;Outlier-&gt;Outlier-&gt;O...</td>\n",
       "      <td>44</td>\n",
       "    </tr>\n",
       "    <tr>\n",
       "      <th>82</th>\n",
       "      <td>Outlier-&gt;Outlier-&gt;Outlier-&gt;Outlier-&gt;Outlier-&gt;O...</td>\n",
       "      <td>42</td>\n",
       "    </tr>\n",
       "    <tr>\n",
       "      <th>159</th>\n",
       "      <td>Outlier-&gt;Outlier-&gt;Outlier-&gt;Outlier-&gt;Patient_ID...</td>\n",
       "      <td>40</td>\n",
       "    </tr>\n",
       "    <tr>\n",
       "      <th>...</th>\n",
       "      <td>...</td>\n",
       "      <td>...</td>\n",
       "    </tr>\n",
       "    <tr>\n",
       "      <th>2363</th>\n",
       "      <td>Outlier-&gt;Patient_ID_&amp;_Medication-&gt;Outlier-&gt;Pat...</td>\n",
       "      <td>1</td>\n",
       "    </tr>\n",
       "    <tr>\n",
       "      <th>2362</th>\n",
       "      <td>Patient_ID_&amp;_Medication-&gt;Outlier-&gt;Patient_ID_&amp;...</td>\n",
       "      <td>1</td>\n",
       "    </tr>\n",
       "    <tr>\n",
       "      <th>2361</th>\n",
       "      <td>Outlier-&gt;Patient_ID_&amp;_Medication-&gt;Outlier-&gt;Pat...</td>\n",
       "      <td>1</td>\n",
       "    </tr>\n",
       "    <tr>\n",
       "      <th>2360</th>\n",
       "      <td>Outlier-&gt;Outlier-&gt;Patient_ID_&amp;_Medication-&gt;Out...</td>\n",
       "      <td>1</td>\n",
       "    </tr>\n",
       "    <tr>\n",
       "      <th>6680</th>\n",
       "      <td>Outlier-&gt;Medical_Records-&gt;Triage_&amp;_Medication-...</td>\n",
       "      <td>1</td>\n",
       "    </tr>\n",
       "  </tbody>\n",
       "</table>\n",
       "<p>6681 rows × 2 columns</p>\n",
       "</div>"
      ],
      "text/plain": [
       "                                              Sub-Trace  Count\n",
       "29    Outlier->Outlier->Outlier->Outlier->Outlier->O...    400\n",
       "80    Outlier->Outlier->Outlier->Outlier->Outlier->O...     45\n",
       "81    Outlier->Outlier->Outlier->Outlier->Outlier->O...     44\n",
       "82    Outlier->Outlier->Outlier->Outlier->Outlier->O...     42\n",
       "159   Outlier->Outlier->Outlier->Outlier->Patient_ID...     40\n",
       "...                                                 ...    ...\n",
       "2363  Outlier->Patient_ID_&_Medication->Outlier->Pat...      1\n",
       "2362  Patient_ID_&_Medication->Outlier->Patient_ID_&...      1\n",
       "2361  Outlier->Patient_ID_&_Medication->Outlier->Pat...      1\n",
       "2360  Outlier->Outlier->Patient_ID_&_Medication->Out...      1\n",
       "6680  Outlier->Medical_Records->Triage_&_Medication-...      1\n",
       "\n",
       "[6681 rows x 2 columns]"
      ]
     },
     "execution_count": 139,
     "metadata": {},
     "output_type": "execute_result"
    }
   ],
   "source": [
    "sub_trace_df"
   ]
  },
  {
   "cell_type": "code",
   "execution_count": 140,
   "metadata": {},
   "outputs": [
    {
     "name": "stdout",
     "output_type": "stream",
     "text": [
      "Window Size 2: Diversity Score = 0.0196\n",
      "Window Size 3: Diversity Score = 0.0902\n",
      "Window Size 4: Diversity Score = 0.2128\n",
      "Window Size 5: Diversity Score = 0.3555\n",
      "Window Size 6: Diversity Score = 0.4820\n",
      "Window Size 7: Diversity Score = 0.5872\n",
      "Window Size 8: Diversity Score = 0.6680\n",
      "Window Size 9: Diversity Score = 0.7306\n",
      "Window Size 10: Diversity Score = 0.7816\n",
      "Window Size 11: Diversity Score = 0.8209\n",
      "Window Size 12: Diversity Score = 0.8522\n",
      "Window Size 13: Diversity Score = 0.8782\n",
      "Window Size 14: Diversity Score = 0.8976\n",
      "Window Size 15: Diversity Score = 0.9144\n",
      "Window Size 16: Diversity Score = 0.9279\n",
      "Window Size 17: Diversity Score = 0.9395\n",
      "Window Size 18: Diversity Score = 0.9501\n",
      "Window Size 19: Diversity Score = 0.9588\n"
     ]
    }
   ],
   "source": [
    "def diversity_score(sub_trace_counts):\n",
    "    unique_sub_traces = len(sub_trace_counts)\n",
    "    total_sub_traces = sum(sub_trace_counts.values())\n",
    "    return unique_sub_traces / total_sub_traces  # Ratio of unique sequences\n",
    "\n",
    "for n in range(2, 20):\n",
    "    all_sub_traces = [sub_trace for trace in trace_list for sub_trace in get_sub_traces(trace, n)]\n",
    "    sub_trace_counts = Counter(all_sub_traces)\n",
    "    \n",
    "    score = diversity_score(sub_trace_counts)\n",
    "    print(f\"Window Size {n}: Diversity Score = {score:.4f}\")"
   ]
  },
  {
   "cell_type": "code",
   "execution_count": 141,
   "metadata": {},
   "outputs": [
    {
     "data": {
      "image/png": "[encoded data removed]",
      "text/plain": [
       "<Figure size 640x480 with 1 Axes>"
      ]
     },
     "metadata": {},
     "output_type": "display_data"
    }
   ],
   "source": [
    "import matplotlib.pyplot as plt\n",
    "from collections import Counter\n",
    "\n",
    "# Function to test different window sizes\n",
    "def test_window_sizes(trace_list, max_n=20):\n",
    "    for window_size in range(2, max_n + 1):\n",
    "        all_sub_traces = [sub_trace for trace in trace_list for sub_trace in get_sub_traces(trace, window_size)]\n",
    "        sub_trace_counts = Counter(all_sub_traces)\n",
    "        \n",
    "        # Get top 10 frequent sub-traces\n",
    "        top_counts = sorted(sub_trace_counts.values(), reverse=True)[:10]\n",
    "        \n",
    "        plt.plot(range(1, len(top_counts) + 1), top_counts, label=f'Window Size {window_size}')\n",
    "\n",
    "    plt.xlabel('Rank')\n",
    "    plt.ylabel('Frequency')\n",
    "    plt.title('Sub-trace Frequency Distribution')\n",
    "    plt.legend()\n",
    "    plt.show()\n",
    "\n",
    "test_window_sizes(trace_list)\n"
   ]
  },
  {
   "cell_type": "code",
   "execution_count": 142,
   "metadata": {},
   "outputs": [
    {
     "name": "stdout",
     "output_type": "stream",
     "text": [
      "                                                 Trace  Cluster\n",
      "0    Triage_&_Medication Outlier Outlier Medical_Re...        0\n",
      "45   Medical_Records Medical_Records Remicade_&_Fol...        0\n",
      "44   Triage_&_Medication Outlier Medical_Records Tr...        0\n",
      "42   Triage_&_Medication Medical_Records Medical_Re...        0\n",
      "58   Triage_&_Medication Triage_&_Medication Triage...        0\n",
      "..                                                 ...      ...\n",
      "23   Triage_&_Medication Medical_Records Prophylaxi...        3\n",
      "64   Triage_&_Medication Medical_Records Triage_&_M...        3\n",
      "11   Triage_&_Medication Medical_Records Triage_&_M...        4\n",
      "43   Outlier Remicade_&_Follow-up Pancreatitis_&_Wh...        4\n",
      "104  Medical_Records Medical_Records Outlier Rectal...        4\n",
      "\n",
      "[105 rows x 2 columns]\n"
     ]
    }
   ],
   "source": [
    "from sklearn.feature_extraction.text import TfidfVectorizer\n",
    "from sklearn.cluster import KMeans\n",
    "\n",
    "# Convert full traces into \"sentences\" (for NLP processing)\n",
    "trace_sentences = [' '.join(trace) for trace in trace_list]\n",
    "\n",
    "# Apply TF-IDF Vectorization\n",
    "vectorizer = TfidfVectorizer()\n",
    "X = vectorizer.fit_transform(trace_sentences)\n",
    "\n",
    "# Cluster Traces Using K-Means\n",
    "num_clusters = 5  # Change based on your data\n",
    "kmeans = KMeans(n_clusters=num_clusters, random_state=42)\n",
    "trace_clusters = kmeans.fit_predict(X)\n",
    "\n",
    "# Add cluster labels to traces\n",
    "clustered_traces = pd.DataFrame({'Trace': trace_sentences, 'Cluster': trace_clusters})\n",
    "print(clustered_traces.sort_values(by='Cluster'))\n"
   ]
  },
  {
   "cell_type": "code",
   "execution_count": 143,
   "metadata": {},
   "outputs": [
    {
     "data": {
      "image/png": "[encoded data removed]",
      "text/plain": [
       "<Figure size 1000x600 with 1 Axes>"
      ]
     },
     "metadata": {},
     "output_type": "display_data"
    }
   ],
   "source": [
    "import matplotlib.pyplot as plt\n",
    "from sklearn.decomposition import PCA\n",
    "from sklearn.feature_extraction.text import TfidfVectorizer\n",
    "from sklearn.cluster import KMeans\n",
    "\n",
    "# Convert traces to \"sentences\"\n",
    "trace_sentences = [' '.join(trace) for trace in trace_list]\n",
    "\n",
    "# Apply Count Vectorization\n",
    "from sklearn.feature_extraction.text import CountVectorizer\n",
    "vectorizer = CountVectorizer()\n",
    "X = vectorizer.fit_transform(trace_sentences)\n",
    "\n",
    "\n",
    "# Apply TF-IDF\n",
    "vectorizer = TfidfVectorizer()\n",
    "X = vectorizer.fit_transform(trace_sentences)\n",
    "\n",
    "\n",
    "# Apply K-Means clustering\n",
    "num_clusters = 5  # Adjust based on data\n",
    "kmeans = KMeans(n_clusters=num_clusters, random_state=42)\n",
    "clusters = kmeans.fit_predict(X)\n",
    "\n",
    "# Reduce dimensions using PCA\n",
    "pca = PCA(n_components=2)\n",
    "X_pca = pca.fit_transform(X.toarray())\n",
    "\n",
    "# Plot clusters\n",
    "plt.figure(figsize=(10, 6))\n",
    "for i in range(num_clusters):\n",
    "    plt.scatter(X_pca[clusters == i, 0], X_pca[clusters == i, 1], label=f'Cluster {i}')\n",
    "\n",
    "plt.scatter(kmeans.cluster_centers_[:, 0], kmeans.cluster_centers_[:, 1], \n",
    "            s=200, c='red', marker='X', label='Centroids')\n",
    "\n",
    "plt.xlabel('PCA Component 1')\n",
    "plt.ylabel('PCA Component 2')\n",
    "plt.title('K-Means Clustering of Patient Journeys')\n",
    "plt.legend()\n",
    "plt.show()"
   ]
  },
  {
   "cell_type": "code",
   "execution_count": 144,
   "metadata": {},
   "outputs": [
    {
     "data": {
      "image/png": "[encoded data removed]",
      "text/plain": [
       "<Figure size 1000x600 with 1 Axes>"
      ]
     },
     "metadata": {},
     "output_type": "display_data"
    }
   ],
   "source": [
    "from sklearn.manifold import TSNE\n",
    "\n",
    "# Reduce dimensions using t-SNE\n",
    "tsne = TSNE(n_components=2, perplexity=30, random_state=42)\n",
    "X_tsne = tsne.fit_transform(X.toarray())\n",
    "\n",
    "# Plot clusters\n",
    "plt.figure(figsize=(10, 6))\n",
    "for i in range(num_clusters):\n",
    "    plt.scatter(X_tsne[clusters == i, 0], X_tsne[clusters == i, 1], label=f'Cluster {i}')\n",
    "\n",
    "plt.xlabel('t-SNE Component 1')\n",
    "plt.ylabel('t-SNE Component 2')\n",
    "plt.title('t-SNE Visualization of K-Means Clustering')\n",
    "plt.legend()\n",
    "plt.show()\n"
   ]
  },
  {
   "cell_type": "code",
   "execution_count": 145,
   "metadata": {},
   "outputs": [
    {
     "data": {
      "application/vnd.plotly.v1+json": {
       "config": {
        "plotlyServerURL": "https://plot.ly"
       },
       "data": [
        {
         "link": {
          "source": [
           0,
           0,
           0,
           0,
           0
          ],
          "target": [
           1,
           2,
           3,
           4,
           5,
           6,
           7,
           8,
           9,
           10,
           11,
           12,
           13,
           14,
           15,
           16,
           17,
           18,
           19,
           20,
           21,
           22,
           23,
           24,
           25,
           26,
           27,
           28,
           29,
           30,
           31,
           32,
           33,
           34,
           35,
           36
          ],
          "value": [
           1,
           1,
           1,
           1,
           1
          ]
         },
         "node": {
          "label": [
           "Start",
           "Step 1",
           "Step 2",
           "Step 3",
           "Step 4",
           "Step 5",
           "Step 6",
           "Step 7",
           "Step 8",
           "Step 9",
           "Step 10",
           "Step 11",
           "Step 12",
           "Step 13",
           "Step 14",
           "Step 15",
           "Step 16",
           "Step 17",
           "Step 18",
           "Step 19",
           "Step 20",
           "Step 21",
           "Step 22",
           "Step 23",
           "Step 24",
           "Step 25",
           "Step 26",
           "Step 27",
           "Step 28",
           "Step 29",
           "Step 30",
           "Step 31",
           "Step 32",
           "Step 33",
           "Step 34",
           "Step 35",
           "Step 36"
          ],
          "pad": 15,
          "thickness": 20
         },
         "type": "sankey"
        },
        {
         "link": {
          "source": [
           0,
           0,
           0,
           0,
           0
          ],
          "target": [
           1,
           2,
           3,
           4,
           5,
           6,
           7,
           8,
           9,
           10,
           11,
           12,
           13,
           14,
           15,
           16,
           17,
           18,
           19,
           20,
           21,
           22,
           23,
           24,
           25,
           26,
           27,
           28,
           29,
           30,
           31,
           32,
           33,
           34,
           35,
           36,
           37,
           38,
           39,
           40,
           41,
           42,
           43,
           44,
           45,
           46,
           47,
           48,
           49,
           50,
           51,
           52,
           53,
           54,
           55,
           56,
           57,
           58,
           59,
           60,
           61,
           62,
           63,
           64,
           65,
           66,
           67,
           68,
           69,
           70,
           71,
           72,
           73,
           74,
           75,
           76,
           77,
           78,
           79,
           80,
           81,
           82,
           83,
           84,
           85,
           86,
           87,
           88,
           89,
           90,
           91,
           92,
           93,
           94,
           95,
           96,
           97,
           98,
           99,
           100,
           101,
           102,
           103,
           104,
           105,
           106,
           107,
           108,
           109,
           110,
           111,
           112,
           113,
           114,
           115,
           116,
           117,
           118,
           119,
           120,
           121,
           122,
           123,
           124,
           125,
           126,
           127,
           128,
           129,
           130,
           131,
           132,
           133,
           134,
           135,
           136,
           137,
           138,
           139,
           140,
           141,
           142,
           143,
           144,
           145,
           146,
           147,
           148,
           149,
           150,
           151,
           152,
           153,
           154,
           155,
           156,
           157,
           158,
           159,
           160,
           161,
           162,
           163,
           164,
           165,
           166,
           167,
           168,
           169,
           170
          ],
          "value": [
           1,
           1,
           1,
           1,
           1
          ]
         },
         "node": {
          "label": [
           "Start",
           "Step 1",
           "Step 2",
           "Step 3",
           "Step 4",
           "Step 5",
           "Step 6",
           "Step 7",
           "Step 8",
           "Step 9",
           "Step 10",
           "Step 11",
           "Step 12",
           "Step 13",
           "Step 14",
           "Step 15",
           "Step 16",
           "Step 17",
           "Step 18",
           "Step 19",
           "Step 20",
           "Step 21",
           "Step 22",
           "Step 23",
           "Step 24",
           "Step 25",
           "Step 26",
           "Step 27",
           "Step 28",
           "Step 29",
           "Step 30",
           "Step 31",
           "Step 32",
           "Step 33",
           "Step 34",
           "Step 35",
           "Step 36",
           "Step 37",
           "Step 38",
           "Step 39",
           "Step 40",
           "Step 41",
           "Step 42",
           "Step 43",
           "Step 44",
           "Step 45",
           "Step 46",
           "Step 47",
           "Step 48",
           "Step 49",
           "Step 50",
           "Step 51",
           "Step 52",
           "Step 53",
           "Step 54",
           "Step 55",
           "Step 56",
           "Step 57",
           "Step 58",
           "Step 59",
           "Step 60",
           "Step 61",
           "Step 62",
           "Step 63",
           "Step 64",
           "Step 65",
           "Step 66",
           "Step 67",
           "Step 68",
           "Step 69",
           "Step 70",
           "Step 71",
           "Step 72",
           "Step 73",
           "Step 74",
           "Step 75",
           "Step 76",
           "Step 77",
           "Step 78",
           "Step 79",
           "Step 80",
           "Step 81",
           "Step 82",
           "Step 83",
           "Step 84",
           "Step 85",
           "Step 86",
           "Step 87",
           "Step 88",
           "Step 89",
           "Step 90",
           "Step 91",
           "Step 92",
           "Step 93",
           "Step 94",
           "Step 95",
           "Step 96",
           "Step 97",
           "Step 98",
           "Step 99",
           "Step 100",
           "Step 101",
           "Step 102",
           "Step 103",
           "Step 104",
           "Step 105",
           "Step 106",
           "Step 107",
           "Step 108",
           "Step 109",
           "Step 110",
           "Step 111",
           "Step 112",
           "Step 113",
           "Step 114",
           "Step 115",
           "Step 116",
           "Step 117",
           "Step 118",
           "Step 119",
           "Step 120",
           "Step 121",
           "Step 122",
           "Step 123",
           "Step 124",
           "Step 125",
           "Step 126",
           "Step 127",
           "Step 128",
           "Step 129",
           "Step 130",
           "Step 131",
           "Step 132",
           "Step 133",
           "Step 134",
           "Step 135",
           "Step 136",
           "Step 137",
           "Step 138",
           "Step 139",
           "Step 140",
           "Step 141",
           "Step 142",
           "Step 143",
           "Step 144",
           "Step 145",
           "Step 146",
           "Step 147",
           "Step 148",
           "Step 149",
           "Step 150",
           "Step 151",
           "Step 152",
           "Step 153",
           "Step 154",
           "Step 155",
           "Step 156",
           "Step 157",
           "Step 158",
           "Step 159",
           "Step 160",
           "Step 161",
           "Step 162",
           "Step 163",
           "Step 164",
           "Step 165",
           "Step 166",
           "Step 167",
           "Step 168",
           "Step 169",
           "Step 170"
          ],
          "pad": 15,
          "thickness": 20
         },
         "type": "sankey"
        },
        {
         "link": {
          "source": [
           0,
           0,
           0,
           0,
           0
          ],
          "target": [
           1,
           2,
           3,
           4,
           5,
           6,
           7,
           8,
           9,
           10,
           11,
           12,
           13,
           14
          ],
          "value": [
           1,
           1,
           1,
           1,
           1
          ]
         },
         "node": {
          "label": [
           "Start",
           "Step 1",
           "Step 2",
           "Step 3",
           "Step 4",
           "Step 5",
           "Step 6",
           "Step 7",
           "Step 8",
           "Step 9",
           "Step 10",
           "Step 11",
           "Step 12",
           "Step 13",
           "Step 14"
          ],
          "pad": 15,
          "thickness": 20
         },
         "type": "sankey"
        },
        {
         "link": {
          "source": [
           0,
           0,
           0,
           0,
           0
          ],
          "target": [
           1,
           2,
           3,
           4,
           5,
           6,
           7,
           8,
           9,
           10,
           11,
           12,
           13,
           14,
           15,
           16,
           17,
           18,
           19,
           20,
           21,
           22,
           23,
           24,
           25,
           26,
           27,
           28,
           29,
           30,
           31,
           32,
           33,
           34,
           35
          ],
          "value": [
           1,
           1,
           1,
           1,
           1
          ]
         },
         "node": {
          "label": [
           "Start",
           "Step 1",
           "Step 2",
           "Step 3",
           "Step 4",
           "Step 5",
           "Step 6",
           "Step 7",
           "Step 8",
           "Step 9",
           "Step 10",
           "Step 11",
           "Step 12",
           "Step 13",
           "Step 14",
           "Step 15",
           "Step 16",
           "Step 17",
           "Step 18",
           "Step 19",
           "Step 20",
           "Step 21",
           "Step 22",
           "Step 23",
           "Step 24",
           "Step 25",
           "Step 26",
           "Step 27",
           "Step 28",
           "Step 29",
           "Step 30",
           "Step 31",
           "Step 32",
           "Step 33",
           "Step 34",
           "Step 35"
          ],
          "pad": 15,
          "thickness": 20
         },
         "type": "sankey"
        },
        {
         "link": {
          "source": [
           0,
           0,
           0
          ],
          "target": [
           1,
           2,
           3,
           4,
           5,
           6,
           7,
           8,
           9,
           10,
           11,
           12,
           13,
           14,
           15,
           16,
           17,
           18,
           19,
           20,
           21,
           22,
           23,
           24,
           25,
           26,
           27,
           28,
           29,
           30,
           31,
           32,
           33,
           34,
           35,
           36,
           37,
           38,
           39,
           40,
           41,
           42,
           43,
           44,
           45,
           46,
           47,
           48,
           49,
           50,
           51,
           52,
           53,
           54,
           55,
           56,
           57,
           58,
           59,
           60,
           61,
           62,
           63,
           64,
           65,
           66,
           67,
           68,
           69,
           70,
           71,
           72,
           73,
           74,
           75,
           76,
           77,
           78,
           79,
           80,
           81,
           82,
           83,
           84,
           85,
           86,
           87,
           88,
           89,
           90,
           91,
           92
          ],
          "value": [
           1,
           1,
           1
          ]
         },
         "node": {
          "label": [
           "Start",
           "Step 1",
           "Step 2",
           "Step 3",
           "Step 4",
           "Step 5",
           "Step 6",
           "Step 7",
           "Step 8",
           "Step 9",
           "Step 10",
           "Step 11",
           "Step 12",
           "Step 13",
           "Step 14",
           "Step 15",
           "Step 16",
           "Step 17",
           "Step 18",
           "Step 19",
           "Step 20",
           "Step 21",
           "Step 22",
           "Step 23",
           "Step 24",
           "Step 25",
           "Step 26",
           "Step 27",
           "Step 28",
           "Step 29",
           "Step 30",
           "Step 31",
           "Step 32",
           "Step 33",
           "Step 34",
           "Step 35",
           "Step 36",
           "Step 37",
           "Step 38",
           "Step 39",
           "Step 40",
           "Step 41",
           "Step 42",
           "Step 43",
           "Step 44",
           "Step 45",
           "Step 46",
           "Step 47",
           "Step 48",
           "Step 49",
           "Step 50",
           "Step 51",
           "Step 52",
           "Step 53",
           "Step 54",
           "Step 55",
           "Step 56",
           "Step 57",
           "Step 58",
           "Step 59",
           "Step 60",
           "Step 61",
           "Step 62",
           "Step 63",
           "Step 64",
           "Step 65",
           "Step 66",
           "Step 67",
           "Step 68",
           "Step 69",
           "Step 70",
           "Step 71",
           "Step 72",
           "Step 73",
           "Step 74",
           "Step 75",
           "Step 76",
           "Step 77",
           "Step 78",
           "Step 79",
           "Step 80",
           "Step 81",
           "Step 82",
           "Step 83",
           "Step 84",
           "Step 85",
           "Step 86",
           "Step 87",
           "Step 88",
           "Step 89",
           "Step 90",
           "Step 91",
           "Step 92"
          ],
          "pad": 15,
          "thickness": 20
         },
         "type": "sankey"
        }
       ],
       "layout": {
        "template": {
         "data": {
          "bar": [
           {
            "error_x": {
             "color": "#2a3f5f"
            },
            "error_y": {
             "color": "#2a3f5f"
            },
            "marker": {
             "line": {
              "color": "#E5ECF6",
              "width": 0.5
             },
             "pattern": {
              "fillmode": "overlay",
              "size": 10,
              "solidity": 0.2
             }
            },
            "type": "bar"
           }
          ],
          "barpolar": [
           {
            "marker": {
             "line": {
              "color": "#E5ECF6",
              "width": 0.5
             },
             "pattern": {
              "fillmode": "overlay",
              "size": 10,
              "solidity": 0.2
             }
            },
            "type": "barpolar"
           }
          ],
          "carpet": [
           {
            "aaxis": {
             "endlinecolor": "#2a3f5f",
             "gridcolor": "white",
             "linecolor": "white",
             "minorgridcolor": "white",
             "startlinecolor": "#2a3f5f"
            },
            "baxis": {
             "endlinecolor": "#2a3f5f",
             "gridcolor": "white",
             "linecolor": "white",
             "minorgridcolor": "white",
             "startlinecolor": "#2a3f5f"
            },
            "type": "carpet"
           }
          ],
          "choropleth": [
           {
            "colorbar": {
             "outlinewidth": 0,
             "ticks": ""
            },
            "type": "choropleth"
           }
          ],
          "contour": [
           {
            "colorbar": {
             "outlinewidth": 0,
             "ticks": ""
            },
            "colorscale": [
             [
              0,
              "#0d0887"
             ],
             [
              0.1111111111111111,
              "#46039f"
             ],
             [
              0.2222222222222222,
              "#7201a8"
             ],
             [
              0.3333333333333333,
              "#9c179e"
             ],
             [
              0.4444444444444444,
              "#bd3786"
             ],
             [
              0.5555555555555556,
              "#d8576b"
             ],
             [
              0.6666666666666666,
              "#ed7953"
             ],
             [
              0.7777777777777778,
              "#fb9f3a"
             ],
             [
              0.8888888888888888,
              "#fdca26"
             ],
             [
              1,
              "#f0f921"
             ]
            ],
            "type": "contour"
           }
          ],
          "contourcarpet": [
           {
            "colorbar": {
             "outlinewidth": 0,
             "ticks": ""
            },
            "type": "contourcarpet"
           }
          ],
          "heatmap": [
           {
            "colorbar": {
             "outlinewidth": 0,
             "ticks": ""
            },
            "colorscale": [
             [
              0,
              "#0d0887"
             ],
             [
              0.1111111111111111,
              "#46039f"
             ],
             [
              0.2222222222222222,
              "#7201a8"
             ],
             [
              0.3333333333333333,
              "#9c179e"
             ],
             [
              0.4444444444444444,
              "#bd3786"
             ],
             [
              0.5555555555555556,
              "#d8576b"
             ],
             [
              0.6666666666666666,
              "#ed7953"
             ],
             [
              0.7777777777777778,
              "#fb9f3a"
             ],
             [
              0.8888888888888888,
              "#fdca26"
             ],
             [
              1,
              "#f0f921"
             ]
            ],
            "type": "heatmap"
           }
          ],
          "histogram": [
           {
            "marker": {
             "pattern": {
              "fillmode": "overlay",
              "size": 10,
              "solidity": 0.2
             }
            },
            "type": "histogram"
           }
          ],
          "histogram2d": [
           {
            "colorbar": {
             "outlinewidth": 0,
             "ticks": ""
            },
            "colorscale": [
             [
              0,
              "#0d0887"
             ],
             [
              0.1111111111111111,
              "#46039f"
             ],
             [
              0.2222222222222222,
              "#7201a8"
             ],
             [
              0.3333333333333333,
              "#9c179e"
             ],
             [
              0.4444444444444444,
              "#bd3786"
             ],
             [
              0.5555555555555556,
              "#d8576b"
             ],
             [
              0.6666666666666666,
              "#ed7953"
             ],
             [
              0.7777777777777778,
              "#fb9f3a"
             ],
             [
              0.8888888888888888,
              "#fdca26"
             ],
             [
              1,
              "#f0f921"
             ]
            ],
            "type": "histogram2d"
           }
          ],
          "histogram2dcontour": [
           {
            "colorbar": {
             "outlinewidth": 0,
             "ticks": ""
            },
            "colorscale": [
             [
              0,
              "#0d0887"
             ],
             [
              0.1111111111111111,
              "#46039f"
             ],
             [
              0.2222222222222222,
              "#7201a8"
             ],
             [
              0.3333333333333333,
              "#9c179e"
             ],
             [
              0.4444444444444444,
              "#bd3786"
             ],
             [
              0.5555555555555556,
              "#d8576b"
             ],
             [
              0.6666666666666666,
              "#ed7953"
             ],
             [
              0.7777777777777778,
              "#fb9f3a"
             ],
             [
              0.8888888888888888,
              "#fdca26"
             ],
             [
              1,
              "#f0f921"
             ]
            ],
            "type": "histogram2dcontour"
           }
          ],
          "mesh3d": [
           {
            "colorbar": {
             "outlinewidth": 0,
             "ticks": ""
            },
            "type": "mesh3d"
           }
          ],
          "parcoords": [
           {
            "line": {
             "colorbar": {
              "outlinewidth": 0,
              "ticks": ""
             }
            },
            "type": "parcoords"
           }
          ],
          "pie": [
           {
            "automargin": true,
            "type": "pie"
           }
          ],
          "scatter": [
           {
            "fillpattern": {
             "fillmode": "overlay",
             "size": 10,
             "solidity": 0.2
            },
            "type": "scatter"
           }
          ],
          "scatter3d": [
           {
            "line": {
             "colorbar": {
              "outlinewidth": 0,
              "ticks": ""
             }
            },
            "marker": {
             "colorbar": {
              "outlinewidth": 0,
              "ticks": ""
             }
            },
            "type": "scatter3d"
           }
          ],
          "scattercarpet": [
           {
            "marker": {
             "colorbar": {
              "outlinewidth": 0,
              "ticks": ""
             }
            },
            "type": "scattercarpet"
           }
          ],
          "scattergeo": [
           {
            "marker": {
             "colorbar": {
              "outlinewidth": 0,
              "ticks": ""
             }
            },
            "type": "scattergeo"
           }
          ],
          "scattergl": [
           {
            "marker": {
             "colorbar": {
              "outlinewidth": 0,
              "ticks": ""
             }
            },
            "type": "scattergl"
           }
          ],
          "scattermap": [
           {
            "marker": {
             "colorbar": {
              "outlinewidth": 0,
              "ticks": ""
             }
            },
            "type": "scattermap"
           }
          ],
          "scattermapbox": [
           {
            "marker": {
             "colorbar": {
              "outlinewidth": 0,
              "ticks": ""
             }
            },
            "type": "scattermapbox"
           }
          ],
          "scatterpolar": [
           {
            "marker": {
             "colorbar": {
              "outlinewidth": 0,
              "ticks": ""
             }
            },
            "type": "scatterpolar"
           }
          ],
          "scatterpolargl": [
           {
            "marker": {
             "colorbar": {
              "outlinewidth": 0,
              "ticks": ""
             }
            },
            "type": "scatterpolargl"
           }
          ],
          "scatterternary": [
           {
            "marker": {
             "colorbar": {
              "outlinewidth": 0,
              "ticks": ""
             }
            },
            "type": "scatterternary"
           }
          ],
          "surface": [
           {
            "colorbar": {
             "outlinewidth": 0,
             "ticks": ""
            },
            "colorscale": [
             [
              0,
              "#0d0887"
             ],
             [
              0.1111111111111111,
              "#46039f"
             ],
             [
              0.2222222222222222,
              "#7201a8"
             ],
             [
              0.3333333333333333,
              "#9c179e"
             ],
             [
              0.4444444444444444,
              "#bd3786"
             ],
             [
              0.5555555555555556,
              "#d8576b"
             ],
             [
              0.6666666666666666,
              "#ed7953"
             ],
             [
              0.7777777777777778,
              "#fb9f3a"
             ],
             [
              0.8888888888888888,
              "#fdca26"
             ],
             [
              1,
              "#f0f921"
             ]
            ],
            "type": "surface"
           }
          ],
          "table": [
           {
            "cells": {
             "fill": {
              "color": "#EBF0F8"
             },
             "line": {
              "color": "white"
             }
            },
            "header": {
             "fill": {
              "color": "#C8D4E3"
             },
             "line": {
              "color": "white"
             }
            },
            "type": "table"
           }
          ]
         },
         "layout": {
          "annotationdefaults": {
           "arrowcolor": "#2a3f5f",
           "arrowhead": 0,
           "arrowwidth": 1
          },
          "autotypenumbers": "strict",
          "coloraxis": {
           "colorbar": {
            "outlinewidth": 0,
            "ticks": ""
           }
          },
          "colorscale": {
           "diverging": [
            [
             0,
             "#8e0152"
            ],
            [
             0.1,
             "#c51b7d"
            ],
            [
             0.2,
             "#de77ae"
            ],
            [
             0.3,
             "#f1b6da"
            ],
            [
             0.4,
             "#fde0ef"
            ],
            [
             0.5,
             "#f7f7f7"
            ],
            [
             0.6,
             "#e6f5d0"
            ],
            [
             0.7,
             "#b8e186"
            ],
            [
             0.8,
             "#7fbc41"
            ],
            [
             0.9,
             "#4d9221"
            ],
            [
             1,
             "#276419"
            ]
           ],
           "sequential": [
            [
             0,
             "#0d0887"
            ],
            [
             0.1111111111111111,
             "#46039f"
            ],
            [
             0.2222222222222222,
             "#7201a8"
            ],
            [
             0.3333333333333333,
             "#9c179e"
            ],
            [
             0.4444444444444444,
             "#bd3786"
            ],
            [
             0.5555555555555556,
             "#d8576b"
            ],
            [
             0.6666666666666666,
             "#ed7953"
            ],
            [
             0.7777777777777778,
             "#fb9f3a"
            ],
            [
             0.8888888888888888,
             "#fdca26"
            ],
            [
             1,
             "#f0f921"
            ]
           ],
           "sequentialminus": [
            [
             0,
             "#0d0887"
            ],
            [
             0.1111111111111111,
             "#46039f"
            ],
            [
             0.2222222222222222,
             "#7201a8"
            ],
            [
             0.3333333333333333,
             "#9c179e"
            ],
            [
             0.4444444444444444,
             "#bd3786"
            ],
            [
             0.5555555555555556,
             "#d8576b"
            ],
            [
             0.6666666666666666,
             "#ed7953"
            ],
            [
             0.7777777777777778,
             "#fb9f3a"
            ],
            [
             0.8888888888888888,
             "#fdca26"
            ],
            [
             1,
             "#f0f921"
            ]
           ]
          },
          "colorway": [
           "#636efa",
           "#EF553B",
           "#00cc96",
           "#ab63fa",
           "#FFA15A",
           "#19d3f3",
           "#FF6692",
           "#B6E880",
           "#FF97FF",
           "#FECB52"
          ],
          "font": {
           "color": "#2a3f5f"
          },
          "geo": {
           "bgcolor": "white",
           "lakecolor": "white",
           "landcolor": "#E5ECF6",
           "showlakes": true,
           "showland": true,
           "subunitcolor": "white"
          },
          "hoverlabel": {
           "align": "left"
          },
          "hovermode": "closest",
          "mapbox": {
           "style": "light"
          },
          "paper_bgcolor": "white",
          "plot_bgcolor": "#E5ECF6",
          "polar": {
           "angularaxis": {
            "gridcolor": "white",
            "linecolor": "white",
            "ticks": ""
           },
           "bgcolor": "#E5ECF6",
           "radialaxis": {
            "gridcolor": "white",
            "linecolor": "white",
            "ticks": ""
           }
          },
          "scene": {
           "xaxis": {
            "backgroundcolor": "#E5ECF6",
            "gridcolor": "white",
            "gridwidth": 2,
            "linecolor": "white",
            "showbackground": true,
            "ticks": "",
            "zerolinecolor": "white"
           },
           "yaxis": {
            "backgroundcolor": "#E5ECF6",
            "gridcolor": "white",
            "gridwidth": 2,
            "linecolor": "white",
            "showbackground": true,
            "ticks": "",
            "zerolinecolor": "white"
           },
           "zaxis": {
            "backgroundcolor": "#E5ECF6",
            "gridcolor": "white",
            "gridwidth": 2,
            "linecolor": "white",
            "showbackground": true,
            "ticks": "",
            "zerolinecolor": "white"
           }
          },
          "shapedefaults": {
           "line": {
            "color": "#2a3f5f"
           }
          },
          "ternary": {
           "aaxis": {
            "gridcolor": "white",
            "linecolor": "white",
            "ticks": ""
           },
           "baxis": {
            "gridcolor": "white",
            "linecolor": "white",
            "ticks": ""
           },
           "bgcolor": "#E5ECF6",
           "caxis": {
            "gridcolor": "white",
            "linecolor": "white",
            "ticks": ""
           }
          },
          "title": {
           "x": 0.05
          },
          "xaxis": {
           "automargin": true,
           "gridcolor": "white",
           "linecolor": "white",
           "ticks": "",
           "title": {
            "standoff": 15
           },
           "zerolinecolor": "white",
           "zerolinewidth": 2
          },
          "yaxis": {
           "automargin": true,
           "gridcolor": "white",
           "linecolor": "white",
           "ticks": "",
           "title": {
            "standoff": 15
           },
           "zerolinecolor": "white",
           "zerolinewidth": 2
          }
         }
        },
        "title": {
         "text": "Sankey Diagram of Clustered Patient Journeys"
        }
       }
      }
     },
     "metadata": {},
     "output_type": "display_data"
    }
   ],
   "source": [
    "import plotly.graph_objects as go\n",
    "import numpy as np\n",
    "\n",
    "# Ensure clusters is a NumPy array of integers\n",
    "clusters = np.array(clusters, dtype=int)\n",
    "\n",
    "# Verify the number of clusters\n",
    "num_clusters = len(np.unique(clusters))\n",
    "\n",
    "trace_sentences = np.array(trace_sentences)\n",
    "# print(trace_sentences)\n",
    "\n",
    "# Sample patient journey per cluster\n",
    "sample_traces = {i: trace_sentences[clusters == i][:num_clusters] for i in range(num_clusters)}\n",
    "\n",
    "# Create Sankey diagram\n",
    "fig = go.Figure()\n",
    "for i, (cluster, traces) in enumerate(sample_traces.items()):\n",
    "    fig.add_trace(go.Sankey(\n",
    "        node=dict(\n",
    "            pad=15, thickness=20,\n",
    "            label=['Start'] + [f'Step {j+1}' for j in range(len(traces[0].split()))]\n",
    "        ),\n",
    "        link=dict(\n",
    "            source=[0] * len(traces),\n",
    "            target=list(range(1, len(traces[0].split()) + 1)),\n",
    "            value=[1] * len(traces)\n",
    "        )\n",
    "    ))\n",
    "\n",
    "fig.update_layout(title_text=\"Sankey Diagram of Clustered Patient Journeys\")\n",
    "fig.show()\n"
   ]
  },
  {
   "cell_type": "code",
   "execution_count": 146,
   "metadata": {},
   "outputs": [
    {
     "data": {
      "application/vnd.plotly.v1+json": {
       "config": {
        "plotlyServerURL": "https://plot.ly"
       },
       "data": [
        {
         "link": {
          "source": [
           11,
           9,
           8,
           11,
           9,
           3,
           2,
           8,
           11,
           0,
           9,
           3,
           2,
           1,
           8,
           11,
           0,
           9,
           3,
           1,
           8,
           4,
           11,
           0,
           9,
           3,
           11,
           9,
           3,
           11,
           9,
           8,
           11,
           0,
           9,
           3,
           4,
           11,
           0,
           9,
           3,
           2,
           1,
           11,
           0,
           9,
           3,
           8
          ],
          "target": [
           9,
           8,
           10,
           9,
           3,
           2,
           8,
           7,
           0,
           9,
           3,
           2,
           1,
           8,
           5,
           0,
           9,
           3,
           1,
           8,
           6,
           11,
           0,
           9,
           3,
           8,
           9,
           3,
           8,
           9,
           8,
           5,
           0,
           9,
           3,
           8,
           11,
           0,
           9,
           3,
           2,
           1,
           8,
           0,
           9,
           3,
           8,
           7
          ],
          "value": [
           4,
           2,
           1,
           4,
           8,
           3,
           1,
           2,
           6,
           6,
           8,
           3,
           2,
           3,
           2,
           6,
           6,
           8,
           1,
           3,
           1,
           2,
           6,
           6,
           8,
           4,
           4,
           8,
           4,
           4,
           2,
           2,
           6,
           6,
           8,
           4,
           2,
           6,
           6,
           8,
           3,
           2,
           3,
           6,
           6,
           8,
           4,
           2
          ]
         },
         "node": {
          "label": [
           "Medical_Records",
           "Prophylaxis_&_ASA_Class",
           "Consultation_Registration",
           "Remicade_&_Follow-up",
           "Triage_&_Medication",
           "Atrial_Fibrillation_&_Malaise",
           "Breast_Cancer",
           "Diabetes_Type_II",
           "Patient_ID_&_Medication",
           "Rectal_Bleeding_&_Anemia",
           "Liver_Cirrhosis_&_Varices",
           "Outlier"
          ]
         },
         "type": "sankey"
        }
       ],
       "layout": {
        "template": {
         "data": {
          "bar": [
           {
            "error_x": {
             "color": "#2a3f5f"
            },
            "error_y": {
             "color": "#2a3f5f"
            },
            "marker": {
             "line": {
              "color": "#E5ECF6",
              "width": 0.5
             },
             "pattern": {
              "fillmode": "overlay",
              "size": 10,
              "solidity": 0.2
             }
            },
            "type": "bar"
           }
          ],
          "barpolar": [
           {
            "marker": {
             "line": {
              "color": "#E5ECF6",
              "width": 0.5
             },
             "pattern": {
              "fillmode": "overlay",
              "size": 10,
              "solidity": 0.2
             }
            },
            "type": "barpolar"
           }
          ],
          "carpet": [
           {
            "aaxis": {
             "endlinecolor": "#2a3f5f",
             "gridcolor": "white",
             "linecolor": "white",
             "minorgridcolor": "white",
             "startlinecolor": "#2a3f5f"
            },
            "baxis": {
             "endlinecolor": "#2a3f5f",
             "gridcolor": "white",
             "linecolor": "white",
             "minorgridcolor": "white",
             "startlinecolor": "#2a3f5f"
            },
            "type": "carpet"
           }
          ],
          "choropleth": [
           {
            "colorbar": {
             "outlinewidth": 0,
             "ticks": ""
            },
            "type": "choropleth"
           }
          ],
          "contour": [
           {
            "colorbar": {
             "outlinewidth": 0,
             "ticks": ""
            },
            "colorscale": [
             [
              0,
              "#0d0887"
             ],
             [
              0.1111111111111111,
              "#46039f"
             ],
             [
              0.2222222222222222,
              "#7201a8"
             ],
             [
              0.3333333333333333,
              "#9c179e"
             ],
             [
              0.4444444444444444,
              "#bd3786"
             ],
             [
              0.5555555555555556,
              "#d8576b"
             ],
             [
              0.6666666666666666,
              "#ed7953"
             ],
             [
              0.7777777777777778,
              "#fb9f3a"
             ],
             [
              0.8888888888888888,
              "#fdca26"
             ],
             [
              1,
              "#f0f921"
             ]
            ],
            "type": "contour"
           }
          ],
          "contourcarpet": [
           {
            "colorbar": {
             "outlinewidth": 0,
             "ticks": ""
            },
            "type": "contourcarpet"
           }
          ],
          "heatmap": [
           {
            "colorbar": {
             "outlinewidth": 0,
             "ticks": ""
            },
            "colorscale": [
             [
              0,
              "#0d0887"
             ],
             [
              0.1111111111111111,
              "#46039f"
             ],
             [
              0.2222222222222222,
              "#7201a8"
             ],
             [
              0.3333333333333333,
              "#9c179e"
             ],
             [
              0.4444444444444444,
              "#bd3786"
             ],
             [
              0.5555555555555556,
              "#d8576b"
             ],
             [
              0.6666666666666666,
              "#ed7953"
             ],
             [
              0.7777777777777778,
              "#fb9f3a"
             ],
             [
              0.8888888888888888,
              "#fdca26"
             ],
             [
              1,
              "#f0f921"
             ]
            ],
            "type": "heatmap"
           }
          ],
          "histogram": [
           {
            "marker": {
             "pattern": {
              "fillmode": "overlay",
              "size": 10,
              "solidity": 0.2
             }
            },
            "type": "histogram"
           }
          ],
          "histogram2d": [
           {
            "colorbar": {
             "outlinewidth": 0,
             "ticks": ""
            },
            "colorscale": [
             [
              0,
              "#0d0887"
             ],
             [
              0.1111111111111111,
              "#46039f"
             ],
             [
              0.2222222222222222,
              "#7201a8"
             ],
             [
              0.3333333333333333,
              "#9c179e"
             ],
             [
              0.4444444444444444,
              "#bd3786"
             ],
             [
              0.5555555555555556,
              "#d8576b"
             ],
             [
              0.6666666666666666,
              "#ed7953"
             ],
             [
              0.7777777777777778,
              "#fb9f3a"
             ],
             [
              0.8888888888888888,
              "#fdca26"
             ],
             [
              1,
              "#f0f921"
             ]
            ],
            "type": "histogram2d"
           }
          ],
          "histogram2dcontour": [
           {
            "colorbar": {
             "outlinewidth": 0,
             "ticks": ""
            },
            "colorscale": [
             [
              0,
              "#0d0887"
             ],
             [
              0.1111111111111111,
              "#46039f"
             ],
             [
              0.2222222222222222,
              "#7201a8"
             ],
             [
              0.3333333333333333,
              "#9c179e"
             ],
             [
              0.4444444444444444,
              "#bd3786"
             ],
             [
              0.5555555555555556,
              "#d8576b"
             ],
             [
              0.6666666666666666,
              "#ed7953"
             ],
             [
              0.7777777777777778,
              "#fb9f3a"
             ],
             [
              0.8888888888888888,
              "#fdca26"
             ],
             [
              1,
              "#f0f921"
             ]
            ],
            "type": "histogram2dcontour"
           }
          ],
          "mesh3d": [
           {
            "colorbar": {
             "outlinewidth": 0,
             "ticks": ""
            },
            "type": "mesh3d"
           }
          ],
          "parcoords": [
           {
            "line": {
             "colorbar": {
              "outlinewidth": 0,
              "ticks": ""
             }
            },
            "type": "parcoords"
           }
          ],
          "pie": [
           {
            "automargin": true,
            "type": "pie"
           }
          ],
          "scatter": [
           {
            "fillpattern": {
             "fillmode": "overlay",
             "size": 10,
             "solidity": 0.2
            },
            "type": "scatter"
           }
          ],
          "scatter3d": [
           {
            "line": {
             "colorbar": {
              "outlinewidth": 0,
              "ticks": ""
             }
            },
            "marker": {
             "colorbar": {
              "outlinewidth": 0,
              "ticks": ""
             }
            },
            "type": "scatter3d"
           }
          ],
          "scattercarpet": [
           {
            "marker": {
             "colorbar": {
              "outlinewidth": 0,
              "ticks": ""
             }
            },
            "type": "scattercarpet"
           }
          ],
          "scattergeo": [
           {
            "marker": {
             "colorbar": {
              "outlinewidth": 0,
              "ticks": ""
             }
            },
            "type": "scattergeo"
           }
          ],
          "scattergl": [
           {
            "marker": {
             "colorbar": {
              "outlinewidth": 0,
              "ticks": ""
             }
            },
            "type": "scattergl"
           }
          ],
          "scattermap": [
           {
            "marker": {
             "colorbar": {
              "outlinewidth": 0,
              "ticks": ""
             }
            },
            "type": "scattermap"
           }
          ],
          "scattermapbox": [
           {
            "marker": {
             "colorbar": {
              "outlinewidth": 0,
              "ticks": ""
             }
            },
            "type": "scattermapbox"
           }
          ],
          "scatterpolar": [
           {
            "marker": {
             "colorbar": {
              "outlinewidth": 0,
              "ticks": ""
             }
            },
            "type": "scatterpolar"
           }
          ],
          "scatterpolargl": [
           {
            "marker": {
             "colorbar": {
              "outlinewidth": 0,
              "ticks": ""
             }
            },
            "type": "scatterpolargl"
           }
          ],
          "scatterternary": [
           {
            "marker": {
             "colorbar": {
              "outlinewidth": 0,
              "ticks": ""
             }
            },
            "type": "scatterternary"
           }
          ],
          "surface": [
           {
            "colorbar": {
             "outlinewidth": 0,
             "ticks": ""
            },
            "colorscale": [
             [
              0,
              "#0d0887"
             ],
             [
              0.1111111111111111,
              "#46039f"
             ],
             [
              0.2222222222222222,
              "#7201a8"
             ],
             [
              0.3333333333333333,
              "#9c179e"
             ],
             [
              0.4444444444444444,
              "#bd3786"
             ],
             [
              0.5555555555555556,
              "#d8576b"
             ],
             [
              0.6666666666666666,
              "#ed7953"
             ],
             [
              0.7777777777777778,
              "#fb9f3a"
             ],
             [
              0.8888888888888888,
              "#fdca26"
             ],
             [
              1,
              "#f0f921"
             ]
            ],
            "type": "surface"
           }
          ],
          "table": [
           {
            "cells": {
             "fill": {
              "color": "#EBF0F8"
             },
             "line": {
              "color": "white"
             }
            },
            "header": {
             "fill": {
              "color": "#C8D4E3"
             },
             "line": {
              "color": "white"
             }
            },
            "type": "table"
           }
          ]
         },
         "layout": {
          "annotationdefaults": {
           "arrowcolor": "#2a3f5f",
           "arrowhead": 0,
           "arrowwidth": 1
          },
          "autotypenumbers": "strict",
          "coloraxis": {
           "colorbar": {
            "outlinewidth": 0,
            "ticks": ""
           }
          },
          "colorscale": {
           "diverging": [
            [
             0,
             "#8e0152"
            ],
            [
             0.1,
             "#c51b7d"
            ],
            [
             0.2,
             "#de77ae"
            ],
            [
             0.3,
             "#f1b6da"
            ],
            [
             0.4,
             "#fde0ef"
            ],
            [
             0.5,
             "#f7f7f7"
            ],
            [
             0.6,
             "#e6f5d0"
            ],
            [
             0.7,
             "#b8e186"
            ],
            [
             0.8,
             "#7fbc41"
            ],
            [
             0.9,
             "#4d9221"
            ],
            [
             1,
             "#276419"
            ]
           ],
           "sequential": [
            [
             0,
             "#0d0887"
            ],
            [
             0.1111111111111111,
             "#46039f"
            ],
            [
             0.2222222222222222,
             "#7201a8"
            ],
            [
             0.3333333333333333,
             "#9c179e"
            ],
            [
             0.4444444444444444,
             "#bd3786"
            ],
            [
             0.5555555555555556,
             "#d8576b"
            ],
            [
             0.6666666666666666,
             "#ed7953"
            ],
            [
             0.7777777777777778,
             "#fb9f3a"
            ],
            [
             0.8888888888888888,
             "#fdca26"
            ],
            [
             1,
             "#f0f921"
            ]
           ],
           "sequentialminus": [
            [
             0,
             "#0d0887"
            ],
            [
             0.1111111111111111,
             "#46039f"
            ],
            [
             0.2222222222222222,
             "#7201a8"
            ],
            [
             0.3333333333333333,
             "#9c179e"
            ],
            [
             0.4444444444444444,
             "#bd3786"
            ],
            [
             0.5555555555555556,
             "#d8576b"
            ],
            [
             0.6666666666666666,
             "#ed7953"
            ],
            [
             0.7777777777777778,
             "#fb9f3a"
            ],
            [
             0.8888888888888888,
             "#fdca26"
            ],
            [
             1,
             "#f0f921"
            ]
           ]
          },
          "colorway": [
           "#636efa",
           "#EF553B",
           "#00cc96",
           "#ab63fa",
           "#FFA15A",
           "#19d3f3",
           "#FF6692",
           "#B6E880",
           "#FF97FF",
           "#FECB52"
          ],
          "font": {
           "color": "#2a3f5f"
          },
          "geo": {
           "bgcolor": "white",
           "lakecolor": "white",
           "landcolor": "#E5ECF6",
           "showlakes": true,
           "showland": true,
           "subunitcolor": "white"
          },
          "hoverlabel": {
           "align": "left"
          },
          "hovermode": "closest",
          "mapbox": {
           "style": "light"
          },
          "paper_bgcolor": "white",
          "plot_bgcolor": "#E5ECF6",
          "polar": {
           "angularaxis": {
            "gridcolor": "white",
            "linecolor": "white",
            "ticks": ""
           },
           "bgcolor": "#E5ECF6",
           "radialaxis": {
            "gridcolor": "white",
            "linecolor": "white",
            "ticks": ""
           }
          },
          "scene": {
           "xaxis": {
            "backgroundcolor": "#E5ECF6",
            "gridcolor": "white",
            "gridwidth": 2,
            "linecolor": "white",
            "showbackground": true,
            "ticks": "",
            "zerolinecolor": "white"
           },
           "yaxis": {
            "backgroundcolor": "#E5ECF6",
            "gridcolor": "white",
            "gridwidth": 2,
            "linecolor": "white",
            "showbackground": true,
            "ticks": "",
            "zerolinecolor": "white"
           },
           "zaxis": {
            "backgroundcolor": "#E5ECF6",
            "gridcolor": "white",
            "gridwidth": 2,
            "linecolor": "white",
            "showbackground": true,
            "ticks": "",
            "zerolinecolor": "white"
           }
          },
          "shapedefaults": {
           "line": {
            "color": "#2a3f5f"
           }
          },
          "ternary": {
           "aaxis": {
            "gridcolor": "white",
            "linecolor": "white",
            "ticks": ""
           },
           "baxis": {
            "gridcolor": "white",
            "linecolor": "white",
            "ticks": ""
           },
           "bgcolor": "#E5ECF6",
           "caxis": {
            "gridcolor": "white",
            "linecolor": "white",
            "ticks": ""
           }
          },
          "title": {
           "x": 0.05
          },
          "xaxis": {
           "automargin": true,
           "gridcolor": "white",
           "linecolor": "white",
           "ticks": "",
           "title": {
            "standoff": 15
           },
           "zerolinecolor": "white",
           "zerolinewidth": 2
          },
          "yaxis": {
           "automargin": true,
           "gridcolor": "white",
           "linecolor": "white",
           "ticks": "",
           "title": {
            "standoff": 15
           },
           "zerolinecolor": "white",
           "zerolinewidth": 2
          }
         }
        }
       }
      }
     },
     "metadata": {},
     "output_type": "display_data"
    }
   ],
   "source": [
    "import plotly.graph_objects as go\n",
    "from collections import Counter\n",
    "\n",
    "# Step 1: Extract Sequences from event columns\n",
    "event_columns = [col for col in feature_df.columns if 'concept:name' in col]  # Filter for event-related columns\n",
    "sequences = []\n",
    "\n",
    "# For each row in feature_df, extract the sequence of events\n",
    "for _, row in feature_df.iterrows():\n",
    "    events = [col.split('concept:name_')[1] for col in event_columns if row[col] == 1.0]  # Get events with 1.0 value\n",
    "    sequences.append('->'.join(events))  # Join events into a sequence\n",
    "\n",
    "# Step 2: Add sequences to the dataframe (this will be useful for visualization)\n",
    "feature_df['Sequence'] = sequences\n",
    "\n",
    "# Step 3: Get the most common sequence per cluster \n",
    "cluster_sequences = feature_df.groupby(\"Cluster\")[\"Sequence\"].agg(lambda x: x.mode()[0])\n",
    "\n",
    "# Step 4: Count the occurrences of each sequence (for Sankey diagram links)\n",
    "cluster_counts = Counter(cluster_sequences)\n",
    "\n",
    "# Step 5: Prepare data for Sankey diagram (convert sequences into sources and targets)\n",
    "sources, targets = [], []\n",
    "\n",
    "for trace in cluster_sequences.values:\n",
    "    steps = trace.split(\"->\")  # Split sequence into individual steps\n",
    "    for i in range(len(steps) - 1):\n",
    "        sources.append(steps[i])\n",
    "        targets.append(steps[i + 1])\n",
    "\n",
    "# Convert sources and targets to indices (for Sankey diagram nodes)\n",
    "all_nodes = list(set(sources + targets))  # All unique nodes (steps)\n",
    "source_indices = [all_nodes.index(s) for s in sources]\n",
    "target_indices = [all_nodes.index(t) for t in targets]\n",
    "\n",
    "# Step 6: Count the frequency of each link (source -> target pair)\n",
    "link_counts = Counter(zip(sources, targets))\n",
    "values = [link_counts[(source, target)] for source, target in zip(sources, targets)]\n",
    "\n",
    "# Step 7: Create the Sankey diagram\n",
    "fig = go.Figure(go.Sankey(\n",
    "    node=dict(label=all_nodes),\n",
    "    link=dict(source=source_indices, target=target_indices, value=values)\n",
    "))\n",
    "\n",
    "fig.show()"
   ]
  },
  {
   "cell_type": "code",
   "execution_count": null,
   "metadata": {},
   "outputs": [],
   "source": []
  },
  {
   "cell_type": "code",
   "execution_count": 148,
   "metadata": {},
   "outputs": [],
   "source": [
    "df = df_verslagen"
   ]
  },
  {
   "cell_type": "code",
   "execution_count": 160,
   "metadata": {},
   "outputs": [],
   "source": [
    "gib_patients = df[df[\"new_topic_label\"].isin([\n",
    "    \"Rectal_Bleeding_&_Anemia\", \"GI_Ulcer_&_Bleeding\", \"Liver_Cirrhosis_&_Varices\"\n",
    "])][\"pseudo_id\"].unique()\n",
    "\n",
    "gib_df = df[df[\"pseudo_id\"].isin(gib_patients)].copy()\n"
   ]
  },
  {
   "cell_type": "code",
   "execution_count": 161,
   "metadata": {},
   "outputs": [
    {
     "data": {
      "text/html": [
       "<div>\n",
       "<style scoped>\n",
       "    .dataframe tbody tr th:only-of-type {\n",
       "        vertical-align: middle;\n",
       "    }\n",
       "\n",
       "    .dataframe tbody tr th {\n",
       "        vertical-align: top;\n",
       "    }\n",
       "\n",
       "    .dataframe thead th {\n",
       "        text-align: right;\n",
       "    }\n",
       "</style>\n",
       "<table border=\"1\" class=\"dataframe\">\n",
       "  <thead>\n",
       "    <tr style=\"text-align: right;\">\n",
       "      <th></th>\n",
       "      <th>pseudo_id</th>\n",
       "      <th>date</th>\n",
       "      <th>event_tag</th>\n",
       "      <th>verslagen_report_tags</th>\n",
       "      <th>verslagen_report_start_date</th>\n",
       "      <th>topic_tags</th>\n",
       "      <th>new_topic_label</th>\n",
       "      <th>case:concept:name</th>\n",
       "      <th>concept:name</th>\n",
       "      <th>time:timestamp</th>\n",
       "    </tr>\n",
       "  </thead>\n",
       "  <tbody>\n",
       "    <tr>\n",
       "      <th>35</th>\n",
       "      <td>046D1FFEBDD40E1665D0ABA6DD8FC9F8BC4351C6</td>\n",
       "      <td>2013-10-21 10:24:00</td>\n",
       "      <td>Triage_Nee__Toediening_Medicatie__Nee_Triage_N...</td>\n",
       "      <td>Consult, SEH</td>\n",
       "      <td>2013-10-21 10:24:00</td>\n",
       "      <td>['Topic 12']</td>\n",
       "      <td>Triage_&amp;_Medication</td>\n",
       "      <td>046D1FFEBDD40E1665D0ABA6DD8FC9F8BC4351C6</td>\n",
       "      <td>Triage_&amp;_Medication</td>\n",
       "      <td>2013-10-21 10:24:00</td>\n",
       "    </tr>\n",
       "    <tr>\n",
       "      <th>34</th>\n",
       "      <td>046D1FFEBDD40E1665D0ABA6DD8FC9F8BC4351C6</td>\n",
       "      <td>2013-10-21 10:40:00</td>\n",
       "      <td>Outlier</td>\n",
       "      <td>Consult, SEH</td>\n",
       "      <td>2013-10-21 10:40:00</td>\n",
       "      <td>['Topic -1']</td>\n",
       "      <td>Outlier</td>\n",
       "      <td>046D1FFEBDD40E1665D0ABA6DD8FC9F8BC4351C6</td>\n",
       "      <td>Outlier</td>\n",
       "      <td>2013-10-21 10:40:00</td>\n",
       "    </tr>\n",
       "    <tr>\n",
       "      <th>33</th>\n",
       "      <td>046D1FFEBDD40E1665D0ABA6DD8FC9F8BC4351C6</td>\n",
       "      <td>2013-10-21 10:41:00</td>\n",
       "      <td>Outlier</td>\n",
       "      <td>Consult, SEH</td>\n",
       "      <td>2013-10-21 10:41:00</td>\n",
       "      <td>['Topic -1']</td>\n",
       "      <td>Outlier</td>\n",
       "      <td>046D1FFEBDD40E1665D0ABA6DD8FC9F8BC4351C6</td>\n",
       "      <td>Outlier</td>\n",
       "      <td>2013-10-21 10:41:00</td>\n",
       "    </tr>\n",
       "    <tr>\n",
       "      <th>32</th>\n",
       "      <td>046D1FFEBDD40E1665D0ABA6DD8FC9F8BC4351C6</td>\n",
       "      <td>2013-10-21 10:50:00</td>\n",
       "      <td>Medisch_Dossier__Naam_Functie__Dossier_Vk_Sput...</td>\n",
       "      <td>Consult, SEH</td>\n",
       "      <td>2013-10-21 10:50:00</td>\n",
       "      <td>['Topic 11']</td>\n",
       "      <td>Medical_Records</td>\n",
       "      <td>046D1FFEBDD40E1665D0ABA6DD8FC9F8BC4351C6</td>\n",
       "      <td>Medical_Records</td>\n",
       "      <td>2013-10-21 10:50:00</td>\n",
       "    </tr>\n",
       "    <tr>\n",
       "      <th>31</th>\n",
       "      <td>046D1FFEBDD40E1665D0ABA6DD8FC9F8BC4351C6</td>\n",
       "      <td>2013-10-22 19:59:00</td>\n",
       "      <td>Triage_Nee__Toediening_Medicatie__Nee_Triage_N...</td>\n",
       "      <td>Consult, SEH</td>\n",
       "      <td>2013-10-22 19:59:00</td>\n",
       "      <td>['Topic 12']</td>\n",
       "      <td>Triage_&amp;_Medication</td>\n",
       "      <td>046D1FFEBDD40E1665D0ABA6DD8FC9F8BC4351C6</td>\n",
       "      <td>Triage_&amp;_Medication</td>\n",
       "      <td>2013-10-22 19:59:00</td>\n",
       "    </tr>\n",
       "  </tbody>\n",
       "</table>\n",
       "</div>"
      ],
      "text/plain": [
       "                                   pseudo_id                 date  \\\n",
       "35  046D1FFEBDD40E1665D0ABA6DD8FC9F8BC4351C6  2013-10-21 10:24:00   \n",
       "34  046D1FFEBDD40E1665D0ABA6DD8FC9F8BC4351C6  2013-10-21 10:40:00   \n",
       "33  046D1FFEBDD40E1665D0ABA6DD8FC9F8BC4351C6  2013-10-21 10:41:00   \n",
       "32  046D1FFEBDD40E1665D0ABA6DD8FC9F8BC4351C6  2013-10-21 10:50:00   \n",
       "31  046D1FFEBDD40E1665D0ABA6DD8FC9F8BC4351C6  2013-10-22 19:59:00   \n",
       "\n",
       "                                            event_tag verslagen_report_tags  \\\n",
       "35  Triage_Nee__Toediening_Medicatie__Nee_Triage_N...          Consult, SEH   \n",
       "34                                            Outlier          Consult, SEH   \n",
       "33                                            Outlier          Consult, SEH   \n",
       "32  Medisch_Dossier__Naam_Functie__Dossier_Vk_Sput...          Consult, SEH   \n",
       "31  Triage_Nee__Toediening_Medicatie__Nee_Triage_N...          Consult, SEH   \n",
       "\n",
       "   verslagen_report_start_date    topic_tags      new_topic_label  \\\n",
       "35         2013-10-21 10:24:00  ['Topic 12']  Triage_&_Medication   \n",
       "34         2013-10-21 10:40:00  ['Topic -1']              Outlier   \n",
       "33         2013-10-21 10:41:00  ['Topic -1']              Outlier   \n",
       "32         2013-10-21 10:50:00  ['Topic 11']      Medical_Records   \n",
       "31         2013-10-22 19:59:00  ['Topic 12']  Triage_&_Medication   \n",
       "\n",
       "                           case:concept:name         concept:name  \\\n",
       "35  046D1FFEBDD40E1665D0ABA6DD8FC9F8BC4351C6  Triage_&_Medication   \n",
       "34  046D1FFEBDD40E1665D0ABA6DD8FC9F8BC4351C6              Outlier   \n",
       "33  046D1FFEBDD40E1665D0ABA6DD8FC9F8BC4351C6              Outlier   \n",
       "32  046D1FFEBDD40E1665D0ABA6DD8FC9F8BC4351C6      Medical_Records   \n",
       "31  046D1FFEBDD40E1665D0ABA6DD8FC9F8BC4351C6  Triage_&_Medication   \n",
       "\n",
       "         time:timestamp  \n",
       "35  2013-10-21 10:24:00  \n",
       "34  2013-10-21 10:40:00  \n",
       "33  2013-10-21 10:41:00  \n",
       "32  2013-10-21 10:50:00  \n",
       "31  2013-10-22 19:59:00  "
      ]
     },
     "execution_count": 161,
     "metadata": {},
     "output_type": "execute_result"
    }
   ],
   "source": [
    "gib_df = gib_df.sort_values(by=[\"pseudo_id\", \"date\"])\n",
    "gib_df.head()\n"
   ]
  },
  {
   "cell_type": "code",
   "execution_count": 162,
   "metadata": {},
   "outputs": [
    {
     "data": {
      "text/plain": [
       "pseudo_id\n",
       "046D1FFEBDD40E1665D0ABA6DD8FC9F8BC4351C6    [Triage_&_Medication, Outlier, Outlier, Medica...\n",
       "088C9FD98B8B2CBCB597C17C07AC1845B21F0849    [Medical_Records, Triage_&_Medication, Outlier...\n",
       "0A5645E02FA818D1629926B6BEFA81CF91C25A46    [Rectal_Bleeding_&_Anemia, Patient_ID_&_Medica...\n",
       "0BC512A65442D0BB4B00FBE05E7EA6283E5C11FD    [Remicade_&_Follow-up, Medical_Records, Triage...\n",
       "0DD73490997F61870C32B3BB7C9CDE4E801FFF7D    [Outlier, Outlier, Outlier, Remicade_&_Follow-...\n",
       "                                                                  ...                        \n",
       "F797097BA39F81B05EEC3F251973743CA03CB9B4    [Triage_&_Medication, Medical_Records, Outlier...\n",
       "F8C241E69061BB450778B7A4CC336FF520469A0A    [Outlier, Medical_Records, Rectal_Bleeding_&_A...\n",
       "F8D116F01EE0039678998F393FA337C10AD4F4E2    [Remicade_&_Follow-up, Outlier, Outlier, Outli...\n",
       "FAA79717FF2C725767E9469350ACECF640E5FCBC    [Triage_&_Medication, Patient_ID_&_Medication,...\n",
       "FD8C682C1F4FDA1E5EC0B760D30875556419BD71    [Medical_Records, Medical_Records, Outlier, Re...\n",
       "Name: new_topic_label, Length: 102, dtype: object"
      ]
     },
     "execution_count": 162,
     "metadata": {},
     "output_type": "execute_result"
    }
   ],
   "source": [
    "patient_paths = gib_df.groupby(\"pseudo_id\")[\"new_topic_label\"].apply(list)\n",
    "patient_paths\n"
   ]
  },
  {
   "cell_type": "code",
   "execution_count": 164,
   "metadata": {},
   "outputs": [
    {
     "data": {
      "text/plain": [
       "Counter({('Triage_&_Medication', 'Medical_Records', 'Outlier', 'Outlier'): 6,\n",
       "         ('Triage_&_Medication',\n",
       "          'Medical_Records',\n",
       "          'Triage_&_Medication',\n",
       "          'Medical_Records'): 5,\n",
       "         ('Outlier', 'Outlier', 'Outlier', 'Outlier'): 4,\n",
       "         ('Rectal_Bleeding_&_Anemia',\n",
       "          'Patient_ID_&_Medication',\n",
       "          'Outlier',\n",
       "          'Outlier'): 3,\n",
       "         ('Triage_&_Medication',\n",
       "          'Triage_&_Medication',\n",
       "          'Medical_Records',\n",
       "          'Triage_&_Medication'): 3,\n",
       "         ('Medical_Records', 'Triage_&_Medication', 'Outlier', 'Outlier'): 2,\n",
       "         ('Outlier',\n",
       "          'Medical_Records',\n",
       "          'Triage_&_Medication',\n",
       "          'Medical_Records'): 2,\n",
       "         ('Outlier', 'Medical_Records', 'Outlier', 'Outlier'): 2,\n",
       "         ('Triage_&_Medication',\n",
       "          'Patient_ID_&_Medication',\n",
       "          'Outlier',\n",
       "          'Outlier'): 2,\n",
       "         ('Triage_&_Medication',\n",
       "          'Medical_Records',\n",
       "          'Triage_&_Medication',\n",
       "          'Outlier'): 2,\n",
       "         ('Triage_&_Medication', 'Outlier', 'Outlier', 'Medical_Records'): 1,\n",
       "         ('Remicade_&_Follow-up',\n",
       "          'Medical_Records',\n",
       "          'Triage_&_Medication',\n",
       "          'Outlier'): 1,\n",
       "         ('Outlier', 'Outlier', 'Outlier', 'Remicade_&_Follow-up'): 1,\n",
       "         ('Outlier',\n",
       "          'Consultation_Registration',\n",
       "          'Consultation_Registration',\n",
       "          'Outlier'): 1,\n",
       "         ('Outlier',\n",
       "          'Rectal_Bleeding_&_Anemia',\n",
       "          'Rectal_Bleeding_&_Anemia',\n",
       "          'Rectal_Bleeding_&_Anemia'): 1,\n",
       "         ('Outlier',\n",
       "          'Triage_&_Medication',\n",
       "          'Triage_&_Medication',\n",
       "          'Medical_Records'): 1,\n",
       "         ('Outlier', 'Outlier', 'Outlier', 'Patient_ID_&_Medication'): 1,\n",
       "         ('Outlier', 'Outlier', 'Outlier', 'Triage_&_Medication'): 1,\n",
       "         ('Outlier', 'Medical_Records', 'Diabetes_Type_II', 'Outlier'): 1,\n",
       "         ('Outlier',\n",
       "          'Outlier',\n",
       "          'Atrial_Fibrillation_&_Malaise',\n",
       "          'Atrial_Fibrillation_&_Malaise'): 1,\n",
       "         ('Outlier',\n",
       "          'Patient_ID_&_Medication',\n",
       "          'Outlier',\n",
       "          'Patient_ID_&_Medication'): 1,\n",
       "         ('Triage_&_Medication',\n",
       "          'Outlier',\n",
       "          'Prophylaxis_&_ASA_Class',\n",
       "          'Consultation_Registration'): 1,\n",
       "         ('Outlier',\n",
       "          'Outlier',\n",
       "          'Patient_ID_&_Medication',\n",
       "          'Liver_Cirrhosis_&_Varices'): 1,\n",
       "         ('Triage_&_Medication', 'Outlier', 'Outlier', 'Outlier'): 1,\n",
       "         ('Triage_&_Medication',\n",
       "          'Medical_Records',\n",
       "          'Prophylaxis_&_ASA_Class',\n",
       "          'Diabetes_Type_II'): 1,\n",
       "         ('Triage_&_Medication',\n",
       "          'Medical_Records',\n",
       "          'Remicade_&_Follow-up',\n",
       "          'Outlier'): 1,\n",
       "         ('Outlier', 'Medical_Records', 'Outlier', 'Triage_&_Medication'): 1,\n",
       "         ('Diabetes_Type_II',\n",
       "          'Diabetes_Type_II',\n",
       "          'Diabetes_Type_II',\n",
       "          'Diabetes_Type_II'): 1,\n",
       "         ('Rectal_Bleeding_&_Anemia',\n",
       "          'Outlier',\n",
       "          'Rectal_Bleeding_&_Anemia',\n",
       "          'Patient_ID_&_Medication'): 1,\n",
       "         ('Rectal_Bleeding_&_Anemia',\n",
       "          'Rectal_Bleeding_&_Anemia',\n",
       "          'Patient_ID_&_Medication',\n",
       "          'Remicade_&_Follow-up'): 1,\n",
       "         ('Outlier', 'Triage_&_Medication', 'Medical_Records', 'Outlier'): 1,\n",
       "         ('Remicade_&_Follow-up',\n",
       "          'Outlier',\n",
       "          'Outlier',\n",
       "          'Prophylaxis_&_ASA_Class'): 1,\n",
       "         ('Outlier', 'Medical_Records', 'Medical_Records', 'Outlier'): 1,\n",
       "         ('Outlier',\n",
       "          'Atrial_Fibrillation_&_Malaise',\n",
       "          'Atrial_Fibrillation_&_Malaise',\n",
       "          'Atrial_Fibrillation_&_Malaise'): 1,\n",
       "         ('Outlier',\n",
       "          'Medical_Records',\n",
       "          'Triage_&_Medication',\n",
       "          'Triage_&_Medication'): 1,\n",
       "         ('Outlier', 'Outlier', 'Triage_&_Medication', 'Medical_Records'): 1,\n",
       "         ('Remicade_&_Follow-up',\n",
       "          'Outlier',\n",
       "          'Remicade_&_Follow-up',\n",
       "          'Outlier'): 1,\n",
       "         ('Triage_&_Medication',\n",
       "          'Medical_Records',\n",
       "          'Medical_Records',\n",
       "          'Prophylaxis_&_ASA_Class'): 1,\n",
       "         ('Outlier',\n",
       "          'Remicade_&_Follow-up',\n",
       "          'Pancreatitis_&_Whipple',\n",
       "          'Remicade_&_Follow-up'): 1,\n",
       "         ('Triage_&_Medication',\n",
       "          'Outlier',\n",
       "          'Medical_Records',\n",
       "          'Triage_&_Medication'): 1,\n",
       "         ('Medical_Records',\n",
       "          'Medical_Records',\n",
       "          'Remicade_&_Follow-up',\n",
       "          'Outlier'): 1,\n",
       "         ('Rectal_Bleeding_&_Anemia',\n",
       "          'Patient_ID_&_Medication',\n",
       "          'Outlier',\n",
       "          'Rectal_Bleeding_&_Anemia'): 1,\n",
       "         ('Triage_&_Medication',\n",
       "          'Medical_Records',\n",
       "          'Medical_Records',\n",
       "          'Outlier'): 1,\n",
       "         ('Rectal_Bleeding_&_Anemia',\n",
       "          'Rectal_Bleeding_&_Anemia',\n",
       "          'Patient_ID_&_Medication',\n",
       "          'Outlier'): 1,\n",
       "         ('Outlier',\n",
       "          'Remicade_&_Follow-up',\n",
       "          'Outlier',\n",
       "          'Remicade_&_Follow-up'): 1,\n",
       "         ('Remicade_&_Follow-up',\n",
       "          'Outlier',\n",
       "          'Patient_ID_&_Medication',\n",
       "          'Outlier'): 1,\n",
       "         ('Remicade_&_Follow-up',\n",
       "          'Patient_ID_&_Medication',\n",
       "          'Triage_&_Medication',\n",
       "          'Rectal_Bleeding_&_Anemia'): 1,\n",
       "         ('Triage_&_Medication',\n",
       "          'Outlier',\n",
       "          'Remicade_&_Follow-up',\n",
       "          'Triage_&_Medication'): 1,\n",
       "         ('Rectal_Bleeding_&_Anemia',\n",
       "          'Patient_ID_&_Medication',\n",
       "          'Rectal_Bleeding_&_Anemia',\n",
       "          'Rectal_Bleeding_&_Anemia'): 1,\n",
       "         ('Liver_Cirrhosis_&_Varices',\n",
       "          'Outlier',\n",
       "          'Liver_Cirrhosis_&_Varices',\n",
       "          'Remicade_&_Follow-up'): 1,\n",
       "         ('Triage_&_Medication',\n",
       "          'Triage_&_Medication',\n",
       "          'Triage_&_Medication',\n",
       "          'Outlier'): 1,\n",
       "         ('Triage_&_Medication',\n",
       "          'Rectal_Bleeding_&_Anemia',\n",
       "          'Patient_ID_&_Medication',\n",
       "          'Rectal_Bleeding_&_Anemia'): 1,\n",
       "         ('Medical_Records',\n",
       "          'Triage_&_Medication',\n",
       "          'Triage_&_Medication',\n",
       "          'Outlier'): 1,\n",
       "         ('Triage_&_Medication',\n",
       "          'Triage_&_Medication',\n",
       "          'Rectal_Bleeding_&_Anemia',\n",
       "          'Rectal_Bleeding_&_Anemia'): 1,\n",
       "         ('Triage_&_Medication',\n",
       "          'Medical_Records',\n",
       "          'Rectal_Bleeding_&_Anemia',\n",
       "          'Rectal_Bleeding_&_Anemia'): 1,\n",
       "         ('Triage_&_Medication',\n",
       "          'Medical_Records',\n",
       "          'Consultation_Registration',\n",
       "          'Rectal_Bleeding_&_Anemia'): 1,\n",
       "         ('Diabetes_Type_II', 'Outlier', 'Outlier', 'Remicade_&_Follow-up'): 1,\n",
       "         ('Triage_&_Medication',\n",
       "          'Medical_Records',\n",
       "          'Medical_Records',\n",
       "          'Triage_&_Medication'): 1,\n",
       "         ('Outlier', 'Patient_ID_&_Medication', 'Outlier', 'Outlier'): 1,\n",
       "         ('Prophylaxis_&_ASA_Class',\n",
       "          'Breast_Cancer',\n",
       "          'Breast_Cancer',\n",
       "          'Remicade_&_Follow-up'): 1,\n",
       "         ('Outlier', 'Prophylaxis_&_ASA_Class', 'Outlier', 'Outlier'): 1,\n",
       "         ('Rectal_Bleeding_&_Anemia',\n",
       "          'Triage_&_Medication',\n",
       "          'Medical_Records',\n",
       "          'Medical_Records'): 1,\n",
       "         ('Outlier',\n",
       "          'Remicade_&_Follow-up',\n",
       "          'Prophylaxis_&_ASA_Class',\n",
       "          'Outlier'): 1,\n",
       "         ('Triage_&_Medication',\n",
       "          'Patient_ID_&_Medication',\n",
       "          'Triage_&_Medication',\n",
       "          'Triage_&_Medication'): 1,\n",
       "         ('Outlier', 'Medical_Records', 'Remicade_&_Follow-up', 'Outlier'): 1,\n",
       "         ('Triage_&_Medication',\n",
       "          'Medical_Records',\n",
       "          'Outlier',\n",
       "          'Medical_Records'): 1,\n",
       "         ('Prophylaxis_&_ASA_Class',\n",
       "          'Outlier',\n",
       "          'Consultation_Registration',\n",
       "          'Prophylaxis_&_ASA_Class'): 1,\n",
       "         ('Outlier', 'Outlier', 'Outlier', 'Pancreatitis_&_Whipple'): 1,\n",
       "         ('Diabetes_Type_II',\n",
       "          'Diabetes_Type_II',\n",
       "          'Outlier',\n",
       "          'Diabetes_Type_II'): 1,\n",
       "         ('Triage_&_Medication',\n",
       "          'Medical_Records',\n",
       "          'Rectal_Bleeding_&_Anemia',\n",
       "          'Diabetes_Type_II'): 1,\n",
       "         ('Outlier', 'Medical_Records', 'Triage_&_Medication', 'Outlier'): 1,\n",
       "         ('Atrial_Fibrillation_&_Malaise',\n",
       "          'Patient_ID_&_Medication',\n",
       "          'Outlier',\n",
       "          'Outlier'): 1,\n",
       "         ('Outlier',\n",
       "          'Medical_Records',\n",
       "          'Remicade_&_Follow-up',\n",
       "          'Triage_&_Medication'): 1,\n",
       "         ('Triage_&_Medication',\n",
       "          'Medical_Records',\n",
       "          'Rectal_Bleeding_&_Anemia',\n",
       "          'Outlier'): 1,\n",
       "         ('Triage_&_Medication',\n",
       "          'Medical_Records',\n",
       "          'Prophylaxis_&_ASA_Class',\n",
       "          'Prophylaxis_&_ASA_Class'): 1,\n",
       "         ('Triage_&_Medication',\n",
       "          'Triage_&_Medication',\n",
       "          'Outlier',\n",
       "          'Patient_ID_&_Medication'): 1,\n",
       "         ('Consultation_Registration',\n",
       "          'Rectal_Bleeding_&_Anemia',\n",
       "          'Rectal_Bleeding_&_Anemia',\n",
       "          'Rectal_Bleeding_&_Anemia'): 1,\n",
       "         ('Triage_&_Medication',\n",
       "          'Prophylaxis_&_ASA_Class',\n",
       "          'Consultation_Registration',\n",
       "          'Prophylaxis_&_ASA_Class'): 1,\n",
       "         ('Outlier',\n",
       "          'Medical_Records',\n",
       "          'Rectal_Bleeding_&_Anemia',\n",
       "          'Outlier'): 1,\n",
       "         ('Remicade_&_Follow-up', 'Outlier', 'Outlier', 'Outlier'): 1,\n",
       "         ('Medical_Records',\n",
       "          'Medical_Records',\n",
       "          'Outlier',\n",
       "          'Rectal_Bleeding_&_Anemia'): 1})"
      ]
     },
     "execution_count": 164,
     "metadata": {},
     "output_type": "execute_result"
    }
   ],
   "source": [
    "from collections import Counter\n",
    "\n",
    "common_paths = Counter(tuple(seq[:4]) for seq in patient_paths)\n",
    "common_paths\n"
   ]
  },
  {
   "cell_type": "code",
   "execution_count": 165,
   "metadata": {},
   "outputs": [
    {
     "data": {
      "application/vnd.plotly.v1+json": {
       "config": {
        "plotlyServerURL": "https://plot.ly"
       },
       "data": [
        {
         "link": {
          "source": [
           0,
           1,
           0,
           1,
           2,
           3
          ],
          "target": [
           2,
           3,
           4,
           5,
           4,
           5
          ],
          "value": [
           10,
           20,
           30,
           40,
           50,
           60
          ]
         },
         "node": {
          "label": [
           "A1",
           "A2",
           "B1",
           "B2",
           "C1",
           "C2"
          ],
          "line": {
           "color": "black",
           "width": 0.5
          },
          "pad": 15,
          "thickness": 20
         },
         "type": "sankey"
        }
       ],
       "layout": {
        "font": {
         "size": 10
        },
        "template": {
         "data": {
          "bar": [
           {
            "error_x": {
             "color": "#2a3f5f"
            },
            "error_y": {
             "color": "#2a3f5f"
            },
            "marker": {
             "line": {
              "color": "#E5ECF6",
              "width": 0.5
             },
             "pattern": {
              "fillmode": "overlay",
              "size": 10,
              "solidity": 0.2
             }
            },
            "type": "bar"
           }
          ],
          "barpolar": [
           {
            "marker": {
             "line": {
              "color": "#E5ECF6",
              "width": 0.5
             },
             "pattern": {
              "fillmode": "overlay",
              "size": 10,
              "solidity": 0.2
             }
            },
            "type": "barpolar"
           }
          ],
          "carpet": [
           {
            "aaxis": {
             "endlinecolor": "#2a3f5f",
             "gridcolor": "white",
             "linecolor": "white",
             "minorgridcolor": "white",
             "startlinecolor": "#2a3f5f"
            },
            "baxis": {
             "endlinecolor": "#2a3f5f",
             "gridcolor": "white",
             "linecolor": "white",
             "minorgridcolor": "white",
             "startlinecolor": "#2a3f5f"
            },
            "type": "carpet"
           }
          ],
          "choropleth": [
           {
            "colorbar": {
             "outlinewidth": 0,
             "ticks": ""
            },
            "type": "choropleth"
           }
          ],
          "contour": [
           {
            "colorbar": {
             "outlinewidth": 0,
             "ticks": ""
            },
            "colorscale": [
             [
              0,
              "#0d0887"
             ],
             [
              0.1111111111111111,
              "#46039f"
             ],
             [
              0.2222222222222222,
              "#7201a8"
             ],
             [
              0.3333333333333333,
              "#9c179e"
             ],
             [
              0.4444444444444444,
              "#bd3786"
             ],
             [
              0.5555555555555556,
              "#d8576b"
             ],
             [
              0.6666666666666666,
              "#ed7953"
             ],
             [
              0.7777777777777778,
              "#fb9f3a"
             ],
             [
              0.8888888888888888,
              "#fdca26"
             ],
             [
              1,
              "#f0f921"
             ]
            ],
            "type": "contour"
           }
          ],
          "contourcarpet": [
           {
            "colorbar": {
             "outlinewidth": 0,
             "ticks": ""
            },
            "type": "contourcarpet"
           }
          ],
          "heatmap": [
           {
            "colorbar": {
             "outlinewidth": 0,
             "ticks": ""
            },
            "colorscale": [
             [
              0,
              "#0d0887"
             ],
             [
              0.1111111111111111,
              "#46039f"
             ],
             [
              0.2222222222222222,
              "#7201a8"
             ],
             [
              0.3333333333333333,
              "#9c179e"
             ],
             [
              0.4444444444444444,
              "#bd3786"
             ],
             [
              0.5555555555555556,
              "#d8576b"
             ],
             [
              0.6666666666666666,
              "#ed7953"
             ],
             [
              0.7777777777777778,
              "#fb9f3a"
             ],
             [
              0.8888888888888888,
              "#fdca26"
             ],
             [
              1,
              "#f0f921"
             ]
            ],
            "type": "heatmap"
           }
          ],
          "histogram": [
           {
            "marker": {
             "pattern": {
              "fillmode": "overlay",
              "size": 10,
              "solidity": 0.2
             }
            },
            "type": "histogram"
           }
          ],
          "histogram2d": [
           {
            "colorbar": {
             "outlinewidth": 0,
             "ticks": ""
            },
            "colorscale": [
             [
              0,
              "#0d0887"
             ],
             [
              0.1111111111111111,
              "#46039f"
             ],
             [
              0.2222222222222222,
              "#7201a8"
             ],
             [
              0.3333333333333333,
              "#9c179e"
             ],
             [
              0.4444444444444444,
              "#bd3786"
             ],
             [
              0.5555555555555556,
              "#d8576b"
             ],
             [
              0.6666666666666666,
              "#ed7953"
             ],
             [
              0.7777777777777778,
              "#fb9f3a"
             ],
             [
              0.8888888888888888,
              "#fdca26"
             ],
             [
              1,
              "#f0f921"
             ]
            ],
            "type": "histogram2d"
           }
          ],
          "histogram2dcontour": [
           {
            "colorbar": {
             "outlinewidth": 0,
             "ticks": ""
            },
            "colorscale": [
             [
              0,
              "#0d0887"
             ],
             [
              0.1111111111111111,
              "#46039f"
             ],
             [
              0.2222222222222222,
              "#7201a8"
             ],
             [
              0.3333333333333333,
              "#9c179e"
             ],
             [
              0.4444444444444444,
              "#bd3786"
             ],
             [
              0.5555555555555556,
              "#d8576b"
             ],
             [
              0.6666666666666666,
              "#ed7953"
             ],
             [
              0.7777777777777778,
              "#fb9f3a"
             ],
             [
              0.8888888888888888,
              "#fdca26"
             ],
             [
              1,
              "#f0f921"
             ]
            ],
            "type": "histogram2dcontour"
           }
          ],
          "mesh3d": [
           {
            "colorbar": {
             "outlinewidth": 0,
             "ticks": ""
            },
            "type": "mesh3d"
           }
          ],
          "parcoords": [
           {
            "line": {
             "colorbar": {
              "outlinewidth": 0,
              "ticks": ""
             }
            },
            "type": "parcoords"
           }
          ],
          "pie": [
           {
            "automargin": true,
            "type": "pie"
           }
          ],
          "scatter": [
           {
            "fillpattern": {
             "fillmode": "overlay",
             "size": 10,
             "solidity": 0.2
            },
            "type": "scatter"
           }
          ],
          "scatter3d": [
           {
            "line": {
             "colorbar": {
              "outlinewidth": 0,
              "ticks": ""
             }
            },
            "marker": {
             "colorbar": {
              "outlinewidth": 0,
              "ticks": ""
             }
            },
            "type": "scatter3d"
           }
          ],
          "scattercarpet": [
           {
            "marker": {
             "colorbar": {
              "outlinewidth": 0,
              "ticks": ""
             }
            },
            "type": "scattercarpet"
           }
          ],
          "scattergeo": [
           {
            "marker": {
             "colorbar": {
              "outlinewidth": 0,
              "ticks": ""
             }
            },
            "type": "scattergeo"
           }
          ],
          "scattergl": [
           {
            "marker": {
             "colorbar": {
              "outlinewidth": 0,
              "ticks": ""
             }
            },
            "type": "scattergl"
           }
          ],
          "scattermap": [
           {
            "marker": {
             "colorbar": {
              "outlinewidth": 0,
              "ticks": ""
             }
            },
            "type": "scattermap"
           }
          ],
          "scattermapbox": [
           {
            "marker": {
             "colorbar": {
              "outlinewidth": 0,
              "ticks": ""
             }
            },
            "type": "scattermapbox"
           }
          ],
          "scatterpolar": [
           {
            "marker": {
             "colorbar": {
              "outlinewidth": 0,
              "ticks": ""
             }
            },
            "type": "scatterpolar"
           }
          ],
          "scatterpolargl": [
           {
            "marker": {
             "colorbar": {
              "outlinewidth": 0,
              "ticks": ""
             }
            },
            "type": "scatterpolargl"
           }
          ],
          "scatterternary": [
           {
            "marker": {
             "colorbar": {
              "outlinewidth": 0,
              "ticks": ""
             }
            },
            "type": "scatterternary"
           }
          ],
          "surface": [
           {
            "colorbar": {
             "outlinewidth": 0,
             "ticks": ""
            },
            "colorscale": [
             [
              0,
              "#0d0887"
             ],
             [
              0.1111111111111111,
              "#46039f"
             ],
             [
              0.2222222222222222,
              "#7201a8"
             ],
             [
              0.3333333333333333,
              "#9c179e"
             ],
             [
              0.4444444444444444,
              "#bd3786"
             ],
             [
              0.5555555555555556,
              "#d8576b"
             ],
             [
              0.6666666666666666,
              "#ed7953"
             ],
             [
              0.7777777777777778,
              "#fb9f3a"
             ],
             [
              0.8888888888888888,
              "#fdca26"
             ],
             [
              1,
              "#f0f921"
             ]
            ],
            "type": "surface"
           }
          ],
          "table": [
           {
            "cells": {
             "fill": {
              "color": "#EBF0F8"
             },
             "line": {
              "color": "white"
             }
            },
            "header": {
             "fill": {
              "color": "#C8D4E3"
             },
             "line": {
              "color": "white"
             }
            },
            "type": "table"
           }
          ]
         },
         "layout": {
          "annotationdefaults": {
           "arrowcolor": "#2a3f5f",
           "arrowhead": 0,
           "arrowwidth": 1
          },
          "autotypenumbers": "strict",
          "coloraxis": {
           "colorbar": {
            "outlinewidth": 0,
            "ticks": ""
           }
          },
          "colorscale": {
           "diverging": [
            [
             0,
             "#8e0152"
            ],
            [
             0.1,
             "#c51b7d"
            ],
            [
             0.2,
             "#de77ae"
            ],
            [
             0.3,
             "#f1b6da"
            ],
            [
             0.4,
             "#fde0ef"
            ],
            [
             0.5,
             "#f7f7f7"
            ],
            [
             0.6,
             "#e6f5d0"
            ],
            [
             0.7,
             "#b8e186"
            ],
            [
             0.8,
             "#7fbc41"
            ],
            [
             0.9,
             "#4d9221"
            ],
            [
             1,
             "#276419"
            ]
           ],
           "sequential": [
            [
             0,
             "#0d0887"
            ],
            [
             0.1111111111111111,
             "#46039f"
            ],
            [
             0.2222222222222222,
             "#7201a8"
            ],
            [
             0.3333333333333333,
             "#9c179e"
            ],
            [
             0.4444444444444444,
             "#bd3786"
            ],
            [
             0.5555555555555556,
             "#d8576b"
            ],
            [
             0.6666666666666666,
             "#ed7953"
            ],
            [
             0.7777777777777778,
             "#fb9f3a"
            ],
            [
             0.8888888888888888,
             "#fdca26"
            ],
            [
             1,
             "#f0f921"
            ]
           ],
           "sequentialminus": [
            [
             0,
             "#0d0887"
            ],
            [
             0.1111111111111111,
             "#46039f"
            ],
            [
             0.2222222222222222,
             "#7201a8"
            ],
            [
             0.3333333333333333,
             "#9c179e"
            ],
            [
             0.4444444444444444,
             "#bd3786"
            ],
            [
             0.5555555555555556,
             "#d8576b"
            ],
            [
             0.6666666666666666,
             "#ed7953"
            ],
            [
             0.7777777777777778,
             "#fb9f3a"
            ],
            [
             0.8888888888888888,
             "#fdca26"
            ],
            [
             1,
             "#f0f921"
            ]
           ]
          },
          "colorway": [
           "#636efa",
           "#EF553B",
           "#00cc96",
           "#ab63fa",
           "#FFA15A",
           "#19d3f3",
           "#FF6692",
           "#B6E880",
           "#FF97FF",
           "#FECB52"
          ],
          "font": {
           "color": "#2a3f5f"
          },
          "geo": {
           "bgcolor": "white",
           "lakecolor": "white",
           "landcolor": "#E5ECF6",
           "showlakes": true,
           "showland": true,
           "subunitcolor": "white"
          },
          "hoverlabel": {
           "align": "left"
          },
          "hovermode": "closest",
          "mapbox": {
           "style": "light"
          },
          "paper_bgcolor": "white",
          "plot_bgcolor": "#E5ECF6",
          "polar": {
           "angularaxis": {
            "gridcolor": "white",
            "linecolor": "white",
            "ticks": ""
           },
           "bgcolor": "#E5ECF6",
           "radialaxis": {
            "gridcolor": "white",
            "linecolor": "white",
            "ticks": ""
           }
          },
          "scene": {
           "xaxis": {
            "backgroundcolor": "#E5ECF6",
            "gridcolor": "white",
            "gridwidth": 2,
            "linecolor": "white",
            "showbackground": true,
            "ticks": "",
            "zerolinecolor": "white"
           },
           "yaxis": {
            "backgroundcolor": "#E5ECF6",
            "gridcolor": "white",
            "gridwidth": 2,
            "linecolor": "white",
            "showbackground": true,
            "ticks": "",
            "zerolinecolor": "white"
           },
           "zaxis": {
            "backgroundcolor": "#E5ECF6",
            "gridcolor": "white",
            "gridwidth": 2,
            "linecolor": "white",
            "showbackground": true,
            "ticks": "",
            "zerolinecolor": "white"
           }
          },
          "shapedefaults": {
           "line": {
            "color": "#2a3f5f"
           }
          },
          "ternary": {
           "aaxis": {
            "gridcolor": "white",
            "linecolor": "white",
            "ticks": ""
           },
           "baxis": {
            "gridcolor": "white",
            "linecolor": "white",
            "ticks": ""
           },
           "bgcolor": "#E5ECF6",
           "caxis": {
            "gridcolor": "white",
            "linecolor": "white",
            "ticks": ""
           }
          },
          "title": {
           "x": 0.05
          },
          "xaxis": {
           "automargin": true,
           "gridcolor": "white",
           "linecolor": "white",
           "ticks": "",
           "title": {
            "standoff": 15
           },
           "zerolinecolor": "white",
           "zerolinewidth": 2
          },
          "yaxis": {
           "automargin": true,
           "gridcolor": "white",
           "linecolor": "white",
           "ticks": "",
           "title": {
            "standoff": 15
           },
           "zerolinecolor": "white",
           "zerolinewidth": 2
          }
         }
        },
        "title": {
         "text": "Alluvial Plot Example"
        }
       }
      }
     },
     "metadata": {},
     "output_type": "display_data"
    }
   ],
   "source": [
    "import plotly.graph_objects as go\n",
    "\n",
    "# Example data for an alluvial plot\n",
    "# We assume data for 3 stages or categories: A -> B -> C\n",
    "\n",
    "# Stage 1 (A), Stage 2 (B), Stage 3 (C)\n",
    "nodes = ['A1', 'A2', 'B1', 'B2', 'C1', 'C2']\n",
    "\n",
    "# Define the flows between nodes\n",
    "# Flows from A to B, then B to C\n",
    "sources = [0, 1, 0, 1, 2, 3]\n",
    "targets = [2, 3, 4, 5, 4, 5]\n",
    "values = [10, 20, 30, 40, 50, 60]\n",
    "\n",
    "# Create the alluvial plot\n",
    "fig = go.Figure(go.Sankey(\n",
    "    node=dict(\n",
    "        pad=15,\n",
    "        thickness=20,\n",
    "        line=dict(color=\"black\", width=0.5),\n",
    "        label=nodes,\n",
    "    ),\n",
    "    link=dict(\n",
    "        source=sources,\n",
    "        target=targets,\n",
    "        value=values,\n",
    "    )\n",
    "))\n",
    "\n",
    "# Update layout to display the plot\n",
    "fig.update_layout(title_text=\"Alluvial Plot Example\", font_size=10)\n",
    "fig.show()\n"
   ]
  }
 ],
 "metadata": {
  "kernelspec": {
   "display_name": "Python 3",
   "language": "python",
   "name": "python3"
  },
  "language_info": {
   "codemirror_mode": {
    "name": "ipython",
    "version": 3
   },
   "file_extension": ".py",
   "mimetype": "text/x-python",
   "name": "python",
   "nbconvert_exporter": "python",
   "pygments_lexer": "ipython3",
   "version": "3.11.6"
  }
 },
 "nbformat": 4,
 "nbformat_minor": 2
}
