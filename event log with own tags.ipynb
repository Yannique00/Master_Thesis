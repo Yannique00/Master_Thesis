{
 "cells": [
  {
   "cell_type": "code",
   "execution_count": 12,
   "metadata": {},
   "outputs": [],
   "source": [
    "import pandas as pd\n",
    "from collections import Counter\n",
    "from itertools import chain\n",
    "import pm4py"
   ]
  },
  {
   "cell_type": "code",
   "execution_count": 13,
   "metadata": {},
   "outputs": [
    {
     "data": {
      "text/html": [
       "<div>\n",
       "<style scoped>\n",
       "    .dataframe tbody tr th:only-of-type {\n",
       "        vertical-align: middle;\n",
       "    }\n",
       "\n",
       "    .dataframe tbody tr th {\n",
       "        vertical-align: top;\n",
       "    }\n",
       "\n",
       "    .dataframe thead th {\n",
       "        text-align: right;\n",
       "    }\n",
       "</style>\n",
       "<table border=\"1\" class=\"dataframe\">\n",
       "  <thead>\n",
       "    <tr style=\"text-align: right;\">\n",
       "      <th></th>\n",
       "      <th>pseudo_id</th>\n",
       "      <th>verslagen_report_tags</th>\n",
       "      <th>verslagen_report_content</th>\n",
       "      <th>verslagen_report_start_date</th>\n",
       "      <th>date</th>\n",
       "      <th>alltext</th>\n",
       "      <th>tokens</th>\n",
       "      <th>text</th>\n",
       "      <th>Topic</th>\n",
       "      <th>Tags</th>\n",
       "      <th>Keywords</th>\n",
       "      <th>new_topic_label</th>\n",
       "      <th>verslagen_report_tags_new_topic_label</th>\n",
       "    </tr>\n",
       "  </thead>\n",
       "  <tbody>\n",
       "    <tr>\n",
       "      <th>0</th>\n",
       "      <td>046D1FFEBDD40E1665D0ABA6DD8FC9F8BC4351C6</td>\n",
       "      <td>Klinische Brief</td>\n",
       "      <td>Dhr. A.J. Dingemans, huisarts\\r\\n[STREETNAME] ...</td>\n",
       "      <td>2020-11-26 15:06:00</td>\n",
       "      <td>2020-11-26 15:06:00</td>\n",
       "      <td>dhr aj dingemans huisarts streetnaam city datu...</td>\n",
       "      <td>['aj', 'dingemans', 'streetnaam', 'Kenmerk', '...</td>\n",
       "      <td>aj dingemans streetnaam Kenmerk patientid betr...</td>\n",
       "      <td>1</td>\n",
       "      <td>['Topic 1']</td>\n",
       "      <td>['oraal stuk', 'tablet oraal', 'tablet oraal s...</td>\n",
       "      <td>Oral Medication</td>\n",
       "      <td>Klinische Brief | Oral Medication</td>\n",
       "    </tr>\n",
       "    <tr>\n",
       "      <th>1</th>\n",
       "      <td>088C9FD98B8B2CBCB597C17C07AC1845B21F0849</td>\n",
       "      <td>Klinische Brief</td>\n",
       "      <td>Mw. C.M. Staal, huisarts\\r\\n[STREETNAME] RE  [...</td>\n",
       "      <td>2023-01-29 12:08:00</td>\n",
       "      <td>2023-01-29 12:08:00</td>\n",
       "      <td>mw cm staal huisarts streetname re city datum ...</td>\n",
       "      <td>['cm', 'staal', 're', 'kenmerk', 'patientid', ...</td>\n",
       "      <td>cm staal re kenmerk patientid betreffen heer i...</td>\n",
       "      <td>-1</td>\n",
       "      <td>['Topic -1']</td>\n",
       "      <td>[]</td>\n",
       "      <td>Outlier</td>\n",
       "      <td>Klinische Brief | Outlier</td>\n",
       "    </tr>\n",
       "    <tr>\n",
       "      <th>2</th>\n",
       "      <td>088C9FD98B8B2CBCB597C17C07AC1845B21F0849</td>\n",
       "      <td>Klinische Brief</td>\n",
       "      <td>Mw. C.M. Staal, huisarts\\r\\n[STREETNAME] RE  [...</td>\n",
       "      <td>2023-01-20 11:53:00</td>\n",
       "      <td>2023-01-20 11:53:00</td>\n",
       "      <td>mw cm staal huisarts streetname re city datum ...</td>\n",
       "      <td>['cm', 'staal', 're', 'kenmerk', 'patientid', ...</td>\n",
       "      <td>cm staal re kenmerk patientid betreffen heer i...</td>\n",
       "      <td>-1</td>\n",
       "      <td>['Topic -1']</td>\n",
       "      <td>[]</td>\n",
       "      <td>Outlier</td>\n",
       "      <td>Klinische Brief | Outlier</td>\n",
       "    </tr>\n",
       "    <tr>\n",
       "      <th>3</th>\n",
       "      <td>088C9FD98B8B2CBCB597C17C07AC1845B21F0849</td>\n",
       "      <td>Klinische Brief</td>\n",
       "      <td>Mw. C.M. Staal, huisarts\\r\\nFransebaan 586\\r\\n...</td>\n",
       "      <td>2017-11-13 18:22:00</td>\n",
       "      <td>2017-11-13 18:22:00</td>\n",
       "      <td>mw cm staal huisarts fransebaan re city datum ...</td>\n",
       "      <td>['cm', 'staal', 'fransebaan', 're', 'kenmerk',...</td>\n",
       "      <td>cm staal fransebaan re kenmerk patientid betre...</td>\n",
       "      <td>1</td>\n",
       "      <td>['Topic 1']</td>\n",
       "      <td>['oraal stuk', 'tablet oraal', 'tablet oraal s...</td>\n",
       "      <td>Oral Medication</td>\n",
       "      <td>Klinische Brief | Oral Medication</td>\n",
       "    </tr>\n",
       "    <tr>\n",
       "      <th>4</th>\n",
       "      <td>0A5645E02FA818D1629926B6BEFA81CF91C25A46</td>\n",
       "      <td>Klinische Brief</td>\n",
       "      <td>Aan de weledelgeleerde heer\\r\\ndrs. L.J.A.L. H...</td>\n",
       "      <td>2021-01-21 18:32:00</td>\n",
       "      <td>2021-01-21 18:32:00</td>\n",
       "      <td>weledelgeleer heer drs ljal hendrikx huisarts ...</td>\n",
       "      <td>['weledelgeleer', 'heer', 'drs', 'ljal', 'hend...</td>\n",
       "      <td>weledelgeleer heer drs ljal hendrikx groenstra...</td>\n",
       "      <td>0</td>\n",
       "      <td>['Topic 0']</td>\n",
       "      <td>['oraal stuk', 'tablet oraal', 'tablet oraal s...</td>\n",
       "      <td>Oral Meds &amp; Documentation</td>\n",
       "      <td>Klinische Brief | Oral Meds &amp; Documentation</td>\n",
       "    </tr>\n",
       "  </tbody>\n",
       "</table>\n",
       "</div>"
      ],
      "text/plain": [
       "                                  pseudo_id verslagen_report_tags  \\\n",
       "0  046D1FFEBDD40E1665D0ABA6DD8FC9F8BC4351C6       Klinische Brief   \n",
       "1  088C9FD98B8B2CBCB597C17C07AC1845B21F0849       Klinische Brief   \n",
       "2  088C9FD98B8B2CBCB597C17C07AC1845B21F0849       Klinische Brief   \n",
       "3  088C9FD98B8B2CBCB597C17C07AC1845B21F0849       Klinische Brief   \n",
       "4  0A5645E02FA818D1629926B6BEFA81CF91C25A46       Klinische Brief   \n",
       "\n",
       "                            verslagen_report_content  \\\n",
       "0  Dhr. A.J. Dingemans, huisarts\\r\\n[STREETNAME] ...   \n",
       "1  Mw. C.M. Staal, huisarts\\r\\n[STREETNAME] RE  [...   \n",
       "2  Mw. C.M. Staal, huisarts\\r\\n[STREETNAME] RE  [...   \n",
       "3  Mw. C.M. Staal, huisarts\\r\\nFransebaan 586\\r\\n...   \n",
       "4  Aan de weledelgeleerde heer\\r\\ndrs. L.J.A.L. H...   \n",
       "\n",
       "  verslagen_report_start_date                 date  \\\n",
       "0         2020-11-26 15:06:00  2020-11-26 15:06:00   \n",
       "1         2023-01-29 12:08:00  2023-01-29 12:08:00   \n",
       "2         2023-01-20 11:53:00  2023-01-20 11:53:00   \n",
       "3         2017-11-13 18:22:00  2017-11-13 18:22:00   \n",
       "4         2021-01-21 18:32:00  2021-01-21 18:32:00   \n",
       "\n",
       "                                             alltext  \\\n",
       "0  dhr aj dingemans huisarts streetnaam city datu...   \n",
       "1  mw cm staal huisarts streetname re city datum ...   \n",
       "2  mw cm staal huisarts streetname re city datum ...   \n",
       "3  mw cm staal huisarts fransebaan re city datum ...   \n",
       "4  weledelgeleer heer drs ljal hendrikx huisarts ...   \n",
       "\n",
       "                                              tokens  \\\n",
       "0  ['aj', 'dingemans', 'streetnaam', 'Kenmerk', '...   \n",
       "1  ['cm', 'staal', 're', 'kenmerk', 'patientid', ...   \n",
       "2  ['cm', 'staal', 're', 'kenmerk', 'patientid', ...   \n",
       "3  ['cm', 'staal', 'fransebaan', 're', 'kenmerk',...   \n",
       "4  ['weledelgeleer', 'heer', 'drs', 'ljal', 'hend...   \n",
       "\n",
       "                                                text  Topic          Tags  \\\n",
       "0  aj dingemans streetnaam Kenmerk patientid betr...      1   ['Topic 1']   \n",
       "1  cm staal re kenmerk patientid betreffen heer i...     -1  ['Topic -1']   \n",
       "2  cm staal re kenmerk patientid betreffen heer i...     -1  ['Topic -1']   \n",
       "3  cm staal fransebaan re kenmerk patientid betre...      1   ['Topic 1']   \n",
       "4  weledelgeleer heer drs ljal hendrikx groenstra...      0   ['Topic 0']   \n",
       "\n",
       "                                            Keywords  \\\n",
       "0  ['oraal stuk', 'tablet oraal', 'tablet oraal s...   \n",
       "1                                                 []   \n",
       "2                                                 []   \n",
       "3  ['oraal stuk', 'tablet oraal', 'tablet oraal s...   \n",
       "4  ['oraal stuk', 'tablet oraal', 'tablet oraal s...   \n",
       "\n",
       "             new_topic_label        verslagen_report_tags_new_topic_label  \n",
       "0            Oral Medication            Klinische Brief | Oral Medication  \n",
       "1                    Outlier                    Klinische Brief | Outlier  \n",
       "2                    Outlier                    Klinische Brief | Outlier  \n",
       "3            Oral Medication            Klinische Brief | Oral Medication  \n",
       "4  Oral Meds & Documentation  Klinische Brief | Oral Meds & Documentation  "
      ]
     },
     "execution_count": 13,
     "metadata": {},
     "output_type": "execute_result"
    }
   ],
   "source": [
    "df_verslagen = pd.read_csv('event_log_test.csv')\n",
    "df_verslagen = pd.read_csv('event_log_test_per_report.csv')\n",
    "df_verslagen.head()"
   ]
  },
  {
   "cell_type": "code",
   "execution_count": 14,
   "metadata": {},
   "outputs": [],
   "source": [
    "df_verslagen['event_tag'] = df_verslagen['verslagen_report_tags_new_topic_label']\n",
    "\n"
   ]
  },
  {
   "cell_type": "code",
   "execution_count": 15,
   "metadata": {},
   "outputs": [
    {
     "name": "stderr",
     "output_type": "stream",
     "text": [
      "C:\\Users\\Y.vanMegen\\AppData\\Local\\Temp\\ipykernel_25404\\2402808223.py:50: SettingWithCopyWarning: \n",
      "A value is trying to be set on a copy of a slice from a DataFrame\n",
      "\n",
      "See the caveats in the documentation: https://pandas.pydata.org/pandas-docs/stable/user_guide/indexing.html#returning-a-view-versus-a-copy\n",
      "  df_verslagen['N_Topic'][i] = df_new_labels['Index'][j].astype(str)\n"
     ]
    },
    {
     "data": {
      "text/plain": [
       "array(['0', '1', '2', '3', '4', '5', '6', '7', '8', '9', '10', '11', '12',\n",
       "       '13', '14', '15', '16', '17', '18', '19', '20', '21', '22', '23',\n",
       "       '24', '25', '26', '27', '28', '29', '30', '31'], dtype=object)"
      ]
     },
     "execution_count": 15,
     "metadata": {},
     "output_type": "execute_result"
    }
   ],
   "source": [
    "import pandas as pd\n",
    "\n",
    "# Define the data\n",
    "new_labels = [\n",
    "    [0, \"['oraal stuk', 'tablet oraal', 'tablet oraal stuk', 'mcv fl', 'vriendelijk groet']\", \"Oral Medication\"],\n",
    "    [1, \"[]\", \"Outlier\"],\n",
    "    [2, \"['oraal stuk', 'tablet oraal', 'tablet oraal stuk', 'mcv fl', 'document vervangen document']\", \"Oral Meds & Documentation\"],\n",
    "    [3, \"['aanvullen onderzoek', 'rectaal bloedverlie', 'lichamelijk onderzoek', 'beloop vpk', 'hd stabiel']\", \"GI Bleed Assessment\"],\n",
    "    [4, \"['int knoppen', 'decursus type decursus', 'decursus type', 'knoppen int', 'type decursus']\", \"Note Types\"],\n",
    "    [5, \"['decursus podo decursus', 'decursus podo', 'podo decursus', 'uitvoeren controle', 'controle decursus podo']\", \"Podiatry Follow-up\"],\n",
    "    [6, \"['oraal stuk', 'tablet oraal', 'tablet oraal stuk', 'streetnaam zip', 'geacht collega']\", \"Oral Meds & Correspondence\"],\n",
    "    [7, \"['gastroscopie betreffen', 'collega gastroscopie uitvoeren', 'collega gastroscopie', 'gastroscopie uitvoeren', 'geacht collega gastroscopie']\", \"Gastroscopy Request\"],\n",
    "    [8, \"['oraal stuk', 'tablet oraal', 'tablet oraal stuk', 'spoedeisen hulp', 'rectaal bloedverlie']\", \"GI Emergency\"],\n",
    "    [9, \"['oraal stuk', 'tablet oraal', 'tablet oraal stuk', 'zwart ontlasting', 'angiodysplasie jejunum']\", \"GI Bleed (Jejunum)\"],\n",
    "    [10, \"['reden komst', 'oraal stuk', 'komst verwijzing', 'aanvullen onderzoek', 'lichamelijk onderzoek']\", \"Intake & Initial Assessment\"],\n",
    "    [11, \"['sputovamo leeftijd', 'medisch dossier', 'triage nee', 'naam functie', 'toediening medicatie']\", \"Patient Intake\"],\n",
    "    [12, \"['beloop verpleegkundig', 'soort infuus medicatie', 'infuus medicatie', 'vocht toediening soort', 'vocht toediening']\", \"Infusion & Fluid Management\"],\n",
    "    [13, \"['indicatie aanvraag', 'asa klasse', 'antibiotisch profylaxe', 'antibiotisch profylaxe nvt', 'profylaxe nvt']\", \"Surgical Prophylaxis\"],\n",
    "    [14, \"['lab diana', 'tevoren lab', 'diana lab', 'lab int', 'lab oz']\", \"Lab Requests\"],\n",
    "    [15, \"['aantal controle', 'controle controle', 'mdlarts aantal', 'controle aantal', 'controle aantal controle']\", \"Follow-up Planning\"],\n",
    "    [16, \"['diabete mellitus', 'communicatie specialistisch', 'specialistisch verpleegkundigen communicatie', 'communicatie specialistisch verpleegkundigen', 'verpleegkundigen communicatie']\", \"Diabetes & Specialist Communication\"],\n",
    "    [17, \"['diabete lunch', 'diabete lunch slapen', 'lunch slapen', 'basisdosering diabete lunch', 'basisdosering diabete']\", \"Diabetes Lifestyle Planning\"],\n",
    "    [18, \"['oraal stuk', 'reden komst', 'int knoppen', 'arts assistent', 'rectaal bloedverlie']\", \"Initial Triage\"],\n",
    "    [19, \"['anemie wd', 'actief bloeding', 'streef hb', 'anemie hb', 'dun darm']\", \"Anemia & GI Bleed\"],\n",
    "    [20, \"['overig actie', 'knoppen consult', 'lichamelijk onderzoek', 'consult knoppen', 'knoppen consult knoppen']\", \"Consultation Workflow\"],\n",
    "    [21, \"['diabete mellitus', 'oraal stuk', 'diabete vpk', 'mellitus type', 'diabete mellitus type']\", \"Diabetes Medication\"],\n",
    "    [22, \"['intern geneeskun', 'opname intern geneeskun', 'opname intern', 'secundair hyperparathyreoïdie', 'status niertransplantatie']\", \"Internal Medicine Admission\"],\n",
    "    [23, \"['oraal stuk', 'lichamelijk onderzoek', 'overig actie', 'reden komst', 'gewicht kg']\", \"Admission Assessment\"],\n",
    "    [24, \"['intake type', 'intake type consult', 'consult osteoporose', 'consult osteoporose intake', 'osteoporose intake']\", \"Osteoporosis Intake\"],\n",
    "    [25, \"['intern geneeskun', 'opname intern', 'ferriprief anemie', 'opname intern geneeskun', 'chronisch nierinsufficiëntie']\", \"Iron Deficiency & CKD\"],\n",
    "    [26, \"['krijgen remicade', 'gb krijgen', 'gb krijgen remicade', 'remicade iv', 'krijgen remicade iv']\", \"Remicade Administration\"],\n",
    "    [27, \"['lab labbon', 'lab formulier', 'blank osnp', 'ca nf', 'lab formulier opgesturen']\", \"Lab Documentation\"],\n",
    "    [28, \"['allergisch reaktie', 'uitslag videocapsule', 'thuis prikken', 'laten prikken', 'videocapsule via']\", \"Allergy & Capsule Diagnostics\"],\n",
    "    [29, \"['overig actie', 'aanvullen onderzoek', 'dun darm', 'hemoglobine mmoll', 'ferriprief anemie']\", \"Iron Deficiency Workup\"],\n",
    "    [30, \"['progressie cll', 'graad ii', 'hormonaal therapie', 'lobulair carcinoom', 'ductaal lobulair carcinoom']\", \"Cancer Progression (CLL/Breast)\"],\n",
    "    [31, \"['totaal heup', 'polycythaemia vera', 'toename anemie', 'myelofibrose duidelijk progressie', 'progressie splenomegalie']\", \"Hematologic Disorders\"]\n",
    "]\n",
    "\n",
    "# Create the DataFrame\n",
    "df_new_labels = pd.DataFrame(new_labels, columns=[\"Index\", \"Topics\", \"Label\"])\n",
    "\n",
    "# Display the DataFrame\n",
    "df_new_labels\n",
    "\n",
    "df_verslagen['N_Topic'] = -1  # Initialize the N_Topic column with -1\n",
    "\n",
    "for i in range(len(df_verslagen)):\n",
    "    for j in range(len(df_new_labels)):\n",
    "        if df_verslagen['new_topic_label'][i] == df_new_labels['Label'][j]:\n",
    "            df_verslagen['N_Topic'][i] = df_new_labels['Index'][j].astype(str)\n",
    "            break\n",
    "\n",
    "df_verslagen['N_Topic'].unique()"
   ]
  },
  {
   "cell_type": "code",
   "execution_count": 16,
   "metadata": {},
   "outputs": [
    {
     "data": {
      "text/html": [
       "<div>\n",
       "<style scoped>\n",
       "    .dataframe tbody tr th:only-of-type {\n",
       "        vertical-align: middle;\n",
       "    }\n",
       "\n",
       "    .dataframe tbody tr th {\n",
       "        vertical-align: top;\n",
       "    }\n",
       "\n",
       "    .dataframe thead th {\n",
       "        text-align: right;\n",
       "    }\n",
       "</style>\n",
       "<table border=\"1\" class=\"dataframe\">\n",
       "  <thead>\n",
       "    <tr style=\"text-align: right;\">\n",
       "      <th></th>\n",
       "      <th>pseudo_id</th>\n",
       "      <th>verslagen_report_tags</th>\n",
       "      <th>verslagen_report_content</th>\n",
       "      <th>verslagen_report_start_date</th>\n",
       "      <th>date</th>\n",
       "      <th>alltext</th>\n",
       "      <th>tokens</th>\n",
       "      <th>text</th>\n",
       "      <th>Topic</th>\n",
       "      <th>Tags</th>\n",
       "      <th>Keywords</th>\n",
       "      <th>new_topic_label</th>\n",
       "      <th>verslagen_report_tags_new_topic_label</th>\n",
       "      <th>event_tag</th>\n",
       "      <th>N_Topic</th>\n",
       "    </tr>\n",
       "  </thead>\n",
       "  <tbody>\n",
       "    <tr>\n",
       "      <th>0</th>\n",
       "      <td>046D1FFEBDD40E1665D0ABA6DD8FC9F8BC4351C6</td>\n",
       "      <td>Klinische Brief</td>\n",
       "      <td>Dhr. A.J. Dingemans, huisarts\\r\\n[STREETNAME] ...</td>\n",
       "      <td>2020-11-26 15:06:00</td>\n",
       "      <td>2020-11-26 15:06:00</td>\n",
       "      <td>dhr aj dingemans huisarts streetnaam city datu...</td>\n",
       "      <td>['aj', 'dingemans', 'streetnaam', 'Kenmerk', '...</td>\n",
       "      <td>aj dingemans streetnaam Kenmerk patientid betr...</td>\n",
       "      <td>1</td>\n",
       "      <td>['Topic 1']</td>\n",
       "      <td>['oraal stuk', 'tablet oraal', 'tablet oraal s...</td>\n",
       "      <td>Oral Medication</td>\n",
       "      <td>Klinische Brief | Oral Medication</td>\n",
       "      <td>Klinische Brief | Oral Medication</td>\n",
       "      <td>0</td>\n",
       "    </tr>\n",
       "    <tr>\n",
       "      <th>1</th>\n",
       "      <td>088C9FD98B8B2CBCB597C17C07AC1845B21F0849</td>\n",
       "      <td>Klinische Brief</td>\n",
       "      <td>Mw. C.M. Staal, huisarts\\r\\n[STREETNAME] RE  [...</td>\n",
       "      <td>2023-01-29 12:08:00</td>\n",
       "      <td>2023-01-29 12:08:00</td>\n",
       "      <td>mw cm staal huisarts streetname re city datum ...</td>\n",
       "      <td>['cm', 'staal', 're', 'kenmerk', 'patientid', ...</td>\n",
       "      <td>cm staal re kenmerk patientid betreffen heer i...</td>\n",
       "      <td>-1</td>\n",
       "      <td>['Topic -1']</td>\n",
       "      <td>[]</td>\n",
       "      <td>Outlier</td>\n",
       "      <td>Klinische Brief | Outlier</td>\n",
       "      <td>Klinische Brief | Outlier</td>\n",
       "      <td>1</td>\n",
       "    </tr>\n",
       "    <tr>\n",
       "      <th>2</th>\n",
       "      <td>088C9FD98B8B2CBCB597C17C07AC1845B21F0849</td>\n",
       "      <td>Klinische Brief</td>\n",
       "      <td>Mw. C.M. Staal, huisarts\\r\\n[STREETNAME] RE  [...</td>\n",
       "      <td>2023-01-20 11:53:00</td>\n",
       "      <td>2023-01-20 11:53:00</td>\n",
       "      <td>mw cm staal huisarts streetname re city datum ...</td>\n",
       "      <td>['cm', 'staal', 're', 'kenmerk', 'patientid', ...</td>\n",
       "      <td>cm staal re kenmerk patientid betreffen heer i...</td>\n",
       "      <td>-1</td>\n",
       "      <td>['Topic -1']</td>\n",
       "      <td>[]</td>\n",
       "      <td>Outlier</td>\n",
       "      <td>Klinische Brief | Outlier</td>\n",
       "      <td>Klinische Brief | Outlier</td>\n",
       "      <td>1</td>\n",
       "    </tr>\n",
       "    <tr>\n",
       "      <th>3</th>\n",
       "      <td>088C9FD98B8B2CBCB597C17C07AC1845B21F0849</td>\n",
       "      <td>Klinische Brief</td>\n",
       "      <td>Mw. C.M. Staal, huisarts\\r\\nFransebaan 586\\r\\n...</td>\n",
       "      <td>2017-11-13 18:22:00</td>\n",
       "      <td>2017-11-13 18:22:00</td>\n",
       "      <td>mw cm staal huisarts fransebaan re city datum ...</td>\n",
       "      <td>['cm', 'staal', 'fransebaan', 're', 'kenmerk',...</td>\n",
       "      <td>cm staal fransebaan re kenmerk patientid betre...</td>\n",
       "      <td>1</td>\n",
       "      <td>['Topic 1']</td>\n",
       "      <td>['oraal stuk', 'tablet oraal', 'tablet oraal s...</td>\n",
       "      <td>Oral Medication</td>\n",
       "      <td>Klinische Brief | Oral Medication</td>\n",
       "      <td>Klinische Brief | Oral Medication</td>\n",
       "      <td>0</td>\n",
       "    </tr>\n",
       "    <tr>\n",
       "      <th>4</th>\n",
       "      <td>0A5645E02FA818D1629926B6BEFA81CF91C25A46</td>\n",
       "      <td>Klinische Brief</td>\n",
       "      <td>Aan de weledelgeleerde heer\\r\\ndrs. L.J.A.L. H...</td>\n",
       "      <td>2021-01-21 18:32:00</td>\n",
       "      <td>2021-01-21 18:32:00</td>\n",
       "      <td>weledelgeleer heer drs ljal hendrikx huisarts ...</td>\n",
       "      <td>['weledelgeleer', 'heer', 'drs', 'ljal', 'hend...</td>\n",
       "      <td>weledelgeleer heer drs ljal hendrikx groenstra...</td>\n",
       "      <td>0</td>\n",
       "      <td>['Topic 0']</td>\n",
       "      <td>['oraal stuk', 'tablet oraal', 'tablet oraal s...</td>\n",
       "      <td>Oral Meds &amp; Documentation</td>\n",
       "      <td>Klinische Brief | Oral Meds &amp; Documentation</td>\n",
       "      <td>Klinische Brief | Oral Meds &amp; Documentation</td>\n",
       "      <td>2</td>\n",
       "    </tr>\n",
       "    <tr>\n",
       "      <th>...</th>\n",
       "      <td>...</td>\n",
       "      <td>...</td>\n",
       "      <td>...</td>\n",
       "      <td>...</td>\n",
       "      <td>...</td>\n",
       "      <td>...</td>\n",
       "      <td>...</td>\n",
       "      <td>...</td>\n",
       "      <td>...</td>\n",
       "      <td>...</td>\n",
       "      <td>...</td>\n",
       "      <td>...</td>\n",
       "      <td>...</td>\n",
       "      <td>...</td>\n",
       "      <td>...</td>\n",
       "    </tr>\n",
       "    <tr>\n",
       "      <th>9407</th>\n",
       "      <td>F8C241E69061BB450778B7A4CC336FF520469A0A</td>\n",
       "      <td>Consult, Telefonisch consult</td>\n",
       "      <td>Samenvatting: \\nVoorgeschiedenis\\n1994 cervixc...</td>\n",
       "      <td>2018-12-21 20:13:00</td>\n",
       "      <td>2018-12-21 20:13:00</td>\n",
       "      <td>samenvatting voorgeschiedenis cervixcarcinoom ...</td>\n",
       "      <td>['cervixcarcinoom', 'hypertensie', 'hypothyreo...</td>\n",
       "      <td>cervixcarcinoom hypertensie hypothyreoïdie tot...</td>\n",
       "      <td>2</td>\n",
       "      <td>['Topic 2']</td>\n",
       "      <td>['totaal heup', 'polycythaemia vera', 'toename...</td>\n",
       "      <td>Hematologic Disorders</td>\n",
       "      <td>Consult, Telefonisch consult | Hematologic Dis...</td>\n",
       "      <td>Consult, Telefonisch consult | Hematologic Dis...</td>\n",
       "      <td>31</td>\n",
       "    </tr>\n",
       "    <tr>\n",
       "      <th>9408</th>\n",
       "      <td>F8D116F01EE0039678998F393FA337C10AD4F4E2</td>\n",
       "      <td>Consult, Telefonisch consult</td>\n",
       "      <td>Samenvatting: \\n2016 geen osteoporose\\n2016 hy...</td>\n",
       "      <td>2020-06-26 15:00:00</td>\n",
       "      <td>2020-06-26 15:00:00</td>\n",
       "      <td>samenvatting osteoporose hypocalciurie april d...</td>\n",
       "      <td>['osteoporose', 'hypocalciurie', 'dementie', '...</td>\n",
       "      <td>osteoporose hypocalciurie dementie Jun prol Re...</td>\n",
       "      <td>0</td>\n",
       "      <td>['Topic 0']</td>\n",
       "      <td>['overig actie', 'aanvullen onderzoek', 'dun d...</td>\n",
       "      <td>Iron Deficiency Workup</td>\n",
       "      <td>Consult, Telefonisch consult | Iron Deficiency...</td>\n",
       "      <td>Consult, Telefonisch consult | Iron Deficiency...</td>\n",
       "      <td>29</td>\n",
       "    </tr>\n",
       "    <tr>\n",
       "      <th>9409</th>\n",
       "      <td>F8D116F01EE0039678998F393FA337C10AD4F4E2</td>\n",
       "      <td>Consult, Telefonisch consult</td>\n",
       "      <td>Samenvatting: \\n2016 geen osteoporose\\n2016 hy...</td>\n",
       "      <td>2020-04-16 11:57:00</td>\n",
       "      <td>2020-04-16 11:57:00</td>\n",
       "      <td>samenvatting osteoporose hypocalciurie april d...</td>\n",
       "      <td>['osteoporose', 'hypocalciurie', 'dementie', '...</td>\n",
       "      <td>osteoporose hypocalciurie dementie Jun prol Re...</td>\n",
       "      <td>0</td>\n",
       "      <td>['Topic 0']</td>\n",
       "      <td>['overig actie', 'aanvullen onderzoek', 'dun d...</td>\n",
       "      <td>Iron Deficiency Workup</td>\n",
       "      <td>Consult, Telefonisch consult | Iron Deficiency...</td>\n",
       "      <td>Consult, Telefonisch consult | Iron Deficiency...</td>\n",
       "      <td>29</td>\n",
       "    </tr>\n",
       "    <tr>\n",
       "      <th>9410</th>\n",
       "      <td>F8D116F01EE0039678998F393FA337C10AD4F4E2</td>\n",
       "      <td>Consult, Telefonisch consult</td>\n",
       "      <td>Samenvatting: \\n2016 geen osteoporose\\n2016 hy...</td>\n",
       "      <td>2020-03-27 12:14:00</td>\n",
       "      <td>2020-03-27 12:14:00</td>\n",
       "      <td>samenvatting osteoporose hypocalciurie april d...</td>\n",
       "      <td>['osteoporose', 'hypocalciurie', 'dementie', '...</td>\n",
       "      <td>osteoporose hypocalciurie dementie Jun prol Re...</td>\n",
       "      <td>0</td>\n",
       "      <td>['Topic 0']</td>\n",
       "      <td>['overig actie', 'aanvullen onderzoek', 'dun d...</td>\n",
       "      <td>Iron Deficiency Workup</td>\n",
       "      <td>Consult, Telefonisch consult | Iron Deficiency...</td>\n",
       "      <td>Consult, Telefonisch consult | Iron Deficiency...</td>\n",
       "      <td>29</td>\n",
       "    </tr>\n",
       "    <tr>\n",
       "      <th>9411</th>\n",
       "      <td>FAA79717FF2C725767E9469350ACECF640E5FCBC</td>\n",
       "      <td>Consult, Telefonisch consult</td>\n",
       "      <td>Beloop: \\nTelefoon consult:\\n\\nAlgemeen: Mw be...</td>\n",
       "      <td>2017-11-09 15:36:00</td>\n",
       "      <td>2017-11-09 15:36:00</td>\n",
       "      <td>beloop telefoon consult algemeen mw bellen sto...</td>\n",
       "      <td>['beloop', 'consult', 'stoppen', 'gliclazide',...</td>\n",
       "      <td>beloop consult stoppen gliclazide eind nuchter...</td>\n",
       "      <td>0</td>\n",
       "      <td>['Topic 0']</td>\n",
       "      <td>['overig actie', 'aanvullen onderzoek', 'dun d...</td>\n",
       "      <td>Iron Deficiency Workup</td>\n",
       "      <td>Consult, Telefonisch consult | Iron Deficiency...</td>\n",
       "      <td>Consult, Telefonisch consult | Iron Deficiency...</td>\n",
       "      <td>29</td>\n",
       "    </tr>\n",
       "  </tbody>\n",
       "</table>\n",
       "<p>9412 rows × 15 columns</p>\n",
       "</div>"
      ],
      "text/plain": [
       "                                     pseudo_id         verslagen_report_tags  \\\n",
       "0     046D1FFEBDD40E1665D0ABA6DD8FC9F8BC4351C6               Klinische Brief   \n",
       "1     088C9FD98B8B2CBCB597C17C07AC1845B21F0849               Klinische Brief   \n",
       "2     088C9FD98B8B2CBCB597C17C07AC1845B21F0849               Klinische Brief   \n",
       "3     088C9FD98B8B2CBCB597C17C07AC1845B21F0849               Klinische Brief   \n",
       "4     0A5645E02FA818D1629926B6BEFA81CF91C25A46               Klinische Brief   \n",
       "...                                        ...                           ...   \n",
       "9407  F8C241E69061BB450778B7A4CC336FF520469A0A  Consult, Telefonisch consult   \n",
       "9408  F8D116F01EE0039678998F393FA337C10AD4F4E2  Consult, Telefonisch consult   \n",
       "9409  F8D116F01EE0039678998F393FA337C10AD4F4E2  Consult, Telefonisch consult   \n",
       "9410  F8D116F01EE0039678998F393FA337C10AD4F4E2  Consult, Telefonisch consult   \n",
       "9411  FAA79717FF2C725767E9469350ACECF640E5FCBC  Consult, Telefonisch consult   \n",
       "\n",
       "                               verslagen_report_content  \\\n",
       "0     Dhr. A.J. Dingemans, huisarts\\r\\n[STREETNAME] ...   \n",
       "1     Mw. C.M. Staal, huisarts\\r\\n[STREETNAME] RE  [...   \n",
       "2     Mw. C.M. Staal, huisarts\\r\\n[STREETNAME] RE  [...   \n",
       "3     Mw. C.M. Staal, huisarts\\r\\nFransebaan 586\\r\\n...   \n",
       "4     Aan de weledelgeleerde heer\\r\\ndrs. L.J.A.L. H...   \n",
       "...                                                 ...   \n",
       "9407  Samenvatting: \\nVoorgeschiedenis\\n1994 cervixc...   \n",
       "9408  Samenvatting: \\n2016 geen osteoporose\\n2016 hy...   \n",
       "9409  Samenvatting: \\n2016 geen osteoporose\\n2016 hy...   \n",
       "9410  Samenvatting: \\n2016 geen osteoporose\\n2016 hy...   \n",
       "9411  Beloop: \\nTelefoon consult:\\n\\nAlgemeen: Mw be...   \n",
       "\n",
       "     verslagen_report_start_date                 date  \\\n",
       "0            2020-11-26 15:06:00  2020-11-26 15:06:00   \n",
       "1            2023-01-29 12:08:00  2023-01-29 12:08:00   \n",
       "2            2023-01-20 11:53:00  2023-01-20 11:53:00   \n",
       "3            2017-11-13 18:22:00  2017-11-13 18:22:00   \n",
       "4            2021-01-21 18:32:00  2021-01-21 18:32:00   \n",
       "...                          ...                  ...   \n",
       "9407         2018-12-21 20:13:00  2018-12-21 20:13:00   \n",
       "9408         2020-06-26 15:00:00  2020-06-26 15:00:00   \n",
       "9409         2020-04-16 11:57:00  2020-04-16 11:57:00   \n",
       "9410         2020-03-27 12:14:00  2020-03-27 12:14:00   \n",
       "9411         2017-11-09 15:36:00  2017-11-09 15:36:00   \n",
       "\n",
       "                                                alltext  \\\n",
       "0     dhr aj dingemans huisarts streetnaam city datu...   \n",
       "1     mw cm staal huisarts streetname re city datum ...   \n",
       "2     mw cm staal huisarts streetname re city datum ...   \n",
       "3     mw cm staal huisarts fransebaan re city datum ...   \n",
       "4     weledelgeleer heer drs ljal hendrikx huisarts ...   \n",
       "...                                                 ...   \n",
       "9407  samenvatting voorgeschiedenis cervixcarcinoom ...   \n",
       "9408  samenvatting osteoporose hypocalciurie april d...   \n",
       "9409  samenvatting osteoporose hypocalciurie april d...   \n",
       "9410  samenvatting osteoporose hypocalciurie april d...   \n",
       "9411  beloop telefoon consult algemeen mw bellen sto...   \n",
       "\n",
       "                                                 tokens  \\\n",
       "0     ['aj', 'dingemans', 'streetnaam', 'Kenmerk', '...   \n",
       "1     ['cm', 'staal', 're', 'kenmerk', 'patientid', ...   \n",
       "2     ['cm', 'staal', 're', 'kenmerk', 'patientid', ...   \n",
       "3     ['cm', 'staal', 'fransebaan', 're', 'kenmerk',...   \n",
       "4     ['weledelgeleer', 'heer', 'drs', 'ljal', 'hend...   \n",
       "...                                                 ...   \n",
       "9407  ['cervixcarcinoom', 'hypertensie', 'hypothyreo...   \n",
       "9408  ['osteoporose', 'hypocalciurie', 'dementie', '...   \n",
       "9409  ['osteoporose', 'hypocalciurie', 'dementie', '...   \n",
       "9410  ['osteoporose', 'hypocalciurie', 'dementie', '...   \n",
       "9411  ['beloop', 'consult', 'stoppen', 'gliclazide',...   \n",
       "\n",
       "                                                   text  Topic          Tags  \\\n",
       "0     aj dingemans streetnaam Kenmerk patientid betr...      1   ['Topic 1']   \n",
       "1     cm staal re kenmerk patientid betreffen heer i...     -1  ['Topic -1']   \n",
       "2     cm staal re kenmerk patientid betreffen heer i...     -1  ['Topic -1']   \n",
       "3     cm staal fransebaan re kenmerk patientid betre...      1   ['Topic 1']   \n",
       "4     weledelgeleer heer drs ljal hendrikx groenstra...      0   ['Topic 0']   \n",
       "...                                                 ...    ...           ...   \n",
       "9407  cervixcarcinoom hypertensie hypothyreoïdie tot...      2   ['Topic 2']   \n",
       "9408  osteoporose hypocalciurie dementie Jun prol Re...      0   ['Topic 0']   \n",
       "9409  osteoporose hypocalciurie dementie Jun prol Re...      0   ['Topic 0']   \n",
       "9410  osteoporose hypocalciurie dementie Jun prol Re...      0   ['Topic 0']   \n",
       "9411  beloop consult stoppen gliclazide eind nuchter...      0   ['Topic 0']   \n",
       "\n",
       "                                               Keywords  \\\n",
       "0     ['oraal stuk', 'tablet oraal', 'tablet oraal s...   \n",
       "1                                                    []   \n",
       "2                                                    []   \n",
       "3     ['oraal stuk', 'tablet oraal', 'tablet oraal s...   \n",
       "4     ['oraal stuk', 'tablet oraal', 'tablet oraal s...   \n",
       "...                                                 ...   \n",
       "9407  ['totaal heup', 'polycythaemia vera', 'toename...   \n",
       "9408  ['overig actie', 'aanvullen onderzoek', 'dun d...   \n",
       "9409  ['overig actie', 'aanvullen onderzoek', 'dun d...   \n",
       "9410  ['overig actie', 'aanvullen onderzoek', 'dun d...   \n",
       "9411  ['overig actie', 'aanvullen onderzoek', 'dun d...   \n",
       "\n",
       "                new_topic_label  \\\n",
       "0               Oral Medication   \n",
       "1                       Outlier   \n",
       "2                       Outlier   \n",
       "3               Oral Medication   \n",
       "4     Oral Meds & Documentation   \n",
       "...                         ...   \n",
       "9407      Hematologic Disorders   \n",
       "9408     Iron Deficiency Workup   \n",
       "9409     Iron Deficiency Workup   \n",
       "9410     Iron Deficiency Workup   \n",
       "9411     Iron Deficiency Workup   \n",
       "\n",
       "                  verslagen_report_tags_new_topic_label  \\\n",
       "0                     Klinische Brief | Oral Medication   \n",
       "1                             Klinische Brief | Outlier   \n",
       "2                             Klinische Brief | Outlier   \n",
       "3                     Klinische Brief | Oral Medication   \n",
       "4           Klinische Brief | Oral Meds & Documentation   \n",
       "...                                                 ...   \n",
       "9407  Consult, Telefonisch consult | Hematologic Dis...   \n",
       "9408  Consult, Telefonisch consult | Iron Deficiency...   \n",
       "9409  Consult, Telefonisch consult | Iron Deficiency...   \n",
       "9410  Consult, Telefonisch consult | Iron Deficiency...   \n",
       "9411  Consult, Telefonisch consult | Iron Deficiency...   \n",
       "\n",
       "                                              event_tag N_Topic  \n",
       "0                     Klinische Brief | Oral Medication       0  \n",
       "1                             Klinische Brief | Outlier       1  \n",
       "2                             Klinische Brief | Outlier       1  \n",
       "3                     Klinische Brief | Oral Medication       0  \n",
       "4           Klinische Brief | Oral Meds & Documentation       2  \n",
       "...                                                 ...     ...  \n",
       "9407  Consult, Telefonisch consult | Hematologic Dis...      31  \n",
       "9408  Consult, Telefonisch consult | Iron Deficiency...      29  \n",
       "9409  Consult, Telefonisch consult | Iron Deficiency...      29  \n",
       "9410  Consult, Telefonisch consult | Iron Deficiency...      29  \n",
       "9411  Consult, Telefonisch consult | Iron Deficiency...      29  \n",
       "\n",
       "[9412 rows x 15 columns]"
      ]
     },
     "execution_count": 16,
     "metadata": {},
     "output_type": "execute_result"
    }
   ],
   "source": [
    "df_verslagen"
   ]
  },
  {
   "cell_type": "code",
   "execution_count": 17,
   "metadata": {},
   "outputs": [
    {
     "name": "stdout",
     "output_type": "stream",
     "text": [
      "Unique tags in df_verslagen:\n",
      "['Klinische Brief' 'Consult, Kliniek: vervolgconsult'\n",
      " 'Poliklinische Brief' 'Spoedeisende Hulp' 'Consult, SEH' 'Consult'\n",
      " 'Consult, Kliniek: eerste consult' 'Consult, Polikliniek: vervolgconsult'\n",
      " 'Consult, Polikliniek: eerste consult' 'Consult, Overige aantekeningen'\n",
      " 'Consult, Telefonisch consult']\n"
     ]
    }
   ],
   "source": [
    "unique_tags_df_verslagen = df_verslagen['verslagen_report_tags'].unique()\n",
    "\n",
    "print(\"Unique tags in df_verslagen:\")\n",
    "print(unique_tags_df_verslagen)"
   ]
  },
  {
   "cell_type": "code",
   "execution_count": 18,
   "metadata": {},
   "outputs": [
    {
     "name": "stdout",
     "output_type": "stream",
     "text": [
      "Unique tags in df_verslagen:\n",
      "['Klinische Brief | Oral Medication' 'Klinische Brief | Outlier'\n",
      " 'Klinische Brief | Oral Meds & Documentation'\n",
      " 'Consult, Kliniek: vervolgconsult | GI Bleed Assessment'\n",
      " 'Consult, Kliniek: vervolgconsult | Outlier'\n",
      " 'Consult, Kliniek: vervolgconsult | Note Types'\n",
      " 'Consult, Kliniek: vervolgconsult | Podiatry Follow-up'\n",
      " 'Poliklinische Brief | Oral Meds & Correspondence'\n",
      " 'Poliklinische Brief | Gastroscopy Request'\n",
      " 'Poliklinische Brief | Outlier' 'Spoedeisende Hulp | GI Emergency'\n",
      " 'Spoedeisende Hulp | Outlier' 'Spoedeisende Hulp | GI Bleed (Jejunum)'\n",
      " 'Consult, SEH | Intake & Initial Assessment'\n",
      " 'Consult, SEH | Patient Intake' 'Consult, SEH | Outlier'\n",
      " 'Consult, SEH | Infusion & Fluid Management'\n",
      " 'Consult | Surgical Prophylaxis' 'Consult | Lab Requests'\n",
      " 'Consult | Follow-up Planning' 'Consult | Outlier'\n",
      " 'Consult | Diabetes & Specialist Communication'\n",
      " 'Consult | Diabetes Lifestyle Planning'\n",
      " 'Consult, Kliniek: eerste consult | Initial Triage'\n",
      " 'Consult, Kliniek: eerste consult | Outlier'\n",
      " 'Consult, Kliniek: eerste consult | Anemia & GI Bleed'\n",
      " 'Consult, Polikliniek: vervolgconsult | Consultation Workflow'\n",
      " 'Consult, Polikliniek: vervolgconsult | Outlier'\n",
      " 'Consult, Polikliniek: vervolgconsult | Diabetes Medication'\n",
      " 'Consult, Polikliniek: vervolgconsult | Internal Medicine Admission'\n",
      " 'Consult, Polikliniek: eerste consult | Admission Assessment'\n",
      " 'Consult, Polikliniek: eerste consult | Outlier'\n",
      " 'Consult, Polikliniek: eerste consult | Osteoporosis Intake'\n",
      " 'Consult, Overige aantekeningen | Outlier'\n",
      " 'Consult, Overige aantekeningen | Iron Deficiency & CKD'\n",
      " 'Consult, Overige aantekeningen | Remicade Administration'\n",
      " 'Consult, Overige aantekeningen | Lab Documentation'\n",
      " 'Consult, Overige aantekeningen | Allergy & Capsule Diagnostics'\n",
      " 'Consult, Telefonisch consult | Iron Deficiency Workup'\n",
      " 'Consult, Telefonisch consult | Cancer Progression (CLL/Breast)'\n",
      " 'Consult, Telefonisch consult | Outlier'\n",
      " 'Consult, Telefonisch consult | Hematologic Disorders']\n"
     ]
    }
   ],
   "source": [
    "unique_tags_df_verslagen = df_verslagen['event_tag'].unique()\n",
    "\n",
    "print(\"Unique tags in df_verslagen:\")\n",
    "print(unique_tags_df_verslagen)"
   ]
  },
  {
   "cell_type": "code",
   "execution_count": 19,
   "metadata": {},
   "outputs": [],
   "source": [
    "# topic_labels = {\n",
    "#     \"['Topic 0']\": \"Diabetes_&_Lunch\",\n",
    "#     \"['Topic 1']\": \"Breast_Cancer\",\n",
    "#     \"['Topic 2']\": \"CLL_&_COPD\",\n",
    "#     \"['Topic 3']\": \"Dialysis_&_Kidney_Function\",\n",
    "#     \"['Topic 4']\": \"Prophylaxis_&_ASA_Class\",\n",
    "#     \"['Topic 5']\": \"Diabetes_Type_II\",\n",
    "#     \"['Topic 6']\": \"Atrial_Fibrillation_&_Malaise\",\n",
    "#     \"['Topic 7']\": \"Remicade_&_Follow-up\",\n",
    "#     \"['Topic 8']\": \"Pancreatitis_&_Whipple\",\n",
    "#     \"['Topic 9']\": \"GI_Ulcer_&_Bleeding\",\n",
    "#     \"['Topic 10']\": \"Patient_ID_&_Medication\",\n",
    "#     \"['Topic 11']\": \"Medical_Records\",\n",
    "#     \"['Topic 12']\": \"Triage_&_Medication\",\n",
    "#     \"['Topic 13']\": \"Liver_Cirrhosis_&_Varices\",\n",
    "#     \"['Topic 14']\": \"Consultation_Registration\",\n",
    "#     \"['Topic 15']\": \"Rectal_Bleeding_&_Anemia\",\n",
    "\n",
    "#     \"['Topic -1']\": \"Outlier\",\n",
    "# }\n",
    "\n",
    "# df_verslagen[\"new_topic_label\"] = df_verslagen[\"topic_tags\"].map(topic_labels)\n",
    "# df_verslagen.head()\n"
   ]
  },
  {
   "cell_type": "code",
   "execution_count": 20,
   "metadata": {},
   "outputs": [
    {
     "data": {
      "text/html": [
       "<div>\n",
       "<style scoped>\n",
       "    .dataframe tbody tr th:only-of-type {\n",
       "        vertical-align: middle;\n",
       "    }\n",
       "\n",
       "    .dataframe tbody tr th {\n",
       "        vertical-align: top;\n",
       "    }\n",
       "\n",
       "    .dataframe thead th {\n",
       "        text-align: right;\n",
       "    }\n",
       "</style>\n",
       "<table border=\"1\" class=\"dataframe\">\n",
       "  <thead>\n",
       "    <tr style=\"text-align: right;\">\n",
       "      <th></th>\n",
       "      <th>pseudo_id</th>\n",
       "      <th>verslagen_report_tags</th>\n",
       "      <th>verslagen_report_content</th>\n",
       "      <th>verslagen_report_start_date</th>\n",
       "      <th>date</th>\n",
       "      <th>alltext</th>\n",
       "      <th>tokens</th>\n",
       "      <th>text</th>\n",
       "      <th>Topic</th>\n",
       "      <th>Tags</th>\n",
       "      <th>Keywords</th>\n",
       "      <th>new_topic_label</th>\n",
       "      <th>verslagen_report_tags_new_topic_label</th>\n",
       "      <th>event_tag</th>\n",
       "      <th>N_Topic</th>\n",
       "    </tr>\n",
       "  </thead>\n",
       "  <tbody>\n",
       "    <tr>\n",
       "      <th>0</th>\n",
       "      <td>046D1FFEBDD40E1665D0ABA6DD8FC9F8BC4351C6</td>\n",
       "      <td>Klinische Brief</td>\n",
       "      <td>Dhr. A.J. Dingemans, huisarts\\r\\n[STREETNAME] ...</td>\n",
       "      <td>2020-11-26 15:06:00</td>\n",
       "      <td>2020-11-26 15:06:00</td>\n",
       "      <td>dhr aj dingemans huisarts streetnaam city datu...</td>\n",
       "      <td>['aj', 'dingemans', 'streetnaam', 'Kenmerk', '...</td>\n",
       "      <td>aj dingemans streetnaam Kenmerk patientid betr...</td>\n",
       "      <td>1</td>\n",
       "      <td>['Topic 1']</td>\n",
       "      <td>['oraal stuk', 'tablet oraal', 'tablet oraal s...</td>\n",
       "      <td>Oral Medication</td>\n",
       "      <td>Klinische Brief | Oral Medication</td>\n",
       "      <td>Klinische Brief | Oral Medication</td>\n",
       "      <td>0</td>\n",
       "    </tr>\n",
       "    <tr>\n",
       "      <th>3</th>\n",
       "      <td>088C9FD98B8B2CBCB597C17C07AC1845B21F0849</td>\n",
       "      <td>Klinische Brief</td>\n",
       "      <td>Mw. C.M. Staal, huisarts\\r\\nFransebaan 586\\r\\n...</td>\n",
       "      <td>2017-11-13 18:22:00</td>\n",
       "      <td>2017-11-13 18:22:00</td>\n",
       "      <td>mw cm staal huisarts fransebaan re city datum ...</td>\n",
       "      <td>['cm', 'staal', 'fransebaan', 're', 'kenmerk',...</td>\n",
       "      <td>cm staal fransebaan re kenmerk patientid betre...</td>\n",
       "      <td>1</td>\n",
       "      <td>['Topic 1']</td>\n",
       "      <td>['oraal stuk', 'tablet oraal', 'tablet oraal s...</td>\n",
       "      <td>Oral Medication</td>\n",
       "      <td>Klinische Brief | Oral Medication</td>\n",
       "      <td>Klinische Brief | Oral Medication</td>\n",
       "      <td>0</td>\n",
       "    </tr>\n",
       "    <tr>\n",
       "      <th>4</th>\n",
       "      <td>0A5645E02FA818D1629926B6BEFA81CF91C25A46</td>\n",
       "      <td>Klinische Brief</td>\n",
       "      <td>Aan de weledelgeleerde heer\\r\\ndrs. L.J.A.L. H...</td>\n",
       "      <td>2021-01-21 18:32:00</td>\n",
       "      <td>2021-01-21 18:32:00</td>\n",
       "      <td>weledelgeleer heer drs ljal hendrikx huisarts ...</td>\n",
       "      <td>['weledelgeleer', 'heer', 'drs', 'ljal', 'hend...</td>\n",
       "      <td>weledelgeleer heer drs ljal hendrikx groenstra...</td>\n",
       "      <td>0</td>\n",
       "      <td>['Topic 0']</td>\n",
       "      <td>['oraal stuk', 'tablet oraal', 'tablet oraal s...</td>\n",
       "      <td>Oral Meds &amp; Documentation</td>\n",
       "      <td>Klinische Brief | Oral Meds &amp; Documentation</td>\n",
       "      <td>Klinische Brief | Oral Meds &amp; Documentation</td>\n",
       "      <td>2</td>\n",
       "    </tr>\n",
       "    <tr>\n",
       "      <th>5</th>\n",
       "      <td>0A5645E02FA818D1629926B6BEFA81CF91C25A46</td>\n",
       "      <td>Klinische Brief</td>\n",
       "      <td>Aan de weledelgeleerde heer\\r\\ndrs. L.J.A.L. H...</td>\n",
       "      <td>2021-01-21 17:12:00</td>\n",
       "      <td>2021-01-21 17:12:00</td>\n",
       "      <td>weledelgeleer heer drs ljal hendrikx huisarts ...</td>\n",
       "      <td>['weledelgeleer', 'heer', 'drs', 'ljal', 'hend...</td>\n",
       "      <td>weledelgeleer heer drs ljal hendrikx groenstra...</td>\n",
       "      <td>1</td>\n",
       "      <td>['Topic 1']</td>\n",
       "      <td>['oraal stuk', 'tablet oraal', 'tablet oraal s...</td>\n",
       "      <td>Oral Medication</td>\n",
       "      <td>Klinische Brief | Oral Medication</td>\n",
       "      <td>Klinische Brief | Oral Medication</td>\n",
       "      <td>0</td>\n",
       "    </tr>\n",
       "    <tr>\n",
       "      <th>6</th>\n",
       "      <td>0A5645E02FA818D1629926B6BEFA81CF91C25A46</td>\n",
       "      <td>Klinische Brief</td>\n",
       "      <td>Aan de weledelgeleerde heer\\r\\ndrs. L.J.A.L. H...</td>\n",
       "      <td>2021-01-20 11:00:00</td>\n",
       "      <td>2021-01-20 11:00:00</td>\n",
       "      <td>weledelgeleer heer drs ljal hendrikx huisarts ...</td>\n",
       "      <td>['weledelgeleer', 'heer', 'drs', 'ljal', 'hend...</td>\n",
       "      <td>weledelgeleer heer drs ljal hendrikx groenstra...</td>\n",
       "      <td>1</td>\n",
       "      <td>['Topic 1']</td>\n",
       "      <td>['oraal stuk', 'tablet oraal', 'tablet oraal s...</td>\n",
       "      <td>Oral Medication</td>\n",
       "      <td>Klinische Brief | Oral Medication</td>\n",
       "      <td>Klinische Brief | Oral Medication</td>\n",
       "      <td>0</td>\n",
       "    </tr>\n",
       "  </tbody>\n",
       "</table>\n",
       "</div>"
      ],
      "text/plain": [
       "                                  pseudo_id verslagen_report_tags  \\\n",
       "0  046D1FFEBDD40E1665D0ABA6DD8FC9F8BC4351C6       Klinische Brief   \n",
       "3  088C9FD98B8B2CBCB597C17C07AC1845B21F0849       Klinische Brief   \n",
       "4  0A5645E02FA818D1629926B6BEFA81CF91C25A46       Klinische Brief   \n",
       "5  0A5645E02FA818D1629926B6BEFA81CF91C25A46       Klinische Brief   \n",
       "6  0A5645E02FA818D1629926B6BEFA81CF91C25A46       Klinische Brief   \n",
       "\n",
       "                            verslagen_report_content  \\\n",
       "0  Dhr. A.J. Dingemans, huisarts\\r\\n[STREETNAME] ...   \n",
       "3  Mw. C.M. Staal, huisarts\\r\\nFransebaan 586\\r\\n...   \n",
       "4  Aan de weledelgeleerde heer\\r\\ndrs. L.J.A.L. H...   \n",
       "5  Aan de weledelgeleerde heer\\r\\ndrs. L.J.A.L. H...   \n",
       "6  Aan de weledelgeleerde heer\\r\\ndrs. L.J.A.L. H...   \n",
       "\n",
       "  verslagen_report_start_date                 date  \\\n",
       "0         2020-11-26 15:06:00  2020-11-26 15:06:00   \n",
       "3         2017-11-13 18:22:00  2017-11-13 18:22:00   \n",
       "4         2021-01-21 18:32:00  2021-01-21 18:32:00   \n",
       "5         2021-01-21 17:12:00  2021-01-21 17:12:00   \n",
       "6         2021-01-20 11:00:00  2021-01-20 11:00:00   \n",
       "\n",
       "                                             alltext  \\\n",
       "0  dhr aj dingemans huisarts streetnaam city datu...   \n",
       "3  mw cm staal huisarts fransebaan re city datum ...   \n",
       "4  weledelgeleer heer drs ljal hendrikx huisarts ...   \n",
       "5  weledelgeleer heer drs ljal hendrikx huisarts ...   \n",
       "6  weledelgeleer heer drs ljal hendrikx huisarts ...   \n",
       "\n",
       "                                              tokens  \\\n",
       "0  ['aj', 'dingemans', 'streetnaam', 'Kenmerk', '...   \n",
       "3  ['cm', 'staal', 'fransebaan', 're', 'kenmerk',...   \n",
       "4  ['weledelgeleer', 'heer', 'drs', 'ljal', 'hend...   \n",
       "5  ['weledelgeleer', 'heer', 'drs', 'ljal', 'hend...   \n",
       "6  ['weledelgeleer', 'heer', 'drs', 'ljal', 'hend...   \n",
       "\n",
       "                                                text  Topic         Tags  \\\n",
       "0  aj dingemans streetnaam Kenmerk patientid betr...      1  ['Topic 1']   \n",
       "3  cm staal fransebaan re kenmerk patientid betre...      1  ['Topic 1']   \n",
       "4  weledelgeleer heer drs ljal hendrikx groenstra...      0  ['Topic 0']   \n",
       "5  weledelgeleer heer drs ljal hendrikx groenstra...      1  ['Topic 1']   \n",
       "6  weledelgeleer heer drs ljal hendrikx groenstra...      1  ['Topic 1']   \n",
       "\n",
       "                                            Keywords  \\\n",
       "0  ['oraal stuk', 'tablet oraal', 'tablet oraal s...   \n",
       "3  ['oraal stuk', 'tablet oraal', 'tablet oraal s...   \n",
       "4  ['oraal stuk', 'tablet oraal', 'tablet oraal s...   \n",
       "5  ['oraal stuk', 'tablet oraal', 'tablet oraal s...   \n",
       "6  ['oraal stuk', 'tablet oraal', 'tablet oraal s...   \n",
       "\n",
       "             new_topic_label        verslagen_report_tags_new_topic_label  \\\n",
       "0            Oral Medication            Klinische Brief | Oral Medication   \n",
       "3            Oral Medication            Klinische Brief | Oral Medication   \n",
       "4  Oral Meds & Documentation  Klinische Brief | Oral Meds & Documentation   \n",
       "5            Oral Medication            Klinische Brief | Oral Medication   \n",
       "6            Oral Medication            Klinische Brief | Oral Medication   \n",
       "\n",
       "                                     event_tag N_Topic  \n",
       "0            Klinische Brief | Oral Medication       0  \n",
       "3            Klinische Brief | Oral Medication       0  \n",
       "4  Klinische Brief | Oral Meds & Documentation       2  \n",
       "5            Klinische Brief | Oral Medication       0  \n",
       "6            Klinische Brief | Oral Medication       0  "
      ]
     },
     "execution_count": 20,
     "metadata": {},
     "output_type": "execute_result"
    }
   ],
   "source": [
    "df_filtered = df_verslagen[df_verslagen[\"new_topic_label\"] != \"Outlier\"]\n",
    "df_filtered.head()\n",
    "\n"
   ]
  },
  {
   "cell_type": "code",
   "execution_count": 21,
   "metadata": {},
   "outputs": [
    {
     "name": "stdout",
     "output_type": "stream",
     "text": [
      "                                  pseudo_id verslagen_report_tags  \\\n",
      "0  046D1FFEBDD40E1665D0ABA6DD8FC9F8BC4351C6          Consult, SEH   \n",
      "1  046D1FFEBDD40E1665D0ABA6DD8FC9F8BC4351C6          Consult, SEH   \n",
      "2  046D1FFEBDD40E1665D0ABA6DD8FC9F8BC4351C6          Consult, SEH   \n",
      "3  046D1FFEBDD40E1665D0ABA6DD8FC9F8BC4351C6          Consult, SEH   \n",
      "4  046D1FFEBDD40E1665D0ABA6DD8FC9F8BC4351C6          Consult, SEH   \n",
      "\n",
      "                            verslagen_report_content  \\\n",
      "0  Samenvatting: \\nVerpleegkundige verslaglegging...   \n",
      "1  Samenvatting: \\nvocht in vocht uit\\r\\n-Tijd: 1...   \n",
      "2  Samenvatting: \\nvocht in vocht uit\\r\\n-Tijd: 1...   \n",
      "3  Samenvatting: \\nMedisch Dossier\\r\\n[ Vk Sputov...   \n",
      "4  Samenvatting: \\nVerpleegkundige verslaglegging...   \n",
      "\n",
      "  verslagen_report_start_date                 date  \\\n",
      "0         2013-10-21 10:24:00  2013-10-21 10:24:00   \n",
      "1         2013-10-21 10:40:00  2013-10-21 10:40:00   \n",
      "2         2013-10-21 10:41:00  2013-10-21 10:41:00   \n",
      "3         2013-10-21 10:50:00  2013-10-21 10:50:00   \n",
      "4         2013-10-22 19:59:00  2013-10-22 19:59:00   \n",
      "\n",
      "                                             alltext  \\\n",
      "0  samenvatting verpleegkundig verslaglegging ver...   \n",
      "1  samenvatting vocht vocht tijd toediening soort...   \n",
      "2  samenvatting vocht vocht tijd toediening soort...   \n",
      "3  samenvatting medisch dossier vk sputovamo leef...   \n",
      "4  samenvatting verpleegkundig verslaglegging ver...   \n",
      "\n",
      "                                              tokens  \\\n",
      "0  ['verpleegkundig', 'verslaglegging', 'verantwo...   \n",
      "1  ['vocht', 'toediening', 'soort', 'infuus', 'Na...   \n",
      "2  ['vocht', 'toediening', 'soort', 'infuus', 'me...   \n",
      "3  ['medisch', 'dossier', 'vk', 'sputovamo', 'lee...   \n",
      "4  ['verpleegkundig', 'verslaglegging', 'verantwo...   \n",
      "\n",
      "                                                text  Topic          Tags  \\\n",
      "0  verpleegkundig verslaglegging verantwoordelijk...      0   ['Topic 0']   \n",
      "1                 vocht toediening soort infuus Nacl     -1  ['Topic -1']   \n",
      "2  vocht toediening soort infuus medicatie parace...      2   ['Topic 2']   \n",
      "3  medisch dossier vk sputovamo leeftijd registra...      0   ['Topic 0']   \n",
      "4  verpleegkundig verslaglegging verantwoordelijk...      0   ['Topic 0']   \n",
      "\n",
      "                                            Keywords  \\\n",
      "0  ['sputovamo leeftijd', 'medisch dossier', 'tri...   \n",
      "1                                                 []   \n",
      "2  ['beloop verpleegkundig', 'soort infuus medica...   \n",
      "3  ['sputovamo leeftijd', 'medisch dossier', 'tri...   \n",
      "4  ['sputovamo leeftijd', 'medisch dossier', 'tri...   \n",
      "\n",
      "               new_topic_label       verslagen_report_tags_new_topic_label  \\\n",
      "0               Patient Intake               Consult, SEH | Patient Intake   \n",
      "1                      Outlier                      Consult, SEH | Outlier   \n",
      "2  Infusion & Fluid Management  Consult, SEH | Infusion & Fluid Management   \n",
      "3               Patient Intake               Consult, SEH | Patient Intake   \n",
      "4               Patient Intake               Consult, SEH | Patient Intake   \n",
      "\n",
      "                                    event_tag N_Topic  \\\n",
      "0               Consult, SEH | Patient Intake      11   \n",
      "1                      Consult, SEH | Outlier       1   \n",
      "2  Consult, SEH | Infusion & Fluid Management      12   \n",
      "3               Consult, SEH | Patient Intake      11   \n",
      "4               Consult, SEH | Patient Intake      11   \n",
      "\n",
      "                          case:concept:name concept:name       time:timestamp  \\\n",
      "0  046D1FFEBDD40E1665D0ABA6DD8FC9F8BC4351C6           11  2013-10-21 10:24:00   \n",
      "1  046D1FFEBDD40E1665D0ABA6DD8FC9F8BC4351C6            1  2013-10-21 10:40:00   \n",
      "2  046D1FFEBDD40E1665D0ABA6DD8FC9F8BC4351C6           12  2013-10-21 10:41:00   \n",
      "3  046D1FFEBDD40E1665D0ABA6DD8FC9F8BC4351C6           11  2013-10-21 10:50:00   \n",
      "4  046D1FFEBDD40E1665D0ABA6DD8FC9F8BC4351C6           11  2013-10-22 19:59:00   \n",
      "\n",
      "   @@index  @@case_index  \n",
      "0        0             0  \n",
      "1        1             0  \n",
      "2        2             0  \n",
      "3        3             0  \n",
      "4        4             0  \n"
     ]
    },
    {
     "name": "stderr",
     "output_type": "stream",
     "text": [
      "c:\\Users\\Y.vanMegen\\AppData\\Local\\Programs\\Python\\Python311\\Lib\\site-packages\\pm4py\\utils.py:105: SettingWithCopyWarning: \n",
      "A value is trying to be set on a copy of a slice from a DataFrame.\n",
      "Try using .loc[row_indexer,col_indexer] = value instead\n",
      "\n",
      "See the caveats in the documentation: https://pandas.pydata.org/pandas-docs/stable/user_guide/indexing.html#returning-a-view-versus-a-copy\n",
      "  df[constants.CASE_CONCEPT_NAME] = df[case_id]\n",
      "c:\\Users\\Y.vanMegen\\AppData\\Local\\Programs\\Python\\Python311\\Lib\\site-packages\\pm4py\\utils.py:109: SettingWithCopyWarning: \n",
      "A value is trying to be set on a copy of a slice from a DataFrame.\n",
      "Try using .loc[row_indexer,col_indexer] = value instead\n",
      "\n",
      "See the caveats in the documentation: https://pandas.pydata.org/pandas-docs/stable/user_guide/indexing.html#returning-a-view-versus-a-copy\n",
      "  df[xes_constants.DEFAULT_NAME_KEY] = df[activity_key]\n",
      "c:\\Users\\Y.vanMegen\\AppData\\Local\\Programs\\Python\\Python311\\Lib\\site-packages\\pm4py\\utils.py:113: SettingWithCopyWarning: \n",
      "A value is trying to be set on a copy of a slice from a DataFrame.\n",
      "Try using .loc[row_indexer,col_indexer] = value instead\n",
      "\n",
      "See the caveats in the documentation: https://pandas.pydata.org/pandas-docs/stable/user_guide/indexing.html#returning-a-view-versus-a-copy\n",
      "  df[xes_constants.DEFAULT_TIMESTAMP_KEY] = df[timestamp_key]\n"
     ]
    },
    {
     "data": {
      "text/html": [
       "<div>\n",
       "<style scoped>\n",
       "    .dataframe tbody tr th:only-of-type {\n",
       "        vertical-align: middle;\n",
       "    }\n",
       "\n",
       "    .dataframe tbody tr th {\n",
       "        vertical-align: top;\n",
       "    }\n",
       "\n",
       "    .dataframe thead th {\n",
       "        text-align: right;\n",
       "    }\n",
       "</style>\n",
       "<table border=\"1\" class=\"dataframe\">\n",
       "  <thead>\n",
       "    <tr style=\"text-align: right;\">\n",
       "      <th></th>\n",
       "      <th>pseudo_id</th>\n",
       "      <th>verslagen_report_tags</th>\n",
       "      <th>verslagen_report_content</th>\n",
       "      <th>verslagen_report_start_date</th>\n",
       "      <th>date</th>\n",
       "      <th>alltext</th>\n",
       "      <th>tokens</th>\n",
       "      <th>text</th>\n",
       "      <th>Topic</th>\n",
       "      <th>Tags</th>\n",
       "      <th>Keywords</th>\n",
       "      <th>new_topic_label</th>\n",
       "      <th>verslagen_report_tags_new_topic_label</th>\n",
       "      <th>event_tag</th>\n",
       "      <th>N_Topic</th>\n",
       "      <th>case:concept:name</th>\n",
       "      <th>concept:name</th>\n",
       "      <th>time:timestamp</th>\n",
       "      <th>@@index</th>\n",
       "      <th>@@case_index</th>\n",
       "    </tr>\n",
       "  </thead>\n",
       "  <tbody>\n",
       "    <tr>\n",
       "      <th>0</th>\n",
       "      <td>046D1FFEBDD40E1665D0ABA6DD8FC9F8BC4351C6</td>\n",
       "      <td>Consult, SEH</td>\n",
       "      <td>Samenvatting: \\nVerpleegkundige verslaglegging...</td>\n",
       "      <td>2013-10-21 10:24:00</td>\n",
       "      <td>2013-10-21 10:24:00</td>\n",
       "      <td>samenvatting verpleegkundig verslaglegging ver...</td>\n",
       "      <td>['verpleegkundig', 'verslaglegging', 'verantwo...</td>\n",
       "      <td>verpleegkundig verslaglegging verantwoordelijk...</td>\n",
       "      <td>0</td>\n",
       "      <td>['Topic 0']</td>\n",
       "      <td>['sputovamo leeftijd', 'medisch dossier', 'tri...</td>\n",
       "      <td>Patient Intake</td>\n",
       "      <td>Consult, SEH | Patient Intake</td>\n",
       "      <td>Consult, SEH | Patient Intake</td>\n",
       "      <td>11</td>\n",
       "      <td>046D1FFEBDD40E1665D0ABA6DD8FC9F8BC4351C6</td>\n",
       "      <td>11</td>\n",
       "      <td>2013-10-21 10:24:00</td>\n",
       "      <td>0</td>\n",
       "      <td>0</td>\n",
       "    </tr>\n",
       "    <tr>\n",
       "      <th>1</th>\n",
       "      <td>046D1FFEBDD40E1665D0ABA6DD8FC9F8BC4351C6</td>\n",
       "      <td>Consult, SEH</td>\n",
       "      <td>Samenvatting: \\nvocht in vocht uit\\r\\n-Tijd: 1...</td>\n",
       "      <td>2013-10-21 10:40:00</td>\n",
       "      <td>2013-10-21 10:40:00</td>\n",
       "      <td>samenvatting vocht vocht tijd toediening soort...</td>\n",
       "      <td>['vocht', 'toediening', 'soort', 'infuus', 'Na...</td>\n",
       "      <td>vocht toediening soort infuus Nacl</td>\n",
       "      <td>-1</td>\n",
       "      <td>['Topic -1']</td>\n",
       "      <td>[]</td>\n",
       "      <td>Outlier</td>\n",
       "      <td>Consult, SEH | Outlier</td>\n",
       "      <td>Consult, SEH | Outlier</td>\n",
       "      <td>1</td>\n",
       "      <td>046D1FFEBDD40E1665D0ABA6DD8FC9F8BC4351C6</td>\n",
       "      <td>1</td>\n",
       "      <td>2013-10-21 10:40:00</td>\n",
       "      <td>1</td>\n",
       "      <td>0</td>\n",
       "    </tr>\n",
       "    <tr>\n",
       "      <th>2</th>\n",
       "      <td>046D1FFEBDD40E1665D0ABA6DD8FC9F8BC4351C6</td>\n",
       "      <td>Consult, SEH</td>\n",
       "      <td>Samenvatting: \\nvocht in vocht uit\\r\\n-Tijd: 1...</td>\n",
       "      <td>2013-10-21 10:41:00</td>\n",
       "      <td>2013-10-21 10:41:00</td>\n",
       "      <td>samenvatting vocht vocht tijd toediening soort...</td>\n",
       "      <td>['vocht', 'toediening', 'soort', 'infuus', 'me...</td>\n",
       "      <td>vocht toediening soort infuus medicatie parace...</td>\n",
       "      <td>2</td>\n",
       "      <td>['Topic 2']</td>\n",
       "      <td>['beloop verpleegkundig', 'soort infuus medica...</td>\n",
       "      <td>Infusion &amp; Fluid Management</td>\n",
       "      <td>Consult, SEH | Infusion &amp; Fluid Management</td>\n",
       "      <td>Consult, SEH | Infusion &amp; Fluid Management</td>\n",
       "      <td>12</td>\n",
       "      <td>046D1FFEBDD40E1665D0ABA6DD8FC9F8BC4351C6</td>\n",
       "      <td>12</td>\n",
       "      <td>2013-10-21 10:41:00</td>\n",
       "      <td>2</td>\n",
       "      <td>0</td>\n",
       "    </tr>\n",
       "    <tr>\n",
       "      <th>3</th>\n",
       "      <td>046D1FFEBDD40E1665D0ABA6DD8FC9F8BC4351C6</td>\n",
       "      <td>Consult, SEH</td>\n",
       "      <td>Samenvatting: \\nMedisch Dossier\\r\\n[ Vk Sputov...</td>\n",
       "      <td>2013-10-21 10:50:00</td>\n",
       "      <td>2013-10-21 10:50:00</td>\n",
       "      <td>samenvatting medisch dossier vk sputovamo leef...</td>\n",
       "      <td>['medisch', 'dossier', 'vk', 'sputovamo', 'lee...</td>\n",
       "      <td>medisch dossier vk sputovamo leeftijd registra...</td>\n",
       "      <td>0</td>\n",
       "      <td>['Topic 0']</td>\n",
       "      <td>['sputovamo leeftijd', 'medisch dossier', 'tri...</td>\n",
       "      <td>Patient Intake</td>\n",
       "      <td>Consult, SEH | Patient Intake</td>\n",
       "      <td>Consult, SEH | Patient Intake</td>\n",
       "      <td>11</td>\n",
       "      <td>046D1FFEBDD40E1665D0ABA6DD8FC9F8BC4351C6</td>\n",
       "      <td>11</td>\n",
       "      <td>2013-10-21 10:50:00</td>\n",
       "      <td>3</td>\n",
       "      <td>0</td>\n",
       "    </tr>\n",
       "    <tr>\n",
       "      <th>4</th>\n",
       "      <td>046D1FFEBDD40E1665D0ABA6DD8FC9F8BC4351C6</td>\n",
       "      <td>Consult, SEH</td>\n",
       "      <td>Samenvatting: \\nVerpleegkundige verslaglegging...</td>\n",
       "      <td>2013-10-22 19:59:00</td>\n",
       "      <td>2013-10-22 19:59:00</td>\n",
       "      <td>samenvatting verpleegkundig verslaglegging ver...</td>\n",
       "      <td>['verpleegkundig', 'verslaglegging', 'verantwo...</td>\n",
       "      <td>verpleegkundig verslaglegging verantwoordelijk...</td>\n",
       "      <td>0</td>\n",
       "      <td>['Topic 0']</td>\n",
       "      <td>['sputovamo leeftijd', 'medisch dossier', 'tri...</td>\n",
       "      <td>Patient Intake</td>\n",
       "      <td>Consult, SEH | Patient Intake</td>\n",
       "      <td>Consult, SEH | Patient Intake</td>\n",
       "      <td>11</td>\n",
       "      <td>046D1FFEBDD40E1665D0ABA6DD8FC9F8BC4351C6</td>\n",
       "      <td>11</td>\n",
       "      <td>2013-10-22 19:59:00</td>\n",
       "      <td>4</td>\n",
       "      <td>0</td>\n",
       "    </tr>\n",
       "  </tbody>\n",
       "</table>\n",
       "</div>"
      ],
      "text/plain": [
       "                                  pseudo_id verslagen_report_tags  \\\n",
       "0  046D1FFEBDD40E1665D0ABA6DD8FC9F8BC4351C6          Consult, SEH   \n",
       "1  046D1FFEBDD40E1665D0ABA6DD8FC9F8BC4351C6          Consult, SEH   \n",
       "2  046D1FFEBDD40E1665D0ABA6DD8FC9F8BC4351C6          Consult, SEH   \n",
       "3  046D1FFEBDD40E1665D0ABA6DD8FC9F8BC4351C6          Consult, SEH   \n",
       "4  046D1FFEBDD40E1665D0ABA6DD8FC9F8BC4351C6          Consult, SEH   \n",
       "\n",
       "                            verslagen_report_content  \\\n",
       "0  Samenvatting: \\nVerpleegkundige verslaglegging...   \n",
       "1  Samenvatting: \\nvocht in vocht uit\\r\\n-Tijd: 1...   \n",
       "2  Samenvatting: \\nvocht in vocht uit\\r\\n-Tijd: 1...   \n",
       "3  Samenvatting: \\nMedisch Dossier\\r\\n[ Vk Sputov...   \n",
       "4  Samenvatting: \\nVerpleegkundige verslaglegging...   \n",
       "\n",
       "  verslagen_report_start_date                 date  \\\n",
       "0         2013-10-21 10:24:00  2013-10-21 10:24:00   \n",
       "1         2013-10-21 10:40:00  2013-10-21 10:40:00   \n",
       "2         2013-10-21 10:41:00  2013-10-21 10:41:00   \n",
       "3         2013-10-21 10:50:00  2013-10-21 10:50:00   \n",
       "4         2013-10-22 19:59:00  2013-10-22 19:59:00   \n",
       "\n",
       "                                             alltext  \\\n",
       "0  samenvatting verpleegkundig verslaglegging ver...   \n",
       "1  samenvatting vocht vocht tijd toediening soort...   \n",
       "2  samenvatting vocht vocht tijd toediening soort...   \n",
       "3  samenvatting medisch dossier vk sputovamo leef...   \n",
       "4  samenvatting verpleegkundig verslaglegging ver...   \n",
       "\n",
       "                                              tokens  \\\n",
       "0  ['verpleegkundig', 'verslaglegging', 'verantwo...   \n",
       "1  ['vocht', 'toediening', 'soort', 'infuus', 'Na...   \n",
       "2  ['vocht', 'toediening', 'soort', 'infuus', 'me...   \n",
       "3  ['medisch', 'dossier', 'vk', 'sputovamo', 'lee...   \n",
       "4  ['verpleegkundig', 'verslaglegging', 'verantwo...   \n",
       "\n",
       "                                                text  Topic          Tags  \\\n",
       "0  verpleegkundig verslaglegging verantwoordelijk...      0   ['Topic 0']   \n",
       "1                 vocht toediening soort infuus Nacl     -1  ['Topic -1']   \n",
       "2  vocht toediening soort infuus medicatie parace...      2   ['Topic 2']   \n",
       "3  medisch dossier vk sputovamo leeftijd registra...      0   ['Topic 0']   \n",
       "4  verpleegkundig verslaglegging verantwoordelijk...      0   ['Topic 0']   \n",
       "\n",
       "                                            Keywords  \\\n",
       "0  ['sputovamo leeftijd', 'medisch dossier', 'tri...   \n",
       "1                                                 []   \n",
       "2  ['beloop verpleegkundig', 'soort infuus medica...   \n",
       "3  ['sputovamo leeftijd', 'medisch dossier', 'tri...   \n",
       "4  ['sputovamo leeftijd', 'medisch dossier', 'tri...   \n",
       "\n",
       "               new_topic_label       verslagen_report_tags_new_topic_label  \\\n",
       "0               Patient Intake               Consult, SEH | Patient Intake   \n",
       "1                      Outlier                      Consult, SEH | Outlier   \n",
       "2  Infusion & Fluid Management  Consult, SEH | Infusion & Fluid Management   \n",
       "3               Patient Intake               Consult, SEH | Patient Intake   \n",
       "4               Patient Intake               Consult, SEH | Patient Intake   \n",
       "\n",
       "                                    event_tag N_Topic  \\\n",
       "0               Consult, SEH | Patient Intake      11   \n",
       "1                      Consult, SEH | Outlier       1   \n",
       "2  Consult, SEH | Infusion & Fluid Management      12   \n",
       "3               Consult, SEH | Patient Intake      11   \n",
       "4               Consult, SEH | Patient Intake      11   \n",
       "\n",
       "                          case:concept:name concept:name       time:timestamp  \\\n",
       "0  046D1FFEBDD40E1665D0ABA6DD8FC9F8BC4351C6           11  2013-10-21 10:24:00   \n",
       "1  046D1FFEBDD40E1665D0ABA6DD8FC9F8BC4351C6            1  2013-10-21 10:40:00   \n",
       "2  046D1FFEBDD40E1665D0ABA6DD8FC9F8BC4351C6           12  2013-10-21 10:41:00   \n",
       "3  046D1FFEBDD40E1665D0ABA6DD8FC9F8BC4351C6           11  2013-10-21 10:50:00   \n",
       "4  046D1FFEBDD40E1665D0ABA6DD8FC9F8BC4351C6           11  2013-10-22 19:59:00   \n",
       "\n",
       "   @@index  @@case_index  \n",
       "0        0             0  \n",
       "1        1             0  \n",
       "2        2             0  \n",
       "3        3             0  \n",
       "4        4             0  "
      ]
     },
     "execution_count": 21,
     "metadata": {},
     "output_type": "execute_result"
    }
   ],
   "source": [
    "# Convert DataFrame to PM4Py event log\n",
    "\n",
    "activity_key = 'event_tag'\n",
    "activity_key = 'N_Topic'\n",
    "\n",
    "# event_log = pm4py.format_dataframe(df_verslagen, case_id='pseudo_id', activity_key='event_tag', timestamp_key='verslagen_report_start_date')\n",
    "event_log = pm4py.format_dataframe(df_verslagen, case_id='pseudo_id', activity_key=activity_key, timestamp_key='verslagen_report_start_date')\n",
    "event_log_filtered = pm4py.format_dataframe(df_filtered, case_id='pseudo_id', activity_key=activity_key, timestamp_key='verslagen_report_start_date')\n",
    "\n",
    "print(event_log.head())  # Verify format\n",
    "event_log.head()"
   ]
  },
  {
   "cell_type": "code",
   "execution_count": 22,
   "metadata": {},
   "outputs": [
    {
     "name": "stdout",
     "output_type": "stream",
     "text": [
      "                                              Sequence  Count\n",
      "0    11->1->12->11->11->11->1->1->25->1->23->13->13...      1\n",
      "53   12->11->11->23->13->20->20->11->11->18->3->1->...      1\n",
      "77   11->11->11->11->1->23->20->10->8->0->1->2->20-...      1\n",
      "76   1->26->13->16->20->23->1->28->1->10->8->8->3->...      1\n",
      "75   11->11->11->11->23->13->13->20->11->11->11->3-...      1\n",
      "..                                                 ...    ...\n",
      "32   11->11->11->5->3->3->1->1->26->11->11->1->3->3...      1\n",
      "31   12->11->11->11->11->18->3->13->13->1->13->3->1...      1\n",
      "30     25->10->1->15->3->7->3->3->3->3->6->0->3->20->6      1\n",
      "29   20->25->10->8->3->23->1->6->6->1->6->1->1->1->...      1\n",
      "104  11->11->1->3->13->11->11->18->3->13->3->13->3-...      1\n",
      "\n",
      "[105 rows x 2 columns]\n"
     ]
    }
   ],
   "source": [
    "# Step 1: Sort by Patient_ID and Timestamp\n",
    "df_verslagen = df_verslagen.sort_values(by=['pseudo_id', 'verslagen_report_start_date'])\n",
    "\n",
    "# Step 2: Create a list of sequences for each patient\n",
    "patient_sequences = df_verslagen.groupby('pseudo_id')[activity_key].apply(lambda x: '->'.join(x))\n",
    "\n",
    "# Step 3: Count the occurrences of each unique sequence\n",
    "sequence_counts = Counter(patient_sequences)\n",
    "\n",
    "# Step 4: Convert to DataFrame for better visualization\n",
    "sequence_df = pd.DataFrame(sequence_counts.items(), columns=['Sequence', 'Count'])\n",
    "\n",
    "# Step 5: Sort by most frequent sequences\n",
    "sequence_df = sequence_df.sort_values(by='Count', ascending=False)\n",
    "\n",
    "print(sequence_df)"
   ]
  },
  {
   "cell_type": "code",
   "execution_count": 23,
   "metadata": {},
   "outputs": [
    {
     "name": "stdout",
     "output_type": "stream",
     "text": [
      "                                              Sequence  Count\n",
      "0    11->12->11->11->11->25->23->13->13->20->11->11...      1\n",
      "53   12->11->11->23->13->20->20->11->11->18->3->3->...      1\n",
      "77   11->11->11->11->23->20->10->8->0->2->20->20->2...      1\n",
      "76   26->13->16->20->23->28->10->8->8->3->3->3->3->...      1\n",
      "75   11->11->11->11->23->13->13->20->11->11->11->3-...      1\n",
      "..                                                 ...    ...\n",
      "32   11->11->11->5->3->3->26->11->11->3->3->13->15-...      1\n",
      "31   12->11->11->11->11->18->3->13->13->13->3->13->...      1\n",
      "30        25->10->15->3->7->3->3->3->3->6->0->3->20->6      1\n",
      "29   20->25->10->8->3->23->6->6->6->6->20->3->20->2...      1\n",
      "104  11->11->3->13->11->11->18->3->13->3->13->3->13...      1\n",
      "\n",
      "[105 rows x 2 columns]\n"
     ]
    }
   ],
   "source": [
    "# Step 1: Sort by Patient_ID and Timestamp\n",
    "df_filtered = df_filtered.sort_values(by=['pseudo_id', 'verslagen_report_start_date'])\n",
    "\n",
    "# Step 2: Create a list of sequences for each patient\n",
    "patient_sequences = df_filtered.groupby('pseudo_id')[activity_key].apply(lambda x: '->'.join(x))\n",
    "\n",
    "# Step 3: Count the occurrences of each unique sequence\n",
    "sequence_counts = Counter(patient_sequences)\n",
    "\n",
    "# Step 4: Convert to DataFrame for better visualization\n",
    "sequence_df_filtered = pd.DataFrame(sequence_counts.items(), columns=['Sequence', 'Count'])\n",
    "\n",
    "# Step 5: Sort by most frequent sequences\n",
    "sequence_df_filtered = sequence_df_filtered.sort_values(by='Count', ascending=False)\n",
    "\n",
    "print(sequence_df_filtered)"
   ]
  },
  {
   "cell_type": "code",
   "execution_count": 24,
   "metadata": {},
   "outputs": [
    {
     "name": "stdout",
     "output_type": "stream",
     "text": [
      "Counter({'Outlier': 2139, 'GI Bleed Assessment': 1290, 'Consultation Workflow': 1024, 'Surgical Prophylaxis': 655, 'Patient Intake': 538, 'Oral Meds & Correspondence': 398, 'Diabetes Medication': 383, 'Follow-up Planning': 339, 'Intake & Initial Assessment': 322, 'Iron Deficiency Workup': 322, 'Iron Deficiency & CKD': 249, 'Diabetes Lifestyle Planning': 188, 'Oral Medication': 180, 'GI Emergency': 167, 'Remicade Administration': 131, 'Lab Requests': 117, 'Note Types': 114, 'Podiatry Follow-up': 103, 'Infusion & Fluid Management': 95, 'Initial Triage': 88, 'Admission Assessment': 85, 'Diabetes & Specialist Communication': 83, 'Cancer Progression (CLL/Breast)': 79, 'Gastroscopy Request': 70, 'Oral Meds & Documentation': 67, 'Internal Medicine Admission': 54, 'Allergy & Capsule Diagnostics': 47, 'Lab Documentation': 33, 'Hematologic Disorders': 21, 'Anemia & GI Bleed': 16, 'Osteoporosis Intake': 8, 'GI Bleed (Jejunum)': 7})\n"
     ]
    }
   ],
   "source": [
    "# Flatten all steps into a single list\n",
    "all_steps = list(chain(*df_verslagen.groupby('pseudo_id')['new_topic_label'].apply(list)))\n",
    "\n",
    "# Count step frequency\n",
    "step_counts = Counter(all_steps)\n",
    "print(step_counts)"
   ]
  },
  {
   "cell_type": "code",
   "execution_count": 25,
   "metadata": {},
   "outputs": [
    {
     "name": "stdout",
     "output_type": "stream",
     "text": [
      "                                  pseudo_id verslagen_report_tags  \\\n",
      "0  046D1FFEBDD40E1665D0ABA6DD8FC9F8BC4351C6          Consult, SEH   \n",
      "1  046D1FFEBDD40E1665D0ABA6DD8FC9F8BC4351C6          Consult, SEH   \n",
      "2  046D1FFEBDD40E1665D0ABA6DD8FC9F8BC4351C6          Consult, SEH   \n",
      "3  046D1FFEBDD40E1665D0ABA6DD8FC9F8BC4351C6          Consult, SEH   \n",
      "4  046D1FFEBDD40E1665D0ABA6DD8FC9F8BC4351C6          Consult, SEH   \n",
      "\n",
      "                            verslagen_report_content  \\\n",
      "0  Samenvatting: \\nVerpleegkundige verslaglegging...   \n",
      "1  Samenvatting: \\nvocht in vocht uit\\r\\n-Tijd: 1...   \n",
      "2  Samenvatting: \\nvocht in vocht uit\\r\\n-Tijd: 1...   \n",
      "3  Samenvatting: \\nMedisch Dossier\\r\\n[ Vk Sputov...   \n",
      "4  Samenvatting: \\nVerpleegkundige verslaglegging...   \n",
      "\n",
      "  verslagen_report_start_date                 date  \\\n",
      "0         2013-10-21 10:24:00  2013-10-21 10:24:00   \n",
      "1         2013-10-21 10:40:00  2013-10-21 10:40:00   \n",
      "2         2013-10-21 10:41:00  2013-10-21 10:41:00   \n",
      "3         2013-10-21 10:50:00  2013-10-21 10:50:00   \n",
      "4         2013-10-22 19:59:00  2013-10-22 19:59:00   \n",
      "\n",
      "                                             alltext  \\\n",
      "0  samenvatting verpleegkundig verslaglegging ver...   \n",
      "1  samenvatting vocht vocht tijd toediening soort...   \n",
      "2  samenvatting vocht vocht tijd toediening soort...   \n",
      "3  samenvatting medisch dossier vk sputovamo leef...   \n",
      "4  samenvatting verpleegkundig verslaglegging ver...   \n",
      "\n",
      "                                              tokens  \\\n",
      "0  ['verpleegkundig', 'verslaglegging', 'verantwo...   \n",
      "1  ['vocht', 'toediening', 'soort', 'infuus', 'Na...   \n",
      "2  ['vocht', 'toediening', 'soort', 'infuus', 'me...   \n",
      "3  ['medisch', 'dossier', 'vk', 'sputovamo', 'lee...   \n",
      "4  ['verpleegkundig', 'verslaglegging', 'verantwo...   \n",
      "\n",
      "                                                text  Topic          Tags  \\\n",
      "0  verpleegkundig verslaglegging verantwoordelijk...      0   ['Topic 0']   \n",
      "1                 vocht toediening soort infuus Nacl     -1  ['Topic -1']   \n",
      "2  vocht toediening soort infuus medicatie parace...      2   ['Topic 2']   \n",
      "3  medisch dossier vk sputovamo leeftijd registra...      0   ['Topic 0']   \n",
      "4  verpleegkundig verslaglegging verantwoordelijk...      0   ['Topic 0']   \n",
      "\n",
      "                                            Keywords  \\\n",
      "0  ['sputovamo leeftijd', 'medisch dossier', 'tri...   \n",
      "1                                                 []   \n",
      "2  ['beloop verpleegkundig', 'soort infuus medica...   \n",
      "3  ['sputovamo leeftijd', 'medisch dossier', 'tri...   \n",
      "4  ['sputovamo leeftijd', 'medisch dossier', 'tri...   \n",
      "\n",
      "               new_topic_label       verslagen_report_tags_new_topic_label  \\\n",
      "0               Patient Intake               Consult, SEH | Patient Intake   \n",
      "1                      Outlier                      Consult, SEH | Outlier   \n",
      "2  Infusion & Fluid Management  Consult, SEH | Infusion & Fluid Management   \n",
      "3               Patient Intake               Consult, SEH | Patient Intake   \n",
      "4               Patient Intake               Consult, SEH | Patient Intake   \n",
      "\n",
      "                                    event_tag N_Topic  \\\n",
      "0               Consult, SEH | Patient Intake      11   \n",
      "1                      Consult, SEH | Outlier       1   \n",
      "2  Consult, SEH | Infusion & Fluid Management      12   \n",
      "3               Consult, SEH | Patient Intake      11   \n",
      "4               Consult, SEH | Patient Intake      11   \n",
      "\n",
      "                          case:concept:name concept:name       time:timestamp  \\\n",
      "0  046D1FFEBDD40E1665D0ABA6DD8FC9F8BC4351C6           11  2013-10-21 10:24:00   \n",
      "1  046D1FFEBDD40E1665D0ABA6DD8FC9F8BC4351C6            1  2013-10-21 10:40:00   \n",
      "2  046D1FFEBDD40E1665D0ABA6DD8FC9F8BC4351C6           12  2013-10-21 10:41:00   \n",
      "3  046D1FFEBDD40E1665D0ABA6DD8FC9F8BC4351C6           11  2013-10-21 10:50:00   \n",
      "4  046D1FFEBDD40E1665D0ABA6DD8FC9F8BC4351C6           11  2013-10-22 19:59:00   \n",
      "\n",
      "   @@index  @@case_index  \n",
      "0        0             0  \n",
      "1        1             0  \n",
      "2        2             0  \n",
      "3        3             0  \n",
      "4        4             0  \n"
     ]
    },
    {
     "data": {
      "text/html": [
       "<div>\n",
       "<style scoped>\n",
       "    .dataframe tbody tr th:only-of-type {\n",
       "        vertical-align: middle;\n",
       "    }\n",
       "\n",
       "    .dataframe tbody tr th {\n",
       "        vertical-align: top;\n",
       "    }\n",
       "\n",
       "    .dataframe thead th {\n",
       "        text-align: right;\n",
       "    }\n",
       "</style>\n",
       "<table border=\"1\" class=\"dataframe\">\n",
       "  <thead>\n",
       "    <tr style=\"text-align: right;\">\n",
       "      <th></th>\n",
       "      <th>pseudo_id</th>\n",
       "      <th>verslagen_report_tags</th>\n",
       "      <th>verslagen_report_content</th>\n",
       "      <th>verslagen_report_start_date</th>\n",
       "      <th>date</th>\n",
       "      <th>alltext</th>\n",
       "      <th>tokens</th>\n",
       "      <th>text</th>\n",
       "      <th>Topic</th>\n",
       "      <th>Tags</th>\n",
       "      <th>Keywords</th>\n",
       "      <th>new_topic_label</th>\n",
       "      <th>verslagen_report_tags_new_topic_label</th>\n",
       "      <th>event_tag</th>\n",
       "      <th>N_Topic</th>\n",
       "      <th>case:concept:name</th>\n",
       "      <th>concept:name</th>\n",
       "      <th>time:timestamp</th>\n",
       "      <th>@@index</th>\n",
       "      <th>@@case_index</th>\n",
       "    </tr>\n",
       "  </thead>\n",
       "  <tbody>\n",
       "    <tr>\n",
       "      <th>0</th>\n",
       "      <td>046D1FFEBDD40E1665D0ABA6DD8FC9F8BC4351C6</td>\n",
       "      <td>Consult, SEH</td>\n",
       "      <td>Samenvatting: \\nVerpleegkundige verslaglegging...</td>\n",
       "      <td>2013-10-21 10:24:00</td>\n",
       "      <td>2013-10-21 10:24:00</td>\n",
       "      <td>samenvatting verpleegkundig verslaglegging ver...</td>\n",
       "      <td>['verpleegkundig', 'verslaglegging', 'verantwo...</td>\n",
       "      <td>verpleegkundig verslaglegging verantwoordelijk...</td>\n",
       "      <td>0</td>\n",
       "      <td>['Topic 0']</td>\n",
       "      <td>['sputovamo leeftijd', 'medisch dossier', 'tri...</td>\n",
       "      <td>Patient Intake</td>\n",
       "      <td>Consult, SEH | Patient Intake</td>\n",
       "      <td>Consult, SEH | Patient Intake</td>\n",
       "      <td>11</td>\n",
       "      <td>046D1FFEBDD40E1665D0ABA6DD8FC9F8BC4351C6</td>\n",
       "      <td>11</td>\n",
       "      <td>2013-10-21 10:24:00</td>\n",
       "      <td>0</td>\n",
       "      <td>0</td>\n",
       "    </tr>\n",
       "    <tr>\n",
       "      <th>1</th>\n",
       "      <td>046D1FFEBDD40E1665D0ABA6DD8FC9F8BC4351C6</td>\n",
       "      <td>Consult, SEH</td>\n",
       "      <td>Samenvatting: \\nvocht in vocht uit\\r\\n-Tijd: 1...</td>\n",
       "      <td>2013-10-21 10:40:00</td>\n",
       "      <td>2013-10-21 10:40:00</td>\n",
       "      <td>samenvatting vocht vocht tijd toediening soort...</td>\n",
       "      <td>['vocht', 'toediening', 'soort', 'infuus', 'Na...</td>\n",
       "      <td>vocht toediening soort infuus Nacl</td>\n",
       "      <td>-1</td>\n",
       "      <td>['Topic -1']</td>\n",
       "      <td>[]</td>\n",
       "      <td>Outlier</td>\n",
       "      <td>Consult, SEH | Outlier</td>\n",
       "      <td>Consult, SEH | Outlier</td>\n",
       "      <td>1</td>\n",
       "      <td>046D1FFEBDD40E1665D0ABA6DD8FC9F8BC4351C6</td>\n",
       "      <td>1</td>\n",
       "      <td>2013-10-21 10:40:00</td>\n",
       "      <td>1</td>\n",
       "      <td>0</td>\n",
       "    </tr>\n",
       "    <tr>\n",
       "      <th>2</th>\n",
       "      <td>046D1FFEBDD40E1665D0ABA6DD8FC9F8BC4351C6</td>\n",
       "      <td>Consult, SEH</td>\n",
       "      <td>Samenvatting: \\nvocht in vocht uit\\r\\n-Tijd: 1...</td>\n",
       "      <td>2013-10-21 10:41:00</td>\n",
       "      <td>2013-10-21 10:41:00</td>\n",
       "      <td>samenvatting vocht vocht tijd toediening soort...</td>\n",
       "      <td>['vocht', 'toediening', 'soort', 'infuus', 'me...</td>\n",
       "      <td>vocht toediening soort infuus medicatie parace...</td>\n",
       "      <td>2</td>\n",
       "      <td>['Topic 2']</td>\n",
       "      <td>['beloop verpleegkundig', 'soort infuus medica...</td>\n",
       "      <td>Infusion &amp; Fluid Management</td>\n",
       "      <td>Consult, SEH | Infusion &amp; Fluid Management</td>\n",
       "      <td>Consult, SEH | Infusion &amp; Fluid Management</td>\n",
       "      <td>12</td>\n",
       "      <td>046D1FFEBDD40E1665D0ABA6DD8FC9F8BC4351C6</td>\n",
       "      <td>12</td>\n",
       "      <td>2013-10-21 10:41:00</td>\n",
       "      <td>2</td>\n",
       "      <td>0</td>\n",
       "    </tr>\n",
       "    <tr>\n",
       "      <th>3</th>\n",
       "      <td>046D1FFEBDD40E1665D0ABA6DD8FC9F8BC4351C6</td>\n",
       "      <td>Consult, SEH</td>\n",
       "      <td>Samenvatting: \\nMedisch Dossier\\r\\n[ Vk Sputov...</td>\n",
       "      <td>2013-10-21 10:50:00</td>\n",
       "      <td>2013-10-21 10:50:00</td>\n",
       "      <td>samenvatting medisch dossier vk sputovamo leef...</td>\n",
       "      <td>['medisch', 'dossier', 'vk', 'sputovamo', 'lee...</td>\n",
       "      <td>medisch dossier vk sputovamo leeftijd registra...</td>\n",
       "      <td>0</td>\n",
       "      <td>['Topic 0']</td>\n",
       "      <td>['sputovamo leeftijd', 'medisch dossier', 'tri...</td>\n",
       "      <td>Patient Intake</td>\n",
       "      <td>Consult, SEH | Patient Intake</td>\n",
       "      <td>Consult, SEH | Patient Intake</td>\n",
       "      <td>11</td>\n",
       "      <td>046D1FFEBDD40E1665D0ABA6DD8FC9F8BC4351C6</td>\n",
       "      <td>11</td>\n",
       "      <td>2013-10-21 10:50:00</td>\n",
       "      <td>3</td>\n",
       "      <td>0</td>\n",
       "    </tr>\n",
       "    <tr>\n",
       "      <th>4</th>\n",
       "      <td>046D1FFEBDD40E1665D0ABA6DD8FC9F8BC4351C6</td>\n",
       "      <td>Consult, SEH</td>\n",
       "      <td>Samenvatting: \\nVerpleegkundige verslaglegging...</td>\n",
       "      <td>2013-10-22 19:59:00</td>\n",
       "      <td>2013-10-22 19:59:00</td>\n",
       "      <td>samenvatting verpleegkundig verslaglegging ver...</td>\n",
       "      <td>['verpleegkundig', 'verslaglegging', 'verantwo...</td>\n",
       "      <td>verpleegkundig verslaglegging verantwoordelijk...</td>\n",
       "      <td>0</td>\n",
       "      <td>['Topic 0']</td>\n",
       "      <td>['sputovamo leeftijd', 'medisch dossier', 'tri...</td>\n",
       "      <td>Patient Intake</td>\n",
       "      <td>Consult, SEH | Patient Intake</td>\n",
       "      <td>Consult, SEH | Patient Intake</td>\n",
       "      <td>11</td>\n",
       "      <td>046D1FFEBDD40E1665D0ABA6DD8FC9F8BC4351C6</td>\n",
       "      <td>11</td>\n",
       "      <td>2013-10-22 19:59:00</td>\n",
       "      <td>4</td>\n",
       "      <td>0</td>\n",
       "    </tr>\n",
       "  </tbody>\n",
       "</table>\n",
       "</div>"
      ],
      "text/plain": [
       "                                  pseudo_id verslagen_report_tags  \\\n",
       "0  046D1FFEBDD40E1665D0ABA6DD8FC9F8BC4351C6          Consult, SEH   \n",
       "1  046D1FFEBDD40E1665D0ABA6DD8FC9F8BC4351C6          Consult, SEH   \n",
       "2  046D1FFEBDD40E1665D0ABA6DD8FC9F8BC4351C6          Consult, SEH   \n",
       "3  046D1FFEBDD40E1665D0ABA6DD8FC9F8BC4351C6          Consult, SEH   \n",
       "4  046D1FFEBDD40E1665D0ABA6DD8FC9F8BC4351C6          Consult, SEH   \n",
       "\n",
       "                            verslagen_report_content  \\\n",
       "0  Samenvatting: \\nVerpleegkundige verslaglegging...   \n",
       "1  Samenvatting: \\nvocht in vocht uit\\r\\n-Tijd: 1...   \n",
       "2  Samenvatting: \\nvocht in vocht uit\\r\\n-Tijd: 1...   \n",
       "3  Samenvatting: \\nMedisch Dossier\\r\\n[ Vk Sputov...   \n",
       "4  Samenvatting: \\nVerpleegkundige verslaglegging...   \n",
       "\n",
       "  verslagen_report_start_date                 date  \\\n",
       "0         2013-10-21 10:24:00  2013-10-21 10:24:00   \n",
       "1         2013-10-21 10:40:00  2013-10-21 10:40:00   \n",
       "2         2013-10-21 10:41:00  2013-10-21 10:41:00   \n",
       "3         2013-10-21 10:50:00  2013-10-21 10:50:00   \n",
       "4         2013-10-22 19:59:00  2013-10-22 19:59:00   \n",
       "\n",
       "                                             alltext  \\\n",
       "0  samenvatting verpleegkundig verslaglegging ver...   \n",
       "1  samenvatting vocht vocht tijd toediening soort...   \n",
       "2  samenvatting vocht vocht tijd toediening soort...   \n",
       "3  samenvatting medisch dossier vk sputovamo leef...   \n",
       "4  samenvatting verpleegkundig verslaglegging ver...   \n",
       "\n",
       "                                              tokens  \\\n",
       "0  ['verpleegkundig', 'verslaglegging', 'verantwo...   \n",
       "1  ['vocht', 'toediening', 'soort', 'infuus', 'Na...   \n",
       "2  ['vocht', 'toediening', 'soort', 'infuus', 'me...   \n",
       "3  ['medisch', 'dossier', 'vk', 'sputovamo', 'lee...   \n",
       "4  ['verpleegkundig', 'verslaglegging', 'verantwo...   \n",
       "\n",
       "                                                text  Topic          Tags  \\\n",
       "0  verpleegkundig verslaglegging verantwoordelijk...      0   ['Topic 0']   \n",
       "1                 vocht toediening soort infuus Nacl     -1  ['Topic -1']   \n",
       "2  vocht toediening soort infuus medicatie parace...      2   ['Topic 2']   \n",
       "3  medisch dossier vk sputovamo leeftijd registra...      0   ['Topic 0']   \n",
       "4  verpleegkundig verslaglegging verantwoordelijk...      0   ['Topic 0']   \n",
       "\n",
       "                                            Keywords  \\\n",
       "0  ['sputovamo leeftijd', 'medisch dossier', 'tri...   \n",
       "1                                                 []   \n",
       "2  ['beloop verpleegkundig', 'soort infuus medica...   \n",
       "3  ['sputovamo leeftijd', 'medisch dossier', 'tri...   \n",
       "4  ['sputovamo leeftijd', 'medisch dossier', 'tri...   \n",
       "\n",
       "               new_topic_label       verslagen_report_tags_new_topic_label  \\\n",
       "0               Patient Intake               Consult, SEH | Patient Intake   \n",
       "1                      Outlier                      Consult, SEH | Outlier   \n",
       "2  Infusion & Fluid Management  Consult, SEH | Infusion & Fluid Management   \n",
       "3               Patient Intake               Consult, SEH | Patient Intake   \n",
       "4               Patient Intake               Consult, SEH | Patient Intake   \n",
       "\n",
       "                                    event_tag N_Topic  \\\n",
       "0               Consult, SEH | Patient Intake      11   \n",
       "1                      Consult, SEH | Outlier       1   \n",
       "2  Consult, SEH | Infusion & Fluid Management      12   \n",
       "3               Consult, SEH | Patient Intake      11   \n",
       "4               Consult, SEH | Patient Intake      11   \n",
       "\n",
       "                          case:concept:name concept:name       time:timestamp  \\\n",
       "0  046D1FFEBDD40E1665D0ABA6DD8FC9F8BC4351C6           11  2013-10-21 10:24:00   \n",
       "1  046D1FFEBDD40E1665D0ABA6DD8FC9F8BC4351C6            1  2013-10-21 10:40:00   \n",
       "2  046D1FFEBDD40E1665D0ABA6DD8FC9F8BC4351C6           12  2013-10-21 10:41:00   \n",
       "3  046D1FFEBDD40E1665D0ABA6DD8FC9F8BC4351C6           11  2013-10-21 10:50:00   \n",
       "4  046D1FFEBDD40E1665D0ABA6DD8FC9F8BC4351C6           11  2013-10-22 19:59:00   \n",
       "\n",
       "   @@index  @@case_index  \n",
       "0        0             0  \n",
       "1        1             0  \n",
       "2        2             0  \n",
       "3        3             0  \n",
       "4        4             0  "
      ]
     },
     "execution_count": 25,
     "metadata": {},
     "output_type": "execute_result"
    }
   ],
   "source": [
    "# Convert DataFrame to PM4Py event log\n",
    "\n",
    "\n",
    "event_log = pm4py.format_dataframe(df_verslagen, case_id='pseudo_id', activity_key=activity_key, timestamp_key='verslagen_report_start_date')\n",
    "# event_log = pm4py.format_dataframe(df_verslagen, case_id='pseudo_id', activity_key='topic_tags', timestamp_key='verslagen_report_start_date')\n",
    "event_log_filtered = pm4py.format_dataframe(df_filtered, case_id='pseudo_id', activity_key=activity_key, timestamp_key='verslagen_report_start_date')\n",
    "\n",
    "\n",
    "print(event_log.head())  # Verify format\n",
    "event_log.head()"
   ]
  },
  {
   "cell_type": "code",
   "execution_count": 26,
   "metadata": {},
   "outputs": [],
   "source": [
    "# start_activities = pm4py.get_start_activities(event_log)\n",
    "# start_activities"
   ]
  },
  {
   "cell_type": "code",
   "execution_count": 27,
   "metadata": {},
   "outputs": [
    {
     "name": "stdout",
     "output_type": "stream",
     "text": [
      "                                                 Trace  Count\n",
      "0    11->1->12->11->11->11->1->1->25->1->23->13->13...      1\n",
      "53   12->11->11->23->13->20->20->11->11->18->3->1->...      1\n",
      "77   11->11->11->11->1->23->20->10->8->0->1->2->20-...      1\n",
      "76   1->26->13->16->20->23->1->28->1->10->8->8->3->...      1\n",
      "75   11->11->11->11->23->13->13->20->11->11->11->3-...      1\n",
      "..                                                 ...    ...\n",
      "32   11->11->11->5->3->3->1->1->26->11->11->1->3->3...      1\n",
      "31   12->11->11->11->11->18->3->13->13->1->13->3->1...      1\n",
      "30     25->10->1->15->3->7->3->3->3->3->6->0->3->20->6      1\n",
      "29   20->25->10->8->3->23->1->6->6->1->6->1->1->1->...      1\n",
      "104  11->11->1->3->13->11->11->18->3->13->3->13->3-...      1\n",
      "\n",
      "[105 rows x 2 columns]\n"
     ]
    }
   ],
   "source": [
    "from pm4py.algo.filtering.log.variants import variants_filter\n",
    "\n",
    "# Extract unique variants (patient journey patterns)\n",
    "variants = variants_filter.get_variants(event_log)\n",
    "\n",
    "# Map original tuple traces to string traces\n",
    "trace_mapping = {tuple(trace): '->'.join(trace) for trace in variants.keys()}\n",
    "\n",
    "# Create a DataFrame mapping traces to frequency\n",
    "trace_counts = {trace_mapping[trace]: len(variants[trace]) for trace in variants.keys()}\n",
    "\n",
    "# Convert to DataFrame\n",
    "trace_df = pd.DataFrame(list(trace_counts.items()), columns=['Trace', 'Count'])\n",
    "\n",
    "# Sort by most common traces\n",
    "trace_df = trace_df.sort_values(by='Count', ascending=False)\n",
    "\n",
    "print(trace_df)  # Show most common patient journeys\n"
   ]
  },
  {
   "cell_type": "code",
   "execution_count": 28,
   "metadata": {},
   "outputs": [
    {
     "name": "stdout",
     "output_type": "stream",
     "text": [
      "                                                 Trace  Count\n",
      "0    11->1->12->11->11->11->1->1->25->1->23->13->13...      1\n",
      "53   12->11->11->23->13->20->20->11->11->18->3->1->...      1\n",
      "77   11->11->11->11->1->23->20->10->8->0->1->2->20-...      1\n",
      "76   1->26->13->16->20->23->1->28->1->10->8->8->3->...      1\n",
      "75   11->11->11->11->23->13->13->20->11->11->11->3-...      1\n",
      "..                                                 ...    ...\n",
      "32   11->11->11->5->3->3->1->1->26->11->11->1->3->3...      1\n",
      "31   12->11->11->11->11->18->3->13->13->1->13->3->1...      1\n",
      "30     25->10->1->15->3->7->3->3->3->3->6->0->3->20->6      1\n",
      "29   20->25->10->8->3->23->1->6->6->1->6->1->1->1->...      1\n",
      "104  11->11->1->3->13->11->11->18->3->13->3->13->3-...      1\n",
      "\n",
      "[105 rows x 2 columns]\n"
     ]
    }
   ],
   "source": [
    "from pm4py.algo.filtering.log.variants import variants_filter\n",
    "\n",
    "# Extract unique variants (patient journey patterns)\n",
    "variants = variants_filter.get_variants(event_log_filtered)\n",
    "\n",
    "# Map original tuple traces to string traces\n",
    "trace_mapping = {tuple(trace): '->'.join(trace) for trace in variants.keys()}\n",
    "\n",
    "# Create a DataFrame mapping traces to frequency\n",
    "trace_counts = {trace_mapping[trace]: len(variants[trace]) for trace in variants.keys()}\n",
    "\n",
    "# Convert to DataFrame\n",
    "trace_df_filtered = pd.DataFrame(list(trace_counts.items()), columns=['Trace', 'Count'])\n",
    "\n",
    "# Sort by most common traces\n",
    "trace_df_filtered = trace_df_filtered.sort_values(by='Count', ascending=False)\n",
    "\n",
    "print(trace_df)  # Show most common patient journeys\n"
   ]
  },
  {
   "cell_type": "code",
   "execution_count": 29,
   "metadata": {},
   "outputs": [
    {
     "name": "stderr",
     "output_type": "stream",
     "text": [
      "c:\\Users\\Y.vanMegen\\AppData\\Local\\Programs\\Python\\Python311\\Lib\\site-packages\\pm4py\\objects\\log\\util\\dataframe_utils.py:357: PerformanceWarning: DataFrame is highly fragmented.  This is usually the result of calling `frame.insert` many times, which has poor performance.  Consider joining all columns at once using pd.concat(axis=1) instead. To get a de-fragmented frame, use `newframe = frame.copy()`\n",
      "  fea_df[new_col] = fea_df[case_id_key].isin(filt_df_cases)\n",
      "c:\\Users\\Y.vanMegen\\AppData\\Local\\Programs\\Python\\Python311\\Lib\\site-packages\\pm4py\\objects\\log\\util\\dataframe_utils.py:357: PerformanceWarning: DataFrame is highly fragmented.  This is usually the result of calling `frame.insert` many times, which has poor performance.  Consider joining all columns at once using pd.concat(axis=1) instead. To get a de-fragmented frame, use `newframe = frame.copy()`\n",
      "  fea_df[new_col] = fea_df[case_id_key].isin(filt_df_cases)\n",
      "c:\\Users\\Y.vanMegen\\AppData\\Local\\Programs\\Python\\Python311\\Lib\\site-packages\\pm4py\\objects\\log\\util\\dataframe_utils.py:357: PerformanceWarning: DataFrame is highly fragmented.  This is usually the result of calling `frame.insert` many times, which has poor performance.  Consider joining all columns at once using pd.concat(axis=1) instead. To get a de-fragmented frame, use `newframe = frame.copy()`\n",
      "  fea_df[new_col] = fea_df[case_id_key].isin(filt_df_cases)\n",
      "c:\\Users\\Y.vanMegen\\AppData\\Local\\Programs\\Python\\Python311\\Lib\\site-packages\\pm4py\\objects\\log\\util\\dataframe_utils.py:357: PerformanceWarning: DataFrame is highly fragmented.  This is usually the result of calling `frame.insert` many times, which has poor performance.  Consider joining all columns at once using pd.concat(axis=1) instead. To get a de-fragmented frame, use `newframe = frame.copy()`\n",
      "  fea_df[new_col] = fea_df[case_id_key].isin(filt_df_cases)\n",
      "c:\\Users\\Y.vanMegen\\AppData\\Local\\Programs\\Python\\Python311\\Lib\\site-packages\\pm4py\\objects\\log\\util\\dataframe_utils.py:357: PerformanceWarning: DataFrame is highly fragmented.  This is usually the result of calling `frame.insert` many times, which has poor performance.  Consider joining all columns at once using pd.concat(axis=1) instead. To get a de-fragmented frame, use `newframe = frame.copy()`\n",
      "  fea_df[new_col] = fea_df[case_id_key].isin(filt_df_cases)\n",
      "c:\\Users\\Y.vanMegen\\AppData\\Local\\Programs\\Python\\Python311\\Lib\\site-packages\\pm4py\\objects\\log\\util\\dataframe_utils.py:357: PerformanceWarning: DataFrame is highly fragmented.  This is usually the result of calling `frame.insert` many times, which has poor performance.  Consider joining all columns at once using pd.concat(axis=1) instead. To get a de-fragmented frame, use `newframe = frame.copy()`\n",
      "  fea_df[new_col] = fea_df[case_id_key].isin(filt_df_cases)\n",
      "c:\\Users\\Y.vanMegen\\AppData\\Local\\Programs\\Python\\Python311\\Lib\\site-packages\\pm4py\\objects\\log\\util\\dataframe_utils.py:357: PerformanceWarning: DataFrame is highly fragmented.  This is usually the result of calling `frame.insert` many times, which has poor performance.  Consider joining all columns at once using pd.concat(axis=1) instead. To get a de-fragmented frame, use `newframe = frame.copy()`\n",
      "  fea_df[new_col] = fea_df[case_id_key].isin(filt_df_cases)\n",
      "c:\\Users\\Y.vanMegen\\AppData\\Local\\Programs\\Python\\Python311\\Lib\\site-packages\\pm4py\\objects\\log\\util\\dataframe_utils.py:357: PerformanceWarning: DataFrame is highly fragmented.  This is usually the result of calling `frame.insert` many times, which has poor performance.  Consider joining all columns at once using pd.concat(axis=1) instead. To get a de-fragmented frame, use `newframe = frame.copy()`\n",
      "  fea_df[new_col] = fea_df[case_id_key].isin(filt_df_cases)\n",
      "c:\\Users\\Y.vanMegen\\AppData\\Local\\Programs\\Python\\Python311\\Lib\\site-packages\\pm4py\\objects\\log\\util\\dataframe_utils.py:357: PerformanceWarning: DataFrame is highly fragmented.  This is usually the result of calling `frame.insert` many times, which has poor performance.  Consider joining all columns at once using pd.concat(axis=1) instead. To get a de-fragmented frame, use `newframe = frame.copy()`\n",
      "  fea_df[new_col] = fea_df[case_id_key].isin(filt_df_cases)\n",
      "c:\\Users\\Y.vanMegen\\AppData\\Local\\Programs\\Python\\Python311\\Lib\\site-packages\\pm4py\\objects\\log\\util\\dataframe_utils.py:357: PerformanceWarning: DataFrame is highly fragmented.  This is usually the result of calling `frame.insert` many times, which has poor performance.  Consider joining all columns at once using pd.concat(axis=1) instead. To get a de-fragmented frame, use `newframe = frame.copy()`\n",
      "  fea_df[new_col] = fea_df[case_id_key].isin(filt_df_cases)\n",
      "c:\\Users\\Y.vanMegen\\AppData\\Local\\Programs\\Python\\Python311\\Lib\\site-packages\\pm4py\\objects\\log\\util\\dataframe_utils.py:357: PerformanceWarning: DataFrame is highly fragmented.  This is usually the result of calling `frame.insert` many times, which has poor performance.  Consider joining all columns at once using pd.concat(axis=1) instead. To get a de-fragmented frame, use `newframe = frame.copy()`\n",
      "  fea_df[new_col] = fea_df[case_id_key].isin(filt_df_cases)\n",
      "c:\\Users\\Y.vanMegen\\AppData\\Local\\Programs\\Python\\Python311\\Lib\\site-packages\\pm4py\\objects\\log\\util\\dataframe_utils.py:357: PerformanceWarning: DataFrame is highly fragmented.  This is usually the result of calling `frame.insert` many times, which has poor performance.  Consider joining all columns at once using pd.concat(axis=1) instead. To get a de-fragmented frame, use `newframe = frame.copy()`\n",
      "  fea_df[new_col] = fea_df[case_id_key].isin(filt_df_cases)\n",
      "c:\\Users\\Y.vanMegen\\AppData\\Local\\Programs\\Python\\Python311\\Lib\\site-packages\\pm4py\\objects\\log\\util\\dataframe_utils.py:357: PerformanceWarning: DataFrame is highly fragmented.  This is usually the result of calling `frame.insert` many times, which has poor performance.  Consider joining all columns at once using pd.concat(axis=1) instead. To get a de-fragmented frame, use `newframe = frame.copy()`\n",
      "  fea_df[new_col] = fea_df[case_id_key].isin(filt_df_cases)\n",
      "c:\\Users\\Y.vanMegen\\AppData\\Local\\Programs\\Python\\Python311\\Lib\\site-packages\\pm4py\\objects\\log\\util\\dataframe_utils.py:357: PerformanceWarning: DataFrame is highly fragmented.  This is usually the result of calling `frame.insert` many times, which has poor performance.  Consider joining all columns at once using pd.concat(axis=1) instead. To get a de-fragmented frame, use `newframe = frame.copy()`\n",
      "  fea_df[new_col] = fea_df[case_id_key].isin(filt_df_cases)\n",
      "c:\\Users\\Y.vanMegen\\AppData\\Local\\Programs\\Python\\Python311\\Lib\\site-packages\\pm4py\\objects\\log\\util\\dataframe_utils.py:357: PerformanceWarning: DataFrame is highly fragmented.  This is usually the result of calling `frame.insert` many times, which has poor performance.  Consider joining all columns at once using pd.concat(axis=1) instead. To get a de-fragmented frame, use `newframe = frame.copy()`\n",
      "  fea_df[new_col] = fea_df[case_id_key].isin(filt_df_cases)\n",
      "c:\\Users\\Y.vanMegen\\AppData\\Local\\Programs\\Python\\Python311\\Lib\\site-packages\\pm4py\\objects\\log\\util\\dataframe_utils.py:357: PerformanceWarning: DataFrame is highly fragmented.  This is usually the result of calling `frame.insert` many times, which has poor performance.  Consider joining all columns at once using pd.concat(axis=1) instead. To get a de-fragmented frame, use `newframe = frame.copy()`\n",
      "  fea_df[new_col] = fea_df[case_id_key].isin(filt_df_cases)\n",
      "c:\\Users\\Y.vanMegen\\AppData\\Local\\Programs\\Python\\Python311\\Lib\\site-packages\\joblib\\externals\\loky\\backend\\context.py:136: UserWarning: Could not find the number of physical cores for the following reason:\n",
      "[WinError 2] Het systeem kan het opgegeven bestand niet vinden\n",
      "Returning the number of logical cores instead. You can silence this warning by setting LOKY_MAX_CPU_COUNT to the number of cores you want to use.\n",
      "  warnings.warn(\n",
      "  File \"c:\\Users\\Y.vanMegen\\AppData\\Local\\Programs\\Python\\Python311\\Lib\\site-packages\\joblib\\externals\\loky\\backend\\context.py\", line 257, in _count_physical_cores\n",
      "    cpu_info = subprocess.run(\n",
      "               ^^^^^^^^^^^^^^^\n",
      "  File \"c:\\Users\\Y.vanMegen\\AppData\\Local\\Programs\\Python\\Python311\\Lib\\subprocess.py\", line 548, in run\n",
      "    with Popen(*popenargs, **kwargs) as process:\n",
      "         ^^^^^^^^^^^^^^^^^^^^^^^^^^^\n",
      "  File \"c:\\Users\\Y.vanMegen\\AppData\\Local\\Programs\\Python\\Python311\\Lib\\subprocess.py\", line 1026, in __init__\n",
      "    self._execute_child(args, executable, preexec_fn, close_fds,\n",
      "  File \"c:\\Users\\Y.vanMegen\\AppData\\Local\\Programs\\Python\\Python311\\Lib\\subprocess.py\", line 1538, in _execute_child\n",
      "    hp, ht, pid, tid = _winapi.CreateProcess(executable, args,\n",
      "                       ^^^^^^^^^^^^^^^^^^^^^^^^^^^^^^^^^^^^^^^\n"
     ]
    },
    {
     "data": {
      "text/html": [
       "<div>\n",
       "<style scoped>\n",
       "    .dataframe tbody tr th:only-of-type {\n",
       "        vertical-align: middle;\n",
       "    }\n",
       "\n",
       "    .dataframe tbody tr th {\n",
       "        vertical-align: top;\n",
       "    }\n",
       "\n",
       "    .dataframe thead th {\n",
       "        text-align: right;\n",
       "    }\n",
       "</style>\n",
       "<table border=\"1\" class=\"dataframe\">\n",
       "  <thead>\n",
       "    <tr style=\"text-align: right;\">\n",
       "      <th></th>\n",
       "      <th>verslagen_report_tags_new_topic_label_Consult,SEH|PatientIntake</th>\n",
       "      <th>verslagen_report_tags_new_topic_label_Consult,SEH|Outlier</th>\n",
       "      <th>verslagen_report_tags_new_topic_label_Consult,SEH|Infusion&amp;FluidManagement</th>\n",
       "      <th>verslagen_report_tags_new_topic_label_Consult,Overigeaantekeningen|IronDeficiency&amp;CKD</th>\n",
       "      <th>verslagen_report_tags_new_topic_label_Consult,Overigeaantekeningen|Outlier</th>\n",
       "      <th>verslagen_report_tags_new_topic_label_Consult,Polikliniek:eersteconsult|AdmissionAssessment</th>\n",
       "      <th>verslagen_report_tags_new_topic_label_Consult|SurgicalProphylaxis</th>\n",
       "      <th>verslagen_report_tags_new_topic_label_Consult,Polikliniek:vervolgconsult|ConsultationWorkflow</th>\n",
       "      <th>verslagen_report_tags_new_topic_label_Consult,Kliniek:vervolgconsult|GIBleedAssessment</th>\n",
       "      <th>verslagen_report_tags_new_topic_label_Consult,Kliniek:eersteconsult|InitialTriage</th>\n",
       "      <th>...</th>\n",
       "      <th>N_Topic_4</th>\n",
       "      <th>N_Topic_5</th>\n",
       "      <th>N_Topic_16</th>\n",
       "      <th>N_Topic_24</th>\n",
       "      <th>N_Topic_21</th>\n",
       "      <th>N_Topic_9</th>\n",
       "      <th>N_Topic_22</th>\n",
       "      <th>N_Topic_17</th>\n",
       "      <th>N_Topic_31</th>\n",
       "      <th>Cluster</th>\n",
       "    </tr>\n",
       "  </thead>\n",
       "  <tbody>\n",
       "    <tr>\n",
       "      <th>0</th>\n",
       "      <td>1.0</td>\n",
       "      <td>1.0</td>\n",
       "      <td>1.0</td>\n",
       "      <td>1.0</td>\n",
       "      <td>1.0</td>\n",
       "      <td>1.0</td>\n",
       "      <td>1.0</td>\n",
       "      <td>1.0</td>\n",
       "      <td>1.0</td>\n",
       "      <td>1.0</td>\n",
       "      <td>...</td>\n",
       "      <td>0.0</td>\n",
       "      <td>0.0</td>\n",
       "      <td>0.0</td>\n",
       "      <td>0.0</td>\n",
       "      <td>0.0</td>\n",
       "      <td>0.0</td>\n",
       "      <td>0.0</td>\n",
       "      <td>0.0</td>\n",
       "      <td>0.0</td>\n",
       "      <td>2</td>\n",
       "    </tr>\n",
       "    <tr>\n",
       "      <th>1</th>\n",
       "      <td>1.0</td>\n",
       "      <td>1.0</td>\n",
       "      <td>1.0</td>\n",
       "      <td>1.0</td>\n",
       "      <td>1.0</td>\n",
       "      <td>0.0</td>\n",
       "      <td>1.0</td>\n",
       "      <td>1.0</td>\n",
       "      <td>1.0</td>\n",
       "      <td>1.0</td>\n",
       "      <td>...</td>\n",
       "      <td>0.0</td>\n",
       "      <td>0.0</td>\n",
       "      <td>0.0</td>\n",
       "      <td>0.0</td>\n",
       "      <td>0.0</td>\n",
       "      <td>0.0</td>\n",
       "      <td>0.0</td>\n",
       "      <td>0.0</td>\n",
       "      <td>0.0</td>\n",
       "      <td>2</td>\n",
       "    </tr>\n",
       "    <tr>\n",
       "      <th>2</th>\n",
       "      <td>0.0</td>\n",
       "      <td>0.0</td>\n",
       "      <td>0.0</td>\n",
       "      <td>0.0</td>\n",
       "      <td>0.0</td>\n",
       "      <td>0.0</td>\n",
       "      <td>0.0</td>\n",
       "      <td>1.0</td>\n",
       "      <td>1.0</td>\n",
       "      <td>0.0</td>\n",
       "      <td>...</td>\n",
       "      <td>0.0</td>\n",
       "      <td>0.0</td>\n",
       "      <td>0.0</td>\n",
       "      <td>0.0</td>\n",
       "      <td>0.0</td>\n",
       "      <td>0.0</td>\n",
       "      <td>0.0</td>\n",
       "      <td>0.0</td>\n",
       "      <td>0.0</td>\n",
       "      <td>2</td>\n",
       "    </tr>\n",
       "    <tr>\n",
       "      <th>3</th>\n",
       "      <td>1.0</td>\n",
       "      <td>0.0</td>\n",
       "      <td>1.0</td>\n",
       "      <td>1.0</td>\n",
       "      <td>1.0</td>\n",
       "      <td>1.0</td>\n",
       "      <td>1.0</td>\n",
       "      <td>1.0</td>\n",
       "      <td>1.0</td>\n",
       "      <td>1.0</td>\n",
       "      <td>...</td>\n",
       "      <td>0.0</td>\n",
       "      <td>0.0</td>\n",
       "      <td>0.0</td>\n",
       "      <td>0.0</td>\n",
       "      <td>0.0</td>\n",
       "      <td>0.0</td>\n",
       "      <td>0.0</td>\n",
       "      <td>0.0</td>\n",
       "      <td>0.0</td>\n",
       "      <td>2</td>\n",
       "    </tr>\n",
       "    <tr>\n",
       "      <th>4</th>\n",
       "      <td>1.0</td>\n",
       "      <td>1.0</td>\n",
       "      <td>0.0</td>\n",
       "      <td>1.0</td>\n",
       "      <td>1.0</td>\n",
       "      <td>1.0</td>\n",
       "      <td>1.0</td>\n",
       "      <td>1.0</td>\n",
       "      <td>1.0</td>\n",
       "      <td>1.0</td>\n",
       "      <td>...</td>\n",
       "      <td>0.0</td>\n",
       "      <td>0.0</td>\n",
       "      <td>0.0</td>\n",
       "      <td>0.0</td>\n",
       "      <td>0.0</td>\n",
       "      <td>0.0</td>\n",
       "      <td>0.0</td>\n",
       "      <td>0.0</td>\n",
       "      <td>0.0</td>\n",
       "      <td>2</td>\n",
       "    </tr>\n",
       "  </tbody>\n",
       "</table>\n",
       "<p>5 rows × 233 columns</p>\n",
       "</div>"
      ],
      "text/plain": [
       "   verslagen_report_tags_new_topic_label_Consult,SEH|PatientIntake  \\\n",
       "0                                                1.0                 \n",
       "1                                                1.0                 \n",
       "2                                                0.0                 \n",
       "3                                                1.0                 \n",
       "4                                                1.0                 \n",
       "\n",
       "   verslagen_report_tags_new_topic_label_Consult,SEH|Outlier  \\\n",
       "0                                                1.0           \n",
       "1                                                1.0           \n",
       "2                                                0.0           \n",
       "3                                                0.0           \n",
       "4                                                1.0           \n",
       "\n",
       "   verslagen_report_tags_new_topic_label_Consult,SEH|Infusion&FluidManagement  \\\n",
       "0                                                1.0                            \n",
       "1                                                1.0                            \n",
       "2                                                0.0                            \n",
       "3                                                1.0                            \n",
       "4                                                0.0                            \n",
       "\n",
       "   verslagen_report_tags_new_topic_label_Consult,Overigeaantekeningen|IronDeficiency&CKD  \\\n",
       "0                                                1.0                                       \n",
       "1                                                1.0                                       \n",
       "2                                                0.0                                       \n",
       "3                                                1.0                                       \n",
       "4                                                1.0                                       \n",
       "\n",
       "   verslagen_report_tags_new_topic_label_Consult,Overigeaantekeningen|Outlier  \\\n",
       "0                                                1.0                            \n",
       "1                                                1.0                            \n",
       "2                                                0.0                            \n",
       "3                                                1.0                            \n",
       "4                                                1.0                            \n",
       "\n",
       "   verslagen_report_tags_new_topic_label_Consult,Polikliniek:eersteconsult|AdmissionAssessment  \\\n",
       "0                                                1.0                                             \n",
       "1                                                0.0                                             \n",
       "2                                                0.0                                             \n",
       "3                                                1.0                                             \n",
       "4                                                1.0                                             \n",
       "\n",
       "   verslagen_report_tags_new_topic_label_Consult|SurgicalProphylaxis  \\\n",
       "0                                                1.0                   \n",
       "1                                                1.0                   \n",
       "2                                                0.0                   \n",
       "3                                                1.0                   \n",
       "4                                                1.0                   \n",
       "\n",
       "   verslagen_report_tags_new_topic_label_Consult,Polikliniek:vervolgconsult|ConsultationWorkflow  \\\n",
       "0                                                1.0                                               \n",
       "1                                                1.0                                               \n",
       "2                                                1.0                                               \n",
       "3                                                1.0                                               \n",
       "4                                                1.0                                               \n",
       "\n",
       "   verslagen_report_tags_new_topic_label_Consult,Kliniek:vervolgconsult|GIBleedAssessment  \\\n",
       "0                                                1.0                                        \n",
       "1                                                1.0                                        \n",
       "2                                                1.0                                        \n",
       "3                                                1.0                                        \n",
       "4                                                1.0                                        \n",
       "\n",
       "   verslagen_report_tags_new_topic_label_Consult,Kliniek:eersteconsult|InitialTriage  \\\n",
       "0                                                1.0                                   \n",
       "1                                                1.0                                   \n",
       "2                                                0.0                                   \n",
       "3                                                1.0                                   \n",
       "4                                                1.0                                   \n",
       "\n",
       "   ...  N_Topic_4  N_Topic_5  N_Topic_16  N_Topic_24  N_Topic_21  N_Topic_9  \\\n",
       "0  ...        0.0        0.0         0.0         0.0         0.0        0.0   \n",
       "1  ...        0.0        0.0         0.0         0.0         0.0        0.0   \n",
       "2  ...        0.0        0.0         0.0         0.0         0.0        0.0   \n",
       "3  ...        0.0        0.0         0.0         0.0         0.0        0.0   \n",
       "4  ...        0.0        0.0         0.0         0.0         0.0        0.0   \n",
       "\n",
       "   N_Topic_22  N_Topic_17  N_Topic_31  Cluster  \n",
       "0         0.0         0.0         0.0        2  \n",
       "1         0.0         0.0         0.0        2  \n",
       "2         0.0         0.0         0.0        2  \n",
       "3         0.0         0.0         0.0        2  \n",
       "4         0.0         0.0         0.0        2  \n",
       "\n",
       "[5 rows x 233 columns]"
      ]
     },
     "execution_count": 29,
     "metadata": {},
     "output_type": "execute_result"
    }
   ],
   "source": [
    "from pm4py.algo.transformation.log_to_features import algorithm as log_to_features\n",
    "from sklearn.cluster import KMeans\n",
    "import numpy as np\n",
    "\n",
    "# Convert event log to feature vectors\n",
    "feature_table, feature_names = log_to_features.apply(event_log, parameters={\"feature_type\": \"frequency\"})\n",
    "\n",
    "# Convert to DataFrame\n",
    "feature_df = pd.DataFrame(feature_table, columns=feature_names)\n",
    "\n",
    "# Apply K-Means clustering (set k=3 for 3 clusters)\n",
    "num_clusters = 10\n",
    "kmeans = KMeans(n_clusters=num_clusters, random_state=42)\n",
    "feature_df['Cluster'] = kmeans.fit_predict(feature_df)\n",
    "\n",
    "feature_df.head()  # Show clustered patient traces\n"
   ]
  },
  {
   "cell_type": "code",
   "execution_count": 30,
   "metadata": {},
   "outputs": [
    {
     "data": {
      "application/vnd.plotly.v1+json": {
       "config": {
        "plotlyServerURL": "https://plot.ly"
       },
       "data": [
        {
         "link": {
          "source": [
           3,
           4,
           15,
           1,
           6,
           7,
           20,
           19,
           9,
           3,
           1,
           7,
           20,
           19,
           22,
           17,
           12,
           3,
           6,
           7,
           20,
           19,
           9,
           22,
           17,
           18,
           3,
           4,
           15,
           1,
           6,
           7,
           20,
           19,
           9,
           22,
           17,
           3,
           6,
           7,
           20,
           19,
           9,
           22,
           17,
           11,
           10,
           3,
           4,
           1,
           6,
           7,
           20,
           19,
           22,
           3,
           4,
           15,
           7,
           20,
           19,
           9,
           22,
           11,
           18,
           23,
           8,
           10,
           3,
           4,
           6,
           7,
           13,
           20,
           19,
           9,
           22,
           17,
           11,
           21,
           8,
           3,
           4,
           2,
           15,
           1,
           6,
           7,
           13,
           20,
           19,
           22,
           17,
           12,
           5,
           24,
           11,
           18,
           23,
           25,
           3,
           4,
           2,
           15,
           1,
           6,
           7,
           20,
           19,
           9,
           22,
           17,
           11,
           18
          ],
          "target": [
           4,
           15,
           1,
           6,
           7,
           20,
           19,
           9,
           11,
           1,
           7,
           20,
           19,
           22,
           17,
           12,
           18,
           6,
           7,
           20,
           19,
           9,
           22,
           17,
           18,
           0,
           4,
           15,
           1,
           6,
           7,
           20,
           19,
           9,
           22,
           17,
           0,
           6,
           7,
           20,
           19,
           9,
           22,
           17,
           11,
           25,
           3,
           4,
           1,
           6,
           7,
           20,
           19,
           22,
           17,
           4,
           15,
           7,
           20,
           19,
           9,
           22,
           11,
           18,
           23,
           8,
           14,
           3,
           4,
           6,
           7,
           13,
           20,
           19,
           9,
           22,
           17,
           11,
           21,
           8,
           16,
           4,
           2,
           15,
           1,
           6,
           7,
           13,
           20,
           19,
           22,
           17,
           12,
           5,
           24,
           11,
           18,
           23,
           25,
           21,
           4,
           2,
           15,
           1,
           6,
           7,
           20,
           19,
           9,
           22,
           17,
           11,
           18,
           21
          ],
          "value": [
           7,
           3,
           4,
           5,
           8,
           8,
           10,
           7,
           1,
           1,
           1,
           8,
           10,
           3,
           8,
           2,
           1,
           2,
           8,
           8,
           10,
           7,
           6,
           8,
           1,
           1,
           7,
           3,
           4,
           5,
           8,
           8,
           10,
           7,
           6,
           8,
           1,
           2,
           8,
           8,
           10,
           7,
           6,
           8,
           3,
           1,
           2,
           7,
           1,
           5,
           8,
           8,
           10,
           3,
           8,
           7,
           3,
           1,
           8,
           10,
           7,
           6,
           1,
           3,
           2,
           1,
           1,
           2,
           7,
           1,
           8,
           2,
           2,
           10,
           7,
           6,
           8,
           3,
           1,
           1,
           1,
           7,
           2,
           2,
           4,
           5,
           8,
           2,
           2,
           10,
           3,
           8,
           2,
           1,
           1,
           1,
           3,
           2,
           1,
           1,
           7,
           2,
           2,
           4,
           5,
           8,
           8,
           10,
           7,
           6,
           8,
           3,
           3,
           1
          ]
         },
         "node": {
          "label": [
           "30",
           "13",
           "25",
           "1",
           "12",
           "26",
           "20",
           "3",
           "16",
           "7",
           "11",
           "29",
           "15",
           "18",
           "21",
           "23",
           "24",
           "0",
           "2",
           "8",
           "10",
           "19",
           "6",
           "28",
           "14",
           "27"
          ]
         },
         "type": "sankey"
        }
       ],
       "layout": {
        "template": {
         "data": {
          "bar": [
           {
            "error_x": {
             "color": "#2a3f5f"
            },
            "error_y": {
             "color": "#2a3f5f"
            },
            "marker": {
             "line": {
              "color": "#E5ECF6",
              "width": 0.5
             },
             "pattern": {
              "fillmode": "overlay",
              "size": 10,
              "solidity": 0.2
             }
            },
            "type": "bar"
           }
          ],
          "barpolar": [
           {
            "marker": {
             "line": {
              "color": "#E5ECF6",
              "width": 0.5
             },
             "pattern": {
              "fillmode": "overlay",
              "size": 10,
              "solidity": 0.2
             }
            },
            "type": "barpolar"
           }
          ],
          "carpet": [
           {
            "aaxis": {
             "endlinecolor": "#2a3f5f",
             "gridcolor": "white",
             "linecolor": "white",
             "minorgridcolor": "white",
             "startlinecolor": "#2a3f5f"
            },
            "baxis": {
             "endlinecolor": "#2a3f5f",
             "gridcolor": "white",
             "linecolor": "white",
             "minorgridcolor": "white",
             "startlinecolor": "#2a3f5f"
            },
            "type": "carpet"
           }
          ],
          "choropleth": [
           {
            "colorbar": {
             "outlinewidth": 0,
             "ticks": ""
            },
            "type": "choropleth"
           }
          ],
          "contour": [
           {
            "colorbar": {
             "outlinewidth": 0,
             "ticks": ""
            },
            "colorscale": [
             [
              0,
              "#0d0887"
             ],
             [
              0.1111111111111111,
              "#46039f"
             ],
             [
              0.2222222222222222,
              "#7201a8"
             ],
             [
              0.3333333333333333,
              "#9c179e"
             ],
             [
              0.4444444444444444,
              "#bd3786"
             ],
             [
              0.5555555555555556,
              "#d8576b"
             ],
             [
              0.6666666666666666,
              "#ed7953"
             ],
             [
              0.7777777777777778,
              "#fb9f3a"
             ],
             [
              0.8888888888888888,
              "#fdca26"
             ],
             [
              1,
              "#f0f921"
             ]
            ],
            "type": "contour"
           }
          ],
          "contourcarpet": [
           {
            "colorbar": {
             "outlinewidth": 0,
             "ticks": ""
            },
            "type": "contourcarpet"
           }
          ],
          "heatmap": [
           {
            "colorbar": {
             "outlinewidth": 0,
             "ticks": ""
            },
            "colorscale": [
             [
              0,
              "#0d0887"
             ],
             [
              0.1111111111111111,
              "#46039f"
             ],
             [
              0.2222222222222222,
              "#7201a8"
             ],
             [
              0.3333333333333333,
              "#9c179e"
             ],
             [
              0.4444444444444444,
              "#bd3786"
             ],
             [
              0.5555555555555556,
              "#d8576b"
             ],
             [
              0.6666666666666666,
              "#ed7953"
             ],
             [
              0.7777777777777778,
              "#fb9f3a"
             ],
             [
              0.8888888888888888,
              "#fdca26"
             ],
             [
              1,
              "#f0f921"
             ]
            ],
            "type": "heatmap"
           }
          ],
          "histogram": [
           {
            "marker": {
             "pattern": {
              "fillmode": "overlay",
              "size": 10,
              "solidity": 0.2
             }
            },
            "type": "histogram"
           }
          ],
          "histogram2d": [
           {
            "colorbar": {
             "outlinewidth": 0,
             "ticks": ""
            },
            "colorscale": [
             [
              0,
              "#0d0887"
             ],
             [
              0.1111111111111111,
              "#46039f"
             ],
             [
              0.2222222222222222,
              "#7201a8"
             ],
             [
              0.3333333333333333,
              "#9c179e"
             ],
             [
              0.4444444444444444,
              "#bd3786"
             ],
             [
              0.5555555555555556,
              "#d8576b"
             ],
             [
              0.6666666666666666,
              "#ed7953"
             ],
             [
              0.7777777777777778,
              "#fb9f3a"
             ],
             [
              0.8888888888888888,
              "#fdca26"
             ],
             [
              1,
              "#f0f921"
             ]
            ],
            "type": "histogram2d"
           }
          ],
          "histogram2dcontour": [
           {
            "colorbar": {
             "outlinewidth": 0,
             "ticks": ""
            },
            "colorscale": [
             [
              0,
              "#0d0887"
             ],
             [
              0.1111111111111111,
              "#46039f"
             ],
             [
              0.2222222222222222,
              "#7201a8"
             ],
             [
              0.3333333333333333,
              "#9c179e"
             ],
             [
              0.4444444444444444,
              "#bd3786"
             ],
             [
              0.5555555555555556,
              "#d8576b"
             ],
             [
              0.6666666666666666,
              "#ed7953"
             ],
             [
              0.7777777777777778,
              "#fb9f3a"
             ],
             [
              0.8888888888888888,
              "#fdca26"
             ],
             [
              1,
              "#f0f921"
             ]
            ],
            "type": "histogram2dcontour"
           }
          ],
          "mesh3d": [
           {
            "colorbar": {
             "outlinewidth": 0,
             "ticks": ""
            },
            "type": "mesh3d"
           }
          ],
          "parcoords": [
           {
            "line": {
             "colorbar": {
              "outlinewidth": 0,
              "ticks": ""
             }
            },
            "type": "parcoords"
           }
          ],
          "pie": [
           {
            "automargin": true,
            "type": "pie"
           }
          ],
          "scatter": [
           {
            "fillpattern": {
             "fillmode": "overlay",
             "size": 10,
             "solidity": 0.2
            },
            "type": "scatter"
           }
          ],
          "scatter3d": [
           {
            "line": {
             "colorbar": {
              "outlinewidth": 0,
              "ticks": ""
             }
            },
            "marker": {
             "colorbar": {
              "outlinewidth": 0,
              "ticks": ""
             }
            },
            "type": "scatter3d"
           }
          ],
          "scattercarpet": [
           {
            "marker": {
             "colorbar": {
              "outlinewidth": 0,
              "ticks": ""
             }
            },
            "type": "scattercarpet"
           }
          ],
          "scattergeo": [
           {
            "marker": {
             "colorbar": {
              "outlinewidth": 0,
              "ticks": ""
             }
            },
            "type": "scattergeo"
           }
          ],
          "scattergl": [
           {
            "marker": {
             "colorbar": {
              "outlinewidth": 0,
              "ticks": ""
             }
            },
            "type": "scattergl"
           }
          ],
          "scattermap": [
           {
            "marker": {
             "colorbar": {
              "outlinewidth": 0,
              "ticks": ""
             }
            },
            "type": "scattermap"
           }
          ],
          "scattermapbox": [
           {
            "marker": {
             "colorbar": {
              "outlinewidth": 0,
              "ticks": ""
             }
            },
            "type": "scattermapbox"
           }
          ],
          "scatterpolar": [
           {
            "marker": {
             "colorbar": {
              "outlinewidth": 0,
              "ticks": ""
             }
            },
            "type": "scatterpolar"
           }
          ],
          "scatterpolargl": [
           {
            "marker": {
             "colorbar": {
              "outlinewidth": 0,
              "ticks": ""
             }
            },
            "type": "scatterpolargl"
           }
          ],
          "scatterternary": [
           {
            "marker": {
             "colorbar": {
              "outlinewidth": 0,
              "ticks": ""
             }
            },
            "type": "scatterternary"
           }
          ],
          "surface": [
           {
            "colorbar": {
             "outlinewidth": 0,
             "ticks": ""
            },
            "colorscale": [
             [
              0,
              "#0d0887"
             ],
             [
              0.1111111111111111,
              "#46039f"
             ],
             [
              0.2222222222222222,
              "#7201a8"
             ],
             [
              0.3333333333333333,
              "#9c179e"
             ],
             [
              0.4444444444444444,
              "#bd3786"
             ],
             [
              0.5555555555555556,
              "#d8576b"
             ],
             [
              0.6666666666666666,
              "#ed7953"
             ],
             [
              0.7777777777777778,
              "#fb9f3a"
             ],
             [
              0.8888888888888888,
              "#fdca26"
             ],
             [
              1,
              "#f0f921"
             ]
            ],
            "type": "surface"
           }
          ],
          "table": [
           {
            "cells": {
             "fill": {
              "color": "#EBF0F8"
             },
             "line": {
              "color": "white"
             }
            },
            "header": {
             "fill": {
              "color": "#C8D4E3"
             },
             "line": {
              "color": "white"
             }
            },
            "type": "table"
           }
          ]
         },
         "layout": {
          "annotationdefaults": {
           "arrowcolor": "#2a3f5f",
           "arrowhead": 0,
           "arrowwidth": 1
          },
          "autotypenumbers": "strict",
          "coloraxis": {
           "colorbar": {
            "outlinewidth": 0,
            "ticks": ""
           }
          },
          "colorscale": {
           "diverging": [
            [
             0,
             "#8e0152"
            ],
            [
             0.1,
             "#c51b7d"
            ],
            [
             0.2,
             "#de77ae"
            ],
            [
             0.3,
             "#f1b6da"
            ],
            [
             0.4,
             "#fde0ef"
            ],
            [
             0.5,
             "#f7f7f7"
            ],
            [
             0.6,
             "#e6f5d0"
            ],
            [
             0.7,
             "#b8e186"
            ],
            [
             0.8,
             "#7fbc41"
            ],
            [
             0.9,
             "#4d9221"
            ],
            [
             1,
             "#276419"
            ]
           ],
           "sequential": [
            [
             0,
             "#0d0887"
            ],
            [
             0.1111111111111111,
             "#46039f"
            ],
            [
             0.2222222222222222,
             "#7201a8"
            ],
            [
             0.3333333333333333,
             "#9c179e"
            ],
            [
             0.4444444444444444,
             "#bd3786"
            ],
            [
             0.5555555555555556,
             "#d8576b"
            ],
            [
             0.6666666666666666,
             "#ed7953"
            ],
            [
             0.7777777777777778,
             "#fb9f3a"
            ],
            [
             0.8888888888888888,
             "#fdca26"
            ],
            [
             1,
             "#f0f921"
            ]
           ],
           "sequentialminus": [
            [
             0,
             "#0d0887"
            ],
            [
             0.1111111111111111,
             "#46039f"
            ],
            [
             0.2222222222222222,
             "#7201a8"
            ],
            [
             0.3333333333333333,
             "#9c179e"
            ],
            [
             0.4444444444444444,
             "#bd3786"
            ],
            [
             0.5555555555555556,
             "#d8576b"
            ],
            [
             0.6666666666666666,
             "#ed7953"
            ],
            [
             0.7777777777777778,
             "#fb9f3a"
            ],
            [
             0.8888888888888888,
             "#fdca26"
            ],
            [
             1,
             "#f0f921"
            ]
           ]
          },
          "colorway": [
           "#636efa",
           "#EF553B",
           "#00cc96",
           "#ab63fa",
           "#FFA15A",
           "#19d3f3",
           "#FF6692",
           "#B6E880",
           "#FF97FF",
           "#FECB52"
          ],
          "font": {
           "color": "#2a3f5f"
          },
          "geo": {
           "bgcolor": "white",
           "lakecolor": "white",
           "landcolor": "#E5ECF6",
           "showlakes": true,
           "showland": true,
           "subunitcolor": "white"
          },
          "hoverlabel": {
           "align": "left"
          },
          "hovermode": "closest",
          "mapbox": {
           "style": "light"
          },
          "paper_bgcolor": "white",
          "plot_bgcolor": "#E5ECF6",
          "polar": {
           "angularaxis": {
            "gridcolor": "white",
            "linecolor": "white",
            "ticks": ""
           },
           "bgcolor": "#E5ECF6",
           "radialaxis": {
            "gridcolor": "white",
            "linecolor": "white",
            "ticks": ""
           }
          },
          "scene": {
           "xaxis": {
            "backgroundcolor": "#E5ECF6",
            "gridcolor": "white",
            "gridwidth": 2,
            "linecolor": "white",
            "showbackground": true,
            "ticks": "",
            "zerolinecolor": "white"
           },
           "yaxis": {
            "backgroundcolor": "#E5ECF6",
            "gridcolor": "white",
            "gridwidth": 2,
            "linecolor": "white",
            "showbackground": true,
            "ticks": "",
            "zerolinecolor": "white"
           },
           "zaxis": {
            "backgroundcolor": "#E5ECF6",
            "gridcolor": "white",
            "gridwidth": 2,
            "linecolor": "white",
            "showbackground": true,
            "ticks": "",
            "zerolinecolor": "white"
           }
          },
          "shapedefaults": {
           "line": {
            "color": "#2a3f5f"
           }
          },
          "ternary": {
           "aaxis": {
            "gridcolor": "white",
            "linecolor": "white",
            "ticks": ""
           },
           "baxis": {
            "gridcolor": "white",
            "linecolor": "white",
            "ticks": ""
           },
           "bgcolor": "#E5ECF6",
           "caxis": {
            "gridcolor": "white",
            "linecolor": "white",
            "ticks": ""
           }
          },
          "title": {
           "x": 0.05
          },
          "xaxis": {
           "automargin": true,
           "gridcolor": "white",
           "linecolor": "white",
           "ticks": "",
           "title": {
            "standoff": 15
           },
           "zerolinecolor": "white",
           "zerolinewidth": 2
          },
          "yaxis": {
           "automargin": true,
           "gridcolor": "white",
           "linecolor": "white",
           "ticks": "",
           "title": {
            "standoff": 15
           },
           "zerolinecolor": "white",
           "zerolinewidth": 2
          }
         }
        }
       }
      }
     },
     "metadata": {},
     "output_type": "display_data"
    }
   ],
   "source": [
    "import plotly.graph_objects as go\n",
    "from collections import Counter\n",
    "\n",
    "# Step 1: Extract Sequences from event columns\n",
    "event_columns = [col for col in feature_df.columns if 'concept:name' in col]  # Filter for event-related columns\n",
    "sequences = []\n",
    "\n",
    "# For each row in feature_df, extract the sequence of events\n",
    "for _, row in feature_df.iterrows():\n",
    "    events = [col.split('concept:name_')[1] for col in event_columns if row[col] == 1.0]  # Get events with 1.0 value\n",
    "    sequences.append('->'.join(events))  # Join events into a sequence\n",
    "\n",
    "# Step 2: Add sequences to the dataframe (this will be useful for visualization)\n",
    "feature_df['Sequence'] = sequences\n",
    "\n",
    "# Step 3: Get the most common sequence per cluster \n",
    "cluster_sequences = feature_df.groupby(\"Cluster\")[\"Sequence\"].agg(lambda x: x.mode()[0])\n",
    "\n",
    "# Step 4: Count the occurrences of each sequence (for Sankey diagram links)\n",
    "cluster_counts = Counter(cluster_sequences)\n",
    "\n",
    "# Step 5: Prepare data for Sankey diagram (convert sequences into sources and targets)\n",
    "sources, targets = [], []\n",
    "\n",
    "for trace in cluster_sequences.values:\n",
    "    steps = trace.split(\"->\")  # Split sequence into individual steps\n",
    "    for i in range(len(steps) - 1):\n",
    "        sources.append(steps[i])\n",
    "        targets.append(steps[i + 1])\n",
    "\n",
    "# Convert sources and targets to indices (for Sankey diagram nodes)\n",
    "all_nodes = list(set(sources + targets))  # All unique nodes (steps)\n",
    "source_indices = [all_nodes.index(s) for s in sources]\n",
    "target_indices = [all_nodes.index(t) for t in targets]\n",
    "\n",
    "# Step 6: Count the frequency of each link (source -> target pair)\n",
    "link_counts = Counter(zip(sources, targets))\n",
    "values = [link_counts[(source, target)] for source, target in zip(sources, targets)]\n",
    "\n",
    "# Step 7: Create the Sankey diagram\n",
    "fig = go.Figure(go.Sankey(\n",
    "    node=dict(label=all_nodes),\n",
    "    link=dict(source=source_indices, target=target_indices, value=values)\n",
    "))\n",
    "\n",
    "fig.show()\n"
   ]
  },
  {
   "cell_type": "code",
   "execution_count": 31,
   "metadata": {},
   "outputs": [
    {
     "name": "stdout",
     "output_type": "stream",
     "text": [
      "                                   Sub-Trace  Count\n",
      "29              1->1->1->1->1->1->1->1->1->1    130\n",
      "3842  21->21->21->21->21->21->21->21->21->21     37\n",
      "248        3->13->3->13->3->13->3->13->3->13     21\n",
      "247        13->3->13->3->13->3->13->3->13->3     19\n",
      "2914            3->3->3->3->3->3->3->3->3->3     17\n",
      "3919            4->4->4->4->4->4->4->4->4->4      8\n",
      "1346  20->15->20->15->20->15->20->15->20->15      7\n",
      "1347  15->20->15->20->15->20->15->20->15->20      7\n",
      "3231  11->11->11->11->11->11->11->11->11->11      6\n",
      "4074  17->17->17->17->17->17->17->17->17->17      6\n"
     ]
    }
   ],
   "source": [
    "from collections import Counter\n",
    "\n",
    "def get_sub_traces(trace, window_size):\n",
    "    \"\"\"Extracts sub-traces of a given window size from a full trace.\"\"\"\n",
    "    return ['->'.join(trace[i:i+window_size]) for i in range(len(trace) - window_size + 1)]\n",
    "\n",
    "# Extract unique variants (trace paths)\n",
    "from pm4py.algo.filtering.log.variants import variants_filter\n",
    "variants = variants_filter.get_variants(event_log)\n",
    "# print('variants', variants)\n",
    "\n",
    "# Convert traces from tuples to lists\n",
    "trace_list = [list(trace) for trace in variants.keys()]\n",
    "# print('trace_list', trace_list)\n",
    "\n",
    "# Extract all sub-traces\n",
    "window_size = 10 # Adjust window size as needed\n",
    "all_sub_traces = [sub_trace for trace in trace_list for sub_trace in get_sub_traces(trace, window_size)]\n",
    "# print('all_sub_traces', all_sub_traces)\n",
    "\n",
    "# Count frequency of sub-traces\n",
    "sub_trace_counts = Counter(all_sub_traces)\n",
    "\n",
    "# Convert to DataFrame for sorting\n",
    "import pandas as pd\n",
    "sub_trace_df = pd.DataFrame(sub_trace_counts.items(), columns=['Sub-Trace', 'Count'])\n",
    "sub_trace_df = sub_trace_df.sort_values(by='Count', ascending=False)\n",
    "\n",
    "print(sub_trace_df.head(10))  # Show most common sub-traces\n"
   ]
  },
  {
   "cell_type": "code",
   "execution_count": 32,
   "metadata": {},
   "outputs": [
    {
     "name": "stdout",
     "output_type": "stream",
     "text": [
      "1->1->1->1->1->1->1->1->1->1 count: 130\n",
      "21->21->21->21->21->21->21->21->21->21 count: 37\n",
      "3->13->3->13->3->13->3->13->3->13 count: 21\n",
      "13->3->13->3->13->3->13->3->13->3 count: 19\n",
      "3->3->3->3->3->3->3->3->3->3 count: 17\n"
     ]
    }
   ],
   "source": [
    "for i in range(5):\n",
    "    print(sub_trace_df.iloc[i][0], 'count:', sub_trace_df.iloc[i][1])"
   ]
  },
  {
   "cell_type": "code",
   "execution_count": 33,
   "metadata": {},
   "outputs": [
    {
     "name": "stdout",
     "output_type": "stream",
     "text": [
      "                                   Sub-Trace  Count\n",
      "2863  21->21->21->21->21->21->21->21->21->21     38\n",
      "2146            3->3->3->3->3->3->3->3->3->3     26\n",
      "186        3->13->3->13->3->13->3->13->3->13     21\n",
      "185        13->3->13->3->13->3->13->3->13->3     19\n",
      "2407  11->11->11->11->11->11->11->11->11->11     16\n",
      "2925            4->4->4->4->4->4->4->4->4->4      8\n",
      "2983  17->17->17->17->17->17->17->17->17->17      8\n",
      "979   20->15->20->15->20->15->20->15->20->15      7\n",
      "980   15->20->15->20->15->20->15->20->15->20      7\n",
      "2140            3->3->6->3->3->3->3->3->3->3      5\n"
     ]
    }
   ],
   "source": [
    "from collections import Counter\n",
    "\n",
    "def get_sub_traces(trace, window_size):\n",
    "    \"\"\"Extracts sub-traces of a given window size from a full trace.\"\"\"\n",
    "    return ['->'.join(trace[i:i+window_size]) for i in range(len(trace) - window_size + 1)]\n",
    "\n",
    "# Extract unique variants (trace paths)\n",
    "from pm4py.algo.filtering.log.variants import variants_filter\n",
    "variants = variants_filter.get_variants(event_log_filtered)\n",
    "# print('variants', variants)\n",
    "\n",
    "# Convert traces from tuples to lists\n",
    "trace_list = [list(trace) for trace in variants.keys()]\n",
    "# print('trace_list', trace_list)\n",
    "\n",
    "# Extract all sub-traces\n",
    "window_size = 10 # Adjust window size as needed\n",
    "all_sub_traces = [sub_trace for trace in trace_list for sub_trace in get_sub_traces(trace, window_size)]\n",
    "# print('all_sub_traces', all_sub_traces)\n",
    "\n",
    "# Count frequency of sub-traces\n",
    "sub_trace_counts = Counter(all_sub_traces)\n",
    "\n",
    "# Convert to DataFrame for sorting\n",
    "import pandas as pd\n",
    "sub_trace_df_filtered = pd.DataFrame(sub_trace_counts.items(), columns=['Sub-Trace', 'Count'])\n",
    "sub_trace_df_filtered = sub_trace_df_filtered.sort_values(by='Count', ascending=False)\n",
    "\n",
    "print(sub_trace_df_filtered.head(10))  # Show most common sub-traces\n"
   ]
  },
  {
   "cell_type": "code",
   "execution_count": 34,
   "metadata": {},
   "outputs": [
    {
     "name": "stdout",
     "output_type": "stream",
     "text": [
      "21->21->21->21->21->21->21->21->21->21 count: 38\n",
      "3->3->3->3->3->3->3->3->3->3 count: 26\n",
      "3->13->3->13->3->13->3->13->3->13 count: 21\n",
      "13->3->13->3->13->3->13->3->13->3 count: 19\n",
      "11->11->11->11->11->11->11->11->11->11 count: 16\n"
     ]
    }
   ],
   "source": [
    "for i in range(5):\n",
    "    print(sub_trace_df_filtered.iloc[i][0], 'count:', sub_trace_df_filtered.iloc[i][1])"
   ]
  },
  {
   "cell_type": "code",
   "execution_count": 35,
   "metadata": {},
   "outputs": [
    {
     "data": {
      "text/html": [
       "<div>\n",
       "<style scoped>\n",
       "    .dataframe tbody tr th:only-of-type {\n",
       "        vertical-align: middle;\n",
       "    }\n",
       "\n",
       "    .dataframe tbody tr th {\n",
       "        vertical-align: top;\n",
       "    }\n",
       "\n",
       "    .dataframe thead th {\n",
       "        text-align: right;\n",
       "    }\n",
       "</style>\n",
       "<table border=\"1\" class=\"dataframe\">\n",
       "  <thead>\n",
       "    <tr style=\"text-align: right;\">\n",
       "      <th></th>\n",
       "      <th>Sub-Trace</th>\n",
       "      <th>Count</th>\n",
       "    </tr>\n",
       "  </thead>\n",
       "  <tbody>\n",
       "    <tr>\n",
       "      <th>29</th>\n",
       "      <td>1-&gt;1-&gt;1-&gt;1-&gt;1-&gt;1-&gt;1-&gt;1-&gt;1-&gt;1</td>\n",
       "      <td>130</td>\n",
       "    </tr>\n",
       "    <tr>\n",
       "      <th>3842</th>\n",
       "      <td>21-&gt;21-&gt;21-&gt;21-&gt;21-&gt;21-&gt;21-&gt;21-&gt;21-&gt;21</td>\n",
       "      <td>37</td>\n",
       "    </tr>\n",
       "    <tr>\n",
       "      <th>248</th>\n",
       "      <td>3-&gt;13-&gt;3-&gt;13-&gt;3-&gt;13-&gt;3-&gt;13-&gt;3-&gt;13</td>\n",
       "      <td>21</td>\n",
       "    </tr>\n",
       "    <tr>\n",
       "      <th>247</th>\n",
       "      <td>13-&gt;3-&gt;13-&gt;3-&gt;13-&gt;3-&gt;13-&gt;3-&gt;13-&gt;3</td>\n",
       "      <td>19</td>\n",
       "    </tr>\n",
       "    <tr>\n",
       "      <th>2914</th>\n",
       "      <td>3-&gt;3-&gt;3-&gt;3-&gt;3-&gt;3-&gt;3-&gt;3-&gt;3-&gt;3</td>\n",
       "      <td>17</td>\n",
       "    </tr>\n",
       "    <tr>\n",
       "      <th>...</th>\n",
       "      <td>...</td>\n",
       "      <td>...</td>\n",
       "    </tr>\n",
       "    <tr>\n",
       "      <th>2716</th>\n",
       "      <td>20-&gt;14-&gt;12-&gt;13-&gt;1-&gt;15-&gt;20-&gt;13-&gt;20-&gt;15</td>\n",
       "      <td>1</td>\n",
       "    </tr>\n",
       "    <tr>\n",
       "      <th>2715</th>\n",
       "      <td>26-&gt;20-&gt;14-&gt;12-&gt;13-&gt;1-&gt;15-&gt;20-&gt;13-&gt;20</td>\n",
       "      <td>1</td>\n",
       "    </tr>\n",
       "    <tr>\n",
       "      <th>2714</th>\n",
       "      <td>13-&gt;26-&gt;20-&gt;14-&gt;12-&gt;13-&gt;1-&gt;15-&gt;20-&gt;13</td>\n",
       "      <td>1</td>\n",
       "    </tr>\n",
       "    <tr>\n",
       "      <th>2713</th>\n",
       "      <td>20-&gt;13-&gt;26-&gt;20-&gt;14-&gt;12-&gt;13-&gt;1-&gt;15-&gt;20</td>\n",
       "      <td>1</td>\n",
       "    </tr>\n",
       "    <tr>\n",
       "      <th>8073</th>\n",
       "      <td>13-&gt;11-&gt;11-&gt;18-&gt;3-&gt;13-&gt;3-&gt;13-&gt;10-&gt;8</td>\n",
       "      <td>1</td>\n",
       "    </tr>\n",
       "  </tbody>\n",
       "</table>\n",
       "<p>8074 rows × 2 columns</p>\n",
       "</div>"
      ],
      "text/plain": [
       "                                   Sub-Trace  Count\n",
       "29              1->1->1->1->1->1->1->1->1->1    130\n",
       "3842  21->21->21->21->21->21->21->21->21->21     37\n",
       "248        3->13->3->13->3->13->3->13->3->13     21\n",
       "247        13->3->13->3->13->3->13->3->13->3     19\n",
       "2914            3->3->3->3->3->3->3->3->3->3     17\n",
       "...                                      ...    ...\n",
       "2716   20->14->12->13->1->15->20->13->20->15      1\n",
       "2715   26->20->14->12->13->1->15->20->13->20      1\n",
       "2714   13->26->20->14->12->13->1->15->20->13      1\n",
       "2713   20->13->26->20->14->12->13->1->15->20      1\n",
       "8073     13->11->11->18->3->13->3->13->10->8      1\n",
       "\n",
       "[8074 rows x 2 columns]"
      ]
     },
     "execution_count": 35,
     "metadata": {},
     "output_type": "execute_result"
    }
   ],
   "source": [
    "sub_trace_df"
   ]
  },
  {
   "cell_type": "code",
   "execution_count": 36,
   "metadata": {},
   "outputs": [
    {
     "name": "stdout",
     "output_type": "stream",
     "text": [
      "1->1->1->1->1->1->1->1->1->1 count: 130\n",
      "21->21->21->21->21->21->21->21->21->21 count: 37\n",
      "3->13->3->13->3->13->3->13->3->13 count: 21\n",
      "13->3->13->3->13->3->13->3->13->3 count: 19\n",
      "3->3->3->3->3->3->3->3->3->3 count: 17\n"
     ]
    }
   ],
   "source": [
    "for i in range(5):\n",
    "    print(sub_trace_df.iloc[i][0], 'count:', sub_trace_df.iloc[i][1])"
   ]
  },
  {
   "cell_type": "code",
   "execution_count": 37,
   "metadata": {},
   "outputs": [
    {
     "data": {
      "text/html": [
       "<div>\n",
       "<style scoped>\n",
       "    .dataframe tbody tr th:only-of-type {\n",
       "        vertical-align: middle;\n",
       "    }\n",
       "\n",
       "    .dataframe tbody tr th {\n",
       "        vertical-align: top;\n",
       "    }\n",
       "\n",
       "    .dataframe thead th {\n",
       "        text-align: right;\n",
       "    }\n",
       "</style>\n",
       "<table border=\"1\" class=\"dataframe\">\n",
       "  <thead>\n",
       "    <tr style=\"text-align: right;\">\n",
       "      <th></th>\n",
       "      <th>Sub-Trace</th>\n",
       "      <th>Count</th>\n",
       "    </tr>\n",
       "  </thead>\n",
       "  <tbody>\n",
       "    <tr>\n",
       "      <th>29</th>\n",
       "      <td>1-&gt;1-&gt;1-&gt;1-&gt;1-&gt;1-&gt;1-&gt;1-&gt;1-&gt;1</td>\n",
       "      <td>130</td>\n",
       "    </tr>\n",
       "    <tr>\n",
       "      <th>3842</th>\n",
       "      <td>21-&gt;21-&gt;21-&gt;21-&gt;21-&gt;21-&gt;21-&gt;21-&gt;21-&gt;21</td>\n",
       "      <td>37</td>\n",
       "    </tr>\n",
       "    <tr>\n",
       "      <th>248</th>\n",
       "      <td>3-&gt;13-&gt;3-&gt;13-&gt;3-&gt;13-&gt;3-&gt;13-&gt;3-&gt;13</td>\n",
       "      <td>21</td>\n",
       "    </tr>\n",
       "    <tr>\n",
       "      <th>247</th>\n",
       "      <td>13-&gt;3-&gt;13-&gt;3-&gt;13-&gt;3-&gt;13-&gt;3-&gt;13-&gt;3</td>\n",
       "      <td>19</td>\n",
       "    </tr>\n",
       "    <tr>\n",
       "      <th>2914</th>\n",
       "      <td>3-&gt;3-&gt;3-&gt;3-&gt;3-&gt;3-&gt;3-&gt;3-&gt;3-&gt;3</td>\n",
       "      <td>17</td>\n",
       "    </tr>\n",
       "    <tr>\n",
       "      <th>...</th>\n",
       "      <td>...</td>\n",
       "      <td>...</td>\n",
       "    </tr>\n",
       "    <tr>\n",
       "      <th>2716</th>\n",
       "      <td>20-&gt;14-&gt;12-&gt;13-&gt;1-&gt;15-&gt;20-&gt;13-&gt;20-&gt;15</td>\n",
       "      <td>1</td>\n",
       "    </tr>\n",
       "    <tr>\n",
       "      <th>2715</th>\n",
       "      <td>26-&gt;20-&gt;14-&gt;12-&gt;13-&gt;1-&gt;15-&gt;20-&gt;13-&gt;20</td>\n",
       "      <td>1</td>\n",
       "    </tr>\n",
       "    <tr>\n",
       "      <th>2714</th>\n",
       "      <td>13-&gt;26-&gt;20-&gt;14-&gt;12-&gt;13-&gt;1-&gt;15-&gt;20-&gt;13</td>\n",
       "      <td>1</td>\n",
       "    </tr>\n",
       "    <tr>\n",
       "      <th>2713</th>\n",
       "      <td>20-&gt;13-&gt;26-&gt;20-&gt;14-&gt;12-&gt;13-&gt;1-&gt;15-&gt;20</td>\n",
       "      <td>1</td>\n",
       "    </tr>\n",
       "    <tr>\n",
       "      <th>8073</th>\n",
       "      <td>13-&gt;11-&gt;11-&gt;18-&gt;3-&gt;13-&gt;3-&gt;13-&gt;10-&gt;8</td>\n",
       "      <td>1</td>\n",
       "    </tr>\n",
       "  </tbody>\n",
       "</table>\n",
       "<p>8074 rows × 2 columns</p>\n",
       "</div>"
      ],
      "text/plain": [
       "                                   Sub-Trace  Count\n",
       "29              1->1->1->1->1->1->1->1->1->1    130\n",
       "3842  21->21->21->21->21->21->21->21->21->21     37\n",
       "248        3->13->3->13->3->13->3->13->3->13     21\n",
       "247        13->3->13->3->13->3->13->3->13->3     19\n",
       "2914            3->3->3->3->3->3->3->3->3->3     17\n",
       "...                                      ...    ...\n",
       "2716   20->14->12->13->1->15->20->13->20->15      1\n",
       "2715   26->20->14->12->13->1->15->20->13->20      1\n",
       "2714   13->26->20->14->12->13->1->15->20->13      1\n",
       "2713   20->13->26->20->14->12->13->1->15->20      1\n",
       "8073     13->11->11->18->3->13->3->13->10->8      1\n",
       "\n",
       "[8074 rows x 2 columns]"
      ]
     },
     "execution_count": 37,
     "metadata": {},
     "output_type": "execute_result"
    }
   ],
   "source": [
    "sub_trace_df"
   ]
  },
  {
   "cell_type": "code",
   "execution_count": 38,
   "metadata": {},
   "outputs": [
    {
     "name": "stdout",
     "output_type": "stream",
     "text": [
      "Window Size 2: Diversity Score = 0.0713\n",
      "Window Size 3: Diversity Score = 0.2665\n",
      "Window Size 4: Diversity Score = 0.4967\n",
      "Window Size 5: Diversity Score = 0.6777\n",
      "Window Size 6: Diversity Score = 0.7973\n",
      "Window Size 7: Diversity Score = 0.8677\n",
      "Window Size 8: Diversity Score = 0.9101\n",
      "Window Size 9: Diversity Score = 0.9388\n",
      "Window Size 10: Diversity Score = 0.9573\n",
      "Window Size 11: Diversity Score = 0.9706\n",
      "Window Size 12: Diversity Score = 0.9781\n",
      "Window Size 13: Diversity Score = 0.9827\n",
      "Window Size 14: Diversity Score = 0.9867\n",
      "Window Size 15: Diversity Score = 0.9892\n",
      "Window Size 16: Diversity Score = 0.9907\n",
      "Window Size 17: Diversity Score = 0.9916\n",
      "Window Size 18: Diversity Score = 0.9922\n",
      "Window Size 19: Diversity Score = 0.9928\n"
     ]
    }
   ],
   "source": [
    "def diversity_score(sub_trace_counts):\n",
    "    unique_sub_traces = len(sub_trace_counts)\n",
    "    total_sub_traces = sum(sub_trace_counts.values())\n",
    "    return unique_sub_traces / total_sub_traces  # Ratio of unique sequences\n",
    "\n",
    "for n in range(2, 20):\n",
    "    all_sub_traces = [sub_trace for trace in trace_list for sub_trace in get_sub_traces(trace, n)]\n",
    "    sub_trace_counts = Counter(all_sub_traces)\n",
    "    \n",
    "    score = diversity_score(sub_trace_counts)\n",
    "    print(f\"Window Size {n}: Diversity Score = {score:.4f}\")"
   ]
  },
  {
   "cell_type": "code",
   "execution_count": 39,
   "metadata": {},
   "outputs": [
    {
     "data": {
      "image/png": "[encoded data removed]",
      "text/plain": [
       "<Figure size 640x480 with 1 Axes>"
      ]
     },
     "metadata": {},
     "output_type": "display_data"
    }
   ],
   "source": [
    "import matplotlib.pyplot as plt\n",
    "from collections import Counter\n",
    "\n",
    "# Function to test different window sizes\n",
    "def test_window_sizes(trace_list, max_n=20):\n",
    "    for window_size in range(2, max_n + 1):\n",
    "        all_sub_traces = [sub_trace for trace in trace_list for sub_trace in get_sub_traces(trace, window_size)]\n",
    "        sub_trace_counts = Counter(all_sub_traces)\n",
    "        \n",
    "        # Get top 10 frequent sub-traces\n",
    "        top_counts = sorted(sub_trace_counts.values(), reverse=True)[:10]\n",
    "        \n",
    "        plt.plot(range(1, len(top_counts) + 1), top_counts, label=f'Window Size {window_size}')\n",
    "\n",
    "    plt.xlabel('Rank')\n",
    "    plt.ylabel('Frequency')\n",
    "    plt.title('Sub-trace Frequency Distribution')\n",
    "    plt.legend()\n",
    "    plt.show()\n",
    "\n",
    "test_window_sizes(trace_list)\n"
   ]
  },
  {
   "cell_type": "code",
   "execution_count": 40,
   "metadata": {},
   "outputs": [
    {
     "name": "stdout",
     "output_type": "stream",
     "text": [
      "                                                Trace  Cluster\n",
      "0   11 12 11 11 11 25 23 13 13 20 11 11 20 11 11 1...        0\n",
      "35  11 11 18 4 5 11 11 5 11 11 18 4 4 3 13 13 4 3 ...        0\n",
      "39  11 11 11 11 11 11 11 11 11 11 11 11 13 11 11 1...        0\n",
      "42                     11 11 18 13 3 13 13 3 13 20 15        0\n",
      "44  11 11 11 11 11 11 11 11 11 11 11 11 13 3 13 13...        0\n",
      "..                                                ...      ...\n",
      "51  27 21 14 11 11 28 21 21 21 21 14 6 23 29 6 7 6...        4\n",
      "50  11 11 12 4 4 4 4 4 4 4 4 4 4 4 4 4 4 4 4 4 16 ...        4\n",
      "49  10 8 3 3 3 3 3 3 0 3 0 3 3 3 6 23 6 20 6 20 20...        4\n",
      "83  16 16 21 16 21 16 21 16 16 21 28 26 16 16 16 2...        4\n",
      "65  12 16 15 17 17 17 17 17 17 16 3 15 21 21 17 17...        4\n",
      "\n",
      "[105 rows x 2 columns]\n"
     ]
    }
   ],
   "source": [
    "from sklearn.feature_extraction.text import TfidfVectorizer\n",
    "from sklearn.cluster import KMeans\n",
    "\n",
    "# Convert full traces into \"sentences\" (for NLP processing)\n",
    "trace_sentences = [' '.join(trace) for trace in trace_list]\n",
    "\n",
    "# Apply TF-IDF Vectorization\n",
    "vectorizer = TfidfVectorizer()\n",
    "X = vectorizer.fit_transform(trace_sentences)\n",
    "\n",
    "# Cluster Traces Using K-Means\n",
    "num_clusters = 5  # Change based on your data\n",
    "kmeans = KMeans(n_clusters=num_clusters, random_state=42)\n",
    "trace_clusters = kmeans.fit_predict(X)\n",
    "\n",
    "# Add cluster labels to traces\n",
    "clustered_traces = pd.DataFrame({'Trace': trace_sentences, 'Cluster': trace_clusters})\n",
    "print(clustered_traces.sort_values(by='Cluster'))\n"
   ]
  },
  {
   "cell_type": "code",
   "execution_count": 41,
   "metadata": {},
   "outputs": [
    {
     "data": {
      "image/png": "[encoded data removed]",
      "text/plain": [
       "<Figure size 1000x600 with 1 Axes>"
      ]
     },
     "metadata": {},
     "output_type": "display_data"
    }
   ],
   "source": [
    "import matplotlib.pyplot as plt\n",
    "from sklearn.decomposition import PCA\n",
    "from sklearn.feature_extraction.text import TfidfVectorizer\n",
    "from sklearn.cluster import KMeans\n",
    "\n",
    "# Convert traces to \"sentences\"\n",
    "trace_sentences = [' '.join(trace) for trace in trace_list]\n",
    "\n",
    "# Apply Count Vectorization\n",
    "from sklearn.feature_extraction.text import CountVectorizer\n",
    "vectorizer = CountVectorizer()\n",
    "X = vectorizer.fit_transform(trace_sentences)\n",
    "\n",
    "\n",
    "# Apply TF-IDF\n",
    "vectorizer = TfidfVectorizer()\n",
    "X = vectorizer.fit_transform(trace_sentences)\n",
    "\n",
    "\n",
    "# Apply K-Means clustering\n",
    "num_clusters = 5  # Adjust based on data\n",
    "kmeans = KMeans(n_clusters=num_clusters, random_state=42)\n",
    "clusters = kmeans.fit_predict(X)\n",
    "\n",
    "# Reduce dimensions using PCA\n",
    "pca = PCA(n_components=2)\n",
    "X_pca = pca.fit_transform(X.toarray())\n",
    "\n",
    "# Plot clusters\n",
    "plt.figure(figsize=(10, 6))\n",
    "for i in range(num_clusters):\n",
    "    plt.scatter(X_pca[clusters == i, 0], X_pca[clusters == i, 1], label=f'Cluster {i}')\n",
    "\n",
    "plt.scatter(kmeans.cluster_centers_[:, 0], kmeans.cluster_centers_[:, 1], \n",
    "            s=200, c='red', marker='X', label='Centroids')\n",
    "\n",
    "plt.xlabel('PCA Component 1')\n",
    "plt.ylabel('PCA Component 2')\n",
    "plt.title('K-Means Clustering of Patient Journeys')\n",
    "plt.legend()\n",
    "plt.show()"
   ]
  },
  {
   "cell_type": "code",
   "execution_count": 42,
   "metadata": {},
   "outputs": [
    {
     "data": {
      "image/png": "[encoded data removed]",
      "text/plain": [
       "<Figure size 1000x600 with 1 Axes>"
      ]
     },
     "metadata": {},
     "output_type": "display_data"
    }
   ],
   "source": [
    "from sklearn.manifold import TSNE\n",
    "\n",
    "# Reduce dimensions using t-SNE\n",
    "tsne = TSNE(n_components=2, perplexity=30, random_state=42)\n",
    "X_tsne = tsne.fit_transform(X.toarray())\n",
    "\n",
    "# Plot clusters\n",
    "plt.figure(figsize=(10, 6))\n",
    "for i in range(num_clusters):\n",
    "    plt.scatter(X_tsne[clusters == i, 0], X_tsne[clusters == i, 1], label=f'Cluster {i}')\n",
    "\n",
    "plt.xlabel('t-SNE Component 1')\n",
    "plt.ylabel('t-SNE Component 2')\n",
    "plt.title('t-SNE Visualization of K-Means Clustering')\n",
    "plt.legend()\n",
    "plt.show()\n"
   ]
  },
  {
   "cell_type": "code",
   "execution_count": 43,
   "metadata": {},
   "outputs": [
    {
     "data": {
      "application/vnd.plotly.v1+json": {
       "config": {
        "plotlyServerURL": "https://plot.ly"
       },
       "data": [
        {
         "link": {
          "source": [
           0,
           0,
           0,
           0,
           0
          ],
          "target": [
           1,
           2,
           3,
           4,
           5,
           6,
           7,
           8,
           9,
           10,
           11,
           12,
           13,
           14,
           15,
           16,
           17,
           18,
           19,
           20,
           21,
           22,
           23,
           24,
           25,
           26,
           27,
           28,
           29,
           30,
           31,
           32
          ],
          "value": [
           1,
           1,
           1,
           1,
           1
          ]
         },
         "node": {
          "label": [
           "Start",
           "Step 1",
           "Step 2",
           "Step 3",
           "Step 4",
           "Step 5",
           "Step 6",
           "Step 7",
           "Step 8",
           "Step 9",
           "Step 10",
           "Step 11",
           "Step 12",
           "Step 13",
           "Step 14",
           "Step 15",
           "Step 16",
           "Step 17",
           "Step 18",
           "Step 19",
           "Step 20",
           "Step 21",
           "Step 22",
           "Step 23",
           "Step 24",
           "Step 25",
           "Step 26",
           "Step 27",
           "Step 28",
           "Step 29",
           "Step 30",
           "Step 31",
           "Step 32"
          ],
          "pad": 15,
          "thickness": 20
         },
         "type": "sankey"
        },
        {
         "link": {
          "source": [
           0,
           0,
           0,
           0,
           0
          ],
          "target": [
           1,
           2,
           3,
           4,
           5,
           6,
           7,
           8,
           9,
           10,
           11,
           12,
           13,
           14
          ],
          "value": [
           1,
           1,
           1,
           1,
           1
          ]
         },
         "node": {
          "label": [
           "Start",
           "Step 1",
           "Step 2",
           "Step 3",
           "Step 4",
           "Step 5",
           "Step 6",
           "Step 7",
           "Step 8",
           "Step 9",
           "Step 10",
           "Step 11",
           "Step 12",
           "Step 13",
           "Step 14"
          ],
          "pad": 15,
          "thickness": 20
         },
         "type": "sankey"
        },
        {
         "link": {
          "source": [
           0,
           0,
           0,
           0,
           0
          ],
          "target": [
           1,
           2,
           3,
           4,
           5,
           6,
           7,
           8,
           9,
           10,
           11,
           12,
           13,
           14,
           15,
           16,
           17,
           18,
           19,
           20,
           21,
           22,
           23,
           24,
           25,
           26,
           27,
           28,
           29,
           30,
           31,
           32,
           33,
           34,
           35,
           36,
           37,
           38,
           39,
           40
          ],
          "value": [
           1,
           1,
           1,
           1,
           1
          ]
         },
         "node": {
          "label": [
           "Start",
           "Step 1",
           "Step 2",
           "Step 3",
           "Step 4",
           "Step 5",
           "Step 6",
           "Step 7",
           "Step 8",
           "Step 9",
           "Step 10",
           "Step 11",
           "Step 12",
           "Step 13",
           "Step 14",
           "Step 15",
           "Step 16",
           "Step 17",
           "Step 18",
           "Step 19",
           "Step 20",
           "Step 21",
           "Step 22",
           "Step 23",
           "Step 24",
           "Step 25",
           "Step 26",
           "Step 27",
           "Step 28",
           "Step 29",
           "Step 30",
           "Step 31",
           "Step 32",
           "Step 33",
           "Step 34",
           "Step 35",
           "Step 36",
           "Step 37",
           "Step 38",
           "Step 39",
           "Step 40"
          ],
          "pad": 15,
          "thickness": 20
         },
         "type": "sankey"
        },
        {
         "link": {
          "source": [
           0,
           0,
           0,
           0,
           0
          ],
          "target": [
           1,
           2,
           3,
           4,
           5,
           6,
           7,
           8,
           9,
           10,
           11,
           12,
           13,
           14,
           15,
           16,
           17,
           18,
           19,
           20,
           21,
           22,
           23,
           24,
           25,
           26,
           27,
           28,
           29,
           30,
           31,
           32,
           33,
           34,
           35,
           36,
           37,
           38,
           39,
           40,
           41,
           42,
           43,
           44,
           45,
           46,
           47,
           48,
           49,
           50,
           51,
           52,
           53,
           54,
           55,
           56,
           57,
           58,
           59,
           60,
           61,
           62,
           63,
           64,
           65,
           66,
           67,
           68,
           69,
           70,
           71,
           72,
           73,
           74,
           75,
           76,
           77,
           78,
           79,
           80,
           81,
           82,
           83,
           84,
           85,
           86,
           87,
           88,
           89,
           90,
           91,
           92,
           93
          ],
          "value": [
           1,
           1,
           1,
           1,
           1
          ]
         },
         "node": {
          "label": [
           "Start",
           "Step 1",
           "Step 2",
           "Step 3",
           "Step 4",
           "Step 5",
           "Step 6",
           "Step 7",
           "Step 8",
           "Step 9",
           "Step 10",
           "Step 11",
           "Step 12",
           "Step 13",
           "Step 14",
           "Step 15",
           "Step 16",
           "Step 17",
           "Step 18",
           "Step 19",
           "Step 20",
           "Step 21",
           "Step 22",
           "Step 23",
           "Step 24",
           "Step 25",
           "Step 26",
           "Step 27",
           "Step 28",
           "Step 29",
           "Step 30",
           "Step 31",
           "Step 32",
           "Step 33",
           "Step 34",
           "Step 35",
           "Step 36",
           "Step 37",
           "Step 38",
           "Step 39",
           "Step 40",
           "Step 41",
           "Step 42",
           "Step 43",
           "Step 44",
           "Step 45",
           "Step 46",
           "Step 47",
           "Step 48",
           "Step 49",
           "Step 50",
           "Step 51",
           "Step 52",
           "Step 53",
           "Step 54",
           "Step 55",
           "Step 56",
           "Step 57",
           "Step 58",
           "Step 59",
           "Step 60",
           "Step 61",
           "Step 62",
           "Step 63",
           "Step 64",
           "Step 65",
           "Step 66",
           "Step 67",
           "Step 68",
           "Step 69",
           "Step 70",
           "Step 71",
           "Step 72",
           "Step 73",
           "Step 74",
           "Step 75",
           "Step 76",
           "Step 77",
           "Step 78",
           "Step 79",
           "Step 80",
           "Step 81",
           "Step 82",
           "Step 83",
           "Step 84",
           "Step 85",
           "Step 86",
           "Step 87",
           "Step 88",
           "Step 89",
           "Step 90",
           "Step 91",
           "Step 92",
           "Step 93"
          ],
          "pad": 15,
          "thickness": 20
         },
         "type": "sankey"
        },
        {
         "link": {
          "source": [
           0,
           0,
           0,
           0,
           0
          ],
          "target": [
           1,
           2,
           3,
           4,
           5,
           6,
           7,
           8,
           9,
           10,
           11,
           12,
           13,
           14,
           15,
           16,
           17,
           18,
           19,
           20,
           21,
           22,
           23,
           24,
           25,
           26,
           27
          ],
          "value": [
           1,
           1,
           1,
           1,
           1
          ]
         },
         "node": {
          "label": [
           "Start",
           "Step 1",
           "Step 2",
           "Step 3",
           "Step 4",
           "Step 5",
           "Step 6",
           "Step 7",
           "Step 8",
           "Step 9",
           "Step 10",
           "Step 11",
           "Step 12",
           "Step 13",
           "Step 14",
           "Step 15",
           "Step 16",
           "Step 17",
           "Step 18",
           "Step 19",
           "Step 20",
           "Step 21",
           "Step 22",
           "Step 23",
           "Step 24",
           "Step 25",
           "Step 26",
           "Step 27"
          ],
          "pad": 15,
          "thickness": 20
         },
         "type": "sankey"
        }
       ],
       "layout": {
        "template": {
         "data": {
          "bar": [
           {
            "error_x": {
             "color": "#2a3f5f"
            },
            "error_y": {
             "color": "#2a3f5f"
            },
            "marker": {
             "line": {
              "color": "#E5ECF6",
              "width": 0.5
             },
             "pattern": {
              "fillmode": "overlay",
              "size": 10,
              "solidity": 0.2
             }
            },
            "type": "bar"
           }
          ],
          "barpolar": [
           {
            "marker": {
             "line": {
              "color": "#E5ECF6",
              "width": 0.5
             },
             "pattern": {
              "fillmode": "overlay",
              "size": 10,
              "solidity": 0.2
             }
            },
            "type": "barpolar"
           }
          ],
          "carpet": [
           {
            "aaxis": {
             "endlinecolor": "#2a3f5f",
             "gridcolor": "white",
             "linecolor": "white",
             "minorgridcolor": "white",
             "startlinecolor": "#2a3f5f"
            },
            "baxis": {
             "endlinecolor": "#2a3f5f",
             "gridcolor": "white",
             "linecolor": "white",
             "minorgridcolor": "white",
             "startlinecolor": "#2a3f5f"
            },
            "type": "carpet"
           }
          ],
          "choropleth": [
           {
            "colorbar": {
             "outlinewidth": 0,
             "ticks": ""
            },
            "type": "choropleth"
           }
          ],
          "contour": [
           {
            "colorbar": {
             "outlinewidth": 0,
             "ticks": ""
            },
            "colorscale": [
             [
              0,
              "#0d0887"
             ],
             [
              0.1111111111111111,
              "#46039f"
             ],
             [
              0.2222222222222222,
              "#7201a8"
             ],
             [
              0.3333333333333333,
              "#9c179e"
             ],
             [
              0.4444444444444444,
              "#bd3786"
             ],
             [
              0.5555555555555556,
              "#d8576b"
             ],
             [
              0.6666666666666666,
              "#ed7953"
             ],
             [
              0.7777777777777778,
              "#fb9f3a"
             ],
             [
              0.8888888888888888,
              "#fdca26"
             ],
             [
              1,
              "#f0f921"
             ]
            ],
            "type": "contour"
           }
          ],
          "contourcarpet": [
           {
            "colorbar": {
             "outlinewidth": 0,
             "ticks": ""
            },
            "type": "contourcarpet"
           }
          ],
          "heatmap": [
           {
            "colorbar": {
             "outlinewidth": 0,
             "ticks": ""
            },
            "colorscale": [
             [
              0,
              "#0d0887"
             ],
             [
              0.1111111111111111,
              "#46039f"
             ],
             [
              0.2222222222222222,
              "#7201a8"
             ],
             [
              0.3333333333333333,
              "#9c179e"
             ],
             [
              0.4444444444444444,
              "#bd3786"
             ],
             [
              0.5555555555555556,
              "#d8576b"
             ],
             [
              0.6666666666666666,
              "#ed7953"
             ],
             [
              0.7777777777777778,
              "#fb9f3a"
             ],
             [
              0.8888888888888888,
              "#fdca26"
             ],
             [
              1,
              "#f0f921"
             ]
            ],
            "type": "heatmap"
           }
          ],
          "histogram": [
           {
            "marker": {
             "pattern": {
              "fillmode": "overlay",
              "size": 10,
              "solidity": 0.2
             }
            },
            "type": "histogram"
           }
          ],
          "histogram2d": [
           {
            "colorbar": {
             "outlinewidth": 0,
             "ticks": ""
            },
            "colorscale": [
             [
              0,
              "#0d0887"
             ],
             [
              0.1111111111111111,
              "#46039f"
             ],
             [
              0.2222222222222222,
              "#7201a8"
             ],
             [
              0.3333333333333333,
              "#9c179e"
             ],
             [
              0.4444444444444444,
              "#bd3786"
             ],
             [
              0.5555555555555556,
              "#d8576b"
             ],
             [
              0.6666666666666666,
              "#ed7953"
             ],
             [
              0.7777777777777778,
              "#fb9f3a"
             ],
             [
              0.8888888888888888,
              "#fdca26"
             ],
             [
              1,
              "#f0f921"
             ]
            ],
            "type": "histogram2d"
           }
          ],
          "histogram2dcontour": [
           {
            "colorbar": {
             "outlinewidth": 0,
             "ticks": ""
            },
            "colorscale": [
             [
              0,
              "#0d0887"
             ],
             [
              0.1111111111111111,
              "#46039f"
             ],
             [
              0.2222222222222222,
              "#7201a8"
             ],
             [
              0.3333333333333333,
              "#9c179e"
             ],
             [
              0.4444444444444444,
              "#bd3786"
             ],
             [
              0.5555555555555556,
              "#d8576b"
             ],
             [
              0.6666666666666666,
              "#ed7953"
             ],
             [
              0.7777777777777778,
              "#fb9f3a"
             ],
             [
              0.8888888888888888,
              "#fdca26"
             ],
             [
              1,
              "#f0f921"
             ]
            ],
            "type": "histogram2dcontour"
           }
          ],
          "mesh3d": [
           {
            "colorbar": {
             "outlinewidth": 0,
             "ticks": ""
            },
            "type": "mesh3d"
           }
          ],
          "parcoords": [
           {
            "line": {
             "colorbar": {
              "outlinewidth": 0,
              "ticks": ""
             }
            },
            "type": "parcoords"
           }
          ],
          "pie": [
           {
            "automargin": true,
            "type": "pie"
           }
          ],
          "scatter": [
           {
            "fillpattern": {
             "fillmode": "overlay",
             "size": 10,
             "solidity": 0.2
            },
            "type": "scatter"
           }
          ],
          "scatter3d": [
           {
            "line": {
             "colorbar": {
              "outlinewidth": 0,
              "ticks": ""
             }
            },
            "marker": {
             "colorbar": {
              "outlinewidth": 0,
              "ticks": ""
             }
            },
            "type": "scatter3d"
           }
          ],
          "scattercarpet": [
           {
            "marker": {
             "colorbar": {
              "outlinewidth": 0,
              "ticks": ""
             }
            },
            "type": "scattercarpet"
           }
          ],
          "scattergeo": [
           {
            "marker": {
             "colorbar": {
              "outlinewidth": 0,
              "ticks": ""
             }
            },
            "type": "scattergeo"
           }
          ],
          "scattergl": [
           {
            "marker": {
             "colorbar": {
              "outlinewidth": 0,
              "ticks": ""
             }
            },
            "type": "scattergl"
           }
          ],
          "scattermap": [
           {
            "marker": {
             "colorbar": {
              "outlinewidth": 0,
              "ticks": ""
             }
            },
            "type": "scattermap"
           }
          ],
          "scattermapbox": [
           {
            "marker": {
             "colorbar": {
              "outlinewidth": 0,
              "ticks": ""
             }
            },
            "type": "scattermapbox"
           }
          ],
          "scatterpolar": [
           {
            "marker": {
             "colorbar": {
              "outlinewidth": 0,
              "ticks": ""
             }
            },
            "type": "scatterpolar"
           }
          ],
          "scatterpolargl": [
           {
            "marker": {
             "colorbar": {
              "outlinewidth": 0,
              "ticks": ""
             }
            },
            "type": "scatterpolargl"
           }
          ],
          "scatterternary": [
           {
            "marker": {
             "colorbar": {
              "outlinewidth": 0,
              "ticks": ""
             }
            },
            "type": "scatterternary"
           }
          ],
          "surface": [
           {
            "colorbar": {
             "outlinewidth": 0,
             "ticks": ""
            },
            "colorscale": [
             [
              0,
              "#0d0887"
             ],
             [
              0.1111111111111111,
              "#46039f"
             ],
             [
              0.2222222222222222,
              "#7201a8"
             ],
             [
              0.3333333333333333,
              "#9c179e"
             ],
             [
              0.4444444444444444,
              "#bd3786"
             ],
             [
              0.5555555555555556,
              "#d8576b"
             ],
             [
              0.6666666666666666,
              "#ed7953"
             ],
             [
              0.7777777777777778,
              "#fb9f3a"
             ],
             [
              0.8888888888888888,
              "#fdca26"
             ],
             [
              1,
              "#f0f921"
             ]
            ],
            "type": "surface"
           }
          ],
          "table": [
           {
            "cells": {
             "fill": {
              "color": "#EBF0F8"
             },
             "line": {
              "color": "white"
             }
            },
            "header": {
             "fill": {
              "color": "#C8D4E3"
             },
             "line": {
              "color": "white"
             }
            },
            "type": "table"
           }
          ]
         },
         "layout": {
          "annotationdefaults": {
           "arrowcolor": "#2a3f5f",
           "arrowhead": 0,
           "arrowwidth": 1
          },
          "autotypenumbers": "strict",
          "coloraxis": {
           "colorbar": {
            "outlinewidth": 0,
            "ticks": ""
           }
          },
          "colorscale": {
           "diverging": [
            [
             0,
             "#8e0152"
            ],
            [
             0.1,
             "#c51b7d"
            ],
            [
             0.2,
             "#de77ae"
            ],
            [
             0.3,
             "#f1b6da"
            ],
            [
             0.4,
             "#fde0ef"
            ],
            [
             0.5,
             "#f7f7f7"
            ],
            [
             0.6,
             "#e6f5d0"
            ],
            [
             0.7,
             "#b8e186"
            ],
            [
             0.8,
             "#7fbc41"
            ],
            [
             0.9,
             "#4d9221"
            ],
            [
             1,
             "#276419"
            ]
           ],
           "sequential": [
            [
             0,
             "#0d0887"
            ],
            [
             0.1111111111111111,
             "#46039f"
            ],
            [
             0.2222222222222222,
             "#7201a8"
            ],
            [
             0.3333333333333333,
             "#9c179e"
            ],
            [
             0.4444444444444444,
             "#bd3786"
            ],
            [
             0.5555555555555556,
             "#d8576b"
            ],
            [
             0.6666666666666666,
             "#ed7953"
            ],
            [
             0.7777777777777778,
             "#fb9f3a"
            ],
            [
             0.8888888888888888,
             "#fdca26"
            ],
            [
             1,
             "#f0f921"
            ]
           ],
           "sequentialminus": [
            [
             0,
             "#0d0887"
            ],
            [
             0.1111111111111111,
             "#46039f"
            ],
            [
             0.2222222222222222,
             "#7201a8"
            ],
            [
             0.3333333333333333,
             "#9c179e"
            ],
            [
             0.4444444444444444,
             "#bd3786"
            ],
            [
             0.5555555555555556,
             "#d8576b"
            ],
            [
             0.6666666666666666,
             "#ed7953"
            ],
            [
             0.7777777777777778,
             "#fb9f3a"
            ],
            [
             0.8888888888888888,
             "#fdca26"
            ],
            [
             1,
             "#f0f921"
            ]
           ]
          },
          "colorway": [
           "#636efa",
           "#EF553B",
           "#00cc96",
           "#ab63fa",
           "#FFA15A",
           "#19d3f3",
           "#FF6692",
           "#B6E880",
           "#FF97FF",
           "#FECB52"
          ],
          "font": {
           "color": "#2a3f5f"
          },
          "geo": {
           "bgcolor": "white",
           "lakecolor": "white",
           "landcolor": "#E5ECF6",
           "showlakes": true,
           "showland": true,
           "subunitcolor": "white"
          },
          "hoverlabel": {
           "align": "left"
          },
          "hovermode": "closest",
          "mapbox": {
           "style": "light"
          },
          "paper_bgcolor": "white",
          "plot_bgcolor": "#E5ECF6",
          "polar": {
           "angularaxis": {
            "gridcolor": "white",
            "linecolor": "white",
            "ticks": ""
           },
           "bgcolor": "#E5ECF6",
           "radialaxis": {
            "gridcolor": "white",
            "linecolor": "white",
            "ticks": ""
           }
          },
          "scene": {
           "xaxis": {
            "backgroundcolor": "#E5ECF6",
            "gridcolor": "white",
            "gridwidth": 2,
            "linecolor": "white",
            "showbackground": true,
            "ticks": "",
            "zerolinecolor": "white"
           },
           "yaxis": {
            "backgroundcolor": "#E5ECF6",
            "gridcolor": "white",
            "gridwidth": 2,
            "linecolor": "white",
            "showbackground": true,
            "ticks": "",
            "zerolinecolor": "white"
           },
           "zaxis": {
            "backgroundcolor": "#E5ECF6",
            "gridcolor": "white",
            "gridwidth": 2,
            "linecolor": "white",
            "showbackground": true,
            "ticks": "",
            "zerolinecolor": "white"
           }
          },
          "shapedefaults": {
           "line": {
            "color": "#2a3f5f"
           }
          },
          "ternary": {
           "aaxis": {
            "gridcolor": "white",
            "linecolor": "white",
            "ticks": ""
           },
           "baxis": {
            "gridcolor": "white",
            "linecolor": "white",
            "ticks": ""
           },
           "bgcolor": "#E5ECF6",
           "caxis": {
            "gridcolor": "white",
            "linecolor": "white",
            "ticks": ""
           }
          },
          "title": {
           "x": 0.05
          },
          "xaxis": {
           "automargin": true,
           "gridcolor": "white",
           "linecolor": "white",
           "ticks": "",
           "title": {
            "standoff": 15
           },
           "zerolinecolor": "white",
           "zerolinewidth": 2
          },
          "yaxis": {
           "automargin": true,
           "gridcolor": "white",
           "linecolor": "white",
           "ticks": "",
           "title": {
            "standoff": 15
           },
           "zerolinecolor": "white",
           "zerolinewidth": 2
          }
         }
        },
        "title": {
         "text": "Sankey Diagram of Clustered Patient Journeys"
        }
       }
      }
     },
     "metadata": {},
     "output_type": "display_data"
    }
   ],
   "source": [
    "import plotly.graph_objects as go\n",
    "import numpy as np\n",
    "\n",
    "# Ensure clusters is a NumPy array of integers\n",
    "clusters = np.array(clusters, dtype=int)\n",
    "\n",
    "# Verify the number of clusters\n",
    "num_clusters = len(np.unique(clusters))\n",
    "\n",
    "trace_sentences = np.array(trace_sentences)\n",
    "# print(trace_sentences)\n",
    "\n",
    "# Sample patient journey per cluster\n",
    "sample_traces = {i: trace_sentences[clusters == i][:num_clusters] for i in range(num_clusters)}\n",
    "\n",
    "# Create Sankey diagram\n",
    "fig = go.Figure()\n",
    "for i, (cluster, traces) in enumerate(sample_traces.items()):\n",
    "    fig.add_trace(go.Sankey(\n",
    "        node=dict(\n",
    "            pad=15, thickness=20,\n",
    "            label=['Start'] + [f'Step {j+1}' for j in range(len(traces[0].split()))]\n",
    "        ),\n",
    "        link=dict(\n",
    "            source=[0] * len(traces),\n",
    "            target=list(range(1, len(traces[0].split()) + 1)),\n",
    "            value=[1] * len(traces)\n",
    "        )\n",
    "    ))\n",
    "\n",
    "fig.update_layout(title_text=\"Sankey Diagram of Clustered Patient Journeys\")\n",
    "fig.show()\n"
   ]
  },
  {
   "cell_type": "code",
   "execution_count": 44,
   "metadata": {},
   "outputs": [
    {
     "data": {
      "application/vnd.plotly.v1+json": {
       "config": {
        "plotlyServerURL": "https://plot.ly"
       },
       "data": [
        {
         "link": {
          "source": [
           3,
           4,
           15,
           1,
           6,
           7,
           20,
           19,
           9,
           3,
           1,
           7,
           20,
           19,
           22,
           17,
           12,
           3,
           6,
           7,
           20,
           19,
           9,
           22,
           17,
           18,
           3,
           4,
           15,
           1,
           6,
           7,
           20,
           19,
           9,
           22,
           17,
           3,
           6,
           7,
           20,
           19,
           9,
           22,
           17,
           11,
           10,
           3,
           4,
           1,
           6,
           7,
           20,
           19,
           22,
           3,
           4,
           15,
           7,
           20,
           19,
           9,
           22,
           11,
           18,
           23,
           8,
           10,
           3,
           4,
           6,
           7,
           13,
           20,
           19,
           9,
           22,
           17,
           11,
           21,
           8,
           3,
           4,
           2,
           15,
           1,
           6,
           7,
           13,
           20,
           19,
           22,
           17,
           12,
           5,
           24,
           11,
           18,
           23,
           25,
           3,
           4,
           2,
           15,
           1,
           6,
           7,
           20,
           19,
           9,
           22,
           17,
           11,
           18
          ],
          "target": [
           4,
           15,
           1,
           6,
           7,
           20,
           19,
           9,
           11,
           1,
           7,
           20,
           19,
           22,
           17,
           12,
           18,
           6,
           7,
           20,
           19,
           9,
           22,
           17,
           18,
           0,
           4,
           15,
           1,
           6,
           7,
           20,
           19,
           9,
           22,
           17,
           0,
           6,
           7,
           20,
           19,
           9,
           22,
           17,
           11,
           25,
           3,
           4,
           1,
           6,
           7,
           20,
           19,
           22,
           17,
           4,
           15,
           7,
           20,
           19,
           9,
           22,
           11,
           18,
           23,
           8,
           14,
           3,
           4,
           6,
           7,
           13,
           20,
           19,
           9,
           22,
           17,
           11,
           21,
           8,
           16,
           4,
           2,
           15,
           1,
           6,
           7,
           13,
           20,
           19,
           22,
           17,
           12,
           5,
           24,
           11,
           18,
           23,
           25,
           21,
           4,
           2,
           15,
           1,
           6,
           7,
           20,
           19,
           9,
           22,
           17,
           11,
           18,
           21
          ],
          "value": [
           7,
           3,
           4,
           5,
           8,
           8,
           10,
           7,
           1,
           1,
           1,
           8,
           10,
           3,
           8,
           2,
           1,
           2,
           8,
           8,
           10,
           7,
           6,
           8,
           1,
           1,
           7,
           3,
           4,
           5,
           8,
           8,
           10,
           7,
           6,
           8,
           1,
           2,
           8,
           8,
           10,
           7,
           6,
           8,
           3,
           1,
           2,
           7,
           1,
           5,
           8,
           8,
           10,
           3,
           8,
           7,
           3,
           1,
           8,
           10,
           7,
           6,
           1,
           3,
           2,
           1,
           1,
           2,
           7,
           1,
           8,
           2,
           2,
           10,
           7,
           6,
           8,
           3,
           1,
           1,
           1,
           7,
           2,
           2,
           4,
           5,
           8,
           2,
           2,
           10,
           3,
           8,
           2,
           1,
           1,
           1,
           3,
           2,
           1,
           1,
           7,
           2,
           2,
           4,
           5,
           8,
           8,
           10,
           7,
           6,
           8,
           3,
           3,
           1
          ]
         },
         "node": {
          "label": [
           "30",
           "13",
           "25",
           "1",
           "12",
           "26",
           "20",
           "3",
           "16",
           "7",
           "11",
           "29",
           "15",
           "18",
           "21",
           "23",
           "24",
           "0",
           "2",
           "8",
           "10",
           "19",
           "6",
           "28",
           "14",
           "27"
          ]
         },
         "type": "sankey"
        }
       ],
       "layout": {
        "template": {
         "data": {
          "bar": [
           {
            "error_x": {
             "color": "#2a3f5f"
            },
            "error_y": {
             "color": "#2a3f5f"
            },
            "marker": {
             "line": {
              "color": "#E5ECF6",
              "width": 0.5
             },
             "pattern": {
              "fillmode": "overlay",
              "size": 10,
              "solidity": 0.2
             }
            },
            "type": "bar"
           }
          ],
          "barpolar": [
           {
            "marker": {
             "line": {
              "color": "#E5ECF6",
              "width": 0.5
             },
             "pattern": {
              "fillmode": "overlay",
              "size": 10,
              "solidity": 0.2
             }
            },
            "type": "barpolar"
           }
          ],
          "carpet": [
           {
            "aaxis": {
             "endlinecolor": "#2a3f5f",
             "gridcolor": "white",
             "linecolor": "white",
             "minorgridcolor": "white",
             "startlinecolor": "#2a3f5f"
            },
            "baxis": {
             "endlinecolor": "#2a3f5f",
             "gridcolor": "white",
             "linecolor": "white",
             "minorgridcolor": "white",
             "startlinecolor": "#2a3f5f"
            },
            "type": "carpet"
           }
          ],
          "choropleth": [
           {
            "colorbar": {
             "outlinewidth": 0,
             "ticks": ""
            },
            "type": "choropleth"
           }
          ],
          "contour": [
           {
            "colorbar": {
             "outlinewidth": 0,
             "ticks": ""
            },
            "colorscale": [
             [
              0,
              "#0d0887"
             ],
             [
              0.1111111111111111,
              "#46039f"
             ],
             [
              0.2222222222222222,
              "#7201a8"
             ],
             [
              0.3333333333333333,
              "#9c179e"
             ],
             [
              0.4444444444444444,
              "#bd3786"
             ],
             [
              0.5555555555555556,
              "#d8576b"
             ],
             [
              0.6666666666666666,
              "#ed7953"
             ],
             [
              0.7777777777777778,
              "#fb9f3a"
             ],
             [
              0.8888888888888888,
              "#fdca26"
             ],
             [
              1,
              "#f0f921"
             ]
            ],
            "type": "contour"
           }
          ],
          "contourcarpet": [
           {
            "colorbar": {
             "outlinewidth": 0,
             "ticks": ""
            },
            "type": "contourcarpet"
           }
          ],
          "heatmap": [
           {
            "colorbar": {
             "outlinewidth": 0,
             "ticks": ""
            },
            "colorscale": [
             [
              0,
              "#0d0887"
             ],
             [
              0.1111111111111111,
              "#46039f"
             ],
             [
              0.2222222222222222,
              "#7201a8"
             ],
             [
              0.3333333333333333,
              "#9c179e"
             ],
             [
              0.4444444444444444,
              "#bd3786"
             ],
             [
              0.5555555555555556,
              "#d8576b"
             ],
             [
              0.6666666666666666,
              "#ed7953"
             ],
             [
              0.7777777777777778,
              "#fb9f3a"
             ],
             [
              0.8888888888888888,
              "#fdca26"
             ],
             [
              1,
              "#f0f921"
             ]
            ],
            "type": "heatmap"
           }
          ],
          "histogram": [
           {
            "marker": {
             "pattern": {
              "fillmode": "overlay",
              "size": 10,
              "solidity": 0.2
             }
            },
            "type": "histogram"
           }
          ],
          "histogram2d": [
           {
            "colorbar": {
             "outlinewidth": 0,
             "ticks": ""
            },
            "colorscale": [
             [
              0,
              "#0d0887"
             ],
             [
              0.1111111111111111,
              "#46039f"
             ],
             [
              0.2222222222222222,
              "#7201a8"
             ],
             [
              0.3333333333333333,
              "#9c179e"
             ],
             [
              0.4444444444444444,
              "#bd3786"
             ],
             [
              0.5555555555555556,
              "#d8576b"
             ],
             [
              0.6666666666666666,
              "#ed7953"
             ],
             [
              0.7777777777777778,
              "#fb9f3a"
             ],
             [
              0.8888888888888888,
              "#fdca26"
             ],
             [
              1,
              "#f0f921"
             ]
            ],
            "type": "histogram2d"
           }
          ],
          "histogram2dcontour": [
           {
            "colorbar": {
             "outlinewidth": 0,
             "ticks": ""
            },
            "colorscale": [
             [
              0,
              "#0d0887"
             ],
             [
              0.1111111111111111,
              "#46039f"
             ],
             [
              0.2222222222222222,
              "#7201a8"
             ],
             [
              0.3333333333333333,
              "#9c179e"
             ],
             [
              0.4444444444444444,
              "#bd3786"
             ],
             [
              0.5555555555555556,
              "#d8576b"
             ],
             [
              0.6666666666666666,
              "#ed7953"
             ],
             [
              0.7777777777777778,
              "#fb9f3a"
             ],
             [
              0.8888888888888888,
              "#fdca26"
             ],
             [
              1,
              "#f0f921"
             ]
            ],
            "type": "histogram2dcontour"
           }
          ],
          "mesh3d": [
           {
            "colorbar": {
             "outlinewidth": 0,
             "ticks": ""
            },
            "type": "mesh3d"
           }
          ],
          "parcoords": [
           {
            "line": {
             "colorbar": {
              "outlinewidth": 0,
              "ticks": ""
             }
            },
            "type": "parcoords"
           }
          ],
          "pie": [
           {
            "automargin": true,
            "type": "pie"
           }
          ],
          "scatter": [
           {
            "fillpattern": {
             "fillmode": "overlay",
             "size": 10,
             "solidity": 0.2
            },
            "type": "scatter"
           }
          ],
          "scatter3d": [
           {
            "line": {
             "colorbar": {
              "outlinewidth": 0,
              "ticks": ""
             }
            },
            "marker": {
             "colorbar": {
              "outlinewidth": 0,
              "ticks": ""
             }
            },
            "type": "scatter3d"
           }
          ],
          "scattercarpet": [
           {
            "marker": {
             "colorbar": {
              "outlinewidth": 0,
              "ticks": ""
             }
            },
            "type": "scattercarpet"
           }
          ],
          "scattergeo": [
           {
            "marker": {
             "colorbar": {
              "outlinewidth": 0,
              "ticks": ""
             }
            },
            "type": "scattergeo"
           }
          ],
          "scattergl": [
           {
            "marker": {
             "colorbar": {
              "outlinewidth": 0,
              "ticks": ""
             }
            },
            "type": "scattergl"
           }
          ],
          "scattermap": [
           {
            "marker": {
             "colorbar": {
              "outlinewidth": 0,
              "ticks": ""
             }
            },
            "type": "scattermap"
           }
          ],
          "scattermapbox": [
           {
            "marker": {
             "colorbar": {
              "outlinewidth": 0,
              "ticks": ""
             }
            },
            "type": "scattermapbox"
           }
          ],
          "scatterpolar": [
           {
            "marker": {
             "colorbar": {
              "outlinewidth": 0,
              "ticks": ""
             }
            },
            "type": "scatterpolar"
           }
          ],
          "scatterpolargl": [
           {
            "marker": {
             "colorbar": {
              "outlinewidth": 0,
              "ticks": ""
             }
            },
            "type": "scatterpolargl"
           }
          ],
          "scatterternary": [
           {
            "marker": {
             "colorbar": {
              "outlinewidth": 0,
              "ticks": ""
             }
            },
            "type": "scatterternary"
           }
          ],
          "surface": [
           {
            "colorbar": {
             "outlinewidth": 0,
             "ticks": ""
            },
            "colorscale": [
             [
              0,
              "#0d0887"
             ],
             [
              0.1111111111111111,
              "#46039f"
             ],
             [
              0.2222222222222222,
              "#7201a8"
             ],
             [
              0.3333333333333333,
              "#9c179e"
             ],
             [
              0.4444444444444444,
              "#bd3786"
             ],
             [
              0.5555555555555556,
              "#d8576b"
             ],
             [
              0.6666666666666666,
              "#ed7953"
             ],
             [
              0.7777777777777778,
              "#fb9f3a"
             ],
             [
              0.8888888888888888,
              "#fdca26"
             ],
             [
              1,
              "#f0f921"
             ]
            ],
            "type": "surface"
           }
          ],
          "table": [
           {
            "cells": {
             "fill": {
              "color": "#EBF0F8"
             },
             "line": {
              "color": "white"
             }
            },
            "header": {
             "fill": {
              "color": "#C8D4E3"
             },
             "line": {
              "color": "white"
             }
            },
            "type": "table"
           }
          ]
         },
         "layout": {
          "annotationdefaults": {
           "arrowcolor": "#2a3f5f",
           "arrowhead": 0,
           "arrowwidth": 1
          },
          "autotypenumbers": "strict",
          "coloraxis": {
           "colorbar": {
            "outlinewidth": 0,
            "ticks": ""
           }
          },
          "colorscale": {
           "diverging": [
            [
             0,
             "#8e0152"
            ],
            [
             0.1,
             "#c51b7d"
            ],
            [
             0.2,
             "#de77ae"
            ],
            [
             0.3,
             "#f1b6da"
            ],
            [
             0.4,
             "#fde0ef"
            ],
            [
             0.5,
             "#f7f7f7"
            ],
            [
             0.6,
             "#e6f5d0"
            ],
            [
             0.7,
             "#b8e186"
            ],
            [
             0.8,
             "#7fbc41"
            ],
            [
             0.9,
             "#4d9221"
            ],
            [
             1,
             "#276419"
            ]
           ],
           "sequential": [
            [
             0,
             "#0d0887"
            ],
            [
             0.1111111111111111,
             "#46039f"
            ],
            [
             0.2222222222222222,
             "#7201a8"
            ],
            [
             0.3333333333333333,
             "#9c179e"
            ],
            [
             0.4444444444444444,
             "#bd3786"
            ],
            [
             0.5555555555555556,
             "#d8576b"
            ],
            [
             0.6666666666666666,
             "#ed7953"
            ],
            [
             0.7777777777777778,
             "#fb9f3a"
            ],
            [
             0.8888888888888888,
             "#fdca26"
            ],
            [
             1,
             "#f0f921"
            ]
           ],
           "sequentialminus": [
            [
             0,
             "#0d0887"
            ],
            [
             0.1111111111111111,
             "#46039f"
            ],
            [
             0.2222222222222222,
             "#7201a8"
            ],
            [
             0.3333333333333333,
             "#9c179e"
            ],
            [
             0.4444444444444444,
             "#bd3786"
            ],
            [
             0.5555555555555556,
             "#d8576b"
            ],
            [
             0.6666666666666666,
             "#ed7953"
            ],
            [
             0.7777777777777778,
             "#fb9f3a"
            ],
            [
             0.8888888888888888,
             "#fdca26"
            ],
            [
             1,
             "#f0f921"
            ]
           ]
          },
          "colorway": [
           "#636efa",
           "#EF553B",
           "#00cc96",
           "#ab63fa",
           "#FFA15A",
           "#19d3f3",
           "#FF6692",
           "#B6E880",
           "#FF97FF",
           "#FECB52"
          ],
          "font": {
           "color": "#2a3f5f"
          },
          "geo": {
           "bgcolor": "white",
           "lakecolor": "white",
           "landcolor": "#E5ECF6",
           "showlakes": true,
           "showland": true,
           "subunitcolor": "white"
          },
          "hoverlabel": {
           "align": "left"
          },
          "hovermode": "closest",
          "mapbox": {
           "style": "light"
          },
          "paper_bgcolor": "white",
          "plot_bgcolor": "#E5ECF6",
          "polar": {
           "angularaxis": {
            "gridcolor": "white",
            "linecolor": "white",
            "ticks": ""
           },
           "bgcolor": "#E5ECF6",
           "radialaxis": {
            "gridcolor": "white",
            "linecolor": "white",
            "ticks": ""
           }
          },
          "scene": {
           "xaxis": {
            "backgroundcolor": "#E5ECF6",
            "gridcolor": "white",
            "gridwidth": 2,
            "linecolor": "white",
            "showbackground": true,
            "ticks": "",
            "zerolinecolor": "white"
           },
           "yaxis": {
            "backgroundcolor": "#E5ECF6",
            "gridcolor": "white",
            "gridwidth": 2,
            "linecolor": "white",
            "showbackground": true,
            "ticks": "",
            "zerolinecolor": "white"
           },
           "zaxis": {
            "backgroundcolor": "#E5ECF6",
            "gridcolor": "white",
            "gridwidth": 2,
            "linecolor": "white",
            "showbackground": true,
            "ticks": "",
            "zerolinecolor": "white"
           }
          },
          "shapedefaults": {
           "line": {
            "color": "#2a3f5f"
           }
          },
          "ternary": {
           "aaxis": {
            "gridcolor": "white",
            "linecolor": "white",
            "ticks": ""
           },
           "baxis": {
            "gridcolor": "white",
            "linecolor": "white",
            "ticks": ""
           },
           "bgcolor": "#E5ECF6",
           "caxis": {
            "gridcolor": "white",
            "linecolor": "white",
            "ticks": ""
           }
          },
          "title": {
           "x": 0.05
          },
          "xaxis": {
           "automargin": true,
           "gridcolor": "white",
           "linecolor": "white",
           "ticks": "",
           "title": {
            "standoff": 15
           },
           "zerolinecolor": "white",
           "zerolinewidth": 2
          },
          "yaxis": {
           "automargin": true,
           "gridcolor": "white",
           "linecolor": "white",
           "ticks": "",
           "title": {
            "standoff": 15
           },
           "zerolinecolor": "white",
           "zerolinewidth": 2
          }
         }
        }
       }
      }
     },
     "metadata": {},
     "output_type": "display_data"
    }
   ],
   "source": [
    "import plotly.graph_objects as go\n",
    "from collections import Counter\n",
    "\n",
    "# Step 1: Extract Sequences from event columns\n",
    "event_columns = [col for col in feature_df.columns if 'concept:name' in col]  # Filter for event-related columns\n",
    "sequences = []\n",
    "\n",
    "# For each row in feature_df, extract the sequence of events\n",
    "for _, row in feature_df.iterrows():\n",
    "    events = [col.split('concept:name_')[1] for col in event_columns if row[col] == 1.0]  # Get events with 1.0 value\n",
    "    sequences.append('->'.join(events))  # Join events into a sequence\n",
    "\n",
    "# Step 2: Add sequences to the dataframe (this will be useful for visualization)\n",
    "feature_df['Sequence'] = sequences\n",
    "\n",
    "# Step 3: Get the most common sequence per cluster \n",
    "cluster_sequences = feature_df.groupby(\"Cluster\")[\"Sequence\"].agg(lambda x: x.mode()[0])\n",
    "\n",
    "# Step 4: Count the occurrences of each sequence (for Sankey diagram links)\n",
    "cluster_counts = Counter(cluster_sequences)\n",
    "\n",
    "# Step 5: Prepare data for Sankey diagram (convert sequences into sources and targets)\n",
    "sources, targets = [], []\n",
    "\n",
    "for trace in cluster_sequences.values:\n",
    "    steps = trace.split(\"->\")  # Split sequence into individual steps\n",
    "    for i in range(len(steps) - 1):\n",
    "        sources.append(steps[i])\n",
    "        targets.append(steps[i + 1])\n",
    "\n",
    "# Convert sources and targets to indices (for Sankey diagram nodes)\n",
    "all_nodes = list(set(sources + targets))  # All unique nodes (steps)\n",
    "source_indices = [all_nodes.index(s) for s in sources]\n",
    "target_indices = [all_nodes.index(t) for t in targets]\n",
    "\n",
    "# Step 6: Count the frequency of each link (source -> target pair)\n",
    "link_counts = Counter(zip(sources, targets))\n",
    "values = [link_counts[(source, target)] for source, target in zip(sources, targets)]\n",
    "\n",
    "# Step 7: Create the Sankey diagram\n",
    "fig = go.Figure(go.Sankey(\n",
    "    node=dict(label=all_nodes),\n",
    "    link=dict(source=source_indices, target=target_indices, value=values)\n",
    "))\n",
    "\n",
    "fig.show()"
   ]
  },
  {
   "cell_type": "code",
   "execution_count": null,
   "metadata": {},
   "outputs": [],
   "source": []
  },
  {
   "cell_type": "code",
   "execution_count": 45,
   "metadata": {},
   "outputs": [],
   "source": [
    "df = df_verslagen"
   ]
  },
  {
   "cell_type": "code",
   "execution_count": 46,
   "metadata": {},
   "outputs": [],
   "source": [
    "gib_patients = df[df[\"new_topic_label\"].isin([\n",
    "    \"Rectal_Bleeding_&_Anemia\", \"GI_Ulcer_&_Bleeding\", \"Liver_Cirrhosis_&_Varices\"\n",
    "])][\"pseudo_id\"].unique()\n",
    "\n",
    "gib_df = df[df[\"pseudo_id\"].isin(gib_patients)].copy()\n"
   ]
  },
  {
   "cell_type": "code",
   "execution_count": 47,
   "metadata": {},
   "outputs": [
    {
     "data": {
      "text/html": [
       "<div>\n",
       "<style scoped>\n",
       "    .dataframe tbody tr th:only-of-type {\n",
       "        vertical-align: middle;\n",
       "    }\n",
       "\n",
       "    .dataframe tbody tr th {\n",
       "        vertical-align: top;\n",
       "    }\n",
       "\n",
       "    .dataframe thead th {\n",
       "        text-align: right;\n",
       "    }\n",
       "</style>\n",
       "<table border=\"1\" class=\"dataframe\">\n",
       "  <thead>\n",
       "    <tr style=\"text-align: right;\">\n",
       "      <th></th>\n",
       "      <th>pseudo_id</th>\n",
       "      <th>verslagen_report_tags</th>\n",
       "      <th>verslagen_report_content</th>\n",
       "      <th>verslagen_report_start_date</th>\n",
       "      <th>date</th>\n",
       "      <th>alltext</th>\n",
       "      <th>tokens</th>\n",
       "      <th>text</th>\n",
       "      <th>Topic</th>\n",
       "      <th>Tags</th>\n",
       "      <th>Keywords</th>\n",
       "      <th>new_topic_label</th>\n",
       "      <th>verslagen_report_tags_new_topic_label</th>\n",
       "      <th>event_tag</th>\n",
       "      <th>N_Topic</th>\n",
       "      <th>case:concept:name</th>\n",
       "      <th>concept:name</th>\n",
       "      <th>time:timestamp</th>\n",
       "    </tr>\n",
       "  </thead>\n",
       "  <tbody>\n",
       "  </tbody>\n",
       "</table>\n",
       "</div>"
      ],
      "text/plain": [
       "Empty DataFrame\n",
       "Columns: [pseudo_id, verslagen_report_tags, verslagen_report_content, verslagen_report_start_date, date, alltext, tokens, text, Topic, Tags, Keywords, new_topic_label, verslagen_report_tags_new_topic_label, event_tag, N_Topic, case:concept:name, concept:name, time:timestamp]\n",
       "Index: []"
      ]
     },
     "execution_count": 47,
     "metadata": {},
     "output_type": "execute_result"
    }
   ],
   "source": [
    "gib_df = gib_df.sort_values(by=[\"pseudo_id\", \"date\"])\n",
    "gib_df.head()\n"
   ]
  },
  {
   "cell_type": "code",
   "execution_count": 48,
   "metadata": {},
   "outputs": [
    {
     "name": "stderr",
     "output_type": "stream",
     "text": [
      "C:\\Users\\Y.vanMegen\\AppData\\Local\\Temp\\ipykernel_25404\\3973473494.py:1: FutureWarning:\n",
      "\n",
      "Not prepending group keys to the result index of transform-like apply. In the future, the group keys will be included in the index, regardless of whether the applied function returns a like-indexed object.\n",
      "To preserve the previous behavior, use\n",
      "\n",
      "\t>>> .groupby(..., group_keys=False)\n",
      "\n",
      "To adopt the future behavior and silence this warning, use \n",
      "\n",
      "\t>>> .groupby(..., group_keys=True)\n",
      "\n"
     ]
    },
    {
     "data": {
      "text/plain": [
       "Series([], Name: new_topic_label, dtype: object)"
      ]
     },
     "execution_count": 48,
     "metadata": {},
     "output_type": "execute_result"
    }
   ],
   "source": [
    "patient_paths = gib_df.groupby(\"pseudo_id\")[\"new_topic_label\"].apply(list)\n",
    "patient_paths\n"
   ]
  },
  {
   "cell_type": "code",
   "execution_count": 49,
   "metadata": {},
   "outputs": [
    {
     "data": {
      "text/plain": [
       "Counter()"
      ]
     },
     "execution_count": 49,
     "metadata": {},
     "output_type": "execute_result"
    }
   ],
   "source": [
    "from collections import Counter\n",
    "\n",
    "common_paths = Counter(tuple(seq[:4]) for seq in patient_paths)\n",
    "common_paths\n"
   ]
  },
  {
   "cell_type": "code",
   "execution_count": 50,
   "metadata": {},
   "outputs": [
    {
     "data": {
      "application/vnd.plotly.v1+json": {
       "config": {
        "plotlyServerURL": "https://plot.ly"
       },
       "data": [
        {
         "link": {
          "source": [
           0,
           1,
           0,
           1,
           2,
           3
          ],
          "target": [
           2,
           3,
           4,
           5,
           4,
           5
          ],
          "value": [
           10,
           20,
           30,
           40,
           50,
           60
          ]
         },
         "node": {
          "label": [
           "A1",
           "A2",
           "B1",
           "B2",
           "C1",
           "C2"
          ],
          "line": {
           "color": "black",
           "width": 0.5
          },
          "pad": 15,
          "thickness": 20
         },
         "type": "sankey"
        }
       ],
       "layout": {
        "font": {
         "size": 10
        },
        "template": {
         "data": {
          "bar": [
           {
            "error_x": {
             "color": "#2a3f5f"
            },
            "error_y": {
             "color": "#2a3f5f"
            },
            "marker": {
             "line": {
              "color": "#E5ECF6",
              "width": 0.5
             },
             "pattern": {
              "fillmode": "overlay",
              "size": 10,
              "solidity": 0.2
             }
            },
            "type": "bar"
           }
          ],
          "barpolar": [
           {
            "marker": {
             "line": {
              "color": "#E5ECF6",
              "width": 0.5
             },
             "pattern": {
              "fillmode": "overlay",
              "size": 10,
              "solidity": 0.2
             }
            },
            "type": "barpolar"
           }
          ],
          "carpet": [
           {
            "aaxis": {
             "endlinecolor": "#2a3f5f",
             "gridcolor": "white",
             "linecolor": "white",
             "minorgridcolor": "white",
             "startlinecolor": "#2a3f5f"
            },
            "baxis": {
             "endlinecolor": "#2a3f5f",
             "gridcolor": "white",
             "linecolor": "white",
             "minorgridcolor": "white",
             "startlinecolor": "#2a3f5f"
            },
            "type": "carpet"
           }
          ],
          "choropleth": [
           {
            "colorbar": {
             "outlinewidth": 0,
             "ticks": ""
            },
            "type": "choropleth"
           }
          ],
          "contour": [
           {
            "colorbar": {
             "outlinewidth": 0,
             "ticks": ""
            },
            "colorscale": [
             [
              0,
              "#0d0887"
             ],
             [
              0.1111111111111111,
              "#46039f"
             ],
             [
              0.2222222222222222,
              "#7201a8"
             ],
             [
              0.3333333333333333,
              "#9c179e"
             ],
             [
              0.4444444444444444,
              "#bd3786"
             ],
             [
              0.5555555555555556,
              "#d8576b"
             ],
             [
              0.6666666666666666,
              "#ed7953"
             ],
             [
              0.7777777777777778,
              "#fb9f3a"
             ],
             [
              0.8888888888888888,
              "#fdca26"
             ],
             [
              1,
              "#f0f921"
             ]
            ],
            "type": "contour"
           }
          ],
          "contourcarpet": [
           {
            "colorbar": {
             "outlinewidth": 0,
             "ticks": ""
            },
            "type": "contourcarpet"
           }
          ],
          "heatmap": [
           {
            "colorbar": {
             "outlinewidth": 0,
             "ticks": ""
            },
            "colorscale": [
             [
              0,
              "#0d0887"
             ],
             [
              0.1111111111111111,
              "#46039f"
             ],
             [
              0.2222222222222222,
              "#7201a8"
             ],
             [
              0.3333333333333333,
              "#9c179e"
             ],
             [
              0.4444444444444444,
              "#bd3786"
             ],
             [
              0.5555555555555556,
              "#d8576b"
             ],
             [
              0.6666666666666666,
              "#ed7953"
             ],
             [
              0.7777777777777778,
              "#fb9f3a"
             ],
             [
              0.8888888888888888,
              "#fdca26"
             ],
             [
              1,
              "#f0f921"
             ]
            ],
            "type": "heatmap"
           }
          ],
          "histogram": [
           {
            "marker": {
             "pattern": {
              "fillmode": "overlay",
              "size": 10,
              "solidity": 0.2
             }
            },
            "type": "histogram"
           }
          ],
          "histogram2d": [
           {
            "colorbar": {
             "outlinewidth": 0,
             "ticks": ""
            },
            "colorscale": [
             [
              0,
              "#0d0887"
             ],
             [
              0.1111111111111111,
              "#46039f"
             ],
             [
              0.2222222222222222,
              "#7201a8"
             ],
             [
              0.3333333333333333,
              "#9c179e"
             ],
             [
              0.4444444444444444,
              "#bd3786"
             ],
             [
              0.5555555555555556,
              "#d8576b"
             ],
             [
              0.6666666666666666,
              "#ed7953"
             ],
             [
              0.7777777777777778,
              "#fb9f3a"
             ],
             [
              0.8888888888888888,
              "#fdca26"
             ],
             [
              1,
              "#f0f921"
             ]
            ],
            "type": "histogram2d"
           }
          ],
          "histogram2dcontour": [
           {
            "colorbar": {
             "outlinewidth": 0,
             "ticks": ""
            },
            "colorscale": [
             [
              0,
              "#0d0887"
             ],
             [
              0.1111111111111111,
              "#46039f"
             ],
             [
              0.2222222222222222,
              "#7201a8"
             ],
             [
              0.3333333333333333,
              "#9c179e"
             ],
             [
              0.4444444444444444,
              "#bd3786"
             ],
             [
              0.5555555555555556,
              "#d8576b"
             ],
             [
              0.6666666666666666,
              "#ed7953"
             ],
             [
              0.7777777777777778,
              "#fb9f3a"
             ],
             [
              0.8888888888888888,
              "#fdca26"
             ],
             [
              1,
              "#f0f921"
             ]
            ],
            "type": "histogram2dcontour"
           }
          ],
          "mesh3d": [
           {
            "colorbar": {
             "outlinewidth": 0,
             "ticks": ""
            },
            "type": "mesh3d"
           }
          ],
          "parcoords": [
           {
            "line": {
             "colorbar": {
              "outlinewidth": 0,
              "ticks": ""
             }
            },
            "type": "parcoords"
           }
          ],
          "pie": [
           {
            "automargin": true,
            "type": "pie"
           }
          ],
          "scatter": [
           {
            "fillpattern": {
             "fillmode": "overlay",
             "size": 10,
             "solidity": 0.2
            },
            "type": "scatter"
           }
          ],
          "scatter3d": [
           {
            "line": {
             "colorbar": {
              "outlinewidth": 0,
              "ticks": ""
             }
            },
            "marker": {
             "colorbar": {
              "outlinewidth": 0,
              "ticks": ""
             }
            },
            "type": "scatter3d"
           }
          ],
          "scattercarpet": [
           {
            "marker": {
             "colorbar": {
              "outlinewidth": 0,
              "ticks": ""
             }
            },
            "type": "scattercarpet"
           }
          ],
          "scattergeo": [
           {
            "marker": {
             "colorbar": {
              "outlinewidth": 0,
              "ticks": ""
             }
            },
            "type": "scattergeo"
           }
          ],
          "scattergl": [
           {
            "marker": {
             "colorbar": {
              "outlinewidth": 0,
              "ticks": ""
             }
            },
            "type": "scattergl"
           }
          ],
          "scattermap": [
           {
            "marker": {
             "colorbar": {
              "outlinewidth": 0,
              "ticks": ""
             }
            },
            "type": "scattermap"
           }
          ],
          "scattermapbox": [
           {
            "marker": {
             "colorbar": {
              "outlinewidth": 0,
              "ticks": ""
             }
            },
            "type": "scattermapbox"
           }
          ],
          "scatterpolar": [
           {
            "marker": {
             "colorbar": {
              "outlinewidth": 0,
              "ticks": ""
             }
            },
            "type": "scatterpolar"
           }
          ],
          "scatterpolargl": [
           {
            "marker": {
             "colorbar": {
              "outlinewidth": 0,
              "ticks": ""
             }
            },
            "type": "scatterpolargl"
           }
          ],
          "scatterternary": [
           {
            "marker": {
             "colorbar": {
              "outlinewidth": 0,
              "ticks": ""
             }
            },
            "type": "scatterternary"
           }
          ],
          "surface": [
           {
            "colorbar": {
             "outlinewidth": 0,
             "ticks": ""
            },
            "colorscale": [
             [
              0,
              "#0d0887"
             ],
             [
              0.1111111111111111,
              "#46039f"
             ],
             [
              0.2222222222222222,
              "#7201a8"
             ],
             [
              0.3333333333333333,
              "#9c179e"
             ],
             [
              0.4444444444444444,
              "#bd3786"
             ],
             [
              0.5555555555555556,
              "#d8576b"
             ],
             [
              0.6666666666666666,
              "#ed7953"
             ],
             [
              0.7777777777777778,
              "#fb9f3a"
             ],
             [
              0.8888888888888888,
              "#fdca26"
             ],
             [
              1,
              "#f0f921"
             ]
            ],
            "type": "surface"
           }
          ],
          "table": [
           {
            "cells": {
             "fill": {
              "color": "#EBF0F8"
             },
             "line": {
              "color": "white"
             }
            },
            "header": {
             "fill": {
              "color": "#C8D4E3"
             },
             "line": {
              "color": "white"
             }
            },
            "type": "table"
           }
          ]
         },
         "layout": {
          "annotationdefaults": {
           "arrowcolor": "#2a3f5f",
           "arrowhead": 0,
           "arrowwidth": 1
          },
          "autotypenumbers": "strict",
          "coloraxis": {
           "colorbar": {
            "outlinewidth": 0,
            "ticks": ""
           }
          },
          "colorscale": {
           "diverging": [
            [
             0,
             "#8e0152"
            ],
            [
             0.1,
             "#c51b7d"
            ],
            [
             0.2,
             "#de77ae"
            ],
            [
             0.3,
             "#f1b6da"
            ],
            [
             0.4,
             "#fde0ef"
            ],
            [
             0.5,
             "#f7f7f7"
            ],
            [
             0.6,
             "#e6f5d0"
            ],
            [
             0.7,
             "#b8e186"
            ],
            [
             0.8,
             "#7fbc41"
            ],
            [
             0.9,
             "#4d9221"
            ],
            [
             1,
             "#276419"
            ]
           ],
           "sequential": [
            [
             0,
             "#0d0887"
            ],
            [
             0.1111111111111111,
             "#46039f"
            ],
            [
             0.2222222222222222,
             "#7201a8"
            ],
            [
             0.3333333333333333,
             "#9c179e"
            ],
            [
             0.4444444444444444,
             "#bd3786"
            ],
            [
             0.5555555555555556,
             "#d8576b"
            ],
            [
             0.6666666666666666,
             "#ed7953"
            ],
            [
             0.7777777777777778,
             "#fb9f3a"
            ],
            [
             0.8888888888888888,
             "#fdca26"
            ],
            [
             1,
             "#f0f921"
            ]
           ],
           "sequentialminus": [
            [
             0,
             "#0d0887"
            ],
            [
             0.1111111111111111,
             "#46039f"
            ],
            [
             0.2222222222222222,
             "#7201a8"
            ],
            [
             0.3333333333333333,
             "#9c179e"
            ],
            [
             0.4444444444444444,
             "#bd3786"
            ],
            [
             0.5555555555555556,
             "#d8576b"
            ],
            [
             0.6666666666666666,
             "#ed7953"
            ],
            [
             0.7777777777777778,
             "#fb9f3a"
            ],
            [
             0.8888888888888888,
             "#fdca26"
            ],
            [
             1,
             "#f0f921"
            ]
           ]
          },
          "colorway": [
           "#636efa",
           "#EF553B",
           "#00cc96",
           "#ab63fa",
           "#FFA15A",
           "#19d3f3",
           "#FF6692",
           "#B6E880",
           "#FF97FF",
           "#FECB52"
          ],
          "font": {
           "color": "#2a3f5f"
          },
          "geo": {
           "bgcolor": "white",
           "lakecolor": "white",
           "landcolor": "#E5ECF6",
           "showlakes": true,
           "showland": true,
           "subunitcolor": "white"
          },
          "hoverlabel": {
           "align": "left"
          },
          "hovermode": "closest",
          "mapbox": {
           "style": "light"
          },
          "paper_bgcolor": "white",
          "plot_bgcolor": "#E5ECF6",
          "polar": {
           "angularaxis": {
            "gridcolor": "white",
            "linecolor": "white",
            "ticks": ""
           },
           "bgcolor": "#E5ECF6",
           "radialaxis": {
            "gridcolor": "white",
            "linecolor": "white",
            "ticks": ""
           }
          },
          "scene": {
           "xaxis": {
            "backgroundcolor": "#E5ECF6",
            "gridcolor": "white",
            "gridwidth": 2,
            "linecolor": "white",
            "showbackground": true,
            "ticks": "",
            "zerolinecolor": "white"
           },
           "yaxis": {
            "backgroundcolor": "#E5ECF6",
            "gridcolor": "white",
            "gridwidth": 2,
            "linecolor": "white",
            "showbackground": true,
            "ticks": "",
            "zerolinecolor": "white"
           },
           "zaxis": {
            "backgroundcolor": "#E5ECF6",
            "gridcolor": "white",
            "gridwidth": 2,
            "linecolor": "white",
            "showbackground": true,
            "ticks": "",
            "zerolinecolor": "white"
           }
          },
          "shapedefaults": {
           "line": {
            "color": "#2a3f5f"
           }
          },
          "ternary": {
           "aaxis": {
            "gridcolor": "white",
            "linecolor": "white",
            "ticks": ""
           },
           "baxis": {
            "gridcolor": "white",
            "linecolor": "white",
            "ticks": ""
           },
           "bgcolor": "#E5ECF6",
           "caxis": {
            "gridcolor": "white",
            "linecolor": "white",
            "ticks": ""
           }
          },
          "title": {
           "x": 0.05
          },
          "xaxis": {
           "automargin": true,
           "gridcolor": "white",
           "linecolor": "white",
           "ticks": "",
           "title": {
            "standoff": 15
           },
           "zerolinecolor": "white",
           "zerolinewidth": 2
          },
          "yaxis": {
           "automargin": true,
           "gridcolor": "white",
           "linecolor": "white",
           "ticks": "",
           "title": {
            "standoff": 15
           },
           "zerolinecolor": "white",
           "zerolinewidth": 2
          }
         }
        },
        "title": {
         "text": "Alluvial Plot Example"
        }
       }
      }
     },
     "metadata": {},
     "output_type": "display_data"
    }
   ],
   "source": [
    "import plotly.graph_objects as go\n",
    "\n",
    "# Example data for an alluvial plot\n",
    "# We assume data for 3 stages or categories: A -> B -> C\n",
    "\n",
    "# Stage 1 (A), Stage 2 (B), Stage 3 (C)\n",
    "nodes = ['A1', 'A2', 'B1', 'B2', 'C1', 'C2']\n",
    "\n",
    "# Define the flows between nodes\n",
    "# Flows from A to B, then B to C\n",
    "sources = [0, 1, 0, 1, 2, 3]\n",
    "targets = [2, 3, 4, 5, 4, 5]\n",
    "values = [10, 20, 30, 40, 50, 60]\n",
    "\n",
    "# Create the alluvial plot\n",
    "fig = go.Figure(go.Sankey(\n",
    "    node=dict(\n",
    "        pad=15,\n",
    "        thickness=20,\n",
    "        line=dict(color=\"black\", width=0.5),\n",
    "        label=nodes,\n",
    "    ),\n",
    "    link=dict(\n",
    "        source=sources,\n",
    "        target=targets,\n",
    "        value=values,\n",
    "    )\n",
    "))\n",
    "\n",
    "# Update layout to display the plot\n",
    "fig.update_layout(title_text=\"Alluvial Plot Example\", font_size=10)\n",
    "fig.show()\n"
   ]
  },
  {
   "cell_type": "code",
   "execution_count": null,
   "metadata": {},
   "outputs": [],
   "source": []
  },
  {
   "cell_type": "code",
   "execution_count": null,
   "metadata": {},
   "outputs": [],
   "source": []
  },
  {
   "cell_type": "code",
   "execution_count": null,
   "metadata": {},
   "outputs": [],
   "source": []
  },
  {
   "cell_type": "code",
   "execution_count": 51,
   "metadata": {},
   "outputs": [
    {
     "name": "stdout",
     "output_type": "stream",
     "text": [
      "                                   Sub-Trace  Count\n",
      "2863  21->21->21->21->21->21->21->21->21->21     38\n",
      "2146            3->3->3->3->3->3->3->3->3->3     26\n",
      "186        3->13->3->13->3->13->3->13->3->13     21\n",
      "185        13->3->13->3->13->3->13->3->13->3     19\n",
      "2407  11->11->11->11->11->11->11->11->11->11     16\n",
      "2925            4->4->4->4->4->4->4->4->4->4      8\n",
      "2983  17->17->17->17->17->17->17->17->17->17      8\n",
      "979   20->15->20->15->20->15->20->15->20->15      7\n",
      "980   15->20->15->20->15->20->15->20->15->20      7\n",
      "2140            3->3->6->3->3->3->3->3->3->3      5\n"
     ]
    }
   ],
   "source": [
    "from collections import Counter\n",
    "\n",
    "def get_sub_traces(trace, window_size):\n",
    "    \"\"\"Extracts sub-traces of a given window size from a full trace.\"\"\"\n",
    "    return ['->'.join(trace[i:i+window_size]) for i in range(len(trace) - window_size + 1)]\n",
    "\n",
    "# Extract unique variants (trace paths)\n",
    "from pm4py.algo.filtering.log.variants import variants_filter\n",
    "variants = variants_filter.get_variants(event_log_filtered)\n",
    "# print('variants', variants)\n",
    "\n",
    "# Convert traces from tuples to lists\n",
    "trace_list = [list(trace) for trace in variants.keys()]\n",
    "# print('trace_list', trace_list)\n",
    "\n",
    "# Extract all sub-traces\n",
    "window_size = 10 # Adjust window size as needed\n",
    "all_sub_traces = [sub_trace for trace in trace_list for sub_trace in get_sub_traces(trace, window_size)]\n",
    "# print('all_sub_traces', all_sub_traces)\n",
    "\n",
    "# Count frequency of sub-traces\n",
    "sub_trace_counts = Counter(all_sub_traces)\n",
    "\n",
    "# Convert to DataFrame for sorting\n",
    "import pandas as pd\n",
    "sub_trace_df = pd.DataFrame(sub_trace_counts.items(), columns=['Sub-Trace', 'Count'])\n",
    "sub_trace_df = sub_trace_df.sort_values(by='Count', ascending=False)\n",
    "\n",
    "print(sub_trace_df.head(10))  # Show most common sub-traces\n"
   ]
  },
  {
   "cell_type": "code",
   "execution_count": 52,
   "metadata": {},
   "outputs": [
    {
     "name": "stderr",
     "output_type": "stream",
     "text": [
      "c:\\Users\\Y.vanMegen\\AppData\\Local\\Programs\\Python\\Python311\\Lib\\site-packages\\pm4py\\objects\\log\\util\\dataframe_utils.py:357: PerformanceWarning:\n",
      "\n",
      "DataFrame is highly fragmented.  This is usually the result of calling `frame.insert` many times, which has poor performance.  Consider joining all columns at once using pd.concat(axis=1) instead. To get a de-fragmented frame, use `newframe = frame.copy()`\n",
      "\n",
      "c:\\Users\\Y.vanMegen\\AppData\\Local\\Programs\\Python\\Python311\\Lib\\site-packages\\pm4py\\objects\\log\\util\\dataframe_utils.py:357: PerformanceWarning:\n",
      "\n",
      "DataFrame is highly fragmented.  This is usually the result of calling `frame.insert` many times, which has poor performance.  Consider joining all columns at once using pd.concat(axis=1) instead. To get a de-fragmented frame, use `newframe = frame.copy()`\n",
      "\n",
      "c:\\Users\\Y.vanMegen\\AppData\\Local\\Programs\\Python\\Python311\\Lib\\site-packages\\pm4py\\objects\\log\\util\\dataframe_utils.py:357: PerformanceWarning:\n",
      "\n",
      "DataFrame is highly fragmented.  This is usually the result of calling `frame.insert` many times, which has poor performance.  Consider joining all columns at once using pd.concat(axis=1) instead. To get a de-fragmented frame, use `newframe = frame.copy()`\n",
      "\n",
      "c:\\Users\\Y.vanMegen\\AppData\\Local\\Programs\\Python\\Python311\\Lib\\site-packages\\pm4py\\objects\\log\\util\\dataframe_utils.py:357: PerformanceWarning:\n",
      "\n",
      "DataFrame is highly fragmented.  This is usually the result of calling `frame.insert` many times, which has poor performance.  Consider joining all columns at once using pd.concat(axis=1) instead. To get a de-fragmented frame, use `newframe = frame.copy()`\n",
      "\n",
      "c:\\Users\\Y.vanMegen\\AppData\\Local\\Programs\\Python\\Python311\\Lib\\site-packages\\pm4py\\objects\\log\\util\\dataframe_utils.py:357: PerformanceWarning:\n",
      "\n",
      "DataFrame is highly fragmented.  This is usually the result of calling `frame.insert` many times, which has poor performance.  Consider joining all columns at once using pd.concat(axis=1) instead. To get a de-fragmented frame, use `newframe = frame.copy()`\n",
      "\n",
      "c:\\Users\\Y.vanMegen\\AppData\\Local\\Programs\\Python\\Python311\\Lib\\site-packages\\pm4py\\objects\\log\\util\\dataframe_utils.py:357: PerformanceWarning:\n",
      "\n",
      "DataFrame is highly fragmented.  This is usually the result of calling `frame.insert` many times, which has poor performance.  Consider joining all columns at once using pd.concat(axis=1) instead. To get a de-fragmented frame, use `newframe = frame.copy()`\n",
      "\n",
      "c:\\Users\\Y.vanMegen\\AppData\\Local\\Programs\\Python\\Python311\\Lib\\site-packages\\pm4py\\objects\\log\\util\\dataframe_utils.py:357: PerformanceWarning:\n",
      "\n",
      "DataFrame is highly fragmented.  This is usually the result of calling `frame.insert` many times, which has poor performance.  Consider joining all columns at once using pd.concat(axis=1) instead. To get a de-fragmented frame, use `newframe = frame.copy()`\n",
      "\n",
      "c:\\Users\\Y.vanMegen\\AppData\\Local\\Programs\\Python\\Python311\\Lib\\site-packages\\pm4py\\objects\\log\\util\\dataframe_utils.py:357: PerformanceWarning:\n",
      "\n",
      "DataFrame is highly fragmented.  This is usually the result of calling `frame.insert` many times, which has poor performance.  Consider joining all columns at once using pd.concat(axis=1) instead. To get a de-fragmented frame, use `newframe = frame.copy()`\n",
      "\n",
      "c:\\Users\\Y.vanMegen\\AppData\\Local\\Programs\\Python\\Python311\\Lib\\site-packages\\pm4py\\objects\\log\\util\\dataframe_utils.py:357: PerformanceWarning:\n",
      "\n",
      "DataFrame is highly fragmented.  This is usually the result of calling `frame.insert` many times, which has poor performance.  Consider joining all columns at once using pd.concat(axis=1) instead. To get a de-fragmented frame, use `newframe = frame.copy()`\n",
      "\n",
      "c:\\Users\\Y.vanMegen\\AppData\\Local\\Programs\\Python\\Python311\\Lib\\site-packages\\pm4py\\objects\\log\\util\\dataframe_utils.py:357: PerformanceWarning:\n",
      "\n",
      "DataFrame is highly fragmented.  This is usually the result of calling `frame.insert` many times, which has poor performance.  Consider joining all columns at once using pd.concat(axis=1) instead. To get a de-fragmented frame, use `newframe = frame.copy()`\n",
      "\n",
      "c:\\Users\\Y.vanMegen\\AppData\\Local\\Programs\\Python\\Python311\\Lib\\site-packages\\pm4py\\objects\\log\\util\\dataframe_utils.py:357: PerformanceWarning:\n",
      "\n",
      "DataFrame is highly fragmented.  This is usually the result of calling `frame.insert` many times, which has poor performance.  Consider joining all columns at once using pd.concat(axis=1) instead. To get a de-fragmented frame, use `newframe = frame.copy()`\n",
      "\n",
      "c:\\Users\\Y.vanMegen\\AppData\\Local\\Programs\\Python\\Python311\\Lib\\site-packages\\pm4py\\objects\\log\\util\\dataframe_utils.py:357: PerformanceWarning:\n",
      "\n",
      "DataFrame is highly fragmented.  This is usually the result of calling `frame.insert` many times, which has poor performance.  Consider joining all columns at once using pd.concat(axis=1) instead. To get a de-fragmented frame, use `newframe = frame.copy()`\n",
      "\n"
     ]
    },
    {
     "data": {
      "text/html": [
       "<div>\n",
       "<style scoped>\n",
       "    .dataframe tbody tr th:only-of-type {\n",
       "        vertical-align: middle;\n",
       "    }\n",
       "\n",
       "    .dataframe tbody tr th {\n",
       "        vertical-align: top;\n",
       "    }\n",
       "\n",
       "    .dataframe thead th {\n",
       "        text-align: right;\n",
       "    }\n",
       "</style>\n",
       "<table border=\"1\" class=\"dataframe\">\n",
       "  <thead>\n",
       "    <tr style=\"text-align: right;\">\n",
       "      <th></th>\n",
       "      <th>verslagen_report_tags_new_topic_label_Consult,SEH|PatientIntake</th>\n",
       "      <th>verslagen_report_tags_new_topic_label_Consult,SEH|Infusion&amp;FluidManagement</th>\n",
       "      <th>verslagen_report_tags_new_topic_label_Consult,Overigeaantekeningen|IronDeficiency&amp;CKD</th>\n",
       "      <th>verslagen_report_tags_new_topic_label_Consult,Polikliniek:eersteconsult|AdmissionAssessment</th>\n",
       "      <th>verslagen_report_tags_new_topic_label_Consult|SurgicalProphylaxis</th>\n",
       "      <th>verslagen_report_tags_new_topic_label_Consult,Polikliniek:vervolgconsult|ConsultationWorkflow</th>\n",
       "      <th>verslagen_report_tags_new_topic_label_Consult,Kliniek:vervolgconsult|GIBleedAssessment</th>\n",
       "      <th>verslagen_report_tags_new_topic_label_Consult,Kliniek:eersteconsult|InitialTriage</th>\n",
       "      <th>verslagen_report_tags_new_topic_label_Consult,SEH|Intake&amp;InitialAssessment</th>\n",
       "      <th>verslagen_report_tags_new_topic_label_SpoedeisendeHulp|GIEmergency</th>\n",
       "      <th>...</th>\n",
       "      <th>N_Topic_4</th>\n",
       "      <th>N_Topic_5</th>\n",
       "      <th>N_Topic_16</th>\n",
       "      <th>N_Topic_24</th>\n",
       "      <th>N_Topic_21</th>\n",
       "      <th>N_Topic_9</th>\n",
       "      <th>N_Topic_22</th>\n",
       "      <th>N_Topic_17</th>\n",
       "      <th>N_Topic_31</th>\n",
       "      <th>Cluster</th>\n",
       "    </tr>\n",
       "  </thead>\n",
       "  <tbody>\n",
       "    <tr>\n",
       "      <th>0</th>\n",
       "      <td>1.0</td>\n",
       "      <td>1.0</td>\n",
       "      <td>1.0</td>\n",
       "      <td>1.0</td>\n",
       "      <td>1.0</td>\n",
       "      <td>1.0</td>\n",
       "      <td>1.0</td>\n",
       "      <td>1.0</td>\n",
       "      <td>1.0</td>\n",
       "      <td>1.0</td>\n",
       "      <td>...</td>\n",
       "      <td>0.0</td>\n",
       "      <td>0.0</td>\n",
       "      <td>0.0</td>\n",
       "      <td>0.0</td>\n",
       "      <td>0.0</td>\n",
       "      <td>0.0</td>\n",
       "      <td>0.0</td>\n",
       "      <td>0.0</td>\n",
       "      <td>0.0</td>\n",
       "      <td>2</td>\n",
       "    </tr>\n",
       "    <tr>\n",
       "      <th>1</th>\n",
       "      <td>1.0</td>\n",
       "      <td>1.0</td>\n",
       "      <td>1.0</td>\n",
       "      <td>0.0</td>\n",
       "      <td>1.0</td>\n",
       "      <td>1.0</td>\n",
       "      <td>1.0</td>\n",
       "      <td>1.0</td>\n",
       "      <td>1.0</td>\n",
       "      <td>1.0</td>\n",
       "      <td>...</td>\n",
       "      <td>0.0</td>\n",
       "      <td>0.0</td>\n",
       "      <td>0.0</td>\n",
       "      <td>0.0</td>\n",
       "      <td>0.0</td>\n",
       "      <td>0.0</td>\n",
       "      <td>0.0</td>\n",
       "      <td>0.0</td>\n",
       "      <td>0.0</td>\n",
       "      <td>2</td>\n",
       "    </tr>\n",
       "    <tr>\n",
       "      <th>2</th>\n",
       "      <td>0.0</td>\n",
       "      <td>0.0</td>\n",
       "      <td>0.0</td>\n",
       "      <td>0.0</td>\n",
       "      <td>0.0</td>\n",
       "      <td>1.0</td>\n",
       "      <td>1.0</td>\n",
       "      <td>0.0</td>\n",
       "      <td>1.0</td>\n",
       "      <td>1.0</td>\n",
       "      <td>...</td>\n",
       "      <td>0.0</td>\n",
       "      <td>0.0</td>\n",
       "      <td>0.0</td>\n",
       "      <td>0.0</td>\n",
       "      <td>0.0</td>\n",
       "      <td>0.0</td>\n",
       "      <td>0.0</td>\n",
       "      <td>0.0</td>\n",
       "      <td>0.0</td>\n",
       "      <td>2</td>\n",
       "    </tr>\n",
       "    <tr>\n",
       "      <th>3</th>\n",
       "      <td>1.0</td>\n",
       "      <td>1.0</td>\n",
       "      <td>1.0</td>\n",
       "      <td>1.0</td>\n",
       "      <td>1.0</td>\n",
       "      <td>1.0</td>\n",
       "      <td>1.0</td>\n",
       "      <td>1.0</td>\n",
       "      <td>1.0</td>\n",
       "      <td>1.0</td>\n",
       "      <td>...</td>\n",
       "      <td>0.0</td>\n",
       "      <td>0.0</td>\n",
       "      <td>0.0</td>\n",
       "      <td>0.0</td>\n",
       "      <td>0.0</td>\n",
       "      <td>0.0</td>\n",
       "      <td>0.0</td>\n",
       "      <td>0.0</td>\n",
       "      <td>0.0</td>\n",
       "      <td>2</td>\n",
       "    </tr>\n",
       "    <tr>\n",
       "      <th>4</th>\n",
       "      <td>1.0</td>\n",
       "      <td>0.0</td>\n",
       "      <td>1.0</td>\n",
       "      <td>1.0</td>\n",
       "      <td>1.0</td>\n",
       "      <td>1.0</td>\n",
       "      <td>1.0</td>\n",
       "      <td>1.0</td>\n",
       "      <td>1.0</td>\n",
       "      <td>1.0</td>\n",
       "      <td>...</td>\n",
       "      <td>0.0</td>\n",
       "      <td>0.0</td>\n",
       "      <td>0.0</td>\n",
       "      <td>0.0</td>\n",
       "      <td>0.0</td>\n",
       "      <td>0.0</td>\n",
       "      <td>0.0</td>\n",
       "      <td>0.0</td>\n",
       "      <td>0.0</td>\n",
       "      <td>2</td>\n",
       "    </tr>\n",
       "  </tbody>\n",
       "</table>\n",
       "<p>5 rows × 206 columns</p>\n",
       "</div>"
      ],
      "text/plain": [
       "   verslagen_report_tags_new_topic_label_Consult,SEH|PatientIntake  \\\n",
       "0                                                1.0                 \n",
       "1                                                1.0                 \n",
       "2                                                0.0                 \n",
       "3                                                1.0                 \n",
       "4                                                1.0                 \n",
       "\n",
       "   verslagen_report_tags_new_topic_label_Consult,SEH|Infusion&FluidManagement  \\\n",
       "0                                                1.0                            \n",
       "1                                                1.0                            \n",
       "2                                                0.0                            \n",
       "3                                                1.0                            \n",
       "4                                                0.0                            \n",
       "\n",
       "   verslagen_report_tags_new_topic_label_Consult,Overigeaantekeningen|IronDeficiency&CKD  \\\n",
       "0                                                1.0                                       \n",
       "1                                                1.0                                       \n",
       "2                                                0.0                                       \n",
       "3                                                1.0                                       \n",
       "4                                                1.0                                       \n",
       "\n",
       "   verslagen_report_tags_new_topic_label_Consult,Polikliniek:eersteconsult|AdmissionAssessment  \\\n",
       "0                                                1.0                                             \n",
       "1                                                0.0                                             \n",
       "2                                                0.0                                             \n",
       "3                                                1.0                                             \n",
       "4                                                1.0                                             \n",
       "\n",
       "   verslagen_report_tags_new_topic_label_Consult|SurgicalProphylaxis  \\\n",
       "0                                                1.0                   \n",
       "1                                                1.0                   \n",
       "2                                                0.0                   \n",
       "3                                                1.0                   \n",
       "4                                                1.0                   \n",
       "\n",
       "   verslagen_report_tags_new_topic_label_Consult,Polikliniek:vervolgconsult|ConsultationWorkflow  \\\n",
       "0                                                1.0                                               \n",
       "1                                                1.0                                               \n",
       "2                                                1.0                                               \n",
       "3                                                1.0                                               \n",
       "4                                                1.0                                               \n",
       "\n",
       "   verslagen_report_tags_new_topic_label_Consult,Kliniek:vervolgconsult|GIBleedAssessment  \\\n",
       "0                                                1.0                                        \n",
       "1                                                1.0                                        \n",
       "2                                                1.0                                        \n",
       "3                                                1.0                                        \n",
       "4                                                1.0                                        \n",
       "\n",
       "   verslagen_report_tags_new_topic_label_Consult,Kliniek:eersteconsult|InitialTriage  \\\n",
       "0                                                1.0                                   \n",
       "1                                                1.0                                   \n",
       "2                                                0.0                                   \n",
       "3                                                1.0                                   \n",
       "4                                                1.0                                   \n",
       "\n",
       "   verslagen_report_tags_new_topic_label_Consult,SEH|Intake&InitialAssessment  \\\n",
       "0                                                1.0                            \n",
       "1                                                1.0                            \n",
       "2                                                1.0                            \n",
       "3                                                1.0                            \n",
       "4                                                1.0                            \n",
       "\n",
       "   verslagen_report_tags_new_topic_label_SpoedeisendeHulp|GIEmergency  ...  \\\n",
       "0                                                1.0                   ...   \n",
       "1                                                1.0                   ...   \n",
       "2                                                1.0                   ...   \n",
       "3                                                1.0                   ...   \n",
       "4                                                1.0                   ...   \n",
       "\n",
       "   N_Topic_4  N_Topic_5  N_Topic_16  N_Topic_24  N_Topic_21  N_Topic_9  \\\n",
       "0        0.0        0.0         0.0         0.0         0.0        0.0   \n",
       "1        0.0        0.0         0.0         0.0         0.0        0.0   \n",
       "2        0.0        0.0         0.0         0.0         0.0        0.0   \n",
       "3        0.0        0.0         0.0         0.0         0.0        0.0   \n",
       "4        0.0        0.0         0.0         0.0         0.0        0.0   \n",
       "\n",
       "   N_Topic_22  N_Topic_17  N_Topic_31  Cluster  \n",
       "0         0.0         0.0         0.0        2  \n",
       "1         0.0         0.0         0.0        2  \n",
       "2         0.0         0.0         0.0        2  \n",
       "3         0.0         0.0         0.0        2  \n",
       "4         0.0         0.0         0.0        2  \n",
       "\n",
       "[5 rows x 206 columns]"
      ]
     },
     "execution_count": 52,
     "metadata": {},
     "output_type": "execute_result"
    }
   ],
   "source": [
    "from pm4py.algo.transformation.log_to_features import algorithm as log_to_features\n",
    "from sklearn.cluster import KMeans\n",
    "import numpy as np\n",
    "\n",
    "# Convert event log to feature vectors\n",
    "feature_table, feature_names = log_to_features.apply(event_log_filtered, parameters={\"feature_type\": \"frequency\"})\n",
    "\n",
    "# Convert to DataFrame\n",
    "feature_df_filtered = pd.DataFrame(feature_table, columns=feature_names)\n",
    "\n",
    "# Apply K-Means clustering (set k=3 for 3 clusters)\n",
    "num_clusters = 10\n",
    "kmeans = KMeans(n_clusters=num_clusters, random_state=42)\n",
    "feature_df_filtered['Cluster'] = kmeans.fit_predict(feature_df_filtered)\n",
    "\n",
    "feature_df_filtered.head()  # Show clustered patient traces\n"
   ]
  },
  {
   "cell_type": "code",
   "execution_count": 53,
   "metadata": {},
   "outputs": [
    {
     "data": {
      "application/vnd.plotly.v1+json": {
       "config": {
        "plotlyServerURL": "https://plot.ly"
       },
       "data": [
        {
         "link": {
          "source": [
           10,
           5,
           3,
           2,
           7,
           8,
           14,
           22,
           13,
           6,
           12,
           23,
           25,
           1,
           16,
           10,
           5,
           2,
           7,
           8,
           14,
           20,
           18,
           22,
           17,
           13,
           6,
           12,
           23,
           10,
           5,
           3,
           2,
           7,
           8,
           14,
           20,
           18,
           22,
           17,
           13,
           6,
           24,
           10,
           5,
           2,
           7,
           8,
           20,
           18,
           22,
           17,
           13,
           6,
           24,
           23,
           1,
           9,
           15,
           10,
           5,
           2,
           7,
           8,
           14,
           20,
           22,
           17,
           13,
           6,
           12,
           19,
           10,
           5,
           2,
           7,
           8,
           20,
           18,
           22,
           10,
           5,
           2,
           7,
           8,
           10,
           5,
           7,
           8,
           14,
           20,
           18,
           11,
           22,
           17,
           12,
           21,
           9,
           10,
           5,
           2,
           8,
           20,
           18,
           22,
           6,
           10,
           5,
           2,
           7,
           8,
           14,
           20,
           18,
           22,
           17
          ],
          "target": [
           5,
           3,
           2,
           7,
           8,
           14,
           22,
           13,
           6,
           12,
           23,
           25,
           1,
           16,
           4,
           5,
           2,
           7,
           8,
           14,
           20,
           18,
           22,
           17,
           13,
           6,
           12,
           23,
           25,
           5,
           3,
           2,
           7,
           8,
           14,
           20,
           18,
           22,
           17,
           13,
           6,
           24,
           12,
           5,
           2,
           7,
           8,
           20,
           18,
           22,
           17,
           13,
           6,
           24,
           23,
           1,
           9,
           15,
           0,
           5,
           2,
           7,
           8,
           14,
           20,
           22,
           17,
           13,
           6,
           12,
           19,
           15,
           5,
           2,
           7,
           8,
           20,
           18,
           22,
           17,
           5,
           2,
           7,
           8,
           14,
           5,
           7,
           8,
           14,
           20,
           18,
           11,
           22,
           17,
           12,
           21,
           9,
           16,
           5,
           2,
           8,
           20,
           18,
           22,
           6,
           24,
           5,
           2,
           7,
           8,
           14,
           20,
           18,
           22,
           17,
           12
          ],
          "value": [
           10,
           2,
           2,
           8,
           9,
           7,
           1,
           1,
           5,
           3,
           2,
           2,
           1,
           1,
           1,
           10,
           7,
           8,
           9,
           7,
           5,
           7,
           6,
           7,
           4,
           5,
           3,
           2,
           2,
           10,
           2,
           2,
           8,
           9,
           7,
           5,
           7,
           6,
           7,
           4,
           5,
           3,
           1,
           10,
           7,
           8,
           9,
           3,
           7,
           6,
           7,
           4,
           5,
           3,
           1,
           1,
           1,
           1,
           1,
           10,
           7,
           8,
           9,
           7,
           5,
           1,
           7,
           4,
           5,
           3,
           1,
           1,
           10,
           7,
           8,
           9,
           3,
           7,
           6,
           7,
           10,
           7,
           8,
           9,
           7,
           10,
           1,
           9,
           7,
           5,
           7,
           1,
           1,
           7,
           2,
           1,
           1,
           1,
           10,
           7,
           1,
           3,
           7,
           6,
           1,
           3,
           10,
           7,
           8,
           9,
           7,
           5,
           7,
           6,
           7,
           2
          ]
         },
         "node": {
          "label": [
           "17",
           "5",
           "13",
           "25",
           "22",
           "12",
           "26",
           "20",
           "3",
           "16",
           "11",
           "7",
           "29",
           "15",
           "18",
           "21",
           "24",
           "0",
           "8",
           "4",
           "10",
           "19",
           "6",
           "28",
           "14",
           "27"
          ]
         },
         "type": "sankey"
        }
       ],
       "layout": {
        "template": {
         "data": {
          "bar": [
           {
            "error_x": {
             "color": "#2a3f5f"
            },
            "error_y": {
             "color": "#2a3f5f"
            },
            "marker": {
             "line": {
              "color": "#E5ECF6",
              "width": 0.5
             },
             "pattern": {
              "fillmode": "overlay",
              "size": 10,
              "solidity": 0.2
             }
            },
            "type": "bar"
           }
          ],
          "barpolar": [
           {
            "marker": {
             "line": {
              "color": "#E5ECF6",
              "width": 0.5
             },
             "pattern": {
              "fillmode": "overlay",
              "size": 10,
              "solidity": 0.2
             }
            },
            "type": "barpolar"
           }
          ],
          "carpet": [
           {
            "aaxis": {
             "endlinecolor": "#2a3f5f",
             "gridcolor": "white",
             "linecolor": "white",
             "minorgridcolor": "white",
             "startlinecolor": "#2a3f5f"
            },
            "baxis": {
             "endlinecolor": "#2a3f5f",
             "gridcolor": "white",
             "linecolor": "white",
             "minorgridcolor": "white",
             "startlinecolor": "#2a3f5f"
            },
            "type": "carpet"
           }
          ],
          "choropleth": [
           {
            "colorbar": {
             "outlinewidth": 0,
             "ticks": ""
            },
            "type": "choropleth"
           }
          ],
          "contour": [
           {
            "colorbar": {
             "outlinewidth": 0,
             "ticks": ""
            },
            "colorscale": [
             [
              0,
              "#0d0887"
             ],
             [
              0.1111111111111111,
              "#46039f"
             ],
             [
              0.2222222222222222,
              "#7201a8"
             ],
             [
              0.3333333333333333,
              "#9c179e"
             ],
             [
              0.4444444444444444,
              "#bd3786"
             ],
             [
              0.5555555555555556,
              "#d8576b"
             ],
             [
              0.6666666666666666,
              "#ed7953"
             ],
             [
              0.7777777777777778,
              "#fb9f3a"
             ],
             [
              0.8888888888888888,
              "#fdca26"
             ],
             [
              1,
              "#f0f921"
             ]
            ],
            "type": "contour"
           }
          ],
          "contourcarpet": [
           {
            "colorbar": {
             "outlinewidth": 0,
             "ticks": ""
            },
            "type": "contourcarpet"
           }
          ],
          "heatmap": [
           {
            "colorbar": {
             "outlinewidth": 0,
             "ticks": ""
            },
            "colorscale": [
             [
              0,
              "#0d0887"
             ],
             [
              0.1111111111111111,
              "#46039f"
             ],
             [
              0.2222222222222222,
              "#7201a8"
             ],
             [
              0.3333333333333333,
              "#9c179e"
             ],
             [
              0.4444444444444444,
              "#bd3786"
             ],
             [
              0.5555555555555556,
              "#d8576b"
             ],
             [
              0.6666666666666666,
              "#ed7953"
             ],
             [
              0.7777777777777778,
              "#fb9f3a"
             ],
             [
              0.8888888888888888,
              "#fdca26"
             ],
             [
              1,
              "#f0f921"
             ]
            ],
            "type": "heatmap"
           }
          ],
          "histogram": [
           {
            "marker": {
             "pattern": {
              "fillmode": "overlay",
              "size": 10,
              "solidity": 0.2
             }
            },
            "type": "histogram"
           }
          ],
          "histogram2d": [
           {
            "colorbar": {
             "outlinewidth": 0,
             "ticks": ""
            },
            "colorscale": [
             [
              0,
              "#0d0887"
             ],
             [
              0.1111111111111111,
              "#46039f"
             ],
             [
              0.2222222222222222,
              "#7201a8"
             ],
             [
              0.3333333333333333,
              "#9c179e"
             ],
             [
              0.4444444444444444,
              "#bd3786"
             ],
             [
              0.5555555555555556,
              "#d8576b"
             ],
             [
              0.6666666666666666,
              "#ed7953"
             ],
             [
              0.7777777777777778,
              "#fb9f3a"
             ],
             [
              0.8888888888888888,
              "#fdca26"
             ],
             [
              1,
              "#f0f921"
             ]
            ],
            "type": "histogram2d"
           }
          ],
          "histogram2dcontour": [
           {
            "colorbar": {
             "outlinewidth": 0,
             "ticks": ""
            },
            "colorscale": [
             [
              0,
              "#0d0887"
             ],
             [
              0.1111111111111111,
              "#46039f"
             ],
             [
              0.2222222222222222,
              "#7201a8"
             ],
             [
              0.3333333333333333,
              "#9c179e"
             ],
             [
              0.4444444444444444,
              "#bd3786"
             ],
             [
              0.5555555555555556,
              "#d8576b"
             ],
             [
              0.6666666666666666,
              "#ed7953"
             ],
             [
              0.7777777777777778,
              "#fb9f3a"
             ],
             [
              0.8888888888888888,
              "#fdca26"
             ],
             [
              1,
              "#f0f921"
             ]
            ],
            "type": "histogram2dcontour"
           }
          ],
          "mesh3d": [
           {
            "colorbar": {
             "outlinewidth": 0,
             "ticks": ""
            },
            "type": "mesh3d"
           }
          ],
          "parcoords": [
           {
            "line": {
             "colorbar": {
              "outlinewidth": 0,
              "ticks": ""
             }
            },
            "type": "parcoords"
           }
          ],
          "pie": [
           {
            "automargin": true,
            "type": "pie"
           }
          ],
          "scatter": [
           {
            "fillpattern": {
             "fillmode": "overlay",
             "size": 10,
             "solidity": 0.2
            },
            "type": "scatter"
           }
          ],
          "scatter3d": [
           {
            "line": {
             "colorbar": {
              "outlinewidth": 0,
              "ticks": ""
             }
            },
            "marker": {
             "colorbar": {
              "outlinewidth": 0,
              "ticks": ""
             }
            },
            "type": "scatter3d"
           }
          ],
          "scattercarpet": [
           {
            "marker": {
             "colorbar": {
              "outlinewidth": 0,
              "ticks": ""
             }
            },
            "type": "scattercarpet"
           }
          ],
          "scattergeo": [
           {
            "marker": {
             "colorbar": {
              "outlinewidth": 0,
              "ticks": ""
             }
            },
            "type": "scattergeo"
           }
          ],
          "scattergl": [
           {
            "marker": {
             "colorbar": {
              "outlinewidth": 0,
              "ticks": ""
             }
            },
            "type": "scattergl"
           }
          ],
          "scattermap": [
           {
            "marker": {
             "colorbar": {
              "outlinewidth": 0,
              "ticks": ""
             }
            },
            "type": "scattermap"
           }
          ],
          "scattermapbox": [
           {
            "marker": {
             "colorbar": {
              "outlinewidth": 0,
              "ticks": ""
             }
            },
            "type": "scattermapbox"
           }
          ],
          "scatterpolar": [
           {
            "marker": {
             "colorbar": {
              "outlinewidth": 0,
              "ticks": ""
             }
            },
            "type": "scatterpolar"
           }
          ],
          "scatterpolargl": [
           {
            "marker": {
             "colorbar": {
              "outlinewidth": 0,
              "ticks": ""
             }
            },
            "type": "scatterpolargl"
           }
          ],
          "scatterternary": [
           {
            "marker": {
             "colorbar": {
              "outlinewidth": 0,
              "ticks": ""
             }
            },
            "type": "scatterternary"
           }
          ],
          "surface": [
           {
            "colorbar": {
             "outlinewidth": 0,
             "ticks": ""
            },
            "colorscale": [
             [
              0,
              "#0d0887"
             ],
             [
              0.1111111111111111,
              "#46039f"
             ],
             [
              0.2222222222222222,
              "#7201a8"
             ],
             [
              0.3333333333333333,
              "#9c179e"
             ],
             [
              0.4444444444444444,
              "#bd3786"
             ],
             [
              0.5555555555555556,
              "#d8576b"
             ],
             [
              0.6666666666666666,
              "#ed7953"
             ],
             [
              0.7777777777777778,
              "#fb9f3a"
             ],
             [
              0.8888888888888888,
              "#fdca26"
             ],
             [
              1,
              "#f0f921"
             ]
            ],
            "type": "surface"
           }
          ],
          "table": [
           {
            "cells": {
             "fill": {
              "color": "#EBF0F8"
             },
             "line": {
              "color": "white"
             }
            },
            "header": {
             "fill": {
              "color": "#C8D4E3"
             },
             "line": {
              "color": "white"
             }
            },
            "type": "table"
           }
          ]
         },
         "layout": {
          "annotationdefaults": {
           "arrowcolor": "#2a3f5f",
           "arrowhead": 0,
           "arrowwidth": 1
          },
          "autotypenumbers": "strict",
          "coloraxis": {
           "colorbar": {
            "outlinewidth": 0,
            "ticks": ""
           }
          },
          "colorscale": {
           "diverging": [
            [
             0,
             "#8e0152"
            ],
            [
             0.1,
             "#c51b7d"
            ],
            [
             0.2,
             "#de77ae"
            ],
            [
             0.3,
             "#f1b6da"
            ],
            [
             0.4,
             "#fde0ef"
            ],
            [
             0.5,
             "#f7f7f7"
            ],
            [
             0.6,
             "#e6f5d0"
            ],
            [
             0.7,
             "#b8e186"
            ],
            [
             0.8,
             "#7fbc41"
            ],
            [
             0.9,
             "#4d9221"
            ],
            [
             1,
             "#276419"
            ]
           ],
           "sequential": [
            [
             0,
             "#0d0887"
            ],
            [
             0.1111111111111111,
             "#46039f"
            ],
            [
             0.2222222222222222,
             "#7201a8"
            ],
            [
             0.3333333333333333,
             "#9c179e"
            ],
            [
             0.4444444444444444,
             "#bd3786"
            ],
            [
             0.5555555555555556,
             "#d8576b"
            ],
            [
             0.6666666666666666,
             "#ed7953"
            ],
            [
             0.7777777777777778,
             "#fb9f3a"
            ],
            [
             0.8888888888888888,
             "#fdca26"
            ],
            [
             1,
             "#f0f921"
            ]
           ],
           "sequentialminus": [
            [
             0,
             "#0d0887"
            ],
            [
             0.1111111111111111,
             "#46039f"
            ],
            [
             0.2222222222222222,
             "#7201a8"
            ],
            [
             0.3333333333333333,
             "#9c179e"
            ],
            [
             0.4444444444444444,
             "#bd3786"
            ],
            [
             0.5555555555555556,
             "#d8576b"
            ],
            [
             0.6666666666666666,
             "#ed7953"
            ],
            [
             0.7777777777777778,
             "#fb9f3a"
            ],
            [
             0.8888888888888888,
             "#fdca26"
            ],
            [
             1,
             "#f0f921"
            ]
           ]
          },
          "colorway": [
           "#636efa",
           "#EF553B",
           "#00cc96",
           "#ab63fa",
           "#FFA15A",
           "#19d3f3",
           "#FF6692",
           "#B6E880",
           "#FF97FF",
           "#FECB52"
          ],
          "font": {
           "color": "#2a3f5f"
          },
          "geo": {
           "bgcolor": "white",
           "lakecolor": "white",
           "landcolor": "#E5ECF6",
           "showlakes": true,
           "showland": true,
           "subunitcolor": "white"
          },
          "hoverlabel": {
           "align": "left"
          },
          "hovermode": "closest",
          "mapbox": {
           "style": "light"
          },
          "paper_bgcolor": "white",
          "plot_bgcolor": "#E5ECF6",
          "polar": {
           "angularaxis": {
            "gridcolor": "white",
            "linecolor": "white",
            "ticks": ""
           },
           "bgcolor": "#E5ECF6",
           "radialaxis": {
            "gridcolor": "white",
            "linecolor": "white",
            "ticks": ""
           }
          },
          "scene": {
           "xaxis": {
            "backgroundcolor": "#E5ECF6",
            "gridcolor": "white",
            "gridwidth": 2,
            "linecolor": "white",
            "showbackground": true,
            "ticks": "",
            "zerolinecolor": "white"
           },
           "yaxis": {
            "backgroundcolor": "#E5ECF6",
            "gridcolor": "white",
            "gridwidth": 2,
            "linecolor": "white",
            "showbackground": true,
            "ticks": "",
            "zerolinecolor": "white"
           },
           "zaxis": {
            "backgroundcolor": "#E5ECF6",
            "gridcolor": "white",
            "gridwidth": 2,
            "linecolor": "white",
            "showbackground": true,
            "ticks": "",
            "zerolinecolor": "white"
           }
          },
          "shapedefaults": {
           "line": {
            "color": "#2a3f5f"
           }
          },
          "ternary": {
           "aaxis": {
            "gridcolor": "white",
            "linecolor": "white",
            "ticks": ""
           },
           "baxis": {
            "gridcolor": "white",
            "linecolor": "white",
            "ticks": ""
           },
           "bgcolor": "#E5ECF6",
           "caxis": {
            "gridcolor": "white",
            "linecolor": "white",
            "ticks": ""
           }
          },
          "title": {
           "x": 0.05
          },
          "xaxis": {
           "automargin": true,
           "gridcolor": "white",
           "linecolor": "white",
           "ticks": "",
           "title": {
            "standoff": 15
           },
           "zerolinecolor": "white",
           "zerolinewidth": 2
          },
          "yaxis": {
           "automargin": true,
           "gridcolor": "white",
           "linecolor": "white",
           "ticks": "",
           "title": {
            "standoff": 15
           },
           "zerolinecolor": "white",
           "zerolinewidth": 2
          }
         }
        }
       }
      }
     },
     "metadata": {},
     "output_type": "display_data"
    }
   ],
   "source": [
    "import plotly.graph_objects as go\n",
    "from collections import Counter\n",
    "\n",
    "# Step 1: Extract Sequences from event columns\n",
    "event_columns = [col for col in feature_df_filtered.columns if 'concept:name' in col]  # Filter for event-related columns\n",
    "sequences = []\n",
    "\n",
    "# For each row in feature_df, extract the sequence of events\n",
    "for _, row in feature_df_filtered.iterrows():\n",
    "    events = [col.split('concept:name_')[1] for col in event_columns if row[col] == 1.0]  # Get events with 1.0 value\n",
    "    sequences.append('->'.join(events))  # Join events into a sequence\n",
    "\n",
    "# Step 2: Add sequences to the dataframe (this will be useful for visualization)\n",
    "feature_df_filtered['Sequence'] = sequences\n",
    "\n",
    "# Step 3: Get the most common sequence per cluster \n",
    "cluster_sequences = feature_df_filtered.groupby(\"Cluster\")[\"Sequence\"].agg(lambda x: x.mode()[0])\n",
    "\n",
    "# Step 4: Count the occurrences of each sequence (for Sankey diagram links)\n",
    "cluster_counts = Counter(cluster_sequences)\n",
    "\n",
    "# Step 5: Prepare data for Sankey diagram (convert sequences into sources and targets)\n",
    "sources, targets = [], []\n",
    "\n",
    "for trace in cluster_sequences.values:\n",
    "    steps = trace.split(\"->\")  # Split sequence into individual steps\n",
    "    for i in range(len(steps) - 1):\n",
    "        sources.append(steps[i])\n",
    "        targets.append(steps[i + 1])\n",
    "\n",
    "# Convert sources and targets to indices (for Sankey diagram nodes)\n",
    "all_nodes = list(set(sources + targets))  # All unique nodes (steps)\n",
    "source_indices = [all_nodes.index(s) for s in sources]\n",
    "target_indices = [all_nodes.index(t) for t in targets]\n",
    "\n",
    "# Step 6: Count the frequency of each link (source -> target pair)\n",
    "link_counts = Counter(zip(sources, targets))\n",
    "values = [link_counts[(source, target)] for source, target in zip(sources, targets)]\n",
    "\n",
    "# Step 7: Create the Sankey diagram\n",
    "fig = go.Figure(go.Sankey(\n",
    "    node=dict(label=all_nodes),\n",
    "    link=dict(source=source_indices, target=target_indices, value=values)\n",
    "))\n",
    "\n",
    "fig.show()"
   ]
  },
  {
   "cell_type": "code",
   "execution_count": null,
   "metadata": {},
   "outputs": [],
   "source": []
  },
  {
   "cell_type": "code",
   "execution_count": null,
   "metadata": {},
   "outputs": [],
   "source": []
  }
 ],
 "metadata": {
  "kernelspec": {
   "display_name": "Python 3",
   "language": "python",
   "name": "python3"
  },
  "language_info": {
   "codemirror_mode": {
    "name": "ipython",
    "version": 3
   },
   "file_extension": ".py",
   "mimetype": "text/x-python",
   "name": "python",
   "nbconvert_exporter": "python",
   "pygments_lexer": "ipython3",
   "version": "3.11.6"
  }
 },
 "nbformat": 4,
 "nbformat_minor": 2
}
