{
 "cells": [
  {
   "cell_type": "code",
   "execution_count": 1,
   "metadata": {},
   "outputs": [],
   "source": [
    "import pandas as pd\n",
    "from collections import Counter\n",
    "from itertools import chain\n",
    "import pm4py"
   ]
  },
  {
   "cell_type": "code",
   "execution_count": 2,
   "metadata": {},
   "outputs": [
    {
     "data": {
      "text/html": [
       "<div>\n",
       "<style scoped>\n",
       "    .dataframe tbody tr th:only-of-type {\n",
       "        vertical-align: middle;\n",
       "    }\n",
       "\n",
       "    .dataframe tbody tr th {\n",
       "        vertical-align: top;\n",
       "    }\n",
       "\n",
       "    .dataframe thead th {\n",
       "        text-align: right;\n",
       "    }\n",
       "</style>\n",
       "<table border=\"1\" class=\"dataframe\">\n",
       "  <thead>\n",
       "    <tr style=\"text-align: right;\">\n",
       "      <th></th>\n",
       "      <th>pseudo_id</th>\n",
       "      <th>verslagen_report_tags</th>\n",
       "      <th>verslagen_report_content</th>\n",
       "      <th>verslagen_report_start_date</th>\n",
       "      <th>verslagen_report_content_cleaned</th>\n",
       "      <th>content_words</th>\n",
       "      <th>content_words_lemmatized</th>\n",
       "    </tr>\n",
       "  </thead>\n",
       "  <tbody>\n",
       "    <tr>\n",
       "      <th>0</th>\n",
       "      <td>046D1FFEBDD40E1665D0ABA6DD8FC9F8BC4351C6</td>\n",
       "      <td>Klinische Brief</td>\n",
       "      <td>Dhr. A.J. Dingemans, huisarts\\r\\n[STREETNAME] ...</td>\n",
       "      <td>2020-11-26 15:06:00</td>\n",
       "      <td>dhr aj dingemans huisarts streetname nr city d...</td>\n",
       "      <td>['dhr', 'aj', 'dingemans', 'huisarts', 'street...</td>\n",
       "      <td>['dhr', 'aj', 'dingemans', 'huisarts', 'street...</td>\n",
       "    </tr>\n",
       "    <tr>\n",
       "      <th>1</th>\n",
       "      <td>046D1FFEBDD40E1665D0ABA6DD8FC9F8BC4351C6</td>\n",
       "      <td>Consult, Kliniek: vervolgconsult</td>\n",
       "      <td>Samenvatting: \\nRectaal bloedverlies obv diver...</td>\n",
       "      <td>2020-11-26 09:53:00</td>\n",
       "      <td>samenvatting rectaal bloedverlies obv divertik...</td>\n",
       "      <td>['samenvatting', 'rectaal', 'bloedverlies', 'o...</td>\n",
       "      <td>['samenvatting', 'rectaal', 'bloedverlie', 'ob...</td>\n",
       "    </tr>\n",
       "    <tr>\n",
       "      <th>2</th>\n",
       "      <td>046D1FFEBDD40E1665D0ABA6DD8FC9F8BC4351C6</td>\n",
       "      <td>Poliklinische Brief</td>\n",
       "      <td>COLOSCOPIE\\r\\n\\r\\nBetreft\\r\\nMw. [INITIALS] [L...</td>\n",
       "      <td>2020-11-25 14:13:00</td>\n",
       "      <td>coloscopie betreft mw initials lastname adresg...</td>\n",
       "      <td>['coloscopie', 'betreft', 'mw', 'initials', 'l...</td>\n",
       "      <td>['coloscopie', 'betreffen', 'mw', 'initials', ...</td>\n",
       "    </tr>\n",
       "    <tr>\n",
       "      <th>3</th>\n",
       "      <td>046D1FFEBDD40E1665D0ABA6DD8FC9F8BC4351C6</td>\n",
       "      <td>Poliklinische Brief</td>\n",
       "      <td>GASTROSCOPIE\\r\\n\\r\\nBetreft\\r\\nMw. [INITIALS] ...</td>\n",
       "      <td>2020-11-25 13:48:00</td>\n",
       "      <td>gastroscopie betreft mw initials lastname adre...</td>\n",
       "      <td>['gastroscopie', 'betreft', 'mw', 'initials', ...</td>\n",
       "      <td>['gastroscopie', 'betreffen', 'mw', 'initials'...</td>\n",
       "    </tr>\n",
       "    <tr>\n",
       "      <th>4</th>\n",
       "      <td>046D1FFEBDD40E1665D0ABA6DD8FC9F8BC4351C6</td>\n",
       "      <td>Consult, Kliniek: vervolgconsult</td>\n",
       "      <td>Samenvatting: \\nRectaal bloedverlies ; eenmali...</td>\n",
       "      <td>2020-11-25 08:47:00</td>\n",
       "      <td>samenvatting rectaal bloedverlies eenmalig hd ...</td>\n",
       "      <td>['samenvatting', 'rectaal', 'bloedverlies', 'e...</td>\n",
       "      <td>['samenvatting', 'rectaal', 'bloedverlie', 'ee...</td>\n",
       "    </tr>\n",
       "  </tbody>\n",
       "</table>\n",
       "</div>"
      ],
      "text/plain": [
       "                                  pseudo_id             verslagen_report_tags  \\\n",
       "0  046D1FFEBDD40E1665D0ABA6DD8FC9F8BC4351C6                   Klinische Brief   \n",
       "1  046D1FFEBDD40E1665D0ABA6DD8FC9F8BC4351C6  Consult, Kliniek: vervolgconsult   \n",
       "2  046D1FFEBDD40E1665D0ABA6DD8FC9F8BC4351C6               Poliklinische Brief   \n",
       "3  046D1FFEBDD40E1665D0ABA6DD8FC9F8BC4351C6               Poliklinische Brief   \n",
       "4  046D1FFEBDD40E1665D0ABA6DD8FC9F8BC4351C6  Consult, Kliniek: vervolgconsult   \n",
       "\n",
       "                            verslagen_report_content  \\\n",
       "0  Dhr. A.J. Dingemans, huisarts\\r\\n[STREETNAME] ...   \n",
       "1  Samenvatting: \\nRectaal bloedverlies obv diver...   \n",
       "2  COLOSCOPIE\\r\\n\\r\\nBetreft\\r\\nMw. [INITIALS] [L...   \n",
       "3  GASTROSCOPIE\\r\\n\\r\\nBetreft\\r\\nMw. [INITIALS] ...   \n",
       "4  Samenvatting: \\nRectaal bloedverlies ; eenmali...   \n",
       "\n",
       "  verslagen_report_start_date  \\\n",
       "0         2020-11-26 15:06:00   \n",
       "1         2020-11-26 09:53:00   \n",
       "2         2020-11-25 14:13:00   \n",
       "3         2020-11-25 13:48:00   \n",
       "4         2020-11-25 08:47:00   \n",
       "\n",
       "                    verslagen_report_content_cleaned  \\\n",
       "0  dhr aj dingemans huisarts streetname nr city d...   \n",
       "1  samenvatting rectaal bloedverlies obv divertik...   \n",
       "2  coloscopie betreft mw initials lastname adresg...   \n",
       "3  gastroscopie betreft mw initials lastname adre...   \n",
       "4  samenvatting rectaal bloedverlies eenmalig hd ...   \n",
       "\n",
       "                                       content_words  \\\n",
       "0  ['dhr', 'aj', 'dingemans', 'huisarts', 'street...   \n",
       "1  ['samenvatting', 'rectaal', 'bloedverlies', 'o...   \n",
       "2  ['coloscopie', 'betreft', 'mw', 'initials', 'l...   \n",
       "3  ['gastroscopie', 'betreft', 'mw', 'initials', ...   \n",
       "4  ['samenvatting', 'rectaal', 'bloedverlies', 'e...   \n",
       "\n",
       "                            content_words_lemmatized  \n",
       "0  ['dhr', 'aj', 'dingemans', 'huisarts', 'street...  \n",
       "1  ['samenvatting', 'rectaal', 'bloedverlie', 'ob...  \n",
       "2  ['coloscopie', 'betreffen', 'mw', 'initials', ...  \n",
       "3  ['gastroscopie', 'betreffen', 'mw', 'initials'...  \n",
       "4  ['samenvatting', 'rectaal', 'bloedverlie', 'ee...  "
      ]
     },
     "execution_count": 2,
     "metadata": {},
     "output_type": "execute_result"
    }
   ],
   "source": [
    "df_verslagen_clean = pd.read_csv('a:/df_verslagen_cleaned.csv')\n",
    "df_verslagen_clean.head()"
   ]
  },
  {
   "cell_type": "code",
   "execution_count": 3,
   "metadata": {},
   "outputs": [
    {
     "data": {
      "text/html": [
       "<div>\n",
       "<style scoped>\n",
       "    .dataframe tbody tr th:only-of-type {\n",
       "        vertical-align: middle;\n",
       "    }\n",
       "\n",
       "    .dataframe tbody tr th {\n",
       "        vertical-align: top;\n",
       "    }\n",
       "\n",
       "    .dataframe thead th {\n",
       "        text-align: right;\n",
       "    }\n",
       "</style>\n",
       "<table border=\"1\" class=\"dataframe\">\n",
       "  <thead>\n",
       "    <tr style=\"text-align: right;\">\n",
       "      <th></th>\n",
       "      <th>pseudo_id</th>\n",
       "      <th>verslagen_report_tags</th>\n",
       "      <th>verslagen_report_start_date</th>\n",
       "    </tr>\n",
       "  </thead>\n",
       "  <tbody>\n",
       "    <tr>\n",
       "      <th>0</th>\n",
       "      <td>046D1FFEBDD40E1665D0ABA6DD8FC9F8BC4351C6</td>\n",
       "      <td>Klinische Brief</td>\n",
       "      <td>2020-11-26 15:06:00</td>\n",
       "    </tr>\n",
       "    <tr>\n",
       "      <th>1</th>\n",
       "      <td>046D1FFEBDD40E1665D0ABA6DD8FC9F8BC4351C6</td>\n",
       "      <td>Consult, Kliniek: vervolgconsult</td>\n",
       "      <td>2020-11-26 09:53:00</td>\n",
       "    </tr>\n",
       "    <tr>\n",
       "      <th>2</th>\n",
       "      <td>046D1FFEBDD40E1665D0ABA6DD8FC9F8BC4351C6</td>\n",
       "      <td>Poliklinische Brief</td>\n",
       "      <td>2020-11-25 14:13:00</td>\n",
       "    </tr>\n",
       "    <tr>\n",
       "      <th>3</th>\n",
       "      <td>046D1FFEBDD40E1665D0ABA6DD8FC9F8BC4351C6</td>\n",
       "      <td>Poliklinische Brief</td>\n",
       "      <td>2020-11-25 13:48:00</td>\n",
       "    </tr>\n",
       "    <tr>\n",
       "      <th>4</th>\n",
       "      <td>046D1FFEBDD40E1665D0ABA6DD8FC9F8BC4351C6</td>\n",
       "      <td>Consult, Kliniek: vervolgconsult</td>\n",
       "      <td>2020-11-25 08:47:00</td>\n",
       "    </tr>\n",
       "  </tbody>\n",
       "</table>\n",
       "</div>"
      ],
      "text/plain": [
       "                                  pseudo_id             verslagen_report_tags  \\\n",
       "0  046D1FFEBDD40E1665D0ABA6DD8FC9F8BC4351C6                   Klinische Brief   \n",
       "1  046D1FFEBDD40E1665D0ABA6DD8FC9F8BC4351C6  Consult, Kliniek: vervolgconsult   \n",
       "2  046D1FFEBDD40E1665D0ABA6DD8FC9F8BC4351C6               Poliklinische Brief   \n",
       "3  046D1FFEBDD40E1665D0ABA6DD8FC9F8BC4351C6               Poliklinische Brief   \n",
       "4  046D1FFEBDD40E1665D0ABA6DD8FC9F8BC4351C6  Consult, Kliniek: vervolgconsult   \n",
       "\n",
       "  verslagen_report_start_date  \n",
       "0         2020-11-26 15:06:00  \n",
       "1         2020-11-26 09:53:00  \n",
       "2         2020-11-25 14:13:00  \n",
       "3         2020-11-25 13:48:00  \n",
       "4         2020-11-25 08:47:00  "
      ]
     },
     "execution_count": 3,
     "metadata": {},
     "output_type": "execute_result"
    }
   ],
   "source": [
    "df_verslagen = pd.read_csv('a:/bloeding-met-patientenlijst-2/bloeding-met-patientenlijst-4-verslagen.csv')\n",
    "\n",
    "df_verslagen = df_verslagen.drop(columns=['verslagen_report_content'])\n",
    "df_verslagen.head()"
   ]
  },
  {
   "cell_type": "code",
   "execution_count": 4,
   "metadata": {},
   "outputs": [
    {
     "name": "stdout",
     "output_type": "stream",
     "text": [
      "                                              Sequence  Count\n",
      "0    Consult, SEH->Consult, SEH->Consult, SEH->Cons...      1\n",
      "1    Consult, SEH->Consult, SEH->Consult, Kliniek: ...      1\n",
      "2    Consult, SEH->Spoedeisende Hulp->Consult, Klin...      1\n",
      "3    Consult, SEH->Consult, SEH->Consult, SEH->Cons...      1\n",
      "4    Consult, SEH->Consult->Consult->Consult, Overi...      1\n",
      "..                                                 ...    ...\n",
      "100  Consult, SEH->Consult, SEH->Consult, SEH->Cons...      1\n",
      "101  Consult, SEH->Consult, SEH->Consult, Overige a...      1\n",
      "102  Consult, SEH->Consult, SEH->Consult, SEH->Cons...      1\n",
      "103  Consult, SEH->Consult, SEH->Consult, Kliniek: ...      1\n",
      "104  Consult, SEH->Consult, SEH->Consult, SEH->Cons...      1\n",
      "\n",
      "[105 rows x 2 columns]\n"
     ]
    }
   ],
   "source": [
    "# Step 1: Sort by Patient_ID and Timestamp\n",
    "df_verslagen = df_verslagen.sort_values(by=['pseudo_id', 'verslagen_report_start_date'])\n",
    "\n",
    "# Step 2: Create a list of sequences for each patient\n",
    "patient_sequences = df_verslagen.groupby('pseudo_id')['verslagen_report_tags'].apply(lambda x: '->'.join(x))\n",
    "\n",
    "# Step 3: Count the occurrences of each unique sequence\n",
    "sequence_counts = Counter(patient_sequences)\n",
    "\n",
    "# Step 4: Convert to DataFrame for better visualization\n",
    "sequence_df = pd.DataFrame(sequence_counts.items(), columns=['Sequence', 'Count'])\n",
    "\n",
    "# Step 5: Sort by most frequent sequences\n",
    "sequence_df = sequence_df.sort_values(by='Count', ascending=False)\n",
    "\n",
    "print(sequence_df)\n"
   ]
  },
  {
   "cell_type": "code",
   "execution_count": 5,
   "metadata": {},
   "outputs": [
    {
     "name": "stdout",
     "output_type": "stream",
     "text": [
      "Counter({'Consult, Kliniek: vervolgconsult': 2249, 'Consult, Polikliniek: vervolgconsult': 1993, 'Consult': 1577, 'Consult, SEH': 1227, 'Consult, Overige aantekeningen': 682, 'Poliklinische Brief': 481, 'Consult, Telefonisch consult': 452, 'Klinische Brief': 318, 'Spoedeisende Hulp': 250, 'Consult, Kliniek: eerste consult': 139, 'Consult, Polikliniek: eerste consult': 128, 'Consult, Samenvatting': 16, 'Consult, Thuisbehandeling': 14, 'Algemeen': 14, 'Consult, Intercollegiaal consult': 12, 'Consult, Multidisciplinair overleg': 11, 'Consult, Dagbehandeling': 9, 'Radiologieverslag, ECG': 1, 'Consult, Research': 1, 'Radiologieverslag, ECG kliniek': 1, 'Radiologieverslag, Heup links': 1, 'Radiologieverslag, CT colonografie': 1})\n"
     ]
    }
   ],
   "source": [
    "# Flatten all steps into a single list\n",
    "all_steps = list(chain(*df_verslagen.groupby('pseudo_id')['verslagen_report_tags'].apply(list)))\n",
    "\n",
    "# Count step frequency\n",
    "step_counts = Counter(all_steps)\n",
    "print(step_counts)\n"
   ]
  },
  {
   "cell_type": "code",
   "execution_count": 6,
   "metadata": {},
   "outputs": [],
   "source": [
    "# pip install pm4py"
   ]
  },
  {
   "cell_type": "code",
   "execution_count": 7,
   "metadata": {},
   "outputs": [
    {
     "name": "stdout",
     "output_type": "stream",
     "text": [
      "                                  pseudo_id verslagen_report_tags  \\\n",
      "0  046D1FFEBDD40E1665D0ABA6DD8FC9F8BC4351C6          Consult, SEH   \n",
      "1  046D1FFEBDD40E1665D0ABA6DD8FC9F8BC4351C6          Consult, SEH   \n",
      "2  046D1FFEBDD40E1665D0ABA6DD8FC9F8BC4351C6          Consult, SEH   \n",
      "3  046D1FFEBDD40E1665D0ABA6DD8FC9F8BC4351C6          Consult, SEH   \n",
      "4  046D1FFEBDD40E1665D0ABA6DD8FC9F8BC4351C6          Consult, SEH   \n",
      "\n",
      "  verslagen_report_start_date                         case:concept:name  \\\n",
      "0   2013-10-21 10:24:00+00:00  046D1FFEBDD40E1665D0ABA6DD8FC9F8BC4351C6   \n",
      "1   2013-10-21 10:40:00+00:00  046D1FFEBDD40E1665D0ABA6DD8FC9F8BC4351C6   \n",
      "2   2013-10-21 10:41:00+00:00  046D1FFEBDD40E1665D0ABA6DD8FC9F8BC4351C6   \n",
      "3   2013-10-21 10:50:00+00:00  046D1FFEBDD40E1665D0ABA6DD8FC9F8BC4351C6   \n",
      "4   2013-10-22 19:59:00+00:00  046D1FFEBDD40E1665D0ABA6DD8FC9F8BC4351C6   \n",
      "\n",
      "   concept:name            time:timestamp  @@index  @@case_index  \n",
      "0  Consult, SEH 2013-10-21 10:24:00+00:00        0             0  \n",
      "1  Consult, SEH 2013-10-21 10:40:00+00:00        1             0  \n",
      "2  Consult, SEH 2013-10-21 10:41:00+00:00        2             0  \n",
      "3  Consult, SEH 2013-10-21 10:50:00+00:00        3             0  \n",
      "4  Consult, SEH 2013-10-22 19:59:00+00:00        4             0  \n"
     ]
    }
   ],
   "source": [
    "# Convert DataFrame to PM4Py event log\n",
    "event_log = pm4py.format_dataframe(df_verslagen, case_id='pseudo_id', activity_key='verslagen_report_tags', timestamp_key='verslagen_report_start_date')\n",
    "\n",
    "print(event_log.head())  # Verify format"
   ]
  },
  {
   "cell_type": "code",
   "execution_count": 8,
   "metadata": {},
   "outputs": [],
   "source": [
    "# import pm4py\n",
    "\n",
    "# log = event_log\n",
    "# # Discover Petri net using the inductive miner\n",
    "# net, initial_marking, final_marking = pm4py.discover_petri_net_inductive(log)\n",
    "# # Visualize the Petri net\n",
    "# pm4py.view_petri_net(net, initial_marking, final_marking)\n"
   ]
  },
  {
   "cell_type": "code",
   "execution_count": 9,
   "metadata": {},
   "outputs": [
    {
     "name": "stdout",
     "output_type": "stream",
     "text": [
      "[218400.0, 613500.0, 1720260.0, 2406360.0, 3151620.0, 4576740.0, 7766400.0, 14496780.0, 22653480.0, 24210360.0, 33704640.0, 65798820.0, 67702740.0, 69905640.0, 75358020.0, 80106240.0, 80781060.0, 86062560.0, 92193360.0, 107451840.0, 108336480.0, 109791900.0, 135644460.0, 146545860.0, 151710120.0, 152175840.0, 153228120.0, 166441020.0, 167021280.0, 174007920.0, 199596420.0, 204392340.0, 224052120.0, 226641420.0, 227643840.0, 227946660.0, 231379320.0, 236394480.0, 236455440.0, 237302100.0, 238043340.0, 240284100.0, 241566660.0, 243217860.0, 247786020.0, 250363380.0, 254840940.0, 257159340.0, 260077620.0, 260158020.0, 261599580.0, 270352800.0, 273112440.0, 273454140.0, 274887660.0, 276308580.0, 282717060.0, 283211400.0, 288580500.0, 293572860.0, 295934760.0, 296425680.0, 301270800.0, 303055680.0, 303262980.0, 304494900.0, 309502080.0, 314634300.0, 314853780.0, 320096760.0, 321471780.0, 321663780.0, 329401440.0, 331950000.0, 345190680.0, 345414360.0, 348211740.0, 351557460.0, 356487600.0, 357540900.0, 367111920.0, 379325160.0, 385452360.0, 389127540.0, 391075980.0, 392082840.0, 397729920.0, 399985080.0, 400635780.0, 402239160.0, 407186880.0, 411603840.0, 415502940.0, 422719260.0, 426447900.0, 432409320.0, 438129000.0, 441561960.0, 442685340.0, 451109340.0, 458444700.0, 463896120.0, 464247060.0, 501358620.0, 501742260.0]\n"
     ]
    }
   ],
   "source": [
    "case_duration = pm4py.get_all_case_durations(df_verslagen)\n",
    "print(case_duration)"
   ]
  },
  {
   "cell_type": "code",
   "execution_count": 10,
   "metadata": {},
   "outputs": [
    {
     "data": {
      "text/plain": [
       "{'Consult, SEH': 82,\n",
       " 'Poliklinische Brief': 1,\n",
       " 'Consult': 11,\n",
       " 'Consult, Polikliniek: vervolgconsult': 3,\n",
       " 'Consult, Overige aantekeningen': 5,\n",
       " 'Consult, Polikliniek: eerste consult': 3}"
      ]
     },
     "execution_count": 10,
     "metadata": {},
     "output_type": "execute_result"
    }
   ],
   "source": [
    "start_activities = pm4py.get_start_activities(event_log)\n",
    "start_activities"
   ]
  },
  {
   "cell_type": "code",
   "execution_count": 11,
   "metadata": {},
   "outputs": [
    {
     "data": {
      "text/plain": [
       "{'Klinische Brief': 16,\n",
       " 'Poliklinische Brief': 18,\n",
       " 'Consult, Telefonisch consult': 10,\n",
       " 'Spoedeisende Hulp': 9,\n",
       " 'Consult, Polikliniek: vervolgconsult': 21,\n",
       " 'Consult, SEH': 9,\n",
       " 'Consult, Kliniek: vervolgconsult': 9,\n",
       " 'Consult, Overige aantekeningen': 9,\n",
       " 'Consult, Thuisbehandeling': 1,\n",
       " 'Consult': 1,\n",
       " 'Algemeen': 1,\n",
       " 'Consult, Kliniek: eerste consult': 1}"
      ]
     },
     "execution_count": 11,
     "metadata": {},
     "output_type": "execute_result"
    }
   ],
   "source": [
    "end_activities = pm4py.get_end_activities(event_log)\n",
    "end_activities"
   ]
  },
  {
   "cell_type": "code",
   "execution_count": 12,
   "metadata": {},
   "outputs": [
    {
     "data": {
      "text/html": [
       "<div>\n",
       "<style scoped>\n",
       "    .dataframe tbody tr th:only-of-type {\n",
       "        vertical-align: middle;\n",
       "    }\n",
       "\n",
       "    .dataframe tbody tr th {\n",
       "        vertical-align: top;\n",
       "    }\n",
       "\n",
       "    .dataframe thead th {\n",
       "        text-align: right;\n",
       "    }\n",
       "</style>\n",
       "<table border=\"1\" class=\"dataframe\">\n",
       "  <thead>\n",
       "    <tr style=\"text-align: right;\">\n",
       "      <th></th>\n",
       "      <th>pseudo_id</th>\n",
       "      <th>verslagen_report_tags</th>\n",
       "      <th>verslagen_report_start_date</th>\n",
       "      <th>case:concept:name</th>\n",
       "      <th>concept:name</th>\n",
       "      <th>time:timestamp</th>\n",
       "    </tr>\n",
       "  </thead>\n",
       "  <tbody>\n",
       "    <tr>\n",
       "      <th>6667</th>\n",
       "      <td>C5EE7D6FA25DF773D7EF38E213CDAAA1419C1A7A</td>\n",
       "      <td>Consult, SEH</td>\n",
       "      <td>2021-04-10 21:22:00+00:00</td>\n",
       "      <td>C5EE7D6FA25DF773D7EF38E213CDAAA1419C1A7A</td>\n",
       "      <td>Consult, SEH</td>\n",
       "      <td>2021-04-10 21:22:00+00:00</td>\n",
       "    </tr>\n",
       "    <tr>\n",
       "      <th>6666</th>\n",
       "      <td>C5EE7D6FA25DF773D7EF38E213CDAAA1419C1A7A</td>\n",
       "      <td>Spoedeisende Hulp</td>\n",
       "      <td>2021-04-10 22:11:00+00:00</td>\n",
       "      <td>C5EE7D6FA25DF773D7EF38E213CDAAA1419C1A7A</td>\n",
       "      <td>Spoedeisende Hulp</td>\n",
       "      <td>2021-04-10 22:11:00+00:00</td>\n",
       "    </tr>\n",
       "    <tr>\n",
       "      <th>6665</th>\n",
       "      <td>C5EE7D6FA25DF773D7EF38E213CDAAA1419C1A7A</td>\n",
       "      <td>Consult, Kliniek: vervolgconsult</td>\n",
       "      <td>2021-04-11 00:06:00+00:00</td>\n",
       "      <td>C5EE7D6FA25DF773D7EF38E213CDAAA1419C1A7A</td>\n",
       "      <td>Consult, Kliniek: vervolgconsult</td>\n",
       "      <td>2021-04-11 00:06:00+00:00</td>\n",
       "    </tr>\n",
       "    <tr>\n",
       "      <th>6664</th>\n",
       "      <td>C5EE7D6FA25DF773D7EF38E213CDAAA1419C1A7A</td>\n",
       "      <td>Consult, Kliniek: vervolgconsult</td>\n",
       "      <td>2021-04-11 10:09:00+00:00</td>\n",
       "      <td>C5EE7D6FA25DF773D7EF38E213CDAAA1419C1A7A</td>\n",
       "      <td>Consult, Kliniek: vervolgconsult</td>\n",
       "      <td>2021-04-11 10:09:00+00:00</td>\n",
       "    </tr>\n",
       "    <tr>\n",
       "      <th>6663</th>\n",
       "      <td>C5EE7D6FA25DF773D7EF38E213CDAAA1419C1A7A</td>\n",
       "      <td>Poliklinische Brief</td>\n",
       "      <td>2021-04-11 12:39:00+00:00</td>\n",
       "      <td>C5EE7D6FA25DF773D7EF38E213CDAAA1419C1A7A</td>\n",
       "      <td>Poliklinische Brief</td>\n",
       "      <td>2021-04-11 12:39:00+00:00</td>\n",
       "    </tr>\n",
       "    <tr>\n",
       "      <th>6662</th>\n",
       "      <td>C5EE7D6FA25DF773D7EF38E213CDAAA1419C1A7A</td>\n",
       "      <td>Consult, Kliniek: vervolgconsult</td>\n",
       "      <td>2021-04-12 08:54:00+00:00</td>\n",
       "      <td>C5EE7D6FA25DF773D7EF38E213CDAAA1419C1A7A</td>\n",
       "      <td>Consult, Kliniek: vervolgconsult</td>\n",
       "      <td>2021-04-12 08:54:00+00:00</td>\n",
       "    </tr>\n",
       "    <tr>\n",
       "      <th>6661</th>\n",
       "      <td>C5EE7D6FA25DF773D7EF38E213CDAAA1419C1A7A</td>\n",
       "      <td>Consult, Kliniek: vervolgconsult</td>\n",
       "      <td>2021-04-12 14:44:00+00:00</td>\n",
       "      <td>C5EE7D6FA25DF773D7EF38E213CDAAA1419C1A7A</td>\n",
       "      <td>Consult, Kliniek: vervolgconsult</td>\n",
       "      <td>2021-04-12 14:44:00+00:00</td>\n",
       "    </tr>\n",
       "    <tr>\n",
       "      <th>6660</th>\n",
       "      <td>C5EE7D6FA25DF773D7EF38E213CDAAA1419C1A7A</td>\n",
       "      <td>Consult, Kliniek: vervolgconsult</td>\n",
       "      <td>2021-04-13 08:23:00+00:00</td>\n",
       "      <td>C5EE7D6FA25DF773D7EF38E213CDAAA1419C1A7A</td>\n",
       "      <td>Consult, Kliniek: vervolgconsult</td>\n",
       "      <td>2021-04-13 08:23:00+00:00</td>\n",
       "    </tr>\n",
       "    <tr>\n",
       "      <th>6659</th>\n",
       "      <td>C5EE7D6FA25DF773D7EF38E213CDAAA1419C1A7A</td>\n",
       "      <td>Klinische Brief</td>\n",
       "      <td>2021-04-13 10:02:00+00:00</td>\n",
       "      <td>C5EE7D6FA25DF773D7EF38E213CDAAA1419C1A7A</td>\n",
       "      <td>Klinische Brief</td>\n",
       "      <td>2021-04-13 10:02:00+00:00</td>\n",
       "    </tr>\n",
       "    <tr>\n",
       "      <th>8191</th>\n",
       "      <td>DE46AEBDCCE508CE8C7003D46CFE807F4EF978DF</td>\n",
       "      <td>Consult, SEH</td>\n",
       "      <td>2018-07-10 09:59:00+00:00</td>\n",
       "      <td>DE46AEBDCCE508CE8C7003D46CFE807F4EF978DF</td>\n",
       "      <td>Consult, SEH</td>\n",
       "      <td>2018-07-10 09:59:00+00:00</td>\n",
       "    </tr>\n",
       "    <tr>\n",
       "      <th>8190</th>\n",
       "      <td>DE46AEBDCCE508CE8C7003D46CFE807F4EF978DF</td>\n",
       "      <td>Spoedeisende Hulp</td>\n",
       "      <td>2018-07-10 13:14:00+00:00</td>\n",
       "      <td>DE46AEBDCCE508CE8C7003D46CFE807F4EF978DF</td>\n",
       "      <td>Spoedeisende Hulp</td>\n",
       "      <td>2018-07-10 13:14:00+00:00</td>\n",
       "    </tr>\n",
       "    <tr>\n",
       "      <th>8189</th>\n",
       "      <td>DE46AEBDCCE508CE8C7003D46CFE807F4EF978DF</td>\n",
       "      <td>Consult, Samenvatting</td>\n",
       "      <td>2018-07-10 14:41:00+00:00</td>\n",
       "      <td>DE46AEBDCCE508CE8C7003D46CFE807F4EF978DF</td>\n",
       "      <td>Consult, Samenvatting</td>\n",
       "      <td>2018-07-10 14:41:00+00:00</td>\n",
       "    </tr>\n",
       "    <tr>\n",
       "      <th>8188</th>\n",
       "      <td>DE46AEBDCCE508CE8C7003D46CFE807F4EF978DF</td>\n",
       "      <td>Poliklinische Brief</td>\n",
       "      <td>2018-07-10 14:42:00+00:00</td>\n",
       "      <td>DE46AEBDCCE508CE8C7003D46CFE807F4EF978DF</td>\n",
       "      <td>Poliklinische Brief</td>\n",
       "      <td>2018-07-10 14:42:00+00:00</td>\n",
       "    </tr>\n",
       "    <tr>\n",
       "      <th>8187</th>\n",
       "      <td>DE46AEBDCCE508CE8C7003D46CFE807F4EF978DF</td>\n",
       "      <td>Consult</td>\n",
       "      <td>2018-07-10 14:43:00+00:00</td>\n",
       "      <td>DE46AEBDCCE508CE8C7003D46CFE807F4EF978DF</td>\n",
       "      <td>Consult</td>\n",
       "      <td>2018-07-10 14:43:00+00:00</td>\n",
       "    </tr>\n",
       "    <tr>\n",
       "      <th>8186</th>\n",
       "      <td>DE46AEBDCCE508CE8C7003D46CFE807F4EF978DF</td>\n",
       "      <td>Consult, Kliniek: vervolgconsult</td>\n",
       "      <td>2018-07-10 18:00:00+00:00</td>\n",
       "      <td>DE46AEBDCCE508CE8C7003D46CFE807F4EF978DF</td>\n",
       "      <td>Consult, Kliniek: vervolgconsult</td>\n",
       "      <td>2018-07-10 18:00:00+00:00</td>\n",
       "    </tr>\n",
       "    <tr>\n",
       "      <th>8185</th>\n",
       "      <td>DE46AEBDCCE508CE8C7003D46CFE807F4EF978DF</td>\n",
       "      <td>Consult, Kliniek: vervolgconsult</td>\n",
       "      <td>2018-07-10 19:11:00+00:00</td>\n",
       "      <td>DE46AEBDCCE508CE8C7003D46CFE807F4EF978DF</td>\n",
       "      <td>Consult, Kliniek: vervolgconsult</td>\n",
       "      <td>2018-07-10 19:11:00+00:00</td>\n",
       "    </tr>\n",
       "    <tr>\n",
       "      <th>8184</th>\n",
       "      <td>DE46AEBDCCE508CE8C7003D46CFE807F4EF978DF</td>\n",
       "      <td>Consult, Kliniek: vervolgconsult</td>\n",
       "      <td>2018-07-11 08:38:00+00:00</td>\n",
       "      <td>DE46AEBDCCE508CE8C7003D46CFE807F4EF978DF</td>\n",
       "      <td>Consult, Kliniek: vervolgconsult</td>\n",
       "      <td>2018-07-11 08:38:00+00:00</td>\n",
       "    </tr>\n",
       "    <tr>\n",
       "      <th>8183</th>\n",
       "      <td>DE46AEBDCCE508CE8C7003D46CFE807F4EF978DF</td>\n",
       "      <td>Consult, Samenvatting</td>\n",
       "      <td>2018-07-11 10:03:00+00:00</td>\n",
       "      <td>DE46AEBDCCE508CE8C7003D46CFE807F4EF978DF</td>\n",
       "      <td>Consult, Samenvatting</td>\n",
       "      <td>2018-07-11 10:03:00+00:00</td>\n",
       "    </tr>\n",
       "    <tr>\n",
       "      <th>8182</th>\n",
       "      <td>DE46AEBDCCE508CE8C7003D46CFE807F4EF978DF</td>\n",
       "      <td>Poliklinische Brief</td>\n",
       "      <td>2018-07-11 10:08:00+00:00</td>\n",
       "      <td>DE46AEBDCCE508CE8C7003D46CFE807F4EF978DF</td>\n",
       "      <td>Poliklinische Brief</td>\n",
       "      <td>2018-07-11 10:08:00+00:00</td>\n",
       "    </tr>\n",
       "    <tr>\n",
       "      <th>8181</th>\n",
       "      <td>DE46AEBDCCE508CE8C7003D46CFE807F4EF978DF</td>\n",
       "      <td>Consult, Samenvatting</td>\n",
       "      <td>2018-07-11 13:57:00+00:00</td>\n",
       "      <td>DE46AEBDCCE508CE8C7003D46CFE807F4EF978DF</td>\n",
       "      <td>Consult, Samenvatting</td>\n",
       "      <td>2018-07-11 13:57:00+00:00</td>\n",
       "    </tr>\n",
       "    <tr>\n",
       "      <th>8180</th>\n",
       "      <td>DE46AEBDCCE508CE8C7003D46CFE807F4EF978DF</td>\n",
       "      <td>Poliklinische Brief</td>\n",
       "      <td>2018-07-11 14:00:00+00:00</td>\n",
       "      <td>DE46AEBDCCE508CE8C7003D46CFE807F4EF978DF</td>\n",
       "      <td>Poliklinische Brief</td>\n",
       "      <td>2018-07-11 14:00:00+00:00</td>\n",
       "    </tr>\n",
       "    <tr>\n",
       "      <th>8179</th>\n",
       "      <td>DE46AEBDCCE508CE8C7003D46CFE807F4EF978DF</td>\n",
       "      <td>Consult, Kliniek: vervolgconsult</td>\n",
       "      <td>2018-07-12 00:12:00+00:00</td>\n",
       "      <td>DE46AEBDCCE508CE8C7003D46CFE807F4EF978DF</td>\n",
       "      <td>Consult, Kliniek: vervolgconsult</td>\n",
       "      <td>2018-07-12 00:12:00+00:00</td>\n",
       "    </tr>\n",
       "    <tr>\n",
       "      <th>8178</th>\n",
       "      <td>DE46AEBDCCE508CE8C7003D46CFE807F4EF978DF</td>\n",
       "      <td>Consult, Kliniek: vervolgconsult</td>\n",
       "      <td>2018-07-12 09:26:00+00:00</td>\n",
       "      <td>DE46AEBDCCE508CE8C7003D46CFE807F4EF978DF</td>\n",
       "      <td>Consult, Kliniek: vervolgconsult</td>\n",
       "      <td>2018-07-12 09:26:00+00:00</td>\n",
       "    </tr>\n",
       "    <tr>\n",
       "      <th>8177</th>\n",
       "      <td>DE46AEBDCCE508CE8C7003D46CFE807F4EF978DF</td>\n",
       "      <td>Consult</td>\n",
       "      <td>2018-07-12 17:10:00+00:00</td>\n",
       "      <td>DE46AEBDCCE508CE8C7003D46CFE807F4EF978DF</td>\n",
       "      <td>Consult</td>\n",
       "      <td>2018-07-12 17:10:00+00:00</td>\n",
       "    </tr>\n",
       "    <tr>\n",
       "      <th>8176</th>\n",
       "      <td>DE46AEBDCCE508CE8C7003D46CFE807F4EF978DF</td>\n",
       "      <td>Consult, Kliniek: vervolgconsult</td>\n",
       "      <td>2018-07-13 10:54:00+00:00</td>\n",
       "      <td>DE46AEBDCCE508CE8C7003D46CFE807F4EF978DF</td>\n",
       "      <td>Consult, Kliniek: vervolgconsult</td>\n",
       "      <td>2018-07-13 10:54:00+00:00</td>\n",
       "    </tr>\n",
       "    <tr>\n",
       "      <th>8175</th>\n",
       "      <td>DE46AEBDCCE508CE8C7003D46CFE807F4EF978DF</td>\n",
       "      <td>Klinische Brief</td>\n",
       "      <td>2018-07-13 15:29:00+00:00</td>\n",
       "      <td>DE46AEBDCCE508CE8C7003D46CFE807F4EF978DF</td>\n",
       "      <td>Klinische Brief</td>\n",
       "      <td>2018-07-13 15:29:00+00:00</td>\n",
       "    </tr>\n",
       "    <tr>\n",
       "      <th>8174</th>\n",
       "      <td>DE46AEBDCCE508CE8C7003D46CFE807F4EF978DF</td>\n",
       "      <td>Consult, Kliniek: vervolgconsult</td>\n",
       "      <td>2018-07-14 12:31:00+00:00</td>\n",
       "      <td>DE46AEBDCCE508CE8C7003D46CFE807F4EF978DF</td>\n",
       "      <td>Consult, Kliniek: vervolgconsult</td>\n",
       "      <td>2018-07-14 12:31:00+00:00</td>\n",
       "    </tr>\n",
       "    <tr>\n",
       "      <th>8173</th>\n",
       "      <td>DE46AEBDCCE508CE8C7003D46CFE807F4EF978DF</td>\n",
       "      <td>Consult, Kliniek: vervolgconsult</td>\n",
       "      <td>2018-07-15 10:41:00+00:00</td>\n",
       "      <td>DE46AEBDCCE508CE8C7003D46CFE807F4EF978DF</td>\n",
       "      <td>Consult, Kliniek: vervolgconsult</td>\n",
       "      <td>2018-07-15 10:41:00+00:00</td>\n",
       "    </tr>\n",
       "    <tr>\n",
       "      <th>8172</th>\n",
       "      <td>DE46AEBDCCE508CE8C7003D46CFE807F4EF978DF</td>\n",
       "      <td>Consult, Kliniek: vervolgconsult</td>\n",
       "      <td>2018-07-15 20:36:00+00:00</td>\n",
       "      <td>DE46AEBDCCE508CE8C7003D46CFE807F4EF978DF</td>\n",
       "      <td>Consult, Kliniek: vervolgconsult</td>\n",
       "      <td>2018-07-15 20:36:00+00:00</td>\n",
       "    </tr>\n",
       "    <tr>\n",
       "      <th>8171</th>\n",
       "      <td>DE46AEBDCCE508CE8C7003D46CFE807F4EF978DF</td>\n",
       "      <td>Consult, Kliniek: vervolgconsult</td>\n",
       "      <td>2018-07-16 10:13:00+00:00</td>\n",
       "      <td>DE46AEBDCCE508CE8C7003D46CFE807F4EF978DF</td>\n",
       "      <td>Consult, Kliniek: vervolgconsult</td>\n",
       "      <td>2018-07-16 10:13:00+00:00</td>\n",
       "    </tr>\n",
       "    <tr>\n",
       "      <th>8170</th>\n",
       "      <td>DE46AEBDCCE508CE8C7003D46CFE807F4EF978DF</td>\n",
       "      <td>Consult, Kliniek: vervolgconsult</td>\n",
       "      <td>2018-07-17 09:45:00+00:00</td>\n",
       "      <td>DE46AEBDCCE508CE8C7003D46CFE807F4EF978DF</td>\n",
       "      <td>Consult, Kliniek: vervolgconsult</td>\n",
       "      <td>2018-07-17 09:45:00+00:00</td>\n",
       "    </tr>\n",
       "    <tr>\n",
       "      <th>8169</th>\n",
       "      <td>DE46AEBDCCE508CE8C7003D46CFE807F4EF978DF</td>\n",
       "      <td>Klinische Brief</td>\n",
       "      <td>2018-07-17 12:24:00+00:00</td>\n",
       "      <td>DE46AEBDCCE508CE8C7003D46CFE807F4EF978DF</td>\n",
       "      <td>Klinische Brief</td>\n",
       "      <td>2018-07-17 12:24:00+00:00</td>\n",
       "    </tr>\n",
       "  </tbody>\n",
       "</table>\n",
       "</div>"
      ],
      "text/plain": [
       "                                     pseudo_id  \\\n",
       "6667  C5EE7D6FA25DF773D7EF38E213CDAAA1419C1A7A   \n",
       "6666  C5EE7D6FA25DF773D7EF38E213CDAAA1419C1A7A   \n",
       "6665  C5EE7D6FA25DF773D7EF38E213CDAAA1419C1A7A   \n",
       "6664  C5EE7D6FA25DF773D7EF38E213CDAAA1419C1A7A   \n",
       "6663  C5EE7D6FA25DF773D7EF38E213CDAAA1419C1A7A   \n",
       "6662  C5EE7D6FA25DF773D7EF38E213CDAAA1419C1A7A   \n",
       "6661  C5EE7D6FA25DF773D7EF38E213CDAAA1419C1A7A   \n",
       "6660  C5EE7D6FA25DF773D7EF38E213CDAAA1419C1A7A   \n",
       "6659  C5EE7D6FA25DF773D7EF38E213CDAAA1419C1A7A   \n",
       "8191  DE46AEBDCCE508CE8C7003D46CFE807F4EF978DF   \n",
       "8190  DE46AEBDCCE508CE8C7003D46CFE807F4EF978DF   \n",
       "8189  DE46AEBDCCE508CE8C7003D46CFE807F4EF978DF   \n",
       "8188  DE46AEBDCCE508CE8C7003D46CFE807F4EF978DF   \n",
       "8187  DE46AEBDCCE508CE8C7003D46CFE807F4EF978DF   \n",
       "8186  DE46AEBDCCE508CE8C7003D46CFE807F4EF978DF   \n",
       "8185  DE46AEBDCCE508CE8C7003D46CFE807F4EF978DF   \n",
       "8184  DE46AEBDCCE508CE8C7003D46CFE807F4EF978DF   \n",
       "8183  DE46AEBDCCE508CE8C7003D46CFE807F4EF978DF   \n",
       "8182  DE46AEBDCCE508CE8C7003D46CFE807F4EF978DF   \n",
       "8181  DE46AEBDCCE508CE8C7003D46CFE807F4EF978DF   \n",
       "8180  DE46AEBDCCE508CE8C7003D46CFE807F4EF978DF   \n",
       "8179  DE46AEBDCCE508CE8C7003D46CFE807F4EF978DF   \n",
       "8178  DE46AEBDCCE508CE8C7003D46CFE807F4EF978DF   \n",
       "8177  DE46AEBDCCE508CE8C7003D46CFE807F4EF978DF   \n",
       "8176  DE46AEBDCCE508CE8C7003D46CFE807F4EF978DF   \n",
       "8175  DE46AEBDCCE508CE8C7003D46CFE807F4EF978DF   \n",
       "8174  DE46AEBDCCE508CE8C7003D46CFE807F4EF978DF   \n",
       "8173  DE46AEBDCCE508CE8C7003D46CFE807F4EF978DF   \n",
       "8172  DE46AEBDCCE508CE8C7003D46CFE807F4EF978DF   \n",
       "8171  DE46AEBDCCE508CE8C7003D46CFE807F4EF978DF   \n",
       "8170  DE46AEBDCCE508CE8C7003D46CFE807F4EF978DF   \n",
       "8169  DE46AEBDCCE508CE8C7003D46CFE807F4EF978DF   \n",
       "\n",
       "                 verslagen_report_tags verslagen_report_start_date  \\\n",
       "6667                      Consult, SEH   2021-04-10 21:22:00+00:00   \n",
       "6666                 Spoedeisende Hulp   2021-04-10 22:11:00+00:00   \n",
       "6665  Consult, Kliniek: vervolgconsult   2021-04-11 00:06:00+00:00   \n",
       "6664  Consult, Kliniek: vervolgconsult   2021-04-11 10:09:00+00:00   \n",
       "6663               Poliklinische Brief   2021-04-11 12:39:00+00:00   \n",
       "6662  Consult, Kliniek: vervolgconsult   2021-04-12 08:54:00+00:00   \n",
       "6661  Consult, Kliniek: vervolgconsult   2021-04-12 14:44:00+00:00   \n",
       "6660  Consult, Kliniek: vervolgconsult   2021-04-13 08:23:00+00:00   \n",
       "6659                   Klinische Brief   2021-04-13 10:02:00+00:00   \n",
       "8191                      Consult, SEH   2018-07-10 09:59:00+00:00   \n",
       "8190                 Spoedeisende Hulp   2018-07-10 13:14:00+00:00   \n",
       "8189             Consult, Samenvatting   2018-07-10 14:41:00+00:00   \n",
       "8188               Poliklinische Brief   2018-07-10 14:42:00+00:00   \n",
       "8187                           Consult   2018-07-10 14:43:00+00:00   \n",
       "8186  Consult, Kliniek: vervolgconsult   2018-07-10 18:00:00+00:00   \n",
       "8185  Consult, Kliniek: vervolgconsult   2018-07-10 19:11:00+00:00   \n",
       "8184  Consult, Kliniek: vervolgconsult   2018-07-11 08:38:00+00:00   \n",
       "8183             Consult, Samenvatting   2018-07-11 10:03:00+00:00   \n",
       "8182               Poliklinische Brief   2018-07-11 10:08:00+00:00   \n",
       "8181             Consult, Samenvatting   2018-07-11 13:57:00+00:00   \n",
       "8180               Poliklinische Brief   2018-07-11 14:00:00+00:00   \n",
       "8179  Consult, Kliniek: vervolgconsult   2018-07-12 00:12:00+00:00   \n",
       "8178  Consult, Kliniek: vervolgconsult   2018-07-12 09:26:00+00:00   \n",
       "8177                           Consult   2018-07-12 17:10:00+00:00   \n",
       "8176  Consult, Kliniek: vervolgconsult   2018-07-13 10:54:00+00:00   \n",
       "8175                   Klinische Brief   2018-07-13 15:29:00+00:00   \n",
       "8174  Consult, Kliniek: vervolgconsult   2018-07-14 12:31:00+00:00   \n",
       "8173  Consult, Kliniek: vervolgconsult   2018-07-15 10:41:00+00:00   \n",
       "8172  Consult, Kliniek: vervolgconsult   2018-07-15 20:36:00+00:00   \n",
       "8171  Consult, Kliniek: vervolgconsult   2018-07-16 10:13:00+00:00   \n",
       "8170  Consult, Kliniek: vervolgconsult   2018-07-17 09:45:00+00:00   \n",
       "8169                   Klinische Brief   2018-07-17 12:24:00+00:00   \n",
       "\n",
       "                             case:concept:name  \\\n",
       "6667  C5EE7D6FA25DF773D7EF38E213CDAAA1419C1A7A   \n",
       "6666  C5EE7D6FA25DF773D7EF38E213CDAAA1419C1A7A   \n",
       "6665  C5EE7D6FA25DF773D7EF38E213CDAAA1419C1A7A   \n",
       "6664  C5EE7D6FA25DF773D7EF38E213CDAAA1419C1A7A   \n",
       "6663  C5EE7D6FA25DF773D7EF38E213CDAAA1419C1A7A   \n",
       "6662  C5EE7D6FA25DF773D7EF38E213CDAAA1419C1A7A   \n",
       "6661  C5EE7D6FA25DF773D7EF38E213CDAAA1419C1A7A   \n",
       "6660  C5EE7D6FA25DF773D7EF38E213CDAAA1419C1A7A   \n",
       "6659  C5EE7D6FA25DF773D7EF38E213CDAAA1419C1A7A   \n",
       "8191  DE46AEBDCCE508CE8C7003D46CFE807F4EF978DF   \n",
       "8190  DE46AEBDCCE508CE8C7003D46CFE807F4EF978DF   \n",
       "8189  DE46AEBDCCE508CE8C7003D46CFE807F4EF978DF   \n",
       "8188  DE46AEBDCCE508CE8C7003D46CFE807F4EF978DF   \n",
       "8187  DE46AEBDCCE508CE8C7003D46CFE807F4EF978DF   \n",
       "8186  DE46AEBDCCE508CE8C7003D46CFE807F4EF978DF   \n",
       "8185  DE46AEBDCCE508CE8C7003D46CFE807F4EF978DF   \n",
       "8184  DE46AEBDCCE508CE8C7003D46CFE807F4EF978DF   \n",
       "8183  DE46AEBDCCE508CE8C7003D46CFE807F4EF978DF   \n",
       "8182  DE46AEBDCCE508CE8C7003D46CFE807F4EF978DF   \n",
       "8181  DE46AEBDCCE508CE8C7003D46CFE807F4EF978DF   \n",
       "8180  DE46AEBDCCE508CE8C7003D46CFE807F4EF978DF   \n",
       "8179  DE46AEBDCCE508CE8C7003D46CFE807F4EF978DF   \n",
       "8178  DE46AEBDCCE508CE8C7003D46CFE807F4EF978DF   \n",
       "8177  DE46AEBDCCE508CE8C7003D46CFE807F4EF978DF   \n",
       "8176  DE46AEBDCCE508CE8C7003D46CFE807F4EF978DF   \n",
       "8175  DE46AEBDCCE508CE8C7003D46CFE807F4EF978DF   \n",
       "8174  DE46AEBDCCE508CE8C7003D46CFE807F4EF978DF   \n",
       "8173  DE46AEBDCCE508CE8C7003D46CFE807F4EF978DF   \n",
       "8172  DE46AEBDCCE508CE8C7003D46CFE807F4EF978DF   \n",
       "8171  DE46AEBDCCE508CE8C7003D46CFE807F4EF978DF   \n",
       "8170  DE46AEBDCCE508CE8C7003D46CFE807F4EF978DF   \n",
       "8169  DE46AEBDCCE508CE8C7003D46CFE807F4EF978DF   \n",
       "\n",
       "                          concept:name            time:timestamp  \n",
       "6667                      Consult, SEH 2021-04-10 21:22:00+00:00  \n",
       "6666                 Spoedeisende Hulp 2021-04-10 22:11:00+00:00  \n",
       "6665  Consult, Kliniek: vervolgconsult 2021-04-11 00:06:00+00:00  \n",
       "6664  Consult, Kliniek: vervolgconsult 2021-04-11 10:09:00+00:00  \n",
       "6663               Poliklinische Brief 2021-04-11 12:39:00+00:00  \n",
       "6662  Consult, Kliniek: vervolgconsult 2021-04-12 08:54:00+00:00  \n",
       "6661  Consult, Kliniek: vervolgconsult 2021-04-12 14:44:00+00:00  \n",
       "6660  Consult, Kliniek: vervolgconsult 2021-04-13 08:23:00+00:00  \n",
       "6659                   Klinische Brief 2021-04-13 10:02:00+00:00  \n",
       "8191                      Consult, SEH 2018-07-10 09:59:00+00:00  \n",
       "8190                 Spoedeisende Hulp 2018-07-10 13:14:00+00:00  \n",
       "8189             Consult, Samenvatting 2018-07-10 14:41:00+00:00  \n",
       "8188               Poliklinische Brief 2018-07-10 14:42:00+00:00  \n",
       "8187                           Consult 2018-07-10 14:43:00+00:00  \n",
       "8186  Consult, Kliniek: vervolgconsult 2018-07-10 18:00:00+00:00  \n",
       "8185  Consult, Kliniek: vervolgconsult 2018-07-10 19:11:00+00:00  \n",
       "8184  Consult, Kliniek: vervolgconsult 2018-07-11 08:38:00+00:00  \n",
       "8183             Consult, Samenvatting 2018-07-11 10:03:00+00:00  \n",
       "8182               Poliklinische Brief 2018-07-11 10:08:00+00:00  \n",
       "8181             Consult, Samenvatting 2018-07-11 13:57:00+00:00  \n",
       "8180               Poliklinische Brief 2018-07-11 14:00:00+00:00  \n",
       "8179  Consult, Kliniek: vervolgconsult 2018-07-12 00:12:00+00:00  \n",
       "8178  Consult, Kliniek: vervolgconsult 2018-07-12 09:26:00+00:00  \n",
       "8177                           Consult 2018-07-12 17:10:00+00:00  \n",
       "8176  Consult, Kliniek: vervolgconsult 2018-07-13 10:54:00+00:00  \n",
       "8175                   Klinische Brief 2018-07-13 15:29:00+00:00  \n",
       "8174  Consult, Kliniek: vervolgconsult 2018-07-14 12:31:00+00:00  \n",
       "8173  Consult, Kliniek: vervolgconsult 2018-07-15 10:41:00+00:00  \n",
       "8172  Consult, Kliniek: vervolgconsult 2018-07-15 20:36:00+00:00  \n",
       "8171  Consult, Kliniek: vervolgconsult 2018-07-16 10:13:00+00:00  \n",
       "8170  Consult, Kliniek: vervolgconsult 2018-07-17 09:45:00+00:00  \n",
       "8169                   Klinische Brief 2018-07-17 12:24:00+00:00  "
      ]
     },
     "execution_count": 12,
     "metadata": {},
     "output_type": "execute_result"
    }
   ],
   "source": [
    "# for filtering based on time\n",
    "filtered_log = pm4py.filter_time_range(df_verslagen, \"2023-01-01 00:00:00\", \"2023-12-31 23:59:59\")\n",
    "# for filtering based on performance filters\n",
    "filtered_log = pm4py.filter_case_performance(df_verslagen, min_performance=100, max_performance=1000000)\n",
    "\n",
    "filtered_log"
   ]
  },
  {
   "cell_type": "code",
   "execution_count": 13,
   "metadata": {},
   "outputs": [
    {
     "data": {
      "image/png": "",
      "text/plain": [
       "<IPython.core.display.Image object>"
      ]
     },
     "metadata": {},
     "output_type": "display_data"
    }
   ],
   "source": [
    "pm4py.view_dotted_chart(event_log)"
   ]
  },
  {
   "cell_type": "code",
   "execution_count": 14,
   "metadata": {},
   "outputs": [
    {
     "data": {
      "text/plain": [
       "np.float64(4643978.653846154)"
      ]
     },
     "execution_count": 14,
     "metadata": {},
     "output_type": "execute_result"
    }
   ],
   "source": [
    "case_arrival = pm4py.get_case_arrival_average(df_verslagen)\n",
    "case_arrival"
   ]
  },
  {
   "cell_type": "code",
   "execution_count": 24,
   "metadata": {},
   "outputs": [
    {
     "name": "stdout",
     "output_type": "stream",
     "text": [
      "                                                 Trace  Count\n",
      "0    Consult, SEH->Consult, SEH->Consult, SEH->Cons...      1\n",
      "1    Consult, SEH->Consult, SEH->Consult, Kliniek: ...      1\n",
      "2    Consult, SEH->Spoedeisende Hulp->Consult, Klin...      1\n",
      "3    Consult, SEH->Consult, SEH->Consult, SEH->Cons...      1\n",
      "4    Consult, SEH->Consult->Consult->Consult, Overi...      1\n",
      "..                                                 ...    ...\n",
      "100  Consult, SEH->Consult, SEH->Consult, SEH->Cons...      1\n",
      "101  Consult, SEH->Consult, SEH->Consult, Overige a...      1\n",
      "102  Consult, SEH->Consult, SEH->Consult, SEH->Cons...      1\n",
      "103  Consult, SEH->Consult, SEH->Consult, Kliniek: ...      1\n",
      "104  Consult, SEH->Consult, SEH->Consult, SEH->Cons...      1\n",
      "\n",
      "[105 rows x 2 columns]\n"
     ]
    }
   ],
   "source": [
    "# from pm4py.algo.filtering.log.variants import variants_filter\n",
    "# # from pm4py.objects.conversion.log import converter as log_converter\n",
    "\n",
    "# log = event_log\n",
    "\n",
    "# # Extract unique variants (patient journey patterns)\n",
    "# variants = variants_filter.get_variants(log)\n",
    "# trace_list = ['->'.join(trace) for trace in variants.keys()]\n",
    "\n",
    "# # Create a DataFrame mapping traces to frequency\n",
    "# trace_counts = {trace: len(variants[trace]) for trace in trace_list}\n",
    "# trace_df = pd.DataFrame(list(trace_counts.items()), columns=['Trace', 'Count'])\n",
    "\n",
    "# # Sort by most common traces\n",
    "# trace_df = trace_df.sort_values(by='Count', ascending=False)\n",
    "# print(trace_df.head())  # Show most common patient journeys\n",
    "\n",
    "from pm4py.algo.filtering.log.variants import variants_filter\n",
    "\n",
    "# Extract unique variants (patient journey patterns)\n",
    "variants = variants_filter.get_variants(event_log)\n",
    "\n",
    "# Map original tuple traces to string traces\n",
    "trace_mapping = {tuple(trace): '->'.join(trace) for trace in variants.keys()}\n",
    "\n",
    "# Create a DataFrame mapping traces to frequency\n",
    "trace_counts = {trace_mapping[trace]: len(variants[trace]) for trace in variants.keys()}\n",
    "\n",
    "# Convert to DataFrame\n",
    "trace_df = pd.DataFrame(list(trace_counts.items()), columns=['Trace', 'Count'])\n",
    "\n",
    "# Sort by most common traces\n",
    "trace_df = trace_df.sort_values(by='Count', ascending=False)\n",
    "\n",
    "print(trace_df)  # Show most common patient journeys\n",
    "\n"
   ]
  },
  {
   "cell_type": "code",
   "execution_count": 17,
   "metadata": {},
   "outputs": [
    {
     "name": "stdout",
     "output_type": "stream",
     "text": [
      "   @@case_index  concept:name_Consult,SEH  \\\n",
      "0           0.0                       1.0   \n",
      "1           1.0                       1.0   \n",
      "2           2.0                       1.0   \n",
      "3           3.0                       1.0   \n",
      "4           4.0                       1.0   \n",
      "\n",
      "   concept:name_Consult,Overigeaantekeningen  \\\n",
      "0                                        1.0   \n",
      "1                                        1.0   \n",
      "2                                        0.0   \n",
      "3                                        1.0   \n",
      "4                                        1.0   \n",
      "\n",
      "   concept:name_Consult,Polikliniek:eersteconsult  concept:name_Consult  \\\n",
      "0                                             1.0                   1.0   \n",
      "1                                             1.0                   1.0   \n",
      "2                                             1.0                   0.0   \n",
      "3                                             1.0                   1.0   \n",
      "4                                             1.0                   1.0   \n",
      "\n",
      "   concept:name_Consult,Polikliniek:vervolgconsult  \\\n",
      "0                                              1.0   \n",
      "1                                              1.0   \n",
      "2                                              1.0   \n",
      "3                                              1.0   \n",
      "4                                              1.0   \n",
      "\n",
      "   concept:name_Consult,Kliniek:eersteconsult  \\\n",
      "0                                         1.0   \n",
      "1                                         1.0   \n",
      "2                                         0.0   \n",
      "3                                         1.0   \n",
      "4                                         1.0   \n",
      "\n",
      "   concept:name_Consult,Kliniek:vervolgconsult  concept:name_SpoedeisendeHulp  \\\n",
      "0                                          1.0                            1.0   \n",
      "1                                          1.0                            1.0   \n",
      "2                                          1.0                            1.0   \n",
      "3                                          1.0                            1.0   \n",
      "4                                          1.0                            1.0   \n",
      "\n",
      "   concept:name_PoliklinischeBrief  ...  verslagen_report_tags_Algemeen  \\\n",
      "0                              1.0  ...                             0.0   \n",
      "1                              1.0  ...                             0.0   \n",
      "2                              1.0  ...                             0.0   \n",
      "3                              1.0  ...                             0.0   \n",
      "4                              1.0  ...                             1.0   \n",
      "\n",
      "   verslagen_report_tags_Consult,Research  \\\n",
      "0                                     0.0   \n",
      "1                                     0.0   \n",
      "2                                     0.0   \n",
      "3                                     0.0   \n",
      "4                                     0.0   \n",
      "\n",
      "   verslagen_report_tags_Consult,Intercollegiaalconsult  \\\n",
      "0                                                0.0      \n",
      "1                                                0.0      \n",
      "2                                                0.0      \n",
      "3                                                0.0      \n",
      "4                                                0.0      \n",
      "\n",
      "   verslagen_report_tags_Consult,Dagbehandeling  \\\n",
      "0                                           0.0   \n",
      "1                                           0.0   \n",
      "2                                           0.0   \n",
      "3                                           0.0   \n",
      "4                                           0.0   \n",
      "\n",
      "   verslagen_report_tags_Consult,Samenvatting  \\\n",
      "0                                         0.0   \n",
      "1                                         0.0   \n",
      "2                                         0.0   \n",
      "3                                         0.0   \n",
      "4                                         0.0   \n",
      "\n",
      "   verslagen_report_tags_Radiologieverslag,ECGkliniek  \\\n",
      "0                                                0.0    \n",
      "1                                                0.0    \n",
      "2                                                0.0    \n",
      "3                                                0.0    \n",
      "4                                                0.0    \n",
      "\n",
      "   verslagen_report_tags_Radiologieverslag,Heuplinks  \\\n",
      "0                                                0.0   \n",
      "1                                                0.0   \n",
      "2                                                0.0   \n",
      "3                                                0.0   \n",
      "4                                                0.0   \n",
      "\n",
      "   verslagen_report_tags_Radiologieverslag,CTcolonografie  @@index  Cluster  \n",
      "0                                                0.0          37.0        2  \n",
      "1                                                0.0         210.0        2  \n",
      "2                                                0.0         264.0        2  \n",
      "3                                                0.0         346.0        2  \n",
      "4                                                0.0         624.0        2  \n",
      "\n",
      "[5 rows x 47 columns]\n"
     ]
    },
    {
     "name": "stderr",
     "output_type": "stream",
     "text": [
      "c:\\Users\\Y.vanMegen\\AppData\\Local\\Programs\\Python\\Python311\\Lib\\site-packages\\joblib\\externals\\loky\\backend\\context.py:136: UserWarning: Could not find the number of physical cores for the following reason:\n",
      "[WinError 2] Het systeem kan het opgegeven bestand niet vinden\n",
      "Returning the number of logical cores instead. You can silence this warning by setting LOKY_MAX_CPU_COUNT to the number of cores you want to use.\n",
      "  warnings.warn(\n",
      "  File \"c:\\Users\\Y.vanMegen\\AppData\\Local\\Programs\\Python\\Python311\\Lib\\site-packages\\joblib\\externals\\loky\\backend\\context.py\", line 257, in _count_physical_cores\n",
      "    cpu_info = subprocess.run(\n",
      "               ^^^^^^^^^^^^^^^\n",
      "  File \"c:\\Users\\Y.vanMegen\\AppData\\Local\\Programs\\Python\\Python311\\Lib\\subprocess.py\", line 548, in run\n",
      "    with Popen(*popenargs, **kwargs) as process:\n",
      "         ^^^^^^^^^^^^^^^^^^^^^^^^^^^\n",
      "  File \"c:\\Users\\Y.vanMegen\\AppData\\Local\\Programs\\Python\\Python311\\Lib\\subprocess.py\", line 1026, in __init__\n",
      "    self._execute_child(args, executable, preexec_fn, close_fds,\n",
      "  File \"c:\\Users\\Y.vanMegen\\AppData\\Local\\Programs\\Python\\Python311\\Lib\\subprocess.py\", line 1538, in _execute_child\n",
      "    hp, ht, pid, tid = _winapi.CreateProcess(executable, args,\n",
      "                       ^^^^^^^^^^^^^^^^^^^^^^^^^^^^^^^^^^^^^^^\n"
     ]
    }
   ],
   "source": [
    "from pm4py.algo.transformation.log_to_features import algorithm as log_to_features\n",
    "from sklearn.cluster import KMeans\n",
    "import numpy as np\n",
    "\n",
    "# Convert event log to feature vectors\n",
    "feature_table, feature_names = log_to_features.apply(log, parameters={\"feature_type\": \"frequency\"})\n",
    "\n",
    "# Convert to DataFrame\n",
    "feature_df = pd.DataFrame(feature_table, columns=feature_names)\n",
    "\n",
    "# Apply K-Means clustering (set k=3 for 3 clusters)\n",
    "num_clusters = 3\n",
    "kmeans = KMeans(n_clusters=num_clusters, random_state=42)\n",
    "feature_df['Cluster'] = kmeans.fit_predict(feature_df)\n",
    "\n",
    "print(feature_df.head())  # Show clustered patient traces\n"
   ]
  },
  {
   "cell_type": "code",
   "execution_count": 21,
   "metadata": {},
   "outputs": [
    {
     "data": {
      "application/vnd.plotly.v1+json": {
       "config": {
        "plotlyServerURL": "https://plot.ly"
       },
       "data": [
        {
         "link": {
          "source": [],
          "target": [],
          "value": [
           3
          ]
         },
         "node": {
          "label": []
         },
         "type": "sankey"
        }
       ],
       "layout": {
        "template": {
         "data": {
          "bar": [
           {
            "error_x": {
             "color": "#2a3f5f"
            },
            "error_y": {
             "color": "#2a3f5f"
            },
            "marker": {
             "line": {
              "color": "#E5ECF6",
              "width": 0.5
             },
             "pattern": {
              "fillmode": "overlay",
              "size": 10,
              "solidity": 0.2
             }
            },
            "type": "bar"
           }
          ],
          "barpolar": [
           {
            "marker": {
             "line": {
              "color": "#E5ECF6",
              "width": 0.5
             },
             "pattern": {
              "fillmode": "overlay",
              "size": 10,
              "solidity": 0.2
             }
            },
            "type": "barpolar"
           }
          ],
          "carpet": [
           {
            "aaxis": {
             "endlinecolor": "#2a3f5f",
             "gridcolor": "white",
             "linecolor": "white",
             "minorgridcolor": "white",
             "startlinecolor": "#2a3f5f"
            },
            "baxis": {
             "endlinecolor": "#2a3f5f",
             "gridcolor": "white",
             "linecolor": "white",
             "minorgridcolor": "white",
             "startlinecolor": "#2a3f5f"
            },
            "type": "carpet"
           }
          ],
          "choropleth": [
           {
            "colorbar": {
             "outlinewidth": 0,
             "ticks": ""
            },
            "type": "choropleth"
           }
          ],
          "contour": [
           {
            "colorbar": {
             "outlinewidth": 0,
             "ticks": ""
            },
            "colorscale": [
             [
              0,
              "#0d0887"
             ],
             [
              0.1111111111111111,
              "#46039f"
             ],
             [
              0.2222222222222222,
              "#7201a8"
             ],
             [
              0.3333333333333333,
              "#9c179e"
             ],
             [
              0.4444444444444444,
              "#bd3786"
             ],
             [
              0.5555555555555556,
              "#d8576b"
             ],
             [
              0.6666666666666666,
              "#ed7953"
             ],
             [
              0.7777777777777778,
              "#fb9f3a"
             ],
             [
              0.8888888888888888,
              "#fdca26"
             ],
             [
              1,
              "#f0f921"
             ]
            ],
            "type": "contour"
           }
          ],
          "contourcarpet": [
           {
            "colorbar": {
             "outlinewidth": 0,
             "ticks": ""
            },
            "type": "contourcarpet"
           }
          ],
          "heatmap": [
           {
            "colorbar": {
             "outlinewidth": 0,
             "ticks": ""
            },
            "colorscale": [
             [
              0,
              "#0d0887"
             ],
             [
              0.1111111111111111,
              "#46039f"
             ],
             [
              0.2222222222222222,
              "#7201a8"
             ],
             [
              0.3333333333333333,
              "#9c179e"
             ],
             [
              0.4444444444444444,
              "#bd3786"
             ],
             [
              0.5555555555555556,
              "#d8576b"
             ],
             [
              0.6666666666666666,
              "#ed7953"
             ],
             [
              0.7777777777777778,
              "#fb9f3a"
             ],
             [
              0.8888888888888888,
              "#fdca26"
             ],
             [
              1,
              "#f0f921"
             ]
            ],
            "type": "heatmap"
           }
          ],
          "histogram": [
           {
            "marker": {
             "pattern": {
              "fillmode": "overlay",
              "size": 10,
              "solidity": 0.2
             }
            },
            "type": "histogram"
           }
          ],
          "histogram2d": [
           {
            "colorbar": {
             "outlinewidth": 0,
             "ticks": ""
            },
            "colorscale": [
             [
              0,
              "#0d0887"
             ],
             [
              0.1111111111111111,
              "#46039f"
             ],
             [
              0.2222222222222222,
              "#7201a8"
             ],
             [
              0.3333333333333333,
              "#9c179e"
             ],
             [
              0.4444444444444444,
              "#bd3786"
             ],
             [
              0.5555555555555556,
              "#d8576b"
             ],
             [
              0.6666666666666666,
              "#ed7953"
             ],
             [
              0.7777777777777778,
              "#fb9f3a"
             ],
             [
              0.8888888888888888,
              "#fdca26"
             ],
             [
              1,
              "#f0f921"
             ]
            ],
            "type": "histogram2d"
           }
          ],
          "histogram2dcontour": [
           {
            "colorbar": {
             "outlinewidth": 0,
             "ticks": ""
            },
            "colorscale": [
             [
              0,
              "#0d0887"
             ],
             [
              0.1111111111111111,
              "#46039f"
             ],
             [
              0.2222222222222222,
              "#7201a8"
             ],
             [
              0.3333333333333333,
              "#9c179e"
             ],
             [
              0.4444444444444444,
              "#bd3786"
             ],
             [
              0.5555555555555556,
              "#d8576b"
             ],
             [
              0.6666666666666666,
              "#ed7953"
             ],
             [
              0.7777777777777778,
              "#fb9f3a"
             ],
             [
              0.8888888888888888,
              "#fdca26"
             ],
             [
              1,
              "#f0f921"
             ]
            ],
            "type": "histogram2dcontour"
           }
          ],
          "mesh3d": [
           {
            "colorbar": {
             "outlinewidth": 0,
             "ticks": ""
            },
            "type": "mesh3d"
           }
          ],
          "parcoords": [
           {
            "line": {
             "colorbar": {
              "outlinewidth": 0,
              "ticks": ""
             }
            },
            "type": "parcoords"
           }
          ],
          "pie": [
           {
            "automargin": true,
            "type": "pie"
           }
          ],
          "scatter": [
           {
            "fillpattern": {
             "fillmode": "overlay",
             "size": 10,
             "solidity": 0.2
            },
            "type": "scatter"
           }
          ],
          "scatter3d": [
           {
            "line": {
             "colorbar": {
              "outlinewidth": 0,
              "ticks": ""
             }
            },
            "marker": {
             "colorbar": {
              "outlinewidth": 0,
              "ticks": ""
             }
            },
            "type": "scatter3d"
           }
          ],
          "scattercarpet": [
           {
            "marker": {
             "colorbar": {
              "outlinewidth": 0,
              "ticks": ""
             }
            },
            "type": "scattercarpet"
           }
          ],
          "scattergeo": [
           {
            "marker": {
             "colorbar": {
              "outlinewidth": 0,
              "ticks": ""
             }
            },
            "type": "scattergeo"
           }
          ],
          "scattergl": [
           {
            "marker": {
             "colorbar": {
              "outlinewidth": 0,
              "ticks": ""
             }
            },
            "type": "scattergl"
           }
          ],
          "scattermap": [
           {
            "marker": {
             "colorbar": {
              "outlinewidth": 0,
              "ticks": ""
             }
            },
            "type": "scattermap"
           }
          ],
          "scattermapbox": [
           {
            "marker": {
             "colorbar": {
              "outlinewidth": 0,
              "ticks": ""
             }
            },
            "type": "scattermapbox"
           }
          ],
          "scatterpolar": [
           {
            "marker": {
             "colorbar": {
              "outlinewidth": 0,
              "ticks": ""
             }
            },
            "type": "scatterpolar"
           }
          ],
          "scatterpolargl": [
           {
            "marker": {
             "colorbar": {
              "outlinewidth": 0,
              "ticks": ""
             }
            },
            "type": "scatterpolargl"
           }
          ],
          "scatterternary": [
           {
            "marker": {
             "colorbar": {
              "outlinewidth": 0,
              "ticks": ""
             }
            },
            "type": "scatterternary"
           }
          ],
          "surface": [
           {
            "colorbar": {
             "outlinewidth": 0,
             "ticks": ""
            },
            "colorscale": [
             [
              0,
              "#0d0887"
             ],
             [
              0.1111111111111111,
              "#46039f"
             ],
             [
              0.2222222222222222,
              "#7201a8"
             ],
             [
              0.3333333333333333,
              "#9c179e"
             ],
             [
              0.4444444444444444,
              "#bd3786"
             ],
             [
              0.5555555555555556,
              "#d8576b"
             ],
             [
              0.6666666666666666,
              "#ed7953"
             ],
             [
              0.7777777777777778,
              "#fb9f3a"
             ],
             [
              0.8888888888888888,
              "#fdca26"
             ],
             [
              1,
              "#f0f921"
             ]
            ],
            "type": "surface"
           }
          ],
          "table": [
           {
            "cells": {
             "fill": {
              "color": "#EBF0F8"
             },
             "line": {
              "color": "white"
             }
            },
            "header": {
             "fill": {
              "color": "#C8D4E3"
             },
             "line": {
              "color": "white"
             }
            },
            "type": "table"
           }
          ]
         },
         "layout": {
          "annotationdefaults": {
           "arrowcolor": "#2a3f5f",
           "arrowhead": 0,
           "arrowwidth": 1
          },
          "autotypenumbers": "strict",
          "coloraxis": {
           "colorbar": {
            "outlinewidth": 0,
            "ticks": ""
           }
          },
          "colorscale": {
           "diverging": [
            [
             0,
             "#8e0152"
            ],
            [
             0.1,
             "#c51b7d"
            ],
            [
             0.2,
             "#de77ae"
            ],
            [
             0.3,
             "#f1b6da"
            ],
            [
             0.4,
             "#fde0ef"
            ],
            [
             0.5,
             "#f7f7f7"
            ],
            [
             0.6,
             "#e6f5d0"
            ],
            [
             0.7,
             "#b8e186"
            ],
            [
             0.8,
             "#7fbc41"
            ],
            [
             0.9,
             "#4d9221"
            ],
            [
             1,
             "#276419"
            ]
           ],
           "sequential": [
            [
             0,
             "#0d0887"
            ],
            [
             0.1111111111111111,
             "#46039f"
            ],
            [
             0.2222222222222222,
             "#7201a8"
            ],
            [
             0.3333333333333333,
             "#9c179e"
            ],
            [
             0.4444444444444444,
             "#bd3786"
            ],
            [
             0.5555555555555556,
             "#d8576b"
            ],
            [
             0.6666666666666666,
             "#ed7953"
            ],
            [
             0.7777777777777778,
             "#fb9f3a"
            ],
            [
             0.8888888888888888,
             "#fdca26"
            ],
            [
             1,
             "#f0f921"
            ]
           ],
           "sequentialminus": [
            [
             0,
             "#0d0887"
            ],
            [
             0.1111111111111111,
             "#46039f"
            ],
            [
             0.2222222222222222,
             "#7201a8"
            ],
            [
             0.3333333333333333,
             "#9c179e"
            ],
            [
             0.4444444444444444,
             "#bd3786"
            ],
            [
             0.5555555555555556,
             "#d8576b"
            ],
            [
             0.6666666666666666,
             "#ed7953"
            ],
            [
             0.7777777777777778,
             "#fb9f3a"
            ],
            [
             0.8888888888888888,
             "#fdca26"
            ],
            [
             1,
             "#f0f921"
            ]
           ]
          },
          "colorway": [
           "#636efa",
           "#EF553B",
           "#00cc96",
           "#ab63fa",
           "#FFA15A",
           "#19d3f3",
           "#FF6692",
           "#B6E880",
           "#FF97FF",
           "#FECB52"
          ],
          "font": {
           "color": "#2a3f5f"
          },
          "geo": {
           "bgcolor": "white",
           "lakecolor": "white",
           "landcolor": "#E5ECF6",
           "showlakes": true,
           "showland": true,
           "subunitcolor": "white"
          },
          "hoverlabel": {
           "align": "left"
          },
          "hovermode": "closest",
          "mapbox": {
           "style": "light"
          },
          "paper_bgcolor": "white",
          "plot_bgcolor": "#E5ECF6",
          "polar": {
           "angularaxis": {
            "gridcolor": "white",
            "linecolor": "white",
            "ticks": ""
           },
           "bgcolor": "#E5ECF6",
           "radialaxis": {
            "gridcolor": "white",
            "linecolor": "white",
            "ticks": ""
           }
          },
          "scene": {
           "xaxis": {
            "backgroundcolor": "#E5ECF6",
            "gridcolor": "white",
            "gridwidth": 2,
            "linecolor": "white",
            "showbackground": true,
            "ticks": "",
            "zerolinecolor": "white"
           },
           "yaxis": {
            "backgroundcolor": "#E5ECF6",
            "gridcolor": "white",
            "gridwidth": 2,
            "linecolor": "white",
            "showbackground": true,
            "ticks": "",
            "zerolinecolor": "white"
           },
           "zaxis": {
            "backgroundcolor": "#E5ECF6",
            "gridcolor": "white",
            "gridwidth": 2,
            "linecolor": "white",
            "showbackground": true,
            "ticks": "",
            "zerolinecolor": "white"
           }
          },
          "shapedefaults": {
           "line": {
            "color": "#2a3f5f"
           }
          },
          "ternary": {
           "aaxis": {
            "gridcolor": "white",
            "linecolor": "white",
            "ticks": ""
           },
           "baxis": {
            "gridcolor": "white",
            "linecolor": "white",
            "ticks": ""
           },
           "bgcolor": "#E5ECF6",
           "caxis": {
            "gridcolor": "white",
            "linecolor": "white",
            "ticks": ""
           }
          },
          "title": {
           "x": 0.05
          },
          "xaxis": {
           "automargin": true,
           "gridcolor": "white",
           "linecolor": "white",
           "ticks": "",
           "title": {
            "standoff": 15
           },
           "zerolinecolor": "white",
           "zerolinewidth": 2
          },
          "yaxis": {
           "automargin": true,
           "gridcolor": "white",
           "linecolor": "white",
           "ticks": "",
           "title": {
            "standoff": 15
           },
           "zerolinecolor": "white",
           "zerolinewidth": 2
          }
         }
        }
       }
      }
     },
     "metadata": {},
     "output_type": "display_data"
    }
   ],
   "source": [
    "import plotly.graph_objects as go\n",
    "from collections import Counter\n",
    "\n",
    "# Extract most common sequence per cluster\n",
    "cluster_sequences = feature_df.groupby(\"Cluster\").sum().idxmax(axis=1)\n",
    "cluster_counts = Counter(cluster_sequences)\n",
    "\n",
    "# Sankey Diagram Data Preparation\n",
    "sources, targets = [], []\n",
    "for trace in cluster_sequences.values:\n",
    "    steps = trace.split(\"->\")\n",
    "    for i in range(len(steps) - 1):\n",
    "        sources.append(steps[i])\n",
    "        targets.append(steps[i + 1])\n",
    "\n",
    "# Convert to indices\n",
    "all_nodes = list(set(sources + targets))\n",
    "source_indices = [all_nodes.index(s) for s in sources]\n",
    "target_indices = [all_nodes.index(t) for t in targets]\n",
    "\n",
    "# Sankey Diagram\n",
    "fig = go.Figure(go.Sankey(\n",
    "    node=dict(label=all_nodes),\n",
    "    link=dict(source=source_indices, target=target_indices, value=list(cluster_counts.values()))\n",
    "))\n",
    "fig.show()\n"
   ]
  },
  {
   "cell_type": "code",
   "execution_count": 19,
   "metadata": {},
   "outputs": [],
   "source": [
    "# pip install plotly"
   ]
  },
  {
   "cell_type": "code",
   "execution_count": 20,
   "metadata": {},
   "outputs": [],
   "source": [
    "# !pip install --upgrade nbformat"
   ]
  },
  {
   "cell_type": "code",
   "execution_count": 64,
   "metadata": {},
   "outputs": [
    {
     "name": "stdout",
     "output_type": "stream",
     "text": [
      "                                              Sub-Trace  Count\n",
      "31    Consult, Kliniek: vervolgconsult->Consult, Kli...    135\n",
      "293   Consult, Polikliniek: vervolgconsult->Consult-...     47\n",
      "3676  Consult, Polikliniek: vervolgconsult->Consult,...     42\n",
      "2210  Consult, SEH->Consult, SEH->Consult, SEH->Cons...     41\n",
      "294   Consult->Consult, Polikliniek: vervolgconsult-...     38\n",
      "267   Consult, Kliniek: vervolgconsult->Consult->Con...     22\n",
      "266   Consult->Consult, Kliniek: vervolgconsult->Con...     19\n",
      "3796  Consult->Consult->Consult->Consult->Consult->C...     15\n",
      "1315  Consult, SEH->Consult, SEH->Consult, SEH->Cons...     14\n",
      "173   Consult, Kliniek: vervolgconsult->Consult, Kli...     14\n"
     ]
    }
   ],
   "source": [
    "from collections import Counter\n",
    "\n",
    "def get_sub_traces(trace, window_size):\n",
    "    \"\"\"Extracts sub-traces of a given window size from a full trace.\"\"\"\n",
    "    return ['->'.join(trace[i:i+window_size]) for i in range(len(trace) - window_size + 1)]\n",
    "\n",
    "# Extract unique variants (trace paths)\n",
    "from pm4py.algo.filtering.log.variants import variants_filter\n",
    "variants = variants_filter.get_variants(event_log)\n",
    "# print('variants', variants)\n",
    "\n",
    "# Convert traces from tuples to lists\n",
    "trace_list = [list(trace) for trace in variants.keys()]\n",
    "# print('trace_list', trace_list)\n",
    "\n",
    "# Extract all sub-traces\n",
    "window_size = 10  # Adjust window size as needed\n",
    "all_sub_traces = [sub_trace for trace in trace_list for sub_trace in get_sub_traces(trace, window_size)]\n",
    "# print('all_sub_traces', all_sub_traces)\n",
    "\n",
    "# Count frequency of sub-traces\n",
    "sub_trace_counts = Counter(all_sub_traces)\n",
    "\n",
    "# Convert to DataFrame for sorting\n",
    "import pandas as pd\n",
    "sub_trace_df = pd.DataFrame(sub_trace_counts.items(), columns=['Sub-Trace', 'Count'])\n",
    "sub_trace_df = sub_trace_df.sort_values(by='Count', ascending=False)\n",
    "\n",
    "print(sub_trace_df.head(10))  # Show most common sub-traces\n"
   ]
  },
  {
   "cell_type": "code",
   "execution_count": 65,
   "metadata": {},
   "outputs": [
    {
     "data": {
      "text/html": [
       "<div>\n",
       "<style scoped>\n",
       "    .dataframe tbody tr th:only-of-type {\n",
       "        vertical-align: middle;\n",
       "    }\n",
       "\n",
       "    .dataframe tbody tr th {\n",
       "        vertical-align: top;\n",
       "    }\n",
       "\n",
       "    .dataframe thead th {\n",
       "        text-align: right;\n",
       "    }\n",
       "</style>\n",
       "<table border=\"1\" class=\"dataframe\">\n",
       "  <thead>\n",
       "    <tr style=\"text-align: right;\">\n",
       "      <th></th>\n",
       "      <th>Sub-Trace</th>\n",
       "      <th>Count</th>\n",
       "    </tr>\n",
       "  </thead>\n",
       "  <tbody>\n",
       "    <tr>\n",
       "      <th>31</th>\n",
       "      <td>Consult, Kliniek: vervolgconsult-&gt;Consult, Kli...</td>\n",
       "      <td>135</td>\n",
       "    </tr>\n",
       "    <tr>\n",
       "      <th>293</th>\n",
       "      <td>Consult, Polikliniek: vervolgconsult-&gt;Consult-...</td>\n",
       "      <td>47</td>\n",
       "    </tr>\n",
       "    <tr>\n",
       "      <th>3676</th>\n",
       "      <td>Consult, Polikliniek: vervolgconsult-&gt;Consult,...</td>\n",
       "      <td>42</td>\n",
       "    </tr>\n",
       "    <tr>\n",
       "      <th>2210</th>\n",
       "      <td>Consult, SEH-&gt;Consult, SEH-&gt;Consult, SEH-&gt;Cons...</td>\n",
       "      <td>41</td>\n",
       "    </tr>\n",
       "    <tr>\n",
       "      <th>294</th>\n",
       "      <td>Consult-&gt;Consult, Polikliniek: vervolgconsult-...</td>\n",
       "      <td>38</td>\n",
       "    </tr>\n",
       "    <tr>\n",
       "      <th>...</th>\n",
       "      <td>...</td>\n",
       "      <td>...</td>\n",
       "    </tr>\n",
       "    <tr>\n",
       "      <th>7500</th>\n",
       "      <td>Consult-&gt;Consult, Kliniek: vervolgconsult-&gt;Con...</td>\n",
       "      <td>1</td>\n",
       "    </tr>\n",
       "    <tr>\n",
       "      <th>7501</th>\n",
       "      <td>Consult, Kliniek: vervolgconsult-&gt;Consult-&gt;Con...</td>\n",
       "      <td>1</td>\n",
       "    </tr>\n",
       "    <tr>\n",
       "      <th>7502</th>\n",
       "      <td>Consult-&gt;Consult, Kliniek: vervolgconsult-&gt;Con...</td>\n",
       "      <td>1</td>\n",
       "    </tr>\n",
       "    <tr>\n",
       "      <th>7503</th>\n",
       "      <td>Consult, Kliniek: vervolgconsult-&gt;Consult-&gt;Con...</td>\n",
       "      <td>1</td>\n",
       "    </tr>\n",
       "    <tr>\n",
       "      <th>7489</th>\n",
       "      <td>Consult, Kliniek: vervolgconsult-&gt;Consult-&gt;Con...</td>\n",
       "      <td>1</td>\n",
       "    </tr>\n",
       "  </tbody>\n",
       "</table>\n",
       "<p>7505 rows × 2 columns</p>\n",
       "</div>"
      ],
      "text/plain": [
       "                                              Sub-Trace  Count\n",
       "31    Consult, Kliniek: vervolgconsult->Consult, Kli...    135\n",
       "293   Consult, Polikliniek: vervolgconsult->Consult-...     47\n",
       "3676  Consult, Polikliniek: vervolgconsult->Consult,...     42\n",
       "2210  Consult, SEH->Consult, SEH->Consult, SEH->Cons...     41\n",
       "294   Consult->Consult, Polikliniek: vervolgconsult-...     38\n",
       "...                                                 ...    ...\n",
       "7500  Consult->Consult, Kliniek: vervolgconsult->Con...      1\n",
       "7501  Consult, Kliniek: vervolgconsult->Consult->Con...      1\n",
       "7502  Consult->Consult, Kliniek: vervolgconsult->Con...      1\n",
       "7503  Consult, Kliniek: vervolgconsult->Consult->Con...      1\n",
       "7489  Consult, Kliniek: vervolgconsult->Consult->Con...      1\n",
       "\n",
       "[7505 rows x 2 columns]"
      ]
     },
     "execution_count": 65,
     "metadata": {},
     "output_type": "execute_result"
    }
   ],
   "source": [
    "sub_trace_df"
   ]
  },
  {
   "cell_type": "code",
   "execution_count": 72,
   "metadata": {},
   "outputs": [
    {
     "name": "stderr",
     "output_type": "stream",
     "text": [
      "C:\\Users\\Y.vanMegen\\AppData\\Local\\Temp\\ipykernel_8312\\3598988830.py:1: FutureWarning:\n",
      "\n",
      "Series.__getitem__ treating keys as positions is deprecated. In a future version, integer keys will always be treated as labels (consistent with DataFrame behavior). To access a value by position, use `ser.iloc[pos]`\n",
      "\n"
     ]
    },
    {
     "data": {
      "text/plain": [
       "'Consult->Consult, Polikliniek: vervolgconsult->Consult->Consult, Polikliniek: vervolgconsult->Consult->Consult, Overige aantekeningen->Consult, Polikliniek: vervolgconsult->Consult->Consult, Polikliniek: vervolgconsult->Consult'"
      ]
     },
     "execution_count": 72,
     "metadata": {},
     "output_type": "execute_result"
    }
   ],
   "source": [
    "sub_trace_df.iloc[10][0]"
   ]
  },
  {
   "cell_type": "code",
   "execution_count": 74,
   "metadata": {},
   "outputs": [
    {
     "name": "stdout",
     "output_type": "stream",
     "text": [
      "Window Size 2: Diversity Score = 0.0201\n",
      "Window Size 3: Diversity Score = 0.0846\n",
      "Window Size 4: Diversity Score = 0.2208\n",
      "Window Size 5: Diversity Score = 0.3928\n",
      "Window Size 6: Diversity Score = 0.5471\n",
      "Window Size 7: Diversity Score = 0.6669\n",
      "Window Size 8: Diversity Score = 0.7567\n",
      "Window Size 9: Diversity Score = 0.8225\n"
     ]
    }
   ],
   "source": [
    "def diversity_score(sub_trace_counts):\n",
    "    unique_sub_traces = len(sub_trace_counts)\n",
    "    total_sub_traces = sum(sub_trace_counts.values())\n",
    "    return unique_sub_traces / total_sub_traces  # Ratio of unique sequences\n",
    "\n",
    "for n in range(2, 10):\n",
    "    all_sub_traces = [sub_trace for trace in trace_list for sub_trace in get_sub_traces(trace, n)]\n",
    "    sub_trace_counts = Counter(all_sub_traces)\n",
    "    \n",
    "    score = diversity_score(sub_trace_counts)\n",
    "    print(f\"Window Size {n}: Diversity Score = {score:.4f}\")\n"
   ]
  },
  {
   "cell_type": "code",
   "execution_count": 76,
   "metadata": {},
   "outputs": [
    {
     "data": {
      "image/png": "[encoded data removed]",
      "text/plain": [
       "<Figure size 640x480 with 1 Axes>"
      ]
     },
     "metadata": {},
     "output_type": "display_data"
    }
   ],
   "source": [
    "import matplotlib.pyplot as plt\n",
    "from collections import Counter\n",
    "\n",
    "# Function to test different window sizes\n",
    "def test_window_sizes(trace_list, max_n=10):\n",
    "    for window_size in range(2, max_n + 1):\n",
    "        all_sub_traces = [sub_trace for trace in trace_list for sub_trace in get_sub_traces(trace, window_size)]\n",
    "        sub_trace_counts = Counter(all_sub_traces)\n",
    "        \n",
    "        # Get top 10 frequent sub-traces\n",
    "        top_counts = sorted(sub_trace_counts.values(), reverse=True)[:10]\n",
    "        \n",
    "        plt.plot(range(1, len(top_counts) + 1), top_counts, label=f'Window Size {window_size}')\n",
    "\n",
    "    plt.xlabel('Rank')\n",
    "    plt.ylabel('Frequency')\n",
    "    plt.title('Sub-trace Frequency Distribution')\n",
    "    plt.legend()\n",
    "    plt.show()\n",
    "\n",
    "test_window_sizes(trace_list)\n"
   ]
  },
  {
   "cell_type": "code",
   "execution_count": 77,
   "metadata": {},
   "outputs": [
    {
     "name": "stdout",
     "output_type": "stream",
     "text": [
      "                                                 Trace  Cluster\n",
      "0    Consult, SEH Consult, SEH Consult, SEH Consult...        0\n",
      "3    Consult, SEH Consult, SEH Consult, SEH Consult...        0\n",
      "31   Consult, SEH Consult, SEH Consult, SEH Consult...        0\n",
      "19   Consult, SEH Consult, SEH Consult, SEH Consult...        0\n",
      "28   Consult, SEH Consult, SEH Consult, SEH Consult...        0\n",
      "..                                                 ...      ...\n",
      "83   Consult Consult Consult Consult, Polikliniek: ...        2\n",
      "99   Consult, Polikliniek: eerste consult Consult C...        2\n",
      "102  Consult, SEH Consult, SEH Consult, SEH Consult...        2\n",
      "101  Consult, SEH Consult, SEH Consult, Overige aan...        2\n",
      "103  Consult, SEH Consult, SEH Consult, Kliniek: ve...        2\n",
      "\n",
      "[105 rows x 2 columns]\n"
     ]
    }
   ],
   "source": [
    "from sklearn.feature_extraction.text import TfidfVectorizer\n",
    "from sklearn.cluster import KMeans\n",
    "\n",
    "# Convert full traces into \"sentences\" (for NLP processing)\n",
    "trace_sentences = [' '.join(trace) for trace in trace_list]\n",
    "\n",
    "# Apply TF-IDF Vectorization\n",
    "vectorizer = TfidfVectorizer()\n",
    "X = vectorizer.fit_transform(trace_sentences)\n",
    "\n",
    "# Cluster Traces Using K-Means\n",
    "num_clusters = 3  # Change based on your data\n",
    "kmeans = KMeans(n_clusters=num_clusters, random_state=42)\n",
    "trace_clusters = kmeans.fit_predict(X)\n",
    "\n",
    "# Add cluster labels to traces\n",
    "clustered_traces = pd.DataFrame({'Trace': trace_sentences, 'Cluster': trace_clusters})\n",
    "print(clustered_traces.sort_values(by='Cluster'))\n"
   ]
  },
  {
   "cell_type": "code",
   "execution_count": null,
   "metadata": {},
   "outputs": [
    {
     "data": {
      "image/png": "[encoded data removed]",
      "text/plain": [
       "<Figure size 1000x600 with 1 Axes>"
      ]
     },
     "metadata": {},
     "output_type": "display_data"
    }
   ],
   "source": [
    "import matplotlib.pyplot as plt\n",
    "from sklearn.decomposition import PCA\n",
    "from sklearn.feature_extraction.text import TfidfVectorizer\n",
    "from sklearn.cluster import KMeans\n",
    "\n",
    "# Convert traces to \"sentences\"\n",
    "trace_sentences = [' '.join(trace) for trace in trace_list]\n",
    "\n",
    "# Apply TF-IDF\n",
    "vectorizer = TfidfVectorizer()\n",
    "X = vectorizer.fit_transform(trace_sentences)\n",
    "\n",
    "# Apply K-Means clustering\n",
    "num_clusters = 3  # Adjust based on data\n",
    "kmeans = KMeans(n_clusters=num_clusters, random_state=42)\n",
    "clusters = kmeans.fit_predict(X)\n",
    "\n",
    "# Reduce dimensions using PCA\n",
    "pca = PCA(n_components=2)\n",
    "X_pca = pca.fit_transform(X.toarray())\n",
    "\n",
    "# Plot clusters\n",
    "plt.figure(figsize=(10, 6))\n",
    "for i in range(num_clusters):\n",
    "    plt.scatter(X_pca[clusters == i, 0], X_pca[clusters == i, 1], label=f'Cluster {i}')\n",
    "\n",
    "plt.scatter(kmeans.cluster_centers_[:, 0], kmeans.cluster_centers_[:, 1], \n",
    "            s=200, c='red', marker='X', label='Centroids')\n",
    "\n",
    "plt.xlabel('PCA Component 1')\n",
    "plt.ylabel('PCA Component 2')\n",
    "plt.title('K-Means Clustering of Patient Journeys')\n",
    "plt.legend()\n",
    "plt.show()"
   ]
  },
  {
   "cell_type": "code",
   "execution_count": 80,
   "metadata": {},
   "outputs": [
    {
     "data": {
      "image/png": "[encoded data removed]",
      "text/plain": [
       "<Figure size 1000x600 with 1 Axes>"
      ]
     },
     "metadata": {},
     "output_type": "display_data"
    }
   ],
   "source": [
    "from sklearn.manifold import TSNE\n",
    "\n",
    "# Reduce dimensions using t-SNE\n",
    "tsne = TSNE(n_components=2, perplexity=30, random_state=42)\n",
    "X_tsne = tsne.fit_transform(X.toarray())\n",
    "\n",
    "# Plot clusters\n",
    "plt.figure(figsize=(10, 6))\n",
    "for i in range(num_clusters):\n",
    "    plt.scatter(X_tsne[clusters == i, 0], X_tsne[clusters == i, 1], label=f'Cluster {i}')\n",
    "\n",
    "plt.xlabel('t-SNE Component 1')\n",
    "plt.ylabel('t-SNE Component 2')\n",
    "plt.title('t-SNE Visualization of K-Means Clustering')\n",
    "plt.legend()\n",
    "plt.show()\n"
   ]
  },
  {
   "cell_type": "code",
   "execution_count": 84,
   "metadata": {},
   "outputs": [
    {
     "name": "stdout",
     "output_type": "stream",
     "text": [
      "['Consult, SEH Consult, SEH Consult, SEH Consult, SEH Consult, SEH Consult, SEH Consult, SEH Consult, SEH Consult, Overige aantekeningen Consult, Overige aantekeningen Consult, Polikliniek: eerste consult Consult Consult Consult, Polikliniek: vervolgconsult Consult Consult, SEH Consult, SEH Consult, Polikliniek: vervolgconsult Consult, SEH Consult, SEH Consult, SEH Consult Consult, Kliniek: eerste consult Consult, Kliniek: vervolgconsult Consult Consult, Kliniek: vervolgconsult Consult Consult Consult, Kliniek: vervolgconsult Consult Consult, SEH Spoedeisende Hulp Consult, Kliniek: vervolgconsult Consult, Kliniek: vervolgconsult Poliklinische Brief Poliklinische Brief Consult, Kliniek: vervolgconsult Klinische Brief'\n",
      " 'Consult, SEH Consult, SEH Consult, Kliniek: vervolgconsult Consult, Kliniek: vervolgconsult Consult, Kliniek: vervolgconsult Consult, Kliniek: vervolgconsult Consult, Kliniek: vervolgconsult Consult, Kliniek: vervolgconsult Consult, Kliniek: vervolgconsult Consult, Kliniek: vervolgconsult Consult, Kliniek: vervolgconsult Consult, Kliniek: vervolgconsult Consult, Kliniek: vervolgconsult Consult, Kliniek: vervolgconsult Consult, Kliniek: vervolgconsult Consult, Kliniek: vervolgconsult Consult, Kliniek: vervolgconsult Consult, Kliniek: vervolgconsult Consult, Kliniek: vervolgconsult Consult, Kliniek: vervolgconsult Consult, Kliniek: vervolgconsult Consult, Kliniek: vervolgconsult Consult, Kliniek: vervolgconsult Consult, Kliniek: vervolgconsult Consult, Kliniek: vervolgconsult Consult, Kliniek: vervolgconsult Consult, Kliniek: vervolgconsult Consult, Kliniek: vervolgconsult Consult, Kliniek: vervolgconsult Consult, Kliniek: vervolgconsult Consult, Kliniek: vervolgconsult Consult, Kliniek: vervolgconsult Consult, Kliniek: vervolgconsult Consult, Kliniek: vervolgconsult Consult, Multidisciplinair overleg Consult, Kliniek: vervolgconsult Consult, Kliniek: vervolgconsult Consult, Kliniek: vervolgconsult Consult, Kliniek: vervolgconsult Consult, Kliniek: vervolgconsult Consult, Kliniek: vervolgconsult Consult, Kliniek: vervolgconsult Consult, Kliniek: vervolgconsult Consult, Kliniek: vervolgconsult Consult Consult Consult, Overige aantekeningen Consult, Polikliniek: vervolgconsult Consult Consult, SEH Consult, SEH Consult, SEH Consult, Kliniek: eerste consult Consult, Kliniek: vervolgconsult Consult, SEH Consult, SEH Consult, SEH Consult, SEH Consult Consult Consult, Kliniek: eerste consult Consult, Kliniek: vervolgconsult Consult Consult, Kliniek: vervolgconsult Consult Consult Consult, Overige aantekeningen Consult, Polikliniek: vervolgconsult Consult, SEH Spoedeisende Hulp Poliklinische Brief Consult, Kliniek: vervolgconsult Consult Consult, Kliniek: vervolgconsult Consult, Kliniek: vervolgconsult Consult, Kliniek: vervolgconsult Klinische Brief Consult, Polikliniek: vervolgconsult Poliklinische Brief Consult, Polikliniek: vervolgconsult Consult, Polikliniek: vervolgconsult Consult, Overige aantekeningen Consult, Thuisbehandeling Consult, Polikliniek: vervolgconsult Poliklinische Brief Consult, Polikliniek: vervolgconsult Poliklinische Brief Consult, Polikliniek: vervolgconsult Consult, Polikliniek: vervolgconsult Consult, Polikliniek: vervolgconsult Consult, Polikliniek: vervolgconsult Consult, Polikliniek: vervolgconsult Consult, Polikliniek: vervolgconsult Consult, Overige aantekeningen Consult, Polikliniek: vervolgconsult Consult, Overige aantekeningen Consult, Polikliniek: vervolgconsult Consult, Polikliniek: vervolgconsult Poliklinische Brief Consult, Polikliniek: vervolgconsult Consult, Overige aantekeningen Consult, Polikliniek: eerste consult Consult, Telefonisch consult Poliklinische Brief Consult, Polikliniek: vervolgconsult Consult, Polikliniek: vervolgconsult Consult, Polikliniek: vervolgconsult Poliklinische Brief Consult, Polikliniek: vervolgconsult Consult, Telefonisch consult Consult, Telefonisch consult Consult, Telefonisch consult Consult, Telefonisch consult Consult, Polikliniek: vervolgconsult Poliklinische Brief Consult, Polikliniek: vervolgconsult Consult, Polikliniek: vervolgconsult Consult, Polikliniek: vervolgconsult Poliklinische Brief Consult, Polikliniek: vervolgconsult Consult, Telefonisch consult Poliklinische Brief Consult, Polikliniek: vervolgconsult Poliklinische Brief Consult, Telefonisch consult Poliklinische Brief Consult, Polikliniek: vervolgconsult Consult, Polikliniek: vervolgconsult Consult, SEH Consult, SEH Spoedeisende Hulp Consult, Kliniek: eerste consult Poliklinische Brief Consult, Kliniek: vervolgconsult Consult, Kliniek: vervolgconsult Consult, Kliniek: vervolgconsult Consult, Kliniek: vervolgconsult Consult, Kliniek: vervolgconsult Consult, Kliniek: vervolgconsult Klinische Brief Consult, Polikliniek: vervolgconsult Poliklinische Brief Consult, Polikliniek: vervolgconsult Consult, SEH Consult, SEH Spoedeisende Hulp Klinische Brief Consult, Telefonisch consult Consult, Telefonisch consult Consult, Telefonisch consult Consult, Polikliniek: vervolgconsult Radiologieverslag, ECG Consult, Telefonisch consult Poliklinische Brief Consult, Overige aantekeningen Consult, Polikliniek: vervolgconsult Consult, Telefonisch consult Poliklinische Brief Consult, Polikliniek: vervolgconsult Consult, Polikliniek: vervolgconsult Consult, Telefonisch consult Consult, Telefonisch consult Consult, Polikliniek: vervolgconsult Consult, Polikliniek: vervolgconsult Poliklinische Brief Consult, SEH Consult, SEH Spoedeisende Hulp Consult, Polikliniek: vervolgconsult Consult, Telefonisch consult Consult, Telefonisch consult Consult, Polikliniek: vervolgconsult Poliklinische Brief'\n",
      " 'Consult, SEH Spoedeisende Hulp Consult, Kliniek: vervolgconsult Consult, Kliniek: vervolgconsult Consult, Kliniek: vervolgconsult Consult, Kliniek: vervolgconsult Consult, Kliniek: vervolgconsult Consult, Kliniek: vervolgconsult Consult, Kliniek: vervolgconsult Consult, Kliniek: vervolgconsult Consult, Kliniek: vervolgconsult Consult, Kliniek: vervolgconsult Klinische Brief Consult, Polikliniek: vervolgconsult Poliklinische Brief Consult, SEH Spoedeisende Hulp Consult, Kliniek: vervolgconsult Consult, Kliniek: vervolgconsult Poliklinische Brief Consult, Kliniek: vervolgconsult Klinische Brief Poliklinische Brief Consult, Kliniek: vervolgconsult Consult, Kliniek: vervolgconsult Consult, Kliniek: vervolgconsult Consult, Kliniek: vervolgconsult Klinische Brief Klinische Brief Consult, Telefonisch consult Consult, Polikliniek: vervolgconsult Consult, Polikliniek: vervolgconsult Poliklinische Brief Consult, Polikliniek: vervolgconsult Consult, Polikliniek: eerste consult Consult, Polikliniek: vervolgconsult Consult, Polikliniek: vervolgconsult Poliklinische Brief Consult, Polikliniek: vervolgconsult Consult, Polikliniek: vervolgconsult Consult, Telefonisch consult Consult, Polikliniek: vervolgconsult Consult, Telefonisch consult Consult, Polikliniek: vervolgconsult Consult, Polikliniek: vervolgconsult Consult, Polikliniek: vervolgconsult Poliklinische Brief Poliklinische Brief Consult, Telefonisch consult Consult, Telefonisch consult Consult, Polikliniek: vervolgconsult Poliklinische Brief Consult, Telefonisch consult Consult, Telefonisch consult'\n",
      " 'Consult, SEH Consult, SEH Consult, SEH Consult, SEH Consult, SEH Consult Consult Consult Consult, Polikliniek: vervolgconsult Consult Consult, Overige aantekeningen Consult, Polikliniek: vervolgconsult Consult Consult, Polikliniek: eerste consult Consult Consult, Polikliniek: vervolgconsult Consult Consult Consult Consult, Polikliniek: vervolgconsult Consult Consult, Polikliniek: vervolgconsult Consult Consult, Overige aantekeningen Consult, Polikliniek: vervolgconsult Consult, Overige aantekeningen Consult, SEH Consult Consult Consult Consult Consult, Overige aantekeningen Consult, Polikliniek: vervolgconsult Consult Consult, SEH Consult, SEH Consult, SEH Consult, Kliniek: eerste consult Consult Consult, Kliniek: vervolgconsult Consult Consult, Kliniek: vervolgconsult Consult, Kliniek: vervolgconsult Consult Consult Consult, Kliniek: vervolgconsult Consult Consult, Kliniek: vervolgconsult Consult Consult Consult Consult Consult, Kliniek: vervolgconsult Consult Consult, Kliniek: vervolgconsult Consult Consult, Kliniek: vervolgconsult Consult Consult, Kliniek: vervolgconsult Consult Consult, Kliniek: vervolgconsult Consult Consult, Kliniek: vervolgconsult Consult Consult, Polikliniek: vervolgconsult Consult Consult, Telefonisch consult Consult, Telefonisch consult Consult, Telefonisch consult Consult, SEH Spoedeisende Hulp Consult, Kliniek: vervolgconsult Consult, Kliniek: vervolgconsult Consult, Polikliniek: vervolgconsult Consult, SEH Poliklinische Brief Consult, SEH Consult, SEH Consult, SEH Consult, SEH Consult, SEH Spoedeisende Hulp'\n",
      " 'Consult, SEH Consult Consult Consult, Overige aantekeningen Consult, Polikliniek: vervolgconsult Consult Consult, Overige aantekeningen Consult, Polikliniek: vervolgconsult Consult Consult, Polikliniek: vervolgconsult Consult Consult, Polikliniek: vervolgconsult Consult Consult, Polikliniek: vervolgconsult Consult Consult, Polikliniek: vervolgconsult Consult Consult, Polikliniek: vervolgconsult Consult Consult, Polikliniek: vervolgconsult Consult, Polikliniek: vervolgconsult Consult Consult, Polikliniek: vervolgconsult Consult Consult, Polikliniek: vervolgconsult Consult, Polikliniek: vervolgconsult Consult Consult, Polikliniek: vervolgconsult Consult, Overige aantekeningen Consult, Polikliniek: vervolgconsult Consult Consult, Polikliniek: eerste consult Consult, Polikliniek: vervolgconsult Consult, Polikliniek: vervolgconsult Consult, Kliniek: vervolgconsult Consult, Polikliniek: vervolgconsult Consult, Polikliniek: vervolgconsult Consult Consult, Polikliniek: vervolgconsult Consult Consult, Polikliniek: vervolgconsult Consult, Polikliniek: vervolgconsult Consult, Polikliniek: vervolgconsult Consult, Polikliniek: vervolgconsult Consult, Polikliniek: vervolgconsult Consult, Polikliniek: vervolgconsult Consult Consult, Polikliniek: vervolgconsult Consult, Polikliniek: vervolgconsult Consult Consult, Polikliniek: vervolgconsult Consult, Polikliniek: vervolgconsult Consult Consult, Polikliniek: vervolgconsult Consult Consult, Overige aantekeningen Consult, Polikliniek: vervolgconsult Consult, Polikliniek: vervolgconsult Consult Consult, Overige aantekeningen Consult, Overige aantekeningen Consult Consult, Polikliniek: vervolgconsult Consult Consult, Polikliniek: vervolgconsult Consult Consult, Polikliniek: vervolgconsult Consult, Overige aantekeningen Consult, Polikliniek: vervolgconsult Consult Consult, Polikliniek: vervolgconsult Consult, Polikliniek: vervolgconsult Consult Consult, Overige aantekeningen Consult, Polikliniek: vervolgconsult Consult, Polikliniek: vervolgconsult Consult, Polikliniek: vervolgconsult Consult, Polikliniek: vervolgconsult Consult, Polikliniek: vervolgconsult Consult, Overige aantekeningen Consult Consult, Polikliniek: vervolgconsult Consult Consult, Polikliniek: vervolgconsult Consult Consult, Overige aantekeningen Consult, Polikliniek: vervolgconsult Consult Consult, Polikliniek: vervolgconsult Consult, Polikliniek: vervolgconsult Consult Consult, Polikliniek: vervolgconsult Consult, Polikliniek: vervolgconsult Consult Consult, Polikliniek: vervolgconsult Consult Consult, Overige aantekeningen Consult, Overige aantekeningen Consult, Overige aantekeningen Consult, Polikliniek: vervolgconsult Consult Consult, Overige aantekeningen Consult, Polikliniek: vervolgconsult Consult, Overige aantekeningen Consult, SEH Consult, SEH Consult, Kliniek: eerste consult Consult Consult, Kliniek: vervolgconsult Consult Consult, Kliniek: vervolgconsult Consult Consult, Kliniek: vervolgconsult Consult Consult, Polikliniek: vervolgconsult Consult Consult, Overige aantekeningen Consult, Overige aantekeningen Consult, Polikliniek: vervolgconsult Consult Consult, Polikliniek: vervolgconsult Consult Consult, Telefonisch consult Consult, Polikliniek: vervolgconsult Consult, Overige aantekeningen Consult, Polikliniek: vervolgconsult Consult, Polikliniek: vervolgconsult Consult, Polikliniek: vervolgconsult Consult, Polikliniek: vervolgconsult Consult, Polikliniek: vervolgconsult Consult, Polikliniek: vervolgconsult Consult, Polikliniek: eerste consult Consult, Overige aantekeningen Consult, SEH Consult, SEH Consult, Kliniek: vervolgconsult Consult, Kliniek: vervolgconsult Consult, Kliniek: vervolgconsult Consult, Kliniek: vervolgconsult Klinische Brief Consult, Polikliniek: vervolgconsult Consult, Polikliniek: vervolgconsult Consult, Overige aantekeningen Consult, Polikliniek: vervolgconsult Consult, Polikliniek: vervolgconsult Consult, Polikliniek: vervolgconsult Consult, SEH Spoedeisende Hulp Consult, Kliniek: eerste consult Consult, Kliniek: vervolgconsult Consult, Kliniek: vervolgconsult Poliklinische Brief Consult, Kliniek: vervolgconsult Consult, Kliniek: vervolgconsult Consult, Polikliniek: vervolgconsult Klinische Brief Klinische Brief Consult, SEH Consult, Kliniek: vervolgconsult Consult, Kliniek: vervolgconsult Poliklinische Brief Poliklinische Brief Consult, Kliniek: vervolgconsult Klinische Brief Klinische Brief Consult, Overige aantekeningen Consult, Polikliniek: vervolgconsult Consult, Polikliniek: vervolgconsult Consult, Polikliniek: vervolgconsult Consult, Polikliniek: vervolgconsult Poliklinische Brief Consult, Polikliniek: vervolgconsult Consult, Polikliniek: vervolgconsult Consult, Polikliniek: vervolgconsult Consult, Polikliniek: vervolgconsult Consult, Polikliniek: vervolgconsult Consult, Polikliniek: vervolgconsult Consult, SEH Spoedeisende Hulp Consult, Kliniek: vervolgconsult Consult, Kliniek: vervolgconsult Consult, Kliniek: vervolgconsult Consult, Kliniek: vervolgconsult Consult, Kliniek: vervolgconsult Consult, Kliniek: vervolgconsult Consult, Kliniek: vervolgconsult Consult, Kliniek: vervolgconsult Klinische Brief Consult, Polikliniek: vervolgconsult Klinische Brief Consult, Overige aantekeningen Consult, Telefonisch consult Consult, Polikliniek: vervolgconsult Consult, Polikliniek: vervolgconsult Consult, Polikliniek: vervolgconsult Consult, Polikliniek: vervolgconsult Consult, Polikliniek: vervolgconsult Consult, SEH Consult Poliklinische Brief Consult, Kliniek: vervolgconsult Klinische Brief Klinische Brief Consult, Polikliniek: vervolgconsult Consult, Telefonisch consult Consult, Telefonisch consult Consult, Polikliniek: vervolgconsult Consult, Telefonisch consult Algemeen Consult, Kliniek: vervolgconsult Consult, Polikliniek: vervolgconsult Consult, Polikliniek: vervolgconsult Consult, Polikliniek: vervolgconsult Consult, Telefonisch consult Consult, Telefonisch consult Consult, Polikliniek: vervolgconsult Consult, Telefonisch consult Consult, Telefonisch consult Consult, Polikliniek: vervolgconsult Consult, Polikliniek: vervolgconsult Consult, SEH Spoedeisende Hulp Consult, Kliniek: vervolgconsult Consult, Kliniek: vervolgconsult Consult, Kliniek: vervolgconsult Consult, Kliniek: vervolgconsult Consult, Kliniek: vervolgconsult Consult, Kliniek: vervolgconsult Klinische Brief Consult, Kliniek: vervolgconsult Consult, Kliniek: vervolgconsult Klinische Brief Consult, Overige aantekeningen Consult, Polikliniek: vervolgconsult Consult, Polikliniek: vervolgconsult Consult, Polikliniek: vervolgconsult Consult, Polikliniek: vervolgconsult Consult, Telefonisch consult Poliklinische Brief Consult, Overige aantekeningen Consult, Polikliniek: vervolgconsult Consult, Polikliniek: vervolgconsult Consult, Telefonisch consult Consult, Polikliniek: vervolgconsult Consult, Telefonisch consult Consult, Polikliniek: vervolgconsult Consult, Overige aantekeningen Consult, Polikliniek: vervolgconsult Consult, SEH Consult Consult Spoedeisende Hulp Consult, Kliniek: vervolgconsult Consult, Kliniek: vervolgconsult Consult, Kliniek: vervolgconsult Consult, Kliniek: vervolgconsult Consult, Kliniek: vervolgconsult Consult, Kliniek: vervolgconsult Klinische Brief Consult Consult Consult, Kliniek: vervolgconsult Consult, Kliniek: vervolgconsult Algemeen Consult, Kliniek: vervolgconsult Consult, Polikliniek: vervolgconsult Klinische Brief Consult, Telefonisch consult Consult, Polikliniek: vervolgconsult Consult, Polikliniek: vervolgconsult Consult, Polikliniek: vervolgconsult Consult, Polikliniek: vervolgconsult Consult, Polikliniek: vervolgconsult Consult, Polikliniek: vervolgconsult Consult, Polikliniek: vervolgconsult Consult, Polikliniek: vervolgconsult Consult, Telefonisch consult Consult, Polikliniek: vervolgconsult'\n",
      " 'Consult, SEH Consult, Polikliniek: eerste consult Consult, Polikliniek: vervolgconsult Consult Consult, Overige aantekeningen Consult, Overige aantekeningen Consult, Polikliniek: vervolgconsult Consult, Overige aantekeningen Consult, Polikliniek: vervolgconsult Consult Consult, Overige aantekeningen Consult, Overige aantekeningen Consult, Overige aantekeningen Consult, Overige aantekeningen Consult, Overige aantekeningen Consult, Polikliniek: vervolgconsult Consult Consult, Overige aantekeningen Consult, Overige aantekeningen Consult, Polikliniek: vervolgconsult Consult Consult, Overige aantekeningen Consult, Polikliniek: vervolgconsult Consult, Overige aantekeningen Consult, Overige aantekeningen Consult, Overige aantekeningen Consult, Polikliniek: vervolgconsult Consult Consult, Overige aantekeningen Consult, Overige aantekeningen Consult, Overige aantekeningen Consult, Polikliniek: vervolgconsult Consult Consult, Overige aantekeningen Consult, Kliniek: vervolgconsult Consult Consult, Overige aantekeningen Consult Consult Consult, Polikliniek: vervolgconsult Consult Consult, Overige aantekeningen Consult, Overige aantekeningen Consult, Overige aantekeningen Consult, Polikliniek: vervolgconsult Consult Consult, Overige aantekeningen Consult, Overige aantekeningen Consult, Polikliniek: vervolgconsult Consult Consult, Polikliniek: vervolgconsult Consult Consult, Overige aantekeningen Consult, Overige aantekeningen Consult, Polikliniek: vervolgconsult Consult Consult, Overige aantekeningen Consult, Polikliniek: vervolgconsult Consult Consult, Overige aantekeningen Consult, Polikliniek: vervolgconsult Consult Consult, Overige aantekeningen Consult, Polikliniek: vervolgconsult Consult Consult, Overige aantekeningen Consult, Overige aantekeningen Consult, Polikliniek: vervolgconsult Consult, Polikliniek: vervolgconsult Consult Consult, Kliniek: vervolgconsult Consult Consult, Polikliniek: vervolgconsult Consult Consult, Polikliniek: vervolgconsult Consult Consult, Polikliniek: vervolgconsult Consult, Polikliniek: vervolgconsult Consult Consult, Polikliniek: vervolgconsult Consult Consult, Overige aantekeningen Consult, Polikliniek: vervolgconsult Consult Consult, Polikliniek: vervolgconsult Consult Consult, Overige aantekeningen Consult, Polikliniek: vervolgconsult Consult Consult Consult, Polikliniek: vervolgconsult Consult Consult, Polikliniek: vervolgconsult Consult Consult, Overige aantekeningen Consult, Polikliniek: vervolgconsult Consult Consult, Polikliniek: vervolgconsult Consult Consult, Polikliniek: vervolgconsult Consult Consult, Polikliniek: vervolgconsult Consult Consult, Polikliniek: vervolgconsult Consult Consult, SEH Consult, SEH Consult, SEH Consult, Kliniek: vervolgconsult Consult Consult, Kliniek: vervolgconsult Consult Consult, Polikliniek: vervolgconsult Consult Consult, Overige aantekeningen Consult, Polikliniek: vervolgconsult Consult, Polikliniek: vervolgconsult Consult Consult, Polikliniek: vervolgconsult Consult Consult, SEH Consult, SEH Consult, Kliniek: eerste consult Consult, Kliniek: vervolgconsult Consult Consult, Kliniek: vervolgconsult Consult Consult, Polikliniek: vervolgconsult Consult, SEH Consult, SEH Consult, SEH Consult, Kliniek: eerste consult Consult, Kliniek: vervolgconsult Consult Consult, Polikliniek: vervolgconsult Consult Consult, Polikliniek: vervolgconsult Consult Consult, Overige aantekeningen Consult, Polikliniek: vervolgconsult Consult Consult, Polikliniek: vervolgconsult Consult Consult, Polikliniek: vervolgconsult Consult, Polikliniek: vervolgconsult Consult Consult, Polikliniek: vervolgconsult Consult Consult, Overige aantekeningen Consult, Polikliniek: vervolgconsult Consult Consult, Polikliniek: vervolgconsult Consult Consult, Polikliniek: vervolgconsult Consult Consult, Polikliniek: vervolgconsult Consult Consult, Overige aantekeningen Consult, Polikliniek: vervolgconsult Consult Consult, Polikliniek: vervolgconsult Consult Consult, Polikliniek: vervolgconsult Consult Consult, Overige aantekeningen Consult, Polikliniek: vervolgconsult Consult Consult, Polikliniek: vervolgconsult Consult Consult, Polikliniek: vervolgconsult Consult Consult, Polikliniek: vervolgconsult Consult Consult, Overige aantekeningen Consult, Overige aantekeningen Consult, Polikliniek: vervolgconsult Consult, Overige aantekeningen Consult, Telefonisch consult Consult, Polikliniek: vervolgconsult Consult, Overige aantekeningen Consult, Kliniek: vervolgconsult Consult, Kliniek: vervolgconsult Consult, Kliniek: vervolgconsult Consult, Kliniek: vervolgconsult Consult, Overige aantekeningen Consult, Kliniek: vervolgconsult Consult, Kliniek: vervolgconsult Poliklinische Brief Klinische Brief Consult, Kliniek: vervolgconsult Consult, Kliniek: vervolgconsult Consult, Polikliniek: vervolgconsult Consult, Telefonisch consult Consult, Polikliniek: vervolgconsult Poliklinische Brief Consult, Polikliniek: vervolgconsult Consult, SEH Spoedeisende Hulp Consult, Overige aantekeningen Consult, Kliniek: vervolgconsult Consult Consult, Kliniek: vervolgconsult Consult, Kliniek: vervolgconsult Poliklinische Brief Klinische Brief Consult, Polikliniek: vervolgconsult Consult, Overige aantekeningen Consult, Kliniek: vervolgconsult Consult, Overige aantekeningen Consult, Polikliniek: vervolgconsult Consult, Polikliniek: vervolgconsult Consult, Overige aantekeningen Consult, Polikliniek: vervolgconsult Consult, Polikliniek: vervolgconsult Consult, Polikliniek: vervolgconsult'\n",
      " 'Poliklinische Brief Consult, SEH Consult, Kliniek: vervolgconsult Consult, Kliniek: vervolgconsult Consult, Kliniek: vervolgconsult Poliklinische Brief Consult, Kliniek: vervolgconsult Klinische Brief Klinische Brief Consult, Overige aantekeningen Consult, Telefonisch consult Consult, SEH Consult, SEH Spoedeisende Hulp'\n",
      " 'Consult, SEH Consult, SEH Consult, SEH Consult, SEH Consult, SEH Consult, SEH Consult Consult, Overige aantekeningen Consult, Overige aantekeningen Consult, SEH Consult, SEH Consult, Overige aantekeningen Consult, Kliniek: vervolgconsult Consult, Overige aantekeningen Consult, Kliniek: vervolgconsult Consult, Kliniek: vervolgconsult Consult Consult Consult, Overige aantekeningen Consult, Polikliniek: vervolgconsult Consult Consult, Overige aantekeningen Consult, Overige aantekeningen Consult, Polikliniek: vervolgconsult Consult Consult, Polikliniek: vervolgconsult Consult Consult, Polikliniek: vervolgconsult Consult Consult, Polikliniek: vervolgconsult Consult Consult Consult, SEH Consult, Kliniek: vervolgconsult Consult, Polikliniek: vervolgconsult Poliklinische Brief Consult, Telefonisch consult Consult, Polikliniek: vervolgconsult Consult, Polikliniek: vervolgconsult Consult, Overige aantekeningen Consult, Research Consult, Polikliniek: vervolgconsult Consult, Telefonisch consult Consult Consult, Telefonisch consult Consult, Overige aantekeningen Consult, Polikliniek: vervolgconsult Consult, Telefonisch consult Consult, Polikliniek: vervolgconsult Consult, Kliniek: vervolgconsult Consult, Kliniek: eerste consult Consult, Kliniek: vervolgconsult Consult, Kliniek: vervolgconsult Klinische Brief Consult, Kliniek: vervolgconsult Consult Consult Klinische Brief Consult, Polikliniek: vervolgconsult Consult, SEH Spoedeisende Hulp Consult, Kliniek: vervolgconsult Consult, Kliniek: vervolgconsult Consult, Kliniek: vervolgconsult Consult, Kliniek: vervolgconsult Consult, Kliniek: vervolgconsult Klinische Brief Klinische Brief Consult, Polikliniek: vervolgconsult Consult, Polikliniek: vervolgconsult Consult, Polikliniek: vervolgconsult Consult, Polikliniek: vervolgconsult Consult, Telefonisch consult Consult, Polikliniek: vervolgconsult Consult, Polikliniek: eerste consult Poliklinische Brief Consult, Polikliniek: vervolgconsult Consult, Polikliniek: vervolgconsult Consult, Polikliniek: vervolgconsult Consult, Overige aantekeningen Consult, Polikliniek: vervolgconsult Consult, Polikliniek: vervolgconsult Consult, Polikliniek: vervolgconsult Poliklinische Brief Consult, Polikliniek: vervolgconsult Consult, Polikliniek: vervolgconsult Consult, Overige aantekeningen Consult, Kliniek: vervolgconsult Consult, Kliniek: vervolgconsult Consult, Kliniek: vervolgconsult Consult, Kliniek: vervolgconsult Klinische Brief Klinische Brief Consult, Polikliniek: vervolgconsult Consult, Polikliniek: vervolgconsult Consult, Polikliniek: vervolgconsult Consult, Polikliniek: vervolgconsult Consult, Polikliniek: vervolgconsult Consult, Telefonisch consult Consult, SEH Consult, Kliniek: vervolgconsult Klinische Brief Consult, Kliniek: vervolgconsult Klinische Brief Spoedeisende Hulp Consult, Polikliniek: vervolgconsult Consult, Polikliniek: vervolgconsult Consult, Telefonisch consult Consult, Polikliniek: vervolgconsult Poliklinische Brief Consult, Telefonisch consult Consult Consult, Polikliniek: vervolgconsult Poliklinische Brief Consult, SEH Spoedeisende Hulp Consult, Polikliniek: vervolgconsult Consult, Polikliniek: vervolgconsult Consult, Polikliniek: vervolgconsult Consult, Telefonisch consult Consult, SEH Spoedeisende Hulp Consult, Kliniek: vervolgconsult Consult, Intercollegiaal consult Consult Consult, Kliniek: vervolgconsult Consult, Kliniek: vervolgconsult Poliklinische Brief Consult, Intercollegiaal consult Consult, Kliniek: vervolgconsult Consult, Kliniek: vervolgconsult Klinische Brief Klinische Brief Consult, Polikliniek: vervolgconsult Consult, Polikliniek: vervolgconsult Consult, Polikliniek: vervolgconsult Consult, SEH Spoedeisende Hulp Consult, Kliniek: vervolgconsult Consult, Kliniek: vervolgconsult Consult Klinische Brief Consult, Kliniek: vervolgconsult Consult, Kliniek: vervolgconsult Consult, Kliniek: vervolgconsult Consult, Kliniek: vervolgconsult Consult, Kliniek: vervolgconsult Consult, Overige aantekeningen Consult, Kliniek: vervolgconsult Klinische Brief Consult, Polikliniek: vervolgconsult Consult, Dagbehandeling Consult, Dagbehandeling Consult, Kliniek: vervolgconsult Klinische Brief Klinische Brief Consult, Polikliniek: vervolgconsult Consult, Polikliniek: vervolgconsult Consult, SEH Spoedeisende Hulp Consult, Kliniek: vervolgconsult Consult, Kliniek: vervolgconsult Klinische Brief Klinische Brief Consult, Polikliniek: vervolgconsult Consult, SEH Consult, Polikliniek: vervolgconsult Consult, SEH Consult, Kliniek: vervolgconsult Klinische Brief Consult, Polikliniek: vervolgconsult Consult, Polikliniek: vervolgconsult Consult, Polikliniek: vervolgconsult Consult, Telefonisch consult Consult Consult, SEH Spoedeisende Hulp Consult, Kliniek: vervolgconsult Spoedeisende Hulp Consult, Overige aantekeningen Consult, Kliniek: vervolgconsult Consult, Kliniek: vervolgconsult Consult, Overige aantekeningen Consult, Kliniek: vervolgconsult Consult, Kliniek: vervolgconsult Consult, Kliniek: vervolgconsult Consult, Kliniek: vervolgconsult Poliklinische Brief Poliklinische Brief Consult, Kliniek: vervolgconsult Klinische Brief Consult, Kliniek: vervolgconsult Klinische Brief Consult, Telefonisch consult Consult, Polikliniek: vervolgconsult Consult, Telefonisch consult Consult, Telefonisch consult Consult, Telefonisch consult Consult, Telefonisch consult Consult, SEH Spoedeisende Hulp Consult, Kliniek: vervolgconsult Klinische Brief Consult, Polikliniek: vervolgconsult Consult, Telefonisch consult Consult, SEH Consult, SEH Spoedeisende Hulp Consult, Kliniek: vervolgconsult Klinische Brief Klinische Brief Consult, Telefonisch consult Consult, Polikliniek: vervolgconsult Consult, Telefonisch consult Consult, Telefonisch consult Poliklinische Brief Consult, Telefonisch consult Consult, Telefonisch consult Consult, Telefonisch consult Consult, Telefonisch consult Consult, Polikliniek: vervolgconsult Consult, Overige aantekeningen Consult, Telefonisch consult Consult, Telefonisch consult Consult, Telefonisch consult Consult Consult, Overige aantekeningen Consult, Telefonisch consult Consult, Telefonisch consult Consult, Polikliniek: vervolgconsult Consult, Polikliniek: vervolgconsult Consult, Polikliniek: vervolgconsult Consult, Telefonisch consult Consult, Telefonisch consult Consult, Telefonisch consult Consult, Telefonisch consult Consult, SEH Consult, SEH Consult, SEH Spoedeisende Hulp Consult, SEH Consult, SEH'\n",
      " 'Consult Consult, Polikliniek: vervolgconsult Consult, SEH Consult, SEH Consult, Polikliniek: vervolgconsult Consult, SEH Spoedeisende Hulp Consult, Kliniek: vervolgconsult Consult, Kliniek: vervolgconsult Klinische Brief Klinische Brief Consult, Overige aantekeningen Consult, Polikliniek: eerste consult Consult, Telefonisch consult Consult, Kliniek: vervolgconsult Consult, Kliniek: vervolgconsult Poliklinische Brief Poliklinische Brief Consult, Overige aantekeningen Consult, Telefonisch consult Poliklinische Brief Consult, Polikliniek: vervolgconsult Consult, SEH Spoedeisende Hulp Consult, Kliniek: vervolgconsult Klinische Brief Consult, Telefonisch consult Poliklinische Brief Consult, Polikliniek: vervolgconsult Consult, SEH Consult, SEH Spoedeisende Hulp Consult, SEH Consult, Kliniek: eerste consult Poliklinische Brief Poliklinische Brief Consult, Kliniek: vervolgconsult Consult, Kliniek: vervolgconsult Consult, SEH Consult, SEH Spoedeisende Hulp'\n",
      " 'Consult, SEH Consult, SEH Consult, Polikliniek: eerste consult Consult, SEH Consult, SEH Consult, SEH Consult, SEH Consult Consult Consult Consult Consult, Overige aantekeningen Consult, Polikliniek: vervolgconsult Consult, SEH Consult, SEH Consult, Kliniek: eerste consult Consult, Kliniek: vervolgconsult Consult, Kliniek: vervolgconsult Consult, Kliniek: vervolgconsult Consult, Kliniek: vervolgconsult Consult, SEH Consult, SEH Spoedeisende Hulp Consult, Kliniek: vervolgconsult Klinische Brief Consult, Kliniek: vervolgconsult Poliklinische Brief Consult, Kliniek: vervolgconsult Consult, Kliniek: vervolgconsult Poliklinische Brief Consult, Kliniek: vervolgconsult'\n",
      " 'Consult, SEH Consult, SEH Consult, Polikliniek: eerste consult Consult Consult, Overige aantekeningen Consult, Polikliniek: vervolgconsult Consult, Kliniek: vervolgconsult Consult Consult, Polikliniek: vervolgconsult Consult Consult, Overige aantekeningen Consult, SEH Poliklinische Brief Consult, SEH Consult, SEH Spoedeisende Hulp Consult, Kliniek: vervolgconsult Consult, Kliniek: vervolgconsult Poliklinische Brief Consult, Kliniek: vervolgconsult Consult, Kliniek: vervolgconsult Consult, Kliniek: vervolgconsult Klinische Brief Consult, Kliniek: vervolgconsult Klinische Brief Consult, SEH Consult, Telefonisch consult Consult, SEH Spoedeisende Hulp Consult, Kliniek: vervolgconsult Consult, Kliniek: vervolgconsult Consult, Kliniek: vervolgconsult Klinische Brief Klinische Brief'\n",
      " 'Consult, SEH Consult, SEH Consult, SEH Consult, SEH Consult, Kliniek: eerste consult Consult, SEH Consult, Kliniek: vervolgconsult Consult Consult, Kliniek: vervolgconsult Consult Consult, Kliniek: vervolgconsult Consult Consult, Kliniek: vervolgconsult Consult Consult, Kliniek: vervolgconsult Consult Consult, Kliniek: vervolgconsult Consult Consult, Kliniek: vervolgconsult Consult Consult, Kliniek: vervolgconsult Consult Consult, Kliniek: vervolgconsult Consult Consult, Kliniek: vervolgconsult Consult, Kliniek: vervolgconsult Consult Consult, Kliniek: vervolgconsult Consult Consult, Kliniek: vervolgconsult Consult Consult, Polikliniek: vervolgconsult Consult Consult Consult, Polikliniek: vervolgconsult Consult, SEH Consult, SEH Consult, SEH Consult, Kliniek: eerste consult Consult, Kliniek: vervolgconsult Consult, Kliniek: vervolgconsult Consult, Kliniek: vervolgconsult Consult, SEH Consult, SEH Consult, SEH Consult, SEH Consult, SEH Consult, Kliniek: eerste consult Consult, Kliniek: vervolgconsult Consult Consult, Kliniek: vervolgconsult Consult Consult Consult, Kliniek: vervolgconsult Consult Consult Consult, Kliniek: vervolgconsult Consult Consult, Kliniek: vervolgconsult Consult Consult, SEH Consult, SEH Consult, SEH Consult, SEH Consult, Kliniek: vervolgconsult Consult Consult, Kliniek: eerste consult Consult Consult Consult, Kliniek: vervolgconsult Consult Consult, Overige aantekeningen Consult, Kliniek: vervolgconsult Consult Consult, Kliniek: vervolgconsult Consult Consult, Polikliniek: vervolgconsult Consult Consult, Overige aantekeningen Consult, Polikliniek: vervolgconsult Consult, SEH Consult, SEH Consult, Polikliniek: vervolgconsult Consult, SEH Consult, SEH Spoedeisende Hulp Consult, Kliniek: vervolgconsult Poliklinische Brief Consult, Kliniek: vervolgconsult Klinische Brief Consult, Polikliniek: vervolgconsult Consult, Telefonisch consult Poliklinische Brief'\n",
      " 'Consult, SEH Consult, SEH Consult, Kliniek: vervolgconsult Consult, Kliniek: vervolgconsult Consult Consult, Kliniek: vervolgconsult Consult, Kliniek: vervolgconsult Consult, Kliniek: vervolgconsult Consult, Kliniek: vervolgconsult Consult, Kliniek: vervolgconsult Consult, Kliniek: vervolgconsult Consult Consult Consult, Polikliniek: vervolgconsult Consult, Overige aantekeningen Consult, Polikliniek: vervolgconsult Consult Consult, Polikliniek: vervolgconsult Consult, Overige aantekeningen Consult Consult Consult, Overige aantekeningen Consult, Polikliniek: vervolgconsult Consult Consult, Polikliniek: vervolgconsult Consult Consult Consult, Polikliniek: vervolgconsult Consult Consult, Polikliniek: eerste consult Consult Consult Consult, Polikliniek: vervolgconsult Consult Consult, Overige aantekeningen Consult, Polikliniek: vervolgconsult Consult Consult, Polikliniek: vervolgconsult Consult Consult, Polikliniek: vervolgconsult Consult Consult, Overige aantekeningen Consult, Polikliniek: vervolgconsult Consult Consult, Polikliniek: vervolgconsult Consult Consult, Overige aantekeningen Consult, Polikliniek: vervolgconsult Consult Consult, Polikliniek: vervolgconsult Consult Consult, Overige aantekeningen Consult, SEH Consult, Polikliniek: vervolgconsult Consult, Overige aantekeningen Consult, SEH Spoedeisende Hulp Consult, Kliniek: vervolgconsult Consult, Kliniek: vervolgconsult Poliklinische Brief Consult, Kliniek: vervolgconsult Consult, Kliniek: vervolgconsult Poliklinische Brief Klinische Brief Consult, Kliniek: vervolgconsult Consult, Polikliniek: vervolgconsult Consult, Telefonisch consult Consult, Polikliniek: vervolgconsult Consult, Polikliniek: vervolgconsult Consult, Polikliniek: vervolgconsult Poliklinische Brief Consult, Polikliniek: vervolgconsult Poliklinische Brief Consult, Telefonisch consult Consult, Telefonisch consult Consult, Overige aantekeningen Consult, Polikliniek: vervolgconsult Poliklinische Brief Consult, Telefonisch consult Consult, Telefonisch consult Consult, Polikliniek: vervolgconsult Poliklinische Brief Consult, Telefonisch consult Consult, Polikliniek: vervolgconsult Poliklinische Brief Consult, Telefonisch consult'\n",
      " 'Consult, SEH Spoedeisende Hulp Consult, Kliniek: vervolgconsult Klinische Brief Consult, Overige aantekeningen Klinische Brief Consult, Polikliniek: eerste consult Poliklinische Brief Poliklinische Brief Poliklinische Brief Consult, Polikliniek: vervolgconsult Poliklinische Brief Consult, SEH Consult, SEH Spoedeisende Hulp Consult, Kliniek: vervolgconsult Consult, Kliniek: vervolgconsult Klinische Brief Poliklinische Brief Consult, Polikliniek: vervolgconsult Poliklinische Brief Consult, Polikliniek: vervolgconsult Consult, Overige aantekeningen Consult, Telefonisch consult Poliklinische Brief Consult, Polikliniek: eerste consult Consult, Overige aantekeningen Poliklinische Brief Consult, Polikliniek: vervolgconsult Consult, Overige aantekeningen Poliklinische Brief Consult, Telefonisch consult Consult, Telefonisch consult Consult, Telefonisch consult Consult, Polikliniek: vervolgconsult Consult, Telefonisch consult Consult, Polikliniek: eerste consult Poliklinische Brief Consult, Overige aantekeningen Consult, Telefonisch consult Consult, Telefonisch consult Consult, Telefonisch consult Poliklinische Brief Consult, SEH Consult, SEH Spoedeisende Hulp Spoedeisende Hulp Consult, Kliniek: eerste consult Klinische Brief Consult, Kliniek: vervolgconsult Consult, Kliniek: vervolgconsult Consult, Kliniek: vervolgconsult Consult, Kliniek: vervolgconsult Consult, Kliniek: vervolgconsult Consult, Kliniek: vervolgconsult Consult, Kliniek: vervolgconsult Consult, Kliniek: vervolgconsult Consult, Kliniek: vervolgconsult Klinische Brief Consult, Kliniek: vervolgconsult Consult, Telefonisch consult Poliklinische Brief Consult, Telefonisch consult Poliklinische Brief Consult, Telefonisch consult Consult, Telefonisch consult Poliklinische Brief Consult, Overige aantekeningen'\n",
      " 'Consult, SEH Consult, SEH Consult Consult, Polikliniek: vervolgconsult Consult Consult, Kliniek: vervolgconsult Consult Consult, Kliniek: vervolgconsult Consult Consult, Kliniek: vervolgconsult Consult Consult, Overige aantekeningen Consult, SEH Consult, SEH Consult, SEH Consult, SEH Consult, SEH Consult Consult, SEH Consult, SEH Consult, SEH Consult, Kliniek: vervolgconsult Consult Consult, Kliniek: eerste consult Consult, Kliniek: vervolgconsult Consult Consult, Kliniek: vervolgconsult Consult Consult, Kliniek: vervolgconsult Consult Consult, Kliniek: vervolgconsult Consult Consult, Polikliniek: vervolgconsult Consult Consult, Polikliniek: vervolgconsult Consult Consult, SEH Consult, SEH Consult, Kliniek: eerste consult Consult, Kliniek: vervolgconsult Consult Consult Consult, Kliniek: vervolgconsult Consult Consult, Kliniek: vervolgconsult Consult Consult, Kliniek: vervolgconsult Consult Consult, Polikliniek: vervolgconsult Consult Consult Consult, Overige aantekeningen Consult, Polikliniek: vervolgconsult Consult Consult, Kliniek: vervolgconsult Consult Consult, Kliniek: vervolgconsult Consult Consult, Polikliniek: vervolgconsult Consult Consult, Polikliniek: vervolgconsult Consult Consult, Kliniek: vervolgconsult Consult Consult Consult, Kliniek: vervolgconsult Consult, Kliniek: vervolgconsult Consult, Kliniek: vervolgconsult Consult Consult Consult, Kliniek: vervolgconsult Consult, Kliniek: vervolgconsult Consult, Polikliniek: vervolgconsult Consult, Polikliniek: eerste consult Consult, SEH Consult, SEH Consult, SEH Consult, Kliniek: eerste consult Consult, Kliniek: vervolgconsult Consult, Kliniek: vervolgconsult Consult, Kliniek: vervolgconsult Consult, Kliniek: vervolgconsult Consult, Kliniek: vervolgconsult Consult, Kliniek: vervolgconsult Consult, Kliniek: vervolgconsult Consult, Polikliniek: vervolgconsult Consult, SEH Consult, SEH Spoedeisende Hulp Consult, Kliniek: vervolgconsult Klinische Brief Klinische Brief Consult, Telefonisch consult Consult, Overige aantekeningen Consult, Polikliniek: eerste consult Consult, Telefonisch consult Poliklinische Brief Consult, Overige aantekeningen Consult, SEH Spoedeisende Hulp Consult, Kliniek: vervolgconsult Consult, Kliniek: vervolgconsult Klinische Brief Klinische Brief Consult, Polikliniek: vervolgconsult Consult, Telefonisch consult Poliklinische Brief Consult, Polikliniek: eerste consult Consult, Polikliniek: eerste consult Consult, Polikliniek: vervolgconsult Poliklinische Brief'\n",
      " 'Consult Consult Consult, Polikliniek: vervolgconsult Consult Consult, Polikliniek: vervolgconsult Consult Consult, Polikliniek: vervolgconsult Consult Consult, Polikliniek: vervolgconsult Consult Consult, Polikliniek: vervolgconsult Consult Consult, Polikliniek: vervolgconsult Consult Consult, Polikliniek: vervolgconsult Consult Consult, Polikliniek: vervolgconsult Consult Consult, Polikliniek: vervolgconsult Consult Consult, Polikliniek: vervolgconsult Consult Consult, Polikliniek: vervolgconsult Consult Consult, Polikliniek: vervolgconsult Consult Consult, Polikliniek: vervolgconsult Consult Consult, Overige aantekeningen Consult, Overige aantekeningen Consult, Overige aantekeningen Consult, Polikliniek: vervolgconsult Consult, Polikliniek: vervolgconsult Consult Consult, Polikliniek: vervolgconsult Consult Consult, Polikliniek: vervolgconsult Consult Consult, SEH Consult, SEH Consult, Overige aantekeningen Consult, Polikliniek: vervolgconsult Consult Consult, Polikliniek: eerste consult Consult, Kliniek: eerste consult Consult, SEH Consult, SEH Consult, Polikliniek: vervolgconsult Consult Consult, Polikliniek: vervolgconsult Consult Consult, Polikliniek: vervolgconsult Consult Consult, Polikliniek: vervolgconsult Consult Consult, Polikliniek: vervolgconsult Consult Consult, Polikliniek: vervolgconsult Consult Consult, Overige aantekeningen Consult, Polikliniek: vervolgconsult Poliklinische Brief Consult, SEH Poliklinische Brief Spoedeisende Hulp Consult, Kliniek: vervolgconsult Consult, Kliniek: vervolgconsult Consult, Kliniek: vervolgconsult Consult, Telefonisch consult Consult, Overige aantekeningen Consult, Polikliniek: vervolgconsult Consult, Overige aantekeningen Consult Consult, SEH Spoedeisende Hulp Consult, Kliniek: vervolgconsult Klinische Brief Consult, Kliniek: vervolgconsult Consult, Kliniek: vervolgconsult Poliklinische Brief Consult, Polikliniek: vervolgconsult Poliklinische Brief Consult, Polikliniek: vervolgconsult Consult, Overige aantekeningen Poliklinische Brief Consult, Polikliniek: vervolgconsult Consult, Intercollegiaal consult Consult, Polikliniek: vervolgconsult Consult, Thuisbehandeling'\n",
      " 'Consult, SEH Consult, SEH Spoedeisende Hulp Consult, Kliniek: vervolgconsult Consult, Kliniek: vervolgconsult Poliklinische Brief Poliklinische Brief Klinische Brief Consult, SEH Spoedeisende Hulp Consult, Polikliniek: vervolgconsult Consult, Polikliniek: vervolgconsult Consult, Overige aantekeningen Consult, Overige aantekeningen Consult, Polikliniek: vervolgconsult Consult, Polikliniek: vervolgconsult Consult, Overige aantekeningen Consult, Overige aantekeningen Consult, Polikliniek: vervolgconsult Consult, Telefonisch consult Consult, Overige aantekeningen Consult, Overige aantekeningen Consult, Telefonisch consult Consult, Telefonisch consult Consult, Polikliniek: vervolgconsult Poliklinische Brief Consult, Polikliniek: vervolgconsult Consult, Polikliniek: vervolgconsult Poliklinische Brief Consult, Overige aantekeningen Consult, Overige aantekeningen Consult, Telefonisch consult Consult, Polikliniek: vervolgconsult Consult, Polikliniek: vervolgconsult Consult, Polikliniek: vervolgconsult'\n",
      " 'Consult, SEH Consult, SEH Consult, SEH Consult Consult Consult Consult, Polikliniek: vervolgconsult Consult Consult, Polikliniek: vervolgconsult Consult Consult, Polikliniek: vervolgconsult Consult Consult, Polikliniek: eerste consult Consult, Polikliniek: vervolgconsult Consult, Overige aantekeningen Consult, Overige aantekeningen Consult, Overige aantekeningen Consult, Polikliniek: vervolgconsult Consult Consult, Overige aantekeningen Consult, Kliniek: vervolgconsult Consult, Kliniek: vervolgconsult Consult, Polikliniek: vervolgconsult Consult Consult, Polikliniek: vervolgconsult Consult Consult, Polikliniek: vervolgconsult Consult Consult, Polikliniek: vervolgconsult Consult Consult, SEH Consult, SEH Consult, Kliniek: eerste consult Consult, Kliniek: vervolgconsult Consult, Polikliniek: vervolgconsult Consult Consult, Polikliniek: vervolgconsult Consult Consult, Polikliniek: vervolgconsult Consult Consult, Overige aantekeningen Consult, Polikliniek: vervolgconsult Consult Consult, Polikliniek: vervolgconsult Consult Consult, Polikliniek: vervolgconsult Consult Consult, Polikliniek: vervolgconsult Consult Consult, Polikliniek: vervolgconsult Consult Consult, Polikliniek: vervolgconsult Consult Consult, Polikliniek: vervolgconsult Consult Consult, Polikliniek: vervolgconsult Consult Consult, Polikliniek: vervolgconsult Consult Consult, Polikliniek: vervolgconsult Consult Consult, Polikliniek: vervolgconsult Consult Consult, Polikliniek: vervolgconsult Consult Consult, SEH Consult, SEH Consult, Kliniek: eerste consult Consult, Kliniek: vervolgconsult Consult, Kliniek: vervolgconsult Consult, Kliniek: vervolgconsult Consult, Kliniek: vervolgconsult Consult, Kliniek: vervolgconsult Consult, Kliniek: vervolgconsult Consult, Kliniek: vervolgconsult Consult, Polikliniek: vervolgconsult Consult Consult, Polikliniek: vervolgconsult Consult Consult, Overige aantekeningen Consult, Polikliniek: vervolgconsult Consult Consult, Polikliniek: vervolgconsult Consult Consult, Polikliniek: vervolgconsult Consult Consult, Polikliniek: vervolgconsult Consult Consult, Polikliniek: vervolgconsult Consult Consult Consult, Polikliniek: eerste consult Consult, Polikliniek: vervolgconsult Consult Consult, Overige aantekeningen Consult, Polikliniek: vervolgconsult Consult Consult, SEH Consult, SEH Consult, SEH Consult, Kliniek: eerste consult Consult, Kliniek: vervolgconsult Consult, Kliniek: vervolgconsult Consult, Kliniek: vervolgconsult Consult, Kliniek: vervolgconsult Consult, Kliniek: vervolgconsult Consult, Kliniek: vervolgconsult Consult, Polikliniek: vervolgconsult Consult Consult, Polikliniek: vervolgconsult Consult, Overige aantekeningen Consult, Overige aantekeningen Consult, Polikliniek: vervolgconsult Consult Consult, Polikliniek: vervolgconsult Consult Consult, Polikliniek: vervolgconsult Consult Consult, Overige aantekeningen Consult, Overige aantekeningen Consult, Overige aantekeningen Consult, Overige aantekeningen Consult, Polikliniek: vervolgconsult Consult Consult, Polikliniek: vervolgconsult Consult Consult, Overige aantekeningen Consult, Polikliniek: vervolgconsult Consult Consult, Overige aantekeningen Consult, Polikliniek: vervolgconsult Consult Consult, Telefonisch consult Consult, Overige aantekeningen Consult, SEH Consult, Polikliniek: vervolgconsult Consult, Polikliniek: vervolgconsult Algemeen Consult, Polikliniek: vervolgconsult Consult, Telefonisch consult Consult, Overige aantekeningen Consult, Polikliniek: vervolgconsult Consult, SEH Spoedeisende Hulp Consult, Kliniek: vervolgconsult Poliklinische Brief Consult, Kliniek: vervolgconsult Consult, Kliniek: vervolgconsult Consult, Kliniek: vervolgconsult Consult, Kliniek: vervolgconsult Klinische Brief Poliklinische Brief Consult, Polikliniek: vervolgconsult Consult, Overige aantekeningen Consult, Polikliniek: vervolgconsult Consult, Polikliniek: vervolgconsult Consult, Polikliniek: vervolgconsult Poliklinische Brief Consult, SEH Consult, Polikliniek: vervolgconsult Consult, Polikliniek: vervolgconsult Consult, Polikliniek: vervolgconsult Poliklinische Brief Consult, Polikliniek: vervolgconsult Consult, Polikliniek: vervolgconsult Consult, Polikliniek: vervolgconsult Consult, Overige aantekeningen Consult, Polikliniek: vervolgconsult Consult, SEH Spoedeisende Hulp Consult, Polikliniek: vervolgconsult Consult, Overige aantekeningen Consult, Samenvatting Poliklinische Brief Consult, Polikliniek: vervolgconsult Consult, Overige aantekeningen Consult, Polikliniek: vervolgconsult Consult, Overige aantekeningen Consult, Polikliniek: vervolgconsult Consult, Polikliniek: vervolgconsult Consult, Polikliniek: vervolgconsult Consult, SEH Spoedeisende Hulp Consult, Kliniek: vervolgconsult Consult, Kliniek: vervolgconsult Consult, Kliniek: vervolgconsult Klinische Brief Consult, Kliniek: vervolgconsult Consult, Kliniek: vervolgconsult Consult, Kliniek: vervolgconsult Consult, Kliniek: vervolgconsult Consult Consult, Kliniek: vervolgconsult Consult, Kliniek: vervolgconsult Consult, Kliniek: vervolgconsult Consult, Kliniek: vervolgconsult Consult, Kliniek: vervolgconsult Consult, Kliniek: vervolgconsult Consult, Kliniek: vervolgconsult Consult, Kliniek: vervolgconsult Consult, Kliniek: vervolgconsult Consult, Kliniek: vervolgconsult Consult, Kliniek: vervolgconsult Consult, Kliniek: vervolgconsult Consult, Kliniek: vervolgconsult Consult, Kliniek: vervolgconsult Consult, Kliniek: vervolgconsult Consult, Kliniek: vervolgconsult Klinische Brief Consult, Polikliniek: vervolgconsult Consult, Polikliniek: vervolgconsult Consult, Telefonisch consult Consult, Overige aantekeningen Consult, Telefonisch consult Consult, Overige aantekeningen Consult, SEH Spoedeisende Hulp Consult, Kliniek: vervolgconsult Klinische Brief Consult, Kliniek: vervolgconsult Consult Consult, Kliniek: vervolgconsult Consult, Kliniek: vervolgconsult Consult, Kliniek: vervolgconsult Consult, Kliniek: vervolgconsult Consult, Kliniek: vervolgconsult Consult, Kliniek: vervolgconsult Consult, Kliniek: vervolgconsult Consult, Kliniek: vervolgconsult Consult, Kliniek: vervolgconsult Consult, Kliniek: vervolgconsult Klinische Brief Consult, Polikliniek: vervolgconsult Consult, Polikliniek: vervolgconsult Consult, Overige aantekeningen Consult, SEH Consult, SEH Spoedeisende Hulp Consult, Kliniek: vervolgconsult Consult, SEH Consult, Kliniek: vervolgconsult Consult, Kliniek: vervolgconsult Consult, Kliniek: vervolgconsult Consult, Kliniek: vervolgconsult Poliklinische Brief Klinische Brief Consult, Kliniek: vervolgconsult Consult, Kliniek: vervolgconsult Consult, Overige aantekeningen'\n",
      " 'Consult, SEH Consult, SEH Consult, SEH Consult, SEH Consult, Kliniek: eerste consult Consult, Kliniek: vervolgconsult Consult, Kliniek: vervolgconsult Consult, Kliniek: vervolgconsult Consult, Kliniek: vervolgconsult Consult, Kliniek: vervolgconsult Consult, Kliniek: vervolgconsult Consult, Kliniek: vervolgconsult Consult, SEH Spoedeisende Hulp Consult, Kliniek: vervolgconsult Consult, Kliniek: vervolgconsult Consult, Kliniek: vervolgconsult Poliklinische Brief Consult, Kliniek: vervolgconsult Consult, Kliniek: vervolgconsult Klinische Brief Consult, Telefonisch consult Consult, Telefonisch consult Consult, SEH Spoedeisende Hulp Consult, SEH Consult, Kliniek: vervolgconsult Klinische Brief Consult, Polikliniek: vervolgconsult Consult, Kliniek: vervolgconsult Consult, Overige aantekeningen Consult, Kliniek: vervolgconsult Consult, Kliniek: vervolgconsult Poliklinische Brief Poliklinische Brief Consult, Telefonisch consult Poliklinische Brief Consult, Telefonisch consult Poliklinische Brief Consult, SEH Consult, SEH Consult, Kliniek: eerste consult Consult, Kliniek: vervolgconsult Klinische Brief Klinische Brief Spoedeisende Hulp Consult, SEH Consult, SEH Consult, SEH Spoedeisende Hulp Consult, Kliniek: eerste consult Consult, Kliniek: vervolgconsult Klinische Brief Consult, Intercollegiaal consult Consult, Intercollegiaal consult Klinische Brief Consult, Kliniek: eerste consult Consult, Kliniek: vervolgconsult Poliklinische Brief Poliklinische Brief Poliklinische Brief Consult, Telefonisch consult Consult, Telefonisch consult Poliklinische Brief Consult, Polikliniek: vervolgconsult Consult, Polikliniek: vervolgconsult Consult, Polikliniek: vervolgconsult Consult, Kliniek: eerste consult Klinische Brief Consult, Kliniek: vervolgconsult Klinische Brief Consult, Telefonisch consult'\n",
      " 'Consult, SEH Consult, SEH Consult, SEH Consult, SEH Consult, SEH Consult, SEH Consult, Kliniek: eerste consult Spoedeisende Hulp Consult, Kliniek: vervolgconsult Consult, Kliniek: vervolgconsult Klinische Brief'\n",
      " 'Consult, SEH Consult, SEH Consult, Polikliniek: vervolgconsult Consult, Polikliniek: vervolgconsult Consult, SEH Spoedeisende Hulp Consult, Kliniek: vervolgconsult Poliklinische Brief Consult, Kliniek: vervolgconsult Klinische Brief Consult, Polikliniek: vervolgconsult Consult, SEH Consult, Kliniek: vervolgconsult Spoedeisende Hulp Consult Poliklinische Brief Consult Consult, Kliniek: vervolgconsult Consult, Kliniek: vervolgconsult Consult, Kliniek: vervolgconsult Consult, Kliniek: vervolgconsult Consult, Kliniek: vervolgconsult Klinische Brief Consult, Telefonisch consult Poliklinische Brief Consult, Overige aantekeningen Consult, Polikliniek: vervolgconsult Consult, Polikliniek: vervolgconsult Consult, SEH Consult, SEH Poliklinische Brief Consult, Kliniek: eerste consult Consult, Kliniek: eerste consult Consult, Kliniek: vervolgconsult Consult, Kliniek: eerste consult Consult, Kliniek: vervolgconsult Consult, Kliniek: vervolgconsult Consult, Kliniek: vervolgconsult Consult, Kliniek: vervolgconsult Consult, Kliniek: vervolgconsult Klinische Brief Consult, Kliniek: vervolgconsult Consult, Kliniek: vervolgconsult Consult, Polikliniek: vervolgconsult Consult, Polikliniek: vervolgconsult Consult, Polikliniek: vervolgconsult Consult, Polikliniek: vervolgconsult Consult, Polikliniek: vervolgconsult Consult, Polikliniek: vervolgconsult Consult, Overige aantekeningen Consult, Polikliniek: vervolgconsult Consult, Polikliniek: vervolgconsult'\n",
      " 'Consult, SEH Consult, SEH Consult, SEH Consult, SEH Consult, SEH Consult, SEH Consult Consult, Polikliniek: eerste consult Poliklinische Brief Consult, Polikliniek: vervolgconsult Poliklinische Brief Consult, Overige aantekeningen Consult, Telefonisch consult Consult, SEH Consult, Kliniek: vervolgconsult Spoedeisende Hulp Consult, Kliniek: vervolgconsult Consult, Kliniek: vervolgconsult Consult, Kliniek: vervolgconsult Consult, Kliniek: vervolgconsult Klinische Brief Klinische Brief Consult, SEH Consult, Kliniek: vervolgconsult Consult, Overige aantekeningen Poliklinische Brief Consult, Kliniek: vervolgconsult Klinische Brief Spoedeisende Hulp'\n",
      " 'Consult, SEH Consult, SEH Consult Consult, Polikliniek: eerste consult Consult Consult, SEH Consult, SEH Consult Consult, Kliniek: eerste consult Consult, Kliniek: vervolgconsult Consult Consult, Polikliniek: eerste consult Consult Consult Consult Consult Consult Consult, Telefonisch consult Poliklinische Brief Consult, Polikliniek: vervolgconsult Poliklinische Brief Consult, Kliniek: vervolgconsult Consult, Kliniek: vervolgconsult Consult, Kliniek: vervolgconsult Consult, Kliniek: vervolgconsult Klinische Brief Consult, Kliniek: vervolgconsult Consult, Kliniek: vervolgconsult Klinische Brief Consult, Kliniek: vervolgconsult Klinische Brief Consult, SEH Spoedeisende Hulp Consult, Kliniek: vervolgconsult Consult, Kliniek: vervolgconsult Klinische Brief Radiologieverslag, ECG kliniek Consult, Kliniek: vervolgconsult Consult, Kliniek: vervolgconsult Consult, Kliniek: vervolgconsult Consult, Kliniek: vervolgconsult Consult, Kliniek: vervolgconsult Consult, Kliniek: vervolgconsult Consult, Kliniek: vervolgconsult Klinische Brief Poliklinische Brief Consult, Polikliniek: eerste consult Consult, Kliniek: vervolgconsult Consult Poliklinische Brief Consult, Kliniek: vervolgconsult Consult, Kliniek: vervolgconsult Consult, Kliniek: vervolgconsult Consult, Kliniek: vervolgconsult Consult, Kliniek: vervolgconsult Poliklinische Brief Klinische Brief Consult, SEH Spoedeisende Hulp Consult, Kliniek: vervolgconsult Consult, Kliniek: vervolgconsult Consult, Kliniek: vervolgconsult Consult, Polikliniek: vervolgconsult'\n",
      " 'Consult, SEH Consult, SEH Consult Consult, Kliniek: eerste consult Consult, Kliniek: vervolgconsult Consult Consult Consult, Kliniek: vervolgconsult Consult Consult, Kliniek: vervolgconsult Consult, Kliniek: vervolgconsult Consult Consult, Kliniek: vervolgconsult Consult Consult, Kliniek: vervolgconsult Consult, Kliniek: vervolgconsult Consult, Kliniek: vervolgconsult Consult Consult, Kliniek: vervolgconsult Consult Consult, Kliniek: vervolgconsult Consult, Kliniek: vervolgconsult Consult Consult, Polikliniek: vervolgconsult Consult Consult, Overige aantekeningen Consult, Polikliniek: vervolgconsult Consult, Polikliniek: vervolgconsult Consult Consult, SEH Consult, SEH Consult, Kliniek: eerste consult Consult, Kliniek: vervolgconsult Consult Consult Consult, Kliniek: vervolgconsult Consult Consult, Kliniek: vervolgconsult Consult Consult, Kliniek: vervolgconsult Consult Consult, Kliniek: vervolgconsult Consult Consult, SEH Consult, SEH Consult, Overige aantekeningen Consult, Polikliniek: vervolgconsult Consult Consult, Polikliniek: vervolgconsult Consult Consult, SEH Consult, SEH Consult, SEH Consult, Kliniek: eerste consult Consult, Kliniek: vervolgconsult Consult Consult, Kliniek: vervolgconsult Consult Consult, Kliniek: vervolgconsult Consult Consult, Polikliniek: vervolgconsult Consult Consult, SEH Consult, SEH Consult, Kliniek: eerste consult Consult, Kliniek: vervolgconsult Consult, Kliniek: vervolgconsult Consult Consult Consult, Kliniek: vervolgconsult Consult Consult, Overige aantekeningen Consult Consult, Kliniek: vervolgconsult Consult, Kliniek: vervolgconsult Consult Consult, Polikliniek: vervolgconsult Consult Consult, Polikliniek: vervolgconsult Consult Consult, Overige aantekeningen Consult, Overige aantekeningen Consult, SEH Consult, SEH Consult, SEH Consult, SEH Consult, Kliniek: eerste consult Consult, Kliniek: vervolgconsult Consult Consult, Kliniek: vervolgconsult Consult Consult, Polikliniek: vervolgconsult Consult Consult Poliklinische Brief Consult, Polikliniek: vervolgconsult Consult, Polikliniek: vervolgconsult Consult, SEH Consult, SEH Consult, Kliniek: vervolgconsult Consult, Kliniek: vervolgconsult Consult, Kliniek: vervolgconsult Consult, Kliniek: vervolgconsult Poliklinische Brief Klinische Brief Poliklinische Brief Consult, Polikliniek: vervolgconsult Consult, Polikliniek: vervolgconsult Consult, Polikliniek: vervolgconsult Consult, Polikliniek: vervolgconsult Consult, Polikliniek: vervolgconsult Consult, Polikliniek: vervolgconsult Consult, Overige aantekeningen Consult, Polikliniek: vervolgconsult Consult, Overige aantekeningen Consult, Telefonisch consult Consult, Overige aantekeningen Consult, Overige aantekeningen Consult, Telefonisch consult Consult, Telefonisch consult'\n",
      " 'Consult, SEH Consult, SEH Consult, Overige aantekeningen Consult, Polikliniek: eerste consult Consult, Polikliniek: vervolgconsult Consult, SEH Consult, SEH Consult Consult, SEH Consult, SEH Consult, SEH Consult, SEH Consult, SEH Consult Consult Consult, Kliniek: vervolgconsult Consult Consult, Kliniek: eerste consult Consult, Kliniek: vervolgconsult Consult Consult, Kliniek: vervolgconsult Consult Consult, Overige aantekeningen Consult Consult, Overige aantekeningen Consult Consult Consult, Polikliniek: eerste consult Consult, SEH Spoedeisende Hulp Consult, Kliniek: vervolgconsult Consult, Kliniek: vervolgconsult Consult, Kliniek: vervolgconsult Consult, Kliniek: vervolgconsult Consult, Kliniek: vervolgconsult Consult, Kliniek: vervolgconsult Consult, Kliniek: vervolgconsult Consult, Kliniek: vervolgconsult Consult, Kliniek: vervolgconsult Consult, Kliniek: vervolgconsult Consult, Kliniek: vervolgconsult Consult, Kliniek: vervolgconsult Consult, Kliniek: vervolgconsult Consult, Kliniek: vervolgconsult Consult, Kliniek: vervolgconsult Klinische Brief Consult, Kliniek: vervolgconsult Consult, Kliniek: vervolgconsult Consult, Kliniek: vervolgconsult Consult, Overige aantekeningen Consult, Polikliniek: vervolgconsult Consult, SEH Spoedeisende Hulp Consult, Kliniek: vervolgconsult Consult, Kliniek: vervolgconsult Consult, Kliniek: vervolgconsult Consult, Kliniek: vervolgconsult Klinische Brief Klinische Brief Consult, SEH Consult, Kliniek: eerste consult Spoedeisende Hulp Consult, Kliniek: vervolgconsult Consult, Kliniek: vervolgconsult Poliklinische Brief Poliklinische Brief Consult, Kliniek: vervolgconsult Consult, Kliniek: vervolgconsult Consult, Kliniek: vervolgconsult Klinische Brief Consult, Kliniek: vervolgconsult Consult, Overige aantekeningen Consult, Telefonisch consult Consult, SEH Consult, Kliniek: vervolgconsult Spoedeisende Hulp Consult, Kliniek: vervolgconsult Consult, Kliniek: vervolgconsult Consult, Kliniek: vervolgconsult Consult, Kliniek: vervolgconsult Consult, Kliniek: vervolgconsult Consult, Kliniek: vervolgconsult Klinische Brief Klinische Brief Consult, Kliniek: vervolgconsult Consult, Polikliniek: eerste consult Consult, Overige aantekeningen Consult, Kliniek: vervolgconsult Consult Consult, Kliniek: vervolgconsult Poliklinische Brief Klinische Brief Poliklinische Brief Consult, Polikliniek: vervolgconsult Poliklinische Brief Consult, SEH Consult, SEH Spoedeisende Hulp Consult, Kliniek: vervolgconsult Consult, Kliniek: vervolgconsult Consult, Kliniek: vervolgconsult'\n",
      " 'Consult, SEH Consult, SEH Consult, SEH Consult, SEH Consult, SEH Consult, Polikliniek: eerste consult Consult Consult Consult Consult Consult, Polikliniek: vervolgconsult Consult Consult, Polikliniek: vervolgconsult Consult Consult, Polikliniek: vervolgconsult Consult Consult Consult Consult, Kliniek: vervolgconsult Consult Consult, Kliniek: vervolgconsult Consult Consult, Polikliniek: vervolgconsult Consult Consult Consult, SEH Consult, SEH Consult, SEH Consult Consult, Polikliniek: vervolgconsult Consult Consult, SEH Consult, SEH Consult, Polikliniek: vervolgconsult Consult, SEH Consult, SEH Spoedeisende Hulp Consult, Kliniek: vervolgconsult Consult, Kliniek: vervolgconsult Klinische Brief Klinische Brief Consult, Polikliniek: vervolgconsult Consult, Polikliniek: vervolgconsult Consult, Overige aantekeningen Consult, Kliniek: vervolgconsult Poliklinische Brief Poliklinische Brief Consult, SEH Spoedeisende Hulp Consult, Kliniek: vervolgconsult Klinische Brief Consult, Kliniek: vervolgconsult Consult, Polikliniek: vervolgconsult Consult, Overige aantekeningen Consult, Telefonisch consult Consult, Overige aantekeningen Poliklinische Brief Consult, Polikliniek: vervolgconsult Consult, Overige aantekeningen Consult, Telefonisch consult Poliklinische Brief Consult, Kliniek: vervolgconsult Poliklinische Brief Consult, Kliniek: vervolgconsult Consult, Polikliniek: vervolgconsult Consult, Telefonisch consult Consult, Polikliniek: vervolgconsult Poliklinische Brief Consult, Polikliniek: vervolgconsult Consult, Polikliniek: vervolgconsult Consult, Overige aantekeningen Consult, Dagbehandeling Consult, SEH Spoedeisende Hulp Consult, Dagbehandeling Consult, Kliniek: eerste consult Klinische Brief Consult, SEH Spoedeisende Hulp Consult, Kliniek: vervolgconsult Poliklinische Brief Consult, Kliniek: vervolgconsult Poliklinische Brief Consult, Kliniek: vervolgconsult Consult, Kliniek: vervolgconsult Klinische Brief Consult, Kliniek: vervolgconsult Consult, Overige aantekeningen'\n",
      " 'Consult Consult, Polikliniek: vervolgconsult Consult, Polikliniek: vervolgconsult Consult, Polikliniek: vervolgconsult Consult, Overige aantekeningen Consult, SEH Consult, Kliniek: vervolgconsult Consult, Polikliniek: eerste consult Consult, SEH Consult, SEH Consult, SEH Spoedeisende Hulp Consult, Telefonisch consult Poliklinische Brief Consult, SEH Consult, SEH Consult, SEH Spoedeisende Hulp Consult, Kliniek: eerste consult Consult, Kliniek: vervolgconsult Consult, Kliniek: vervolgconsult Consult, Kliniek: vervolgconsult Poliklinische Brief Consult, Kliniek: vervolgconsult Consult, Kliniek: vervolgconsult Consult, Kliniek: vervolgconsult Consult, Kliniek: vervolgconsult Poliklinische Brief Consult, Kliniek: vervolgconsult Klinische Brief Klinische Brief Consult, Polikliniek: vervolgconsult Consult, Polikliniek: vervolgconsult Consult, Polikliniek: vervolgconsult Consult, Polikliniek: vervolgconsult Poliklinische Brief'\n",
      " 'Consult, SEH Consult, SEH Consult Consult, Polikliniek: vervolgconsult Consult Consult, Polikliniek: vervolgconsult Consult, Polikliniek: vervolgconsult Consult Consult, Polikliniek: vervolgconsult Consult Consult, Polikliniek: vervolgconsult Consult Consult, Polikliniek: vervolgconsult Consult Consult, Polikliniek: vervolgconsult Consult Consult, Polikliniek: vervolgconsult Consult Consult, Overige aantekeningen Consult, Polikliniek: vervolgconsult Consult Consult, Polikliniek: vervolgconsult Consult Consult, Polikliniek: vervolgconsult Consult Consult, Polikliniek: vervolgconsult Consult Consult, Polikliniek: vervolgconsult Consult Consult, Polikliniek: vervolgconsult Consult Consult, Polikliniek: vervolgconsult Consult Consult, Polikliniek: vervolgconsult Consult Consult Consult, Polikliniek: vervolgconsult Consult Consult, Polikliniek: vervolgconsult Consult Consult, Polikliniek: vervolgconsult Consult Consult, Overige aantekeningen Consult, Overige aantekeningen Consult, Polikliniek: vervolgconsult Consult Consult, Polikliniek: vervolgconsult Consult Consult, SEH Consult, SEH Consult, SEH Consult, Kliniek: vervolgconsult Consult, Kliniek: vervolgconsult Consult, Kliniek: vervolgconsult Consult, Kliniek: vervolgconsult Consult, Kliniek: vervolgconsult Consult, Kliniek: vervolgconsult Consult, Kliniek: vervolgconsult Consult, Kliniek: vervolgconsult Consult, Overige aantekeningen Consult, Polikliniek: vervolgconsult Consult Consult, Polikliniek: vervolgconsult Consult Consult, Polikliniek: vervolgconsult Consult, Polikliniek: vervolgconsult Consult, Polikliniek: vervolgconsult Consult, Polikliniek: vervolgconsult Consult, Polikliniek: vervolgconsult Consult, Polikliniek: vervolgconsult Poliklinische Brief Consult, Polikliniek: vervolgconsult Consult, SEH Consult, SEH Spoedeisende Hulp Poliklinische Brief Consult, Kliniek: vervolgconsult Consult, Kliniek: vervolgconsult Consult, Kliniek: vervolgconsult Klinische Brief Consult, Telefonisch consult Consult, Overige aantekeningen Consult, Polikliniek: vervolgconsult Consult, Telefonisch consult Consult, Polikliniek: vervolgconsult Poliklinische Brief Consult, Polikliniek: eerste consult Consult, Polikliniek: vervolgconsult Consult, Polikliniek: vervolgconsult Consult, SEH Spoedeisende Hulp Consult, Kliniek: vervolgconsult Consult, Kliniek: vervolgconsult Consult, Kliniek: vervolgconsult Consult, Kliniek: vervolgconsult Consult, Polikliniek: vervolgconsult Consult, Kliniek: vervolgconsult Consult, Polikliniek: vervolgconsult Consult, Kliniek: vervolgconsult Klinische Brief Klinische Brief Consult, Polikliniek: vervolgconsult Consult, Polikliniek: vervolgconsult Consult, Polikliniek: vervolgconsult Consult, Polikliniek: vervolgconsult Consult, Polikliniek: vervolgconsult Consult, Polikliniek: vervolgconsult Consult, Polikliniek: vervolgconsult Consult, Telefonisch consult Consult, Polikliniek: vervolgconsult Consult, Telefonisch consult Consult, SEH Spoedeisende Hulp Spoedeisende Hulp Consult, Kliniek: vervolgconsult Consult, Kliniek: vervolgconsult Consult, Telefonisch consult Consult, Polikliniek: vervolgconsult Consult, Polikliniek: vervolgconsult Poliklinische Brief Consult, Telefonisch consult Poliklinische Brief Consult, Polikliniek: vervolgconsult Consult, Polikliniek: vervolgconsult Consult, Polikliniek: vervolgconsult Consult, Polikliniek: vervolgconsult Consult, Polikliniek: vervolgconsult Consult, Polikliniek: vervolgconsult Consult, Telefonisch consult Consult, Polikliniek: vervolgconsult Consult, Polikliniek: vervolgconsult Poliklinische Brief Consult, SEH Consult, SEH Consult Consult Spoedeisende Hulp Consult, Kliniek: vervolgconsult Consult, Kliniek: vervolgconsult Consult, Kliniek: vervolgconsult Consult, Kliniek: vervolgconsult Consult, Kliniek: vervolgconsult Poliklinische Brief Consult, Kliniek: vervolgconsult Consult, Kliniek: vervolgconsult Consult, Kliniek: vervolgconsult Consult, Kliniek: vervolgconsult Consult, Kliniek: vervolgconsult Consult, Kliniek: vervolgconsult Consult, Kliniek: vervolgconsult Consult Consult, Kliniek: vervolgconsult Consult, Kliniek: vervolgconsult Consult, Kliniek: vervolgconsult Consult, Kliniek: vervolgconsult Consult, Kliniek: vervolgconsult Consult, Kliniek: vervolgconsult Consult, Kliniek: vervolgconsult Consult, Kliniek: vervolgconsult Consult, Kliniek: vervolgconsult Consult, Kliniek: vervolgconsult Consult, Kliniek: vervolgconsult Consult, Kliniek: vervolgconsult Consult, Kliniek: vervolgconsult Consult, Kliniek: vervolgconsult Consult, Kliniek: vervolgconsult Consult, Kliniek: vervolgconsult Consult, Kliniek: vervolgconsult Consult, Kliniek: vervolgconsult Consult, Kliniek: vervolgconsult Consult, Kliniek: vervolgconsult Consult, Kliniek: vervolgconsult Consult, Kliniek: vervolgconsult Klinische Brief Consult, Kliniek: vervolgconsult Consult, Kliniek: vervolgconsult Klinische Brief Consult, Polikliniek: vervolgconsult Consult, Telefonisch consult'\n",
      " 'Consult, SEH Consult, SEH Consult, SEH Consult, SEH Consult, SEH Consult, SEH Consult, SEH Consult, SEH Consult, SEH Consult, SEH Spoedeisende Hulp Consult, Kliniek: vervolgconsult Klinische Brief Klinische Brief Consult, Overige aantekeningen Consult, Overige aantekeningen Consult, Overige aantekeningen Consult, Polikliniek: eerste consult Consult, Overige aantekeningen Consult, Polikliniek: vervolgconsult Consult, Overige aantekeningen Consult, Overige aantekeningen Consult, Telefonisch consult Consult, Telefonisch consult Consult, Telefonisch consult Consult, Overige aantekeningen Poliklinische Brief Poliklinische Brief Consult, Overige aantekeningen Consult, Telefonisch consult Poliklinische Brief'\n",
      " 'Consult, Polikliniek: vervolgconsult Consult, Overige aantekeningen Consult, SEH Spoedeisende Hulp Consult, Kliniek: vervolgconsult Consult, Polikliniek: eerste consult Consult, Polikliniek: eerste consult Poliklinische Brief Poliklinische Brief Consult, Polikliniek: vervolgconsult Poliklinische Brief Consult, Polikliniek: eerste consult Consult, Overige aantekeningen Consult, Overige aantekeningen Poliklinische Brief Consult, Polikliniek: vervolgconsult Consult, Kliniek: vervolgconsult Consult, Overige aantekeningen Consult, Polikliniek: vervolgconsult Consult, Polikliniek: vervolgconsult Consult, Polikliniek: vervolgconsult Poliklinische Brief Poliklinische Brief Consult, Polikliniek: vervolgconsult Consult, Telefonisch consult Consult, Telefonisch consult Consult, Overige aantekeningen Consult, Polikliniek: eerste consult Consult, Overige aantekeningen Poliklinische Brief Consult, Telefonisch consult'\n",
      " 'Consult, Overige aantekeningen Consult, SEH Spoedeisende Hulp Consult Consult, Kliniek: vervolgconsult Poliklinische Brief Consult, Kliniek: vervolgconsult Consult, Kliniek: vervolgconsult Consult, Kliniek: vervolgconsult Consult, Kliniek: vervolgconsult Poliklinische Brief Klinische Brief Consult, Kliniek: vervolgconsult Consult, Polikliniek: vervolgconsult Poliklinische Brief'\n",
      " 'Consult, SEH Consult, SEH Consult, SEH Consult, SEH Consult, SEH Consult, Kliniek: eerste consult Consult, Kliniek: vervolgconsult Consult Consult Consult, SEH Consult Consult, Kliniek: vervolgconsult Consult Consult, Kliniek: vervolgconsult Consult Consult Consult, Polikliniek: vervolgconsult Consult Consult, Polikliniek: vervolgconsult Consult'\n",
      " 'Consult, SEH Consult, SEH Consult, SEH Consult, Kliniek: vervolgconsult Consult, Kliniek: vervolgconsult Consult, Kliniek: vervolgconsult Consult, Polikliniek: vervolgconsult Consult Consult, Overige aantekeningen Consult, SEH Consult, SEH Consult, SEH Consult, Kliniek: vervolgconsult Consult, Kliniek: vervolgconsult Consult Consult Consult Consult Consult, Overige aantekeningen Consult, Polikliniek: vervolgconsult Consult, Overige aantekeningen Consult, Polikliniek: vervolgconsult Consult Consult, Polikliniek: vervolgconsult Consult Consult, Overige aantekeningen Consult, Polikliniek: vervolgconsult Consult Consult, Overige aantekeningen Consult, Overige aantekeningen Consult, Polikliniek: vervolgconsult Consult Consult, Polikliniek: vervolgconsult Consult Consult, Polikliniek: vervolgconsult Consult, Polikliniek: vervolgconsult Consult Consult, Polikliniek: vervolgconsult Consult Consult, Polikliniek: vervolgconsult Consult Consult, Polikliniek: vervolgconsult Consult Consult, Polikliniek: vervolgconsult Consult Consult, Overige aantekeningen Consult, Polikliniek: vervolgconsult Consult Consult, Polikliniek: vervolgconsult Consult Consult, SEH Consult, SEH Consult, Kliniek: eerste consult Consult, Kliniek: vervolgconsult Consult Consult Consult, Kliniek: vervolgconsult Consult Consult, Kliniek: vervolgconsult Consult Consult Consult, Kliniek: vervolgconsult Consult Consult, Overige aantekeningen Consult, Polikliniek: vervolgconsult Consult, Overige aantekeningen Consult Consult Consult, Kliniek: vervolgconsult Consult Consult Consult, Polikliniek: vervolgconsult Consult, Telefonisch consult Consult, Polikliniek: vervolgconsult Consult, Overige aantekeningen Consult, Polikliniek: vervolgconsult Consult, Polikliniek: vervolgconsult Consult, Overige aantekeningen Consult, Polikliniek: vervolgconsult Consult, Polikliniek: vervolgconsult'\n",
      " 'Consult, Overige aantekeningen Consult Consult Consult Consult Consult, Polikliniek: eerste consult Consult Consult Consult, Polikliniek: vervolgconsult Consult Consult, Polikliniek: vervolgconsult Consult Consult, Polikliniek: vervolgconsult Consult, Kliniek: vervolgconsult Consult Consult, Kliniek: vervolgconsult Consult Consult, Kliniek: vervolgconsult Consult Consult, Polikliniek: vervolgconsult Consult Consult, Polikliniek: vervolgconsult Consult Consult Consult, Polikliniek: vervolgconsult Consult Consult, Polikliniek: vervolgconsult Consult Consult, Polikliniek: vervolgconsult Consult Consult, SEH Consult, SEH Spoedeisende Hulp Consult, Kliniek: vervolgconsult Klinische Brief Klinische Brief Klinische Brief Consult, Polikliniek: vervolgconsult Consult, Kliniek: vervolgconsult Consult, Kliniek: vervolgconsult Consult, Kliniek: vervolgconsult Poliklinische Brief Poliklinische Brief Consult, Overige aantekeningen Consult, Kliniek: vervolgconsult'\n",
      " 'Consult, SEH Consult, SEH Consult, SEH Consult, SEH Consult, SEH Consult, SEH Consult Consult, Kliniek: eerste consult Consult, Kliniek: vervolgconsult Consult Consult, Kliniek: vervolgconsult Consult Consult, Kliniek: vervolgconsult Consult Consult, Kliniek: vervolgconsult Consult Consult, Kliniek: vervolgconsult Consult Consult Consult, Kliniek: vervolgconsult Consult Consult, Kliniek: vervolgconsult Consult Consult, Kliniek: vervolgconsult Consult Consult, Overige aantekeningen Consult, Overige aantekeningen Consult, Polikliniek: vervolgconsult Consult Consult, Polikliniek: vervolgconsult Consult Consult, Overige aantekeningen Consult Consult, Polikliniek: eerste consult Consult Consult Consult, Polikliniek: vervolgconsult Consult Consult, Polikliniek: vervolgconsult Consult Consult, Polikliniek: vervolgconsult Algemeen Consult, Overige aantekeningen Consult, Polikliniek: vervolgconsult Consult, Overige aantekeningen Consult, Polikliniek: vervolgconsult Consult, Overige aantekeningen Consult, Overige aantekeningen Poliklinische Brief Consult, Polikliniek: vervolgconsult Consult, Polikliniek: vervolgconsult Consult, Polikliniek: vervolgconsult Consult, Polikliniek: vervolgconsult Consult, Overige aantekeningen Consult, Polikliniek: eerste consult Consult, Polikliniek: vervolgconsult Consult, Polikliniek: vervolgconsult Consult, Overige aantekeningen Consult, Polikliniek: eerste consult Consult, Samenvatting Poliklinische Brief Consult, Kliniek: vervolgconsult Consult, Kliniek: vervolgconsult Consult, Polikliniek: vervolgconsult Consult, SEH Consult, SEH Spoedeisende Hulp Consult, Polikliniek: vervolgconsult Consult, Telefonisch consult Consult, Polikliniek: vervolgconsult Consult, Polikliniek: vervolgconsult Consult, Overige aantekeningen Consult, Overige aantekeningen Consult, Polikliniek: vervolgconsult Consult, Overige aantekeningen Consult, Polikliniek: vervolgconsult Consult, Polikliniek: vervolgconsult'\n",
      " 'Consult, SEH Consult, SEH Consult, Kliniek: eerste consult Consult, Kliniek: vervolgconsult Consult, Kliniek: vervolgconsult Consult, SEH Consult, SEH Consult, SEH Consult, Kliniek: vervolgconsult Consult, SEH Consult, SEH Consult, Kliniek: eerste consult Consult, Kliniek: vervolgconsult Consult, Kliniek: vervolgconsult Consult, Kliniek: vervolgconsult Consult Consult Consult, Kliniek: vervolgconsult Consult, Kliniek: vervolgconsult Consult Consult, Kliniek: vervolgconsult Consult, Kliniek: vervolgconsult Consult Consult, Kliniek: vervolgconsult Consult Consult Consult, Kliniek: vervolgconsult Consult, Overige aantekeningen Consult, Kliniek: vervolgconsult Consult, Kliniek: vervolgconsult Consult, Kliniek: vervolgconsult Consult Consult, Kliniek: vervolgconsult Consult, Kliniek: vervolgconsult Consult Consult, Kliniek: vervolgconsult Consult Consult, Kliniek: vervolgconsult Consult, Kliniek: vervolgconsult Consult Consult, Kliniek: vervolgconsult Consult, Overige aantekeningen Consult, Polikliniek: vervolgconsult Consult, Polikliniek: vervolgconsult Consult Consult, Polikliniek: vervolgconsult Consult Consult Consult, Overige aantekeningen Consult Consult, Overige aantekeningen Consult, Overige aantekeningen Consult, Overige aantekeningen Consult, Polikliniek: vervolgconsult Consult Consult, Polikliniek: vervolgconsult Consult Consult Consult, Polikliniek: vervolgconsult Consult Consult, Overige aantekeningen Consult, Telefonisch consult Consult, Telefonisch consult Consult, Overige aantekeningen Poliklinische Brief Consult, Polikliniek: vervolgconsult Poliklinische Brief Consult, Telefonisch consult Consult, Polikliniek: vervolgconsult Consult, Polikliniek: vervolgconsult Consult, Polikliniek: vervolgconsult Poliklinische Brief Consult, Polikliniek: vervolgconsult Consult, Polikliniek: vervolgconsult Consult, Polikliniek: vervolgconsult Consult, Overige aantekeningen Consult, Polikliniek: vervolgconsult Consult, Overige aantekeningen Consult, Telefonisch consult Consult, Polikliniek: vervolgconsult Consult, Polikliniek: vervolgconsult Consult, Overige aantekeningen Consult, Polikliniek: vervolgconsult Consult, SEH Consult, Polikliniek: vervolgconsult Poliklinische Brief Consult, Polikliniek: vervolgconsult Consult, Polikliniek: vervolgconsult Consult, Polikliniek: vervolgconsult Consult, Dagbehandeling Consult, Telefonisch consult Consult, Polikliniek: vervolgconsult'\n",
      " 'Consult Consult, Polikliniek: eerste consult Consult, Polikliniek: vervolgconsult Consult, Polikliniek: vervolgconsult Consult, Polikliniek: vervolgconsult Consult, SEH Consult, SEH Consult, SEH Consult, SEH Consult, SEH Consult, Overige aantekeningen Consult Consult, Polikliniek: eerste consult Consult Consult Consult, Kliniek: vervolgconsult Consult Consult, Kliniek: vervolgconsult Consult Consult Consult, Kliniek: vervolgconsult Consult Consult, Polikliniek: vervolgconsult Consult Consult, Polikliniek: vervolgconsult Consult Consult, Polikliniek: vervolgconsult Consult Consult Consult Consult, Polikliniek: vervolgconsult Consult Consult, Polikliniek: vervolgconsult Consult Consult, SEH Consult, SEH Consult, Overige aantekeningen Consult, Overige aantekeningen Consult, Polikliniek: vervolgconsult Consult Consult, Polikliniek: vervolgconsult Consult Consult, SEH Consult, SEH Consult, SEH Consult, SEH Consult, SEH Consult Consult, Polikliniek: eerste consult Poliklinische Brief Consult, Polikliniek: vervolgconsult Consult, Polikliniek: vervolgconsult Poliklinische Brief Consult, Polikliniek: vervolgconsult Consult, Polikliniek: vervolgconsult Poliklinische Brief Consult, Polikliniek: vervolgconsult Consult, Overige aantekeningen Consult, Overige aantekeningen Consult, Overige aantekeningen Consult, Polikliniek: vervolgconsult Consult, Polikliniek: vervolgconsult Consult, SEH Spoedeisende Hulp Consult, Kliniek: vervolgconsult Klinische Brief Klinische Brief Consult, Polikliniek: vervolgconsult Consult, SEH Consult, SEH Consult, Kliniek: vervolgconsult Klinische Brief Klinische Brief Spoedeisende Hulp Consult, Polikliniek: eerste consult Consult, Polikliniek: vervolgconsult Consult, SEH Consult, SEH Spoedeisende Hulp Consult, Kliniek: vervolgconsult Consult, Kliniek: vervolgconsult Klinische Brief Klinische Brief Consult, Polikliniek: vervolgconsult Consult, Overige aantekeningen Consult, Kliniek: vervolgconsult Consult, Kliniek: vervolgconsult Poliklinische Brief Poliklinische Brief Consult, Kliniek: vervolgconsult Consult, Kliniek: vervolgconsult Consult, Telefonisch consult Poliklinische Brief Consult, Overige aantekeningen Consult, SEH Spoedeisende Hulp Consult, Polikliniek: vervolgconsult Consult, Overige aantekeningen Consult, Polikliniek: vervolgconsult Consult, Overige aantekeningen Consult, Kliniek: vervolgconsult Consult, Polikliniek: vervolgconsult Consult, Telefonisch consult Consult, SEH Spoedeisende Hulp Consult, Kliniek: vervolgconsult Consult, Kliniek: vervolgconsult Consult, Kliniek: vervolgconsult Klinische Brief Consult, Kliniek: vervolgconsult Consult, Polikliniek: vervolgconsult Klinische Brief Consult, SEH Spoedeisende Hulp Spoedeisende Hulp'\n",
      " 'Consult, SEH Consult, SEH Consult, SEH Consult, SEH Consult Consult, SEH Consult, SEH Consult, SEH Consult Consult Consult, Polikliniek: eerste consult Consult Consult, Polikliniek: vervolgconsult Consult Consult, Polikliniek: vervolgconsult Consult Consult, Polikliniek: vervolgconsult Consult Consult Consult Consult, Polikliniek: vervolgconsult Consult Consult, Polikliniek: vervolgconsult Consult Consult Consult Consult, Polikliniek: vervolgconsult Consult Consult Consult, Polikliniek: vervolgconsult Consult Consult, Overige aantekeningen Consult, Polikliniek: vervolgconsult Consult Consult, SEH Consult Consult, Polikliniek: eerste consult Consult Consult, Polikliniek: vervolgconsult Consult Consult, Polikliniek: vervolgconsult Consult Consult, Polikliniek: vervolgconsult Consult, Polikliniek: vervolgconsult Consult, Polikliniek: vervolgconsult Consult, Overige aantekeningen Consult, Telefonisch consult Consult, Polikliniek: vervolgconsult Consult, Overige aantekeningen Poliklinische Brief Consult, Kliniek: vervolgconsult Consult, Kliniek: vervolgconsult Consult, Overige aantekeningen Consult, SEH Spoedeisende Hulp Consult, Kliniek: vervolgconsult Consult, Kliniek: vervolgconsult Consult, Kliniek: vervolgconsult Consult, Kliniek: vervolgconsult Consult, Kliniek: vervolgconsult Consult, Kliniek: vervolgconsult Consult, Kliniek: vervolgconsult Consult, Kliniek: vervolgconsult Consult, Kliniek: vervolgconsult Klinische Brief Consult, Kliniek: vervolgconsult Consult, Overige aantekeningen Consult, Polikliniek: vervolgconsult Consult, Overige aantekeningen Consult, Overige aantekeningen Consult, Polikliniek: vervolgconsult Consult, Polikliniek: vervolgconsult Consult, Polikliniek: vervolgconsult Consult, Overige aantekeningen Consult, SEH Spoedeisende Hulp Consult, Kliniek: vervolgconsult Consult, Kliniek: vervolgconsult Consult, Kliniek: vervolgconsult Consult, Kliniek: vervolgconsult Consult, Kliniek: vervolgconsult Consult, Kliniek: vervolgconsult Klinische Brief Consult, Kliniek: vervolgconsult Consult, Kliniek: vervolgconsult Consult, Kliniek: vervolgconsult Consult, Kliniek: vervolgconsult Consult, Kliniek: vervolgconsult Consult, Kliniek: vervolgconsult Poliklinische Brief Poliklinische Brief Consult, Kliniek: vervolgconsult Consult, Kliniek: vervolgconsult Klinische Brief Consult, Kliniek: vervolgconsult Consult, Polikliniek: vervolgconsult Consult, SEH Consult, Kliniek: vervolgconsult Consult, Telefonisch consult Klinische Brief Consult, Kliniek: vervolgconsult Consult, Telefonisch consult Consult, Telefonisch consult Poliklinische Brief Poliklinische Brief Consult, SEH Consult, SEH Consult, SEH Spoedeisende Hulp Consult Consult, Kliniek: vervolgconsult Consult, Kliniek: vervolgconsult Consult, Kliniek: vervolgconsult Consult, Kliniek: vervolgconsult Consult, Kliniek: vervolgconsult Consult, Kliniek: vervolgconsult Consult, Kliniek: vervolgconsult Klinische Brief Consult, Kliniek: vervolgconsult Consult Consult, Kliniek: vervolgconsult Consult Consult, Kliniek: vervolgconsult Consult, Kliniek: vervolgconsult Consult, Kliniek: vervolgconsult Consult, Kliniek: vervolgconsult Consult Consult, Kliniek: vervolgconsult Consult, Kliniek: vervolgconsult Consult, Kliniek: vervolgconsult Klinische Brief Consult, SEH Consult, Polikliniek: vervolgconsult Consult, Overige aantekeningen Consult, Kliniek: vervolgconsult Consult, SEH Spoedeisende Hulp Consult, Kliniek: eerste consult Klinische Brief Consult, Kliniek: vervolgconsult Klinische Brief Consult, Overige aantekeningen Consult, Telefonisch consult Consult, SEH Spoedeisende Hulp Consult, Kliniek: vervolgconsult Consult, Kliniek: vervolgconsult Klinische Brief Consult, Overige aantekeningen Consult, SEH Spoedeisende Hulp Consult, Kliniek: vervolgconsult Poliklinische Brief Consult, Kliniek: vervolgconsult Consult, Kliniek: vervolgconsult Consult, Kliniek: vervolgconsult Consult, Kliniek: vervolgconsult Consult, Kliniek: vervolgconsult Consult, Kliniek: vervolgconsult Consult, Kliniek: vervolgconsult Consult, Kliniek: vervolgconsult Klinische Brief Consult, Kliniek: vervolgconsult Consult, Overige aantekeningen Consult, Polikliniek: vervolgconsult Consult, Overige aantekeningen Consult, SEH Spoedeisende Hulp Consult, Kliniek: vervolgconsult Consult, Kliniek: vervolgconsult Consult, Kliniek: vervolgconsult Consult, Kliniek: vervolgconsult Consult, Kliniek: vervolgconsult Consult, Kliniek: vervolgconsult Consult, Kliniek: vervolgconsult Consult, Kliniek: vervolgconsult Klinische Brief Poliklinische Brief Consult, Kliniek: vervolgconsult Consult, Kliniek: vervolgconsult Consult Consult, Kliniek: vervolgconsult Consult, Kliniek: vervolgconsult Consult, Kliniek: vervolgconsult Consult, Kliniek: vervolgconsult Klinische Brief Consult, Kliniek: vervolgconsult Consult, Kliniek: vervolgconsult Consult, Kliniek: vervolgconsult Consult, Kliniek: vervolgconsult Klinische Brief Consult, Overige aantekeningen Consult, Polikliniek: vervolgconsult Consult, SEH Consult, Kliniek: vervolgconsult Consult, Kliniek: vervolgconsult Consult, Telefonisch consult Consult, Telefonisch consult Consult, Overige aantekeningen Consult, Polikliniek: vervolgconsult Consult, Telefonisch consult Consult, Telefonisch consult Consult, Polikliniek: vervolgconsult Consult, Overige aantekeningen Consult, Telefonisch consult Consult, Telefonisch consult Poliklinische Brief Consult, SEH Consult, SEH Consult, Polikliniek: vervolgconsult Poliklinische Brief Consult, Overige aantekeningen Consult, Telefonisch consult Consult, SEH Consult, SEH Spoedeisende Hulp Consult, Kliniek: eerste consult Poliklinische Brief Poliklinische Brief Consult, Kliniek: vervolgconsult Consult, Kliniek: vervolgconsult Consult, Kliniek: vervolgconsult Consult, Kliniek: vervolgconsult Klinische Brief Consult, Kliniek: vervolgconsult Poliklinische Brief Consult, Kliniek: vervolgconsult Consult, Kliniek: vervolgconsult Consult, Kliniek: vervolgconsult Consult, Kliniek: vervolgconsult Consult, Kliniek: vervolgconsult Consult, Kliniek: vervolgconsult Consult, Kliniek: vervolgconsult Consult, Intercollegiaal consult Poliklinische Brief Consult, Kliniek: vervolgconsult Consult, Kliniek: vervolgconsult Consult, Kliniek: vervolgconsult Consult, Kliniek: vervolgconsult Consult, Kliniek: vervolgconsult Consult, Kliniek: vervolgconsult Consult, Kliniek: vervolgconsult Consult, Kliniek: vervolgconsult Consult, Kliniek: vervolgconsult Consult, Kliniek: vervolgconsult Consult, Kliniek: vervolgconsult Poliklinische Brief Consult, Overige aantekeningen Consult, Kliniek: vervolgconsult Consult, Kliniek: vervolgconsult Consult, Kliniek: vervolgconsult Consult, Kliniek: vervolgconsult Consult, Kliniek: vervolgconsult Consult, Kliniek: vervolgconsult Consult, Kliniek: vervolgconsult Consult, Kliniek: vervolgconsult Consult, Overige aantekeningen Consult, Kliniek: vervolgconsult Consult, Kliniek: vervolgconsult Consult, Kliniek: vervolgconsult Consult, Kliniek: vervolgconsult Consult, Kliniek: vervolgconsult Consult, Kliniek: vervolgconsult Consult, Kliniek: vervolgconsult Consult, Kliniek: vervolgconsult Consult, Kliniek: vervolgconsult Consult, Kliniek: vervolgconsult Consult, Kliniek: vervolgconsult Consult, Polikliniek: vervolgconsult Consult, SEH Consult, SEH Spoedeisende Hulp Consult, Polikliniek: vervolgconsult Consult, Polikliniek: vervolgconsult Consult, Overige aantekeningen Consult, Polikliniek: vervolgconsult Consult, Polikliniek: vervolgconsult'\n",
      " 'Consult Consult, Polikliniek: vervolgconsult Consult Consult, Polikliniek: vervolgconsult Consult, Polikliniek: vervolgconsult Consult Consult, Polikliniek: vervolgconsult Consult Consult, Polikliniek: vervolgconsult Consult Consult, SEH Consult, SEH Consult, SEH Consult, SEH Consult, Kliniek: eerste consult Consult, Kliniek: vervolgconsult Consult, Kliniek: vervolgconsult Consult, Kliniek: vervolgconsult Consult, Kliniek: vervolgconsult Consult, Kliniek: vervolgconsult Consult, Kliniek: vervolgconsult Consult, Kliniek: vervolgconsult Consult, Kliniek: vervolgconsult Consult, Kliniek: vervolgconsult Consult, Kliniek: vervolgconsult Consult, Kliniek: vervolgconsult Consult, Kliniek: vervolgconsult Consult, Polikliniek: vervolgconsult Consult Consult, Polikliniek: vervolgconsult Consult Consult, Polikliniek: eerste consult Consult, Polikliniek: vervolgconsult Consult Consult, Polikliniek: vervolgconsult Consult Consult, Polikliniek: vervolgconsult Consult Consult, Polikliniek: vervolgconsult Consult Consult, Overige aantekeningen Consult, Polikliniek: vervolgconsult Consult Consult, Polikliniek: vervolgconsult Consult Consult, SEH Consult, SEH Consult, SEH Consult, SEH Consult, SEH Consult, SEH Consult, SEH Consult, SEH Consult, Kliniek: eerste consult Consult, Kliniek: vervolgconsult Consult, Kliniek: vervolgconsult Consult, Kliniek: vervolgconsult Consult, Kliniek: vervolgconsult Consult, Kliniek: vervolgconsult Consult, Kliniek: vervolgconsult Consult, Kliniek: vervolgconsult Consult, Kliniek: vervolgconsult Consult, Kliniek: vervolgconsult Consult, Kliniek: vervolgconsult Consult, Kliniek: vervolgconsult Consult, Polikliniek: vervolgconsult Consult Consult, Overige aantekeningen Consult, SEH Consult, SEH Consult, SEH Consult, SEH Consult, SEH Consult, SEH Consult, SEH Consult, SEH Consult, Kliniek: eerste consult Consult, Kliniek: vervolgconsult Consult, Kliniek: vervolgconsult Consult, Kliniek: vervolgconsult Consult, Kliniek: vervolgconsult Consult, Kliniek: vervolgconsult Consult, Kliniek: vervolgconsult Consult, Kliniek: vervolgconsult Consult, Overige aantekeningen Consult, Kliniek: vervolgconsult Consult, Kliniek: vervolgconsult Consult, Polikliniek: vervolgconsult Consult, SEH Consult, SEH Consult, SEH Consult, Kliniek: eerste consult Consult, Kliniek: vervolgconsult Consult, Kliniek: vervolgconsult Consult Consult, Kliniek: vervolgconsult Consult, Kliniek: vervolgconsult Consult, Kliniek: vervolgconsult Consult Consult, Kliniek: vervolgconsult Consult Consult, Kliniek: vervolgconsult Consult, Kliniek: vervolgconsult Consult, Kliniek: vervolgconsult Consult Consult, Kliniek: vervolgconsult Consult Consult, Kliniek: vervolgconsult Consult, Kliniek: vervolgconsult Consult, Kliniek: vervolgconsult Consult Consult, Kliniek: vervolgconsult Consult, Kliniek: vervolgconsult Consult Consult, Kliniek: vervolgconsult Consult, Kliniek: vervolgconsult Consult Consult, Kliniek: vervolgconsult Consult, Kliniek: vervolgconsult Consult Consult, Kliniek: vervolgconsult Consult Consult, Kliniek: vervolgconsult Consult, Polikliniek: vervolgconsult Consult Consult, Polikliniek: vervolgconsult Consult, Polikliniek: vervolgconsult Consult, SEH Consult, SEH Consult, SEH Consult, Kliniek: vervolgconsult Consult, Kliniek: vervolgconsult Consult, Kliniek: vervolgconsult Consult, Kliniek: vervolgconsult Consult, Kliniek: vervolgconsult Consult, Kliniek: vervolgconsult Consult, Overige aantekeningen Consult, Kliniek: vervolgconsult Consult, Polikliniek: vervolgconsult Consult Consult, Polikliniek: vervolgconsult Consult, Overige aantekeningen Consult, Overige aantekeningen Consult, Polikliniek: vervolgconsult Consult Consult, Polikliniek: vervolgconsult Consult Consult, Polikliniek: vervolgconsult Consult, Polikliniek: vervolgconsult Consult, Polikliniek: vervolgconsult Consult, Overige aantekeningen Consult, Polikliniek: vervolgconsult Consult, SEH Consult, SEH Consult, Kliniek: eerste consult Consult Consult, Kliniek: vervolgconsult Consult Consult, Kliniek: vervolgconsult Consult Consult Consult, Kliniek: vervolgconsult Consult Consult, Kliniek: vervolgconsult Consult Consult Consult Consult, Kliniek: vervolgconsult Consult Consult, Kliniek: vervolgconsult Consult Consult, Polikliniek: vervolgconsult Consult Consult, Kliniek: vervolgconsult Consult Consult Consult Consult, Kliniek: vervolgconsult Consult Consult, Kliniek: vervolgconsult Consult Consult, Polikliniek: vervolgconsult Consult, Polikliniek: vervolgconsult Consult, Overige aantekeningen Consult, SEH Consult, SEH Consult, SEH Consult, SEH Consult, Kliniek: eerste consult Consult, Kliniek: vervolgconsult Consult, Kliniek: vervolgconsult Consult, Kliniek: vervolgconsult Consult, Kliniek: vervolgconsult Consult, Kliniek: vervolgconsult Consult, Kliniek: vervolgconsult Consult Consult, Polikliniek: vervolgconsult Consult, Polikliniek: vervolgconsult Consult, SEH Consult, SEH Consult, SEH Consult, SEH Consult, SEH Consult, SEH Consult, Kliniek: vervolgconsult Consult, Kliniek: vervolgconsult Consult, Kliniek: vervolgconsult Consult, Kliniek: vervolgconsult Consult, Kliniek: vervolgconsult Consult, Polikliniek: vervolgconsult Consult Consult, Overige aantekeningen Consult, Polikliniek: vervolgconsult Consult, SEH Consult, SEH Consult, SEH Consult, SEH Consult, SEH Consult, Polikliniek: vervolgconsult Consult, Kliniek: eerste consult Consult, Kliniek: vervolgconsult Consult, Kliniek: vervolgconsult Consult, Kliniek: vervolgconsult Consult Consult, Overige aantekeningen Consult, Polikliniek: vervolgconsult Consult, Overige aantekeningen Consult, Polikliniek: vervolgconsult Consult, Polikliniek: vervolgconsult Consult Consult, SEH Consult, SEH Consult, SEH Consult, Polikliniek: vervolgconsult Consult Consult, Overige aantekeningen Consult, Polikliniek: vervolgconsult Consult Consult, Polikliniek: vervolgconsult Consult Consult, Overige aantekeningen Consult, SEH Consult, SEH Consult, SEH Consult, Polikliniek: vervolgconsult Consult Consult, Overige aantekeningen Consult, Polikliniek: vervolgconsult Consult Consult, Polikliniek: vervolgconsult Consult, Polikliniek: vervolgconsult Consult Consult, Polikliniek: vervolgconsult Consult, Overige aantekeningen Consult, Overige aantekeningen Consult, Polikliniek: vervolgconsult Consult, Polikliniek: vervolgconsult Consult Consult Consult, Polikliniek: vervolgconsult Consult Consult Consult, SEH Consult, SEH Consult, SEH Consult, SEH Consult, SEH Consult, SEH Consult, SEH Consult, SEH Consult, SEH Consult, Kliniek: vervolgconsult Consult, Kliniek: vervolgconsult Consult, Kliniek: vervolgconsult Consult, Kliniek: vervolgconsult Consult, Kliniek: vervolgconsult Consult, Kliniek: vervolgconsult Consult, SEH Consult, SEH Consult, SEH Consult, SEH Consult, SEH Consult, SEH Consult, Kliniek: eerste consult Consult, Kliniek: vervolgconsult Consult, Kliniek: vervolgconsult Consult, Kliniek: vervolgconsult Consult, Kliniek: vervolgconsult Consult, Kliniek: vervolgconsult Consult, Kliniek: vervolgconsult Consult Consult, Polikliniek: vervolgconsult Consult Consult, Overige aantekeningen Consult, Overige aantekeningen Consult, Polikliniek: eerste consult Consult Consult, Polikliniek: vervolgconsult Consult, Polikliniek: vervolgconsult Consult Consult, Overige aantekeningen Consult, Overige aantekeningen Consult, Polikliniek: vervolgconsult Consult, Telefonisch consult Consult, Overige aantekeningen Consult, Overige aantekeningen Consult, Polikliniek: vervolgconsult Consult, Overige aantekeningen Consult, Polikliniek: vervolgconsult Poliklinische Brief Consult, Polikliniek: vervolgconsult Consult, Polikliniek: vervolgconsult Consult, Telefonisch consult Consult, Polikliniek: vervolgconsult Consult, Polikliniek: vervolgconsult'\n",
      " 'Consult, SEH Consult, SEH Consult, SEH Consult, SEH Consult, SEH Consult, SEH Consult, SEH Consult, SEH Consult, SEH Consult, SEH Consult, SEH Consult, SEH Consult, SEH Consult, SEH Consult, SEH Consult, Polikliniek: eerste consult Consult Consult, SEH Consult, SEH Consult, SEH Consult, SEH Consult, SEH Consult, SEH Spoedeisende Hulp Consult, Kliniek: vervolgconsult Consult, Kliniek: vervolgconsult Klinische Brief'\n",
      " 'Consult, SEH Consult, SEH Consult, SEH Poliklinische Brief Consult, SEH Poliklinische Brief Spoedeisende Hulp Consult, Kliniek: vervolgconsult Consult, Kliniek: vervolgconsult Consult, Kliniek: vervolgconsult Klinische Brief Consult, Polikliniek: vervolgconsult Consult, Telefonisch consult Consult, Telefonisch consult Poliklinische Brief'\n",
      " 'Consult, Overige aantekeningen Consult Consult Consult, Polikliniek: vervolgconsult Consult Consult, Polikliniek: vervolgconsult Consult Consult, Polikliniek: vervolgconsult Consult Consult, Polikliniek: vervolgconsult Consult Consult, Polikliniek: vervolgconsult Consult Consult, Overige aantekeningen Consult, Polikliniek: vervolgconsult Consult Consult, Polikliniek: eerste consult Poliklinische Brief Consult, Polikliniek: vervolgconsult Poliklinische Brief Consult, Polikliniek: vervolgconsult Consult, Polikliniek: vervolgconsult Poliklinische Brief Consult, Overige aantekeningen Consult, Telefonisch consult Consult, Overige aantekeningen Consult, SEH Consult, SEH Spoedeisende Hulp Consult, Kliniek: vervolgconsult Consult, Kliniek: vervolgconsult Consult, Kliniek: vervolgconsult Consult, Kliniek: vervolgconsult Consult, Kliniek: vervolgconsult Poliklinische Brief Consult, Kliniek: vervolgconsult Poliklinische Brief Klinische Brief Consult, Polikliniek: vervolgconsult Consult, Polikliniek: vervolgconsult Poliklinische Brief Consult, Polikliniek: vervolgconsult Consult, Telefonisch consult Poliklinische Brief Consult, SEH Consult, SEH Consult, SEH Spoedeisende Hulp Consult, Telefonisch consult Consult, Telefonisch consult Consult, Telefonisch consult Poliklinische Brief Consult, SEH Consult, SEH Consult, SEH Consult, Polikliniek: vervolgconsult Consult, Telefonisch consult Consult, Telefonisch consult Consult, Overige aantekeningen Consult, Telefonisch consult Consult, Telefonisch consult Consult, Overige aantekeningen Consult, Telefonisch consult Consult, Telefonisch consult Consult, Telefonisch consult Consult, Telefonisch consult Poliklinische Brief Consult, Kliniek: eerste consult Klinische Brief Consult, Overige aantekeningen Consult, Polikliniek: vervolgconsult Consult, Polikliniek: eerste consult Consult, Telefonisch consult Consult, SEH Consult, SEH Spoedeisende Hulp Consult, Kliniek: eerste consult Consult, Kliniek: vervolgconsult Consult, Kliniek: vervolgconsult Consult, Intercollegiaal consult Consult, Kliniek: vervolgconsult Consult, Kliniek: vervolgconsult Poliklinische Brief'\n",
      " 'Consult, SEH Consult, SEH Consult, SEH Consult, Kliniek: eerste consult Consult Consult, Kliniek: vervolgconsult Consult Consult Consult, Kliniek: vervolgconsult Consult Consult, Overige aantekeningen Consult, Polikliniek: vervolgconsult Consult Consult, Overige aantekeningen'\n",
      " 'Consult, Polikliniek: vervolgconsult Consult Consult, Polikliniek: vervolgconsult Consult Consult, Overige aantekeningen Consult, Polikliniek: vervolgconsult Consult Consult, Polikliniek: vervolgconsult Consult Consult, Polikliniek: eerste consult Consult, SEH Consult, SEH Consult, SEH Consult, SEH Consult, Kliniek: vervolgconsult Consult, Kliniek: vervolgconsult Consult, Kliniek: vervolgconsult Consult Consult, Kliniek: vervolgconsult Consult, Kliniek: vervolgconsult Consult, Polikliniek: vervolgconsult Consult, Polikliniek: vervolgconsult Consult, Kliniek: vervolgconsult Consult, Kliniek: vervolgconsult Consult, Polikliniek: vervolgconsult Consult Consult, Polikliniek: vervolgconsult Consult Consult, Overige aantekeningen Consult, Overige aantekeningen Consult, Overige aantekeningen Consult, Polikliniek: vervolgconsult Consult Consult, Polikliniek: vervolgconsult Consult Consult, Polikliniek: vervolgconsult Consult Consult, Polikliniek: vervolgconsult Consult Consult, Polikliniek: vervolgconsult Consult Consult, Polikliniek: vervolgconsult Consult Consult, Polikliniek: vervolgconsult Consult Consult, Polikliniek: vervolgconsult Consult, Polikliniek: vervolgconsult Consult, Polikliniek: vervolgconsult Consult Consult, Polikliniek: vervolgconsult Consult Consult, Polikliniek: vervolgconsult Consult Consult, Overige aantekeningen Consult, Polikliniek: vervolgconsult Consult Consult, Overige aantekeningen Consult, Polikliniek: vervolgconsult Consult Consult Consult Consult Consult, Polikliniek: vervolgconsult Consult Consult, Polikliniek: vervolgconsult Consult, Polikliniek: vervolgconsult Consult Consult, Kliniek: vervolgconsult Consult Consult, Kliniek: vervolgconsult Consult Consult, Kliniek: vervolgconsult Consult Consult, Polikliniek: vervolgconsult Consult, Polikliniek: vervolgconsult Consult Consult, Overige aantekeningen Consult, SEH Consult, SEH Consult, SEH Consult, SEH Consult, SEH Consult, SEH Consult, SEH Consult, SEH Consult, SEH Consult, SEH Consult, SEH Consult, SEH Consult, SEH Consult Consult, SEH Consult, Kliniek: eerste consult Consult Consult, Kliniek: vervolgconsult Consult Consult, Overige aantekeningen Consult, SEH Consult, SEH Consult, SEH Consult, SEH Consult, Kliniek: eerste consult Consult, Kliniek: vervolgconsult Consult Consult Consult Consult, Kliniek: vervolgconsult Consult Consult, Kliniek: vervolgconsult Consult Consult, Kliniek: vervolgconsult Consult Consult, Kliniek: vervolgconsult Consult Consult, Kliniek: vervolgconsult Consult Consult, Polikliniek: vervolgconsult Consult Consult, Overige aantekeningen Consult, Polikliniek: vervolgconsult Consult Consult, Polikliniek: vervolgconsult Consult Consult, Polikliniek: vervolgconsult Consult Consult, Overige aantekeningen Consult, SEH Spoedeisende Hulp Consult, Kliniek: vervolgconsult Consult, Kliniek: vervolgconsult Consult, Kliniek: vervolgconsult Consult, Kliniek: vervolgconsult Consult, Samenvatting Poliklinische Brief Consult, Kliniek: vervolgconsult Consult, Kliniek: vervolgconsult Consult, Kliniek: vervolgconsult Consult, Kliniek: vervolgconsult Consult, Kliniek: vervolgconsult Klinische Brief Consult, Overige aantekeningen Consult, Polikliniek: eerste consult Poliklinische Brief Consult, SEH Spoedeisende Hulp Consult, Kliniek: vervolgconsult Consult, Kliniek: vervolgconsult Consult Poliklinische Brief Poliklinische Brief Klinische Brief Consult, Kliniek: vervolgconsult Consult, Kliniek: vervolgconsult Consult, Kliniek: vervolgconsult Consult, Polikliniek: vervolgconsult Consult, Polikliniek: vervolgconsult Consult, Overige aantekeningen Consult, Polikliniek: vervolgconsult Consult, SEH Spoedeisende Hulp Consult, Kliniek: vervolgconsult Consult, Kliniek: vervolgconsult Klinische Brief Consult, Kliniek: vervolgconsult Consult, Kliniek: vervolgconsult'\n",
      " 'Consult, SEH Consult, SEH Consult, SEH Consult, SEH Consult, SEH Consult, SEH Consult, SEH Consult, SEH Consult, SEH Consult, SEH Consult, SEH Consult, SEH Consult, SEH Consult, SEH Consult, SEH Consult, SEH Consult, SEH Consult, Kliniek: eerste consult Consult Consult, Kliniek: vervolgconsult Consult Consult, SEH Consult Consult, Kliniek: vervolgconsult Consult Consult, Kliniek: vervolgconsult Consult Consult, Kliniek: vervolgconsult Consult Consult, Kliniek: vervolgconsult Consult Consult, Polikliniek: vervolgconsult Consult Consult Consult, SEH Consult, SEH Consult, SEH Consult Consult, Polikliniek: vervolgconsult Consult Consult, SEH Consult, SEH Consult, SEH Consult, Kliniek: vervolgconsult Consult Consult Consult Consult, Kliniek: vervolgconsult Consult Consult, Polikliniek: vervolgconsult Consult Consult, Polikliniek: vervolgconsult Consult Consult, Polikliniek: vervolgconsult Consult, SEH Spoedeisende Hulp Consult, SEH Consult, SEH Spoedeisende Hulp Consult, Kliniek: vervolgconsult Klinische Brief Poliklinische Brief Consult, Kliniek: vervolgconsult Klinische Brief Klinische Brief Klinische Brief'\n",
      " 'Consult, SEH Consult, SEH Consult, Overige aantekeningen Consult Consult, Polikliniek: eerste consult Consult, Polikliniek: vervolgconsult Consult, Polikliniek: vervolgconsult Consult, Overige aantekeningen Consult, Polikliniek: vervolgconsult Consult, Overige aantekeningen Consult, Polikliniek: vervolgconsult Consult, Polikliniek: vervolgconsult Consult, Overige aantekeningen Consult, Overige aantekeningen Consult, SEH Consult, SEH Consult, SEH Consult, SEH Consult, SEH Consult, SEH Consult, SEH Consult, Kliniek: vervolgconsult Consult Consult, Kliniek: vervolgconsult Consult Consult, Kliniek: eerste consult Consult, Kliniek: vervolgconsult Consult Consult, Kliniek: vervolgconsult Consult Consult, Overige aantekeningen Consult, SEH Consult, SEH'\n",
      " 'Consult, SEH Spoedeisende Hulp Poliklinische Brief Consult Consult, Polikliniek: eerste consult Consult, Kliniek: vervolgconsult Consult, Kliniek: vervolgconsult Consult, Kliniek: vervolgconsult Poliklinische Brief Poliklinische Brief Consult, SEH Consult, SEH Consult, SEH Consult, SEH Consult, SEH Spoedeisende Hulp Poliklinische Brief Consult, Kliniek: vervolgconsult Consult, Kliniek: vervolgconsult Consult, Polikliniek: vervolgconsult Consult, Polikliniek: vervolgconsult Poliklinische Brief Consult, Telefonisch consult'\n",
      " 'Consult, SEH Consult, SEH Consult, SEH Consult, Kliniek: eerste consult Consult, SEH Consult Consult Consult, Kliniek: vervolgconsult Consult, Kliniek: vervolgconsult Consult, Kliniek: vervolgconsult Consult, Kliniek: vervolgconsult Consult, Overige aantekeningen Consult, Kliniek: vervolgconsult Consult, Kliniek: vervolgconsult Consult, Kliniek: vervolgconsult Consult, Kliniek: vervolgconsult Consult, Kliniek: vervolgconsult Consult, Kliniek: vervolgconsult Consult, Kliniek: vervolgconsult Consult, Kliniek: vervolgconsult Consult, Kliniek: vervolgconsult Consult, Kliniek: vervolgconsult Consult, Kliniek: vervolgconsult Consult, Overige aantekeningen Consult, SEH Consult, SEH Consult, SEH Consult, Kliniek: eerste consult Consult Consult, Kliniek: vervolgconsult Consult Consult Consult Consult, Kliniek: vervolgconsult Consult Consult, Kliniek: vervolgconsult Consult Consult Consult, Polikliniek: vervolgconsult Consult Consult, Polikliniek: vervolgconsult Consult Consult, Overige aantekeningen Consult, Overige aantekeningen Consult, Overige aantekeningen Consult, Overige aantekeningen Consult, Polikliniek: vervolgconsult Consult Consult Consult, Kliniek: eerste consult Consult, Kliniek: vervolgconsult Consult Consult Consult Consult, Kliniek: vervolgconsult Consult Consult, Kliniek: vervolgconsult Consult Consult, Polikliniek: vervolgconsult Consult Consult, Polikliniek: vervolgconsult Consult, Telefonisch consult Consult, Overige aantekeningen Consult, Polikliniek: vervolgconsult Consult, SEH Spoedeisende Hulp Consult Poliklinische Brief Consult Consult, Kliniek: vervolgconsult Klinische Brief Consult, Kliniek: vervolgconsult Poliklinische Brief Consult, Polikliniek: vervolgconsult Consult, Polikliniek: vervolgconsult Consult, Kliniek: vervolgconsult Poliklinische Brief Consult, Polikliniek: vervolgconsult Consult, Polikliniek: vervolgconsult Consult, Polikliniek: vervolgconsult Poliklinische Brief Poliklinische Brief Consult, Polikliniek: vervolgconsult Consult, Kliniek: vervolgconsult Consult, Kliniek: vervolgconsult Consult, Kliniek: vervolgconsult Poliklinische Brief Poliklinische Brief Consult, Kliniek: vervolgconsult Consult, Kliniek: vervolgconsult Klinische Brief Consult, Kliniek: vervolgconsult Consult, Kliniek: vervolgconsult Consult, SEH Spoedeisende Hulp Spoedeisende Hulp Consult, Kliniek: vervolgconsult Poliklinische Brief Poliklinische Brief Consult, Kliniek: vervolgconsult Consult, Kliniek: vervolgconsult Consult, Kliniek: vervolgconsult Consult, Kliniek: vervolgconsult Klinische Brief Consult, Kliniek: vervolgconsult Consult, Kliniek: vervolgconsult Consult, Kliniek: vervolgconsult Consult, Kliniek: vervolgconsult Consult, Kliniek: vervolgconsult Consult, Kliniek: vervolgconsult Consult, Kliniek: vervolgconsult Consult, Kliniek: vervolgconsult Consult, Kliniek: vervolgconsult Klinische Brief Consult, Polikliniek: vervolgconsult Consult, Overige aantekeningen Consult, Telefonisch consult Consult, Polikliniek: vervolgconsult Consult, SEH Consult, SEH Spoedeisende Hulp Consult, Kliniek: vervolgconsult Consult, Kliniek: vervolgconsult Consult, Kliniek: vervolgconsult Klinische Brief Consult, Polikliniek: vervolgconsult Consult, Overige aantekeningen Consult, Overige aantekeningen Consult, Telefonisch consult Consult, SEH Poliklinische Brief Consult, Kliniek: vervolgconsult Consult, Kliniek: vervolgconsult Consult, Kliniek: vervolgconsult Consult, Kliniek: vervolgconsult Consult, Kliniek: vervolgconsult Klinische Brief Spoedeisende Hulp Consult, Polikliniek: vervolgconsult Consult, SEH Consult, SEH Consult, Kliniek: vervolgconsult Consult, Kliniek: vervolgconsult Klinische Brief Consult, Kliniek: vervolgconsult Spoedeisende Hulp Consult, Polikliniek: vervolgconsult Consult, Telefonisch consult Consult, SEH Spoedeisende Hulp Consult, Kliniek: vervolgconsult Poliklinische Brief Consult, Kliniek: vervolgconsult Consult, Kliniek: vervolgconsult Consult, Kliniek: vervolgconsult Consult, Kliniek: vervolgconsult Klinische Brief Poliklinische Brief Consult, Polikliniek: vervolgconsult Consult, Overige aantekeningen Consult, Polikliniek: vervolgconsult Poliklinische Brief Consult, Overige aantekeningen'\n",
      " 'Consult, SEH Consult, SEH Spoedeisende Hulp Poliklinische Brief Consult, Kliniek: vervolgconsult Consult, Kliniek: vervolgconsult Consult, Kliniek: vervolgconsult Consult, Kliniek: vervolgconsult Consult, Kliniek: vervolgconsult Consult, Kliniek: vervolgconsult Consult, Kliniek: vervolgconsult Klinische Brief Consult, Kliniek: vervolgconsult Consult, Polikliniek: vervolgconsult Consult, SEH Spoedeisende Hulp Consult, Kliniek: vervolgconsult Poliklinische Brief Klinische Brief Consult, Kliniek: vervolgconsult'\n",
      " 'Consult, SEH Spoedeisende Hulp Consult, Kliniek: vervolgconsult Consult, Kliniek: vervolgconsult Consult, Kliniek: vervolgconsult Consult, Kliniek: vervolgconsult Consult, Kliniek: vervolgconsult Consult, Kliniek: vervolgconsult Klinische Brief Consult, Kliniek: vervolgconsult Klinische Brief Consult, Polikliniek: vervolgconsult Consult, Polikliniek: vervolgconsult Consult, Overige aantekeningen Consult, Polikliniek: vervolgconsult Consult, Polikliniek: vervolgconsult Consult, Polikliniek: vervolgconsult Consult, Polikliniek: vervolgconsult Consult, Polikliniek: vervolgconsult Consult, Polikliniek: vervolgconsult Consult, Kliniek: vervolgconsult Consult, Kliniek: vervolgconsult Consult, Polikliniek: vervolgconsult Consult, Overige aantekeningen Consult, Polikliniek: vervolgconsult Consult, Overige aantekeningen Consult, Polikliniek: vervolgconsult Consult, Polikliniek: vervolgconsult Consult, Polikliniek: vervolgconsult Consult, Overige aantekeningen Consult, Kliniek: vervolgconsult Poliklinische Brief Consult, Polikliniek: vervolgconsult Consult, Polikliniek: eerste consult Consult, Polikliniek: vervolgconsult Algemeen Poliklinische Brief Consult, Polikliniek: vervolgconsult Poliklinische Brief Consult, Overige aantekeningen Consult, Polikliniek: vervolgconsult Consult, Polikliniek: vervolgconsult Consult, Overige aantekeningen Consult, Polikliniek: vervolgconsult Consult, Polikliniek: vervolgconsult Consult, Polikliniek: vervolgconsult Consult, Polikliniek: vervolgconsult Consult, Polikliniek: vervolgconsult Consult, Telefonisch consult Consult, Thuisbehandeling Consult, Polikliniek: vervolgconsult Consult, SEH Consult, SEH Consult, SEH Consult, Overige aantekeningen Consult, Telefonisch consult Consult, Telefonisch consult Consult, Telefonisch consult Algemeen Consult, Overige aantekeningen Consult, Polikliniek: vervolgconsult Consult, Thuisbehandeling Consult, Polikliniek: vervolgconsult Consult, Telefonisch consult Consult, Thuisbehandeling Consult, Polikliniek: vervolgconsult Consult, Polikliniek: vervolgconsult Consult, Polikliniek: vervolgconsult Consult, Overige aantekeningen Consult, Polikliniek: vervolgconsult Consult, SEH Spoedeisende Hulp Consult, Polikliniek: vervolgconsult Consult, SEH Consult, Kliniek: vervolgconsult Consult, Kliniek: vervolgconsult Klinische Brief Consult, Kliniek: vervolgconsult Consult, Thuisbehandeling Consult, Kliniek: vervolgconsult Consult, Kliniek: vervolgconsult Consult, Kliniek: vervolgconsult Consult, Kliniek: vervolgconsult Consult, Kliniek: vervolgconsult Consult, Kliniek: vervolgconsult Klinische Brief Consult, Polikliniek: vervolgconsult Consult, Polikliniek: vervolgconsult Consult, Polikliniek: vervolgconsult Consult, Polikliniek: vervolgconsult Consult, Polikliniek: vervolgconsult Consult, Polikliniek: vervolgconsult Consult, Polikliniek: eerste consult Consult, Polikliniek: vervolgconsult Poliklinische Brief Consult, Polikliniek: vervolgconsult Consult, Overige aantekeningen Consult, Polikliniek: vervolgconsult Consult, Polikliniek: vervolgconsult Consult, Polikliniek: vervolgconsult Consult, Polikliniek: vervolgconsult Poliklinische Brief Poliklinische Brief Consult, Polikliniek: vervolgconsult Consult, Polikliniek: vervolgconsult Consult, Polikliniek: vervolgconsult Consult, Telefonisch consult Consult, Polikliniek: vervolgconsult Consult, Overige aantekeningen Consult, Polikliniek: vervolgconsult Consult, Polikliniek: vervolgconsult Consult, Polikliniek: vervolgconsult Poliklinische Brief Consult, Polikliniek: vervolgconsult Consult, Polikliniek: vervolgconsult Consult, Kliniek: vervolgconsult Consult, Polikliniek: vervolgconsult Consult, Polikliniek: vervolgconsult Consult, Polikliniek: vervolgconsult Consult, Polikliniek: vervolgconsult Consult, Polikliniek: vervolgconsult Consult, Polikliniek: vervolgconsult Consult, Polikliniek: vervolgconsult Consult, Polikliniek: vervolgconsult Consult, Overige aantekeningen Poliklinische Brief Consult, Polikliniek: vervolgconsult Consult, Polikliniek: vervolgconsult Consult, Polikliniek: vervolgconsult Poliklinische Brief Poliklinische Brief Consult, Polikliniek: vervolgconsult Consult, Polikliniek: vervolgconsult Consult, Polikliniek: vervolgconsult Consult, Polikliniek: vervolgconsult Consult, Polikliniek: vervolgconsult Consult, Polikliniek: vervolgconsult Consult, Polikliniek: vervolgconsult Consult, Polikliniek: vervolgconsult Consult, Polikliniek: vervolgconsult Consult, Polikliniek: vervolgconsult Consult, Polikliniek: vervolgconsult Consult, Polikliniek: vervolgconsult Consult, Polikliniek: vervolgconsult Consult, Polikliniek: vervolgconsult Consult, Polikliniek: vervolgconsult Consult, Polikliniek: vervolgconsult Consult, Polikliniek: vervolgconsult Consult, Polikliniek: vervolgconsult Consult, Polikliniek: vervolgconsult Consult, Polikliniek: vervolgconsult Consult, Polikliniek: vervolgconsult Consult, Polikliniek: vervolgconsult Consult, Polikliniek: vervolgconsult Consult, Polikliniek: vervolgconsult Consult, Polikliniek: vervolgconsult Consult, Polikliniek: vervolgconsult Consult, Polikliniek: vervolgconsult Consult, Polikliniek: vervolgconsult Consult, Polikliniek: vervolgconsult Consult, Polikliniek: vervolgconsult Consult, Polikliniek: vervolgconsult Consult, Polikliniek: vervolgconsult Consult, Polikliniek: vervolgconsult Consult, Polikliniek: vervolgconsult Consult, Polikliniek: vervolgconsult Consult, Polikliniek: vervolgconsult Consult, Polikliniek: vervolgconsult Consult, Polikliniek: vervolgconsult Consult, Polikliniek: vervolgconsult Consult, SEH Consult, Polikliniek: vervolgconsult Consult, SEH Consult, Polikliniek: vervolgconsult Consult, Polikliniek: eerste consult Consult, Polikliniek: vervolgconsult Consult, Polikliniek: vervolgconsult Consult, SEH Consult, SEH Spoedeisende Hulp Consult, Kliniek: vervolgconsult Consult, Kliniek: vervolgconsult Consult, Kliniek: vervolgconsult Consult Consult, Kliniek: vervolgconsult Consult, Kliniek: vervolgconsult Klinische Brief Klinische Brief Consult, Polikliniek: vervolgconsult Consult, Kliniek: vervolgconsult Consult, Kliniek: vervolgconsult Consult, Kliniek: vervolgconsult Consult, Kliniek: vervolgconsult Consult, Kliniek: vervolgconsult Consult, Kliniek: vervolgconsult Consult, Polikliniek: vervolgconsult Consult, Polikliniek: vervolgconsult Consult, Kliniek: vervolgconsult Consult, Kliniek: vervolgconsult Consult, Polikliniek: vervolgconsult Consult, Polikliniek: vervolgconsult Consult, Polikliniek: vervolgconsult Consult, Telefonisch consult Consult, Polikliniek: vervolgconsult Consult, Polikliniek: vervolgconsult Consult, Polikliniek: vervolgconsult Consult, Polikliniek: vervolgconsult Consult, Polikliniek: vervolgconsult Consult, Polikliniek: vervolgconsult Consult, Polikliniek: vervolgconsult Consult, Polikliniek: vervolgconsult Consult, Polikliniek: vervolgconsult Consult, Polikliniek: vervolgconsult Consult, Overige aantekeningen Consult, Polikliniek: vervolgconsult Consult, Polikliniek: vervolgconsult Consult, Polikliniek: vervolgconsult Consult, SEH Consult, Kliniek: vervolgconsult Consult, Kliniek: vervolgconsult Consult, Kliniek: vervolgconsult Consult, Kliniek: vervolgconsult Consult, Kliniek: vervolgconsult Consult, Kliniek: vervolgconsult Consult, Kliniek: vervolgconsult Consult, Kliniek: vervolgconsult Consult, Kliniek: vervolgconsult Consult, Kliniek: vervolgconsult Consult, Kliniek: vervolgconsult Consult, Kliniek: vervolgconsult Consult, Kliniek: vervolgconsult Consult, Polikliniek: vervolgconsult Consult, Polikliniek: vervolgconsult Consult, Polikliniek: vervolgconsult Consult, Polikliniek: vervolgconsult Consult, Polikliniek: vervolgconsult Consult, Polikliniek: vervolgconsult Consult, Polikliniek: vervolgconsult Consult, Polikliniek: vervolgconsult Consult, Polikliniek: vervolgconsult Poliklinische Brief Consult, Polikliniek: vervolgconsult Consult, Polikliniek: vervolgconsult'\n",
      " 'Consult, SEH Consult, SEH Consult, SEH Consult, SEH Consult, SEH Consult, SEH Consult, SEH Consult, SEH Consult, Kliniek: eerste consult Consult, Kliniek: vervolgconsult Consult, Kliniek: vervolgconsult Consult, Kliniek: vervolgconsult Consult, Kliniek: vervolgconsult Consult, Kliniek: vervolgconsult Consult, Kliniek: vervolgconsult Consult, Kliniek: vervolgconsult Consult, Kliniek: vervolgconsult Consult, Kliniek: vervolgconsult Consult, Kliniek: vervolgconsult Consult, Kliniek: vervolgconsult Consult, Kliniek: vervolgconsult Consult, Kliniek: vervolgconsult Consult, Kliniek: vervolgconsult Consult, Kliniek: vervolgconsult Consult, Kliniek: vervolgconsult Consult, Kliniek: vervolgconsult Consult Consult, Kliniek: vervolgconsult Consult, Kliniek: vervolgconsult Consult, Kliniek: vervolgconsult Consult, Kliniek: vervolgconsult Consult, Kliniek: vervolgconsult Consult, Kliniek: vervolgconsult Consult, SEH Consult, SEH Consult, Polikliniek: vervolgconsult Consult, Kliniek: vervolgconsult Consult, Kliniek: vervolgconsult Consult, Kliniek: vervolgconsult Consult, Kliniek: vervolgconsult Consult Consult Consult, Polikliniek: vervolgconsult Consult Consult Consult Consult Consult Consult Consult Consult Consult Consult, Polikliniek: vervolgconsult Consult Consult Consult, Polikliniek: vervolgconsult Consult, Kliniek: vervolgconsult Consult, Polikliniek: vervolgconsult Consult, Overige aantekeningen Consult, Polikliniek: vervolgconsult Consult Consult Consult, Polikliniek: vervolgconsult Consult Consult Consult Consult Consult, Polikliniek: vervolgconsult Consult, Polikliniek: vervolgconsult Consult Consult, Polikliniek: vervolgconsult Consult Consult, Polikliniek: vervolgconsult Consult Consult Consult, Polikliniek: vervolgconsult Consult Consult Consult, Polikliniek: vervolgconsult Consult Consult Consult Consult Consult Consult Consult Consult Consult Consult Consult Consult Consult, Polikliniek: vervolgconsult Consult Consult Consult Consult, Overige aantekeningen Consult, Polikliniek: vervolgconsult Consult Consult Consult Consult, Polikliniek: vervolgconsult Consult Consult Consult Consult Consult Consult Consult, Polikliniek: vervolgconsult Consult Consult Consult Consult Consult, Polikliniek: vervolgconsult Consult, Polikliniek: vervolgconsult Consult Consult, Polikliniek: vervolgconsult Consult Consult Consult, Polikliniek: vervolgconsult Consult Consult Consult, Polikliniek: vervolgconsult Consult Consult Consult, Polikliniek: vervolgconsult Consult, Polikliniek: vervolgconsult Consult Consult, Polikliniek: vervolgconsult Consult Consult Consult Consult, Polikliniek: vervolgconsult Consult Consult Consult Consult, Polikliniek: vervolgconsult Consult Consult Consult Consult Consult, Polikliniek: vervolgconsult Consult Consult Consult, Polikliniek: vervolgconsult Consult, Overige aantekeningen Consult Consult Consult, Polikliniek: vervolgconsult Consult, Polikliniek: vervolgconsult Consult Consult Consult Consult Consult, Polikliniek: vervolgconsult Consult Consult Consult Consult, Polikliniek: vervolgconsult Consult Consult Consult Consult, Polikliniek: vervolgconsult Consult Consult Consult Consult Consult Consult Consult Consult Consult Consult, Polikliniek: vervolgconsult Consult, Polikliniek: vervolgconsult Consult Consult, Polikliniek: vervolgconsult Consult Consult Consult Consult Consult Consult Consult Consult Consult Consult Consult Consult Consult Consult Consult Consult, Polikliniek: vervolgconsult Consult Consult Consult Consult Consult Consult Consult, Polikliniek: vervolgconsult Consult, Polikliniek: vervolgconsult Consult, Kliniek: vervolgconsult Consult, Polikliniek: vervolgconsult Consult Consult Consult, Kliniek: vervolgconsult Consult, Overige aantekeningen Consult, Overige aantekeningen Consult, Kliniek: vervolgconsult Consult, Kliniek: vervolgconsult Consult, Polikliniek: vervolgconsult Consult Consult, Polikliniek: vervolgconsult Consult, Kliniek: vervolgconsult Consult, Kliniek: vervolgconsult Consult Consult Consult, Polikliniek: vervolgconsult Consult Consult Consult Consult, Polikliniek: vervolgconsult Consult, Kliniek: vervolgconsult Consult, Polikliniek: vervolgconsult Consult Consult, Polikliniek: vervolgconsult Consult Consult Consult, Kliniek: vervolgconsult Consult, Kliniek: vervolgconsult Consult, Kliniek: vervolgconsult Consult Consult, Kliniek: vervolgconsult Consult, Kliniek: vervolgconsult Consult, Kliniek: vervolgconsult Consult Consult, Polikliniek: vervolgconsult Consult, Overige aantekeningen Consult, Kliniek: vervolgconsult Consult Consult Consult, Kliniek: vervolgconsult Consult, Polikliniek: vervolgconsult Consult Consult, Polikliniek: vervolgconsult Consult, Kliniek: vervolgconsult Consult, Overige aantekeningen Consult, Kliniek: vervolgconsult Consult Consult, Kliniek: vervolgconsult Consult, Kliniek: vervolgconsult Consult, Polikliniek: vervolgconsult Consult Consult, Polikliniek: vervolgconsult Consult, Kliniek: vervolgconsult Consult, Kliniek: vervolgconsult Consult Consult, Kliniek: vervolgconsult Consult, Kliniek: vervolgconsult Consult Consult, Kliniek: vervolgconsult Consult, Polikliniek: vervolgconsult Consult Consult, Polikliniek: vervolgconsult Consult Consult, Kliniek: vervolgconsult Consult Consult, Polikliniek: vervolgconsult Consult, Polikliniek: vervolgconsult Consult Consult, Kliniek: vervolgconsult Consult Consult, Polikliniek: vervolgconsult Consult Consult, Polikliniek: vervolgconsult Consult, Polikliniek: vervolgconsult Consult Consult, Polikliniek: vervolgconsult Consult, Overige aantekeningen Consult, Polikliniek: vervolgconsult Consult, Polikliniek: vervolgconsult Consult Consult, Polikliniek: vervolgconsult Consult, Polikliniek: vervolgconsult Consult, Polikliniek: vervolgconsult Consult Consult, Polikliniek: vervolgconsult Consult, Polikliniek: vervolgconsult Consult, Polikliniek: vervolgconsult Consult, Kliniek: vervolgconsult Consult, Polikliniek: vervolgconsult Consult Consult, Polikliniek: vervolgconsult Consult, Polikliniek: vervolgconsult Consult, Kliniek: vervolgconsult Consult Consult, Kliniek: vervolgconsult Consult Consult, Kliniek: vervolgconsult Consult, Kliniek: vervolgconsult Consult, Overige aantekeningen Consult, Polikliniek: vervolgconsult Consult Consult Consult, Polikliniek: vervolgconsult Consult, Kliniek: vervolgconsult Consult Consult, Kliniek: vervolgconsult Consult, Kliniek: vervolgconsult Consult, Kliniek: vervolgconsult Consult Consult, Polikliniek: vervolgconsult Consult Consult, Polikliniek: vervolgconsult Consult, Kliniek: vervolgconsult Consult Consult, Polikliniek: vervolgconsult Consult, Polikliniek: vervolgconsult Consult Consult, Polikliniek: vervolgconsult Consult, Polikliniek: vervolgconsult Consult, Kliniek: vervolgconsult Consult Consult, SEH Consult, Kliniek: vervolgconsult Consult, Kliniek: vervolgconsult Consult, Kliniek: vervolgconsult Consult, Kliniek: vervolgconsult Consult, Kliniek: vervolgconsult Consult, Kliniek: vervolgconsult Consult, Kliniek: vervolgconsult Consult, Kliniek: vervolgconsult Consult, Kliniek: vervolgconsult Consult, Polikliniek: vervolgconsult Consult, Kliniek: vervolgconsult Consult Consult Consult Consult Consult Consult Consult Consult Consult Consult, Polikliniek: vervolgconsult Consult Consult Consult Consult Consult, Polikliniek: vervolgconsult Consult Consult Consult Consult Consult, Polikliniek: vervolgconsult Consult, Kliniek: vervolgconsult Consult, Kliniek: vervolgconsult Consult Consult Consult Consult Consult Consult Consult Consult, Polikliniek: vervolgconsult Consult, Polikliniek: vervolgconsult Consult Consult, Polikliniek: vervolgconsult Consult Consult, Kliniek: vervolgconsult Consult Consult Consult Consult, Polikliniek: vervolgconsult Consult, Kliniek: vervolgconsult Consult, Polikliniek: vervolgconsult Consult Consult Consult Consult, Kliniek: vervolgconsult Consult, Polikliniek: vervolgconsult Consult Consult, Kliniek: vervolgconsult Consult, Kliniek: vervolgconsult Consult, Kliniek: vervolgconsult Consult, Kliniek: vervolgconsult Consult, Polikliniek: vervolgconsult Consult, SEH Consult, Kliniek: vervolgconsult Consult, Kliniek: vervolgconsult Consult, Kliniek: vervolgconsult Consult, Kliniek: vervolgconsult Consult, Kliniek: vervolgconsult Consult, Kliniek: vervolgconsult Consult, Kliniek: vervolgconsult Consult, Kliniek: vervolgconsult Consult, Polikliniek: vervolgconsult Consult, Polikliniek: vervolgconsult Consult, Polikliniek: vervolgconsult Consult, Polikliniek: vervolgconsult Consult, SEH Consult Consult Consult, Kliniek: eerste consult Consult, Kliniek: vervolgconsult Klinische Brief Consult, Kliniek: vervolgconsult Spoedeisende Hulp Consult, Kliniek: vervolgconsult Klinische Brief Consult, Polikliniek: vervolgconsult Poliklinische Brief Poliklinische Brief Consult, Kliniek: vervolgconsult Consult, Kliniek: vervolgconsult Consult, Polikliniek: vervolgconsult Consult, Polikliniek: vervolgconsult Consult, Polikliniek: vervolgconsult Consult, Kliniek: vervolgconsult Consult, Kliniek: vervolgconsult Consult, Kliniek: vervolgconsult Consult, Kliniek: vervolgconsult Consult, Polikliniek: vervolgconsult Consult, Kliniek: vervolgconsult Consult, Kliniek: vervolgconsult Consult, Polikliniek: vervolgconsult Consult, Polikliniek: vervolgconsult Consult, Kliniek: vervolgconsult Consult, Polikliniek: vervolgconsult Consult, Polikliniek: vervolgconsult Consult, Polikliniek: vervolgconsult Consult, SEH Consult, Kliniek: eerste consult Consult, Kliniek: vervolgconsult Consult, Kliniek: vervolgconsult Consult, Kliniek: vervolgconsult Consult, Kliniek: vervolgconsult Consult, Kliniek: vervolgconsult Consult, Kliniek: vervolgconsult Consult, Kliniek: vervolgconsult Consult, Kliniek: vervolgconsult Consult, Kliniek: vervolgconsult Consult, Kliniek: vervolgconsult Consult, Kliniek: vervolgconsult Consult, SEH Consult, Kliniek: vervolgconsult Consult, Kliniek: vervolgconsult Consult Consult, Kliniek: vervolgconsult Consult, Polikliniek: vervolgconsult Consult, Polikliniek: vervolgconsult Consult, SEH Spoedeisende Hulp Consult, Kliniek: vervolgconsult Consult, Kliniek: vervolgconsult Consult, Kliniek: vervolgconsult Consult, Kliniek: vervolgconsult Consult, Kliniek: vervolgconsult Klinische Brief Consult, SEH Spoedeisende Hulp Spoedeisende Hulp Consult, Kliniek: vervolgconsult Consult, Samenvatting Poliklinische Brief Consult, Kliniek: vervolgconsult Consult, Kliniek: vervolgconsult Consult, Kliniek: vervolgconsult Consult, Samenvatting Poliklinische Brief Consult, Kliniek: vervolgconsult Consult, Kliniek: vervolgconsult Consult, Kliniek: vervolgconsult Consult, Kliniek: vervolgconsult Consult, Kliniek: vervolgconsult Klinische Brief Consult, Polikliniek: vervolgconsult Consult, Polikliniek: vervolgconsult Consult, Polikliniek: vervolgconsult Consult, Polikliniek: vervolgconsult Consult, Polikliniek: vervolgconsult Consult, Polikliniek: vervolgconsult Consult, Polikliniek: vervolgconsult Consult, Overige aantekeningen Consult, Polikliniek: vervolgconsult Poliklinische Brief Consult, Kliniek: vervolgconsult Consult, Kliniek: vervolgconsult Consult, Kliniek: vervolgconsult Consult, Kliniek: vervolgconsult Klinische Brief Consult, Kliniek: vervolgconsult Consult, Polikliniek: vervolgconsult Consult, SEH Consult, SEH Consult, Polikliniek: vervolgconsult Consult, Polikliniek: vervolgconsult Consult, Polikliniek: vervolgconsult Consult, Polikliniek: vervolgconsult Consult, Polikliniek: vervolgconsult Consult, Polikliniek: vervolgconsult Consult, Overige aantekeningen Consult, Polikliniek: vervolgconsult Consult, Polikliniek: vervolgconsult Consult, Polikliniek: vervolgconsult Consult, Polikliniek: vervolgconsult Consult, Polikliniek: vervolgconsult Consult, Polikliniek: vervolgconsult Consult, Polikliniek: vervolgconsult Consult, Polikliniek: vervolgconsult Consult, Polikliniek: vervolgconsult Poliklinische Brief Consult, Polikliniek: vervolgconsult Consult, Polikliniek: vervolgconsult Consult, Polikliniek: vervolgconsult Consult, Polikliniek: vervolgconsult Consult, Polikliniek: vervolgconsult Consult, Polikliniek: vervolgconsult Consult, Polikliniek: vervolgconsult Consult, Polikliniek: vervolgconsult Consult, Polikliniek: vervolgconsult Consult, Polikliniek: vervolgconsult Consult, Polikliniek: vervolgconsult Consult, Polikliniek: vervolgconsult Consult, Polikliniek: vervolgconsult Consult, Polikliniek: vervolgconsult Consult, Polikliniek: vervolgconsult Consult, Polikliniek: eerste consult Consult, Polikliniek: vervolgconsult'\n",
      " 'Consult Consult, Overige aantekeningen Consult, Polikliniek: vervolgconsult Consult Consult, SEH Consult, SEH Consult, Overige aantekeningen Consult, Polikliniek: vervolgconsult Consult Consult, Polikliniek: vervolgconsult Consult Consult, Polikliniek: vervolgconsult Consult Consult, Polikliniek: vervolgconsult Consult Consult, Polikliniek: vervolgconsult Poliklinische Brief Consult, Polikliniek: vervolgconsult Consult, Overige aantekeningen Consult, Overige aantekeningen Consult, Polikliniek: eerste consult Consult, Telefonisch consult Poliklinische Brief Poliklinische Brief Poliklinische Brief Consult, Polikliniek: vervolgconsult Consult, Polikliniek: vervolgconsult Consult, Overige aantekeningen Consult, Overige aantekeningen Consult, Polikliniek: vervolgconsult Consult, Kliniek: vervolgconsult Consult, Kliniek: vervolgconsult Consult, Kliniek: vervolgconsult Consult, Polikliniek: vervolgconsult Consult, SEH Spoedeisende Hulp Consult, Kliniek: vervolgconsult Consult, Kliniek: vervolgconsult Consult, Kliniek: vervolgconsult Poliklinische Brief Consult, Kliniek: vervolgconsult Klinische Brief Poliklinische Brief Consult, Telefonisch consult Consult, Telefonisch consult Poliklinische Brief Poliklinische Brief Consult, Telefonisch consult Consult, Telefonisch consult Poliklinische Brief Consult, Polikliniek: vervolgconsult Consult, Telefonisch consult Consult, Telefonisch consult Consult, Overige aantekeningen'\n",
      " 'Consult, SEH Consult, SEH Klinische Brief Consult, Kliniek: vervolgconsult Consult, Kliniek: vervolgconsult Klinische Brief Consult, Polikliniek: eerste consult Consult, Overige aantekeningen Consult, Overige aantekeningen Consult, Polikliniek: vervolgconsult Poliklinische Brief Poliklinische Brief Consult, Overige aantekeningen Consult, Overige aantekeningen Consult, Telefonisch consult Consult, Telefonisch consult Consult, Telefonisch consult Poliklinische Brief Consult, Polikliniek: vervolgconsult Consult, Telefonisch consult Consult, Overige aantekeningen Consult, Polikliniek: vervolgconsult Poliklinische Brief Consult Consult, Kliniek: vervolgconsult Consult, Kliniek: vervolgconsult Consult, Kliniek: vervolgconsult Consult, Kliniek: vervolgconsult Consult, Kliniek: vervolgconsult Consult, Polikliniek: eerste consult Poliklinische Brief'\n",
      " 'Consult, SEH Consult, SEH Consult, SEH Consult, Polikliniek: eerste consult Consult Consult, Polikliniek: vervolgconsult Consult Consult, Polikliniek: vervolgconsult Consult, SEH Consult, SEH Consult, Kliniek: eerste consult Consult, Kliniek: vervolgconsult Consult Consult, Kliniek: vervolgconsult Consult Consult Consult, Kliniek: vervolgconsult Consult, Kliniek: vervolgconsult Consult Consult, Kliniek: vervolgconsult Consult Consult, Kliniek: vervolgconsult Consult Consult, Kliniek: vervolgconsult Consult Consult, Kliniek: vervolgconsult Consult Consult Consult, Kliniek: vervolgconsult Consult, Kliniek: vervolgconsult Consult Consult, Kliniek: vervolgconsult Consult Consult, Kliniek: vervolgconsult Consult Consult, Kliniek: vervolgconsult Consult Consult, Polikliniek: vervolgconsult Consult Consult, Polikliniek: vervolgconsult Consult Consult, Kliniek: vervolgconsult Consult, Kliniek: vervolgconsult Consult, Kliniek: vervolgconsult Consult, Kliniek: vervolgconsult Consult Consult, Kliniek: vervolgconsult Consult, Kliniek: vervolgconsult Consult, Kliniek: vervolgconsult Consult, Kliniek: vervolgconsult Consult, Kliniek: vervolgconsult Consult, Kliniek: vervolgconsult Consult, Kliniek: vervolgconsult Consult, Kliniek: vervolgconsult Consult, Kliniek: vervolgconsult Consult, SEH Consult, SEH Consult, SEH Consult, SEH Consult, Kliniek: eerste consult Consult, Kliniek: vervolgconsult Consult, Kliniek: vervolgconsult Consult, Kliniek: vervolgconsult Consult, Kliniek: vervolgconsult Consult, Kliniek: vervolgconsult Consult, Kliniek: vervolgconsult Consult, Kliniek: vervolgconsult Consult, Kliniek: vervolgconsult Consult, Kliniek: vervolgconsult Consult, SEH Consult, SEH Consult, SEH Consult, Kliniek: eerste consult Consult, Kliniek: vervolgconsult Consult, Kliniek: eerste consult Consult, Kliniek: vervolgconsult Consult, Kliniek: vervolgconsult Consult, Kliniek: vervolgconsult Consult, Kliniek: vervolgconsult Consult, Kliniek: vervolgconsult Consult, SEH Consult, SEH Consult, SEH Consult, SEH Consult, SEH Consult, SEH Consult, SEH Consult, Polikliniek: vervolgconsult Consult, Overige aantekeningen Consult, Polikliniek: vervolgconsult Consult, Kliniek: vervolgconsult Consult, SEH Spoedeisende Hulp Consult, Kliniek: vervolgconsult Consult, Kliniek: vervolgconsult Consult, Kliniek: vervolgconsult Klinische Brief Consult, Kliniek: vervolgconsult Consult, Kliniek: vervolgconsult Consult, Kliniek: vervolgconsult Consult, Kliniek: vervolgconsult Klinische Brief Consult, Kliniek: vervolgconsult Consult, Kliniek: vervolgconsult Poliklinische Brief Poliklinische Brief Consult, Overige aantekeningen Consult, Overige aantekeningen Consult, Polikliniek: vervolgconsult Consult, Overige aantekeningen Consult, Polikliniek: vervolgconsult Consult, Overige aantekeningen Consult, Kliniek: eerste consult Poliklinische Brief Klinische Brief Consult, Kliniek: vervolgconsult Consult, Kliniek: vervolgconsult Consult, Kliniek: vervolgconsult Consult, Polikliniek: vervolgconsult Consult, Overige aantekeningen Consult, Telefonisch consult Consult, Overige aantekeningen Consult, Polikliniek: vervolgconsult Consult, Overige aantekeningen Poliklinische Brief Consult, Kliniek: vervolgconsult Consult, SEH Poliklinische Brief Consult, Polikliniek: vervolgconsult Consult, Overige aantekeningen Consult, Polikliniek: vervolgconsult Consult, Polikliniek: vervolgconsult Consult, Overige aantekeningen Consult, Polikliniek: vervolgconsult Poliklinische Brief Consult, Telefonisch consult Consult, Telefonisch consult Consult, Overige aantekeningen Consult, Overige aantekeningen Consult, Polikliniek: vervolgconsult Poliklinische Brief Consult, Kliniek: vervolgconsult'\n",
      " 'Consult, SEH Consult, SEH Consult, Overige aantekeningen Consult, SEH Consult, SEH Consult, SEH Consult, SEH Consult, Overige aantekeningen Consult, Kliniek: eerste consult Consult, Polikliniek: eerste consult Consult Consult Consult, Kliniek: vervolgconsult Consult Consult, Kliniek: vervolgconsult Consult Consult Consult, SEH Consult, SEH Consult, SEH Consult, SEH Consult, Kliniek: vervolgconsult Consult, Kliniek: vervolgconsult Consult, Kliniek: vervolgconsult Consult, Kliniek: vervolgconsult Consult, Kliniek: vervolgconsult Consult, Kliniek: vervolgconsult Consult, Kliniek: vervolgconsult Consult, Kliniek: vervolgconsult Consult, Kliniek: vervolgconsult Consult, Kliniek: vervolgconsult Consult, Kliniek: vervolgconsult Consult, SEH Consult, SEH Consult, Kliniek: eerste consult Consult, Kliniek: vervolgconsult Consult, Kliniek: vervolgconsult Consult, Kliniek: vervolgconsult Consult, Kliniek: vervolgconsult Consult, Kliniek: vervolgconsult Consult, Kliniek: vervolgconsult Consult, Kliniek: vervolgconsult Consult, Overige aantekeningen Consult, SEH Spoedeisende Hulp Consult, Overige aantekeningen Consult, Overige aantekeningen Consult, SEH Consult, SEH Spoedeisende Hulp Consult, Kliniek: eerste consult Consult, Kliniek: vervolgconsult Consult, SEH Consult, SEH Consult, Kliniek: vervolgconsult Consult, Kliniek: vervolgconsult Spoedeisende Hulp Consult, Kliniek: vervolgconsult Consult, Kliniek: vervolgconsult Consult, Kliniek: vervolgconsult Consult, Kliniek: vervolgconsult Consult, Kliniek: vervolgconsult Poliklinische Brief Consult, Kliniek: vervolgconsult Consult, Kliniek: vervolgconsult Consult, Kliniek: vervolgconsult Consult, Kliniek: vervolgconsult Consult, Kliniek: vervolgconsult Consult, Kliniek: vervolgconsult Consult, Kliniek: vervolgconsult Consult, Kliniek: vervolgconsult Consult, Kliniek: vervolgconsult Consult, Kliniek: vervolgconsult Consult, SEH Consult, Kliniek: vervolgconsult Consult, Kliniek: vervolgconsult Consult, Kliniek: vervolgconsult Consult, Kliniek: vervolgconsult Consult, Kliniek: vervolgconsult Consult, Kliniek: vervolgconsult Consult, Kliniek: vervolgconsult Consult, Kliniek: vervolgconsult Consult, Kliniek: vervolgconsult Consult, Kliniek: vervolgconsult Consult, Kliniek: vervolgconsult Consult, Kliniek: vervolgconsult Consult, Kliniek: vervolgconsult Consult, Kliniek: vervolgconsult Consult, Kliniek: vervolgconsult Klinische Brief'\n",
      " 'Consult, SEH Spoedeisende Hulp Consult, Kliniek: vervolgconsult Consult, Kliniek: vervolgconsult Consult, Kliniek: vervolgconsult Poliklinische Brief Poliklinische Brief Consult, Kliniek: vervolgconsult Klinische Brief Consult, Overige aantekeningen Consult, Overige aantekeningen'\n",
      " 'Consult, Polikliniek: eerste consult Consult Consult, Polikliniek: vervolgconsult Consult, Overige aantekeningen Consult, Polikliniek: vervolgconsult Consult, SEH Consult, SEH Consult Consult, Overige aantekeningen Consult, Polikliniek: vervolgconsult Consult, Polikliniek: eerste consult Consult, Polikliniek: vervolgconsult Consult, Polikliniek: vervolgconsult Consult, Samenvatting Poliklinische Brief Consult, Polikliniek: vervolgconsult Consult, Polikliniek: vervolgconsult Poliklinische Brief Consult, SEH Spoedeisende Hulp Consult, Overige aantekeningen Consult, SEH Spoedeisende Hulp Spoedeisende Hulp Consult, SEH Consult, Kliniek: vervolgconsult Consult, Kliniek: vervolgconsult Klinische Brief Klinische Brief Consult, Polikliniek: eerste consult Consult, SEH Spoedeisende Hulp Poliklinische Brief Consult, Kliniek: vervolgconsult Consult, Kliniek: vervolgconsult Consult, Kliniek: vervolgconsult Consult, Kliniek: vervolgconsult Klinische Brief Consult, Kliniek: vervolgconsult Consult, Kliniek: vervolgconsult Consult, Kliniek: vervolgconsult Consult, Kliniek: vervolgconsult Consult, Kliniek: vervolgconsult Consult, Overige aantekeningen Consult, Overige aantekeningen Consult, Polikliniek: vervolgconsult Consult, Polikliniek: vervolgconsult Consult, Polikliniek: vervolgconsult Consult, SEH Spoedeisende Hulp Consult, Kliniek: vervolgconsult Consult, Kliniek: vervolgconsult Consult, Kliniek: vervolgconsult Klinische Brief Poliklinische Brief Poliklinische Brief Consult, Kliniek: vervolgconsult Poliklinische Brief Consult, Overige aantekeningen Consult, Overige aantekeningen'\n",
      " 'Consult, SEH Consult, SEH Consult, SEH Consult, SEH Consult, SEH Consult, SEH Consult, SEH Consult, SEH Consult, SEH Consult, SEH Consult, SEH Consult, SEH Consult, SEH Consult, SEH Consult, SEH Consult, SEH Consult, SEH Consult, SEH Consult, SEH Consult, SEH Consult Consult, SEH Consult, SEH Consult, SEH Consult, SEH Consult, SEH Consult, SEH Consult, SEH Spoedeisende Hulp Consult, SEH Consult, Kliniek: vervolgconsult Consult, Kliniek: vervolgconsult Klinische Brief Consult, Kliniek: vervolgconsult Consult, Overige aantekeningen Consult, SEH Consult, Kliniek: vervolgconsult Poliklinische Brief Consult, Kliniek: vervolgconsult Klinische Brief Consult, Kliniek: vervolgconsult Spoedeisende Hulp Consult Consult, SEH Spoedeisende Hulp Consult, Kliniek: vervolgconsult Consult, Kliniek: vervolgconsult Poliklinische Brief Klinische Brief Consult, Kliniek: vervolgconsult Consult, Overige aantekeningen Consult, SEH Spoedeisende Hulp Consult, Polikliniek: vervolgconsult'\n",
      " 'Consult, SEH Consult, SEH Consult, SEH Consult, SEH Consult Consult, SEH Consult, SEH Consult, SEH Consult, SEH Consult, SEH Consult, Kliniek: vervolgconsult Consult Consult, Kliniek: eerste consult Consult Consult, Kliniek: vervolgconsult Consult Consult Consult, Kliniek: vervolgconsult Consult Consult, SEH Consult, SEH Spoedeisende Hulp'\n",
      " 'Consult, SEH Consult, SEH Spoedeisende Hulp Consult, Kliniek: vervolgconsult Consult, Kliniek: vervolgconsult Consult, Kliniek: vervolgconsult Consult, Kliniek: vervolgconsult Klinische Brief Consult, Kliniek: vervolgconsult Consult, Kliniek: vervolgconsult Consult, Kliniek: vervolgconsult Consult, Kliniek: vervolgconsult Consult, Kliniek: vervolgconsult Consult, Kliniek: vervolgconsult Consult, Kliniek: vervolgconsult Klinische Brief Consult, Polikliniek: eerste consult Consult, Polikliniek: vervolgconsult Consult, Polikliniek: eerste consult Consult, SEH Spoedeisende Hulp Consult, Kliniek: vervolgconsult Poliklinische Brief Klinische Brief Consult, Telefonisch consult Consult, Polikliniek: vervolgconsult Consult, Polikliniek: vervolgconsult Consult, Polikliniek: eerste consult Consult, Polikliniek: vervolgconsult Consult, Polikliniek: eerste consult Consult, Polikliniek: vervolgconsult Consult, Polikliniek: vervolgconsult Poliklinische Brief Consult, Polikliniek: vervolgconsult Consult, Polikliniek: vervolgconsult Consult, Polikliniek: vervolgconsult Consult, Polikliniek: vervolgconsult Consult, Polikliniek: vervolgconsult Consult, Telefonisch consult Consult, Polikliniek: vervolgconsult Consult, Polikliniek: vervolgconsult Poliklinische Brief Consult, Polikliniek: vervolgconsult Consult, Polikliniek: eerste consult Consult, Overige aantekeningen Poliklinische Brief Consult, Overige aantekeningen Consult, Polikliniek: vervolgconsult Poliklinische Brief Consult, Telefonisch consult Consult, Overige aantekeningen Consult, SEH Spoedeisende Hulp Consult, Kliniek: vervolgconsult Consult, Kliniek: vervolgconsult Klinische Brief Consult, Polikliniek: eerste consult Consult, Telefonisch consult Poliklinische Brief Consult, Overige aantekeningen Consult, Overige aantekeningen Consult, Polikliniek: vervolgconsult Consult, Polikliniek: eerste consult Poliklinische Brief'\n",
      " 'Consult, SEH Consult, SEH Consult, SEH Consult, SEH Consult, Overige aantekeningen Consult, Overige aantekeningen Consult, Overige aantekeningen Consult, Polikliniek: eerste consult Consult, Polikliniek: vervolgconsult Poliklinische Brief Consult, SEH Consult, SEH Consult, SEH Spoedeisende Hulp Consult, SEH Consult, SEH Consult, SEH Consult, SEH Consult, SEH Spoedeisende Hulp Consult, Kliniek: vervolgconsult Consult, Kliniek: vervolgconsult Consult, Kliniek: vervolgconsult Poliklinische Brief Klinische Brief Consult, Telefonisch consult Poliklinische Brief Consult, SEH Spoedeisende Hulp Consult, Kliniek: vervolgconsult Consult, Kliniek: vervolgconsult Consult, Kliniek: vervolgconsult Poliklinische Brief Consult, Kliniek: vervolgconsult Klinische Brief Consult, Kliniek: vervolgconsult Consult, Polikliniek: vervolgconsult Consult, SEH Consult, Kliniek: vervolgconsult Spoedeisende Hulp Consult, Kliniek: vervolgconsult Consult, Kliniek: vervolgconsult Klinische Brief Klinische Brief Consult, Telefonisch consult Consult, SEH Consult, SEH Spoedeisende Hulp Consult, SEH Consult, SEH Spoedeisende Hulp Consult, Kliniek: vervolgconsult Consult, Kliniek: vervolgconsult Consult, Kliniek: vervolgconsult Consult, Kliniek: vervolgconsult Consult, Kliniek: vervolgconsult Consult, Kliniek: vervolgconsult Consult, Kliniek: vervolgconsult Klinische Brief Klinische Brief Consult, Overige aantekeningen Radiologieverslag, Heup links Consult, SEH Consult, SEH'\n",
      " 'Consult, SEH Consult, SEH Consult Consult, Polikliniek: vervolgconsult Consult, Overige aantekeningen Consult, SEH Consult, SEH Spoedeisende Hulp Consult, Kliniek: vervolgconsult Consult, Kliniek: vervolgconsult Poliklinische Brief Consult, Kliniek: vervolgconsult Consult, Kliniek: vervolgconsult Klinische Brief Consult, Polikliniek: vervolgconsult Consult, SEH Consult, SEH Spoedeisende Hulp Consult, Kliniek: vervolgconsult Consult, Kliniek: vervolgconsult Consult, Kliniek: vervolgconsult Consult, Kliniek: vervolgconsult Klinische Brief'\n",
      " 'Consult, SEH Consult, SEH Consult, SEH Consult, Kliniek: vervolgconsult Consult Consult, Kliniek: vervolgconsult Consult Consult Consult, Kliniek: vervolgconsult Consult Consult, SEH Spoedeisende Hulp Consult, SEH Spoedeisende Hulp Consult, SEH Consult, Kliniek: vervolgconsult Spoedeisende Hulp Consult, Kliniek: vervolgconsult Consult, Kliniek: vervolgconsult Consult, Kliniek: vervolgconsult Poliklinische Brief Consult, Kliniek: vervolgconsult Consult, Kliniek: vervolgconsult Klinische Brief Consult, Polikliniek: vervolgconsult Consult, Polikliniek: vervolgconsult Poliklinische Brief Consult, SEH Spoedeisende Hulp Consult, Kliniek: vervolgconsult Consult, Kliniek: vervolgconsult Klinische Brief Consult, SEH Consult, SEH Spoedeisende Hulp Consult, Kliniek: eerste consult Consult, Kliniek: vervolgconsult Consult, Kliniek: vervolgconsult Poliklinische Brief Consult, Kliniek: vervolgconsult Klinische Brief'\n",
      " 'Consult, SEH Consult, SEH Consult, Polikliniek: vervolgconsult Consult, Polikliniek: eerste consult Consult Consult Consult, Polikliniek: vervolgconsult Consult Consult Consult, Polikliniek: vervolgconsult Consult Consult, Polikliniek: vervolgconsult Consult Consult, SEH Consult, SEH Consult, Kliniek: eerste consult Consult, Kliniek: vervolgconsult Consult Consult, SEH Consult, SEH Consult, Kliniek: eerste consult Consult, Kliniek: vervolgconsult Consult Consult, Kliniek: vervolgconsult Consult Consult, Kliniek: vervolgconsult Consult Consult, Kliniek: vervolgconsult Consult Consult Consult, Kliniek: vervolgconsult Consult Consult, Polikliniek: vervolgconsult Consult Consult, Overige aantekeningen Consult, SEH Spoedeisende Hulp Consult, Kliniek: vervolgconsult Klinische Brief Consult, Kliniek: vervolgconsult Consult, Kliniek: vervolgconsult Consult, Polikliniek: vervolgconsult Consult, SEH Consult, Kliniek: vervolgconsult Consult Consult, Kliniek: vervolgconsult Consult, Kliniek: vervolgconsult Consult, Kliniek: vervolgconsult Poliklinische Brief Consult, Kliniek: vervolgconsult Klinische Brief Consult, Kliniek: vervolgconsult Consult Consult, Kliniek: vervolgconsult Poliklinische Brief Consult, Kliniek: vervolgconsult Consult, Kliniek: vervolgconsult Consult, Polikliniek: vervolgconsult Consult, Overige aantekeningen Consult, Telefonisch consult Poliklinische Brief Consult, SEH Spoedeisende Hulp Consult, Kliniek: vervolgconsult Klinische Brief Klinische Brief Consult, SEH Spoedeisende Hulp Consult, Kliniek: vervolgconsult Klinische Brief Consult, Kliniek: vervolgconsult Consult, Overige aantekeningen Consult Consult, Polikliniek: vervolgconsult Consult, SEH Consult, Kliniek: eerste consult Spoedeisende Hulp Consult, Kliniek: vervolgconsult Consult, Kliniek: vervolgconsult Poliklinische Brief Consult, Kliniek: vervolgconsult Klinische Brief Consult, Overige aantekeningen Consult, Telefonisch consult Consult, Telefonisch consult Consult, Telefonisch consult Poliklinische Brief'\n",
      " 'Consult, SEH Consult, SEH Consult, SEH Consult, SEH Consult, SEH Consult, SEH Consult, Kliniek: vervolgconsult Poliklinische Brief Spoedeisende Hulp Consult, Kliniek: vervolgconsult Klinische Brief Consult, Overige aantekeningen Consult, Overige aantekeningen Consult, SEH Consult, SEH Consult, Kliniek: eerste consult Spoedeisende Hulp Consult, Kliniek: vervolgconsult Poliklinische Brief Consult, Kliniek: vervolgconsult Consult, Kliniek: vervolgconsult Klinische Brief Consult, Kliniek: vervolgconsult Consult, Polikliniek: vervolgconsult Consult, Overige aantekeningen Consult, Overige aantekeningen Algemeen'\n",
      " 'Consult, SEH Consult, Polikliniek: vervolgconsult Consult Consult Consult Consult Consult Consult Consult Consult Consult, Polikliniek: vervolgconsult Consult Consult, Kliniek: vervolgconsult Consult, Polikliniek: vervolgconsult Consult Consult, Polikliniek: vervolgconsult Consult, Polikliniek: vervolgconsult Consult Consult, Polikliniek: vervolgconsult Consult Consult Consult Consult Consult Consult Consult Consult, Polikliniek: vervolgconsult Consult, Polikliniek: vervolgconsult Consult, Polikliniek: vervolgconsult Consult Consult Consult Consult Consult Consult Consult Consult Consult Consult Consult Consult Consult, Polikliniek: vervolgconsult Consult, Polikliniek: vervolgconsult Consult, Polikliniek: vervolgconsult Consult, Polikliniek: vervolgconsult Consult Consult, Polikliniek: vervolgconsult Consult, Kliniek: vervolgconsult Consult, Polikliniek: vervolgconsult Consult Consult, Polikliniek: vervolgconsult Consult, Polikliniek: vervolgconsult Consult Consult Consult Consult Consult, Polikliniek: vervolgconsult Consult Consult Consult, Polikliniek: vervolgconsult Consult Consult Consult, Polikliniek: vervolgconsult Consult Consult Consult, Polikliniek: vervolgconsult Consult Consult Consult Consult Consult Consult Consult Consult, Polikliniek: vervolgconsult Consult Consult Consult Consult Consult Consult Consult, Polikliniek: vervolgconsult Consult Consult Consult, Polikliniek: vervolgconsult Consult Consult Consult Consult, Polikliniek: vervolgconsult Consult Consult Consult Consult Consult Consult Consult Consult Consult Consult Consult, Polikliniek: vervolgconsult Consult, Polikliniek: vervolgconsult Consult Consult, Polikliniek: vervolgconsult Consult, Kliniek: vervolgconsult Consult Consult Consult Consult Consult, Polikliniek: vervolgconsult Consult, Polikliniek: vervolgconsult Consult, Polikliniek: vervolgconsult Consult Consult, Polikliniek: vervolgconsult Consult, Polikliniek: vervolgconsult Consult Consult Consult Consult Consult Consult Consult, Polikliniek: vervolgconsult Consult, Polikliniek: vervolgconsult Consult Consult, Polikliniek: vervolgconsult Consult, Kliniek: vervolgconsult Consult, Polikliniek: vervolgconsult Consult Consult, Polikliniek: vervolgconsult Consult, Overige aantekeningen Consult, Polikliniek: vervolgconsult Consult, Overige aantekeningen Consult, Overige aantekeningen Consult, Polikliniek: vervolgconsult Consult Consult, Polikliniek: vervolgconsult Consult Consult Consult, Overige aantekeningen Consult, Polikliniek: vervolgconsult Consult Consult Consult Consult Consult, Polikliniek: vervolgconsult Consult, Polikliniek: vervolgconsult Consult Consult, Polikliniek: vervolgconsult Poliklinische Brief Consult, SEH Consult, Polikliniek: vervolgconsult Consult, Polikliniek: vervolgconsult Consult, Polikliniek: vervolgconsult Poliklinische Brief Consult, Polikliniek: vervolgconsult Consult, Polikliniek: vervolgconsult Consult, Polikliniek: vervolgconsult Consult, SEH Spoedeisende Hulp Consult, Kliniek: vervolgconsult Poliklinische Brief Consult, Kliniek: vervolgconsult Klinische Brief Consult, Kliniek: vervolgconsult Consult, Kliniek: vervolgconsult Consult, Kliniek: vervolgconsult Consult, Kliniek: vervolgconsult Consult, Kliniek: vervolgconsult Consult, Kliniek: vervolgconsult Consult, Kliniek: vervolgconsult Consult, Kliniek: vervolgconsult Consult, Kliniek: vervolgconsult Consult, Kliniek: vervolgconsult Consult, Kliniek: vervolgconsult Consult, Kliniek: vervolgconsult Consult, Polikliniek: vervolgconsult Consult, Polikliniek: vervolgconsult Poliklinische Brief Consult, Polikliniek: vervolgconsult Consult, Polikliniek: vervolgconsult Consult, SEH Spoedeisende Hulp Consult, Kliniek: vervolgconsult Consult, Kliniek: vervolgconsult Consult, Kliniek: vervolgconsult Consult, Kliniek: vervolgconsult Consult, Kliniek: vervolgconsult Consult, Polikliniek: vervolgconsult Consult, Polikliniek: vervolgconsult Consult, Polikliniek: vervolgconsult Poliklinische Brief Consult, Polikliniek: vervolgconsult Consult, Polikliniek: vervolgconsult Consult, Polikliniek: vervolgconsult Consult, Polikliniek: vervolgconsult Consult, Polikliniek: vervolgconsult Consult, Polikliniek: vervolgconsult'\n",
      " 'Consult, SEH Consult, SEH Consult, SEH Consult, SEH Consult, Polikliniek: eerste consult Consult Consult, Polikliniek: vervolgconsult Consult, SEH Consult, SEH Consult, Polikliniek: vervolgconsult Consult Consult Consult, Polikliniek: vervolgconsult Consult Consult, SEH Consult, SEH Consult, SEH Consult, Polikliniek: eerste consult Consult Consult Consult, Polikliniek: vervolgconsult Consult Consult, Polikliniek: vervolgconsult Consult Consult, SEH Consult, SEH Consult, SEH Consult, SEH Consult, SEH Consult, Kliniek: vervolgconsult Consult, SEH Consult, Kliniek: vervolgconsult Consult, Kliniek: vervolgconsult Consult, Kliniek: vervolgconsult Consult, Kliniek: vervolgconsult Consult, SEH Consult, SEH Consult Consult Consult, Polikliniek: eerste consult Consult, Multidisciplinair overleg Consult, Multidisciplinair overleg Consult, Overige aantekeningen Consult, Multidisciplinair overleg Consult, Overige aantekeningen Consult, Kliniek: vervolgconsult Consult, Kliniek: vervolgconsult Consult, Overige aantekeningen Consult, Overige aantekeningen Consult, Kliniek: vervolgconsult Consult, Polikliniek: vervolgconsult Consult Consult, Overige aantekeningen Consult, Polikliniek: vervolgconsult Consult, SEH Consult, SEH Consult, SEH Consult, Kliniek: vervolgconsult Consult, Kliniek: vervolgconsult Consult, Kliniek: vervolgconsult Consult Consult, Kliniek: vervolgconsult Consult, Kliniek: vervolgconsult Consult, Kliniek: vervolgconsult Consult, Kliniek: vervolgconsult Consult, Kliniek: vervolgconsult Consult, Overige aantekeningen Consult, Kliniek: vervolgconsult Consult, Kliniek: vervolgconsult Consult, SEH Consult, SEH Consult, SEH Consult, Overige aantekeningen Consult, Polikliniek: vervolgconsult Consult Consult, Polikliniek: vervolgconsult Consult Consult, Kliniek: vervolgconsult Consult, Overige aantekeningen Consult, Polikliniek: vervolgconsult Consult Consult, Overige aantekeningen Consult, SEH Consult, SEH Consult, SEH Consult, SEH Consult, SEH Consult, Overige aantekeningen Consult, Multidisciplinair overleg Consult, Overige aantekeningen Consult, Overige aantekeningen Consult, Multidisciplinair overleg Consult, Overige aantekeningen Consult, Kliniek: vervolgconsult Consult, Polikliniek: vervolgconsult Consult Consult, Overige aantekeningen Consult, Kliniek: vervolgconsult Consult, Overige aantekeningen Consult, Polikliniek: eerste consult Consult, Polikliniek: vervolgconsult Poliklinische Brief Poliklinische Brief Consult, Polikliniek: vervolgconsult Poliklinische Brief Consult, Polikliniek: vervolgconsult Poliklinische Brief Consult, Thuisbehandeling Consult, Telefonisch consult Consult, SEH Spoedeisende Hulp Consult, Polikliniek: vervolgconsult Consult, Polikliniek: vervolgconsult Poliklinische Brief Consult, Thuisbehandeling Consult, Polikliniek: vervolgconsult Poliklinische Brief Consult, Polikliniek: vervolgconsult Consult, Polikliniek: vervolgconsult Consult, Thuisbehandeling Consult, Polikliniek: vervolgconsult Consult, SEH Consult, Polikliniek: vervolgconsult Poliklinische Brief Consult, Thuisbehandeling Consult, Polikliniek: vervolgconsult Consult, Polikliniek: vervolgconsult Consult, SEH Spoedeisende Hulp Consult, Kliniek: vervolgconsult Consult, Kliniek: vervolgconsult Klinische Brief Consult, Polikliniek: vervolgconsult Consult, Thuisbehandeling Consult, Polikliniek: vervolgconsult Consult, Polikliniek: vervolgconsult Poliklinische Brief Consult, SEH Consult, Kliniek: vervolgconsult Consult, SEH Consult, Kliniek: vervolgconsult Spoedeisende Hulp Consult, Kliniek: vervolgconsult Poliklinische Brief Poliklinische Brief Consult, Kliniek: vervolgconsult Klinische Brief Consult, SEH Consult, SEH Consult, SEH Spoedeisende Hulp Poliklinische Brief Consult, SEH Consult, SEH Consult, SEH Spoedeisende Hulp Consult, Kliniek: eerste consult Consult, Kliniek: vervolgconsult Consult, Intercollegiaal consult Consult, SEH Consult, SEH Spoedeisende Hulp Consult, Overige aantekeningen Consult, SEH Consult, SEH Spoedeisende Hulp'\n",
      " 'Consult, SEH Spoedeisende Hulp Consult, Kliniek: vervolgconsult Poliklinische Brief Consult Poliklinische Brief Consult Consult, Kliniek: vervolgconsult Consult, Kliniek: vervolgconsult Poliklinische Brief Klinische Brief Consult, Intercollegiaal consult Consult, SEH Consult, Kliniek: vervolgconsult Consult, Kliniek: vervolgconsult Consult, Kliniek: vervolgconsult Consult, Kliniek: vervolgconsult Poliklinische Brief Consult, Kliniek: vervolgconsult Klinische Brief Consult, Kliniek: vervolgconsult Consult, Kliniek: vervolgconsult Consult, Kliniek: vervolgconsult Consult, Kliniek: vervolgconsult Consult, Kliniek: vervolgconsult Consult, Kliniek: vervolgconsult Consult, SEH Spoedeisende Hulp Consult, Kliniek: vervolgconsult Consult, Polikliniek: eerste consult Klinische Brief Consult, Kliniek: vervolgconsult Poliklinische Brief Consult, Telefonisch consult Consult, Polikliniek: eerste consult Poliklinische Brief Poliklinische Brief Consult, SEH Spoedeisende Hulp Consult, Kliniek: vervolgconsult Consult, Kliniek: vervolgconsult Consult, Kliniek: vervolgconsult Klinische Brief Consult, Kliniek: vervolgconsult Consult, Kliniek: vervolgconsult Consult, Kliniek: vervolgconsult Consult, Kliniek: vervolgconsult Klinische Brief Consult, Polikliniek: vervolgconsult Poliklinische Brief'\n",
      " 'Consult Consult Consult, Polikliniek: vervolgconsult Consult, Overige aantekeningen Consult, Multidisciplinair overleg Consult Consult Consult, Polikliniek: vervolgconsult Consult, Polikliniek: vervolgconsult Consult, Polikliniek: vervolgconsult Consult, Polikliniek: vervolgconsult Consult, Polikliniek: vervolgconsult Consult Consult, Polikliniek: vervolgconsult Consult Consult, Polikliniek: vervolgconsult Consult, Overige aantekeningen Consult, Overige aantekeningen Consult, Polikliniek: vervolgconsult Consult, Polikliniek: vervolgconsult Consult Consult, Polikliniek: vervolgconsult Consult Consult, Polikliniek: vervolgconsult Consult, Polikliniek: vervolgconsult Poliklinische Brief Consult, Telefonisch consult Consult, Telefonisch consult Consult, Telefonisch consult Consult, Polikliniek: vervolgconsult Consult, Polikliniek: vervolgconsult Consult, Telefonisch consult Consult, Polikliniek: vervolgconsult Consult, Telefonisch consult Consult, Kliniek: vervolgconsult Consult, Kliniek: vervolgconsult Consult, Kliniek: vervolgconsult Klinische Brief Klinische Brief Consult, Polikliniek: eerste consult Consult, Overige aantekeningen Consult, SEH Spoedeisende Hulp Consult, Kliniek: vervolgconsult Consult, Kliniek: vervolgconsult Klinische Brief Consult, Kliniek: vervolgconsult Klinische Brief Consult, Telefonisch consult Consult, Polikliniek: vervolgconsult Consult, Telefonisch consult Consult, Polikliniek: vervolgconsult Consult, Polikliniek: vervolgconsult Consult, Polikliniek: vervolgconsult Consult, SEH Spoedeisende Hulp Consult, Overige aantekeningen Consult, Polikliniek: vervolgconsult Consult, Polikliniek: vervolgconsult Consult, Polikliniek: vervolgconsult Poliklinische Brief Consult, Polikliniek: vervolgconsult Consult, Polikliniek: vervolgconsult Consult, Polikliniek: vervolgconsult Consult, SEH Consult, SEH Spoedeisende Hulp Consult, Telefonisch consult Consult Consult, Polikliniek: vervolgconsult Consult, Polikliniek: vervolgconsult Consult, Telefonisch consult Consult, Polikliniek: vervolgconsult Consult, Telefonisch consult Consult, Telefonisch consult Consult, Telefonisch consult Consult, Telefonisch consult Consult, Polikliniek: vervolgconsult Consult, Polikliniek: vervolgconsult Consult, Telefonisch consult Consult, Telefonisch consult Consult, Telefonisch consult Consult, Polikliniek: vervolgconsult Consult, Telefonisch consult Poliklinische Brief Consult, SEH Spoedeisende Hulp Consult, Telefonisch consult Consult, Polikliniek: vervolgconsult Consult, Telefonisch consult Consult, Polikliniek: vervolgconsult Consult, Telefonisch consult Consult, Polikliniek: vervolgconsult Consult, Telefonisch consult Consult, Polikliniek: vervolgconsult Consult, Polikliniek: vervolgconsult Consult, Polikliniek: vervolgconsult Consult, Polikliniek: vervolgconsult Consult, Telefonisch consult Consult, Polikliniek: vervolgconsult Consult, Polikliniek: vervolgconsult Consult, Polikliniek: vervolgconsult Consult, Polikliniek: vervolgconsult Consult, Polikliniek: vervolgconsult Consult, Polikliniek: vervolgconsult Consult, Polikliniek: vervolgconsult Consult, Polikliniek: vervolgconsult Consult, Telefonisch consult Consult, SEH Consult, SEH Spoedeisende Hulp Consult, Kliniek: vervolgconsult Poliklinische Brief Consult, Kliniek: vervolgconsult Consult, Kliniek: vervolgconsult Consult, Kliniek: vervolgconsult Poliklinische Brief Consult, Kliniek: vervolgconsult Klinische Brief Consult, Kliniek: vervolgconsult Consult, Kliniek: vervolgconsult Consult, Kliniek: vervolgconsult Poliklinische Brief Poliklinische Brief Consult, Kliniek: vervolgconsult Poliklinische Brief Consult, Kliniek: vervolgconsult Consult, Kliniek: vervolgconsult Consult, Kliniek: vervolgconsult Consult, Kliniek: vervolgconsult Consult, Kliniek: vervolgconsult Consult, Kliniek: vervolgconsult Consult, Kliniek: vervolgconsult Consult, Polikliniek: vervolgconsult Consult, Polikliniek: vervolgconsult Poliklinische Brief Consult, Overige aantekeningen Consult, Polikliniek: vervolgconsult Consult, Telefonisch consult Consult, Polikliniek: vervolgconsult Consult, Overige aantekeningen Consult, Polikliniek: vervolgconsult Consult, Polikliniek: vervolgconsult Consult, Telefonisch consult Consult, Polikliniek: vervolgconsult Consult, Polikliniek: vervolgconsult Consult, Overige aantekeningen Consult, SEH Spoedeisende Hulp Consult, Kliniek: vervolgconsult Klinische Brief Consult, Polikliniek: vervolgconsult Consult, Polikliniek: vervolgconsult Consult, Telefonisch consult Consult, Polikliniek: vervolgconsult Consult, Polikliniek: vervolgconsult Consult, Overige aantekeningen Consult, Polikliniek: vervolgconsult Consult, Polikliniek: vervolgconsult Consult, Polikliniek: vervolgconsult Consult, Polikliniek: vervolgconsult Consult, Telefonisch consult Consult, Telefonisch consult Consult, Telefonisch consult Poliklinische Brief Consult, Telefonisch consult Consult, Telefonisch consult Consult, Polikliniek: vervolgconsult Consult, Telefonisch consult Consult, Overige aantekeningen Consult, Telefonisch consult Consult, Overige aantekeningen Consult, Polikliniek: vervolgconsult Consult, Telefonisch consult Consult, Telefonisch consult Consult, Overige aantekeningen Consult, Polikliniek: vervolgconsult Consult, SEH Spoedeisende Hulp Consult, Kliniek: eerste consult Consult Consult, Kliniek: vervolgconsult Consult, Kliniek: vervolgconsult Consult, Kliniek: vervolgconsult Consult, Kliniek: vervolgconsult Klinische Brief Consult, Telefonisch consult Consult, Telefonisch consult Consult, Telefonisch consult Consult, Telefonisch consult Consult, Polikliniek: vervolgconsult Consult, Telefonisch consult Consult, Telefonisch consult Consult, Telefonisch consult Consult, Telefonisch consult Consult, Overige aantekeningen Consult, Telefonisch consult Poliklinische Brief Poliklinische Brief Poliklinische Brief Consult, SEH Consult, SEH Spoedeisende Hulp Poliklinische Brief Consult, Kliniek: eerste consult Consult, Kliniek: eerste consult Consult, Kliniek: vervolgconsult Consult, Kliniek: vervolgconsult Consult, Kliniek: vervolgconsult Consult, Kliniek: vervolgconsult Poliklinische Brief Consult, Kliniek: vervolgconsult Consult, Kliniek: vervolgconsult Consult, Kliniek: vervolgconsult Klinische Brief Consult, Kliniek: vervolgconsult Consult, Kliniek: vervolgconsult Consult, Polikliniek: vervolgconsult Consult, Overige aantekeningen Consult, Overige aantekeningen Consult, Telefonisch consult Consult, Overige aantekeningen Poliklinische Brief Consult, Telefonisch consult Consult, Dagbehandeling Poliklinische Brief Consult, Kliniek: vervolgconsult Consult, Kliniek: vervolgconsult Klinische Brief Consult, Telefonisch consult Poliklinische Brief Consult, Telefonisch consult Poliklinische Brief Consult, SEH'\n",
      " 'Consult, SEH Consult, SEH Consult, SEH Consult, SEH Consult Consult, Polikliniek: vervolgconsult Consult, Overige aantekeningen Consult, Polikliniek: vervolgconsult Consult, Polikliniek: vervolgconsult Consult, Polikliniek: vervolgconsult Consult, Polikliniek: vervolgconsult Consult, Overige aantekeningen Consult, Polikliniek: vervolgconsult Consult, SEH Consult, SEH Consult, SEH Consult, SEH Consult, Polikliniek: vervolgconsult Consult Consult, Polikliniek: vervolgconsult Consult Consult, Overige aantekeningen Consult, Polikliniek: vervolgconsult Consult Consult, Polikliniek: vervolgconsult Consult Consult, Polikliniek: vervolgconsult Consult Consult, Kliniek: vervolgconsult Consult, Polikliniek: vervolgconsult Consult Consult, Polikliniek: vervolgconsult Consult Consult, Polikliniek: vervolgconsult Consult Consult, SEH Consult, SEH Consult, Overige aantekeningen Consult, Polikliniek: vervolgconsult Consult Consult, Polikliniek: vervolgconsult Consult Consult, Overige aantekeningen Consult, SEH Consult, SEH Consult, SEH Consult, SEH Consult, Polikliniek: vervolgconsult Consult, Polikliniek: vervolgconsult Consult, Polikliniek: vervolgconsult Poliklinische Brief Consult, Polikliniek: vervolgconsult Consult, Polikliniek: vervolgconsult Consult, SEH Consult, SEH Consult, Polikliniek: vervolgconsult Consult, Polikliniek: vervolgconsult Poliklinische Brief Consult, SEH Consult, SEH Consult, Telefonisch consult Consult, Polikliniek: vervolgconsult Consult, Polikliniek: vervolgconsult Consult, SEH Consult, SEH Consult, Polikliniek: vervolgconsult Consult, Telefonisch consult Poliklinische Brief Consult, Telefonisch consult Consult, SEH Consult, SEH Spoedeisende Hulp Consult, Kliniek: vervolgconsult Poliklinische Brief Consult, Kliniek: vervolgconsult Consult, Telefonisch consult Consult, Telefonisch consult Consult, SEH Consult, Polikliniek: vervolgconsult Consult, Telefonisch consult Consult, Telefonisch consult Poliklinische Brief Consult, Telefonisch consult'\n",
      " 'Consult, SEH Spoedeisende Hulp Consult, Kliniek: vervolgconsult Consult, Kliniek: vervolgconsult Poliklinische Brief Consult, Kliniek: vervolgconsult Consult, Kliniek: vervolgconsult Consult, Kliniek: vervolgconsult Klinische Brief'\n",
      " 'Consult, SEH Consult, SEH Consult Consult Consult, Polikliniek: eerste consult Consult, Overige aantekeningen Consult, Overige aantekeningen Consult Consult Consult, Polikliniek: eerste consult Consult, SEH Consult, SEH Consult, SEH Consult, SEH Consult, SEH Consult, Kliniek: eerste consult Consult, Kliniek: vervolgconsult Consult Consult, Kliniek: vervolgconsult Consult Consult, Polikliniek: vervolgconsult Consult Consult, Polikliniek: vervolgconsult Consult Consult Consult, Telefonisch consult Consult, SEH'\n",
      " 'Consult, Polikliniek: eerste consult Consult Consult Consult Consult, Polikliniek: vervolgconsult Consult Consult, Polikliniek: vervolgconsult Consult, Polikliniek: vervolgconsult Consult Consult, Polikliniek: vervolgconsult Consult Consult, Polikliniek: vervolgconsult Consult Consult, Polikliniek: vervolgconsult Consult Consult, Polikliniek: vervolgconsult Consult, Polikliniek: vervolgconsult Consult Consult, Polikliniek: vervolgconsult Consult Consult, Polikliniek: vervolgconsult Consult Consult, Polikliniek: vervolgconsult Consult Consult, Overige aantekeningen Consult Consult Consult, Polikliniek: vervolgconsult Consult Consult Consult, Polikliniek: vervolgconsult Consult, Polikliniek: vervolgconsult Consult, Overige aantekeningen Consult Consult Consult, Polikliniek: vervolgconsult Consult Consult, Polikliniek: eerste consult Consult Consult, Polikliniek: vervolgconsult Consult Consult, Polikliniek: vervolgconsult Consult Consult, Polikliniek: vervolgconsult Consult Consult, SEH Consult, SEH Consult, SEH Spoedeisende Hulp Consult, Kliniek: vervolgconsult Consult, Overige aantekeningen Klinische Brief Consult, Polikliniek: vervolgconsult Consult, Overige aantekeningen Consult, Overige aantekeningen Consult, Polikliniek: vervolgconsult Consult, Polikliniek: vervolgconsult Consult, Polikliniek: vervolgconsult Consult, Telefonisch consult Consult, Polikliniek: vervolgconsult Poliklinische Brief Consult, SEH Consult, SEH'\n",
      " 'Consult, Overige aantekeningen Consult, SEH Consult, SEH Consult, Kliniek: eerste consult Consult, Kliniek: vervolgconsult Consult Consult Consult, Polikliniek: vervolgconsult Consult Consult, Overige aantekeningen Consult, Polikliniek: vervolgconsult Consult Consult, Polikliniek: vervolgconsult Consult Consult, SEH Consult, SEH Consult, SEH Consult, Polikliniek: vervolgconsult Consult Consult, Polikliniek: vervolgconsult Consult Consult, Polikliniek: vervolgconsult Consult, Polikliniek: vervolgconsult Consult, Polikliniek: vervolgconsult Consult, Polikliniek: vervolgconsult Consult, Polikliniek: vervolgconsult Consult, Overige aantekeningen Consult, Polikliniek: vervolgconsult Consult, Polikliniek: vervolgconsult Consult, Overige aantekeningen Consult, Polikliniek: vervolgconsult Consult, Polikliniek: vervolgconsult Consult, Telefonisch consult Consult, Polikliniek: vervolgconsult Consult, SEH Consult, Polikliniek: vervolgconsult Consult, Polikliniek: vervolgconsult Poliklinische Brief Consult, Overige aantekeningen Consult, Polikliniek: vervolgconsult Poliklinische Brief Consult, Polikliniek: vervolgconsult Consult, Telefonisch consult Consult, Telefonisch consult Consult, Telefonisch consult Consult, Telefonisch consult Consult, Polikliniek: vervolgconsult Consult, Polikliniek: eerste consult Consult, Polikliniek: vervolgconsult Consult, Telefonisch consult Poliklinische Brief Consult, Polikliniek: vervolgconsult Consult, Telefonisch consult Consult, Overige aantekeningen Consult, SEH Consult, SEH Spoedeisende Hulp Consult, Kliniek: vervolgconsult Consult, Kliniek: vervolgconsult Consult, Kliniek: vervolgconsult Klinische Brief Consult, Kliniek: vervolgconsult Consult Poliklinische Brief Consult, Kliniek: vervolgconsult Consult, Kliniek: vervolgconsult Consult, Kliniek: vervolgconsult Consult, Kliniek: vervolgconsult Poliklinische Brief Consult, Overige aantekeningen Consult, Kliniek: vervolgconsult Consult, Kliniek: vervolgconsult Consult, Kliniek: vervolgconsult Klinische Brief Consult, Polikliniek: vervolgconsult Klinische Brief Consult, Overige aantekeningen Consult, Telefonisch consult Consult, Telefonisch consult Consult, Overige aantekeningen'\n",
      " 'Consult, SEH Consult, SEH Consult, SEH Consult, Overige aantekeningen Consult Consult, Polikliniek: eerste consult Consult, Polikliniek: eerste consult Consult Consult Consult Consult Consult, Polikliniek: vervolgconsult Consult Consult, SEH Spoedeisende Hulp Consult, Kliniek: vervolgconsult Consult, Kliniek: vervolgconsult Klinische Brief Consult, Polikliniek: vervolgconsult Poliklinische Brief'\n",
      " 'Consult, SEH Consult, SEH Consult, SEH Consult, SEH Consult, Polikliniek: eerste consult Consult Consult Consult, Polikliniek: vervolgconsult Consult Consult, SEH Consult, SEH Consult, SEH Consult, Kliniek: vervolgconsult Consult, SEH Spoedeisende Hulp Consult, Kliniek: vervolgconsult Poliklinische Brief Consult, Kliniek: vervolgconsult Klinische Brief Consult, Telefonisch consult Poliklinische Brief Consult, Telefonisch consult Poliklinische Brief Consult, Polikliniek: vervolgconsult Consult, Overige aantekeningen Consult, Polikliniek: vervolgconsult Poliklinische Brief'\n",
      " 'Consult, Overige aantekeningen Consult, Overige aantekeningen Consult Consult Consult, Multidisciplinair overleg Consult, Polikliniek: vervolgconsult Consult, Polikliniek: eerste consult Consult Consult, Overige aantekeningen Consult, Overige aantekeningen Consult, SEH Spoedeisende Hulp Spoedeisende Hulp Consult, Kliniek: vervolgconsult Consult, Kliniek: vervolgconsult Consult, Kliniek: vervolgconsult Consult, Kliniek: vervolgconsult Klinische Brief Klinische Brief Consult, SEH Consult, SEH Consult, Overige aantekeningen Consult, SEH Spoedeisende Hulp Consult, Kliniek: vervolgconsult Consult, Kliniek: vervolgconsult Consult, Kliniek: vervolgconsult Klinische Brief Poliklinische Brief Consult, Kliniek: vervolgconsult Consult, Kliniek: vervolgconsult Consult, Kliniek: vervolgconsult Consult, Kliniek: vervolgconsult Consult, Kliniek: vervolgconsult Consult, Kliniek: vervolgconsult Consult, Kliniek: vervolgconsult Consult, Kliniek: vervolgconsult Consult, Kliniek: vervolgconsult Consult, Kliniek: vervolgconsult Consult, Kliniek: vervolgconsult Consult, Kliniek: vervolgconsult Consult, Kliniek: vervolgconsult Consult, Kliniek: vervolgconsult Consult, Kliniek: vervolgconsult Consult, Kliniek: vervolgconsult Consult, Overige aantekeningen Consult, SEH Consult, SEH Consult, Kliniek: eerste consult Spoedeisende Hulp Klinische Brief'\n",
      " 'Consult, SEH Consult, SEH Consult, SEH Consult, SEH Consult, Kliniek: vervolgconsult Consult, Polikliniek: eerste consult Consult, Polikliniek: vervolgconsult Consult, SEH Spoedeisende Hulp Klinische Brief Consult, Kliniek: vervolgconsult Klinische Brief Consult, Polikliniek: vervolgconsult Consult, Polikliniek: vervolgconsult Consult, Telefonisch consult Consult, Polikliniek: vervolgconsult Consult, Polikliniek: vervolgconsult Poliklinische Brief Consult, Polikliniek: vervolgconsult Consult, Polikliniek: eerste consult Consult, Polikliniek: vervolgconsult Consult, Polikliniek: vervolgconsult Poliklinische Brief Poliklinische Brief Consult, Polikliniek: vervolgconsult Consult, Overige aantekeningen Consult, Polikliniek: vervolgconsult Consult, Kliniek: vervolgconsult Consult, Kliniek: vervolgconsult Poliklinische Brief Consult, Polikliniek: vervolgconsult Consult, Polikliniek: vervolgconsult Consult, Kliniek: vervolgconsult Consult, Kliniek: vervolgconsult Consult, Kliniek: vervolgconsult Consult, Kliniek: vervolgconsult Consult, Kliniek: vervolgconsult Consult, Kliniek: vervolgconsult Consult, Kliniek: vervolgconsult Klinische Brief Consult, Kliniek: vervolgconsult Poliklinische Brief Consult, Kliniek: vervolgconsult Klinische Brief Klinische Brief Consult, Kliniek: vervolgconsult Consult, Polikliniek: vervolgconsult Consult, Overige aantekeningen Consult, Polikliniek: vervolgconsult Consult, SEH Consult, SEH Spoedeisende Hulp Consult, Kliniek: vervolgconsult Consult Consult Consult, Kliniek: vervolgconsult Consult, Kliniek: vervolgconsult Consult, Kliniek: vervolgconsult Consult, Kliniek: vervolgconsult Consult, Kliniek: vervolgconsult Consult Consult, Kliniek: vervolgconsult Consult, Kliniek: vervolgconsult Klinische Brief Consult, Kliniek: vervolgconsult Klinische Brief Consult, Kliniek: vervolgconsult Consult, Kliniek: vervolgconsult Consult, Kliniek: vervolgconsult Consult, Kliniek: vervolgconsult Consult, Kliniek: vervolgconsult Klinische Brief Consult, Telefonisch consult Consult, SEH Spoedeisende Hulp Consult, Kliniek: vervolgconsult Consult, Kliniek: vervolgconsult Consult Consult, Kliniek: vervolgconsult Consult, Kliniek: vervolgconsult Consult, Kliniek: vervolgconsult Consult, Kliniek: vervolgconsult Consult, Kliniek: vervolgconsult Consult, Kliniek: vervolgconsult Consult Consult, Kliniek: vervolgconsult Consult, Kliniek: vervolgconsult Consult, Kliniek: vervolgconsult Consult, Kliniek: vervolgconsult Consult, Kliniek: vervolgconsult Consult, Kliniek: vervolgconsult Consult, Kliniek: vervolgconsult Consult, Kliniek: vervolgconsult Consult, Kliniek: vervolgconsult Consult, Kliniek: vervolgconsult Klinische Brief Consult Consult, Kliniek: vervolgconsult Consult, Kliniek: vervolgconsult Poliklinische Brief Consult, Kliniek: vervolgconsult Consult, Kliniek: vervolgconsult Klinische Brief Consult, Telefonisch consult Consult, Polikliniek: vervolgconsult Consult, SEH Spoedeisende Hulp Consult, Kliniek: vervolgconsult Klinische Brief Klinische Brief Consult, Polikliniek: vervolgconsult Consult, Overige aantekeningen Consult, Telefonisch consult Consult, Polikliniek: vervolgconsult Consult, Overige aantekeningen Consult, Polikliniek: vervolgconsult Consult, Polikliniek: vervolgconsult Poliklinische Brief Consult, Telefonisch consult Consult, Polikliniek: vervolgconsult Consult, Overige aantekeningen Consult, Telefonisch consult Consult, Overige aantekeningen Consult, Telefonisch consult Consult, Telefonisch consult Consult, Polikliniek: vervolgconsult Consult, Polikliniek: vervolgconsult Consult, Overige aantekeningen Consult, Kliniek: vervolgconsult Poliklinische Brief Poliklinische Brief Consult, Polikliniek: vervolgconsult Consult, Telefonisch consult Consult, Telefonisch consult Consult, Telefonisch consult Consult, Telefonisch consult Consult, Polikliniek: vervolgconsult Consult, Telefonisch consult Consult, Telefonisch consult Poliklinische Brief Consult, Thuisbehandeling Consult, Telefonisch consult Consult, Overige aantekeningen Consult, Kliniek: eerste consult Consult, Kliniek: vervolgconsult Consult, Kliniek: vervolgconsult Consult, Kliniek: vervolgconsult Consult, Kliniek: vervolgconsult Consult, Intercollegiaal consult Klinische Brief Consult, Kliniek: vervolgconsult Consult, Overige aantekeningen Consult, Kliniek: vervolgconsult Consult Klinische Brief'\n",
      " 'Consult, SEH Spoedeisende Hulp Consult, Polikliniek: eerste consult Consult, SEH Consult, Overige aantekeningen Consult, SEH Spoedeisende Hulp Consult, Kliniek: vervolgconsult Consult, Kliniek: vervolgconsult Consult, Overige aantekeningen Consult, Kliniek: vervolgconsult Consult, Kliniek: vervolgconsult Consult, Kliniek: vervolgconsult Consult, Kliniek: vervolgconsult Consult, Kliniek: vervolgconsult Consult, Kliniek: vervolgconsult Consult, Kliniek: vervolgconsult Consult, Kliniek: vervolgconsult Consult, Kliniek: vervolgconsult Consult, Kliniek: vervolgconsult Consult, Kliniek: vervolgconsult Consult, Kliniek: vervolgconsult Klinische Brief Klinische Brief Consult, Kliniek: vervolgconsult Consult, Kliniek: vervolgconsult Consult, Polikliniek: vervolgconsult Klinische Brief'\n",
      " 'Consult, SEH Consult, SEH Consult, Overige aantekeningen Consult, Polikliniek: vervolgconsult Consult, Overige aantekeningen Consult, Polikliniek: eerste consult Consult, Polikliniek: vervolgconsult Consult, Polikliniek: eerste consult Consult, Polikliniek: vervolgconsult Consult, Overige aantekeningen Consult, SEH Consult, SEH Consult, SEH Consult, Kliniek: eerste consult Consult, Kliniek: vervolgconsult Consult, Overige aantekeningen Consult, SEH Consult, SEH Consult, SEH Consult, SEH Consult, SEH Consult, SEH Consult, SEH Spoedeisende Hulp Consult, Kliniek: vervolgconsult Consult, Kliniek: vervolgconsult Klinische Brief Consult, Kliniek: vervolgconsult'\n",
      " 'Consult, SEH Consult, SEH Consult, SEH Consult, SEH Consult, SEH Consult, Kliniek: vervolgconsult Consult, Kliniek: vervolgconsult Consult, Kliniek: vervolgconsult Consult, Kliniek: vervolgconsult Consult, Kliniek: vervolgconsult Consult, Kliniek: vervolgconsult Consult, Kliniek: vervolgconsult Consult, Kliniek: vervolgconsult Consult, Kliniek: vervolgconsult Consult, Kliniek: vervolgconsult Consult, Kliniek: vervolgconsult Consult, Kliniek: vervolgconsult Consult, Kliniek: vervolgconsult Consult, Kliniek: vervolgconsult Consult, Kliniek: vervolgconsult Consult, SEH Consult, SEH Consult Consult Consult, Polikliniek: vervolgconsult Consult Consult, Polikliniek: vervolgconsult Consult Consult, Overige aantekeningen Consult, SEH Consult, SEH Consult, SEH Consult, SEH Consult, SEH Consult, SEH Consult, SEH Consult, Kliniek: eerste consult Consult, Kliniek: vervolgconsult Consult, Kliniek: vervolgconsult Consult, Kliniek: vervolgconsult Consult, Kliniek: vervolgconsult Consult, Kliniek: vervolgconsult Consult, Kliniek: vervolgconsult Consult, Kliniek: vervolgconsult Consult, Kliniek: vervolgconsult Consult, Kliniek: vervolgconsult Consult, Overige aantekeningen Consult, Polikliniek: eerste consult Consult Consult Consult, Overige aantekeningen Consult, Overige aantekeningen Consult, Kliniek: vervolgconsult Consult Consult Consult, Polikliniek: vervolgconsult Consult Consult, Polikliniek: vervolgconsult Consult Consult, SEH Consult, SEH Consult, SEH Consult, SEH Consult, Kliniek: eerste consult Consult, Kliniek: vervolgconsult Consult, Kliniek: vervolgconsult Consult, Kliniek: vervolgconsult Consult, Kliniek: vervolgconsult Consult, Kliniek: vervolgconsult Consult, Kliniek: vervolgconsult Consult, SEH Consult, SEH Consult, Kliniek: eerste consult Spoedeisende Hulp Consult, Kliniek: vervolgconsult Consult, Kliniek: vervolgconsult Consult, Kliniek: vervolgconsult Poliklinische Brief Consult, Kliniek: vervolgconsult Consult, Kliniek: vervolgconsult Consult, Kliniek: vervolgconsult Poliklinische Brief Consult, Kliniek: vervolgconsult Consult, Kliniek: vervolgconsult Consult, Kliniek: vervolgconsult Consult, Kliniek: vervolgconsult Consult, Kliniek: vervolgconsult Consult, Kliniek: vervolgconsult Consult, Kliniek: vervolgconsult Klinische Brief Consult, Kliniek: vervolgconsult Consult, SEH Consult, SEH Consult, SEH Spoedeisende Hulp Consult, Kliniek: vervolgconsult Consult, Kliniek: vervolgconsult Consult, Kliniek: vervolgconsult Klinische Brief Consult, Overige aantekeningen Consult, Overige aantekeningen Consult, Polikliniek: vervolgconsult Consult, Overige aantekeningen Poliklinische Brief Consult, Kliniek: vervolgconsult Consult, Kliniek: vervolgconsult Consult, Polikliniek: vervolgconsult Poliklinische Brief Consult, Kliniek: vervolgconsult Consult, Kliniek: vervolgconsult Consult, Kliniek: vervolgconsult Consult, Kliniek: vervolgconsult Consult, Kliniek: vervolgconsult Poliklinische Brief Poliklinische Brief Consult Consult, Kliniek: vervolgconsult Consult, Kliniek: vervolgconsult Consult, Kliniek: vervolgconsult Consult, Kliniek: vervolgconsult Consult, Kliniek: vervolgconsult Consult, Kliniek: vervolgconsult Consult, Kliniek: vervolgconsult Consult, Kliniek: vervolgconsult Consult, Kliniek: vervolgconsult Consult, Kliniek: vervolgconsult Poliklinische Brief Klinische Brief Consult, Kliniek: vervolgconsult Consult, Kliniek: vervolgconsult Consult, Kliniek: vervolgconsult Consult, Kliniek: vervolgconsult Consult, Polikliniek: vervolgconsult Consult, Kliniek: vervolgconsult Consult, Polikliniek: vervolgconsult Poliklinische Brief Consult, SEH Consult, SEH Consult, SEH Spoedeisende Hulp'\n",
      " 'Consult Consult, Polikliniek: eerste consult Consult, Polikliniek: vervolgconsult Consult Consult Consult, Overige aantekeningen Consult Consult Consult, Polikliniek: vervolgconsult Consult Consult Consult, Polikliniek: eerste consult Consult Consult, Polikliniek: vervolgconsult Consult Consult, Polikliniek: vervolgconsult Consult Consult, Polikliniek: vervolgconsult Consult Consult, Polikliniek: vervolgconsult Consult Consult, Polikliniek: vervolgconsult Consult Consult, Overige aantekeningen Consult, Polikliniek: vervolgconsult Consult Consult, Polikliniek: vervolgconsult Consult Consult, Polikliniek: vervolgconsult Consult Consult, Polikliniek: vervolgconsult Consult Consult, Polikliniek: vervolgconsult Consult Consult Consult Consult, Overige aantekeningen Consult, Overige aantekeningen Consult, Polikliniek: vervolgconsult Consult, Polikliniek: vervolgconsult Consult Consult, Overige aantekeningen Consult, Overige aantekeningen Consult, Polikliniek: vervolgconsult Consult, Telefonisch consult Consult, Polikliniek: vervolgconsult Consult, Kliniek: eerste consult Consult, Kliniek: vervolgconsult Consult, Dagbehandeling Consult, Kliniek: vervolgconsult Poliklinische Brief Consult, Kliniek: vervolgconsult Consult, Kliniek: vervolgconsult Consult, Kliniek: vervolgconsult Consult, Kliniek: vervolgconsult Consult, Overige aantekeningen Klinische Brief Consult, Overige aantekeningen Consult, SEH Consult, SEH Consult, Kliniek: vervolgconsult Klinische Brief Consult, Kliniek: vervolgconsult Consult, Polikliniek: vervolgconsult Consult, SEH Spoedeisende Hulp Consult, Kliniek: vervolgconsult Klinische Brief Consult, Kliniek: vervolgconsult Consult, Kliniek: vervolgconsult Consult, Kliniek: vervolgconsult Consult, Kliniek: vervolgconsult Consult, Kliniek: vervolgconsult Consult, Kliniek: vervolgconsult Consult, Kliniek: vervolgconsult Consult, Kliniek: vervolgconsult Consult, Kliniek: vervolgconsult Consult, Kliniek: vervolgconsult Consult, Kliniek: vervolgconsult Consult, Kliniek: vervolgconsult Consult, Kliniek: vervolgconsult Klinische Brief Consult, SEH Spoedeisende Hulp Consult, Kliniek: vervolgconsult Klinische Brief Consult, Kliniek: vervolgconsult Consult, Kliniek: vervolgconsult Consult, Kliniek: vervolgconsult Consult, Kliniek: vervolgconsult Klinische Brief Consult, Telefonisch consult Consult, Polikliniek: vervolgconsult Consult, Polikliniek: vervolgconsult Consult, Polikliniek: vervolgconsult Consult, Polikliniek: vervolgconsult Consult, SEH Consult, SEH Consult, Kliniek: eerste consult Spoedeisende Hulp Consult, Kliniek: vervolgconsult Consult, Overige aantekeningen Klinische Brief Spoedeisende Hulp Consult, Overige aantekeningen Consult, Polikliniek: vervolgconsult Consult, Polikliniek: vervolgconsult Consult, Telefonisch consult Consult, Polikliniek: vervolgconsult Consult, Telefonisch consult Consult, Telefonisch consult Consult, Polikliniek: vervolgconsult Consult, Polikliniek: vervolgconsult Consult, Polikliniek: vervolgconsult Consult, Telefonisch consult Consult, Polikliniek: vervolgconsult Consult, Telefonisch consult Consult, Polikliniek: vervolgconsult Consult, Polikliniek: vervolgconsult Poliklinische Brief'\n",
      " 'Consult Consult Consult, Polikliniek: vervolgconsult Consult Consult, Polikliniek: vervolgconsult Consult Consult, Polikliniek: vervolgconsult Consult, Overige aantekeningen Consult, Polikliniek: vervolgconsult Consult Consult, Polikliniek: vervolgconsult Consult Consult, Polikliniek: vervolgconsult Consult, Polikliniek: vervolgconsult Consult, Polikliniek: vervolgconsult Consult Consult, Polikliniek: vervolgconsult Consult Consult, Polikliniek: vervolgconsult Consult Consult, Polikliniek: vervolgconsult Consult Consult, Polikliniek: vervolgconsult Consult Consult, Polikliniek: vervolgconsult Consult Consult, Polikliniek: vervolgconsult Consult Consult, Polikliniek: vervolgconsult Consult Consult, Polikliniek: vervolgconsult Consult Consult, Polikliniek: vervolgconsult Consult Consult, Polikliniek: vervolgconsult Consult Consult, Polikliniek: vervolgconsult Consult Consult, Polikliniek: vervolgconsult Consult Consult, Overige aantekeningen Consult, Polikliniek: vervolgconsult Consult Consult, Polikliniek: vervolgconsult Consult Consult, Polikliniek: vervolgconsult Consult Consult Consult Consult, Polikliniek: vervolgconsult Consult Consult, Polikliniek: vervolgconsult Consult Consult, Polikliniek: vervolgconsult Consult Consult, Overige aantekeningen Consult, Polikliniek: vervolgconsult Consult Consult, Overige aantekeningen Consult, Overige aantekeningen Consult, Overige aantekeningen Consult, Polikliniek: vervolgconsult Consult Consult, Polikliniek: vervolgconsult Consult, Polikliniek: vervolgconsult Consult Consult, Overige aantekeningen Consult, Polikliniek: vervolgconsult Consult Consult, Polikliniek: vervolgconsult Consult Consult Consult, Polikliniek: eerste consult Consult, Overige aantekeningen Consult Consult Consult, SEH Consult, SEH Consult, Kliniek: eerste consult Consult, Kliniek: vervolgconsult Consult Consult, Kliniek: vervolgconsult Consult Consult, Kliniek: vervolgconsult Consult Consult Consult, Kliniek: vervolgconsult Consult Consult, Polikliniek: vervolgconsult Consult Consult, Polikliniek: vervolgconsult Consult Consult, Overige aantekeningen Consult, Polikliniek: vervolgconsult Consult Consult, Polikliniek: vervolgconsult Consult Consult, Overige aantekeningen Consult, Polikliniek: vervolgconsult Consult Consult, Overige aantekeningen Consult, Overige aantekeningen Consult, Polikliniek: vervolgconsult Consult Consult, Polikliniek: vervolgconsult Consult, Overige aantekeningen Consult, Overige aantekeningen Consult, Polikliniek: eerste consult Consult, Samenvatting Poliklinische Brief Consult, Samenvatting Poliklinische Brief Consult, SEH Spoedeisende Hulp Consult, Samenvatting Poliklinische Brief Consult, Kliniek: vervolgconsult Consult, Kliniek: vervolgconsult Consult, Kliniek: vervolgconsult Consult, Samenvatting Poliklinische Brief Consult Consult, Kliniek: vervolgconsult Consult, Polikliniek: vervolgconsult Klinische Brief Consult, Polikliniek: vervolgconsult Consult, Polikliniek: vervolgconsult Poliklinische Brief Consult, Polikliniek: vervolgconsult Consult, Telefonisch consult Consult, Polikliniek: vervolgconsult Consult, Polikliniek: vervolgconsult Consult, Polikliniek: vervolgconsult Consult, Polikliniek: vervolgconsult Consult, Polikliniek: vervolgconsult Consult, Polikliniek: vervolgconsult Consult, Polikliniek: vervolgconsult Poliklinische Brief Consult, Polikliniek: vervolgconsult Consult, Polikliniek: vervolgconsult Consult, Polikliniek: vervolgconsult Consult, Telefonisch consult Poliklinische Brief Consult, Polikliniek: vervolgconsult Consult, Telefonisch consult Consult, Telefonisch consult Consult, Telefonisch consult Consult, Polikliniek: vervolgconsult Consult, Overige aantekeningen Consult, Overige aantekeningen Consult, Telefonisch consult Consult, Telefonisch consult Poliklinische Brief Consult, Telefonisch consult Poliklinische Brief Consult, Kliniek: eerste consult Consult, Kliniek: eerste consult Consult, Kliniek: vervolgconsult Consult, Intercollegiaal consult Consult, Kliniek: vervolgconsult Consult, Kliniek: vervolgconsult Consult, Kliniek: vervolgconsult Consult, Kliniek: vervolgconsult Poliklinische Brief Consult, Kliniek: vervolgconsult Consult, Kliniek: vervolgconsult Klinische Brief Consult, Kliniek: vervolgconsult Consult, Kliniek: vervolgconsult'\n",
      " 'Consult Consult Consult Consult, Polikliniek: vervolgconsult Consult Consult, Polikliniek: vervolgconsult Consult Consult Consult, Polikliniek: vervolgconsult Consult Consult Consult, Polikliniek: vervolgconsult Consult, Overige aantekeningen Consult, Overige aantekeningen Consult Consult Consult Consult Consult, Polikliniek: vervolgconsult Consult, Polikliniek: vervolgconsult Consult, Polikliniek: vervolgconsult Consult, Overige aantekeningen Consult, Polikliniek: vervolgconsult Consult Consult, Polikliniek: vervolgconsult Consult Consult, Polikliniek: vervolgconsult Consult Consult, Polikliniek: vervolgconsult Consult Consult Consult Consult, Polikliniek: vervolgconsult Consult, Polikliniek: vervolgconsult Consult Consult, Polikliniek: vervolgconsult Consult Consult Consult, Polikliniek: vervolgconsult Consult Consult Consult Consult Consult, Polikliniek: vervolgconsult Consult, SEH Consult, SEH Consult, SEH Consult, Kliniek: vervolgconsult Consult, Kliniek: vervolgconsult Consult, Kliniek: vervolgconsult Consult, Kliniek: vervolgconsult Consult, Kliniek: vervolgconsult Consult, Kliniek: vervolgconsult Consult, Kliniek: vervolgconsult Consult, Kliniek: vervolgconsult Consult, Kliniek: vervolgconsult Consult, Kliniek: vervolgconsult Consult, Kliniek: vervolgconsult Consult, Kliniek: vervolgconsult Consult, Kliniek: vervolgconsult Consult, Kliniek: vervolgconsult Consult, Kliniek: vervolgconsult Consult, Kliniek: vervolgconsult Consult, Kliniek: vervolgconsult Consult, Kliniek: vervolgconsult Consult, Kliniek: vervolgconsult Consult, Kliniek: vervolgconsult Consult, Kliniek: vervolgconsult Consult, Kliniek: vervolgconsult Consult, Kliniek: vervolgconsult Consult, Kliniek: vervolgconsult Consult, Kliniek: vervolgconsult Consult, Kliniek: vervolgconsult Consult, Kliniek: vervolgconsult Consult, Kliniek: vervolgconsult Consult, Kliniek: vervolgconsult Consult, Kliniek: vervolgconsult Consult, Kliniek: vervolgconsult Consult, Kliniek: vervolgconsult Consult, Overige aantekeningen Consult, Kliniek: vervolgconsult Consult, SEH Consult, SEH Consult, Kliniek: vervolgconsult Consult, Kliniek: vervolgconsult Consult, Kliniek: vervolgconsult Consult, Kliniek: vervolgconsult Consult, Kliniek: vervolgconsult Consult, Kliniek: vervolgconsult Consult, Polikliniek: vervolgconsult Consult Consult, Overige aantekeningen Consult, Polikliniek: vervolgconsult Consult Consult, Polikliniek: vervolgconsult Consult, Polikliniek: vervolgconsult Consult Consult, Polikliniek: vervolgconsult Consult, Multidisciplinair overleg Consult, Polikliniek: vervolgconsult Consult, Polikliniek: vervolgconsult Consult Consult Consult Consult Consult, Polikliniek: vervolgconsult Consult, Polikliniek: vervolgconsult Consult, SEH Consult, SEH Consult, Kliniek: vervolgconsult Consult Consult, SEH Consult, Kliniek: vervolgconsult Consult Consult, Kliniek: vervolgconsult Consult Consult, Kliniek: vervolgconsult Consult Consult, Polikliniek: vervolgconsult Consult Consult, Polikliniek: vervolgconsult Consult, SEH Consult, SEH Consult, SEH Consult, SEH Consult, SEH Consult, SEH Consult, Kliniek: eerste consult Consult, Kliniek: vervolgconsult Consult, Kliniek: vervolgconsult Consult, Polikliniek: vervolgconsult Consult, Kliniek: vervolgconsult Consult, Kliniek: vervolgconsult Consult, Kliniek: vervolgconsult Consult, Kliniek: vervolgconsult Consult, Kliniek: vervolgconsult Consult, Kliniek: vervolgconsult Consult, Kliniek: vervolgconsult Consult, Kliniek: vervolgconsult Consult, Polikliniek: vervolgconsult Consult, Polikliniek: vervolgconsult Consult, Multidisciplinair overleg Consult, Polikliniek: vervolgconsult Consult, Polikliniek: vervolgconsult Consult, Polikliniek: vervolgconsult Consult, SEH Consult, SEH Consult, SEH Consult, Kliniek: vervolgconsult Consult, Polikliniek: vervolgconsult Consult, Polikliniek: vervolgconsult Consult, SEH Consult, SEH Consult, SEH Consult, SEH Consult, SEH Consult, Kliniek: vervolgconsult Consult Consult Consult, Kliniek: vervolgconsult Consult Consult, Polikliniek: vervolgconsult Consult Consult, Polikliniek: vervolgconsult Consult, Overige aantekeningen Consult, Polikliniek: vervolgconsult Consult Consult, Polikliniek: vervolgconsult Consult Consult Consult Consult Consult Consult Consult Consult Consult Consult Consult Consult, Polikliniek: vervolgconsult Consult Consult Consult Consult Consult, Polikliniek: vervolgconsult Consult Consult Consult Consult Consult, Polikliniek: vervolgconsult Consult Consult Consult Consult Consult Consult Consult Consult Consult, Polikliniek: vervolgconsult Consult Consult Consult Consult Consult, Polikliniek: vervolgconsult Consult, Polikliniek: vervolgconsult Consult, Polikliniek: vervolgconsult Consult, Polikliniek: vervolgconsult Consult, Polikliniek: vervolgconsult Consult, Polikliniek: vervolgconsult Consult, Polikliniek: vervolgconsult Consult, Polikliniek: vervolgconsult Consult, Polikliniek: vervolgconsult Consult, Polikliniek: vervolgconsult Consult, Polikliniek: vervolgconsult Consult, SEH Consult, SEH Spoedeisende Hulp Consult, Kliniek: vervolgconsult Klinische Brief Consult, Kliniek: vervolgconsult Consult, Kliniek: vervolgconsult Consult, Kliniek: vervolgconsult Klinische Brief Consult, Polikliniek: vervolgconsult Consult, Polikliniek: vervolgconsult Consult, Polikliniek: vervolgconsult Consult, Polikliniek: vervolgconsult Consult, Polikliniek: vervolgconsult'\n",
      " 'Consult, SEH Consult, SEH Consult, Overige aantekeningen Consult, SEH Spoedeisende Hulp Spoedeisende Hulp Consult, Kliniek: vervolgconsult Poliklinische Brief Consult, Kliniek: vervolgconsult Poliklinische Brief Consult, Kliniek: vervolgconsult Klinische Brief Consult, Polikliniek: vervolgconsult Consult, Telefonisch consult Consult, Overige aantekeningen Consult, Polikliniek: vervolgconsult'\n",
      " 'Consult, SEH Consult, SEH Consult, Polikliniek: vervolgconsult Poliklinische Brief Poliklinische Brief Consult, Polikliniek: vervolgconsult Consult, Overige aantekeningen Consult, Polikliniek: vervolgconsult Consult, Polikliniek: eerste consult Algemeen Consult, Polikliniek: vervolgconsult Consult, Polikliniek: vervolgconsult Consult, Telefonisch consult Consult, Polikliniek: vervolgconsult Consult, Overige aantekeningen Poliklinische Brief Consult, Kliniek: vervolgconsult Consult, Kliniek: vervolgconsult Consult, Kliniek: vervolgconsult Consult, Kliniek: vervolgconsult Consult, Kliniek: vervolgconsult Consult, Kliniek: vervolgconsult Consult, SEH Spoedeisende Hulp Consult, Kliniek: vervolgconsult Poliklinische Brief Consult, Kliniek: vervolgconsult Consult, Kliniek: vervolgconsult Consult, Kliniek: vervolgconsult Klinische Brief Poliklinische Brief Consult, Kliniek: vervolgconsult Consult, Polikliniek: vervolgconsult Consult, Overige aantekeningen Consult, Overige aantekeningen Consult, Polikliniek: vervolgconsult Consult, Overige aantekeningen Consult, Polikliniek: vervolgconsult Consult, Overige aantekeningen Consult, Polikliniek: vervolgconsult Consult, Overige aantekeningen Consult, Overige aantekeningen Consult, Overige aantekeningen Consult, Polikliniek: vervolgconsult Consult, Telefonisch consult Consult, Kliniek: eerste consult Consult, Kliniek: vervolgconsult Consult, Kliniek: vervolgconsult Consult, Kliniek: vervolgconsult Consult, Kliniek: vervolgconsult Consult, Kliniek: vervolgconsult Consult, Kliniek: vervolgconsult Consult, Kliniek: vervolgconsult Klinische Brief Consult, Polikliniek: vervolgconsult Consult, Polikliniek: vervolgconsult Consult, Overige aantekeningen Consult, Overige aantekeningen Consult, Kliniek: eerste consult Consult, Dagbehandeling Consult, Kliniek: vervolgconsult Consult, Kliniek: vervolgconsult Consult, Kliniek: vervolgconsult Consult, Samenvatting Poliklinische Brief Consult, Kliniek: vervolgconsult Klinische Brief Poliklinische Brief Consult, Polikliniek: vervolgconsult Consult, Telefonisch consult Consult, Polikliniek: vervolgconsult Algemeen Poliklinische Brief Consult, Polikliniek: vervolgconsult Consult, Telefonisch consult Consult, Polikliniek: vervolgconsult Consult, Telefonisch consult Consult, Overige aantekeningen Consult, Telefonisch consult Consult, Telefonisch consult Poliklinische Brief Consult, Polikliniek: eerste consult Poliklinische Brief Consult, Polikliniek: vervolgconsult Consult, Overige aantekeningen Consult, Thuisbehandeling Consult, SEH Spoedeisende Hulp Consult, Kliniek: vervolgconsult Consult, Polikliniek: vervolgconsult Consult, Polikliniek: vervolgconsult Consult, Telefonisch consult Consult, Overige aantekeningen Consult, Polikliniek: eerste consult Consult, Polikliniek: vervolgconsult Consult, Polikliniek: vervolgconsult Consult, Polikliniek: vervolgconsult Consult, Polikliniek: vervolgconsult Consult, Polikliniek: vervolgconsult Poliklinische Brief Consult, Telefonisch consult Consult, Polikliniek: vervolgconsult Consult, Polikliniek: vervolgconsult Consult, SEH Spoedeisende Hulp Consult, Polikliniek: vervolgconsult Consult, Telefonisch consult Consult, Telefonisch consult Consult, Polikliniek: vervolgconsult Consult, Polikliniek: vervolgconsult Consult, SEH Spoedeisende Hulp Consult, Kliniek: vervolgconsult Consult, Kliniek: vervolgconsult Consult, Kliniek: vervolgconsult Consult, Kliniek: vervolgconsult Consult, Kliniek: vervolgconsult Consult, Kliniek: vervolgconsult Consult, Kliniek: vervolgconsult Consult, Kliniek: vervolgconsult Consult, Kliniek: vervolgconsult Klinische Brief Klinische Brief'\n",
      " 'Consult, SEH Consult, SEH Consult, SEH Consult, SEH Consult, SEH Consult, SEH Consult, SEH Consult, SEH Consult, Kliniek: eerste consult Consult, Kliniek: vervolgconsult Consult, Kliniek: vervolgconsult Consult, Kliniek: vervolgconsult Consult, Polikliniek: vervolgconsult Consult Consult Consult, Kliniek: vervolgconsult Consult, Polikliniek: eerste consult Consult, Kliniek: vervolgconsult Consult Consult Consult Consult, Overige aantekeningen Consult, Kliniek: vervolgconsult Consult Consult, Overige aantekeningen Consult, Kliniek: vervolgconsult Consult Consult, Kliniek: vervolgconsult Consult Consult, Kliniek: vervolgconsult Consult Consult, Polikliniek: vervolgconsult Consult, Overige aantekeningen Consult, Overige aantekeningen Consult Consult, Polikliniek: eerste consult Consult Consult, Kliniek: vervolgconsult Consult, Kliniek: vervolgconsult Consult, Kliniek: vervolgconsult Consult, Kliniek: vervolgconsult Consult, Kliniek: vervolgconsult Consult, Kliniek: vervolgconsult Consult, Polikliniek: eerste consult Consult, Polikliniek: vervolgconsult Consult, Overige aantekeningen Consult Consult Consult, Polikliniek: eerste consult Consult, SEH Consult, SEH Consult, SEH Consult, SEH Consult, Kliniek: eerste consult Consult, Kliniek: vervolgconsult Consult Consult Consult, Kliniek: vervolgconsult Consult, Kliniek: vervolgconsult Consult Consult, Kliniek: vervolgconsult Consult Consult, Kliniek: vervolgconsult Consult, Kliniek: vervolgconsult Consult, Polikliniek: eerste consult Consult Consult, Overige aantekeningen Consult, Polikliniek: vervolgconsult Consult, Kliniek: vervolgconsult Consult Consult, Kliniek: vervolgconsult Consult Consult, Polikliniek: vervolgconsult Consult, Polikliniek: vervolgconsult Consult, Overige aantekeningen Consult, Overige aantekeningen Consult, Overige aantekeningen Consult, Polikliniek: vervolgconsult Consult, Polikliniek: vervolgconsult Consult, Overige aantekeningen Consult, SEH Consult, Polikliniek: vervolgconsult Consult, Overige aantekeningen Consult, Polikliniek: vervolgconsult Consult, Overige aantekeningen Consult, Polikliniek: vervolgconsult Consult, Polikliniek: vervolgconsult Consult, Polikliniek: vervolgconsult Consult, Overige aantekeningen Consult, Polikliniek: vervolgconsult Consult, Overige aantekeningen Consult, Polikliniek: vervolgconsult Consult, Overige aantekeningen Consult, Overige aantekeningen Consult Consult, Polikliniek: vervolgconsult Consult Consult, Overige aantekeningen Consult, Overige aantekeningen Consult, Overige aantekeningen Consult, Kliniek: vervolgconsult Consult Consult, Overige aantekeningen Consult, Kliniek: vervolgconsult Consult Consult, Overige aantekeningen Consult, Overige aantekeningen Consult Consult, Overige aantekeningen Consult, Polikliniek: vervolgconsult Consult Consult Consult, Polikliniek: vervolgconsult Consult, Polikliniek: vervolgconsult Poliklinische Brief Consult, Polikliniek: vervolgconsult Consult, Polikliniek: vervolgconsult Consult, Overige aantekeningen Consult, Overige aantekeningen Consult, Kliniek: vervolgconsult Consult, Dagbehandeling Consult, Polikliniek: vervolgconsult Consult, Polikliniek: vervolgconsult Consult, Polikliniek: vervolgconsult Consult, Overige aantekeningen Consult, Overige aantekeningen Consult, Overige aantekeningen Consult, SEH Consult, Kliniek: vervolgconsult Klinische Brief Spoedeisende Hulp Consult, Kliniek: vervolgconsult Consult, SEH Spoedeisende Hulp Consult, Kliniek: eerste consult Consult, Kliniek: vervolgconsult Klinische Brief Consult, Polikliniek: vervolgconsult Poliklinische Brief Consult, SEH Consult, SEH Consult, Kliniek: vervolgconsult Consult, Kliniek: vervolgconsult'\n",
      " 'Consult Consult, Polikliniek: vervolgconsult Consult Consult, Polikliniek: vervolgconsult Consult Consult, Polikliniek: vervolgconsult Consult Consult, Polikliniek: vervolgconsult Consult Consult, Polikliniek: vervolgconsult Consult Consult, Polikliniek: vervolgconsult Consult, Polikliniek: vervolgconsult Consult Consult, Overige aantekeningen Consult, Overige aantekeningen Consult, Polikliniek: vervolgconsult Consult Consult, Overige aantekeningen Consult, Polikliniek: vervolgconsult Consult Consult, SEH Consult, SEH Consult, Kliniek: eerste consult Consult, Kliniek: vervolgconsult Consult Consult, Kliniek: vervolgconsult Consult Consult, Overige aantekeningen Consult, Polikliniek: vervolgconsult Consult Consult, Polikliniek: eerste consult Consult Consult Consult Consult Consult, Polikliniek: vervolgconsult Consult, SEH Spoedeisende Hulp Poliklinische Brief Consult, Kliniek: vervolgconsult Klinische Brief Consult, Kliniek: vervolgconsult Consult, Kliniek: vervolgconsult Consult, Polikliniek: vervolgconsult Consult, SEH Consult, SEH Poliklinische Brief Consult, SEH Spoedeisende Hulp Consult, Kliniek: vervolgconsult Consult, Kliniek: vervolgconsult Consult, Kliniek: vervolgconsult Consult, Kliniek: vervolgconsult Consult, Kliniek: vervolgconsult Klinische Brief Consult, Kliniek: vervolgconsult Consult, Kliniek: vervolgconsult Poliklinische Brief Consult, Kliniek: vervolgconsult Consult, Kliniek: vervolgconsult Consult, Kliniek: vervolgconsult Consult, Kliniek: vervolgconsult Consult, Kliniek: vervolgconsult Consult, Kliniek: vervolgconsult Consult, Kliniek: vervolgconsult Consult Consult, Kliniek: vervolgconsult Consult, Kliniek: vervolgconsult Consult, Polikliniek: vervolgconsult Consult, Polikliniek: vervolgconsult Consult, SEH Consult, SEH Consult, SEH Consult, Polikliniek: vervolgconsult Poliklinische Brief Consult, Polikliniek: vervolgconsult Consult, Overige aantekeningen Consult, Polikliniek: eerste consult Poliklinische Brief Poliklinische Brief Consult, Polikliniek: vervolgconsult Poliklinische Brief'\n",
      " 'Consult, SEH Spoedeisende Hulp Consult, Samenvatting Poliklinische Brief Consult Consult, Kliniek: vervolgconsult Consult, Kliniek: vervolgconsult Consult, Kliniek: vervolgconsult Consult, Samenvatting Poliklinische Brief Consult, Samenvatting Poliklinische Brief Consult, Kliniek: vervolgconsult Consult, Kliniek: vervolgconsult Consult Consult, Kliniek: vervolgconsult Klinische Brief Consult, Kliniek: vervolgconsult Consult, Kliniek: vervolgconsult Consult, Kliniek: vervolgconsult Consult, Kliniek: vervolgconsult Consult, Kliniek: vervolgconsult Klinische Brief'\n",
      " 'Consult, SEH Consult, SEH Consult, Overige aantekeningen Consult, SEH Consult, SEH Consult, SEH Consult, SEH Consult, SEH Consult, SEH Consult, SEH Consult, SEH Consult, SEH Consult, SEH Consult, Overige aantekeningen Consult, SEH Consult, SEH Spoedeisende Hulp Spoedeisende Hulp Consult, SEH Consult, SEH Spoedeisende Hulp Consult, Kliniek: eerste consult Consult, Kliniek: vervolgconsult Poliklinische Brief Klinische Brief Consult, Polikliniek: eerste consult Consult, Polikliniek: vervolgconsult'\n",
      " 'Consult, SEH Consult, SEH Consult, SEH Consult, SEH Consult, SEH Consult, SEH Consult, Polikliniek: vervolgconsult Poliklinische Brief Consult, SEH Spoedeisende Hulp Consult, SEH Consult, Polikliniek: eerste consult Consult, Polikliniek: vervolgconsult Poliklinische Brief Poliklinische Brief Consult, Telefonisch consult Poliklinische Brief Poliklinische Brief Consult, SEH Spoedeisende Hulp Consult, Overige aantekeningen Consult, Telefonisch consult Consult, Overige aantekeningen Consult, Polikliniek: vervolgconsult Consult, SEH Consult, SEH Spoedeisende Hulp Consult Consult, Kliniek: vervolgconsult Consult Consult, Kliniek: vervolgconsult Consult, Kliniek: vervolgconsult Klinische Brief Klinische Brief Algemeen Consult, Kliniek: vervolgconsult Consult, Kliniek: vervolgconsult Consult, Kliniek: vervolgconsult Poliklinische Brief Poliklinische Brief Consult, Telefonisch consult Consult, Polikliniek: vervolgconsult Poliklinische Brief Consult, Telefonisch consult Consult, SEH Consult, SEH Consult, SEH Spoedeisende Hulp Consult, SEH Consult, Overige aantekeningen Poliklinische Brief Consult, Overige aantekeningen Consult, Overige aantekeningen Consult, Kliniek: eerste consult Consult, Kliniek: vervolgconsult Consult, Kliniek: vervolgconsult Klinische Brief Consult, Telefonisch consult Poliklinische Brief Consult, Polikliniek: vervolgconsult Consult, Telefonisch consult Consult, Telefonisch consult'\n",
      " 'Consult, SEH Consult, SEH Consult, Polikliniek: eerste consult Consult Consult, Polikliniek: vervolgconsult Consult Consult, Polikliniek: vervolgconsult Consult Consult, Polikliniek: vervolgconsult Consult Consult, Polikliniek: vervolgconsult Consult, Polikliniek: vervolgconsult Consult Consult, SEH Consult, SEH Consult Consult, Kliniek: eerste consult Consult, Overige aantekeningen Consult, SEH Consult, SEH Consult, SEH Consult, SEH Consult, SEH Consult, SEH Consult, Kliniek: eerste consult Consult, Kliniek: vervolgconsult Consult, Kliniek: vervolgconsult Consult, Kliniek: vervolgconsult Consult, Kliniek: vervolgconsult Consult, SEH Consult Consult, Kliniek: vervolgconsult Consult, Kliniek: vervolgconsult Consult, Kliniek: vervolgconsult Consult, Kliniek: vervolgconsult Consult, Polikliniek: vervolgconsult Consult, Overige aantekeningen Poliklinische Brief Poliklinische Brief Consult, Overige aantekeningen Consult Consult, Polikliniek: vervolgconsult Consult, Polikliniek: vervolgconsult Consult, Polikliniek: vervolgconsult Consult, Polikliniek: vervolgconsult Poliklinische Brief Consult, SEH Spoedeisende Hulp Consult, Kliniek: vervolgconsult Consult, Kliniek: vervolgconsult Consult, Kliniek: vervolgconsult Klinische Brief Klinische Brief Consult, Polikliniek: vervolgconsult Consult, Overige aantekeningen Consult, Polikliniek: vervolgconsult'\n",
      " 'Consult, SEH Consult, SEH Consult, SEH Consult, SEH Consult, SEH Consult, SEH Consult, SEH Consult, SEH Consult, SEH Consult, Kliniek: eerste consult Consult, Kliniek: vervolgconsult Consult, Kliniek: vervolgconsult Consult, Kliniek: vervolgconsult Consult, Kliniek: vervolgconsult Consult, Kliniek: vervolgconsult Consult, Kliniek: vervolgconsult Consult, Kliniek: vervolgconsult Consult, Kliniek: vervolgconsult Consult, Kliniek: vervolgconsult Consult, Kliniek: vervolgconsult Consult, Kliniek: vervolgconsult Consult, Overige aantekeningen Consult, Kliniek: vervolgconsult Consult, Overige aantekeningen Consult, SEH Consult, SEH Consult, SEH Consult, SEH Consult, SEH Consult, Kliniek: eerste consult Consult, Kliniek: vervolgconsult Consult, Kliniek: vervolgconsult Consult, Kliniek: vervolgconsult Consult, Kliniek: vervolgconsult Consult, Kliniek: vervolgconsult Consult, Kliniek: vervolgconsult Consult, Kliniek: vervolgconsult Consult Consult, Overige aantekeningen Consult Consult, Overige aantekeningen Consult, Polikliniek: vervolgconsult Consult Consult, Polikliniek: vervolgconsult Consult Consult, Polikliniek: vervolgconsult Consult, Overige aantekeningen Consult, Polikliniek: vervolgconsult Consult, Polikliniek: vervolgconsult Consult, Polikliniek: vervolgconsult Consult Consult, SEH Consult, SEH Consult, Kliniek: eerste consult Consult, Kliniek: vervolgconsult Consult, Kliniek: vervolgconsult Consult, Polikliniek: vervolgconsult Consult, Overige aantekeningen Consult, Polikliniek: vervolgconsult Poliklinische Brief Consult, Overige aantekeningen Consult, Polikliniek: vervolgconsult Consult, Overige aantekeningen Consult, Polikliniek: vervolgconsult Consult, Polikliniek: vervolgconsult Consult, Polikliniek: vervolgconsult Consult, SEH Spoedeisende Hulp Consult Consult Consult, Kliniek: vervolgconsult Consult, Kliniek: vervolgconsult Consult, Kliniek: vervolgconsult Consult, Kliniek: vervolgconsult Consult, Kliniek: vervolgconsult Consult, Kliniek: vervolgconsult Consult, Kliniek: vervolgconsult Consult, Kliniek: vervolgconsult Consult, Kliniek: vervolgconsult Klinische Brief Consult, Kliniek: vervolgconsult Consult Consult Consult, Kliniek: vervolgconsult Consult, Kliniek: vervolgconsult Consult, Kliniek: vervolgconsult Radiologieverslag, CT colonografie Consult, Polikliniek: vervolgconsult Consult, Polikliniek: vervolgconsult Consult, SEH Spoedeisende Hulp Consult, Kliniek: vervolgconsult Klinische Brief Consult, Kliniek: vervolgconsult Consult Consult, Kliniek: vervolgconsult Consult, Kliniek: vervolgconsult Consult, Kliniek: vervolgconsult Consult, Kliniek: vervolgconsult Consult, Kliniek: vervolgconsult Consult, Polikliniek: vervolgconsult Klinische Brief Consult, Polikliniek: vervolgconsult Consult, Polikliniek: vervolgconsult'\n",
      " 'Consult, SEH Consult, SEH Consult, SEH Consult Consult Consult, Kliniek: eerste consult Consult, Kliniek: vervolgconsult Consult Consult Consult, Kliniek: vervolgconsult Consult Consult Consult, Kliniek: vervolgconsult Consult Consult, Kliniek: vervolgconsult Consult Consult, Polikliniek: vervolgconsult Consult Consult, Polikliniek: vervolgconsult Consult Consult Consult Consult, Polikliniek: vervolgconsult Consult Consult, Overige aantekeningen Consult, Overige aantekeningen Consult, SEH Consult, SEH Consult, SEH Consult, Kliniek: eerste consult Consult, Kliniek: vervolgconsult Consult Consult, Polikliniek: vervolgconsult Consult, Telefonisch consult Consult, Telefonisch consult Consult, Polikliniek: vervolgconsult Consult, Polikliniek: vervolgconsult Consult, SEH Spoedeisende Hulp Consult, Kliniek: vervolgconsult Consult, Kliniek: vervolgconsult Consult, Kliniek: vervolgconsult Poliklinische Brief Consult, Kliniek: vervolgconsult Consult, Kliniek: vervolgconsult Consult, Kliniek: vervolgconsult Consult, Kliniek: vervolgconsult Consult, Kliniek: vervolgconsult Consult, Kliniek: vervolgconsult Consult, Overige aantekeningen Consult, Kliniek: vervolgconsult Consult, Kliniek: vervolgconsult Consult, Kliniek: vervolgconsult Klinische Brief Consult, Kliniek: vervolgconsult Poliklinische Brief Consult, Overige aantekeningen Consult, Kliniek: vervolgconsult Consult, Kliniek: vervolgconsult Consult, Kliniek: vervolgconsult Consult, Kliniek: vervolgconsult Klinische Brief Consult, Polikliniek: vervolgconsult Consult, Polikliniek: vervolgconsult Consult, Polikliniek: vervolgconsult Consult, Polikliniek: vervolgconsult Consult, SEH Spoedeisende Hulp Consult, Kliniek: vervolgconsult Consult, Kliniek: vervolgconsult Klinische Brief Consult, Kliniek: vervolgconsult Consult, Polikliniek: vervolgconsult Consult, Overige aantekeningen Consult, Polikliniek: vervolgconsult Consult, Polikliniek: vervolgconsult Consult, Polikliniek: vervolgconsult Consult, Polikliniek: vervolgconsult Consult, Telefonisch consult Consult, Polikliniek: vervolgconsult Consult, Telefonisch consult Consult, Telefonisch consult Consult, Polikliniek: vervolgconsult Consult, Polikliniek: vervolgconsult Consult, Telefonisch consult Consult, Polikliniek: vervolgconsult Consult, Polikliniek: vervolgconsult Consult, Polikliniek: vervolgconsult Consult, SEH Consult, Kliniek: vervolgconsult Consult, Kliniek: vervolgconsult Consult, Kliniek: vervolgconsult Consult, Polikliniek: vervolgconsult Consult, Polikliniek: vervolgconsult Consult, Polikliniek: vervolgconsult Consult, Polikliniek: vervolgconsult Consult, Polikliniek: vervolgconsult Consult, Polikliniek: vervolgconsult Consult, Polikliniek: vervolgconsult Consult, Telefonisch consult Consult, Polikliniek: vervolgconsult Consult, Overige aantekeningen Consult, Telefonisch consult Consult, Telefonisch consult Consult, Overige aantekeningen Consult, Polikliniek: vervolgconsult Consult, Telefonisch consult Consult, Telefonisch consult Consult, Telefonisch consult Consult, Telefonisch consult Consult, Telefonisch consult Consult, Polikliniek: vervolgconsult Consult, Telefonisch consult Consult, Overige aantekeningen Consult, Telefonisch consult Consult, Telefonisch consult Consult, Telefonisch consult Consult, Telefonisch consult Consult, Telefonisch consult Consult, Telefonisch consult Consult, Telefonisch consult Consult, Telefonisch consult Consult, Telefonisch consult Consult, Telefonisch consult Consult, Telefonisch consult Consult, SEH Consult, Telefonisch consult Consult, Telefonisch consult Consult, Polikliniek: vervolgconsult Consult, Telefonisch consult Consult, Kliniek: eerste consult Consult, Intercollegiaal consult Consult, Telefonisch consult Consult, Kliniek: eerste consult Consult, Telefonisch consult Poliklinische Brief Consult, Polikliniek: vervolgconsult Consult, Polikliniek: vervolgconsult Consult, Kliniek: eerste consult Consult, Kliniek: vervolgconsult Poliklinische Brief Consult, Telefonisch consult Consult, Telefonisch consult Klinische Brief Consult, Telefonisch consult Consult, Overige aantekeningen Consult, Telefonisch consult Consult, Overige aantekeningen Consult, Telefonisch consult Consult, Overige aantekeningen Consult, Telefonisch consult Consult, Telefonisch consult Consult, Kliniek: eerste consult'\n",
      " 'Consult, SEH Consult, SEH Consult, SEH Spoedeisende Hulp Consult, Kliniek: vervolgconsult Consult, Kliniek: vervolgconsult Consult, Samenvatting Poliklinische Brief Consult Consult, Kliniek: vervolgconsult Consult, Samenvatting Poliklinische Brief Consult, Kliniek: vervolgconsult Consult, Kliniek: vervolgconsult Poliklinische Brief Consult, Kliniek: vervolgconsult Consult, Kliniek: vervolgconsult Poliklinische Brief Consult, Kliniek: vervolgconsult Klinische Brief Consult, Kliniek: vervolgconsult Consult, Polikliniek: vervolgconsult Poliklinische Brief Consult, Polikliniek: eerste consult Poliklinische Brief Consult, Polikliniek: vervolgconsult Consult, Telefonisch consult Poliklinische Brief Consult, Polikliniek: vervolgconsult Consult, SEH Spoedeisende Hulp Consult, Kliniek: vervolgconsult Consult, Kliniek: vervolgconsult Consult, Kliniek: vervolgconsult Consult, Kliniek: vervolgconsult Consult, Kliniek: vervolgconsult Consult, Kliniek: vervolgconsult Klinische Brief Consult, Kliniek: vervolgconsult Consult, Kliniek: vervolgconsult Consult, Kliniek: vervolgconsult Consult, Kliniek: vervolgconsult Consult, Kliniek: vervolgconsult Consult, Kliniek: vervolgconsult Consult, Kliniek: vervolgconsult Consult, Kliniek: vervolgconsult Consult, Kliniek: vervolgconsult Consult, Polikliniek: vervolgconsult Poliklinische Brief Consult, Polikliniek: vervolgconsult'\n",
      " 'Consult, SEH Consult, SEH Consult, SEH Consult, SEH Consult, Polikliniek: vervolgconsult Consult, Overige aantekeningen Consult, Polikliniek: eerste consult Consult Consult Consult, Polikliniek: vervolgconsult Consult, SEH Consult, SEH Consult, Kliniek: eerste consult Consult, Kliniek: vervolgconsult Consult Consult, Polikliniek: vervolgconsult Consult, Kliniek: eerste consult Consult, Kliniek: vervolgconsult Consult, Kliniek: vervolgconsult Consult, Kliniek: vervolgconsult Consult, Kliniek: vervolgconsult Consult, Polikliniek: vervolgconsult Consult Consult, SEH Consult, SEH Consult, Polikliniek: vervolgconsult Consult, Polikliniek: vervolgconsult Consult Consult, Polikliniek: vervolgconsult Consult Consult Consult, Kliniek: vervolgconsult Consult Consult, Kliniek: vervolgconsult Consult Consult, Kliniek: vervolgconsult Consult Consult, Polikliniek: vervolgconsult Consult, SEH Consult, SEH Consult, Kliniek: eerste consult Consult Consult, SEH Consult, SEH Consult, Kliniek: eerste consult Consult, Kliniek: vervolgconsult Consult Consult, Kliniek: vervolgconsult Consult Consult, Kliniek: vervolgconsult Consult Consult, Polikliniek: vervolgconsult Consult Consult, SEH Consult, SEH Consult, SEH Consult, SEH Consult, SEH Consult, SEH Consult, Kliniek: eerste consult Consult, Kliniek: vervolgconsult Consult, Kliniek: vervolgconsult Consult Consult Consult, Kliniek: vervolgconsult Consult, Kliniek: vervolgconsult Consult, Kliniek: vervolgconsult Consult Consult Consult, Kliniek: vervolgconsult Consult Consult, Kliniek: vervolgconsult Consult, Kliniek: vervolgconsult Consult, Kliniek: vervolgconsult Consult, Polikliniek: vervolgconsult Consult, SEH Spoedeisende Hulp Consult, Kliniek: vervolgconsult Consult, Kliniek: vervolgconsult Klinische Brief Consult, Kliniek: vervolgconsult Consult Consult, Kliniek: vervolgconsult Consult, Kliniek: vervolgconsult Consult Poliklinische Brief Consult, Kliniek: vervolgconsult Consult, Polikliniek: vervolgconsult Poliklinische Brief Consult, Polikliniek: vervolgconsult Consult, SEH Consult, SEH Spoedeisende Hulp Consult, Kliniek: vervolgconsult Consult, Kliniek: vervolgconsult Consult, Kliniek: vervolgconsult Klinische Brief Consult, Kliniek: vervolgconsult Consult, Kliniek: vervolgconsult Klinische Brief Consult, Kliniek: vervolgconsult Klinische Brief Consult, SEH Consult, SEH Consult, SEH Consult, SEH'\n",
      " 'Consult, Polikliniek: vervolgconsult Consult, Polikliniek: eerste consult Consult, SEH Consult, Polikliniek: vervolgconsult Consult, Kliniek: vervolgconsult Consult, Kliniek: vervolgconsult Poliklinische Brief Poliklinische Brief Consult, Kliniek: vervolgconsult Consult, Kliniek: vervolgconsult Consult, Kliniek: vervolgconsult Consult, Polikliniek: vervolgconsult Poliklinische Brief Consult, SEH Consult, Kliniek: eerste consult Spoedeisende Hulp Consult, Kliniek: vervolgconsult Consult, Kliniek: vervolgconsult Klinische Brief Klinische Brief Consult, SEH Poliklinische Brief'\n",
      " 'Consult, SEH Consult, SEH Consult, SEH Consult, SEH Consult, SEH Consult, SEH Consult, SEH Consult, SEH Consult, SEH Consult, SEH Consult, SEH Consult, SEH Consult, SEH Consult, SEH Consult, SEH Consult, SEH Consult Consult Consult, Polikliniek: vervolgconsult Consult Consult, SEH Consult, SEH Consult, SEH Consult, SEH Consult, SEH Consult, SEH Consult, SEH Consult, SEH Consult, SEH Consult, SEH Consult, SEH Consult, SEH Consult, Polikliniek: vervolgconsult Consult Consult, Overige aantekeningen Consult, SEH Consult, SEH Consult, SEH Consult, SEH Consult, SEH Consult, SEH Consult, SEH Consult, SEH Consult, Kliniek: eerste consult Consult, SEH Consult, SEH Consult, Kliniek: eerste consult Consult, Kliniek: vervolgconsult Consult Consult, Kliniek: vervolgconsult Consult Consult, Kliniek: vervolgconsult Consult Consult Consult, Kliniek: vervolgconsult Consult Consult, Kliniek: vervolgconsult Consult Consult Consult, SEH Consult, SEH Consult, SEH Consult, SEH Consult, SEH Consult, SEH Consult, SEH Consult, Polikliniek: vervolgconsult Poliklinische Brief Poliklinische Brief Consult, SEH Consult, SEH Consult Consult Consult, Kliniek: vervolgconsult Consult, Kliniek: vervolgconsult Consult, Kliniek: vervolgconsult Consult, Kliniek: vervolgconsult Consult, Kliniek: vervolgconsult Consult, Kliniek: vervolgconsult Consult, Kliniek: vervolgconsult Consult, Kliniek: vervolgconsult Consult, SEH Consult, Kliniek: vervolgconsult Consult, SEH'\n",
      " 'Consult, SEH Consult, SEH Consult, SEH Consult, SEH Consult, SEH Consult, SEH Consult Consult, Kliniek: vervolgconsult Consult Consult Consult Consult, Kliniek: eerste consult Consult, Kliniek: vervolgconsult Consult Consult Consult, Polikliniek: vervolgconsult Consult Consult Consult Consult, Polikliniek: vervolgconsult Consult Consult, Polikliniek: vervolgconsult Consult, Overige aantekeningen Consult, Polikliniek: eerste consult Consult, Overige aantekeningen Consult, SEH Poliklinische Brief Consult, SEH'\n",
      " 'Consult, Polikliniek: eerste consult Consult Consult, Polikliniek: eerste consult Consult Consult Consult Consult, Polikliniek: vervolgconsult Consult Consult Consult, Polikliniek: vervolgconsult Consult Consult, Polikliniek: vervolgconsult Consult Consult, SEH Consult, SEH Consult, Overige aantekeningen Consult Consult Consult, Polikliniek: vervolgconsult Consult, Polikliniek: vervolgconsult Consult Consult, Overige aantekeningen Consult, Polikliniek: vervolgconsult Consult Consult, Polikliniek: vervolgconsult Consult Consult, Polikliniek: vervolgconsult Consult, Polikliniek: vervolgconsult Consult Consult, Polikliniek: vervolgconsult Consult Consult, Polikliniek: vervolgconsult Consult Consult, Polikliniek: vervolgconsult Consult Consult, Overige aantekeningen Consult, Polikliniek: vervolgconsult Consult Consult, Polikliniek: eerste consult Consult Consult, Polikliniek: vervolgconsult Consult Consult, Polikliniek: vervolgconsult Consult Consult, Polikliniek: vervolgconsult Consult, Overige aantekeningen Poliklinische Brief Consult, Overige aantekeningen Consult, Polikliniek: vervolgconsult Consult, Overige aantekeningen Consult, Polikliniek: vervolgconsult Consult, Polikliniek: vervolgconsult Consult, Polikliniek: vervolgconsult Consult, Polikliniek: vervolgconsult Consult, SEH Spoedeisende Hulp Consult, Kliniek: vervolgconsult Klinische Brief Consult, Polikliniek: vervolgconsult Consult, Polikliniek: vervolgconsult Consult, Telefonisch consult Consult, Polikliniek: vervolgconsult Consult, Polikliniek: vervolgconsult Poliklinische Brief Consult, Polikliniek: vervolgconsult Consult, Polikliniek: vervolgconsult Consult, Telefonisch consult Consult, Telefonisch consult Consult, Overige aantekeningen Consult, Polikliniek: vervolgconsult Poliklinische Brief Consult, Polikliniek: vervolgconsult Consult, Polikliniek: vervolgconsult Consult, Polikliniek: vervolgconsult Consult, Polikliniek: vervolgconsult Consult, Polikliniek: vervolgconsult Consult, Polikliniek: vervolgconsult Poliklinische Brief Consult, Polikliniek: vervolgconsult Consult, Telefonisch consult Consult, Polikliniek: vervolgconsult Consult, Polikliniek: vervolgconsult Consult, Telefonisch consult Consult, Overige aantekeningen Consult, Polikliniek: vervolgconsult Poliklinische Brief Consult, Polikliniek: vervolgconsult Consult, Kliniek: vervolgconsult Consult, Overige aantekeningen Consult, Polikliniek: vervolgconsult Consult, Overige aantekeningen Consult, Polikliniek: vervolgconsult Consult, Overige aantekeningen Consult, Telefonisch consult Consult, Polikliniek: vervolgconsult Consult, Polikliniek: vervolgconsult Consult, Overige aantekeningen Consult, Telefonisch consult Consult, Telefonisch consult Consult, Polikliniek: vervolgconsult Poliklinische Brief Consult, Telefonisch consult Consult, Polikliniek: vervolgconsult Consult, Telefonisch consult Consult, Overige aantekeningen Consult, Polikliniek: vervolgconsult Consult, Telefonisch consult Consult, Telefonisch consult Consult, Overige aantekeningen Poliklinische Brief Consult, Polikliniek: vervolgconsult Consult, Polikliniek: vervolgconsult Consult, Telefonisch consult Consult, Telefonisch consult Consult, Polikliniek: vervolgconsult Consult, Telefonisch consult Consult, Overige aantekeningen Consult, Telefonisch consult Consult, Telefonisch consult Consult, Overige aantekeningen Consult Consult, Telefonisch consult Consult, Telefonisch consult Consult, Telefonisch consult Consult, Telefonisch consult Consult, Telefonisch consult Consult, Overige aantekeningen Consult, Thuisbehandeling Consult, Polikliniek: vervolgconsult Consult, Polikliniek: vervolgconsult Consult, Telefonisch consult Consult, Polikliniek: vervolgconsult Consult, Telefonisch consult Consult, Polikliniek: vervolgconsult Consult, Polikliniek: vervolgconsult Consult, Polikliniek: vervolgconsult Consult, Polikliniek: vervolgconsult Consult, Telefonisch consult Consult, Polikliniek: vervolgconsult Consult, Telefonisch consult Poliklinische Brief Consult, Polikliniek: vervolgconsult Consult, Overige aantekeningen Consult, Polikliniek: vervolgconsult Consult, Telefonisch consult Consult, Telefonisch consult Poliklinische Brief Consult, Telefonisch consult Consult, Telefonisch consult Consult, Telefonisch consult Poliklinische Brief Consult, Polikliniek: vervolgconsult Consult, Polikliniek: vervolgconsult Consult, Polikliniek: vervolgconsult Consult, Polikliniek: vervolgconsult Consult, Overige aantekeningen Consult, Polikliniek: vervolgconsult Consult, Polikliniek: vervolgconsult Poliklinische Brief Consult, Polikliniek: vervolgconsult Poliklinische Brief Poliklinische Brief Poliklinische Brief Consult, Telefonisch consult Consult, Overige aantekeningen Consult, Telefonisch consult Consult, Telefonisch consult Consult, Telefonisch consult Consult, Polikliniek: vervolgconsult Consult, SEH Consult, SEH Consult, Telefonisch consult Consult, Telefonisch consult Consult, Telefonisch consult Consult, Polikliniek: vervolgconsult Consult, Telefonisch consult Consult, Telefonisch consult Consult, Telefonisch consult Consult, Polikliniek: vervolgconsult Poliklinische Brief Consult, Telefonisch consult Consult, Polikliniek: vervolgconsult Consult, Telefonisch consult'\n",
      " 'Consult, SEH Consult, SEH Consult, SEH Consult Consult Consult, Polikliniek: eerste consult Consult, SEH Spoedeisende Hulp Consult, Kliniek: vervolgconsult Consult, Kliniek: vervolgconsult Poliklinische Brief Poliklinische Brief Consult, Kliniek: vervolgconsult Klinische Brief Consult, Telefonisch consult Poliklinische Brief Consult, Telefonisch consult Poliklinische Brief Consult, Polikliniek: vervolgconsult Consult, Kliniek: eerste consult Poliklinische Brief Consult, Kliniek: eerste consult Consult, Kliniek: vervolgconsult Klinische Brief Consult, Polikliniek: vervolgconsult Consult, SEH Consult, SEH Consult, Kliniek: eerste consult Consult, Kliniek: vervolgconsult Poliklinische Brief Klinische Brief Consult, Kliniek: vervolgconsult Spoedeisende Hulp Consult, SEH Consult, SEH Spoedeisende Hulp Consult, Telefonisch consult Consult, Polikliniek: vervolgconsult Consult, Telefonisch consult Poliklinische Brief'\n",
      " 'Consult, SEH Consult, SEH Consult, Overige aantekeningen Consult Consult Consult, Polikliniek: vervolgconsult Consult Consult, Polikliniek: vervolgconsult Consult Consult, Overige aantekeningen Consult, Polikliniek: vervolgconsult Consult Consult, Overige aantekeningen Consult, Polikliniek: vervolgconsult Consult Consult Consult Consult, Overige aantekeningen Consult, Kliniek: vervolgconsult Consult, Polikliniek: vervolgconsult Consult Consult, Polikliniek: vervolgconsult Consult, Overige aantekeningen Consult, Overige aantekeningen Consult, Polikliniek: vervolgconsult Consult Consult, Overige aantekeningen Consult, Polikliniek: vervolgconsult Consult Consult, Polikliniek: vervolgconsult Consult Consult, Polikliniek: vervolgconsult Consult Consult, Kliniek: vervolgconsult Consult, Polikliniek: vervolgconsult Consult Consult, Polikliniek: vervolgconsult Consult Consult, Polikliniek: vervolgconsult Consult, Polikliniek: vervolgconsult Consult, SEH Consult, Polikliniek: vervolgconsult Poliklinische Brief Consult, Telefonisch consult Consult, Polikliniek: vervolgconsult Consult, Telefonisch consult Consult, Telefonisch consult Consult, Polikliniek: vervolgconsult Consult, Telefonisch consult Consult, Polikliniek: vervolgconsult Consult, Telefonisch consult Consult, Telefonisch consult Consult, Telefonisch consult Consult, Polikliniek: vervolgconsult Poliklinische Brief Consult, Polikliniek: vervolgconsult Consult, Polikliniek: vervolgconsult Consult, Overige aantekeningen Consult Consult, Telefonisch consult Consult, Telefonisch consult Consult, Polikliniek: vervolgconsult Consult, Polikliniek: vervolgconsult Consult, Overige aantekeningen Consult, Polikliniek: vervolgconsult Consult, Polikliniek: vervolgconsult Consult Consult, Telefonisch consult Consult, Telefonisch consult Consult Consult, Polikliniek: vervolgconsult Consult, SEH Spoedeisende Hulp Spoedeisende Hulp Consult, Kliniek: vervolgconsult Klinische Brief Consult, Polikliniek: vervolgconsult Consult, Polikliniek: vervolgconsult Consult, Polikliniek: vervolgconsult Consult, Overige aantekeningen Consult, Overige aantekeningen Consult, Telefonisch consult Consult Consult, Telefonisch consult Consult Consult, Polikliniek: vervolgconsult Consult, Polikliniek: vervolgconsult Consult, Telefonisch consult Consult, Polikliniek: vervolgconsult Consult, Polikliniek: vervolgconsult Consult, Overige aantekeningen Consult, Polikliniek: vervolgconsult Consult, Polikliniek: vervolgconsult Consult, Overige aantekeningen Consult Consult, Polikliniek: vervolgconsult Consult, Telefonisch consult Consult, Telefonisch consult Consult, Telefonisch consult Consult Consult, Telefonisch consult Consult Consult, Telefonisch consult Consult Consult, Polikliniek: vervolgconsult Consult, Telefonisch consult Consult Consult, Polikliniek: vervolgconsult Consult, Polikliniek: vervolgconsult Consult, Polikliniek: vervolgconsult Consult Consult, Polikliniek: vervolgconsult Consult, Polikliniek: vervolgconsult Consult, Polikliniek: vervolgconsult Poliklinische Brief Consult, Polikliniek: vervolgconsult Consult, Telefonisch consult Consult, Kliniek: vervolgconsult Consult, Kliniek: vervolgconsult Consult, Telefonisch consult Consult Consult, Telefonisch consult Consult, SEH Consult Spoedeisende Hulp Consult, Kliniek: vervolgconsult Consult, Kliniek: vervolgconsult Klinische Brief Klinische Brief'\n",
      " 'Consult, SEH Consult, SEH Consult, SEH Consult, SEH Consult, SEH Consult, SEH Consult, SEH Consult, SEH Consult, SEH Consult, Overige aantekeningen Consult Consult Consult, Polikliniek: vervolgconsult Consult Consult, Overige aantekeningen Consult, Overige aantekeningen Consult, Polikliniek: vervolgconsult Consult Consult, Polikliniek: vervolgconsult Consult Consult, SEH Consult, SEH Consult, Polikliniek: vervolgconsult Consult Consult, Polikliniek: vervolgconsult Consult Consult, Polikliniek: vervolgconsult Consult Consult, Polikliniek: vervolgconsult Consult Consult, Polikliniek: vervolgconsult Consult Consult, Overige aantekeningen Consult, Polikliniek: vervolgconsult Consult Consult, SEH Consult, SEH Consult, SEH Consult, Kliniek: eerste consult Consult, Kliniek: vervolgconsult Consult Consult, Kliniek: vervolgconsult Consult Consult Consult, Kliniek: vervolgconsult Consult Consult, Kliniek: vervolgconsult Consult Consult Consult, Polikliniek: vervolgconsult Consult, Polikliniek: vervolgconsult Consult Consult Consult, Overige aantekeningen Consult, Multidisciplinair overleg Consult, Polikliniek: eerste consult Consult Consult, Polikliniek: vervolgconsult Consult, SEH Consult, SEH Consult, Kliniek: eerste consult Consult, Kliniek: vervolgconsult Consult Consult, Polikliniek: vervolgconsult Consult Consult, Polikliniek: vervolgconsult Consult, Polikliniek: vervolgconsult Consult, Polikliniek: vervolgconsult Consult, Polikliniek: vervolgconsult Consult, Polikliniek: vervolgconsult Poliklinische Brief Consult, Polikliniek: vervolgconsult Consult, Polikliniek: vervolgconsult Algemeen Consult, Polikliniek: eerste consult Algemeen Consult, Polikliniek: vervolgconsult Consult, Polikliniek: vervolgconsult Poliklinische Brief Consult, Polikliniek: vervolgconsult Consult, SEH Spoedeisende Hulp Spoedeisende Hulp Consult, Kliniek: vervolgconsult Klinische Brief Consult, Kliniek: vervolgconsult Consult, Kliniek: vervolgconsult Consult, Telefonisch consult Consult, Telefonisch consult Consult, Telefonisch consult Poliklinische Brief Consult, SEH Spoedeisende Hulp Consult, Kliniek: vervolgconsult Consult, Kliniek: vervolgconsult Consult, Kliniek: vervolgconsult Consult, Kliniek: vervolgconsult Consult, Kliniek: vervolgconsult Consult, Kliniek: vervolgconsult Consult, Kliniek: vervolgconsult Klinische Brief Klinische Brief Consult, Kliniek: vervolgconsult Consult, Kliniek: vervolgconsult Consult, Kliniek: vervolgconsult Consult, Kliniek: vervolgconsult Consult, Kliniek: vervolgconsult Klinische Brief Consult, Kliniek: vervolgconsult Consult, Kliniek: vervolgconsult Klinische Brief'\n",
      " 'Consult, SEH Consult, SEH Consult, Kliniek: vervolgconsult Consult, Kliniek: vervolgconsult Consult, Polikliniek: vervolgconsult Consult Consult, Kliniek: vervolgconsult Consult, Kliniek: vervolgconsult Consult, Kliniek: vervolgconsult Consult, Polikliniek: vervolgconsult Consult Consult, Kliniek: vervolgconsult Consult, Kliniek: vervolgconsult Consult, Kliniek: vervolgconsult Consult, Polikliniek: vervolgconsult Consult, Kliniek: vervolgconsult Consult, Polikliniek: vervolgconsult Consult Consult, Kliniek: vervolgconsult Consult, Kliniek: vervolgconsult Consult, Overige aantekeningen Consult, Kliniek: vervolgconsult Consult, Polikliniek: vervolgconsult Consult Consult, Overige aantekeningen Consult, Kliniek: vervolgconsult Consult, Polikliniek: vervolgconsult Consult Consult Consult, Kliniek: vervolgconsult Consult, Polikliniek: vervolgconsult Consult Consult, Polikliniek: vervolgconsult Consult Consult, Kliniek: vervolgconsult Consult, Polikliniek: vervolgconsult Consult, Kliniek: vervolgconsult Consult, Kliniek: vervolgconsult Consult Consult, SEH Consult, SEH Consult, Kliniek: vervolgconsult Consult, Polikliniek: vervolgconsult Consult, Kliniek: vervolgconsult Consult, Polikliniek: vervolgconsult Consult Consult, Overige aantekeningen Consult, Kliniek: vervolgconsult Consult, Polikliniek: vervolgconsult Consult, Kliniek: vervolgconsult Consult, Kliniek: vervolgconsult Consult, SEH Consult, SEH Consult, SEH Consult, Overige aantekeningen Consult, Overige aantekeningen Consult, Kliniek: vervolgconsult Consult Consult, Overige aantekeningen Consult Consult, Polikliniek: eerste consult Consult, Kliniek: vervolgconsult Consult Consult Consult, Polikliniek: vervolgconsult Consult Consult Consult Consult, Polikliniek: vervolgconsult Consult, Kliniek: vervolgconsult Consult, Kliniek: vervolgconsult Consult, Polikliniek: vervolgconsult Consult Consult, Polikliniek: vervolgconsult Consult, Overige aantekeningen Consult, Kliniek: vervolgconsult Consult, Kliniek: vervolgconsult Consult, Kliniek: vervolgconsult Consult Consult, Overige aantekeningen Consult, Polikliniek: vervolgconsult Consult Consult Consult Consult Consult, Polikliniek: vervolgconsult Consult Consult, Overige aantekeningen Consult, Polikliniek: vervolgconsult Consult Consult, Kliniek: vervolgconsult Consult, Polikliniek: vervolgconsult Consult, Overige aantekeningen Consult, Polikliniek: vervolgconsult Consult Consult, Overige aantekeningen Consult, Kliniek: vervolgconsult Consult, Kliniek: vervolgconsult Consult, Kliniek: vervolgconsult Consult, Polikliniek: vervolgconsult Consult Consult, Polikliniek: vervolgconsult Consult, Kliniek: vervolgconsult Consult, Kliniek: vervolgconsult Consult, SEH Consult, Polikliniek: vervolgconsult Consult Consult, Telefonisch consult Consult, SEH Consult, Polikliniek: vervolgconsult Consult, Polikliniek: vervolgconsult Consult, Polikliniek: vervolgconsult Consult, Polikliniek: vervolgconsult Poliklinische Brief Consult, Overige aantekeningen Consult, Polikliniek: vervolgconsult Consult, Overige aantekeningen Consult, Polikliniek: vervolgconsult Consult, Polikliniek: vervolgconsult Consult, Polikliniek: vervolgconsult Consult, Polikliniek: vervolgconsult Consult, Polikliniek: vervolgconsult Consult, Polikliniek: vervolgconsult Consult, Polikliniek: vervolgconsult Consult, Polikliniek: vervolgconsult Consult, Overige aantekeningen Consult, Polikliniek: vervolgconsult Consult, Polikliniek: vervolgconsult Consult, Polikliniek: vervolgconsult Consult, Polikliniek: vervolgconsult Consult, Polikliniek: vervolgconsult Consult, Polikliniek: vervolgconsult Consult, Polikliniek: vervolgconsult Consult, Polikliniek: vervolgconsult Consult, Polikliniek: vervolgconsult Consult, Polikliniek: vervolgconsult Consult, Polikliniek: vervolgconsult Consult, Polikliniek: vervolgconsult Poliklinische Brief Consult, Polikliniek: vervolgconsult Consult, Polikliniek: vervolgconsult Consult, Polikliniek: vervolgconsult Consult, Polikliniek: vervolgconsult Consult, Polikliniek: vervolgconsult Consult, Polikliniek: vervolgconsult Consult, Polikliniek: vervolgconsult Consult, Polikliniek: eerste consult Consult, Polikliniek: vervolgconsult Consult, SEH Consult, SEH Spoedeisende Hulp Consult, Kliniek: vervolgconsult Consult, Kliniek: vervolgconsult Consult, Kliniek: vervolgconsult Consult, Kliniek: vervolgconsult Consult, Kliniek: vervolgconsult Consult, Kliniek: vervolgconsult Consult, Kliniek: vervolgconsult Consult, Kliniek: vervolgconsult Algemeen Consult, Kliniek: vervolgconsult Consult, Kliniek: vervolgconsult Algemeen Consult, Polikliniek: vervolgconsult'\n",
      " 'Consult, SEH Consult, SEH Consult, SEH Consult, Kliniek: vervolgconsult Consult Consult, SEH Consult, SEH Consult, SEH Consult, Kliniek: eerste consult Consult, Kliniek: vervolgconsult Consult Consult, Kliniek: vervolgconsult Consult Consult, Kliniek: vervolgconsult Consult Consult, Kliniek: vervolgconsult Consult Consult, Kliniek: vervolgconsult Consult Consult, Kliniek: vervolgconsult Consult Consult, Kliniek: vervolgconsult Consult Consult, Kliniek: vervolgconsult Consult Consult, Kliniek: vervolgconsult Consult Consult, Kliniek: vervolgconsult Consult Consult, Kliniek: vervolgconsult Consult Consult, Kliniek: vervolgconsult Consult Consult, Kliniek: vervolgconsult Consult Consult, Kliniek: vervolgconsult Consult Consult, Kliniek: vervolgconsult Consult Consult, Kliniek: vervolgconsult Consult Consult, SEH Consult, SEH Consult, Kliniek: vervolgconsult Consult Consult, Kliniek: eerste consult Consult, Kliniek: vervolgconsult Consult Consult Consult Consult Consult, Kliniek: vervolgconsult Consult Consult, Kliniek: vervolgconsult Consult Consult, Kliniek: vervolgconsult Consult Consult, SEH Consult, SEH Consult, Kliniek: eerste consult Consult, Kliniek: vervolgconsult Consult Consult, Kliniek: vervolgconsult Consult Consult, SEH Spoedeisende Hulp']\n"
     ]
    },
    {
     "data": {
      "application/vnd.plotly.v1+json": {
       "config": {
        "plotlyServerURL": "https://plot.ly"
       },
       "data": [
        {
         "link": {
          "source": [
           0,
           0,
           0,
           0,
           0
          ],
          "target": [
           1,
           2,
           3,
           4,
           5,
           6,
           7,
           8,
           9,
           10,
           11,
           12,
           13,
           14,
           15,
           16,
           17,
           18,
           19,
           20,
           21,
           22,
           23,
           24,
           25,
           26,
           27,
           28,
           29,
           30,
           31,
           32,
           33,
           34,
           35,
           36,
           37,
           38,
           39,
           40,
           41,
           42,
           43,
           44,
           45,
           46,
           47,
           48,
           49,
           50,
           51,
           52,
           53,
           54,
           55,
           56,
           57,
           58,
           59,
           60,
           61,
           62,
           63,
           64,
           65,
           66,
           67,
           68,
           69,
           70,
           71,
           72,
           73,
           74,
           75,
           76,
           77,
           78,
           79,
           80,
           81,
           82
          ],
          "value": [
           1,
           1,
           1,
           1,
           1
          ]
         },
         "node": {
          "label": [
           "Start",
           "Step 1",
           "Step 2",
           "Step 3",
           "Step 4",
           "Step 5",
           "Step 6",
           "Step 7",
           "Step 8",
           "Step 9",
           "Step 10",
           "Step 11",
           "Step 12",
           "Step 13",
           "Step 14",
           "Step 15",
           "Step 16",
           "Step 17",
           "Step 18",
           "Step 19",
           "Step 20",
           "Step 21",
           "Step 22",
           "Step 23",
           "Step 24",
           "Step 25",
           "Step 26",
           "Step 27",
           "Step 28",
           "Step 29",
           "Step 30",
           "Step 31",
           "Step 32",
           "Step 33",
           "Step 34",
           "Step 35",
           "Step 36",
           "Step 37",
           "Step 38",
           "Step 39",
           "Step 40",
           "Step 41",
           "Step 42",
           "Step 43",
           "Step 44",
           "Step 45",
           "Step 46",
           "Step 47",
           "Step 48",
           "Step 49",
           "Step 50",
           "Step 51",
           "Step 52",
           "Step 53",
           "Step 54",
           "Step 55",
           "Step 56",
           "Step 57",
           "Step 58",
           "Step 59",
           "Step 60",
           "Step 61",
           "Step 62",
           "Step 63",
           "Step 64",
           "Step 65",
           "Step 66",
           "Step 67",
           "Step 68",
           "Step 69",
           "Step 70",
           "Step 71",
           "Step 72",
           "Step 73",
           "Step 74",
           "Step 75",
           "Step 76",
           "Step 77",
           "Step 78",
           "Step 79",
           "Step 80",
           "Step 81",
           "Step 82"
          ],
          "pad": 15,
          "thickness": 20
         },
         "type": "sankey"
        },
        {
         "link": {
          "source": [
           0,
           0,
           0,
           0,
           0
          ],
          "target": [
           1,
           2,
           3,
           4,
           5,
           6,
           7,
           8,
           9,
           10,
           11,
           12,
           13,
           14,
           15,
           16,
           17,
           18,
           19,
           20,
           21,
           22,
           23,
           24,
           25,
           26,
           27,
           28,
           29,
           30,
           31,
           32,
           33,
           34,
           35,
           36,
           37,
           38,
           39,
           40,
           41,
           42,
           43,
           44,
           45,
           46,
           47,
           48,
           49,
           50,
           51,
           52,
           53,
           54,
           55,
           56,
           57,
           58,
           59,
           60,
           61,
           62,
           63,
           64,
           65,
           66,
           67,
           68,
           69,
           70,
           71,
           72,
           73,
           74,
           75,
           76,
           77,
           78,
           79,
           80,
           81,
           82,
           83,
           84,
           85,
           86,
           87,
           88,
           89,
           90,
           91,
           92,
           93,
           94,
           95,
           96,
           97,
           98,
           99,
           100,
           101,
           102,
           103,
           104,
           105,
           106,
           107,
           108,
           109,
           110,
           111,
           112,
           113,
           114,
           115,
           116,
           117,
           118,
           119,
           120,
           121,
           122,
           123,
           124,
           125,
           126,
           127,
           128,
           129,
           130,
           131,
           132,
           133,
           134,
           135,
           136,
           137,
           138,
           139,
           140,
           141,
           142,
           143,
           144,
           145,
           146,
           147
          ],
          "value": [
           1,
           1,
           1,
           1,
           1
          ]
         },
         "node": {
          "label": [
           "Start",
           "Step 1",
           "Step 2",
           "Step 3",
           "Step 4",
           "Step 5",
           "Step 6",
           "Step 7",
           "Step 8",
           "Step 9",
           "Step 10",
           "Step 11",
           "Step 12",
           "Step 13",
           "Step 14",
           "Step 15",
           "Step 16",
           "Step 17",
           "Step 18",
           "Step 19",
           "Step 20",
           "Step 21",
           "Step 22",
           "Step 23",
           "Step 24",
           "Step 25",
           "Step 26",
           "Step 27",
           "Step 28",
           "Step 29",
           "Step 30",
           "Step 31",
           "Step 32",
           "Step 33",
           "Step 34",
           "Step 35",
           "Step 36",
           "Step 37",
           "Step 38",
           "Step 39",
           "Step 40",
           "Step 41",
           "Step 42",
           "Step 43",
           "Step 44",
           "Step 45",
           "Step 46",
           "Step 47",
           "Step 48",
           "Step 49",
           "Step 50",
           "Step 51",
           "Step 52",
           "Step 53",
           "Step 54",
           "Step 55",
           "Step 56",
           "Step 57",
           "Step 58",
           "Step 59",
           "Step 60",
           "Step 61",
           "Step 62",
           "Step 63",
           "Step 64",
           "Step 65",
           "Step 66",
           "Step 67",
           "Step 68",
           "Step 69",
           "Step 70",
           "Step 71",
           "Step 72",
           "Step 73",
           "Step 74",
           "Step 75",
           "Step 76",
           "Step 77",
           "Step 78",
           "Step 79",
           "Step 80",
           "Step 81",
           "Step 82",
           "Step 83",
           "Step 84",
           "Step 85",
           "Step 86",
           "Step 87",
           "Step 88",
           "Step 89",
           "Step 90",
           "Step 91",
           "Step 92",
           "Step 93",
           "Step 94",
           "Step 95",
           "Step 96",
           "Step 97",
           "Step 98",
           "Step 99",
           "Step 100",
           "Step 101",
           "Step 102",
           "Step 103",
           "Step 104",
           "Step 105",
           "Step 106",
           "Step 107",
           "Step 108",
           "Step 109",
           "Step 110",
           "Step 111",
           "Step 112",
           "Step 113",
           "Step 114",
           "Step 115",
           "Step 116",
           "Step 117",
           "Step 118",
           "Step 119",
           "Step 120",
           "Step 121",
           "Step 122",
           "Step 123",
           "Step 124",
           "Step 125",
           "Step 126",
           "Step 127",
           "Step 128",
           "Step 129",
           "Step 130",
           "Step 131",
           "Step 132",
           "Step 133",
           "Step 134",
           "Step 135",
           "Step 136",
           "Step 137",
           "Step 138",
           "Step 139",
           "Step 140",
           "Step 141",
           "Step 142",
           "Step 143",
           "Step 144",
           "Step 145",
           "Step 146",
           "Step 147"
          ],
          "pad": 15,
          "thickness": 20
         },
         "type": "sankey"
        },
        {
         "link": {
          "source": [
           0,
           0,
           0,
           0,
           0
          ],
          "target": [
           1,
           2,
           3,
           4,
           5,
           6,
           7,
           8,
           9,
           10,
           11,
           12,
           13,
           14,
           15,
           16,
           17,
           18,
           19,
           20,
           21,
           22,
           23,
           24,
           25,
           26,
           27,
           28,
           29,
           30,
           31,
           32,
           33,
           34,
           35,
           36,
           37,
           38,
           39,
           40,
           41,
           42,
           43,
           44,
           45,
           46,
           47,
           48,
           49,
           50,
           51,
           52,
           53,
           54,
           55,
           56,
           57,
           58,
           59,
           60,
           61,
           62,
           63,
           64,
           65,
           66,
           67,
           68,
           69,
           70,
           71,
           72,
           73,
           74,
           75,
           76,
           77,
           78,
           79,
           80,
           81,
           82,
           83,
           84,
           85,
           86,
           87,
           88,
           89,
           90,
           91,
           92,
           93,
           94,
           95,
           96,
           97,
           98,
           99,
           100,
           101,
           102,
           103,
           104,
           105,
           106,
           107,
           108,
           109,
           110,
           111,
           112,
           113,
           114,
           115,
           116,
           117,
           118,
           119,
           120,
           121,
           122,
           123,
           124,
           125,
           126,
           127,
           128,
           129,
           130,
           131,
           132,
           133,
           134,
           135,
           136,
           137,
           138,
           139,
           140,
           141,
           142,
           143,
           144,
           145,
           146,
           147,
           148,
           149,
           150,
           151,
           152,
           153,
           154,
           155,
           156,
           157,
           158,
           159,
           160,
           161,
           162,
           163,
           164,
           165,
           166,
           167,
           168,
           169,
           170,
           171,
           172,
           173,
           174,
           175,
           176,
           177,
           178,
           179,
           180,
           181,
           182,
           183,
           184,
           185,
           186,
           187,
           188,
           189,
           190,
           191,
           192,
           193,
           194,
           195,
           196,
           197,
           198,
           199,
           200,
           201,
           202,
           203,
           204,
           205,
           206,
           207,
           208,
           209,
           210,
           211,
           212,
           213,
           214,
           215,
           216,
           217,
           218,
           219,
           220,
           221,
           222,
           223,
           224,
           225,
           226,
           227,
           228,
           229,
           230,
           231,
           232,
           233,
           234,
           235,
           236,
           237,
           238,
           239,
           240,
           241,
           242,
           243,
           244,
           245,
           246,
           247,
           248,
           249,
           250,
           251,
           252,
           253,
           254,
           255,
           256,
           257,
           258,
           259,
           260,
           261,
           262,
           263,
           264,
           265,
           266,
           267,
           268,
           269,
           270,
           271,
           272,
           273,
           274,
           275,
           276,
           277,
           278,
           279,
           280,
           281,
           282,
           283,
           284,
           285,
           286,
           287,
           288,
           289,
           290,
           291,
           292,
           293,
           294,
           295,
           296,
           297,
           298,
           299,
           300,
           301,
           302,
           303,
           304,
           305,
           306,
           307,
           308,
           309,
           310,
           311,
           312,
           313,
           314,
           315,
           316,
           317,
           318,
           319,
           320,
           321,
           322,
           323,
           324,
           325,
           326,
           327,
           328,
           329,
           330,
           331,
           332,
           333,
           334,
           335,
           336,
           337,
           338,
           339,
           340,
           341,
           342,
           343,
           344,
           345,
           346,
           347,
           348,
           349,
           350,
           351,
           352,
           353,
           354,
           355,
           356,
           357,
           358,
           359,
           360,
           361,
           362,
           363,
           364,
           365,
           366,
           367,
           368,
           369,
           370,
           371,
           372,
           373,
           374,
           375,
           376,
           377,
           378,
           379,
           380,
           381,
           382,
           383,
           384,
           385,
           386,
           387,
           388,
           389,
           390,
           391,
           392,
           393,
           394,
           395,
           396,
           397,
           398,
           399,
           400,
           401,
           402,
           403,
           404,
           405,
           406,
           407,
           408,
           409,
           410,
           411,
           412,
           413,
           414,
           415,
           416,
           417,
           418,
           419,
           420,
           421,
           422,
           423,
           424,
           425,
           426,
           427,
           428,
           429,
           430,
           431,
           432,
           433,
           434,
           435,
           436,
           437,
           438,
           439,
           440,
           441,
           442,
           443,
           444,
           445,
           446,
           447,
           448,
           449,
           450,
           451,
           452,
           453,
           454,
           455,
           456,
           457,
           458,
           459,
           460,
           461,
           462
          ],
          "value": [
           1,
           1,
           1,
           1,
           1
          ]
         },
         "node": {
          "label": [
           "Start",
           "Step 1",
           "Step 2",
           "Step 3",
           "Step 4",
           "Step 5",
           "Step 6",
           "Step 7",
           "Step 8",
           "Step 9",
           "Step 10",
           "Step 11",
           "Step 12",
           "Step 13",
           "Step 14",
           "Step 15",
           "Step 16",
           "Step 17",
           "Step 18",
           "Step 19",
           "Step 20",
           "Step 21",
           "Step 22",
           "Step 23",
           "Step 24",
           "Step 25",
           "Step 26",
           "Step 27",
           "Step 28",
           "Step 29",
           "Step 30",
           "Step 31",
           "Step 32",
           "Step 33",
           "Step 34",
           "Step 35",
           "Step 36",
           "Step 37",
           "Step 38",
           "Step 39",
           "Step 40",
           "Step 41",
           "Step 42",
           "Step 43",
           "Step 44",
           "Step 45",
           "Step 46",
           "Step 47",
           "Step 48",
           "Step 49",
           "Step 50",
           "Step 51",
           "Step 52",
           "Step 53",
           "Step 54",
           "Step 55",
           "Step 56",
           "Step 57",
           "Step 58",
           "Step 59",
           "Step 60",
           "Step 61",
           "Step 62",
           "Step 63",
           "Step 64",
           "Step 65",
           "Step 66",
           "Step 67",
           "Step 68",
           "Step 69",
           "Step 70",
           "Step 71",
           "Step 72",
           "Step 73",
           "Step 74",
           "Step 75",
           "Step 76",
           "Step 77",
           "Step 78",
           "Step 79",
           "Step 80",
           "Step 81",
           "Step 82",
           "Step 83",
           "Step 84",
           "Step 85",
           "Step 86",
           "Step 87",
           "Step 88",
           "Step 89",
           "Step 90",
           "Step 91",
           "Step 92",
           "Step 93",
           "Step 94",
           "Step 95",
           "Step 96",
           "Step 97",
           "Step 98",
           "Step 99",
           "Step 100",
           "Step 101",
           "Step 102",
           "Step 103",
           "Step 104",
           "Step 105",
           "Step 106",
           "Step 107",
           "Step 108",
           "Step 109",
           "Step 110",
           "Step 111",
           "Step 112",
           "Step 113",
           "Step 114",
           "Step 115",
           "Step 116",
           "Step 117",
           "Step 118",
           "Step 119",
           "Step 120",
           "Step 121",
           "Step 122",
           "Step 123",
           "Step 124",
           "Step 125",
           "Step 126",
           "Step 127",
           "Step 128",
           "Step 129",
           "Step 130",
           "Step 131",
           "Step 132",
           "Step 133",
           "Step 134",
           "Step 135",
           "Step 136",
           "Step 137",
           "Step 138",
           "Step 139",
           "Step 140",
           "Step 141",
           "Step 142",
           "Step 143",
           "Step 144",
           "Step 145",
           "Step 146",
           "Step 147",
           "Step 148",
           "Step 149",
           "Step 150",
           "Step 151",
           "Step 152",
           "Step 153",
           "Step 154",
           "Step 155",
           "Step 156",
           "Step 157",
           "Step 158",
           "Step 159",
           "Step 160",
           "Step 161",
           "Step 162",
           "Step 163",
           "Step 164",
           "Step 165",
           "Step 166",
           "Step 167",
           "Step 168",
           "Step 169",
           "Step 170",
           "Step 171",
           "Step 172",
           "Step 173",
           "Step 174",
           "Step 175",
           "Step 176",
           "Step 177",
           "Step 178",
           "Step 179",
           "Step 180",
           "Step 181",
           "Step 182",
           "Step 183",
           "Step 184",
           "Step 185",
           "Step 186",
           "Step 187",
           "Step 188",
           "Step 189",
           "Step 190",
           "Step 191",
           "Step 192",
           "Step 193",
           "Step 194",
           "Step 195",
           "Step 196",
           "Step 197",
           "Step 198",
           "Step 199",
           "Step 200",
           "Step 201",
           "Step 202",
           "Step 203",
           "Step 204",
           "Step 205",
           "Step 206",
           "Step 207",
           "Step 208",
           "Step 209",
           "Step 210",
           "Step 211",
           "Step 212",
           "Step 213",
           "Step 214",
           "Step 215",
           "Step 216",
           "Step 217",
           "Step 218",
           "Step 219",
           "Step 220",
           "Step 221",
           "Step 222",
           "Step 223",
           "Step 224",
           "Step 225",
           "Step 226",
           "Step 227",
           "Step 228",
           "Step 229",
           "Step 230",
           "Step 231",
           "Step 232",
           "Step 233",
           "Step 234",
           "Step 235",
           "Step 236",
           "Step 237",
           "Step 238",
           "Step 239",
           "Step 240",
           "Step 241",
           "Step 242",
           "Step 243",
           "Step 244",
           "Step 245",
           "Step 246",
           "Step 247",
           "Step 248",
           "Step 249",
           "Step 250",
           "Step 251",
           "Step 252",
           "Step 253",
           "Step 254",
           "Step 255",
           "Step 256",
           "Step 257",
           "Step 258",
           "Step 259",
           "Step 260",
           "Step 261",
           "Step 262",
           "Step 263",
           "Step 264",
           "Step 265",
           "Step 266",
           "Step 267",
           "Step 268",
           "Step 269",
           "Step 270",
           "Step 271",
           "Step 272",
           "Step 273",
           "Step 274",
           "Step 275",
           "Step 276",
           "Step 277",
           "Step 278",
           "Step 279",
           "Step 280",
           "Step 281",
           "Step 282",
           "Step 283",
           "Step 284",
           "Step 285",
           "Step 286",
           "Step 287",
           "Step 288",
           "Step 289",
           "Step 290",
           "Step 291",
           "Step 292",
           "Step 293",
           "Step 294",
           "Step 295",
           "Step 296",
           "Step 297",
           "Step 298",
           "Step 299",
           "Step 300",
           "Step 301",
           "Step 302",
           "Step 303",
           "Step 304",
           "Step 305",
           "Step 306",
           "Step 307",
           "Step 308",
           "Step 309",
           "Step 310",
           "Step 311",
           "Step 312",
           "Step 313",
           "Step 314",
           "Step 315",
           "Step 316",
           "Step 317",
           "Step 318",
           "Step 319",
           "Step 320",
           "Step 321",
           "Step 322",
           "Step 323",
           "Step 324",
           "Step 325",
           "Step 326",
           "Step 327",
           "Step 328",
           "Step 329",
           "Step 330",
           "Step 331",
           "Step 332",
           "Step 333",
           "Step 334",
           "Step 335",
           "Step 336",
           "Step 337",
           "Step 338",
           "Step 339",
           "Step 340",
           "Step 341",
           "Step 342",
           "Step 343",
           "Step 344",
           "Step 345",
           "Step 346",
           "Step 347",
           "Step 348",
           "Step 349",
           "Step 350",
           "Step 351",
           "Step 352",
           "Step 353",
           "Step 354",
           "Step 355",
           "Step 356",
           "Step 357",
           "Step 358",
           "Step 359",
           "Step 360",
           "Step 361",
           "Step 362",
           "Step 363",
           "Step 364",
           "Step 365",
           "Step 366",
           "Step 367",
           "Step 368",
           "Step 369",
           "Step 370",
           "Step 371",
           "Step 372",
           "Step 373",
           "Step 374",
           "Step 375",
           "Step 376",
           "Step 377",
           "Step 378",
           "Step 379",
           "Step 380",
           "Step 381",
           "Step 382",
           "Step 383",
           "Step 384",
           "Step 385",
           "Step 386",
           "Step 387",
           "Step 388",
           "Step 389",
           "Step 390",
           "Step 391",
           "Step 392",
           "Step 393",
           "Step 394",
           "Step 395",
           "Step 396",
           "Step 397",
           "Step 398",
           "Step 399",
           "Step 400",
           "Step 401",
           "Step 402",
           "Step 403",
           "Step 404",
           "Step 405",
           "Step 406",
           "Step 407",
           "Step 408",
           "Step 409",
           "Step 410",
           "Step 411",
           "Step 412",
           "Step 413",
           "Step 414",
           "Step 415",
           "Step 416",
           "Step 417",
           "Step 418",
           "Step 419",
           "Step 420",
           "Step 421",
           "Step 422",
           "Step 423",
           "Step 424",
           "Step 425",
           "Step 426",
           "Step 427",
           "Step 428",
           "Step 429",
           "Step 430",
           "Step 431",
           "Step 432",
           "Step 433",
           "Step 434",
           "Step 435",
           "Step 436",
           "Step 437",
           "Step 438",
           "Step 439",
           "Step 440",
           "Step 441",
           "Step 442",
           "Step 443",
           "Step 444",
           "Step 445",
           "Step 446",
           "Step 447",
           "Step 448",
           "Step 449",
           "Step 450",
           "Step 451",
           "Step 452",
           "Step 453",
           "Step 454",
           "Step 455",
           "Step 456",
           "Step 457",
           "Step 458",
           "Step 459",
           "Step 460",
           "Step 461",
           "Step 462"
          ],
          "pad": 15,
          "thickness": 20
         },
         "type": "sankey"
        }
       ],
       "layout": {
        "template": {
         "data": {
          "bar": [
           {
            "error_x": {
             "color": "#2a3f5f"
            },
            "error_y": {
             "color": "#2a3f5f"
            },
            "marker": {
             "line": {
              "color": "#E5ECF6",
              "width": 0.5
             },
             "pattern": {
              "fillmode": "overlay",
              "size": 10,
              "solidity": 0.2
             }
            },
            "type": "bar"
           }
          ],
          "barpolar": [
           {
            "marker": {
             "line": {
              "color": "#E5ECF6",
              "width": 0.5
             },
             "pattern": {
              "fillmode": "overlay",
              "size": 10,
              "solidity": 0.2
             }
            },
            "type": "barpolar"
           }
          ],
          "carpet": [
           {
            "aaxis": {
             "endlinecolor": "#2a3f5f",
             "gridcolor": "white",
             "linecolor": "white",
             "minorgridcolor": "white",
             "startlinecolor": "#2a3f5f"
            },
            "baxis": {
             "endlinecolor": "#2a3f5f",
             "gridcolor": "white",
             "linecolor": "white",
             "minorgridcolor": "white",
             "startlinecolor": "#2a3f5f"
            },
            "type": "carpet"
           }
          ],
          "choropleth": [
           {
            "colorbar": {
             "outlinewidth": 0,
             "ticks": ""
            },
            "type": "choropleth"
           }
          ],
          "contour": [
           {
            "colorbar": {
             "outlinewidth": 0,
             "ticks": ""
            },
            "colorscale": [
             [
              0,
              "#0d0887"
             ],
             [
              0.1111111111111111,
              "#46039f"
             ],
             [
              0.2222222222222222,
              "#7201a8"
             ],
             [
              0.3333333333333333,
              "#9c179e"
             ],
             [
              0.4444444444444444,
              "#bd3786"
             ],
             [
              0.5555555555555556,
              "#d8576b"
             ],
             [
              0.6666666666666666,
              "#ed7953"
             ],
             [
              0.7777777777777778,
              "#fb9f3a"
             ],
             [
              0.8888888888888888,
              "#fdca26"
             ],
             [
              1,
              "#f0f921"
             ]
            ],
            "type": "contour"
           }
          ],
          "contourcarpet": [
           {
            "colorbar": {
             "outlinewidth": 0,
             "ticks": ""
            },
            "type": "contourcarpet"
           }
          ],
          "heatmap": [
           {
            "colorbar": {
             "outlinewidth": 0,
             "ticks": ""
            },
            "colorscale": [
             [
              0,
              "#0d0887"
             ],
             [
              0.1111111111111111,
              "#46039f"
             ],
             [
              0.2222222222222222,
              "#7201a8"
             ],
             [
              0.3333333333333333,
              "#9c179e"
             ],
             [
              0.4444444444444444,
              "#bd3786"
             ],
             [
              0.5555555555555556,
              "#d8576b"
             ],
             [
              0.6666666666666666,
              "#ed7953"
             ],
             [
              0.7777777777777778,
              "#fb9f3a"
             ],
             [
              0.8888888888888888,
              "#fdca26"
             ],
             [
              1,
              "#f0f921"
             ]
            ],
            "type": "heatmap"
           }
          ],
          "histogram": [
           {
            "marker": {
             "pattern": {
              "fillmode": "overlay",
              "size": 10,
              "solidity": 0.2
             }
            },
            "type": "histogram"
           }
          ],
          "histogram2d": [
           {
            "colorbar": {
             "outlinewidth": 0,
             "ticks": ""
            },
            "colorscale": [
             [
              0,
              "#0d0887"
             ],
             [
              0.1111111111111111,
              "#46039f"
             ],
             [
              0.2222222222222222,
              "#7201a8"
             ],
             [
              0.3333333333333333,
              "#9c179e"
             ],
             [
              0.4444444444444444,
              "#bd3786"
             ],
             [
              0.5555555555555556,
              "#d8576b"
             ],
             [
              0.6666666666666666,
              "#ed7953"
             ],
             [
              0.7777777777777778,
              "#fb9f3a"
             ],
             [
              0.8888888888888888,
              "#fdca26"
             ],
             [
              1,
              "#f0f921"
             ]
            ],
            "type": "histogram2d"
           }
          ],
          "histogram2dcontour": [
           {
            "colorbar": {
             "outlinewidth": 0,
             "ticks": ""
            },
            "colorscale": [
             [
              0,
              "#0d0887"
             ],
             [
              0.1111111111111111,
              "#46039f"
             ],
             [
              0.2222222222222222,
              "#7201a8"
             ],
             [
              0.3333333333333333,
              "#9c179e"
             ],
             [
              0.4444444444444444,
              "#bd3786"
             ],
             [
              0.5555555555555556,
              "#d8576b"
             ],
             [
              0.6666666666666666,
              "#ed7953"
             ],
             [
              0.7777777777777778,
              "#fb9f3a"
             ],
             [
              0.8888888888888888,
              "#fdca26"
             ],
             [
              1,
              "#f0f921"
             ]
            ],
            "type": "histogram2dcontour"
           }
          ],
          "mesh3d": [
           {
            "colorbar": {
             "outlinewidth": 0,
             "ticks": ""
            },
            "type": "mesh3d"
           }
          ],
          "parcoords": [
           {
            "line": {
             "colorbar": {
              "outlinewidth": 0,
              "ticks": ""
             }
            },
            "type": "parcoords"
           }
          ],
          "pie": [
           {
            "automargin": true,
            "type": "pie"
           }
          ],
          "scatter": [
           {
            "fillpattern": {
             "fillmode": "overlay",
             "size": 10,
             "solidity": 0.2
            },
            "type": "scatter"
           }
          ],
          "scatter3d": [
           {
            "line": {
             "colorbar": {
              "outlinewidth": 0,
              "ticks": ""
             }
            },
            "marker": {
             "colorbar": {
              "outlinewidth": 0,
              "ticks": ""
             }
            },
            "type": "scatter3d"
           }
          ],
          "scattercarpet": [
           {
            "marker": {
             "colorbar": {
              "outlinewidth": 0,
              "ticks": ""
             }
            },
            "type": "scattercarpet"
           }
          ],
          "scattergeo": [
           {
            "marker": {
             "colorbar": {
              "outlinewidth": 0,
              "ticks": ""
             }
            },
            "type": "scattergeo"
           }
          ],
          "scattergl": [
           {
            "marker": {
             "colorbar": {
              "outlinewidth": 0,
              "ticks": ""
             }
            },
            "type": "scattergl"
           }
          ],
          "scattermap": [
           {
            "marker": {
             "colorbar": {
              "outlinewidth": 0,
              "ticks": ""
             }
            },
            "type": "scattermap"
           }
          ],
          "scattermapbox": [
           {
            "marker": {
             "colorbar": {
              "outlinewidth": 0,
              "ticks": ""
             }
            },
            "type": "scattermapbox"
           }
          ],
          "scatterpolar": [
           {
            "marker": {
             "colorbar": {
              "outlinewidth": 0,
              "ticks": ""
             }
            },
            "type": "scatterpolar"
           }
          ],
          "scatterpolargl": [
           {
            "marker": {
             "colorbar": {
              "outlinewidth": 0,
              "ticks": ""
             }
            },
            "type": "scatterpolargl"
           }
          ],
          "scatterternary": [
           {
            "marker": {
             "colorbar": {
              "outlinewidth": 0,
              "ticks": ""
             }
            },
            "type": "scatterternary"
           }
          ],
          "surface": [
           {
            "colorbar": {
             "outlinewidth": 0,
             "ticks": ""
            },
            "colorscale": [
             [
              0,
              "#0d0887"
             ],
             [
              0.1111111111111111,
              "#46039f"
             ],
             [
              0.2222222222222222,
              "#7201a8"
             ],
             [
              0.3333333333333333,
              "#9c179e"
             ],
             [
              0.4444444444444444,
              "#bd3786"
             ],
             [
              0.5555555555555556,
              "#d8576b"
             ],
             [
              0.6666666666666666,
              "#ed7953"
             ],
             [
              0.7777777777777778,
              "#fb9f3a"
             ],
             [
              0.8888888888888888,
              "#fdca26"
             ],
             [
              1,
              "#f0f921"
             ]
            ],
            "type": "surface"
           }
          ],
          "table": [
           {
            "cells": {
             "fill": {
              "color": "#EBF0F8"
             },
             "line": {
              "color": "white"
             }
            },
            "header": {
             "fill": {
              "color": "#C8D4E3"
             },
             "line": {
              "color": "white"
             }
            },
            "type": "table"
           }
          ]
         },
         "layout": {
          "annotationdefaults": {
           "arrowcolor": "#2a3f5f",
           "arrowhead": 0,
           "arrowwidth": 1
          },
          "autotypenumbers": "strict",
          "coloraxis": {
           "colorbar": {
            "outlinewidth": 0,
            "ticks": ""
           }
          },
          "colorscale": {
           "diverging": [
            [
             0,
             "#8e0152"
            ],
            [
             0.1,
             "#c51b7d"
            ],
            [
             0.2,
             "#de77ae"
            ],
            [
             0.3,
             "#f1b6da"
            ],
            [
             0.4,
             "#fde0ef"
            ],
            [
             0.5,
             "#f7f7f7"
            ],
            [
             0.6,
             "#e6f5d0"
            ],
            [
             0.7,
             "#b8e186"
            ],
            [
             0.8,
             "#7fbc41"
            ],
            [
             0.9,
             "#4d9221"
            ],
            [
             1,
             "#276419"
            ]
           ],
           "sequential": [
            [
             0,
             "#0d0887"
            ],
            [
             0.1111111111111111,
             "#46039f"
            ],
            [
             0.2222222222222222,
             "#7201a8"
            ],
            [
             0.3333333333333333,
             "#9c179e"
            ],
            [
             0.4444444444444444,
             "#bd3786"
            ],
            [
             0.5555555555555556,
             "#d8576b"
            ],
            [
             0.6666666666666666,
             "#ed7953"
            ],
            [
             0.7777777777777778,
             "#fb9f3a"
            ],
            [
             0.8888888888888888,
             "#fdca26"
            ],
            [
             1,
             "#f0f921"
            ]
           ],
           "sequentialminus": [
            [
             0,
             "#0d0887"
            ],
            [
             0.1111111111111111,
             "#46039f"
            ],
            [
             0.2222222222222222,
             "#7201a8"
            ],
            [
             0.3333333333333333,
             "#9c179e"
            ],
            [
             0.4444444444444444,
             "#bd3786"
            ],
            [
             0.5555555555555556,
             "#d8576b"
            ],
            [
             0.6666666666666666,
             "#ed7953"
            ],
            [
             0.7777777777777778,
             "#fb9f3a"
            ],
            [
             0.8888888888888888,
             "#fdca26"
            ],
            [
             1,
             "#f0f921"
            ]
           ]
          },
          "colorway": [
           "#636efa",
           "#EF553B",
           "#00cc96",
           "#ab63fa",
           "#FFA15A",
           "#19d3f3",
           "#FF6692",
           "#B6E880",
           "#FF97FF",
           "#FECB52"
          ],
          "font": {
           "color": "#2a3f5f"
          },
          "geo": {
           "bgcolor": "white",
           "lakecolor": "white",
           "landcolor": "#E5ECF6",
           "showlakes": true,
           "showland": true,
           "subunitcolor": "white"
          },
          "hoverlabel": {
           "align": "left"
          },
          "hovermode": "closest",
          "mapbox": {
           "style": "light"
          },
          "paper_bgcolor": "white",
          "plot_bgcolor": "#E5ECF6",
          "polar": {
           "angularaxis": {
            "gridcolor": "white",
            "linecolor": "white",
            "ticks": ""
           },
           "bgcolor": "#E5ECF6",
           "radialaxis": {
            "gridcolor": "white",
            "linecolor": "white",
            "ticks": ""
           }
          },
          "scene": {
           "xaxis": {
            "backgroundcolor": "#E5ECF6",
            "gridcolor": "white",
            "gridwidth": 2,
            "linecolor": "white",
            "showbackground": true,
            "ticks": "",
            "zerolinecolor": "white"
           },
           "yaxis": {
            "backgroundcolor": "#E5ECF6",
            "gridcolor": "white",
            "gridwidth": 2,
            "linecolor": "white",
            "showbackground": true,
            "ticks": "",
            "zerolinecolor": "white"
           },
           "zaxis": {
            "backgroundcolor": "#E5ECF6",
            "gridcolor": "white",
            "gridwidth": 2,
            "linecolor": "white",
            "showbackground": true,
            "ticks": "",
            "zerolinecolor": "white"
           }
          },
          "shapedefaults": {
           "line": {
            "color": "#2a3f5f"
           }
          },
          "ternary": {
           "aaxis": {
            "gridcolor": "white",
            "linecolor": "white",
            "ticks": ""
           },
           "baxis": {
            "gridcolor": "white",
            "linecolor": "white",
            "ticks": ""
           },
           "bgcolor": "#E5ECF6",
           "caxis": {
            "gridcolor": "white",
            "linecolor": "white",
            "ticks": ""
           }
          },
          "title": {
           "x": 0.05
          },
          "xaxis": {
           "automargin": true,
           "gridcolor": "white",
           "linecolor": "white",
           "ticks": "",
           "title": {
            "standoff": 15
           },
           "zerolinecolor": "white",
           "zerolinewidth": 2
          },
          "yaxis": {
           "automargin": true,
           "gridcolor": "white",
           "linecolor": "white",
           "ticks": "",
           "title": {
            "standoff": 15
           },
           "zerolinecolor": "white",
           "zerolinewidth": 2
          }
         }
        },
        "title": {
         "text": "Sankey Diagram of Clustered Patient Journeys"
        }
       }
      }
     },
     "metadata": {},
     "output_type": "display_data"
    }
   ],
   "source": [
    "import plotly.graph_objects as go\n",
    "import numpy as np\n",
    "\n",
    "# Ensure clusters is a NumPy array of integers\n",
    "clusters = np.array(clusters, dtype=int)\n",
    "\n",
    "# Verify the number of clusters\n",
    "num_clusters = len(np.unique(clusters))\n",
    "\n",
    "trace_sentences = np.array(trace_sentences)\n",
    "print(trace_sentences)\n",
    "\n",
    "# Sample patient journey per cluster\n",
    "sample_traces = {i: trace_sentences[clusters == i][:5] for i in range(num_clusters)}\n",
    "\n",
    "# Create Sankey diagram\n",
    "fig = go.Figure()\n",
    "for i, (cluster, traces) in enumerate(sample_traces.items()):\n",
    "    fig.add_trace(go.Sankey(\n",
    "        node=dict(\n",
    "            pad=15, thickness=20,\n",
    "            label=['Start'] + [f'Step {j+1}' for j in range(len(traces[0].split()))]\n",
    "        ),\n",
    "        link=dict(\n",
    "            source=[0] * len(traces),\n",
    "            target=list(range(1, len(traces[0].split()) + 1)),\n",
    "            value=[1] * len(traces)\n",
    "        )\n",
    "    ))\n",
    "\n",
    "fig.update_layout(title_text=\"Sankey Diagram of Clustered Patient Journeys\")\n",
    "fig.show()\n"
   ]
  }
 ],
 "metadata": {
  "kernelspec": {
   "display_name": "Python 3",
   "language": "python",
   "name": "python3"
  },
  "language_info": {
   "codemirror_mode": {
    "name": "ipython",
    "version": 3
   },
   "file_extension": ".py",
   "mimetype": "text/x-python",
   "name": "python",
   "nbconvert_exporter": "python",
   "pygments_lexer": "ipython3",
   "version": "3.11.6"
  }
 },
 "nbformat": 4,
 "nbformat_minor": 2
}
